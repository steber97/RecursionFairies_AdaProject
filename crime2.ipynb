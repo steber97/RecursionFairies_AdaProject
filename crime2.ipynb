{
 "cells": [
  {
   "cell_type": "markdown",
   "metadata": {},
   "source": [
    "# Crime Dataset\n",
    "In this section we are going to explore data coming from https://data.world/ucr/crime-in-us-2016-offenses (login is required though).\n",
    "\n",
    "It is related to all sorts of crimes committed in the United States, with information regarding violent crimes, homicides, robberies, crimes in University campuses and handguns related crimes.\n",
    "\n",
    "We hope that information regarding crime will be helpful to estimate better our Human Development Index by state. (clearly, the higher the crime ratio, the lower the HDI we expect the country will be able to achieve.)"
   ]
  },
  {
   "cell_type": "code",
   "execution_count": 203,
   "metadata": {},
   "outputs": [],
   "source": [
    "import pandas as pd\n",
    "import numpy as np\n",
    "from matplotlib.ticker import MaxNLocator\n",
    "import matplotlib.pyplot as plt\n",
    "import re"
   ]
  },
  {
   "cell_type": "code",
   "execution_count": 204,
   "metadata": {},
   "outputs": [
    {
     "data": {
      "text/html": [
       "<div>\n",
       "<style scoped>\n",
       "    .dataframe tbody tr th:only-of-type {\n",
       "        vertical-align: middle;\n",
       "    }\n",
       "\n",
       "    .dataframe tbody tr th {\n",
       "        vertical-align: top;\n",
       "    }\n",
       "\n",
       "    .dataframe thead th {\n",
       "        text-align: right;\n",
       "    }\n",
       "</style>\n",
       "<table border=\"1\" class=\"dataframe\">\n",
       "  <thead>\n",
       "    <tr style=\"text-align: right;\">\n",
       "      <th></th>\n",
       "      <th>State</th>\n",
       "    </tr>\n",
       "  </thead>\n",
       "  <tbody>\n",
       "    <tr>\n",
       "      <td>0</td>\n",
       "      <td>Alabama</td>\n",
       "    </tr>\n",
       "    <tr>\n",
       "      <td>1</td>\n",
       "      <td>Alaska</td>\n",
       "    </tr>\n",
       "    <tr>\n",
       "      <td>2</td>\n",
       "      <td>Arizona</td>\n",
       "    </tr>\n",
       "    <tr>\n",
       "      <td>3</td>\n",
       "      <td>Arkansas</td>\n",
       "    </tr>\n",
       "    <tr>\n",
       "      <td>4</td>\n",
       "      <td>California</td>\n",
       "    </tr>\n",
       "  </tbody>\n",
       "</table>\n",
       "</div>"
      ],
      "text/plain": [
       "        State\n",
       "0     Alabama\n",
       "1      Alaska\n",
       "2     Arizona\n",
       "3    Arkansas\n",
       "4  California"
      ]
     },
     "execution_count": 204,
     "metadata": {},
     "output_type": "execute_result"
    }
   ],
   "source": [
    "# We start by loading the list of states in the USA\n",
    "# This will come useful when looking for missing values\n",
    "states_json = pd.read_json('Data/states.json')\n",
    "states = []\n",
    "\n",
    "for row in states_json['data']:\n",
    "    states.append(row['State'])\n",
    "    \n",
    "states_df = pd.DataFrame({\"State\": states})\n",
    "states_df.head()"
   ]
  },
  {
   "cell_type": "markdown",
   "metadata": {},
   "source": [
    "### Crime in US by state\n",
    "We start our analysis by loading the dataset Crimes in the US by state\n",
    "It contains information regarding \n",
    "- Murder and  nonnegligent  manslaughter\n",
    "- Rape (revised definition)\n",
    "- Rape (legacy definition)\n",
    "- Robbery\n",
    "- Aggravated assault\n",
    "- Property crime\n",
    "- Burglary\n",
    "- Larceny- theft\n",
    "- Motor  vehicle  theft\n"
   ]
  },
  {
   "cell_type": "code",
   "execution_count": 205,
   "metadata": {},
   "outputs": [],
   "source": [
    "# Read from excel\n",
    "crimes_per_state_df = pd.read_excel(\"Data/crime/Table_3_Crime_in_the_United_States_by_State_2016.xls\", skiprows=3)\n",
    "\n",
    "# get only the columns we are interested in\n",
    "new_df = crimes_per_state_df[(crimes_per_state_df.State.notnull()) | \n",
    "                             (crimes_per_state_df.Area == 'State Total') |\n",
    "                             (crimes_per_state_df.Area == 'Total') |\n",
    "                             (crimes_per_state_df['Unnamed: 2'] == 'Rate per 100,000 inhabitants')\n",
    "                            ].reset_index()"
   ]
  },
  {
   "cell_type": "markdown",
   "metadata": {},
   "source": [
    "We can see that data is put in a pretty confusional way: every country lies on 3 separated lines, the first line has the name only, the second line has the statistics for the entire country, the third has data scaled per 100k inhabitants.\n",
    "\n",
    "We therefore need to convert the data into a uniform line.\n",
    "\n",
    "We start by merging together the first 2 lines for every country.\n",
    "We keep only the country name for the first line, and for everything else we keep the data in the second line."
   ]
  },
  {
   "cell_type": "code",
   "execution_count": 206,
   "metadata": {},
   "outputs": [
    {
     "data": {
      "text/html": [
       "<div>\n",
       "<style scoped>\n",
       "    .dataframe tbody tr th:only-of-type {\n",
       "        vertical-align: middle;\n",
       "    }\n",
       "\n",
       "    .dataframe tbody tr th {\n",
       "        vertical-align: top;\n",
       "    }\n",
       "\n",
       "    .dataframe thead th {\n",
       "        text-align: right;\n",
       "    }\n",
       "</style>\n",
       "<table border=\"1\" class=\"dataframe\">\n",
       "  <thead>\n",
       "    <tr style=\"text-align: right;\">\n",
       "      <th></th>\n",
       "      <th>State</th>\n",
       "      <th>Population</th>\n",
       "      <th>Violent\\ncrime1</th>\n",
       "      <th>Murder and \\nnonnegligent \\nmanslaughter</th>\n",
       "      <th>Rape\\n(revised\\ndefinition)2</th>\n",
       "      <th>Robbery</th>\n",
       "      <th>Aggravated \\nassault</th>\n",
       "      <th>Property \\ncrime</th>\n",
       "      <th>Burglary</th>\n",
       "      <th>Larceny-\\ntheft</th>\n",
       "      <th>Motor \\nvehicle \\ntheft</th>\n",
       "    </tr>\n",
       "  </thead>\n",
       "  <tbody>\n",
       "    <tr>\n",
       "      <td>0</td>\n",
       "      <td>ALABAMA</td>\n",
       "      <td>4863300</td>\n",
       "      <td>532.3</td>\n",
       "      <td>8.4</td>\n",
       "      <td>39.4</td>\n",
       "      <td>96.4</td>\n",
       "      <td>388.2</td>\n",
       "      <td>2947.8</td>\n",
       "      <td>700.5</td>\n",
       "      <td>2006.3</td>\n",
       "      <td>241.1</td>\n",
       "    </tr>\n",
       "    <tr>\n",
       "      <td>1</td>\n",
       "      <td>ALASKA</td>\n",
       "      <td>741894</td>\n",
       "      <td>804.2</td>\n",
       "      <td>7</td>\n",
       "      <td>141.9</td>\n",
       "      <td>114.6</td>\n",
       "      <td>540.6</td>\n",
       "      <td>3353</td>\n",
       "      <td>546.3</td>\n",
       "      <td>2394.7</td>\n",
       "      <td>412.1</td>\n",
       "    </tr>\n",
       "    <tr>\n",
       "      <td>2</td>\n",
       "      <td>ARIZONA</td>\n",
       "      <td>6931071</td>\n",
       "      <td>470.1</td>\n",
       "      <td>5.5</td>\n",
       "      <td>47.5</td>\n",
       "      <td>101.8</td>\n",
       "      <td>315.4</td>\n",
       "      <td>2978.4</td>\n",
       "      <td>544.4</td>\n",
       "      <td>2168.1</td>\n",
       "      <td>265.8</td>\n",
       "    </tr>\n",
       "    <tr>\n",
       "      <td>3</td>\n",
       "      <td>ARKANSAS</td>\n",
       "      <td>2988248</td>\n",
       "      <td>550.9</td>\n",
       "      <td>7.2</td>\n",
       "      <td>71.7</td>\n",
       "      <td>70.9</td>\n",
       "      <td>401</td>\n",
       "      <td>3268.6</td>\n",
       "      <td>795.5</td>\n",
       "      <td>2233.6</td>\n",
       "      <td>239.4</td>\n",
       "    </tr>\n",
       "    <tr>\n",
       "      <td>4</td>\n",
       "      <td>CALIFORNIA</td>\n",
       "      <td>39250017</td>\n",
       "      <td>445.3</td>\n",
       "      <td>4.9</td>\n",
       "      <td>34.9</td>\n",
       "      <td>139.6</td>\n",
       "      <td>265.9</td>\n",
       "      <td>2553</td>\n",
       "      <td>479.8</td>\n",
       "      <td>1623.0</td>\n",
       "      <td>450.3</td>\n",
       "    </tr>\n",
       "  </tbody>\n",
       "</table>\n",
       "</div>"
      ],
      "text/plain": [
       "        State Population Violent\\ncrime1  \\\n",
       "0     ALABAMA    4863300           532.3   \n",
       "1      ALASKA     741894           804.2   \n",
       "2     ARIZONA    6931071           470.1   \n",
       "3    ARKANSAS    2988248           550.9   \n",
       "4  CALIFORNIA   39250017           445.3   \n",
       "\n",
       "  Murder and \\nnonnegligent \\nmanslaughter  Rape\\n(revised\\ndefinition)2   \\\n",
       "0                                      8.4                           39.4   \n",
       "1                                        7                          141.9   \n",
       "2                                      5.5                           47.5   \n",
       "3                                      7.2                           71.7   \n",
       "4                                      4.9                           34.9   \n",
       "\n",
       "   Robbery Aggravated \\nassault Property \\ncrime Burglary  Larceny-\\ntheft  \\\n",
       "0     96.4                388.2           2947.8    700.5           2006.3   \n",
       "1    114.6                540.6             3353    546.3           2394.7   \n",
       "2    101.8                315.4           2978.4    544.4           2168.1   \n",
       "3     70.9                  401           3268.6    795.5           2233.6   \n",
       "4    139.6                265.9             2553    479.8           1623.0   \n",
       "\n",
       "   Motor \\nvehicle \\ntheft  \n",
       "0                    241.1  \n",
       "1                    412.1  \n",
       "2                    265.8  \n",
       "3                    239.4  \n",
       "4                    450.3  "
      ]
     },
     "execution_count": 206,
     "metadata": {},
     "output_type": "execute_result"
    }
   ],
   "source": [
    "# We split the dataset in three different dataframes, that we are going to join together.\n",
    "\n",
    "# first dataframe is the one with states\n",
    "states_row_df = crimes_per_state_df[crimes_per_state_df['State'].notnull()].reset_index()\n",
    "\n",
    "# second dataframe is the one with data per the totality of the state\n",
    "states_total_df = crimes_per_state_df[(crimes_per_state_df['Area'] == 'State Total') | (crimes_per_state_df['Area'] == 'Total')].reset_index()\n",
    "\n",
    "# third dataframe is the one with all other lines\n",
    "states_per_100k_df = crimes_per_state_df[crimes_per_state_df['Unnamed: 2'] == 'Rate per 100,000 inhabitants'].reset_index()\n",
    "\n",
    "crimes_per_state_merged_df = states_row_df[['State']].merge(states_total_df[['Population']], left_index=True, right_index=True)\n",
    "\n",
    "crimes_per_state_merged_df = crimes_per_state_merged_df.merge(states_per_100k_df[['Violent\\ncrime1', 'Murder and \\nnonnegligent \\nmanslaughter', 'Rape\\n(revised\\ndefinition)2 ', 'Robbery', 'Aggravated \\nassault', 'Property \\ncrime', 'Burglary', 'Larceny-\\ntheft', 'Motor \\nvehicle \\ntheft']], left_index=True, right_index=True)\n",
    "crimes_per_state_merged_df.head()\n"
   ]
  },
  {
   "cell_type": "markdown",
   "metadata": {},
   "source": [
    "### Data Analysis\n",
    "First, we need to see if we have missing values"
   ]
  },
  {
   "cell_type": "code",
   "execution_count": 207,
   "metadata": {},
   "outputs": [
    {
     "name": "stdout",
     "output_type": "stream",
     "text": [
      "The shape of our dataset is (52, 11)\n"
     ]
    }
   ],
   "source": [
    "print(\"The shape of our dataset is {}\".format(crimes_per_state_merged_df.shape))"
   ]
  },
  {
   "cell_type": "markdown",
   "metadata": {},
   "source": [
    "Actually, what it seems is that we have even more columns than what we expected! We can try to merge the states with the states_df computed in the first point (using the lowercase version of it)."
   ]
  },
  {
   "cell_type": "code",
   "execution_count": 208,
   "metadata": {},
   "outputs": [],
   "source": [
    "# we compute the lowercase version of the state name in the dataframe state_df\n",
    "states_df['lowercase'] = states_df['State'].apply(lambda x: x.lower())\n",
    "\n",
    "# we compute the lowercase version of the state name in the dataframe crimes_per_state_merged_df (but first we need to remove numbers))\n",
    "crimes_per_state_merged_df['lowercase'] = crimes_per_state_merged_df['State'].apply(lambda x: ''.join([i for i in x if not i.isdigit()]).lower())\n",
    "\n",
    "merged_states = states_df.merge(crimes_per_state_merged_df[['State', 'lowercase']], left_on='lowercase', right_on='lowercase', how='right')"
   ]
  },
  {
   "cell_type": "markdown",
   "metadata": {},
   "source": [
    "We can now spot which one is the wrong value:"
   ]
  },
  {
   "cell_type": "code",
   "execution_count": 209,
   "metadata": {},
   "outputs": [
    {
     "data": {
      "text/html": [
       "<div>\n",
       "<style scoped>\n",
       "    .dataframe tbody tr th:only-of-type {\n",
       "        vertical-align: middle;\n",
       "    }\n",
       "\n",
       "    .dataframe tbody tr th {\n",
       "        vertical-align: top;\n",
       "    }\n",
       "\n",
       "    .dataframe thead th {\n",
       "        text-align: right;\n",
       "    }\n",
       "</style>\n",
       "<table border=\"1\" class=\"dataframe\">\n",
       "  <thead>\n",
       "    <tr style=\"text-align: right;\">\n",
       "      <th></th>\n",
       "      <th>State_x</th>\n",
       "      <th>lowercase</th>\n",
       "      <th>State_y</th>\n",
       "    </tr>\n",
       "  </thead>\n",
       "  <tbody>\n",
       "    <tr>\n",
       "      <td>51</td>\n",
       "      <td>NaN</td>\n",
       "      <td>puerto rico</td>\n",
       "      <td>PUERTO RICO7</td>\n",
       "    </tr>\n",
       "  </tbody>\n",
       "</table>\n",
       "</div>"
      ],
      "text/plain": [
       "   State_x    lowercase       State_y\n",
       "51     NaN  puerto rico  PUERTO RICO7"
      ]
     },
     "execution_count": 209,
     "metadata": {},
     "output_type": "execute_result"
    }
   ],
   "source": [
    "merged_states[pd.isnull(merged_states).any(axis=1)]"
   ]
  },
  {
   "cell_type": "markdown",
   "metadata": {},
   "source": [
    "We can see that the table coming from the crime dataset of the United States contains information regarding Puerto Rico (which is part of the United States, but in a broader way).\n",
    "Therefore we can easily discard it and move on with our analysis."
   ]
  },
  {
   "cell_type": "code",
   "execution_count": 210,
   "metadata": {},
   "outputs": [
    {
     "data": {
      "text/html": [
       "<div>\n",
       "<style scoped>\n",
       "    .dataframe tbody tr th:only-of-type {\n",
       "        vertical-align: middle;\n",
       "    }\n",
       "\n",
       "    .dataframe tbody tr th {\n",
       "        vertical-align: top;\n",
       "    }\n",
       "\n",
       "    .dataframe thead th {\n",
       "        text-align: right;\n",
       "    }\n",
       "</style>\n",
       "<table border=\"1\" class=\"dataframe\">\n",
       "  <thead>\n",
       "    <tr style=\"text-align: right;\">\n",
       "      <th></th>\n",
       "      <th>index</th>\n",
       "      <th>State</th>\n",
       "      <th>Population</th>\n",
       "      <th>Violent\\ncrime1</th>\n",
       "      <th>Murder and \\nnonnegligent \\nmanslaughter</th>\n",
       "      <th>Rape\\n(revised\\ndefinition)2</th>\n",
       "      <th>Robbery</th>\n",
       "      <th>Aggravated \\nassault</th>\n",
       "      <th>Property \\ncrime</th>\n",
       "      <th>Burglary</th>\n",
       "      <th>Larceny-\\ntheft</th>\n",
       "      <th>Motor \\nvehicle \\ntheft</th>\n",
       "      <th>lowercase</th>\n",
       "    </tr>\n",
       "  </thead>\n",
       "  <tbody>\n",
       "    <tr>\n",
       "      <td>0</td>\n",
       "      <td>0</td>\n",
       "      <td>ALABAMA</td>\n",
       "      <td>4863300</td>\n",
       "      <td>532.3</td>\n",
       "      <td>8.4</td>\n",
       "      <td>39.4</td>\n",
       "      <td>96.4</td>\n",
       "      <td>388.2</td>\n",
       "      <td>2947.8</td>\n",
       "      <td>700.5</td>\n",
       "      <td>2006.3</td>\n",
       "      <td>241.1</td>\n",
       "      <td>alabama</td>\n",
       "    </tr>\n",
       "    <tr>\n",
       "      <td>1</td>\n",
       "      <td>1</td>\n",
       "      <td>ALASKA</td>\n",
       "      <td>741894</td>\n",
       "      <td>804.2</td>\n",
       "      <td>7</td>\n",
       "      <td>141.9</td>\n",
       "      <td>114.6</td>\n",
       "      <td>540.6</td>\n",
       "      <td>3353</td>\n",
       "      <td>546.3</td>\n",
       "      <td>2394.7</td>\n",
       "      <td>412.1</td>\n",
       "      <td>alaska</td>\n",
       "    </tr>\n",
       "    <tr>\n",
       "      <td>2</td>\n",
       "      <td>2</td>\n",
       "      <td>ARIZONA</td>\n",
       "      <td>6931071</td>\n",
       "      <td>470.1</td>\n",
       "      <td>5.5</td>\n",
       "      <td>47.5</td>\n",
       "      <td>101.8</td>\n",
       "      <td>315.4</td>\n",
       "      <td>2978.4</td>\n",
       "      <td>544.4</td>\n",
       "      <td>2168.1</td>\n",
       "      <td>265.8</td>\n",
       "      <td>arizona</td>\n",
       "    </tr>\n",
       "    <tr>\n",
       "      <td>3</td>\n",
       "      <td>3</td>\n",
       "      <td>ARKANSAS</td>\n",
       "      <td>2988248</td>\n",
       "      <td>550.9</td>\n",
       "      <td>7.2</td>\n",
       "      <td>71.7</td>\n",
       "      <td>70.9</td>\n",
       "      <td>401</td>\n",
       "      <td>3268.6</td>\n",
       "      <td>795.5</td>\n",
       "      <td>2233.6</td>\n",
       "      <td>239.4</td>\n",
       "      <td>arkansas</td>\n",
       "    </tr>\n",
       "    <tr>\n",
       "      <td>4</td>\n",
       "      <td>4</td>\n",
       "      <td>CALIFORNIA</td>\n",
       "      <td>39250017</td>\n",
       "      <td>445.3</td>\n",
       "      <td>4.9</td>\n",
       "      <td>34.9</td>\n",
       "      <td>139.6</td>\n",
       "      <td>265.9</td>\n",
       "      <td>2553</td>\n",
       "      <td>479.8</td>\n",
       "      <td>1623.0</td>\n",
       "      <td>450.3</td>\n",
       "      <td>california</td>\n",
       "    </tr>\n",
       "  </tbody>\n",
       "</table>\n",
       "</div>"
      ],
      "text/plain": [
       "   index       State Population Violent\\ncrime1  \\\n",
       "0      0     ALABAMA    4863300           532.3   \n",
       "1      1      ALASKA     741894           804.2   \n",
       "2      2     ARIZONA    6931071           470.1   \n",
       "3      3    ARKANSAS    2988248           550.9   \n",
       "4      4  CALIFORNIA   39250017           445.3   \n",
       "\n",
       "  Murder and \\nnonnegligent \\nmanslaughter  Rape\\n(revised\\ndefinition)2   \\\n",
       "0                                      8.4                           39.4   \n",
       "1                                        7                          141.9   \n",
       "2                                      5.5                           47.5   \n",
       "3                                      7.2                           71.7   \n",
       "4                                      4.9                           34.9   \n",
       "\n",
       "   Robbery Aggravated \\nassault Property \\ncrime Burglary  Larceny-\\ntheft  \\\n",
       "0     96.4                388.2           2947.8    700.5           2006.3   \n",
       "1    114.6                540.6             3353    546.3           2394.7   \n",
       "2    101.8                315.4           2978.4    544.4           2168.1   \n",
       "3     70.9                  401           3268.6    795.5           2233.6   \n",
       "4    139.6                265.9             2553    479.8           1623.0   \n",
       "\n",
       "   Motor \\nvehicle \\ntheft   lowercase  \n",
       "0                    241.1     alabama  \n",
       "1                    412.1      alaska  \n",
       "2                    265.8     arizona  \n",
       "3                    239.4    arkansas  \n",
       "4                    450.3  california  "
      ]
     },
     "execution_count": 210,
     "metadata": {},
     "output_type": "execute_result"
    }
   ],
   "source": [
    "df = crimes_per_state_merged_df.drop(crimes_per_state_merged_df[crimes_per_state_merged_df.State == 'PUERTO RICO7'].index, axis=0).reset_index()\n",
    "df.head()"
   ]
  },
  {
   "cell_type": "markdown",
   "metadata": {},
   "source": [
    "## Data formatting\n",
    "We should convert all data into a more reasonable format: for instance, states should be named with the name in the dataframe states_df, and all numbers should be of type float.\n",
    "Moreover, a more reasonable set of names on the columns should be selected!"
   ]
  },
  {
   "cell_type": "code",
   "execution_count": 211,
   "metadata": {},
   "outputs": [
    {
     "data": {
      "text/plain": [
       "index                                         int64\n",
       "State                                        object\n",
       "Population                                   object\n",
       "Violent\\ncrime1                              object\n",
       "Murder and \\nnonnegligent \\nmanslaughter     object\n",
       "Rape\\n(revised\\ndefinition)2                float64\n",
       "Robbery                                     float64\n",
       "Aggravated \\nassault                         object\n",
       "Property \\ncrime                             object\n",
       "Burglary                                     object\n",
       "Larceny-\\ntheft                             float64\n",
       "Motor \\nvehicle \\ntheft                     float64\n",
       "lowercase                                    object\n",
       "dtype: object"
      ]
     },
     "execution_count": 211,
     "metadata": {},
     "output_type": "execute_result"
    }
   ],
   "source": [
    "df.dtypes"
   ]
  },
  {
   "cell_type": "markdown",
   "metadata": {},
   "source": [
    "First, we proceed in renaming the columns: we even substitute the State attribute with the correct one found in state_df"
   ]
  },
  {
   "cell_type": "code",
   "execution_count": 212,
   "metadata": {},
   "outputs": [],
   "source": [
    "df.columns = ['index', 'State', 'Population', 'Violent_Crime', 'Murder_and_Manslaughter', 'Rape', 'Robbery', 'Aggravated_Assoult', 'Property_crime', 'Burglary', 'Theft', 'Motor_Vehicle_theft', 'lowercase']"
   ]
  },
  {
   "cell_type": "code",
   "execution_count": 213,
   "metadata": {},
   "outputs": [],
   "source": [
    "# we use as state column the one used in the state dataframe, so that the names are all equally formatted (we have to merge together different DataFrames at the end of each analysis)\n",
    "df['State'] = states_df.merge(df, left_on='lowercase', right_on='lowercase')['State_x']"
   ]
  },
  {
   "cell_type": "code",
   "execution_count": 214,
   "metadata": {},
   "outputs": [
    {
     "data": {
      "text/html": [
       "<div>\n",
       "<style scoped>\n",
       "    .dataframe tbody tr th:only-of-type {\n",
       "        vertical-align: middle;\n",
       "    }\n",
       "\n",
       "    .dataframe tbody tr th {\n",
       "        vertical-align: top;\n",
       "    }\n",
       "\n",
       "    .dataframe thead th {\n",
       "        text-align: right;\n",
       "    }\n",
       "</style>\n",
       "<table border=\"1\" class=\"dataframe\">\n",
       "  <thead>\n",
       "    <tr style=\"text-align: right;\">\n",
       "      <th></th>\n",
       "      <th>index</th>\n",
       "      <th>State</th>\n",
       "      <th>Population</th>\n",
       "      <th>Violent_Crime</th>\n",
       "      <th>Murder_and_Manslaughter</th>\n",
       "      <th>Rape</th>\n",
       "      <th>Robbery</th>\n",
       "      <th>Aggravated_Assoult</th>\n",
       "      <th>Property_crime</th>\n",
       "      <th>Burglary</th>\n",
       "      <th>Theft</th>\n",
       "      <th>Motor_Vehicle_theft</th>\n",
       "      <th>lowercase</th>\n",
       "    </tr>\n",
       "  </thead>\n",
       "  <tbody>\n",
       "    <tr>\n",
       "      <td>0</td>\n",
       "      <td>0</td>\n",
       "      <td>Alabama</td>\n",
       "      <td>4863300</td>\n",
       "      <td>532.3</td>\n",
       "      <td>8.4</td>\n",
       "      <td>39.4</td>\n",
       "      <td>96.4</td>\n",
       "      <td>388.2</td>\n",
       "      <td>2947.8</td>\n",
       "      <td>700.5</td>\n",
       "      <td>2006.3</td>\n",
       "      <td>241.1</td>\n",
       "      <td>alabama</td>\n",
       "    </tr>\n",
       "    <tr>\n",
       "      <td>1</td>\n",
       "      <td>1</td>\n",
       "      <td>Alaska</td>\n",
       "      <td>741894</td>\n",
       "      <td>804.2</td>\n",
       "      <td>7</td>\n",
       "      <td>141.9</td>\n",
       "      <td>114.6</td>\n",
       "      <td>540.6</td>\n",
       "      <td>3353</td>\n",
       "      <td>546.3</td>\n",
       "      <td>2394.7</td>\n",
       "      <td>412.1</td>\n",
       "      <td>alaska</td>\n",
       "    </tr>\n",
       "    <tr>\n",
       "      <td>2</td>\n",
       "      <td>2</td>\n",
       "      <td>Arizona</td>\n",
       "      <td>6931071</td>\n",
       "      <td>470.1</td>\n",
       "      <td>5.5</td>\n",
       "      <td>47.5</td>\n",
       "      <td>101.8</td>\n",
       "      <td>315.4</td>\n",
       "      <td>2978.4</td>\n",
       "      <td>544.4</td>\n",
       "      <td>2168.1</td>\n",
       "      <td>265.8</td>\n",
       "      <td>arizona</td>\n",
       "    </tr>\n",
       "    <tr>\n",
       "      <td>3</td>\n",
       "      <td>3</td>\n",
       "      <td>Arkansas</td>\n",
       "      <td>2988248</td>\n",
       "      <td>550.9</td>\n",
       "      <td>7.2</td>\n",
       "      <td>71.7</td>\n",
       "      <td>70.9</td>\n",
       "      <td>401</td>\n",
       "      <td>3268.6</td>\n",
       "      <td>795.5</td>\n",
       "      <td>2233.6</td>\n",
       "      <td>239.4</td>\n",
       "      <td>arkansas</td>\n",
       "    </tr>\n",
       "    <tr>\n",
       "      <td>4</td>\n",
       "      <td>4</td>\n",
       "      <td>California</td>\n",
       "      <td>39250017</td>\n",
       "      <td>445.3</td>\n",
       "      <td>4.9</td>\n",
       "      <td>34.9</td>\n",
       "      <td>139.6</td>\n",
       "      <td>265.9</td>\n",
       "      <td>2553</td>\n",
       "      <td>479.8</td>\n",
       "      <td>1623.0</td>\n",
       "      <td>450.3</td>\n",
       "      <td>california</td>\n",
       "    </tr>\n",
       "  </tbody>\n",
       "</table>\n",
       "</div>"
      ],
      "text/plain": [
       "   index       State Population Violent_Crime Murder_and_Manslaughter   Rape  \\\n",
       "0      0     Alabama    4863300         532.3                     8.4   39.4   \n",
       "1      1      Alaska     741894         804.2                       7  141.9   \n",
       "2      2     Arizona    6931071         470.1                     5.5   47.5   \n",
       "3      3    Arkansas    2988248         550.9                     7.2   71.7   \n",
       "4      4  California   39250017         445.3                     4.9   34.9   \n",
       "\n",
       "   Robbery Aggravated_Assoult Property_crime Burglary   Theft  \\\n",
       "0     96.4              388.2         2947.8    700.5  2006.3   \n",
       "1    114.6              540.6           3353    546.3  2394.7   \n",
       "2    101.8              315.4         2978.4    544.4  2168.1   \n",
       "3     70.9                401         3268.6    795.5  2233.6   \n",
       "4    139.6              265.9           2553    479.8  1623.0   \n",
       "\n",
       "   Motor_Vehicle_theft   lowercase  \n",
       "0                241.1     alabama  \n",
       "1                412.1      alaska  \n",
       "2                265.8     arizona  \n",
       "3                239.4    arkansas  \n",
       "4                450.3  california  "
      ]
     },
     "execution_count": 214,
     "metadata": {},
     "output_type": "execute_result"
    }
   ],
   "source": [
    "df.head()"
   ]
  },
  {
   "cell_type": "markdown",
   "metadata": {},
   "source": [
    "As we can see, only a few columns have numerical features. Therefore we have to convert them.\n"
   ]
  },
  {
   "cell_type": "code",
   "execution_count": 215,
   "metadata": {},
   "outputs": [
    {
     "data": {
      "text/plain": [
       "index                        int64\n",
       "State                       object\n",
       "Population                  object\n",
       "Violent_Crime               object\n",
       "Murder_and_Manslaughter     object\n",
       "Rape                       float64\n",
       "Robbery                    float64\n",
       "Aggravated_Assoult          object\n",
       "Property_crime              object\n",
       "Burglary                    object\n",
       "Theft                      float64\n",
       "Motor_Vehicle_theft        float64\n",
       "lowercase                   object\n",
       "dtype: object"
      ]
     },
     "execution_count": 215,
     "metadata": {},
     "output_type": "execute_result"
    }
   ],
   "source": [
    "df.dtypes"
   ]
  },
  {
   "cell_type": "code",
   "execution_count": 216,
   "metadata": {},
   "outputs": [
    {
     "name": "stdout",
     "output_type": "stream",
     "text": [
      "(51, 12)\n"
     ]
    }
   ],
   "source": [
    "# Convert string features to numbers (int or float)\n",
    "df.Population = df['Population'].apply(lambda x: int(x))\n",
    "df.Violent_Crime = df.Violent_Crime.apply(lambda x: float(x))\n",
    "df.Murder_and_Manslaughter = df.Murder_and_Manslaughter.apply(lambda x: float(x))\n",
    "df.Aggravated_Assoult = df.Aggravated_Assoult.apply(lambda x: float(x))\n",
    "df.Property_crime = df.Property_crime.apply(lambda x: float(x))\n",
    "df.Burglary = df.Burglary.apply(lambda x: float(x))\n",
    "\n",
    "# Drop lowercase column, used only to merge with state dataframe\n",
    "df = df.drop(['lowercase'], axis=1)\n",
    "\n",
    "print(df.shape)"
   ]
  },
  {
   "cell_type": "markdown",
   "metadata": {},
   "source": [
    "## Null values\n",
    "We can start now looking for missing data"
   ]
  },
  {
   "cell_type": "code",
   "execution_count": 217,
   "metadata": {},
   "outputs": [
    {
     "data": {
      "text/html": [
       "<div>\n",
       "<style scoped>\n",
       "    .dataframe tbody tr th:only-of-type {\n",
       "        vertical-align: middle;\n",
       "    }\n",
       "\n",
       "    .dataframe tbody tr th {\n",
       "        vertical-align: top;\n",
       "    }\n",
       "\n",
       "    .dataframe thead th {\n",
       "        text-align: right;\n",
       "    }\n",
       "</style>\n",
       "<table border=\"1\" class=\"dataframe\">\n",
       "  <thead>\n",
       "    <tr style=\"text-align: right;\">\n",
       "      <th></th>\n",
       "      <th>index</th>\n",
       "      <th>State</th>\n",
       "      <th>Population</th>\n",
       "      <th>Violent_Crime</th>\n",
       "      <th>Murder_and_Manslaughter</th>\n",
       "      <th>Rape</th>\n",
       "      <th>Robbery</th>\n",
       "      <th>Aggravated_Assoult</th>\n",
       "      <th>Property_crime</th>\n",
       "      <th>Burglary</th>\n",
       "      <th>Theft</th>\n",
       "      <th>Motor_Vehicle_theft</th>\n",
       "    </tr>\n",
       "  </thead>\n",
       "  <tbody>\n",
       "  </tbody>\n",
       "</table>\n",
       "</div>"
      ],
      "text/plain": [
       "Empty DataFrame\n",
       "Columns: [index, State, Population, Violent_Crime, Murder_and_Manslaughter, Rape, Robbery, Aggravated_Assoult, Property_crime, Burglary, Theft, Motor_Vehicle_theft]\n",
       "Index: []"
      ]
     },
     "execution_count": 217,
     "metadata": {},
     "output_type": "execute_result"
    }
   ],
   "source": [
    "# We look for any NULL value in df\n",
    "df[pd.isnull(df).any(axis=1)]"
   ]
  },
  {
   "cell_type": "markdown",
   "metadata": {},
   "source": [
    "There aren't any luckily! :)"
   ]
  },
  {
   "cell_type": "markdown",
   "metadata": {},
   "source": [
    "## Save Pickke\n",
    "We save the df into a pickle file, so that it can be used later for further analysis."
   ]
  },
  {
   "cell_type": "code",
   "execution_count": 218,
   "metadata": {},
   "outputs": [],
   "source": [
    "df.to_pickle(\"Pickles/crime.pickle\")"
   ]
  },
  {
   "cell_type": "markdown",
   "metadata": {},
   "source": [
    "We therefore can now plot the resulting distributions of the various columns, and see if thery are somehow related to each other."
   ]
  },
  {
   "cell_type": "code",
   "execution_count": 219,
   "metadata": {},
   "outputs": [
    {
     "data": {
      "image/png": "[encoded data removed]",
      "text/plain": [
       "<Figure size 432x288 with 1 Axes>"
      ]
     },
     "metadata": {
      "needs_background": "light"
     },
     "output_type": "display_data"
    },
    {
     "data": {
      "image/png": "[encoded data removed]",
      "text/plain": [
       "<Figure size 432x288 with 1 Axes>"
      ]
     },
     "metadata": {
      "needs_background": "light"
     },
     "output_type": "display_data"
    },
    {
     "data": {
      "image/png": "[encoded data removed]",
      "text/plain": [
       "<Figure size 432x288 with 1 Axes>"
      ]
     },
     "metadata": {
      "needs_background": "light"
     },
     "output_type": "display_data"
    },
    {
     "data": {
      "image/png": "[encoded data removed]",
      "text/plain": [
       "<Figure size 432x288 with 1 Axes>"
      ]
     },
     "metadata": {
      "needs_background": "light"
     },
     "output_type": "display_data"
    },
    {
     "data": {
      "image/png": "[encoded data removed]",
      "text/plain": [
       "<Figure size 432x288 with 1 Axes>"
      ]
     },
     "metadata": {
      "needs_background": "light"
     },
     "output_type": "display_data"
    },
    {
     "data": {
      "image/png": "[encoded data removed]",
      "text/plain": [
       "<Figure size 432x288 with 1 Axes>"
      ]
     },
     "metadata": {
      "needs_background": "light"
     },
     "output_type": "display_data"
    },
    {
     "data": {
      "image/png": "[encoded data removed]",
      "text/plain": [
       "<Figure size 432x288 with 1 Axes>"
      ]
     },
     "metadata": {
      "needs_background": "light"
     },
     "output_type": "display_data"
    },
    {
     "data": {
      "image/png": "[encoded data removed]",
      "text/plain": [
       "<Figure size 432x288 with 1 Axes>"
      ]
     },
     "metadata": {
      "needs_background": "light"
     },
     "output_type": "display_data"
    },
    {
     "data": {
      "image/png": "[encoded data removed]",
      "text/plain": [
       "<Figure size 432x288 with 1 Axes>"
      ]
     },
     "metadata": {
      "needs_background": "light"
     },
     "output_type": "display_data"
    },
    {
     "data": {
      "image/png": "[encoded data removed]",
      "text/plain": [
       "<Figure size 432x288 with 1 Axes>"
      ]
     },
     "metadata": {
      "needs_background": "light"
     },
     "output_type": "display_data"
    }
   ],
   "source": [
    "for i, col in enumerate(df.columns):\n",
    "    if col != 'index' and df[col].dtype != 'object':\n",
    "        plt.figure(i)\n",
    "        plt.xticks(rotation=90)\n",
    "        plt.xlabel(\"number of states\")\n",
    "        plt.ylabel(col)\n",
    "        plt.title(col)\n",
    "        plt.hist(df[col])"
   ]
  },
  {
   "cell_type": "markdown",
   "metadata": {},
   "source": [
    "We can see that in almost all charts there is one (little) outlier. Let's see if we can spot it."
   ]
  },
  {
   "cell_type": "code",
   "execution_count": 220,
   "metadata": {},
   "outputs": [
    {
     "name": "stdout",
     "output_type": "stream",
     "text": [
      "The max value for feature Population is of state 4    California\n",
      "Name: State, dtype: object\n",
      "The max value for feature Violent_Crime is of state 8    District of Columbia\n",
      "Name: State, dtype: object\n",
      "The max value for feature Murder_and_Manslaughter is of state 8    District of Columbia\n",
      "Name: State, dtype: object\n",
      "The max value for feature Rape is of state 1    Alaska\n",
      "Name: State, dtype: object\n",
      "The max value for feature Robbery is of state 8    District of Columbia\n",
      "Name: State, dtype: object\n",
      "The max value for feature Aggravated_Assoult is of state 8    District of Columbia\n",
      "Name: State, dtype: object\n",
      "The max value for feature Property_crime is of state 8    District of Columbia\n",
      "Name: State, dtype: object\n",
      "The max value for feature Burglary is of state 31    New Mexico\n",
      "Name: State, dtype: object\n",
      "The max value for feature Theft is of state 8    District of Columbia\n",
      "Name: State, dtype: object\n",
      "The max value for feature Motor_Vehicle_theft is of state 31    New Mexico\n",
      "Name: State, dtype: object\n"
     ]
    }
   ],
   "source": [
    "# We print the country which has a maximum in every numerical column\n",
    "for col in df.columns:\n",
    "    if col != 'index' and df[col].dtype != 'object':\n",
    "        print(\"The max value for feature {} is of state {}\".format(col, df[df[col] == df[col].max()].State))"
   ]
  },
  {
   "cell_type": "markdown",
   "metadata": {},
   "source": [
    "### Analysis\n",
    "We can see that the district of Columbia has unexpected high values. This may be related to the fact that it is the only American State which is actually a city, where usually the criminality rates are higher than in rural areas."
   ]
  },
  {
   "cell_type": "markdown",
   "metadata": {},
   "source": [
    "To conclude, we would like to see if there is a positive correlation among every kind of crimes:"
   ]
  },
  {
   "cell_type": "code",
   "execution_count": 221,
   "metadata": {},
   "outputs": [
    {
     "data": {
      "text/html": [
       "<div>\n",
       "<style scoped>\n",
       "    .dataframe tbody tr th:only-of-type {\n",
       "        vertical-align: middle;\n",
       "    }\n",
       "\n",
       "    .dataframe tbody tr th {\n",
       "        vertical-align: top;\n",
       "    }\n",
       "\n",
       "    .dataframe thead th {\n",
       "        text-align: right;\n",
       "    }\n",
       "</style>\n",
       "<table border=\"1\" class=\"dataframe\">\n",
       "  <thead>\n",
       "    <tr style=\"text-align: right;\">\n",
       "      <th></th>\n",
       "      <th>Population</th>\n",
       "      <th>Violent_Crime</th>\n",
       "      <th>Murder_and_Manslaughter</th>\n",
       "      <th>Rape</th>\n",
       "      <th>Robbery</th>\n",
       "      <th>Aggravated_Assoult</th>\n",
       "      <th>Property_crime</th>\n",
       "      <th>Burglary</th>\n",
       "      <th>Theft</th>\n",
       "      <th>Motor_Vehicle_theft</th>\n",
       "    </tr>\n",
       "  </thead>\n",
       "  <tbody>\n",
       "    <tr>\n",
       "      <td>Population</td>\n",
       "      <td>1.000000</td>\n",
       "      <td>0.013480</td>\n",
       "      <td>0.037218</td>\n",
       "      <td>-0.213760</td>\n",
       "      <td>0.151266</td>\n",
       "      <td>-0.039888</td>\n",
       "      <td>-0.070521</td>\n",
       "      <td>-0.011349</td>\n",
       "      <td>-0.106522</td>\n",
       "      <td>0.060621</td>\n",
       "    </tr>\n",
       "    <tr>\n",
       "      <td>Violent_Crime</td>\n",
       "      <td>0.013480</td>\n",
       "      <td>1.000000</td>\n",
       "      <td>0.827674</td>\n",
       "      <td>0.592081</td>\n",
       "      <td>0.817911</td>\n",
       "      <td>0.947515</td>\n",
       "      <td>0.730709</td>\n",
       "      <td>0.402822</td>\n",
       "      <td>0.728716</td>\n",
       "      <td>0.584927</td>\n",
       "    </tr>\n",
       "    <tr>\n",
       "      <td>Murder_and_Manslaughter</td>\n",
       "      <td>0.037218</td>\n",
       "      <td>0.827674</td>\n",
       "      <td>1.000000</td>\n",
       "      <td>0.293746</td>\n",
       "      <td>0.837320</td>\n",
       "      <td>0.706884</td>\n",
       "      <td>0.655447</td>\n",
       "      <td>0.406297</td>\n",
       "      <td>0.681140</td>\n",
       "      <td>0.342179</td>\n",
       "    </tr>\n",
       "    <tr>\n",
       "      <td>Rape</td>\n",
       "      <td>-0.213760</td>\n",
       "      <td>0.592081</td>\n",
       "      <td>0.293746</td>\n",
       "      <td>1.000000</td>\n",
       "      <td>0.244174</td>\n",
       "      <td>0.611924</td>\n",
       "      <td>0.510811</td>\n",
       "      <td>0.264841</td>\n",
       "      <td>0.484059</td>\n",
       "      <td>0.542252</td>\n",
       "    </tr>\n",
       "    <tr>\n",
       "      <td>Robbery</td>\n",
       "      <td>0.151266</td>\n",
       "      <td>0.817911</td>\n",
       "      <td>0.837320</td>\n",
       "      <td>0.244174</td>\n",
       "      <td>1.000000</td>\n",
       "      <td>0.602032</td>\n",
       "      <td>0.579583</td>\n",
       "      <td>0.137617</td>\n",
       "      <td>0.645100</td>\n",
       "      <td>0.432656</td>\n",
       "    </tr>\n",
       "    <tr>\n",
       "      <td>Aggravated_Assoult</td>\n",
       "      <td>-0.039888</td>\n",
       "      <td>0.947515</td>\n",
       "      <td>0.706884</td>\n",
       "      <td>0.611924</td>\n",
       "      <td>0.602032</td>\n",
       "      <td>1.000000</td>\n",
       "      <td>0.689667</td>\n",
       "      <td>0.495571</td>\n",
       "      <td>0.649118</td>\n",
       "      <td>0.555113</td>\n",
       "    </tr>\n",
       "    <tr>\n",
       "      <td>Property_crime</td>\n",
       "      <td>-0.070521</td>\n",
       "      <td>0.730709</td>\n",
       "      <td>0.655447</td>\n",
       "      <td>0.510811</td>\n",
       "      <td>0.579583</td>\n",
       "      <td>0.689667</td>\n",
       "      <td>1.000000</td>\n",
       "      <td>0.673415</td>\n",
       "      <td>0.962122</td>\n",
       "      <td>0.778811</td>\n",
       "    </tr>\n",
       "    <tr>\n",
       "      <td>Burglary</td>\n",
       "      <td>-0.011349</td>\n",
       "      <td>0.402822</td>\n",
       "      <td>0.406297</td>\n",
       "      <td>0.264841</td>\n",
       "      <td>0.137617</td>\n",
       "      <td>0.495571</td>\n",
       "      <td>0.673415</td>\n",
       "      <td>1.000000</td>\n",
       "      <td>0.477139</td>\n",
       "      <td>0.485301</td>\n",
       "    </tr>\n",
       "    <tr>\n",
       "      <td>Theft</td>\n",
       "      <td>-0.106522</td>\n",
       "      <td>0.728716</td>\n",
       "      <td>0.681140</td>\n",
       "      <td>0.484059</td>\n",
       "      <td>0.645100</td>\n",
       "      <td>0.649118</td>\n",
       "      <td>0.962122</td>\n",
       "      <td>0.477139</td>\n",
       "      <td>1.000000</td>\n",
       "      <td>0.671058</td>\n",
       "    </tr>\n",
       "    <tr>\n",
       "      <td>Motor_Vehicle_theft</td>\n",
       "      <td>0.060621</td>\n",
       "      <td>0.584927</td>\n",
       "      <td>0.342179</td>\n",
       "      <td>0.542252</td>\n",
       "      <td>0.432656</td>\n",
       "      <td>0.555113</td>\n",
       "      <td>0.778811</td>\n",
       "      <td>0.485301</td>\n",
       "      <td>0.671058</td>\n",
       "      <td>1.000000</td>\n",
       "    </tr>\n",
       "  </tbody>\n",
       "</table>\n",
       "</div>"
      ],
      "text/plain": [
       "                         Population  Violent_Crime  Murder_and_Manslaughter  \\\n",
       "Population                 1.000000       0.013480                 0.037218   \n",
       "Violent_Crime              0.013480       1.000000                 0.827674   \n",
       "Murder_and_Manslaughter    0.037218       0.827674                 1.000000   \n",
       "Rape                      -0.213760       0.592081                 0.293746   \n",
       "Robbery                    0.151266       0.817911                 0.837320   \n",
       "Aggravated_Assoult        -0.039888       0.947515                 0.706884   \n",
       "Property_crime            -0.070521       0.730709                 0.655447   \n",
       "Burglary                  -0.011349       0.402822                 0.406297   \n",
       "Theft                     -0.106522       0.728716                 0.681140   \n",
       "Motor_Vehicle_theft        0.060621       0.584927                 0.342179   \n",
       "\n",
       "                             Rape   Robbery  Aggravated_Assoult  \\\n",
       "Population              -0.213760  0.151266           -0.039888   \n",
       "Violent_Crime            0.592081  0.817911            0.947515   \n",
       "Murder_and_Manslaughter  0.293746  0.837320            0.706884   \n",
       "Rape                     1.000000  0.244174            0.611924   \n",
       "Robbery                  0.244174  1.000000            0.602032   \n",
       "Aggravated_Assoult       0.611924  0.602032            1.000000   \n",
       "Property_crime           0.510811  0.579583            0.689667   \n",
       "Burglary                 0.264841  0.137617            0.495571   \n",
       "Theft                    0.484059  0.645100            0.649118   \n",
       "Motor_Vehicle_theft      0.542252  0.432656            0.555113   \n",
       "\n",
       "                         Property_crime  Burglary     Theft  \\\n",
       "Population                    -0.070521 -0.011349 -0.106522   \n",
       "Violent_Crime                  0.730709  0.402822  0.728716   \n",
       "Murder_and_Manslaughter        0.655447  0.406297  0.681140   \n",
       "Rape                           0.510811  0.264841  0.484059   \n",
       "Robbery                        0.579583  0.137617  0.645100   \n",
       "Aggravated_Assoult             0.689667  0.495571  0.649118   \n",
       "Property_crime                 1.000000  0.673415  0.962122   \n",
       "Burglary                       0.673415  1.000000  0.477139   \n",
       "Theft                          0.962122  0.477139  1.000000   \n",
       "Motor_Vehicle_theft            0.778811  0.485301  0.671058   \n",
       "\n",
       "                         Motor_Vehicle_theft  \n",
       "Population                          0.060621  \n",
       "Violent_Crime                       0.584927  \n",
       "Murder_and_Manslaughter             0.342179  \n",
       "Rape                                0.542252  \n",
       "Robbery                             0.432656  \n",
       "Aggravated_Assoult                  0.555113  \n",
       "Property_crime                      0.778811  \n",
       "Burglary                            0.485301  \n",
       "Theft                               0.671058  \n",
       "Motor_Vehicle_theft                 1.000000  "
      ]
     },
     "execution_count": 221,
     "metadata": {},
     "output_type": "execute_result"
    }
   ],
   "source": [
    "numerical_features = []\n",
    "for col in df.columns:\n",
    "    # we skip the features which are non numerical, and the index column\n",
    "    if (df[col].dtype == int or df[col].dtype == float) and col != 'index':\n",
    "        numerical_features.append(col)\n",
    "df[numerical_features].corr()"
   ]
  },
  {
   "cell_type": "markdown",
   "metadata": {},
   "source": [
    "Although it is not true for all columns (Rape and Burglary), usually we can see that the correlation ratios are quite well correlated. This means that id one country is usually high in any sort of crime, it is very likely that it is high in all other statistics for crime related features."
   ]
  },
  {
   "cell_type": "code",
   "execution_count": 222,
   "metadata": {},
   "outputs": [
    {
     "data": {
      "text/plain": [
       "<matplotlib.collections.PathCollection at 0x7f4edba54750>"
      ]
     },
     "execution_count": 222,
     "metadata": {},
     "output_type": "execute_result"
    },
    {
     "data": {
      "image/png": "[encoded data removed]",
      "text/plain": [
       "<Figure size 432x288 with 1 Axes>"
      ]
     },
     "metadata": {
      "needs_background": "light"
     },
     "output_type": "display_data"
    }
   ],
   "source": [
    "# just to make some examples\n",
    "plt.figure(1)\n",
    "plt.title(\"Violent crimes vs Murder (100k inhabitants)\")\n",
    "plt.xlabel(\"Murder\")\n",
    "plt.ylabel(\"Violent crimes\")\n",
    "plt.scatter(df['Murder_and_Manslaughter'], df['Violent_Crime'])"
   ]
  },
  {
   "cell_type": "code",
   "execution_count": 223,
   "metadata": {},
   "outputs": [
    {
     "data": {
      "text/plain": [
       "<matplotlib.collections.PathCollection at 0x7f4edbb33a50>"
      ]
     },
     "execution_count": 223,
     "metadata": {},
     "output_type": "execute_result"
    },
    {
     "data": {
      "image/png": "[encoded data removed]",
      "text/plain": [
       "<Figure size 432x288 with 1 Axes>"
      ]
     },
     "metadata": {
      "needs_background": "light"
     },
     "output_type": "display_data"
    }
   ],
   "source": [
    "plt.figure(1)\n",
    "plt.title(\"Violent crimes vs Aggravated assoults (100k inhabitants)\")\n",
    "plt.xlabel(\"Aggravated assoults\")\n",
    "plt.ylabel(\"Violent crimes\")\n",
    "plt.scatter(df['Aggravated_Assoult'], df['Violent_Crime'])"
   ]
  },
  {
   "cell_type": "code",
   "execution_count": 224,
   "metadata": {},
   "outputs": [
    {
     "data": {
      "text/plain": [
       "<matplotlib.collections.PathCollection at 0x7f4edbb2b590>"
      ]
     },
     "execution_count": 224,
     "metadata": {},
     "output_type": "execute_result"
    },
    {
     "data": {
      "image/png": "[encoded data removed]",
      "text/plain": [
       "<Figure size 432x288 with 1 Axes>"
      ]
     },
     "metadata": {
      "needs_background": "light"
     },
     "output_type": "display_data"
    }
   ],
   "source": [
    "plt.figure(1)\n",
    "plt.title(\"Theft vs property crimes (100k inhabitants)\")\n",
    "plt.xlabel(\"theft\")\n",
    "plt.ylabel(\"Property crimes\")\n",
    "plt.scatter(df['Theft'], df['Property_crime'])"
   ]
  },
  {
   "cell_type": "markdown",
   "metadata": {},
   "source": [
    "They all show clear linear relationship among the two selected features."
   ]
  }
 ],
 "metadata": {
  "kernelspec": {
   "display_name": "Python [conda env:ada]",
   "language": "python",
   "name": "conda-env-ada-py"
  },
  "language_info": {
   "codemirror_mode": {
    "name": "ipython",
    "version": 3
   },
   "file_extension": ".py",
   "mimetype": "text/x-python",
   "name": "python",
   "nbconvert_exporter": "python",
   "pygments_lexer": "ipython3",
   "version": "3.7.4"
  }
 },
 "nbformat": 4,
 "nbformat_minor": 4
}
