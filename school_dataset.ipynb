{
 "cells": [
  {
   "cell_type": "markdown",
   "metadata": {},
   "source": [
    "# School dataset"
   ]
  },
  {
   "cell_type": "markdown",
   "metadata": {},
   "source": [
    "In order to reproduce and improve the data regarding the Human Development Index, we need to categorize USs' states by their level of instruction. \n",
    "One indicator which may turn to be significant to categorize the level of instruction in each country is probably the average cost of private schools (both for high school and elementary school).\n",
    "We found an article on the website https://www.privateschoolreview.com/tuition-stats/private-school-cost-by-state which keeps track of these two statistics, and in order to convert the data present on their website to usable data (pandas DataFrame) we need to scrape the information from the web."
   ]
  },
  {
   "cell_type": "code",
   "execution_count": 1,
   "metadata": {},
   "outputs": [],
   "source": [
    "from requests import get\n",
    "import pandas as pd\n",
    "import numpy as np\n",
    "from matplotlib.ticker import MaxNLocator\n",
    "import matplotlib.pyplot as plt\n",
    "import re\n",
    "from bs4 import BeautifulSoup"
   ]
  },
  {
   "cell_type": "markdown",
   "metadata": {},
   "source": [
    "We now focus on extracting data from the website  https://www.privateschoolreview.com/tuition-stats/private-school-cost-by-state"
   ]
  },
  {
   "cell_type": "markdown",
   "metadata": {},
   "source": [
    "## Names of states\n",
    "First we download the list of names of the US states from the link. \n",
    "https://gist.githubusercontent.com/mshafrir/2646763/raw/8b0dbb93521f5d6889502305335104218454c2bf/states_titlecase.json"
   ]
  },
  {
   "cell_type": "code",
   "execution_count": 2,
   "metadata": {},
   "outputs": [
    {
     "data": {
      "text/html": [
       "<div>\n",
       "<style scoped>\n",
       "    .dataframe tbody tr th:only-of-type {\n",
       "        vertical-align: middle;\n",
       "    }\n",
       "\n",
       "    .dataframe tbody tr th {\n",
       "        vertical-align: top;\n",
       "    }\n",
       "\n",
       "    .dataframe thead th {\n",
       "        text-align: right;\n",
       "    }\n",
       "</style>\n",
       "<table border=\"1\" class=\"dataframe\">\n",
       "  <thead>\n",
       "    <tr style=\"text-align: right;\">\n",
       "      <th></th>\n",
       "      <th>State</th>\n",
       "    </tr>\n",
       "  </thead>\n",
       "  <tbody>\n",
       "    <tr>\n",
       "      <td>0</td>\n",
       "      <td>Alabama</td>\n",
       "    </tr>\n",
       "    <tr>\n",
       "      <td>1</td>\n",
       "      <td>Alaska</td>\n",
       "    </tr>\n",
       "    <tr>\n",
       "      <td>2</td>\n",
       "      <td>Arizona</td>\n",
       "    </tr>\n",
       "    <tr>\n",
       "      <td>3</td>\n",
       "      <td>Arkansas</td>\n",
       "    </tr>\n",
       "    <tr>\n",
       "      <td>4</td>\n",
       "      <td>California</td>\n",
       "    </tr>\n",
       "  </tbody>\n",
       "</table>\n",
       "</div>"
      ],
      "text/plain": [
       "        State\n",
       "0     Alabama\n",
       "1      Alaska\n",
       "2     Arizona\n",
       "3    Arkansas\n",
       "4  California"
      ]
     },
     "execution_count": 2,
     "metadata": {},
     "output_type": "execute_result"
    }
   ],
   "source": [
    "states_json = pd.read_json('Data/states.json')  # Get the json with state names\n",
    "states = []\n",
    "\n",
    "for row in states_json['data']:\n",
    "    states.append(row['State'])   # Add the names to a list.\n",
    "    \n",
    "states_df = pd.DataFrame({\"State\": states})   # Create a DataFrame with the list of states.\n",
    "states_df.head()"
   ]
  },
  {
   "cell_type": "markdown",
   "metadata": {},
   "source": [
    "## Format of the webpage\n",
    "\n",
    "We noticed that the webpage has the following format: states are listed in a table, and in every row there are 4 tds:\n",
    "- td[0] is a link with the name of the state\n",
    "- td[1] is the average tuition\n",
    "- td[2] is the average high school tuition\n",
    "- td[3] is the average elementary school tuition"
   ]
  },
  {
   "cell_type": "code",
   "execution_count": 3,
   "metadata": {},
   "outputs": [
    {
     "data": {
      "text/html": [
       "<div>\n",
       "<style scoped>\n",
       "    .dataframe tbody tr th:only-of-type {\n",
       "        vertical-align: middle;\n",
       "    }\n",
       "\n",
       "    .dataframe tbody tr th {\n",
       "        vertical-align: top;\n",
       "    }\n",
       "\n",
       "    .dataframe thead th {\n",
       "        text-align: right;\n",
       "    }\n",
       "</style>\n",
       "<table border=\"1\" class=\"dataframe\">\n",
       "  <thead>\n",
       "    <tr style=\"text-align: right;\">\n",
       "      <th></th>\n",
       "      <th>State</th>\n",
       "      <th>High_School_Fee</th>\n",
       "      <th>Elementary_School_Fee</th>\n",
       "    </tr>\n",
       "  </thead>\n",
       "  <tbody>\n",
       "    <tr>\n",
       "      <td>0</td>\n",
       "      <td>Alaska</td>\n",
       "      <td>$6,118</td>\n",
       "      <td>$7,544</td>\n",
       "    </tr>\n",
       "    <tr>\n",
       "      <td>1</td>\n",
       "      <td>Alabama</td>\n",
       "      <td>$7,633</td>\n",
       "      <td>$6,388</td>\n",
       "    </tr>\n",
       "    <tr>\n",
       "      <td>2</td>\n",
       "      <td>Arkansas</td>\n",
       "      <td>$6,580</td>\n",
       "      <td>$4,724</td>\n",
       "    </tr>\n",
       "    <tr>\n",
       "      <td>3</td>\n",
       "      <td>Arizona</td>\n",
       "      <td>$17,339</td>\n",
       "      <td>$6,300</td>\n",
       "    </tr>\n",
       "    <tr>\n",
       "      <td>4</td>\n",
       "      <td>California</td>\n",
       "      <td>$19,235</td>\n",
       "      <td>$11,360</td>\n",
       "    </tr>\n",
       "  </tbody>\n",
       "</table>\n",
       "</div>"
      ],
      "text/plain": [
       "        State High_School_Fee Elementary_School_Fee\n",
       "0      Alaska          $6,118                $7,544\n",
       "1     Alabama          $7,633                $6,388\n",
       "2    Arkansas          $6,580                $4,724\n",
       "3     Arizona         $17,339                $6,300\n",
       "4  California         $19,235               $11,360"
      ]
     },
     "execution_count": 3,
     "metadata": {},
     "output_type": "execute_result"
    }
   ],
   "source": [
    "# Site to scrape\n",
    "privateschoolreview = ' https://www.privateschoolreview.com/tuition-stats/private-school-cost-by-state'\n",
    "\n",
    "# Get the page and parse it with BeautifulSoup\n",
    "school_page = get(privateschoolreview)\n",
    "school_page = BeautifulSoup(school_page.text,'html.parser')\n",
    "\n",
    "# Find the table in the page (it is the table which contains the information we need)\n",
    "table = school_page.find('table', class_='tuition-list')\n",
    "\n",
    "# Get rows in the table\n",
    "rows = table.find_all('tr', class_='table_row row_click')\n",
    "\n",
    "tuition_fees = []\n",
    "\n",
    "for row in rows:\n",
    "    # Skip empty Rows (page is not well formatted)\n",
    "    if type(row) != 'NoneType':\n",
    "        # Information are stored in table data cells.\n",
    "        tds = row.find_all('td')\n",
    "        \n",
    "        state = tds[0].find('a').text\n",
    "        high_school_fee = tds[2].text\n",
    "        elementary_school_fee = tds[3].text\n",
    "        \n",
    "        # Create a new object with the right information and add it to the list.\n",
    "        tuition = {\n",
    "            'State': state,\n",
    "            'High_School_Fee': high_school_fee,\n",
    "            'Elementary_School_Fee': elementary_school_fee\n",
    "        }\n",
    "        tuition_fees.append(tuition)\n",
    "\n",
    "# Create a DataFrame\n",
    "tuition_fees_df = pd.DataFrame(tuition_fees)\n",
    "tuition_fees_df.head()"
   ]
  },
  {
   "cell_type": "markdown",
   "metadata": {},
   "source": [
    "# Analysis of the data\n",
    "Before proceeding further, we first check whether all states are listed in the new dataframe."
   ]
  },
  {
   "cell_type": "code",
   "execution_count": 4,
   "metadata": {},
   "outputs": [
    {
     "data": {
      "text/html": [
       "<div>\n",
       "<style scoped>\n",
       "    .dataframe tbody tr th:only-of-type {\n",
       "        vertical-align: middle;\n",
       "    }\n",
       "\n",
       "    .dataframe tbody tr th {\n",
       "        vertical-align: top;\n",
       "    }\n",
       "\n",
       "    .dataframe thead th {\n",
       "        text-align: right;\n",
       "    }\n",
       "</style>\n",
       "<table border=\"1\" class=\"dataframe\">\n",
       "  <thead>\n",
       "    <tr style=\"text-align: right;\">\n",
       "      <th></th>\n",
       "      <th>State</th>\n",
       "      <th>High_School_Fee</th>\n",
       "      <th>Elementary_School_Fee</th>\n",
       "    </tr>\n",
       "  </thead>\n",
       "  <tbody>\n",
       "    <tr>\n",
       "      <td>8</td>\n",
       "      <td>District of Columbia</td>\n",
       "      <td>NaN</td>\n",
       "      <td>NaN</td>\n",
       "    </tr>\n",
       "    <tr>\n",
       "      <td>34</td>\n",
       "      <td>North Dakota</td>\n",
       "      <td>NaN</td>\n",
       "      <td>NaN</td>\n",
       "    </tr>\n",
       "    <tr>\n",
       "      <td>41</td>\n",
       "      <td>South Dakota</td>\n",
       "      <td>NaN</td>\n",
       "      <td>NaN</td>\n",
       "    </tr>\n",
       "    <tr>\n",
       "      <td>50</td>\n",
       "      <td>Wyoming</td>\n",
       "      <td>NaN</td>\n",
       "      <td>NaN</td>\n",
       "    </tr>\n",
       "  </tbody>\n",
       "</table>\n",
       "</div>"
      ],
      "text/plain": [
       "                   State High_School_Fee Elementary_School_Fee\n",
       "8   District of Columbia             NaN                   NaN\n",
       "34          North Dakota             NaN                   NaN\n",
       "41          South Dakota             NaN                   NaN\n",
       "50               Wyoming             NaN                   NaN"
      ]
     },
     "execution_count": 4,
     "metadata": {},
     "output_type": "execute_result"
    }
   ],
   "source": [
    "# We merge the DataFrame with the state DataFrame created at the beginning\n",
    "# We do a left join (on the states DataFrame) so that states missing in tuition_fees_df\n",
    "# are still going to be present (but with null value)\n",
    "states_merged = states_df.merge(tuition_fees_df, how='left', right_on='State', left_on='State')\n",
    "# Select states which have null values for High_School_Fee (meaning that the left join)\n",
    "# couldn't find the tuition fees values for that state.\n",
    "absent_states = states_merged[~states_merged.High_School_Fee.notnull()]\n",
    "absent_states"
   ]
  },
  {
   "cell_type": "markdown",
   "metadata": {},
   "source": [
    "We can clearly see that the dataset is not complete, as four states lack the high school and the elementary school average fee.\n",
    "\n",
    "Let't try to get this data out from the same website: analyzing deeper the website, we discovered that the same data is present on a state basis under the link https://www.privateschoolreview.com/tuition-stats/state-name\n",
    "\n",
    "The names of the states must be turned into lowercase, substituting whitespaces with character dash (\"-\")."
   ]
  },
  {
   "cell_type": "code",
   "execution_count": 5,
   "metadata": {},
   "outputs": [
    {
     "data": {
      "text/html": [
       "<div>\n",
       "<style scoped>\n",
       "    .dataframe tbody tr th:only-of-type {\n",
       "        vertical-align: middle;\n",
       "    }\n",
       "\n",
       "    .dataframe tbody tr th {\n",
       "        vertical-align: top;\n",
       "    }\n",
       "\n",
       "    .dataframe thead th {\n",
       "        text-align: right;\n",
       "    }\n",
       "</style>\n",
       "<table border=\"1\" class=\"dataframe\">\n",
       "  <thead>\n",
       "    <tr style=\"text-align: right;\">\n",
       "      <th></th>\n",
       "      <th>lowercased_dashed_name</th>\n",
       "      <th>real_name</th>\n",
       "    </tr>\n",
       "  </thead>\n",
       "  <tbody>\n",
       "    <tr>\n",
       "      <td>8</td>\n",
       "      <td>district-of-columbia</td>\n",
       "      <td>District of Columbia</td>\n",
       "    </tr>\n",
       "    <tr>\n",
       "      <td>34</td>\n",
       "      <td>north-dakota</td>\n",
       "      <td>North Dakota</td>\n",
       "    </tr>\n",
       "    <tr>\n",
       "      <td>41</td>\n",
       "      <td>south-dakota</td>\n",
       "      <td>South Dakota</td>\n",
       "    </tr>\n",
       "    <tr>\n",
       "      <td>50</td>\n",
       "      <td>wyoming</td>\n",
       "      <td>Wyoming</td>\n",
       "    </tr>\n",
       "  </tbody>\n",
       "</table>\n",
       "</div>"
      ],
      "text/plain": [
       "   lowercased_dashed_name             real_name\n",
       "8    district-of-columbia  District of Columbia\n",
       "34           north-dakota          North Dakota\n",
       "41           south-dakota          South Dakota\n",
       "50                wyoming               Wyoming"
      ]
     },
     "execution_count": 5,
     "metadata": {},
     "output_type": "execute_result"
    }
   ],
   "source": [
    "# We turn the state name into lowercase, and substitute whitespaces with dashes\n",
    "lowercased_dashed_states = absent_states.State.apply(lambda x: '-'.join(x.lower().split(' ')))\n",
    "real_names = absent_states.State \n",
    "\n",
    "# We create a dataframe with column for the real name  and the lowercased and dashed name\n",
    "lowercased_dashed_states_df = pd.DataFrame({\n",
    "    'lowercased_dashed_name': lowercased_dashed_states,\n",
    "    'real_name': real_names\n",
    "})\n",
    "\n",
    "lowercased_dashed_states_df"
   ]
  },
  {
   "cell_type": "markdown",
   "metadata": {},
   "source": [
    "### Then we can scrape the new webpages to look for the missing information:\n",
    "- The information we are looking for lies in the `div` with `class='school_notes_overview'`\n",
    "- It is the second `<li>` of an unordered list `<ul>` of `class='highlights_row'` \n",
    "- The first price (regex `re'\\$\\d+(,\\d+)?'`) is the elementary school price, and the second price is the high school tuition fee. "
   ]
  },
  {
   "cell_type": "code",
   "execution_count": 6,
   "metadata": {},
   "outputs": [
    {
     "name": "stdout",
     "output_type": "stream",
     "text": [
      "District of Columbia: The private elementary school average is $19,084 per year and the private high school average is $27,337 per year.\n",
      "North Dakota: The private elementary school average is $2,550 per year and the private high school average is $9,100 per year.\n",
      "South Dakota: The private elementary school average is $3,029 per year and the private high school average is $6,717 per year.\n",
      "Wyoming: The private elementary school average is $3,417 per year and the private high school average is $10,575 per year.\n"
     ]
    }
   ],
   "source": [
    "base_url_single_state = 'https://www.privateschoolreview.com/tuition-stats/'\n",
    "\n",
    "for index, row in lowercased_dashed_states_df.iterrows():\n",
    "    real_name = row['real_name']\n",
    "    state_lowercased_dashed = row['lowercased_dashed_name']\n",
    "    \n",
    "    # First get the page and scrape it with BeautifulSoup\n",
    "    tuition_per_state = get(base_url_single_state + state_lowercased_dashed)\n",
    "    html_page_tuition_per_state = BeautifulSoup(tuition_per_state.text,'html.parser')\n",
    "    \n",
    "    # find the correct div with class school_notes_overview, and select the <ul> element\n",
    "    school_notes_overview = html_page_tuition_per_state.find('div', class_='school_notes_overview').find('ul')\n",
    "    \n",
    "    # get second <li> of class 'highlights_row'\n",
    "    second_li = school_notes_overview.find_all('li', class_='highlights_row')[1].text\n",
    "    print(\"{}: {}\".format(real_name,second_li))\n",
    "    \n",
    "    # apply the regex re'\\$\\d+' (it should find both the elementary fee and the high school fee)\n",
    "    occurrences = re.findall('\\$\\d+,\\d+', second_li)\n",
    "    elementary_fee, high_school_fee = occurrences[0], occurrences[1]\n",
    "    \n",
    "    new_fee = {\n",
    "        'State': real_name,\n",
    "        'High_School_Fee': high_school_fee,\n",
    "        'Elementary_School_Fee': elementary_fee\n",
    "    }\n",
    "    # Update the tuition_fees_df with the newly scraped information\n",
    "    tuition_fees_df.loc[index] = new_fee\n",
    "    \n",
    "    "
   ]
  },
  {
   "cell_type": "markdown",
   "metadata": {},
   "source": [
    "### Here we can see that the missing values has been correctly substituted"
   ]
  },
  {
   "cell_type": "code",
   "execution_count": 7,
   "metadata": {},
   "outputs": [
    {
     "data": {
      "text/html": [
       "<div>\n",
       "<style scoped>\n",
       "    .dataframe tbody tr th:only-of-type {\n",
       "        vertical-align: middle;\n",
       "    }\n",
       "\n",
       "    .dataframe tbody tr th {\n",
       "        vertical-align: top;\n",
       "    }\n",
       "\n",
       "    .dataframe thead th {\n",
       "        text-align: right;\n",
       "    }\n",
       "</style>\n",
       "<table border=\"1\" class=\"dataframe\">\n",
       "  <thead>\n",
       "    <tr style=\"text-align: right;\">\n",
       "      <th></th>\n",
       "      <th>State</th>\n",
       "      <th>High_School_Fee</th>\n",
       "      <th>Elementary_School_Fee</th>\n",
       "    </tr>\n",
       "  </thead>\n",
       "  <tbody>\n",
       "    <tr>\n",
       "      <td>8</td>\n",
       "      <td>District of Columbia</td>\n",
       "      <td>$27,337</td>\n",
       "      <td>$19,084</td>\n",
       "    </tr>\n",
       "    <tr>\n",
       "      <td>34</td>\n",
       "      <td>North Dakota</td>\n",
       "      <td>$9,100</td>\n",
       "      <td>$2,550</td>\n",
       "    </tr>\n",
       "    <tr>\n",
       "      <td>41</td>\n",
       "      <td>South Dakota</td>\n",
       "      <td>$6,717</td>\n",
       "      <td>$3,029</td>\n",
       "    </tr>\n",
       "    <tr>\n",
       "      <td>50</td>\n",
       "      <td>Wyoming</td>\n",
       "      <td>$10,575</td>\n",
       "      <td>$3,417</td>\n",
       "    </tr>\n",
       "  </tbody>\n",
       "</table>\n",
       "</div>"
      ],
      "text/plain": [
       "                   State High_School_Fee Elementary_School_Fee\n",
       "8   District of Columbia         $27,337               $19,084\n",
       "34          North Dakota          $9,100                $2,550\n",
       "41          South Dakota          $6,717                $3,029\n",
       "50               Wyoming         $10,575                $3,417"
      ]
     },
     "execution_count": 7,
     "metadata": {},
     "output_type": "execute_result"
    }
   ],
   "source": [
    "absent_states.index\n",
    "tuition_fees_df.loc[absent_states.index]"
   ]
  },
  {
   "cell_type": "markdown",
   "metadata": {},
   "source": [
    "## Now we have all the data\n",
    "We can start converting the input into a more usable format.\n",
    "For instance, the tuition fee is a string containing the characters `$` followed by a number, with the thousand digits separated by a comma.\n",
    "We can therefore cast this number to an integer number."
   ]
  },
  {
   "cell_type": "code",
   "execution_count": 8,
   "metadata": {},
   "outputs": [
    {
     "data": {
      "text/html": [
       "<div>\n",
       "<style scoped>\n",
       "    .dataframe tbody tr th:only-of-type {\n",
       "        vertical-align: middle;\n",
       "    }\n",
       "\n",
       "    .dataframe tbody tr th {\n",
       "        vertical-align: top;\n",
       "    }\n",
       "\n",
       "    .dataframe thead th {\n",
       "        text-align: right;\n",
       "    }\n",
       "</style>\n",
       "<table border=\"1\" class=\"dataframe\">\n",
       "  <thead>\n",
       "    <tr style=\"text-align: right;\">\n",
       "      <th></th>\n",
       "      <th>State</th>\n",
       "      <th>High_School_Fee</th>\n",
       "      <th>Elementary_School_Fee</th>\n",
       "    </tr>\n",
       "  </thead>\n",
       "  <tbody>\n",
       "    <tr>\n",
       "      <td>0</td>\n",
       "      <td>Alaska</td>\n",
       "      <td>6118</td>\n",
       "      <td>7544</td>\n",
       "    </tr>\n",
       "    <tr>\n",
       "      <td>1</td>\n",
       "      <td>Alabama</td>\n",
       "      <td>7633</td>\n",
       "      <td>6388</td>\n",
       "    </tr>\n",
       "    <tr>\n",
       "      <td>2</td>\n",
       "      <td>Arkansas</td>\n",
       "      <td>6580</td>\n",
       "      <td>4724</td>\n",
       "    </tr>\n",
       "    <tr>\n",
       "      <td>3</td>\n",
       "      <td>Arizona</td>\n",
       "      <td>17339</td>\n",
       "      <td>6300</td>\n",
       "    </tr>\n",
       "    <tr>\n",
       "      <td>4</td>\n",
       "      <td>California</td>\n",
       "      <td>19235</td>\n",
       "      <td>11360</td>\n",
       "    </tr>\n",
       "  </tbody>\n",
       "</table>\n",
       "</div>"
      ],
      "text/plain": [
       "        State  High_School_Fee  Elementary_School_Fee\n",
       "0      Alaska             6118                   7544\n",
       "1     Alabama             7633                   6388\n",
       "2    Arkansas             6580                   4724\n",
       "3     Arizona            17339                   6300\n",
       "4  California            19235                  11360"
      ]
     },
     "execution_count": 8,
     "metadata": {},
     "output_type": "execute_result"
    }
   ],
   "source": [
    "# Remove '$' and ',' and convert the resulting number into an integer (for both Elementary School and High School)\n",
    "high_school_fees = tuition_fees_df.High_School_Fee.apply(lambda x: int(\"\".join(x.split('$')[1].split(','))) )\n",
    "elementary_school_fees = tuition_fees_df.Elementary_School_Fee.apply(lambda x: int(\"\".join(x.split('$')[1].split(','))) )\n",
    "\n",
    "tuition_fees_df.High_School_Fee = high_school_fees\n",
    "tuition_fees_df.Elementary_School_Fee = elementary_school_fees\n",
    "\n",
    "tuition_fees_df.head()"
   ]
  },
  {
   "cell_type": "markdown",
   "metadata": {},
   "source": [
    "## Save pickle\n",
    "Before doing any kind of Analysis, we save the DataFrame in a pickle file so that it can be merged with the other datasets in the notebook `Milestone2.ipynb`."
   ]
  },
  {
   "cell_type": "code",
   "execution_count": 9,
   "metadata": {},
   "outputs": [],
   "source": [
    "tuition_fees_df.to_pickle('Pickles/tuition_fees.pickle')"
   ]
  },
  {
   "cell_type": "markdown",
   "metadata": {},
   "source": [
    "# Analysis and description of dataset:\n",
    "Now that the data is cleaned and complete, we can start developing some statistics over it.\n",
    "For instance, we may want to plot a chart to show if there are any outliers (fees incredibly high or low)."
   ]
  },
  {
   "cell_type": "code",
   "execution_count": 10,
   "metadata": {},
   "outputs": [
    {
     "data": {
      "text/plain": [
       "<BarContainer object of 48 artists>"
      ]
     },
     "execution_count": 10,
     "metadata": {},
     "output_type": "execute_result"
    },
    {
     "data": {
      "image/png": "[encoded data removed]",
      "text/plain": [
       "<Figure size 432x288 with 1 Axes>"
      ]
     },
     "metadata": {
      "needs_background": "light"
     },
     "output_type": "display_data"
    },
    {
     "data": {
      "image/png": "[encoded data removed]",
      "text/plain": [
       "<Figure size 432x288 with 1 Axes>"
      ]
     },
     "metadata": {
      "needs_background": "light"
     },
     "output_type": "display_data"
    }
   ],
   "source": [
    "# Figure 1 (High School)\n",
    "plt.figure(0)\n",
    "plt.bar(tuition_fees_df.State, tuition_fees_df.High_School_Fee)\n",
    "plt.title(\"Private High School Fees\")\n",
    "plt.xlabel(\"State\")\n",
    "plt.ylabel(\"Fee ($)\")\n",
    "plt.xticks(rotation=90)   # Rotate x labels (otherwise all state names become unreadable)\n",
    "\n",
    "# Figure 2 (Elementary School)\n",
    "plt.figure(1)\n",
    "plt.title(\"Private Elementary School Fees\")\n",
    "plt.ylabel(\"Fee ($)\")\n",
    "plt.xticks(rotation=90)   # Rotate x labels (otherwise all state names become unreadable)\n",
    "plt.xlabel(\"State\")\n",
    "plt.bar(tuition_fees_df.State, tuition_fees_df.Elementary_School_Fee)"
   ]
  },
  {
   "cell_type": "markdown",
   "metadata": {},
   "source": [
    "We can notice that there are no unreasonable outliers values, although some countries show much higher values than others."
   ]
  },
  {
   "cell_type": "markdown",
   "metadata": {},
   "source": [
    "### Further analysis and expectations\n",
    "We may now wonder whether the relation among the cost of high school and elementary is somehow linear: we may assume, in fact, that no matter the level of instruction, if in one state schools are more expensive, than it must be true for both elementary and high schools. We can double check this assumption by computing the correlation ratio among the two variables, and plotting a scatterplot with fees for high school and elementary school on the two axis."
   ]
  },
  {
   "cell_type": "code",
   "execution_count": 11,
   "metadata": {},
   "outputs": [
    {
     "data": {
      "text/html": [
       "<div>\n",
       "<style scoped>\n",
       "    .dataframe tbody tr th:only-of-type {\n",
       "        vertical-align: middle;\n",
       "    }\n",
       "\n",
       "    .dataframe tbody tr th {\n",
       "        vertical-align: top;\n",
       "    }\n",
       "\n",
       "    .dataframe thead th {\n",
       "        text-align: right;\n",
       "    }\n",
       "</style>\n",
       "<table border=\"1\" class=\"dataframe\">\n",
       "  <thead>\n",
       "    <tr style=\"text-align: right;\">\n",
       "      <th></th>\n",
       "      <th>High_School_Fee</th>\n",
       "      <th>Elementary_School_Fee</th>\n",
       "    </tr>\n",
       "  </thead>\n",
       "  <tbody>\n",
       "    <tr>\n",
       "      <td>High_School_Fee</td>\n",
       "      <td>1.000000</td>\n",
       "      <td>0.680728</td>\n",
       "    </tr>\n",
       "    <tr>\n",
       "      <td>Elementary_School_Fee</td>\n",
       "      <td>0.680728</td>\n",
       "      <td>1.000000</td>\n",
       "    </tr>\n",
       "  </tbody>\n",
       "</table>\n",
       "</div>"
      ],
      "text/plain": [
       "                       High_School_Fee  Elementary_School_Fee\n",
       "High_School_Fee               1.000000               0.680728\n",
       "Elementary_School_Fee         0.680728               1.000000"
      ]
     },
     "execution_count": 11,
     "metadata": {},
     "output_type": "execute_result"
    }
   ],
   "source": [
    "corr = tuition_fees_df.corr()   # Get the correlation values\n",
    "corr"
   ]
  },
  {
   "cell_type": "code",
   "execution_count": 12,
   "metadata": {},
   "outputs": [
    {
     "data": {
      "text/plain": [
       "(0, 19910.709856630823)"
      ]
     },
     "execution_count": 12,
     "metadata": {},
     "output_type": "execute_result"
    },
    {
     "data": {
      "image/png": "[encoded data removed]",
      "text/plain": [
       "<Figure size 432x288 with 1 Axes>"
      ]
     },
     "metadata": {
      "needs_background": "light"
     },
     "output_type": "display_data"
    }
   ],
   "source": [
    "plt.scatter(tuition_fees_df.Elementary_School_Fee, tuition_fees_df.High_School_Fee)\n",
    "plt.title(\"Elementary vs High School fees\")\n",
    "plt.xlabel(\"Elementary School Fees\")\n",
    "plt.ylabel(\"High School Fees\")\n",
    "plt.ylim(ymin=0)\n",
    "plt.xlim(xmin=0)"
   ]
  },
  {
   "cell_type": "markdown",
   "metadata": {},
   "source": [
    "We can see that our assumption is only partially true, in fact not only the correlation ratio is not particulary high (=~0.7), but even the plot doesn't show a precise linear relation among the two variables (although, it has to be said, there are no states where the cost of Elementary School and High School are at the opposite extremes)."
   ]
  },
  {
   "cell_type": "markdown",
   "metadata": {},
   "source": [
    "## Analysis\n",
    "To conclude, what we may assume is that the cost of private schools can be a good candidate for the educational part of the Human Development Index. In fact, the fact that in some states the cost of education is higher could both mean that the life quality is lower (you have to be richer in order to be able to afford proper education, which leads to higher disparities among people of different level of wealth), or that the life quality is higher, as more people can afford the burden to sustain a high price for education.\n",
    "\n",
    "As an example to clarify the above statement, think about what happens in Switzerland: the cost of most essential basics is much higher if compared to all other European countries, but only because the vast majority of people is actually richer and can afford to spend more money (Switzerland's HDI is in fact one of the highest in the world, 2nd as 2017[1]). "
   ]
  },
  {
   "cell_type": "markdown",
   "metadata": {},
   "source": [
    "[1] https://en.wikipedia.org/wiki/Switzerland"
   ]
  }
 ],
 "metadata": {
  "kernelspec": {
   "display_name": "Python [conda env:ada] *",
   "language": "python",
   "name": "conda-env-ada-py"
  },
  "language_info": {
   "codemirror_mode": {
    "name": "ipython",
    "version": 3
   },
   "file_extension": ".py",
   "mimetype": "text/x-python",
   "name": "python",
   "nbconvert_exporter": "python",
   "pygments_lexer": "ipython3",
   "version": "3.7.4"
  }
 },
 "nbformat": 4,
 "nbformat_minor": 4
}
