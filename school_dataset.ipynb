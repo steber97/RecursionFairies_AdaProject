{
 "cells": [
  {
   "cell_type": "markdown",
   "metadata": {},
   "source": [
    "# School dataset"
   ]
  },
  {
   "cell_type": "markdown",
   "metadata": {},
   "source": [
    "In order to reproduce and improve the data regarding the Human Development Index, we need to categorize USs' states by their level of instruction. \n",
    "One indicator which may turn to be significant to categorize the level of instruction in each country is probably the average cost of private schools (both for high school and elementary school).\n",
    "We found an article on the website https://www.privateschoolreview.com/tuition-stats/private-school-cost-by-state which keeps track of these two statistics, and in order to convert the data present on their website to usable data (pandas DataFrame) we need to scrape the information from the web."
   ]
  },
  {
   "cell_type": "code",
   "execution_count": 2,
   "metadata": {},
   "outputs": [],
   "source": [
    "from requests import get\n",
    "import pandas as pd\n",
    "import numpy as np\n",
    "from matplotlib.ticker import MaxNLocator\n",
    "import matplotlib.pyplot as plt\n",
    "import re\n",
    "from bs4 import BeautifulSoup"
   ]
  },
  {
   "cell_type": "markdown",
   "metadata": {},
   "source": [
    "We now focus on extracting data from the website  https://www.privateschoolreview.com/tuition-stats/private-school-cost-by-state"
   ]
  },
  {
   "cell_type": "markdown",
   "metadata": {},
   "source": [
    "## Names of states\n",
    "First we download the list of names of the US states from the link. \n",
    "https://gist.githubusercontent.com/mshafrir/2646763/raw/8b0dbb93521f5d6889502305335104218454c2bf/states_titlecase.json"
   ]
  },
  {
   "cell_type": "code",
   "execution_count": 3,
   "metadata": {},
   "outputs": [
    {
     "data": {
      "text/html": [
       "<div>\n",
       "<style scoped>\n",
       "    .dataframe tbody tr th:only-of-type {\n",
       "        vertical-align: middle;\n",
       "    }\n",
       "\n",
       "    .dataframe tbody tr th {\n",
       "        vertical-align: top;\n",
       "    }\n",
       "\n",
       "    .dataframe thead th {\n",
       "        text-align: right;\n",
       "    }\n",
       "</style>\n",
       "<table border=\"1\" class=\"dataframe\">\n",
       "  <thead>\n",
       "    <tr style=\"text-align: right;\">\n",
       "      <th></th>\n",
       "      <th>State</th>\n",
       "    </tr>\n",
       "  </thead>\n",
       "  <tbody>\n",
       "    <tr>\n",
       "      <td>0</td>\n",
       "      <td>Alabama</td>\n",
       "    </tr>\n",
       "    <tr>\n",
       "      <td>1</td>\n",
       "      <td>Alaska</td>\n",
       "    </tr>\n",
       "    <tr>\n",
       "      <td>2</td>\n",
       "      <td>Arizona</td>\n",
       "    </tr>\n",
       "    <tr>\n",
       "      <td>3</td>\n",
       "      <td>Arkansas</td>\n",
       "    </tr>\n",
       "    <tr>\n",
       "      <td>4</td>\n",
       "      <td>California</td>\n",
       "    </tr>\n",
       "  </tbody>\n",
       "</table>\n",
       "</div>"
      ],
      "text/plain": [
       "        State\n",
       "0     Alabama\n",
       "1      Alaska\n",
       "2     Arizona\n",
       "3    Arkansas\n",
       "4  California"
      ]
     },
     "execution_count": 3,
     "metadata": {},
     "output_type": "execute_result"
    }
   ],
   "source": [
    "states_json = pd.read_json('Data/states.json')\n",
    "states = []\n",
    "\n",
    "for row in states_json['data']:\n",
    "    states.append(row['State'])\n",
    "    \n",
    "states_df = pd.DataFrame({\"State\": states})\n",
    "states_df.head()"
   ]
  },
  {
   "cell_type": "markdown",
   "metadata": {},
   "source": [
    "## Format of the webpage\n",
    "\n",
    "We noticed that the webpage has the following format: states are listed in a table, and in every row there are 4 tds:\n",
    "- td[0] is a link with the name of the state\n",
    "- td[1] is the average tuition\n",
    "- td[2] is the average high school tuition\n",
    "- td[3] is the average elementary school tuition"
   ]
  },
  {
   "cell_type": "code",
   "execution_count": 194,
   "metadata": {},
   "outputs": [
    {
     "data": {
      "text/html": [
       "<div>\n",
       "<style scoped>\n",
       "    .dataframe tbody tr th:only-of-type {\n",
       "        vertical-align: middle;\n",
       "    }\n",
       "\n",
       "    .dataframe tbody tr th {\n",
       "        vertical-align: top;\n",
       "    }\n",
       "\n",
       "    .dataframe thead th {\n",
       "        text-align: right;\n",
       "    }\n",
       "</style>\n",
       "<table border=\"1\" class=\"dataframe\">\n",
       "  <thead>\n",
       "    <tr style=\"text-align: right;\">\n",
       "      <th></th>\n",
       "      <th>State</th>\n",
       "      <th>High_School_Fee</th>\n",
       "      <th>Elementary_School_Fee</th>\n",
       "    </tr>\n",
       "  </thead>\n",
       "  <tbody>\n",
       "    <tr>\n",
       "      <td>0</td>\n",
       "      <td>Alaska</td>\n",
       "      <td>$6,118</td>\n",
       "      <td>$7,544</td>\n",
       "    </tr>\n",
       "    <tr>\n",
       "      <td>1</td>\n",
       "      <td>Alabama</td>\n",
       "      <td>$7,633</td>\n",
       "      <td>$6,388</td>\n",
       "    </tr>\n",
       "    <tr>\n",
       "      <td>2</td>\n",
       "      <td>Arkansas</td>\n",
       "      <td>$6,580</td>\n",
       "      <td>$4,724</td>\n",
       "    </tr>\n",
       "    <tr>\n",
       "      <td>3</td>\n",
       "      <td>Arizona</td>\n",
       "      <td>$17,339</td>\n",
       "      <td>$6,300</td>\n",
       "    </tr>\n",
       "    <tr>\n",
       "      <td>4</td>\n",
       "      <td>California</td>\n",
       "      <td>$19,235</td>\n",
       "      <td>$11,360</td>\n",
       "    </tr>\n",
       "    <tr>\n",
       "      <td>5</td>\n",
       "      <td>Colorado</td>\n",
       "      <td>$14,557</td>\n",
       "      <td>$8,155</td>\n",
       "    </tr>\n",
       "    <tr>\n",
       "      <td>6</td>\n",
       "      <td>Connecticut</td>\n",
       "      <td>$32,456</td>\n",
       "      <td>$15,929</td>\n",
       "    </tr>\n",
       "    <tr>\n",
       "      <td>7</td>\n",
       "      <td>Delaware</td>\n",
       "      <td>$10,967</td>\n",
       "      <td>$11,020</td>\n",
       "    </tr>\n",
       "    <tr>\n",
       "      <td>8</td>\n",
       "      <td>Florida</td>\n",
       "      <td>$9,637</td>\n",
       "      <td>$7,968</td>\n",
       "    </tr>\n",
       "    <tr>\n",
       "      <td>9</td>\n",
       "      <td>Georgia</td>\n",
       "      <td>$11,793</td>\n",
       "      <td>$9,001</td>\n",
       "    </tr>\n",
       "    <tr>\n",
       "      <td>10</td>\n",
       "      <td>Hawaii</td>\n",
       "      <td>$14,968</td>\n",
       "      <td>$9,200</td>\n",
       "    </tr>\n",
       "    <tr>\n",
       "      <td>11</td>\n",
       "      <td>Iowa</td>\n",
       "      <td>$8,769</td>\n",
       "      <td>$3,712</td>\n",
       "    </tr>\n",
       "    <tr>\n",
       "      <td>12</td>\n",
       "      <td>Idaho</td>\n",
       "      <td>$6,894</td>\n",
       "      <td>$10,511</td>\n",
       "    </tr>\n",
       "    <tr>\n",
       "      <td>13</td>\n",
       "      <td>Illinois</td>\n",
       "      <td>$11,744</td>\n",
       "      <td>$6,161</td>\n",
       "    </tr>\n",
       "    <tr>\n",
       "      <td>14</td>\n",
       "      <td>Indiana</td>\n",
       "      <td>$10,309</td>\n",
       "      <td>$5,225</td>\n",
       "    </tr>\n",
       "    <tr>\n",
       "      <td>15</td>\n",
       "      <td>Kansas</td>\n",
       "      <td>$9,677</td>\n",
       "      <td>$5,253</td>\n",
       "    </tr>\n",
       "    <tr>\n",
       "      <td>16</td>\n",
       "      <td>Kentucky</td>\n",
       "      <td>$7,708</td>\n",
       "      <td>$6,081</td>\n",
       "    </tr>\n",
       "    <tr>\n",
       "      <td>17</td>\n",
       "      <td>Louisiana</td>\n",
       "      <td>$7,799</td>\n",
       "      <td>$5,884</td>\n",
       "    </tr>\n",
       "    <tr>\n",
       "      <td>18</td>\n",
       "      <td>Massachusetts</td>\n",
       "      <td>$31,223</td>\n",
       "      <td>$12,762</td>\n",
       "    </tr>\n",
       "    <tr>\n",
       "      <td>19</td>\n",
       "      <td>Maryland</td>\n",
       "      <td>$16,696</td>\n",
       "      <td>$10,242</td>\n",
       "    </tr>\n",
       "    <tr>\n",
       "      <td>20</td>\n",
       "      <td>Maine</td>\n",
       "      <td>$30,239</td>\n",
       "      <td>$7,947</td>\n",
       "    </tr>\n",
       "    <tr>\n",
       "      <td>21</td>\n",
       "      <td>Michigan</td>\n",
       "      <td>$10,884</td>\n",
       "      <td>$4,530</td>\n",
       "    </tr>\n",
       "    <tr>\n",
       "      <td>22</td>\n",
       "      <td>Minnesota</td>\n",
       "      <td>$10,861</td>\n",
       "      <td>$4,301</td>\n",
       "    </tr>\n",
       "    <tr>\n",
       "      <td>23</td>\n",
       "      <td>Missouri</td>\n",
       "      <td>$12,195</td>\n",
       "      <td>$7,425</td>\n",
       "    </tr>\n",
       "    <tr>\n",
       "      <td>24</td>\n",
       "      <td>Mississippi</td>\n",
       "      <td>$6,191</td>\n",
       "      <td>$4,465</td>\n",
       "    </tr>\n",
       "    <tr>\n",
       "      <td>25</td>\n",
       "      <td>Montana</td>\n",
       "      <td>$7,312</td>\n",
       "      <td>$9,873</td>\n",
       "    </tr>\n",
       "    <tr>\n",
       "      <td>26</td>\n",
       "      <td>North Carolina</td>\n",
       "      <td>$10,336</td>\n",
       "      <td>$8,374</td>\n",
       "    </tr>\n",
       "    <tr>\n",
       "      <td>27</td>\n",
       "      <td>Nebraska</td>\n",
       "      <td>$7,038</td>\n",
       "      <td>$2,871</td>\n",
       "    </tr>\n",
       "    <tr>\n",
       "      <td>28</td>\n",
       "      <td>New Hampshire</td>\n",
       "      <td>$28,157</td>\n",
       "      <td>$8,661</td>\n",
       "    </tr>\n",
       "    <tr>\n",
       "      <td>29</td>\n",
       "      <td>New Jersey</td>\n",
       "      <td>$18,355</td>\n",
       "      <td>$8,721</td>\n",
       "    </tr>\n",
       "    <tr>\n",
       "      <td>30</td>\n",
       "      <td>New Mexico</td>\n",
       "      <td>$10,563</td>\n",
       "      <td>$6,855</td>\n",
       "    </tr>\n",
       "    <tr>\n",
       "      <td>31</td>\n",
       "      <td>Nevada</td>\n",
       "      <td>$11,605</td>\n",
       "      <td>$9,674</td>\n",
       "    </tr>\n",
       "    <tr>\n",
       "      <td>32</td>\n",
       "      <td>New York</td>\n",
       "      <td>$24,400</td>\n",
       "      <td>$12,594</td>\n",
       "    </tr>\n",
       "    <tr>\n",
       "      <td>33</td>\n",
       "      <td>Ohio</td>\n",
       "      <td>$9,864</td>\n",
       "      <td>$4,905</td>\n",
       "    </tr>\n",
       "    <tr>\n",
       "      <td>34</td>\n",
       "      <td>Oklahoma</td>\n",
       "      <td>$6,798</td>\n",
       "      <td>$4,986</td>\n",
       "    </tr>\n",
       "    <tr>\n",
       "      <td>35</td>\n",
       "      <td>Oregon</td>\n",
       "      <td>$11,344</td>\n",
       "      <td>$7,567</td>\n",
       "    </tr>\n",
       "    <tr>\n",
       "      <td>36</td>\n",
       "      <td>Pennsylvania</td>\n",
       "      <td>$15,493</td>\n",
       "      <td>$8,044</td>\n",
       "    </tr>\n",
       "    <tr>\n",
       "      <td>37</td>\n",
       "      <td>Rhode Island</td>\n",
       "      <td>$25,478</td>\n",
       "      <td>$10,504</td>\n",
       "    </tr>\n",
       "    <tr>\n",
       "      <td>38</td>\n",
       "      <td>South Carolina</td>\n",
       "      <td>$6,895</td>\n",
       "      <td>$6,151</td>\n",
       "    </tr>\n",
       "    <tr>\n",
       "      <td>39</td>\n",
       "      <td>Tennessee</td>\n",
       "      <td>$10,040</td>\n",
       "      <td>$8,811</td>\n",
       "    </tr>\n",
       "    <tr>\n",
       "      <td>40</td>\n",
       "      <td>Texas</td>\n",
       "      <td>$10,729</td>\n",
       "      <td>$7,867</td>\n",
       "    </tr>\n",
       "    <tr>\n",
       "      <td>41</td>\n",
       "      <td>Utah</td>\n",
       "      <td>$13,834</td>\n",
       "      <td>$8,766</td>\n",
       "    </tr>\n",
       "    <tr>\n",
       "      <td>42</td>\n",
       "      <td>Virginia</td>\n",
       "      <td>$17,051</td>\n",
       "      <td>$11,166</td>\n",
       "    </tr>\n",
       "    <tr>\n",
       "      <td>43</td>\n",
       "      <td>Vermont</td>\n",
       "      <td>$33,893</td>\n",
       "      <td>$10,251</td>\n",
       "    </tr>\n",
       "    <tr>\n",
       "      <td>44</td>\n",
       "      <td>Washington</td>\n",
       "      <td>$12,603</td>\n",
       "      <td>$10,119</td>\n",
       "    </tr>\n",
       "    <tr>\n",
       "      <td>45</td>\n",
       "      <td>Wisconsin</td>\n",
       "      <td>$8,327</td>\n",
       "      <td>$3,311</td>\n",
       "    </tr>\n",
       "    <tr>\n",
       "      <td>46</td>\n",
       "      <td>West Virginia</td>\n",
       "      <td>$5,375</td>\n",
       "      <td>$3,442</td>\n",
       "    </tr>\n",
       "  </tbody>\n",
       "</table>\n",
       "</div>"
      ],
      "text/plain": [
       "             State High_School_Fee Elementary_School_Fee\n",
       "0           Alaska          $6,118                $7,544\n",
       "1          Alabama          $7,633                $6,388\n",
       "2         Arkansas          $6,580                $4,724\n",
       "3          Arizona         $17,339                $6,300\n",
       "4       California         $19,235               $11,360\n",
       "5         Colorado         $14,557                $8,155\n",
       "6      Connecticut         $32,456               $15,929\n",
       "7         Delaware         $10,967               $11,020\n",
       "8          Florida          $9,637                $7,968\n",
       "9          Georgia         $11,793                $9,001\n",
       "10          Hawaii         $14,968                $9,200\n",
       "11            Iowa          $8,769                $3,712\n",
       "12           Idaho          $6,894               $10,511\n",
       "13        Illinois         $11,744                $6,161\n",
       "14         Indiana         $10,309                $5,225\n",
       "15          Kansas          $9,677                $5,253\n",
       "16        Kentucky          $7,708                $6,081\n",
       "17       Louisiana          $7,799                $5,884\n",
       "18   Massachusetts         $31,223               $12,762\n",
       "19        Maryland         $16,696               $10,242\n",
       "20           Maine         $30,239                $7,947\n",
       "21        Michigan         $10,884                $4,530\n",
       "22       Minnesota         $10,861                $4,301\n",
       "23        Missouri         $12,195                $7,425\n",
       "24     Mississippi          $6,191                $4,465\n",
       "25         Montana          $7,312                $9,873\n",
       "26  North Carolina         $10,336                $8,374\n",
       "27        Nebraska          $7,038                $2,871\n",
       "28   New Hampshire         $28,157                $8,661\n",
       "29      New Jersey         $18,355                $8,721\n",
       "30      New Mexico         $10,563                $6,855\n",
       "31          Nevada         $11,605                $9,674\n",
       "32        New York         $24,400               $12,594\n",
       "33            Ohio          $9,864                $4,905\n",
       "34        Oklahoma          $6,798                $4,986\n",
       "35          Oregon         $11,344                $7,567\n",
       "36    Pennsylvania         $15,493                $8,044\n",
       "37    Rhode Island         $25,478               $10,504\n",
       "38  South Carolina          $6,895                $6,151\n",
       "39       Tennessee         $10,040                $8,811\n",
       "40           Texas         $10,729                $7,867\n",
       "41            Utah         $13,834                $8,766\n",
       "42        Virginia         $17,051               $11,166\n",
       "43         Vermont         $33,893               $10,251\n",
       "44      Washington         $12,603               $10,119\n",
       "45       Wisconsin          $8,327                $3,311\n",
       "46   West Virginia          $5,375                $3,442"
      ]
     },
     "execution_count": 194,
     "metadata": {},
     "output_type": "execute_result"
    }
   ],
   "source": [
    "privateschoolreview = ' https://www.privateschoolreview.com/tuition-stats/private-school-cost-by-state'\n",
    "school_page = get(privateschoolreview)\n",
    "school_page = BeautifulSoup(school_page.text,'html.parser')\n",
    "\n",
    "# print(school_page)\n",
    "table = school_page.find('table', class_='tuition-list')\n",
    "\n",
    "rows = table.find_all('tr', class_='table_row row_click')\n",
    "\n",
    "tuition_fees = []\n",
    "\n",
    "for row in rows:\n",
    "    if type(row) != 'NoneType':\n",
    "        tds = row.find_all('td')\n",
    "        state = tds[0].find('a').text\n",
    "        high_school_fee = tds[2].text\n",
    "        elementary_school_fee = tds[3].text\n",
    "        \n",
    "        tuition = {\n",
    "            'State': state,\n",
    "            'High_School_Fee': high_school_fee,\n",
    "            'Elementary_School_Fee': elementary_school_fee\n",
    "        }\n",
    "        tuition_fees.append(tuition)\n",
    "\n",
    "tuition_fees_df = pd.DataFrame(tuition_fees)\n",
    "tuition_fees_df.head()"
   ]
  },
  {
   "cell_type": "markdown",
   "metadata": {},
   "source": [
    "# Analysis of the data\n",
    "Before proceeding further, we first check whether all states are listed in the new dataframe."
   ]
  },
  {
   "cell_type": "code",
   "execution_count": 195,
   "metadata": {},
   "outputs": [
    {
     "data": {
      "text/html": [
       "<div>\n",
       "<style scoped>\n",
       "    .dataframe tbody tr th:only-of-type {\n",
       "        vertical-align: middle;\n",
       "    }\n",
       "\n",
       "    .dataframe tbody tr th {\n",
       "        vertical-align: top;\n",
       "    }\n",
       "\n",
       "    .dataframe thead th {\n",
       "        text-align: right;\n",
       "    }\n",
       "</style>\n",
       "<table border=\"1\" class=\"dataframe\">\n",
       "  <thead>\n",
       "    <tr style=\"text-align: right;\">\n",
       "      <th></th>\n",
       "      <th>State</th>\n",
       "      <th>High_School_Fee</th>\n",
       "      <th>Elementary_School_Fee</th>\n",
       "    </tr>\n",
       "  </thead>\n",
       "  <tbody>\n",
       "    <tr>\n",
       "      <td>8</td>\n",
       "      <td>District of Columbia</td>\n",
       "      <td>NaN</td>\n",
       "      <td>NaN</td>\n",
       "    </tr>\n",
       "    <tr>\n",
       "      <td>34</td>\n",
       "      <td>North Dakota</td>\n",
       "      <td>NaN</td>\n",
       "      <td>NaN</td>\n",
       "    </tr>\n",
       "    <tr>\n",
       "      <td>41</td>\n",
       "      <td>South Dakota</td>\n",
       "      <td>NaN</td>\n",
       "      <td>NaN</td>\n",
       "    </tr>\n",
       "    <tr>\n",
       "      <td>50</td>\n",
       "      <td>Wyoming</td>\n",
       "      <td>NaN</td>\n",
       "      <td>NaN</td>\n",
       "    </tr>\n",
       "  </tbody>\n",
       "</table>\n",
       "</div>"
      ],
      "text/plain": [
       "                   State High_School_Fee Elementary_School_Fee\n",
       "8   District of Columbia             NaN                   NaN\n",
       "34          North Dakota             NaN                   NaN\n",
       "41          South Dakota             NaN                   NaN\n",
       "50               Wyoming             NaN                   NaN"
      ]
     },
     "execution_count": 195,
     "metadata": {},
     "output_type": "execute_result"
    }
   ],
   "source": [
    "states_merged = states_df.merge(tuition_fees_df, how='left', right_on='State', left_on='State')\n",
    "absent_states = states_merged[~states_merged.High_School_Fee.notnull()]\n",
    "absent_states"
   ]
  },
  {
   "cell_type": "markdown",
   "metadata": {},
   "source": [
    "We can clearly see that the dataset is not complete, as four states lack the high school and the elementary school average fee.\n",
    "\n",
    "Let't try to get this data out from the same website: analyzing deeper the website, we discovered that the same data is present on a state basis under the link https://www.privateschoolreview.com/tuition-stats/state-name\n",
    "\n",
    "The names of the states must be turned into lowercase, substituting whitespaces with character dash (\"-\")."
   ]
  },
  {
   "cell_type": "code",
   "execution_count": 196,
   "metadata": {},
   "outputs": [
    {
     "data": {
      "text/html": [
       "<div>\n",
       "<style scoped>\n",
       "    .dataframe tbody tr th:only-of-type {\n",
       "        vertical-align: middle;\n",
       "    }\n",
       "\n",
       "    .dataframe tbody tr th {\n",
       "        vertical-align: top;\n",
       "    }\n",
       "\n",
       "    .dataframe thead th {\n",
       "        text-align: right;\n",
       "    }\n",
       "</style>\n",
       "<table border=\"1\" class=\"dataframe\">\n",
       "  <thead>\n",
       "    <tr style=\"text-align: right;\">\n",
       "      <th></th>\n",
       "      <th>lowercased_dashed_name</th>\n",
       "      <th>real_name</th>\n",
       "    </tr>\n",
       "  </thead>\n",
       "  <tbody>\n",
       "    <tr>\n",
       "      <td>8</td>\n",
       "      <td>district-of-columbia</td>\n",
       "      <td>District of Columbia</td>\n",
       "    </tr>\n",
       "    <tr>\n",
       "      <td>34</td>\n",
       "      <td>north-dakota</td>\n",
       "      <td>North Dakota</td>\n",
       "    </tr>\n",
       "    <tr>\n",
       "      <td>41</td>\n",
       "      <td>south-dakota</td>\n",
       "      <td>South Dakota</td>\n",
       "    </tr>\n",
       "    <tr>\n",
       "      <td>50</td>\n",
       "      <td>wyoming</td>\n",
       "      <td>Wyoming</td>\n",
       "    </tr>\n",
       "  </tbody>\n",
       "</table>\n",
       "</div>"
      ],
      "text/plain": [
       "   lowercased_dashed_name             real_name\n",
       "8    district-of-columbia  District of Columbia\n",
       "34           north-dakota          North Dakota\n",
       "41           south-dakota          South Dakota\n",
       "50                wyoming               Wyoming"
      ]
     },
     "execution_count": 196,
     "metadata": {},
     "output_type": "execute_result"
    }
   ],
   "source": [
    "lowercased_dashed_states = absent_states.State.apply(lambda x: '-'.join(x.lower().split(' ')))\n",
    "real_names = absent_states.State #[lowercased_dashed_states]\n",
    "\n",
    "lowercased_dashed_states_df = pd.DataFrame({\n",
    "    'lowercased_dashed_name': lowercased_dashed_states,\n",
    "    'real_name': real_names\n",
    "})\n",
    "\n",
    "lowercased_dashed_states_df"
   ]
  },
  {
   "cell_type": "markdown",
   "metadata": {},
   "source": [
    "### Then we can scrape the new webpages to look for the missing information:\n",
    "- The information we are looking for lies in the `div` with `class='school_notes_overview'`\n",
    "- It is the second `<li>` of an unordered list `<ul>` of `class='highlights_row'` \n",
    "- The first price (regex `re'\\$\\d+(,\\d+)?'`) is the elementary school price, and the second price is the high school tuition fee. "
   ]
  },
  {
   "cell_type": "code",
   "execution_count": 197,
   "metadata": {},
   "outputs": [
    {
     "name": "stdout",
     "output_type": "stream",
     "text": [
      "District of Columbia: The private elementary school average is $19,084 per year and the private high school average is $27,337 per year.\n",
      "North Dakota: The private elementary school average is $2,550 per year and the private high school average is $9,100 per year.\n",
      "South Dakota: The private elementary school average is $3,029 per year and the private high school average is $6,717 per year.\n",
      "Wyoming: The private elementary school average is $3,417 per year and the private high school average is $10,575 per year.\n"
     ]
    }
   ],
   "source": [
    "base_url_single_state = 'https://www.privateschoolreview.com/tuition-stats/'\n",
    "\n",
    "for index, row in lowercased_dashed_states_df.iterrows():\n",
    "    real_name = row['real_name']\n",
    "    state_lowercased_dashed = row['lowercased_dashed_name']\n",
    "    # First get the page\n",
    "    tuition_per_state = get(base_url_single_state + state_lowercased_dashed)\n",
    "    html_page_tuition_per_state = BeautifulSoup(tuition_per_state.text,'html.parser')\n",
    "    \n",
    "    # find the correct div with class school_notes_overview, and select the <ul> element\n",
    "    school_notes_overview = html_page_tuition_per_state.find('div', class_='school_notes_overview').find('ul')\n",
    "    \n",
    "    # get second <li> of class 'highlights_row'\n",
    "    second_li = school_notes_overview.find_all('li', class_='highlights_row')[1].text\n",
    "    print(\"{}: {}\".format(real_name,second_li))\n",
    "    \n",
    "    # apply the regex re'\\$\\d+'\n",
    "    occurrences = re.findall('\\$\\d+,\\d+', second_li)\n",
    "    elementary_fee, high_school_fee = occurrences[0], occurrences[1]\n",
    "    \n",
    "    new_fee = {\n",
    "        'State': real_name,\n",
    "        'High_School_Fee': high_school_fee,\n",
    "        'Elementary_School_Fee': elementary_fee\n",
    "    }\n",
    "    tuition_fees_df.loc[index] = new_fee\n",
    "    \n",
    "    "
   ]
  },
  {
   "cell_type": "markdown",
   "metadata": {},
   "source": [
    "### Here we can see that the missing values has been correctly substituted"
   ]
  },
  {
   "cell_type": "code",
   "execution_count": 198,
   "metadata": {},
   "outputs": [
    {
     "data": {
      "text/html": [
       "<div>\n",
       "<style scoped>\n",
       "    .dataframe tbody tr th:only-of-type {\n",
       "        vertical-align: middle;\n",
       "    }\n",
       "\n",
       "    .dataframe tbody tr th {\n",
       "        vertical-align: top;\n",
       "    }\n",
       "\n",
       "    .dataframe thead th {\n",
       "        text-align: right;\n",
       "    }\n",
       "</style>\n",
       "<table border=\"1\" class=\"dataframe\">\n",
       "  <thead>\n",
       "    <tr style=\"text-align: right;\">\n",
       "      <th></th>\n",
       "      <th>State</th>\n",
       "      <th>High_School_Fee</th>\n",
       "      <th>Elementary_School_Fee</th>\n",
       "    </tr>\n",
       "  </thead>\n",
       "  <tbody>\n",
       "    <tr>\n",
       "      <td>8</td>\n",
       "      <td>District of Columbia</td>\n",
       "      <td>$27,337</td>\n",
       "      <td>$19,084</td>\n",
       "    </tr>\n",
       "    <tr>\n",
       "      <td>34</td>\n",
       "      <td>North Dakota</td>\n",
       "      <td>$9,100</td>\n",
       "      <td>$2,550</td>\n",
       "    </tr>\n",
       "    <tr>\n",
       "      <td>41</td>\n",
       "      <td>South Dakota</td>\n",
       "      <td>$6,717</td>\n",
       "      <td>$3,029</td>\n",
       "    </tr>\n",
       "    <tr>\n",
       "      <td>50</td>\n",
       "      <td>Wyoming</td>\n",
       "      <td>$10,575</td>\n",
       "      <td>$3,417</td>\n",
       "    </tr>\n",
       "  </tbody>\n",
       "</table>\n",
       "</div>"
      ],
      "text/plain": [
       "                   State High_School_Fee Elementary_School_Fee\n",
       "8   District of Columbia         $27,337               $19,084\n",
       "34          North Dakota          $9,100                $2,550\n",
       "41          South Dakota          $6,717                $3,029\n",
       "50               Wyoming         $10,575                $3,417"
      ]
     },
     "execution_count": 198,
     "metadata": {},
     "output_type": "execute_result"
    }
   ],
   "source": [
    "absent_states.index\n",
    "tuition_fees_df.loc[absent_states.index]"
   ]
  },
  {
   "cell_type": "markdown",
   "metadata": {},
   "source": [
    "## Now we have all the data\n",
    "We can start converting the input into a more usable format.\n",
    "For instance, the tuition fee is a string containing the characters `$` followed by a number, with the thousand digits separated by a comma.\n",
    "We can therefore cast this number to an input."
   ]
  },
  {
   "cell_type": "code",
   "execution_count": 200,
   "metadata": {},
   "outputs": [
    {
     "data": {
      "text/html": [
       "<div>\n",
       "<style scoped>\n",
       "    .dataframe tbody tr th:only-of-type {\n",
       "        vertical-align: middle;\n",
       "    }\n",
       "\n",
       "    .dataframe tbody tr th {\n",
       "        vertical-align: top;\n",
       "    }\n",
       "\n",
       "    .dataframe thead th {\n",
       "        text-align: right;\n",
       "    }\n",
       "</style>\n",
       "<table border=\"1\" class=\"dataframe\">\n",
       "  <thead>\n",
       "    <tr style=\"text-align: right;\">\n",
       "      <th></th>\n",
       "      <th>State</th>\n",
       "      <th>High_School_Fee</th>\n",
       "      <th>Elementary_School_Fee</th>\n",
       "    </tr>\n",
       "  </thead>\n",
       "  <tbody>\n",
       "    <tr>\n",
       "      <td>0</td>\n",
       "      <td>Alaska</td>\n",
       "      <td>6118</td>\n",
       "      <td>7544</td>\n",
       "    </tr>\n",
       "    <tr>\n",
       "      <td>1</td>\n",
       "      <td>Alabama</td>\n",
       "      <td>7633</td>\n",
       "      <td>6388</td>\n",
       "    </tr>\n",
       "    <tr>\n",
       "      <td>2</td>\n",
       "      <td>Arkansas</td>\n",
       "      <td>6580</td>\n",
       "      <td>4724</td>\n",
       "    </tr>\n",
       "    <tr>\n",
       "      <td>3</td>\n",
       "      <td>Arizona</td>\n",
       "      <td>17339</td>\n",
       "      <td>6300</td>\n",
       "    </tr>\n",
       "    <tr>\n",
       "      <td>4</td>\n",
       "      <td>California</td>\n",
       "      <td>19235</td>\n",
       "      <td>11360</td>\n",
       "    </tr>\n",
       "  </tbody>\n",
       "</table>\n",
       "</div>"
      ],
      "text/plain": [
       "        State  High_School_Fee  Elementary_School_Fee\n",
       "0      Alaska             6118                   7544\n",
       "1     Alabama             7633                   6388\n",
       "2    Arkansas             6580                   4724\n",
       "3     Arizona            17339                   6300\n",
       "4  California            19235                  11360"
      ]
     },
     "execution_count": 200,
     "metadata": {},
     "output_type": "execute_result"
    }
   ],
   "source": [
    "x = tuition_fees_df.High_School_Fee[0]\n",
    "high_school_fees = tuition_fees_df.High_School_Fee.apply(lambda x: int(\"\".join(x.split('$')[1].split(','))) )\n",
    "\n",
    "elementary_school_fees = tuition_fees_df.Elementary_School_Fee.apply(lambda x: int(\"\".join(x.split('$')[1].split(','))) )\n",
    "\n",
    "tuition_fees_df.High_School_Fee = high_school_fees\n",
    "tuition_fees_df.Elementary_School_Fee = elementary_school_fees\n",
    "\n",
    "tuition_fees_df.head()"
   ]
  },
  {
   "cell_type": "markdown",
   "metadata": {},
   "source": [
    "# Analysis and description of dataset:\n",
    "Now that the data is cleaned and complete, we can start developing some statistics over it.\n",
    "For instance, we may want to plot a chart to show if there are any outliers (fees incredibly high or low)."
   ]
  },
  {
   "cell_type": "code",
   "execution_count": 203,
   "metadata": {},
   "outputs": [
    {
     "data": {
      "text/plain": [
       "<BarContainer object of 48 artists>"
      ]
     },
     "execution_count": 203,
     "metadata": {},
     "output_type": "execute_result"
    },
    {
     "data": {
      "image/png": "[encoded data removed]",
      "text/plain": [
       "<Figure size 432x288 with 1 Axes>"
      ]
     },
     "metadata": {
      "needs_background": "light"
     },
     "output_type": "display_data"
    },
    {
     "data": {
      "image/png": "[encoded data removed]",
      "text/plain": [
       "<Figure size 432x288 with 1 Axes>"
      ]
     },
     "metadata": {
      "needs_background": "light"
     },
     "output_type": "display_data"
    }
   ],
   "source": [
    "plt.figure(0)\n",
    "plt.bar(tuition_fees_df.State, tuition_fees_df.High_School_Fee)\n",
    "plt.figure(1)\n",
    "plt.bar(tuition_fees_df.State, tuition_fees_df.Elementary_School_Fee)"
   ]
  },
  {
   "cell_type": "markdown",
   "metadata": {},
   "source": [
    "We can notice that there are no unreasonable outliers values, although some countries show much higher values than others."
   ]
  },
  {
   "cell_type": "markdown",
   "metadata": {},
   "source": [
    "### Further analysis and expectations\n",
    "We may now wonder whether the relation among the cost of high school and elementary is somehow linear: we may assume, in fact, that no matter the level of instruction, if in one state schools are more expensive, than it must be true for both elementary and high schools. We can double check this assumption by computing the correlation ratio among the two variables, and plotting a scatterplot with fees for high school and elementary school on the two axis."
   ]
  },
  {
   "cell_type": "code",
   "execution_count": 205,
   "metadata": {},
   "outputs": [
    {
     "data": {
      "text/html": [
       "<div>\n",
       "<style scoped>\n",
       "    .dataframe tbody tr th:only-of-type {\n",
       "        vertical-align: middle;\n",
       "    }\n",
       "\n",
       "    .dataframe tbody tr th {\n",
       "        vertical-align: top;\n",
       "    }\n",
       "\n",
       "    .dataframe thead th {\n",
       "        text-align: right;\n",
       "    }\n",
       "</style>\n",
       "<table border=\"1\" class=\"dataframe\">\n",
       "  <thead>\n",
       "    <tr style=\"text-align: right;\">\n",
       "      <th></th>\n",
       "      <th>High_School_Fee</th>\n",
       "      <th>Elementary_School_Fee</th>\n",
       "    </tr>\n",
       "  </thead>\n",
       "  <tbody>\n",
       "    <tr>\n",
       "      <td>High_School_Fee</td>\n",
       "      <td>1.000000</td>\n",
       "      <td>0.680728</td>\n",
       "    </tr>\n",
       "    <tr>\n",
       "      <td>Elementary_School_Fee</td>\n",
       "      <td>0.680728</td>\n",
       "      <td>1.000000</td>\n",
       "    </tr>\n",
       "  </tbody>\n",
       "</table>\n",
       "</div>"
      ],
      "text/plain": [
       "                       High_School_Fee  Elementary_School_Fee\n",
       "High_School_Fee               1.000000               0.680728\n",
       "Elementary_School_Fee         0.680728               1.000000"
      ]
     },
     "execution_count": 205,
     "metadata": {},
     "output_type": "execute_result"
    }
   ],
   "source": [
    "corr = tuition_fees_df.corr()\n",
    "corr"
   ]
  },
  {
   "cell_type": "code",
   "execution_count": 218,
   "metadata": {},
   "outputs": [
    {
     "data": {
      "text/plain": [
       "(0, 19910.709856630823)"
      ]
     },
     "execution_count": 218,
     "metadata": {},
     "output_type": "execute_result"
    },
    {
     "data": {
      "image/png": "[encoded data removed]",
      "text/plain": [
       "<Figure size 432x288 with 1 Axes>"
      ]
     },
     "metadata": {
      "needs_background": "light"
     },
     "output_type": "display_data"
    }
   ],
   "source": [
    "plt.scatter(tuition_fees_df.Elementary_School_Fee, tuition_fees_df.High_School_Fee)\n",
    "plt.xlabel(\"Elementary School Fees\")\n",
    "plt.ylabel(\"High School Fees\")\n",
    "plt.ylim(ymin=0)\n",
    "plt.xlim(xmin=0)"
   ]
  },
  {
   "cell_type": "markdown",
   "metadata": {},
   "source": [
    "We can see that our assumption is only partially true, in fact not only the correlation ratio is not particulary high (=~0.7), but even the plot doesn't show a precise linear relation among the two variables (although, it has to be said, there are no states where the cost of Elementary School and High School are at the opposite extremes)."
   ]
  },
  {
   "cell_type": "markdown",
   "metadata": {},
   "source": [
    "## Analysis\n",
    "To conclude, what we may assume is that the cost of private schools can be a good candidate for the educational part of the Human Development Index. In fact, the fact that in some states the cost of education is higher could both mean that the life quality is lower (you have to be richer in order to be able to afford proper education, which leads to higher disparities among people of different level of wealth), or that the life quality is higher, as more people can afford the burden to sustain a high price for education.\n",
    "\n",
    "As an example to clarify the above statement, think about what happens in Switzerland: the cost of most essential basics is much higher if compared to all other European countries, but only because the vast majority of people is actually richer and can afford to spend more money (Switzerland's HDI is in fact one of the highest in the world, 2nd as 2017[1]). "
   ]
  },
  {
   "cell_type": "markdown",
   "metadata": {},
   "source": [
    "[1] https://en.wikipedia.org/wiki/Switzerland"
   ]
  }
 ],
 "metadata": {
  "kernelspec": {
   "display_name": "Python [conda env:ada] *",
   "language": "python",
   "name": "conda-env-ada-py"
  },
  "language_info": {
   "codemirror_mode": {
    "name": "ipython",
    "version": 3
   },
   "file_extension": ".py",
   "mimetype": "text/x-python",
   "name": "python",
   "nbconvert_exporter": "python",
   "pygments_lexer": "ipython3",
   "version": "3.7.4"
  }
 },
 "nbformat": 4,
 "nbformat_minor": 4
}
