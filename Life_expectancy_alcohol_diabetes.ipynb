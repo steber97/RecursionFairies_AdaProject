{
 "cells": [
  {
   "cell_type": "code",
   "execution_count": 2,
   "metadata": {},
   "outputs": [],
   "source": [
    "import numpy as np\n",
    "import pandas as pd\n",
    "import matplotlib.pyplot as plt"
   ]
  },
  {
   "cell_type": "markdown",
   "metadata": {},
   "source": [
    "### ***Life_expectancy, obesity, physical activity Data*** \n",
    "This datasets contains county specific data for life expectancies, obesity and physical activity from [IHME](http://www.healthdata.org/) for multiple years\n",
    "We have three excel sheets corresponding to life expectancy, physical activity and obesity.\n",
    "For life expectancy, we have the actual value in years, while for physical activity and obesity we have a percentage measure which indicates prevalence.\n",
    "We first load the excel file from the data folder "
   ]
  },
  {
   "cell_type": "code",
   "execution_count": 3,
   "metadata": {},
   "outputs": [],
   "source": [
    "life_data = pd.ExcelFile(\"Data/harsh_data/IHME_county_data_LifeExpectancy_Obesity_PhysicalActivity_NATIONAL.xlsx\")"
   ]
  },
  {
   "cell_type": "code",
   "execution_count": 4,
   "metadata": {},
   "outputs": [
    {
     "data": {
      "text/plain": [
       "['Life Expectancy', 'Physical Activity', 'Obesity']"
      ]
     },
     "execution_count": 4,
     "metadata": {},
     "output_type": "execute_result"
    }
   ],
   "source": [
    "#Sheet names\n",
    "life_data.sheet_names"
   ]
  },
  {
   "cell_type": "code",
   "execution_count": 5,
   "metadata": {},
   "outputs": [],
   "source": [
    "#Loading all sheets into a dict of dataframes\n",
    "relevant_sheets = ['Physical Activity','Obesity']\n",
    "\n",
    "pd_dict_life = {}\n",
    "for sheet in relevant_sheets:\n",
    "    pd_dict_life[sheet] = pd.read_excel(life_data,sheet)"
   ]
  },
  {
   "cell_type": "markdown",
   "metadata": {},
   "source": [
    "Since we have data for life expectancy, we keep only the physical activity and obesity datasets"
   ]
  },
  {
   "cell_type": "code",
   "execution_count": 6,
   "metadata": {},
   "outputs": [
    {
     "data": {
      "text/html": [
       "<div>\n",
       "<style scoped>\n",
       "    .dataframe tbody tr th:only-of-type {\n",
       "        vertical-align: middle;\n",
       "    }\n",
       "\n",
       "    .dataframe tbody tr th {\n",
       "        vertical-align: top;\n",
       "    }\n",
       "\n",
       "    .dataframe thead th {\n",
       "        text-align: right;\n",
       "    }\n",
       "</style>\n",
       "<table border=\"1\" class=\"dataframe\">\n",
       "  <thead>\n",
       "    <tr style=\"text-align: right;\">\n",
       "      <th></th>\n",
       "      <th>State</th>\n",
       "      <th>County</th>\n",
       "      <th>Male sufficient physical activity prevalence, 2001 (%)</th>\n",
       "      <th>Female sufficient physical activity prevalence, 2001 (%)</th>\n",
       "      <th>Male sufficient physical activity  prevalence, 2009 (%)</th>\n",
       "      <th>Female sufficient physical activity  prevalence, 2009 (%)</th>\n",
       "      <th>Male sufficient physical activity  prevalence, 2011* (%)</th>\n",
       "      <th>Female sufficient physical activity  prevalence, 2011* (%)</th>\n",
       "      <th>Difference in male sufficient physical activity prevalence, 2001-2009 (percentage points)</th>\n",
       "      <th>Difference in female sufficient physical activity prevalence, 2001-2009 (percentage points)</th>\n",
       "      <th>Unnamed: 10</th>\n",
       "      <th>*Methodological changes in the 2011 BRFSS may affect comparability between the 2011 estimates and estimates from earlier years</th>\n",
       "    </tr>\n",
       "  </thead>\n",
       "  <tbody>\n",
       "    <tr>\n",
       "      <td>0</td>\n",
       "      <td>United States</td>\n",
       "      <td>NaN</td>\n",
       "      <td>56.8</td>\n",
       "      <td>46.7</td>\n",
       "      <td>57.8</td>\n",
       "      <td>51.3</td>\n",
       "      <td>56.3</td>\n",
       "      <td>52.6</td>\n",
       "      <td>1.0</td>\n",
       "      <td>4.7</td>\n",
       "      <td>NaN</td>\n",
       "      <td>NaN</td>\n",
       "    </tr>\n",
       "    <tr>\n",
       "      <td>1</td>\n",
       "      <td>Alabama</td>\n",
       "      <td>NaN</td>\n",
       "      <td>52.4</td>\n",
       "      <td>40.4</td>\n",
       "      <td>51.5</td>\n",
       "      <td>41.4</td>\n",
       "      <td>49.5</td>\n",
       "      <td>42.0</td>\n",
       "      <td>-0.9</td>\n",
       "      <td>1.0</td>\n",
       "      <td>NaN</td>\n",
       "      <td>NaN</td>\n",
       "    </tr>\n",
       "    <tr>\n",
       "      <td>2</td>\n",
       "      <td>Alabama</td>\n",
       "      <td>Autauga</td>\n",
       "      <td>55.0</td>\n",
       "      <td>43.6</td>\n",
       "      <td>55.1</td>\n",
       "      <td>46.8</td>\n",
       "      <td>52.9</td>\n",
       "      <td>47.5</td>\n",
       "      <td>0.1</td>\n",
       "      <td>3.2</td>\n",
       "      <td>NaN</td>\n",
       "      <td>NaN</td>\n",
       "    </tr>\n",
       "    <tr>\n",
       "      <td>3</td>\n",
       "      <td>Alabama</td>\n",
       "      <td>Baldwin</td>\n",
       "      <td>55.4</td>\n",
       "      <td>48.4</td>\n",
       "      <td>56.6</td>\n",
       "      <td>49.2</td>\n",
       "      <td>54.1</td>\n",
       "      <td>49.6</td>\n",
       "      <td>1.2</td>\n",
       "      <td>0.8</td>\n",
       "      <td>NaN</td>\n",
       "      <td>NaN</td>\n",
       "    </tr>\n",
       "    <tr>\n",
       "      <td>4</td>\n",
       "      <td>Alabama</td>\n",
       "      <td>Barbour</td>\n",
       "      <td>45.7</td>\n",
       "      <td>33.0</td>\n",
       "      <td>46.4</td>\n",
       "      <td>34.6</td>\n",
       "      <td>44.9</td>\n",
       "      <td>35.8</td>\n",
       "      <td>0.7</td>\n",
       "      <td>1.6</td>\n",
       "      <td>NaN</td>\n",
       "      <td>NaN</td>\n",
       "    </tr>\n",
       "  </tbody>\n",
       "</table>\n",
       "</div>"
      ],
      "text/plain": [
       "           State   County  \\\n",
       "0  United States      NaN   \n",
       "1        Alabama      NaN   \n",
       "2        Alabama  Autauga   \n",
       "3        Alabama  Baldwin   \n",
       "4        Alabama  Barbour   \n",
       "\n",
       "   Male sufficient physical activity prevalence, 2001 (%)  \\\n",
       "0                                               56.8        \n",
       "1                                               52.4        \n",
       "2                                               55.0        \n",
       "3                                               55.4        \n",
       "4                                               45.7        \n",
       "\n",
       "   Female sufficient physical activity prevalence, 2001 (%)  \\\n",
       "0                                               46.7          \n",
       "1                                               40.4          \n",
       "2                                               43.6          \n",
       "3                                               48.4          \n",
       "4                                               33.0          \n",
       "\n",
       "   Male sufficient physical activity  prevalence, 2009 (%)  \\\n",
       "0                                               57.8         \n",
       "1                                               51.5         \n",
       "2                                               55.1         \n",
       "3                                               56.6         \n",
       "4                                               46.4         \n",
       "\n",
       "   Female sufficient physical activity  prevalence, 2009 (%)  \\\n",
       "0                                               51.3           \n",
       "1                                               41.4           \n",
       "2                                               46.8           \n",
       "3                                               49.2           \n",
       "4                                               34.6           \n",
       "\n",
       "   Male sufficient physical activity  prevalence, 2011* (%)  \\\n",
       "0                                               56.3          \n",
       "1                                               49.5          \n",
       "2                                               52.9          \n",
       "3                                               54.1          \n",
       "4                                               44.9          \n",
       "\n",
       "   Female sufficient physical activity  prevalence, 2011* (%)  \\\n",
       "0                                               52.6            \n",
       "1                                               42.0            \n",
       "2                                               47.5            \n",
       "3                                               49.6            \n",
       "4                                               35.8            \n",
       "\n",
       "   Difference in male sufficient physical activity prevalence, 2001-2009 (percentage points)  \\\n",
       "0                                                1.0                                           \n",
       "1                                               -0.9                                           \n",
       "2                                                0.1                                           \n",
       "3                                                1.2                                           \n",
       "4                                                0.7                                           \n",
       "\n",
       "   Difference in female sufficient physical activity prevalence, 2001-2009 (percentage points)  \\\n",
       "0                                                4.7                                             \n",
       "1                                                1.0                                             \n",
       "2                                                3.2                                             \n",
       "3                                                0.8                                             \n",
       "4                                                1.6                                             \n",
       "\n",
       "   Unnamed: 10  \\\n",
       "0          NaN   \n",
       "1          NaN   \n",
       "2          NaN   \n",
       "3          NaN   \n",
       "4          NaN   \n",
       "\n",
       "   *Methodological changes in the 2011 BRFSS may affect comparability between the 2011 estimates and estimates from earlier years  \n",
       "0                                                NaN                                                                               \n",
       "1                                                NaN                                                                               \n",
       "2                                                NaN                                                                               \n",
       "3                                                NaN                                                                               \n",
       "4                                                NaN                                                                               "
      ]
     },
     "execution_count": 6,
     "metadata": {},
     "output_type": "execute_result"
    }
   ],
   "source": [
    "pd_dict_life['Physical Activity'].head()"
   ]
  },
  {
   "cell_type": "code",
   "execution_count": 7,
   "metadata": {},
   "outputs": [
    {
     "data": {
      "text/html": [
       "<div>\n",
       "<style scoped>\n",
       "    .dataframe tbody tr th:only-of-type {\n",
       "        vertical-align: middle;\n",
       "    }\n",
       "\n",
       "    .dataframe tbody tr th {\n",
       "        vertical-align: top;\n",
       "    }\n",
       "\n",
       "    .dataframe thead th {\n",
       "        text-align: right;\n",
       "    }\n",
       "</style>\n",
       "<table border=\"1\" class=\"dataframe\">\n",
       "  <thead>\n",
       "    <tr style=\"text-align: right;\">\n",
       "      <th></th>\n",
       "      <th>State</th>\n",
       "      <th>County</th>\n",
       "      <th>Male obesity prevalence, 2001 (%)</th>\n",
       "      <th>Female obesity prevalence, 2001 (%)</th>\n",
       "      <th>Male obesity prevalence, 2009 (%)</th>\n",
       "      <th>Female obesity  prevalence, 2009 (%)</th>\n",
       "      <th>Male obesity  prevalence, 2011* (%)</th>\n",
       "      <th>Female obesity prevalence, 2011* (%)</th>\n",
       "      <th>Difference in male obesity prevalence, 2001-2009 (percentage points)</th>\n",
       "      <th>Difference in female obesity prevalence, 2001-2009 (percentage points)</th>\n",
       "      <th>Unnamed: 10</th>\n",
       "      <th>*Methodological changes in the 2011 BRFSS may affect comparability between the 2011 estimates and estimates from earlier years</th>\n",
       "    </tr>\n",
       "  </thead>\n",
       "  <tbody>\n",
       "    <tr>\n",
       "      <td>0</td>\n",
       "      <td>United States</td>\n",
       "      <td>NaN</td>\n",
       "      <td>26.1</td>\n",
       "      <td>28.7</td>\n",
       "      <td>32.8</td>\n",
       "      <td>35.1</td>\n",
       "      <td>33.8</td>\n",
       "      <td>36.1</td>\n",
       "      <td>6.7</td>\n",
       "      <td>6.4</td>\n",
       "      <td>NaN</td>\n",
       "      <td>NaN</td>\n",
       "    </tr>\n",
       "    <tr>\n",
       "      <td>1</td>\n",
       "      <td>Alabama</td>\n",
       "      <td>NaN</td>\n",
       "      <td>29.7</td>\n",
       "      <td>34.1</td>\n",
       "      <td>36.1</td>\n",
       "      <td>41.2</td>\n",
       "      <td>37.3</td>\n",
       "      <td>42.2</td>\n",
       "      <td>6.4</td>\n",
       "      <td>7.1</td>\n",
       "      <td>NaN</td>\n",
       "      <td>NaN</td>\n",
       "    </tr>\n",
       "    <tr>\n",
       "      <td>2</td>\n",
       "      <td>Alabama</td>\n",
       "      <td>Autauga</td>\n",
       "      <td>30.7</td>\n",
       "      <td>32.3</td>\n",
       "      <td>35.9</td>\n",
       "      <td>37.4</td>\n",
       "      <td>37.1</td>\n",
       "      <td>38.8</td>\n",
       "      <td>5.3</td>\n",
       "      <td>5.2</td>\n",
       "      <td>NaN</td>\n",
       "      <td>NaN</td>\n",
       "    </tr>\n",
       "    <tr>\n",
       "      <td>3</td>\n",
       "      <td>Alabama</td>\n",
       "      <td>Baldwin</td>\n",
       "      <td>27.8</td>\n",
       "      <td>28.3</td>\n",
       "      <td>32.4</td>\n",
       "      <td>33.0</td>\n",
       "      <td>33.5</td>\n",
       "      <td>33.9</td>\n",
       "      <td>4.5</td>\n",
       "      <td>4.6</td>\n",
       "      <td>NaN</td>\n",
       "      <td>NaN</td>\n",
       "    </tr>\n",
       "    <tr>\n",
       "      <td>4</td>\n",
       "      <td>Alabama</td>\n",
       "      <td>Barbour</td>\n",
       "      <td>32.3</td>\n",
       "      <td>42.8</td>\n",
       "      <td>40.3</td>\n",
       "      <td>51.3</td>\n",
       "      <td>41.5</td>\n",
       "      <td>51.6</td>\n",
       "      <td>8.0</td>\n",
       "      <td>8.5</td>\n",
       "      <td>NaN</td>\n",
       "      <td>NaN</td>\n",
       "    </tr>\n",
       "  </tbody>\n",
       "</table>\n",
       "</div>"
      ],
      "text/plain": [
       "           State   County  Male obesity prevalence, 2001 (%)  \\\n",
       "0  United States      NaN                               26.1   \n",
       "1        Alabama      NaN                               29.7   \n",
       "2        Alabama  Autauga                               30.7   \n",
       "3        Alabama  Baldwin                               27.8   \n",
       "4        Alabama  Barbour                               32.3   \n",
       "\n",
       "   Female obesity prevalence, 2001 (%)  Male obesity prevalence, 2009 (%)  \\\n",
       "0                                 28.7                               32.8   \n",
       "1                                 34.1                               36.1   \n",
       "2                                 32.3                               35.9   \n",
       "3                                 28.3                               32.4   \n",
       "4                                 42.8                               40.3   \n",
       "\n",
       "   Female obesity  prevalence, 2009 (%)  Male obesity  prevalence, 2011* (%)  \\\n",
       "0                                  35.1                                 33.8   \n",
       "1                                  41.2                                 37.3   \n",
       "2                                  37.4                                 37.1   \n",
       "3                                  33.0                                 33.5   \n",
       "4                                  51.3                                 41.5   \n",
       "\n",
       "   Female obesity prevalence, 2011* (%)  \\\n",
       "0                                  36.1   \n",
       "1                                  42.2   \n",
       "2                                  38.8   \n",
       "3                                  33.9   \n",
       "4                                  51.6   \n",
       "\n",
       "   Difference in male obesity prevalence, 2001-2009 (percentage points)  \\\n",
       "0                                                6.7                      \n",
       "1                                                6.4                      \n",
       "2                                                5.3                      \n",
       "3                                                4.5                      \n",
       "4                                                8.0                      \n",
       "\n",
       "   Difference in female obesity prevalence, 2001-2009 (percentage points)  \\\n",
       "0                                                6.4                        \n",
       "1                                                7.1                        \n",
       "2                                                5.2                        \n",
       "3                                                4.6                        \n",
       "4                                                8.5                        \n",
       "\n",
       "   Unnamed: 10  \\\n",
       "0          NaN   \n",
       "1          NaN   \n",
       "2          NaN   \n",
       "3          NaN   \n",
       "4          NaN   \n",
       "\n",
       "   *Methodological changes in the 2011 BRFSS may affect comparability between the 2011 estimates and estimates from earlier years  \n",
       "0                                                NaN                                                                               \n",
       "1                                                NaN                                                                               \n",
       "2                                                NaN                                                                               \n",
       "3                                                NaN                                                                               \n",
       "4                                                NaN                                                                               "
      ]
     },
     "execution_count": 7,
     "metadata": {},
     "output_type": "execute_result"
    }
   ],
   "source": [
    "pd_dict_life['Obesity'].head()"
   ]
  },
  {
   "cell_type": "markdown",
   "metadata": {},
   "source": [
    "The average values for `State` are present in the rows where `County` is `NaN`. Further, we will need to remove the national average. Note that this corresponds to the row where `State` is United States. These changes have to be implemented for both physical activity and obesity so we apply it to the dict of these two dataframes"
   ]
  },
  {
   "cell_type": "code",
   "execution_count": 8,
   "metadata": {},
   "outputs": [],
   "source": [
    "for sheet,df in pd_dict_life.items():\n",
    "    pd_dict_life[sheet] = df[(df[\"County\"].isnull()) & (df[\"State\"] != \"United States\")].drop(columns=[\"County\"])"
   ]
  },
  {
   "cell_type": "markdown",
   "metadata": {},
   "source": [
    "We now separate the dataframes for a more detailed analysis"
   ]
  },
  {
   "cell_type": "code",
   "execution_count": 9,
   "metadata": {},
   "outputs": [],
   "source": [
    "df_obesity = pd_dict_life['Obesity']\n",
    "df_physical = pd_dict_life['Physical Activity']"
   ]
  },
  {
   "cell_type": "markdown",
   "metadata": {},
   "source": [
    "Note that we only wish to keep the mean value of the relevant feature(here physical activity or obesity) for a specific year. Since all our other datasets have\n",
    "values for years after 2010, we keep the latest values in these dataframes too."
   ]
  },
  {
   "cell_type": "code",
   "execution_count": 10,
   "metadata": {},
   "outputs": [
    {
     "data": {
      "text/plain": [
       "Index(['State', 'Male obesity prevalence, 2001 (%)',\n",
       "       'Female obesity prevalence, 2001 (%)',\n",
       "       'Male obesity prevalence, 2009 (%)',\n",
       "       'Female obesity  prevalence, 2009 (%)',\n",
       "       'Male obesity  prevalence, 2011* (%)',\n",
       "       'Female obesity prevalence, 2011* (%)',\n",
       "       'Difference in male obesity prevalence, 2001-2009 (percentage points)',\n",
       "       'Difference in female obesity prevalence, 2001-2009 (percentage points)',\n",
       "       'Unnamed: 10',\n",
       "       '*Methodological changes in the 2011 BRFSS may affect comparability between the 2011 estimates and estimates from earlier years'],\n",
       "      dtype='object')"
      ]
     },
     "execution_count": 10,
     "metadata": {},
     "output_type": "execute_result"
    }
   ],
   "source": [
    "df_obesity.columns"
   ]
  },
  {
   "cell_type": "code",
   "execution_count": 11,
   "metadata": {},
   "outputs": [
    {
     "data": {
      "text/plain": [
       "Index(['State', 'Male sufficient physical activity prevalence, 2001 (%)',\n",
       "       'Female sufficient physical activity prevalence, 2001 (%)',\n",
       "       'Male sufficient physical activity  prevalence, 2009 (%)',\n",
       "       'Female sufficient physical activity  prevalence, 2009 (%)',\n",
       "       'Male sufficient physical activity  prevalence, 2011* (%)',\n",
       "       'Female sufficient physical activity  prevalence, 2011* (%)',\n",
       "       'Difference in male sufficient physical activity prevalence, 2001-2009 (percentage points)',\n",
       "       'Difference in female sufficient physical activity prevalence, 2001-2009 (percentage points)',\n",
       "       'Unnamed: 10',\n",
       "       '*Methodological changes in the 2011 BRFSS may affect comparability between the 2011 estimates and estimates from earlier years'],\n",
       "      dtype='object')"
      ]
     },
     "execution_count": 11,
     "metadata": {},
     "output_type": "execute_result"
    }
   ],
   "source": [
    "df_physical.columns"
   ]
  },
  {
   "cell_type": "markdown",
   "metadata": {},
   "source": [
    "Note that the columns which we need to keep correspond to column indices 0,5 and 6 in each of these dataframes as these correspond to the state name and \n",
    "the corresponding feature for males and females for the year 2011."
   ]
  },
  {
   "cell_type": "code",
   "execution_count": 12,
   "metadata": {},
   "outputs": [
    {
     "data": {
      "text/plain": [
       "Index(['State', 'Female obesity  prevalence, 2009 (%)',\n",
       "       'Male obesity  prevalence, 2011* (%)'],\n",
       "      dtype='object')"
      ]
     },
     "execution_count": 12,
     "metadata": {},
     "output_type": "execute_result"
    }
   ],
   "source": [
    "df.columns[[0,5,6]]"
   ]
  },
  {
   "cell_type": "code",
   "execution_count": 13,
   "metadata": {},
   "outputs": [
    {
     "data": {
      "text/plain": [
       "Index(['State', 'Male sufficient physical activity  prevalence, 2011* (%)',\n",
       "       'Female sufficient physical activity  prevalence, 2011* (%)'],\n",
       "      dtype='object')"
      ]
     },
     "execution_count": 13,
     "metadata": {},
     "output_type": "execute_result"
    }
   ],
   "source": [
    "df_physical.columns[[0,5,6]]"
   ]
  },
  {
   "cell_type": "code",
   "execution_count": 14,
   "metadata": {},
   "outputs": [],
   "source": [
    "df_obesity = df_obesity[df_obesity.columns[[0,5,6]]]\n",
    "df_physical = df_physical[df_physical.columns[[0,5,6]]]\n"
   ]
  },
  {
   "cell_type": "markdown",
   "metadata": {},
   "source": [
    "We rename the columns for each dataframe to more usable column names"
   ]
  },
  {
   "cell_type": "code",
   "execution_count": 15,
   "metadata": {},
   "outputs": [
    {
     "data": {
      "text/html": [
       "<div>\n",
       "<style scoped>\n",
       "    .dataframe tbody tr th:only-of-type {\n",
       "        vertical-align: middle;\n",
       "    }\n",
       "\n",
       "    .dataframe tbody tr th {\n",
       "        vertical-align: top;\n",
       "    }\n",
       "\n",
       "    .dataframe thead th {\n",
       "        text-align: right;\n",
       "    }\n",
       "</style>\n",
       "<table border=\"1\" class=\"dataframe\">\n",
       "  <thead>\n",
       "    <tr style=\"text-align: right;\">\n",
       "      <th></th>\n",
       "      <th>state</th>\n",
       "      <th>male_physical_activity</th>\n",
       "      <th>female_physical_activity</th>\n",
       "    </tr>\n",
       "  </thead>\n",
       "  <tbody>\n",
       "    <tr>\n",
       "      <td>1</td>\n",
       "      <td>Alabama</td>\n",
       "      <td>49.5</td>\n",
       "      <td>42.0</td>\n",
       "    </tr>\n",
       "    <tr>\n",
       "      <td>69</td>\n",
       "      <td>Alaska</td>\n",
       "      <td>59.8</td>\n",
       "      <td>57.6</td>\n",
       "    </tr>\n",
       "    <tr>\n",
       "      <td>98</td>\n",
       "      <td>Arizona</td>\n",
       "      <td>59.5</td>\n",
       "      <td>56.9</td>\n",
       "    </tr>\n",
       "    <tr>\n",
       "      <td>114</td>\n",
       "      <td>Arkansas</td>\n",
       "      <td>51.3</td>\n",
       "      <td>45.2</td>\n",
       "    </tr>\n",
       "    <tr>\n",
       "      <td>190</td>\n",
       "      <td>California</td>\n",
       "      <td>61.3</td>\n",
       "      <td>59.2</td>\n",
       "    </tr>\n",
       "  </tbody>\n",
       "</table>\n",
       "</div>"
      ],
      "text/plain": [
       "          state  male_physical_activity  female_physical_activity\n",
       "1       Alabama                    49.5                      42.0\n",
       "69       Alaska                    59.8                      57.6\n",
       "98      Arizona                    59.5                      56.9\n",
       "114    Arkansas                    51.3                      45.2\n",
       "190  California                    61.3                      59.2"
      ]
     },
     "execution_count": 15,
     "metadata": {},
     "output_type": "execute_result"
    }
   ],
   "source": [
    "df_physical = df_physical.rename(columns = {\"State\" : \"state\",\\\n",
    "                             \"Male sufficient physical activity  prevalence, 2011* (%)\" : \"male_physical_activity\",\\\n",
    "                             \"Female sufficient physical activity  prevalence, 2011* (%)\" : \"female_physical_activity\"})\n",
    "df_physical.head()"
   ]
  },
  {
   "cell_type": "code",
   "execution_count": 33,
   "metadata": {},
   "outputs": [
    {
     "data": {
      "text/html": [
       "<div>\n",
       "<style scoped>\n",
       "    .dataframe tbody tr th:only-of-type {\n",
       "        vertical-align: middle;\n",
       "    }\n",
       "\n",
       "    .dataframe tbody tr th {\n",
       "        vertical-align: top;\n",
       "    }\n",
       "\n",
       "    .dataframe thead th {\n",
       "        text-align: right;\n",
       "    }\n",
       "</style>\n",
       "<table border=\"1\" class=\"dataframe\">\n",
       "  <thead>\n",
       "    <tr style=\"text-align: right;\">\n",
       "      <th></th>\n",
       "      <th>state</th>\n",
       "      <th>male_obesity</th>\n",
       "      <th>female_obesity</th>\n",
       "      <th>mean_obesity</th>\n",
       "    </tr>\n",
       "  </thead>\n",
       "  <tbody>\n",
       "    <tr>\n",
       "      <td>1</td>\n",
       "      <td>Alabama</td>\n",
       "      <td>37.3</td>\n",
       "      <td>42.2</td>\n",
       "      <td>39.75</td>\n",
       "    </tr>\n",
       "    <tr>\n",
       "      <td>69</td>\n",
       "      <td>Alaska</td>\n",
       "      <td>33.8</td>\n",
       "      <td>37.6</td>\n",
       "      <td>35.70</td>\n",
       "    </tr>\n",
       "    <tr>\n",
       "      <td>98</td>\n",
       "      <td>Arizona</td>\n",
       "      <td>32.4</td>\n",
       "      <td>33.8</td>\n",
       "      <td>33.10</td>\n",
       "    </tr>\n",
       "    <tr>\n",
       "      <td>114</td>\n",
       "      <td>Arkansas</td>\n",
       "      <td>37.2</td>\n",
       "      <td>39.3</td>\n",
       "      <td>38.25</td>\n",
       "    </tr>\n",
       "    <tr>\n",
       "      <td>190</td>\n",
       "      <td>California</td>\n",
       "      <td>29.4</td>\n",
       "      <td>32.9</td>\n",
       "      <td>31.15</td>\n",
       "    </tr>\n",
       "  </tbody>\n",
       "</table>\n",
       "</div>"
      ],
      "text/plain": [
       "          state  male_obesity  female_obesity  mean_obesity\n",
       "1       Alabama          37.3            42.2         39.75\n",
       "69       Alaska          33.8            37.6         35.70\n",
       "98      Arizona          32.4            33.8         33.10\n",
       "114    Arkansas          37.2            39.3         38.25\n",
       "190  California          29.4            32.9         31.15"
      ]
     },
     "execution_count": 33,
     "metadata": {},
     "output_type": "execute_result"
    }
   ],
   "source": [
    "df_obesity = df_obesity.rename(columns = {\"State\" : \"state\",\\\n",
    "                             \"Male obesity  prevalence, 2011* (%)\" : \"male_obesity\",\\\n",
    "                             \"Female obesity prevalence, 2011* (%)\" : \"female_obesity\"})\n",
    "df_obesity.head()"
   ]
  },
  {
   "cell_type": "markdown",
   "metadata": {},
   "source": [
    "We will now try to analyse the distributions of our dataframes "
   ]
  },
  {
   "cell_type": "code",
   "execution_count": 34,
   "metadata": {},
   "outputs": [
    {
     "data": {
      "text/plain": [
       "array([[<matplotlib.axes._subplots.AxesSubplot object at 0x7f1d0ef6dcd0>,\n",
       "        <matplotlib.axes._subplots.AxesSubplot object at 0x7f1d0ee6a710>],\n",
       "       [<matplotlib.axes._subplots.AxesSubplot object at 0x7f1d0ee9aa10>,\n",
       "        <matplotlib.axes._subplots.AxesSubplot object at 0x7f1d0ee4dd10>]],\n",
       "      dtype=object)"
      ]
     },
     "execution_count": 34,
     "metadata": {},
     "output_type": "execute_result"
    },
    {
     "data": {
      "image/png": "[encoded data removed]",
      "text/plain": [
       "<Figure size 432x288 with 4 Axes>"
      ]
     },
     "metadata": {
      "needs_background": "light"
     },
     "output_type": "display_data"
    }
   ],
   "source": [
    "df_obesity.hist(bins = 20)"
   ]
  },
  {
   "cell_type": "code",
   "execution_count": 35,
   "metadata": {},
   "outputs": [
    {
     "data": {
      "text/html": [
       "<div>\n",
       "<style scoped>\n",
       "    .dataframe tbody tr th:only-of-type {\n",
       "        vertical-align: middle;\n",
       "    }\n",
       "\n",
       "    .dataframe tbody tr th {\n",
       "        vertical-align: top;\n",
       "    }\n",
       "\n",
       "    .dataframe thead th {\n",
       "        text-align: right;\n",
       "    }\n",
       "</style>\n",
       "<table border=\"1\" class=\"dataframe\">\n",
       "  <thead>\n",
       "    <tr style=\"text-align: right;\">\n",
       "      <th></th>\n",
       "      <th>male_obesity</th>\n",
       "      <th>female_obesity</th>\n",
       "      <th>mean_obesity</th>\n",
       "    </tr>\n",
       "  </thead>\n",
       "  <tbody>\n",
       "    <tr>\n",
       "      <td>count</td>\n",
       "      <td>51.000000</td>\n",
       "      <td>51.000000</td>\n",
       "      <td>51.000000</td>\n",
       "    </tr>\n",
       "    <tr>\n",
       "      <td>mean</td>\n",
       "      <td>34.023529</td>\n",
       "      <td>35.929412</td>\n",
       "      <td>34.976471</td>\n",
       "    </tr>\n",
       "    <tr>\n",
       "      <td>std</td>\n",
       "      <td>3.173994</td>\n",
       "      <td>3.635893</td>\n",
       "      <td>3.212263</td>\n",
       "    </tr>\n",
       "    <tr>\n",
       "      <td>min</td>\n",
       "      <td>22.400000</td>\n",
       "      <td>26.100000</td>\n",
       "      <td>27.250000</td>\n",
       "    </tr>\n",
       "    <tr>\n",
       "      <td>25%</td>\n",
       "      <td>32.700000</td>\n",
       "      <td>33.450000</td>\n",
       "      <td>32.975000</td>\n",
       "    </tr>\n",
       "    <tr>\n",
       "      <td>50%</td>\n",
       "      <td>33.900000</td>\n",
       "      <td>35.900000</td>\n",
       "      <td>35.400000</td>\n",
       "    </tr>\n",
       "    <tr>\n",
       "      <td>75%</td>\n",
       "      <td>36.300000</td>\n",
       "      <td>38.750000</td>\n",
       "      <td>37.525000</td>\n",
       "    </tr>\n",
       "    <tr>\n",
       "      <td>max</td>\n",
       "      <td>39.400000</td>\n",
       "      <td>44.500000</td>\n",
       "      <td>41.800000</td>\n",
       "    </tr>\n",
       "  </tbody>\n",
       "</table>\n",
       "</div>"
      ],
      "text/plain": [
       "       male_obesity  female_obesity  mean_obesity\n",
       "count     51.000000       51.000000     51.000000\n",
       "mean      34.023529       35.929412     34.976471\n",
       "std        3.173994        3.635893      3.212263\n",
       "min       22.400000       26.100000     27.250000\n",
       "25%       32.700000       33.450000     32.975000\n",
       "50%       33.900000       35.900000     35.400000\n",
       "75%       36.300000       38.750000     37.525000\n",
       "max       39.400000       44.500000     41.800000"
      ]
     },
     "execution_count": 35,
     "metadata": {},
     "output_type": "execute_result"
    }
   ],
   "source": [
    "df_obesity.describe()"
   ]
  },
  {
   "cell_type": "markdown",
   "metadata": {},
   "source": [
    "From the histograms, we can see that the distributions for female obesity is almost gaussian while it is skewed to the left for the males.\n",
    "The obesity prevalence is also comparatively higher for all females. The District of Columbia has the lowest male obesity while Hawaii has the lowest female \n",
    "obesity which is lower than its male obesity. Mississipi has half of its females obese and Louisiana tops in Male obesity. Note that the least obese states are actually much less obese than other states(around 3 standard deviations from 25 percentile). "
   ]
  },
  {
   "cell_type": "code",
   "execution_count": 36,
   "metadata": {},
   "outputs": [
    {
     "data": {
      "text/plain": [
       "state             Louisiana\n",
       "male_obesity           39.4\n",
       "female_obesity         41.7\n",
       "mean_obesity          40.55\n",
       "Name: 1131, dtype: object"
      ]
     },
     "execution_count": 36,
     "metadata": {},
     "output_type": "execute_result"
    }
   ],
   "source": [
    "#Max male obesity\n",
    "df_obesity.loc[df_obesity[\"male_obesity\"].idxmax()]"
   ]
  },
  {
   "cell_type": "code",
   "execution_count": 37,
   "metadata": {},
   "outputs": [
    {
     "data": {
      "text/plain": [
       "state             Mississippi\n",
       "male_obesity             39.1\n",
       "female_obesity           44.5\n",
       "mean_obesity             41.8\n",
       "Name: 1425, dtype: object"
      ]
     },
     "execution_count": 37,
     "metadata": {},
     "output_type": "execute_result"
    }
   ],
   "source": [
    "#Max female obesity\n",
    "df_obesity.loc[df_obesity[\"female_obesity\"].idxmax()]"
   ]
  },
  {
   "cell_type": "code",
   "execution_count": 38,
   "metadata": {},
   "outputs": [
    {
     "data": {
      "text/plain": [
       "state             District of Columbia\n",
       "male_obesity                      22.4\n",
       "female_obesity                    35.3\n",
       "mean_obesity                     28.85\n",
       "Name: 327, dtype: object"
      ]
     },
     "execution_count": 38,
     "metadata": {},
     "output_type": "execute_result"
    }
   ],
   "source": [
    "#Min male obesity\n",
    "df_obesity.loc[df_obesity[\"male_obesity\"].idxmin()]"
   ]
  },
  {
   "cell_type": "code",
   "execution_count": 39,
   "metadata": {},
   "outputs": [
    {
     "data": {
      "text/plain": [
       "state             Hawaii\n",
       "male_obesity        28.4\n",
       "female_obesity      26.1\n",
       "mean_obesity       27.25\n",
       "Name: 557, dtype: object"
      ]
     },
     "execution_count": 39,
     "metadata": {},
     "output_type": "execute_result"
    }
   ],
   "source": [
    "#Min female obesity\n",
    "df_obesity.loc[df_obesity[\"female_obesity\"].idxmin()]"
   ]
  },
  {
   "cell_type": "code",
   "execution_count": 40,
   "metadata": {},
   "outputs": [
    {
     "data": {
      "text/plain": [
       "array([[<matplotlib.axes._subplots.AxesSubplot object at 0x7f1d0ed1c190>,\n",
       "        <matplotlib.axes._subplots.AxesSubplot object at 0x7f1d0ecc8ed0>],\n",
       "       [<matplotlib.axes._subplots.AxesSubplot object at 0x7f1d0ec81c90>,\n",
       "        <matplotlib.axes._subplots.AxesSubplot object at 0x7f1d0ec3bf90>]],\n",
       "      dtype=object)"
      ]
     },
     "execution_count": 40,
     "metadata": {},
     "output_type": "execute_result"
    },
    {
     "data": {
      "image/png": "[encoded data removed]",
      "text/plain": [
       "<Figure size 432x288 with 4 Axes>"
      ]
     },
     "metadata": {
      "needs_background": "light"
     },
     "output_type": "display_data"
    }
   ],
   "source": [
    "df_physical.hist(bins = 20)"
   ]
  },
  {
   "cell_type": "code",
   "execution_count": 41,
   "metadata": {},
   "outputs": [
    {
     "data": {
      "text/html": [
       "<div>\n",
       "<style scoped>\n",
       "    .dataframe tbody tr th:only-of-type {\n",
       "        vertical-align: middle;\n",
       "    }\n",
       "\n",
       "    .dataframe tbody tr th {\n",
       "        vertical-align: top;\n",
       "    }\n",
       "\n",
       "    .dataframe thead th {\n",
       "        text-align: right;\n",
       "    }\n",
       "</style>\n",
       "<table border=\"1\" class=\"dataframe\">\n",
       "  <thead>\n",
       "    <tr style=\"text-align: right;\">\n",
       "      <th></th>\n",
       "      <th>male_physical_activity</th>\n",
       "      <th>female_physical_activity</th>\n",
       "      <th>mean_physical_activity</th>\n",
       "    </tr>\n",
       "  </thead>\n",
       "  <tbody>\n",
       "    <tr>\n",
       "      <td>count</td>\n",
       "      <td>51.000000</td>\n",
       "      <td>51.000000</td>\n",
       "      <td>51.000000</td>\n",
       "    </tr>\n",
       "    <tr>\n",
       "      <td>mean</td>\n",
       "      <td>56.249020</td>\n",
       "      <td>52.794118</td>\n",
       "      <td>56.249020</td>\n",
       "    </tr>\n",
       "    <tr>\n",
       "      <td>std</td>\n",
       "      <td>4.547191</td>\n",
       "      <td>5.802600</td>\n",
       "      <td>4.547191</td>\n",
       "    </tr>\n",
       "    <tr>\n",
       "      <td>min</td>\n",
       "      <td>46.700000</td>\n",
       "      <td>39.700000</td>\n",
       "      <td>46.700000</td>\n",
       "    </tr>\n",
       "    <tr>\n",
       "      <td>25%</td>\n",
       "      <td>53.700000</td>\n",
       "      <td>49.900000</td>\n",
       "      <td>53.700000</td>\n",
       "    </tr>\n",
       "    <tr>\n",
       "      <td>50%</td>\n",
       "      <td>55.800000</td>\n",
       "      <td>52.800000</td>\n",
       "      <td>55.800000</td>\n",
       "    </tr>\n",
       "    <tr>\n",
       "      <td>75%</td>\n",
       "      <td>59.800000</td>\n",
       "      <td>57.650000</td>\n",
       "      <td>59.800000</td>\n",
       "    </tr>\n",
       "    <tr>\n",
       "      <td>max</td>\n",
       "      <td>66.000000</td>\n",
       "      <td>62.800000</td>\n",
       "      <td>66.000000</td>\n",
       "    </tr>\n",
       "  </tbody>\n",
       "</table>\n",
       "</div>"
      ],
      "text/plain": [
       "       male_physical_activity  female_physical_activity  \\\n",
       "count               51.000000                 51.000000   \n",
       "mean                56.249020                 52.794118   \n",
       "std                  4.547191                  5.802600   \n",
       "min                 46.700000                 39.700000   \n",
       "25%                 53.700000                 49.900000   \n",
       "50%                 55.800000                 52.800000   \n",
       "75%                 59.800000                 57.650000   \n",
       "max                 66.000000                 62.800000   \n",
       "\n",
       "       mean_physical_activity  \n",
       "count               51.000000  \n",
       "mean                56.249020  \n",
       "std                  4.547191  \n",
       "min                 46.700000  \n",
       "25%                 53.700000  \n",
       "50%                 55.800000  \n",
       "75%                 59.800000  \n",
       "max                 66.000000  "
      ]
     },
     "execution_count": 41,
     "metadata": {},
     "output_type": "execute_result"
    }
   ],
   "source": [
    "df_physical.describe()"
   ]
  },
  {
   "cell_type": "markdown",
   "metadata": {},
   "source": [
    "The distributions we now get are mean centered but not\n",
    "particularly gaussian. Female physical activity is comparatively lower than male physical activity(mean and median). "
   ]
  },
  {
   "cell_type": "code",
   "execution_count": 42,
   "metadata": {},
   "outputs": [
    {
     "data": {
      "text/plain": [
       "state                       Hawaii\n",
       "male_physical_activity          66\n",
       "female_physical_activity      60.9\n",
       "mean_physical_activity          66\n",
       "Name: 557, dtype: object"
      ]
     },
     "execution_count": 42,
     "metadata": {},
     "output_type": "execute_result"
    }
   ],
   "source": [
    "#Max male physical activity\n",
    "df_physical.loc[df_physical[\"male_physical_activity\"].idxmax()]"
   ]
  },
  {
   "cell_type": "code",
   "execution_count": 43,
   "metadata": {},
   "outputs": [
    {
     "data": {
      "text/plain": [
       "state                       Vermont\n",
       "male_physical_activity         63.7\n",
       "female_physical_activity       62.8\n",
       "mean_physical_activity         63.7\n",
       "Name: 2851, dtype: object"
      ]
     },
     "execution_count": 43,
     "metadata": {},
     "output_type": "execute_result"
    }
   ],
   "source": [
    "#Max female physical activity\n",
    "df_physical.loc[df_physical[\"female_physical_activity\"].idxmax()]"
   ]
  },
  {
   "cell_type": "code",
   "execution_count": 44,
   "metadata": {},
   "outputs": [
    {
     "data": {
      "text/plain": [
       "state                       Tennessee\n",
       "male_physical_activity           46.7\n",
       "female_physical_activity         39.9\n",
       "mean_physical_activity           46.7\n",
       "Name: 2470, dtype: object"
      ]
     },
     "execution_count": 44,
     "metadata": {},
     "output_type": "execute_result"
    }
   ],
   "source": [
    "#Min male physical activity\n",
    "df_physical.loc[df_physical[\"male_physical_activity\"].idxmin()]"
   ]
  },
  {
   "cell_type": "code",
   "execution_count": 45,
   "metadata": {},
   "outputs": [
    {
     "data": {
      "text/plain": [
       "state                       Mississippi\n",
       "male_physical_activity             47.2\n",
       "female_physical_activity           39.7\n",
       "mean_physical_activity             47.2\n",
       "Name: 1425, dtype: object"
      ]
     },
     "execution_count": 45,
     "metadata": {},
     "output_type": "execute_result"
    }
   ],
   "source": [
    "#Min female physical activity\n",
    "df_physical.loc[df_physical[\"female_physical_activity\"].idxmin()]"
   ]
  },
  {
   "cell_type": "markdown",
   "metadata": {},
   "source": [
    "Hawaii has the highest physical activity for males and really high physical activity for females too. Their low obesity and high physical activity indicate the correlation for these two features. Further, Mississippi's low physical activity levels and high obesity rates again indicate the correlation."
   ]
  },
  {
   "cell_type": "code",
   "execution_count": 46,
   "metadata": {},
   "outputs": [],
   "source": [
    "#df_physical_mean = df_physical.copy()\n",
    "#df_obesity_mean = df_obesity.copy()\n",
    "df_physical[\"mean_physical_activity\"] = 0.5*(df_physical[\"male_physical_activity\"] + df_physical[\"male_physical_activity\"]) \n",
    "df_obesity[\"mean_obesity\"] = 0.5*(df_obesity[\"male_obesity\"] + df_obesity[\"female_obesity\"])"
   ]
  },
  {
   "cell_type": "code",
   "execution_count": 47,
   "metadata": {},
   "outputs": [
    {
     "data": {
      "text/html": [
       "<div>\n",
       "<style scoped>\n",
       "    .dataframe tbody tr th:only-of-type {\n",
       "        vertical-align: middle;\n",
       "    }\n",
       "\n",
       "    .dataframe tbody tr th {\n",
       "        vertical-align: top;\n",
       "    }\n",
       "\n",
       "    .dataframe thead th {\n",
       "        text-align: right;\n",
       "    }\n",
       "</style>\n",
       "<table border=\"1\" class=\"dataframe\">\n",
       "  <thead>\n",
       "    <tr style=\"text-align: right;\">\n",
       "      <th></th>\n",
       "      <th>male_physical_activity</th>\n",
       "      <th>female_physical_activity</th>\n",
       "      <th>mean_physical_activity</th>\n",
       "    </tr>\n",
       "  </thead>\n",
       "  <tbody>\n",
       "    <tr>\n",
       "      <td>count</td>\n",
       "      <td>51.000000</td>\n",
       "      <td>51.000000</td>\n",
       "      <td>51.000000</td>\n",
       "    </tr>\n",
       "    <tr>\n",
       "      <td>mean</td>\n",
       "      <td>56.249020</td>\n",
       "      <td>52.794118</td>\n",
       "      <td>56.249020</td>\n",
       "    </tr>\n",
       "    <tr>\n",
       "      <td>std</td>\n",
       "      <td>4.547191</td>\n",
       "      <td>5.802600</td>\n",
       "      <td>4.547191</td>\n",
       "    </tr>\n",
       "    <tr>\n",
       "      <td>min</td>\n",
       "      <td>46.700000</td>\n",
       "      <td>39.700000</td>\n",
       "      <td>46.700000</td>\n",
       "    </tr>\n",
       "    <tr>\n",
       "      <td>25%</td>\n",
       "      <td>53.700000</td>\n",
       "      <td>49.900000</td>\n",
       "      <td>53.700000</td>\n",
       "    </tr>\n",
       "    <tr>\n",
       "      <td>50%</td>\n",
       "      <td>55.800000</td>\n",
       "      <td>52.800000</td>\n",
       "      <td>55.800000</td>\n",
       "    </tr>\n",
       "    <tr>\n",
       "      <td>75%</td>\n",
       "      <td>59.800000</td>\n",
       "      <td>57.650000</td>\n",
       "      <td>59.800000</td>\n",
       "    </tr>\n",
       "    <tr>\n",
       "      <td>max</td>\n",
       "      <td>66.000000</td>\n",
       "      <td>62.800000</td>\n",
       "      <td>66.000000</td>\n",
       "    </tr>\n",
       "  </tbody>\n",
       "</table>\n",
       "</div>"
      ],
      "text/plain": [
       "       male_physical_activity  female_physical_activity  \\\n",
       "count               51.000000                 51.000000   \n",
       "mean                56.249020                 52.794118   \n",
       "std                  4.547191                  5.802600   \n",
       "min                 46.700000                 39.700000   \n",
       "25%                 53.700000                 49.900000   \n",
       "50%                 55.800000                 52.800000   \n",
       "75%                 59.800000                 57.650000   \n",
       "max                 66.000000                 62.800000   \n",
       "\n",
       "       mean_physical_activity  \n",
       "count               51.000000  \n",
       "mean                56.249020  \n",
       "std                  4.547191  \n",
       "min                 46.700000  \n",
       "25%                 53.700000  \n",
       "50%                 55.800000  \n",
       "75%                 59.800000  \n",
       "max                 66.000000  "
      ]
     },
     "execution_count": 47,
     "metadata": {},
     "output_type": "execute_result"
    }
   ],
   "source": [
    "df_physical.describe()"
   ]
  },
  {
   "cell_type": "code",
   "execution_count": 49,
   "metadata": {},
   "outputs": [],
   "source": [
    "alcohol_data_xls = pd.ExcelFile(\"Data/harsh_data/IHME_county_data_Alcohol_NATIONAL.xlsx\")"
   ]
  },
  {
   "cell_type": "code",
   "execution_count": 50,
   "metadata": {},
   "outputs": [],
   "source": [
    "alcohol_df = pd.read_excel(alcohol_data_xls,'Any')"
   ]
  },
  {
   "cell_type": "code",
   "execution_count": 51,
   "metadata": {},
   "outputs": [
    {
     "data": {
      "text/plain": [
       "Index(['State', 'Location', '2002 Both Sexes', '2002 Females', '2002 Males',\n",
       "       '2003 Both Sexes', '2003 Females', '2003 Males', '2004 Both Sexes',\n",
       "       '2004 Females', '2004 Males', '2005 Both Sexes', '2005 Females',\n",
       "       '2005 Males', '2006 Both Sexes', '2006 Females', '2006 Males',\n",
       "       '2007 Both Sexes', '2007 Females', '2007 Males', '2008 Both Sexes',\n",
       "       '2008 Females', '2008 Males', '2009 Both Sexes', '2009 Females',\n",
       "       '2009 Males', '2010 Both Sexes', '2010 Females', '2010 Males',\n",
       "       '2011 Both Sexes', '2011 Females', '2011 Males', '2012 Both Sexes',\n",
       "       '2012 Females', '2012 Males', 'Percent Change 2002-2012, Both Sexes',\n",
       "       'Percent Change 2002-2012, Females', 'Percent Change 2002-2012, Males',\n",
       "       'Percent Change 2005-2012, Both Sexes',\n",
       "       'Percent Change 2005-2012, Females', 'Percent Change 2005-2012, Males'],\n",
       "      dtype='object')"
      ]
     },
     "execution_count": 51,
     "metadata": {},
     "output_type": "execute_result"
    }
   ],
   "source": [
    "alcohol_df.columns"
   ]
  },
  {
   "cell_type": "code",
   "execution_count": 52,
   "metadata": {},
   "outputs": [],
   "source": [
    "alcohol_df = alcohol_df[(alcohol_df[\"Location\"] == alcohol_df[\"State\"]) & (alcohol_df[\"Location\"] != \"United States\")].drop(columns=[\"Location\"])"
   ]
  },
  {
   "cell_type": "code",
   "execution_count": 53,
   "metadata": {},
   "outputs": [
    {
     "data": {
      "text/html": [
       "<div>\n",
       "<style scoped>\n",
       "    .dataframe tbody tr th:only-of-type {\n",
       "        vertical-align: middle;\n",
       "    }\n",
       "\n",
       "    .dataframe tbody tr th {\n",
       "        vertical-align: top;\n",
       "    }\n",
       "\n",
       "    .dataframe thead th {\n",
       "        text-align: right;\n",
       "    }\n",
       "</style>\n",
       "<table border=\"1\" class=\"dataframe\">\n",
       "  <thead>\n",
       "    <tr style=\"text-align: right;\">\n",
       "      <th></th>\n",
       "      <th>State</th>\n",
       "      <th>alcohol_prevalence</th>\n",
       "    </tr>\n",
       "  </thead>\n",
       "  <tbody>\n",
       "    <tr>\n",
       "      <td>1</td>\n",
       "      <td>Alabama</td>\n",
       "      <td>43.6</td>\n",
       "    </tr>\n",
       "    <tr>\n",
       "      <td>69</td>\n",
       "      <td>Alaska</td>\n",
       "      <td>59.5</td>\n",
       "    </tr>\n",
       "    <tr>\n",
       "      <td>94</td>\n",
       "      <td>Arizona</td>\n",
       "      <td>55.8</td>\n",
       "    </tr>\n",
       "    <tr>\n",
       "      <td>109</td>\n",
       "      <td>Arkansas</td>\n",
       "      <td>43.7</td>\n",
       "    </tr>\n",
       "    <tr>\n",
       "      <td>190</td>\n",
       "      <td>California</td>\n",
       "      <td>56.5</td>\n",
       "    </tr>\n",
       "  </tbody>\n",
       "</table>\n",
       "</div>"
      ],
      "text/plain": [
       "          State  alcohol_prevalence\n",
       "1       Alabama                43.6\n",
       "69       Alaska                59.5\n",
       "94      Arizona                55.8\n",
       "109    Arkansas                43.7\n",
       "190  California                56.5"
      ]
     },
     "execution_count": 53,
     "metadata": {},
     "output_type": "execute_result"
    }
   ],
   "source": [
    "alcohol_df = alcohol_df[[\"State\",\"2012 Both Sexes\"]].rename(columns = {\"2012 Both Sexes\" : \"alcohol_prevalence\"})\n",
    "alcohol_df.head()"
   ]
  },
  {
   "cell_type": "code",
   "execution_count": 54,
   "metadata": {},
   "outputs": [
    {
     "data": {
      "text/html": [
       "<div>\n",
       "<style scoped>\n",
       "    .dataframe tbody tr th:only-of-type {\n",
       "        vertical-align: middle;\n",
       "    }\n",
       "\n",
       "    .dataframe tbody tr th {\n",
       "        vertical-align: top;\n",
       "    }\n",
       "\n",
       "    .dataframe thead th {\n",
       "        text-align: right;\n",
       "    }\n",
       "</style>\n",
       "<table border=\"1\" class=\"dataframe\">\n",
       "  <thead>\n",
       "    <tr style=\"text-align: right;\">\n",
       "      <th></th>\n",
       "      <th>alcohol_prevalence</th>\n",
       "    </tr>\n",
       "  </thead>\n",
       "  <tbody>\n",
       "    <tr>\n",
       "      <td>count</td>\n",
       "      <td>51.000000</td>\n",
       "    </tr>\n",
       "    <tr>\n",
       "      <td>mean</td>\n",
       "      <td>55.966667</td>\n",
       "    </tr>\n",
       "    <tr>\n",
       "      <td>std</td>\n",
       "      <td>8.725701</td>\n",
       "    </tr>\n",
       "    <tr>\n",
       "      <td>min</td>\n",
       "      <td>28.200000</td>\n",
       "    </tr>\n",
       "    <tr>\n",
       "      <td>25%</td>\n",
       "      <td>50.850000</td>\n",
       "    </tr>\n",
       "    <tr>\n",
       "      <td>50%</td>\n",
       "      <td>58.100000</td>\n",
       "    </tr>\n",
       "    <tr>\n",
       "      <td>75%</td>\n",
       "      <td>62.300000</td>\n",
       "    </tr>\n",
       "    <tr>\n",
       "      <td>max</td>\n",
       "      <td>68.400000</td>\n",
       "    </tr>\n",
       "  </tbody>\n",
       "</table>\n",
       "</div>"
      ],
      "text/plain": [
       "       alcohol_prevalence\n",
       "count           51.000000\n",
       "mean            55.966667\n",
       "std              8.725701\n",
       "min             28.200000\n",
       "25%             50.850000\n",
       "50%             58.100000\n",
       "75%             62.300000\n",
       "max             68.400000"
      ]
     },
     "execution_count": 54,
     "metadata": {},
     "output_type": "execute_result"
    }
   ],
   "source": [
    "alcohol_df.describe()"
   ]
  },
  {
   "cell_type": "code",
   "execution_count": 55,
   "metadata": {},
   "outputs": [
    {
     "data": {
      "text/plain": [
       "array([[<matplotlib.axes._subplots.AxesSubplot object at 0x7f1d0ed1c290>]],\n",
       "      dtype=object)"
      ]
     },
     "execution_count": 55,
     "metadata": {},
     "output_type": "execute_result"
    },
    {
     "data": {
      "image/png": "[encoded data removed]",
      "text/plain": [
       "<Figure size 432x288 with 1 Axes>"
      ]
     },
     "metadata": {
      "needs_background": "light"
     },
     "output_type": "display_data"
    }
   ],
   "source": [
    "alcohol_df.hist(bins = 20)"
   ]
  },
  {
   "cell_type": "code",
   "execution_count": 56,
   "metadata": {},
   "outputs": [],
   "source": [
    "diabetes_data_xls = pd.ExcelFile(\"Data/harsh_data/IHME_county_data_Diabetes_NATIONAL.xlsx\")"
   ]
  },
  {
   "cell_type": "code",
   "execution_count": 57,
   "metadata": {},
   "outputs": [],
   "source": [
    "diabetes_df = pd.read_excel(diabetes_data_xls,'Total')"
   ]
  },
  {
   "cell_type": "code",
   "execution_count": 58,
   "metadata": {},
   "outputs": [],
   "source": [
    "diabetes_df.columns = diabetes_df.iloc[0]"
   ]
  },
  {
   "cell_type": "code",
   "execution_count": 59,
   "metadata": {},
   "outputs": [],
   "source": [
    "diabetes_df = diabetes_df.drop(diabetes_df.index[0])"
   ]
  },
  {
   "cell_type": "code",
   "execution_count": 60,
   "metadata": {},
   "outputs": [],
   "source": [
    "diabetes_df = diabetes_df[(diabetes_df[\"FIPS\"].notnull()) & (diabetes_df[\"FIPS\"]< 100)]"
   ]
  },
  {
   "cell_type": "code",
   "execution_count": 61,
   "metadata": {},
   "outputs": [],
   "source": [
    "diabetes_df = diabetes_df[[\"Location\",\"Prevalence, 2012, Both Sexes\"]].rename(columns = {\"Location\":\"State\",\"Prevalence, 2012, Both Sexes\" : \"diabetes_prevalence\"})"
   ]
  },
  {
   "cell_type": "code",
   "execution_count": 62,
   "metadata": {},
   "outputs": [
    {
     "data": {
      "text/html": [
       "<div>\n",
       "<style scoped>\n",
       "    .dataframe tbody tr th:only-of-type {\n",
       "        vertical-align: middle;\n",
       "    }\n",
       "\n",
       "    .dataframe tbody tr th {\n",
       "        vertical-align: top;\n",
       "    }\n",
       "\n",
       "    .dataframe thead th {\n",
       "        text-align: right;\n",
       "    }\n",
       "</style>\n",
       "<table border=\"1\" class=\"dataframe\">\n",
       "  <thead>\n",
       "    <tr style=\"text-align: right;\">\n",
       "      <th></th>\n",
       "      <th>State</th>\n",
       "      <th>diabetes_prevalence</th>\n",
       "    </tr>\n",
       "  </thead>\n",
       "  <tbody>\n",
       "    <tr>\n",
       "      <td>2</td>\n",
       "      <td>Alabama</td>\n",
       "      <td>16.19</td>\n",
       "    </tr>\n",
       "    <tr>\n",
       "      <td>70</td>\n",
       "      <td>Alaska</td>\n",
       "      <td>11.89</td>\n",
       "    </tr>\n",
       "    <tr>\n",
       "      <td>100</td>\n",
       "      <td>Arizona</td>\n",
       "      <td>13.72</td>\n",
       "    </tr>\n",
       "    <tr>\n",
       "      <td>116</td>\n",
       "      <td>Arkansas</td>\n",
       "      <td>15.23</td>\n",
       "    </tr>\n",
       "    <tr>\n",
       "      <td>192</td>\n",
       "      <td>California</td>\n",
       "      <td>14.51</td>\n",
       "    </tr>\n",
       "  </tbody>\n",
       "</table>\n",
       "</div>"
      ],
      "text/plain": [
       "0         State diabetes_prevalence\n",
       "2       Alabama               16.19\n",
       "70       Alaska               11.89\n",
       "100     Arizona               13.72\n",
       "116    Arkansas               15.23\n",
       "192  California               14.51"
      ]
     },
     "execution_count": 62,
     "metadata": {},
     "output_type": "execute_result"
    }
   ],
   "source": [
    "diabetes_df.head()"
   ]
  },
  {
   "cell_type": "code",
   "execution_count": 63,
   "metadata": {},
   "outputs": [],
   "source": [
    "diabetes_df = diabetes_df.astype({\"diabetes_prevalence\" : \"float64\"})"
   ]
  },
  {
   "cell_type": "code",
   "execution_count": 64,
   "metadata": {},
   "outputs": [
    {
     "data": {
      "text/html": [
       "<div>\n",
       "<style scoped>\n",
       "    .dataframe tbody tr th:only-of-type {\n",
       "        vertical-align: middle;\n",
       "    }\n",
       "\n",
       "    .dataframe tbody tr th {\n",
       "        vertical-align: top;\n",
       "    }\n",
       "\n",
       "    .dataframe thead th {\n",
       "        text-align: right;\n",
       "    }\n",
       "</style>\n",
       "<table border=\"1\" class=\"dataframe\">\n",
       "  <thead>\n",
       "    <tr style=\"text-align: right;\">\n",
       "      <th></th>\n",
       "      <th>diabetes_prevalence</th>\n",
       "    </tr>\n",
       "  </thead>\n",
       "  <tbody>\n",
       "    <tr>\n",
       "      <td>count</td>\n",
       "      <td>51.000000</td>\n",
       "    </tr>\n",
       "    <tr>\n",
       "      <td>mean</td>\n",
       "      <td>13.703529</td>\n",
       "    </tr>\n",
       "    <tr>\n",
       "      <td>std</td>\n",
       "      <td>1.578180</td>\n",
       "    </tr>\n",
       "    <tr>\n",
       "      <td>min</td>\n",
       "      <td>10.740000</td>\n",
       "    </tr>\n",
       "    <tr>\n",
       "      <td>25%</td>\n",
       "      <td>12.420000</td>\n",
       "    </tr>\n",
       "    <tr>\n",
       "      <td>50%</td>\n",
       "      <td>13.770000</td>\n",
       "    </tr>\n",
       "    <tr>\n",
       "      <td>75%</td>\n",
       "      <td>14.930000</td>\n",
       "    </tr>\n",
       "    <tr>\n",
       "      <td>max</td>\n",
       "      <td>17.550000</td>\n",
       "    </tr>\n",
       "  </tbody>\n",
       "</table>\n",
       "</div>"
      ],
      "text/plain": [
       "0      diabetes_prevalence\n",
       "count            51.000000\n",
       "mean             13.703529\n",
       "std               1.578180\n",
       "min              10.740000\n",
       "25%              12.420000\n",
       "50%              13.770000\n",
       "75%              14.930000\n",
       "max              17.550000"
      ]
     },
     "execution_count": 64,
     "metadata": {},
     "output_type": "execute_result"
    }
   ],
   "source": [
    "diabetes_df.describe()"
   ]
  },
  {
   "cell_type": "code",
   "execution_count": 65,
   "metadata": {},
   "outputs": [
    {
     "data": {
      "text/plain": [
       "array([[<matplotlib.axes._subplots.AxesSubplot object at 0x7f1d0b1f4dd0>]],\n",
       "      dtype=object)"
      ]
     },
     "execution_count": 65,
     "metadata": {},
     "output_type": "execute_result"
    },
    {
     "data": {
      "image/png": "[encoded data removed]",
      "text/plain": [
       "<Figure size 432x288 with 1 Axes>"
      ]
     },
     "metadata": {
      "needs_background": "light"
     },
     "output_type": "display_data"
    }
   ],
   "source": [
    "diabetes_df.hist(bins=20)"
   ]
  },
  {
   "cell_type": "code",
   "execution_count": 66,
   "metadata": {},
   "outputs": [],
   "source": [
    "merged_df1 = pd.merge(diabetes_df,alcohol_df,on=\"State\")"
   ]
  },
  {
   "cell_type": "code",
   "execution_count": 67,
   "metadata": {},
   "outputs": [
    {
     "data": {
      "text/html": [
       "<div>\n",
       "<style scoped>\n",
       "    .dataframe tbody tr th:only-of-type {\n",
       "        vertical-align: middle;\n",
       "    }\n",
       "\n",
       "    .dataframe tbody tr th {\n",
       "        vertical-align: top;\n",
       "    }\n",
       "\n",
       "    .dataframe thead th {\n",
       "        text-align: right;\n",
       "    }\n",
       "</style>\n",
       "<table border=\"1\" class=\"dataframe\">\n",
       "  <thead>\n",
       "    <tr style=\"text-align: right;\">\n",
       "      <th></th>\n",
       "      <th>State</th>\n",
       "      <th>diabetes_prevalence</th>\n",
       "      <th>alcohol_prevalence</th>\n",
       "    </tr>\n",
       "  </thead>\n",
       "  <tbody>\n",
       "    <tr>\n",
       "      <td>0</td>\n",
       "      <td>Alabama</td>\n",
       "      <td>16.19</td>\n",
       "      <td>43.6</td>\n",
       "    </tr>\n",
       "    <tr>\n",
       "      <td>1</td>\n",
       "      <td>Alaska</td>\n",
       "      <td>11.89</td>\n",
       "      <td>59.5</td>\n",
       "    </tr>\n",
       "    <tr>\n",
       "      <td>2</td>\n",
       "      <td>Arizona</td>\n",
       "      <td>13.72</td>\n",
       "      <td>55.8</td>\n",
       "    </tr>\n",
       "    <tr>\n",
       "      <td>3</td>\n",
       "      <td>Arkansas</td>\n",
       "      <td>15.23</td>\n",
       "      <td>43.7</td>\n",
       "    </tr>\n",
       "    <tr>\n",
       "      <td>4</td>\n",
       "      <td>California</td>\n",
       "      <td>14.51</td>\n",
       "      <td>56.5</td>\n",
       "    </tr>\n",
       "  </tbody>\n",
       "</table>\n",
       "</div>"
      ],
      "text/plain": [
       "        State  diabetes_prevalence  alcohol_prevalence\n",
       "0     Alabama                16.19                43.6\n",
       "1      Alaska                11.89                59.5\n",
       "2     Arizona                13.72                55.8\n",
       "3    Arkansas                15.23                43.7\n",
       "4  California                14.51                56.5"
      ]
     },
     "execution_count": 67,
     "metadata": {},
     "output_type": "execute_result"
    }
   ],
   "source": [
    "merged_df1.head()"
   ]
  },
  {
   "cell_type": "code",
   "execution_count": 68,
   "metadata": {},
   "outputs": [],
   "source": [
    "merged_df2 = pd.merge(df_physical[[\"state\",\"mean_physical_activity\"]],df_obesity[[\"state\",\"mean_obesity\"]], on=\"state\")"
   ]
  },
  {
   "cell_type": "code",
   "execution_count": 69,
   "metadata": {},
   "outputs": [
    {
     "data": {
      "text/html": [
       "<div>\n",
       "<style scoped>\n",
       "    .dataframe tbody tr th:only-of-type {\n",
       "        vertical-align: middle;\n",
       "    }\n",
       "\n",
       "    .dataframe tbody tr th {\n",
       "        vertical-align: top;\n",
       "    }\n",
       "\n",
       "    .dataframe thead th {\n",
       "        text-align: right;\n",
       "    }\n",
       "</style>\n",
       "<table border=\"1\" class=\"dataframe\">\n",
       "  <thead>\n",
       "    <tr style=\"text-align: right;\">\n",
       "      <th></th>\n",
       "      <th>state</th>\n",
       "      <th>mean_physical_activity</th>\n",
       "      <th>mean_obesity</th>\n",
       "    </tr>\n",
       "  </thead>\n",
       "  <tbody>\n",
       "    <tr>\n",
       "      <td>0</td>\n",
       "      <td>Alabama</td>\n",
       "      <td>49.5</td>\n",
       "      <td>39.75</td>\n",
       "    </tr>\n",
       "    <tr>\n",
       "      <td>1</td>\n",
       "      <td>Alaska</td>\n",
       "      <td>59.8</td>\n",
       "      <td>35.70</td>\n",
       "    </tr>\n",
       "    <tr>\n",
       "      <td>2</td>\n",
       "      <td>Arizona</td>\n",
       "      <td>59.5</td>\n",
       "      <td>33.10</td>\n",
       "    </tr>\n",
       "    <tr>\n",
       "      <td>3</td>\n",
       "      <td>Arkansas</td>\n",
       "      <td>51.3</td>\n",
       "      <td>38.25</td>\n",
       "    </tr>\n",
       "    <tr>\n",
       "      <td>4</td>\n",
       "      <td>California</td>\n",
       "      <td>61.3</td>\n",
       "      <td>31.15</td>\n",
       "    </tr>\n",
       "  </tbody>\n",
       "</table>\n",
       "</div>"
      ],
      "text/plain": [
       "        state  mean_physical_activity  mean_obesity\n",
       "0     Alabama                    49.5         39.75\n",
       "1      Alaska                    59.8         35.70\n",
       "2     Arizona                    59.5         33.10\n",
       "3    Arkansas                    51.3         38.25\n",
       "4  California                    61.3         31.15"
      ]
     },
     "execution_count": 69,
     "metadata": {},
     "output_type": "execute_result"
    }
   ],
   "source": [
    "merged_df2.head()"
   ]
  },
  {
   "cell_type": "code",
   "execution_count": 70,
   "metadata": {},
   "outputs": [],
   "source": [
    "merged_df2 = merged_df2.rename(columns = {\"state\":\"State\"})"
   ]
  },
  {
   "cell_type": "code",
   "execution_count": 71,
   "metadata": {},
   "outputs": [
    {
     "data": {
      "text/html": [
       "<div>\n",
       "<style scoped>\n",
       "    .dataframe tbody tr th:only-of-type {\n",
       "        vertical-align: middle;\n",
       "    }\n",
       "\n",
       "    .dataframe tbody tr th {\n",
       "        vertical-align: top;\n",
       "    }\n",
       "\n",
       "    .dataframe thead th {\n",
       "        text-align: right;\n",
       "    }\n",
       "</style>\n",
       "<table border=\"1\" class=\"dataframe\">\n",
       "  <thead>\n",
       "    <tr style=\"text-align: right;\">\n",
       "      <th></th>\n",
       "      <th>State</th>\n",
       "      <th>mean_physical_activity</th>\n",
       "      <th>mean_obesity</th>\n",
       "    </tr>\n",
       "  </thead>\n",
       "  <tbody>\n",
       "    <tr>\n",
       "      <td>0</td>\n",
       "      <td>Alabama</td>\n",
       "      <td>49.5</td>\n",
       "      <td>39.75</td>\n",
       "    </tr>\n",
       "    <tr>\n",
       "      <td>1</td>\n",
       "      <td>Alaska</td>\n",
       "      <td>59.8</td>\n",
       "      <td>35.70</td>\n",
       "    </tr>\n",
       "    <tr>\n",
       "      <td>2</td>\n",
       "      <td>Arizona</td>\n",
       "      <td>59.5</td>\n",
       "      <td>33.10</td>\n",
       "    </tr>\n",
       "    <tr>\n",
       "      <td>3</td>\n",
       "      <td>Arkansas</td>\n",
       "      <td>51.3</td>\n",
       "      <td>38.25</td>\n",
       "    </tr>\n",
       "    <tr>\n",
       "      <td>4</td>\n",
       "      <td>California</td>\n",
       "      <td>61.3</td>\n",
       "      <td>31.15</td>\n",
       "    </tr>\n",
       "  </tbody>\n",
       "</table>\n",
       "</div>"
      ],
      "text/plain": [
       "        State  mean_physical_activity  mean_obesity\n",
       "0     Alabama                    49.5         39.75\n",
       "1      Alaska                    59.8         35.70\n",
       "2     Arizona                    59.5         33.10\n",
       "3    Arkansas                    51.3         38.25\n",
       "4  California                    61.3         31.15"
      ]
     },
     "execution_count": 71,
     "metadata": {},
     "output_type": "execute_result"
    }
   ],
   "source": [
    "merged_df2.head()"
   ]
  },
  {
   "cell_type": "code",
   "execution_count": 72,
   "metadata": {},
   "outputs": [],
   "source": [
    "merged_df = pd.merge(merged_df1,merged_df2,on=\"State\")"
   ]
  },
  {
   "cell_type": "code",
   "execution_count": 73,
   "metadata": {},
   "outputs": [
    {
     "data": {
      "text/html": [
       "<div>\n",
       "<style scoped>\n",
       "    .dataframe tbody tr th:only-of-type {\n",
       "        vertical-align: middle;\n",
       "    }\n",
       "\n",
       "    .dataframe tbody tr th {\n",
       "        vertical-align: top;\n",
       "    }\n",
       "\n",
       "    .dataframe thead th {\n",
       "        text-align: right;\n",
       "    }\n",
       "</style>\n",
       "<table border=\"1\" class=\"dataframe\">\n",
       "  <thead>\n",
       "    <tr style=\"text-align: right;\">\n",
       "      <th></th>\n",
       "      <th>diabetes_prevalence</th>\n",
       "      <th>alcohol_prevalence</th>\n",
       "      <th>mean_physical_activity</th>\n",
       "      <th>mean_obesity</th>\n",
       "    </tr>\n",
       "  </thead>\n",
       "  <tbody>\n",
       "    <tr>\n",
       "      <td>diabetes_prevalence</td>\n",
       "      <td>1.000000</td>\n",
       "      <td>-0.627450</td>\n",
       "      <td>-0.719537</td>\n",
       "      <td>0.712363</td>\n",
       "    </tr>\n",
       "    <tr>\n",
       "      <td>alcohol_prevalence</td>\n",
       "      <td>-0.627450</td>\n",
       "      <td>1.000000</td>\n",
       "      <td>0.522726</td>\n",
       "      <td>-0.482867</td>\n",
       "    </tr>\n",
       "    <tr>\n",
       "      <td>mean_physical_activity</td>\n",
       "      <td>-0.719537</td>\n",
       "      <td>0.522726</td>\n",
       "      <td>1.000000</td>\n",
       "      <td>-0.840775</td>\n",
       "    </tr>\n",
       "    <tr>\n",
       "      <td>mean_obesity</td>\n",
       "      <td>0.712363</td>\n",
       "      <td>-0.482867</td>\n",
       "      <td>-0.840775</td>\n",
       "      <td>1.000000</td>\n",
       "    </tr>\n",
       "  </tbody>\n",
       "</table>\n",
       "</div>"
      ],
      "text/plain": [
       "                        diabetes_prevalence  alcohol_prevalence  \\\n",
       "diabetes_prevalence                1.000000           -0.627450   \n",
       "alcohol_prevalence                -0.627450            1.000000   \n",
       "mean_physical_activity            -0.719537            0.522726   \n",
       "mean_obesity                       0.712363           -0.482867   \n",
       "\n",
       "                        mean_physical_activity  mean_obesity  \n",
       "diabetes_prevalence                  -0.719537      0.712363  \n",
       "alcohol_prevalence                    0.522726     -0.482867  \n",
       "mean_physical_activity                1.000000     -0.840775  \n",
       "mean_obesity                         -0.840775      1.000000  "
      ]
     },
     "execution_count": 73,
     "metadata": {},
     "output_type": "execute_result"
    }
   ],
   "source": [
    "merged_df.corr()"
   ]
  },
  {
   "cell_type": "code",
   "execution_count": 74,
   "metadata": {},
   "outputs": [],
   "source": [
    "merged_df.to_pickle(\"hv_data.pkl\")"
   ]
  },
  {
   "cell_type": "code",
   "execution_count": null,
   "metadata": {},
   "outputs": [],
   "source": []
  }
 ],
 "metadata": {
  "kernelspec": {
   "display_name": "Python [conda env:ada] *",
   "language": "python",
   "name": "conda-env-ada-py"
  },
  "language_info": {
   "codemirror_mode": {
    "name": "ipython",
    "version": 3
   },
   "file_extension": ".py",
   "mimetype": "text/x-python",
   "name": "python",
   "nbconvert_exporter": "python",
   "pygments_lexer": "ipython3",
   "version": "3.7.4"
  }
 },
 "nbformat": 4,
 "nbformat_minor": 4
}
