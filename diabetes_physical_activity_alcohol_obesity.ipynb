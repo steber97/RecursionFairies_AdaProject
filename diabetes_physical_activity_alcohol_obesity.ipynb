{
 "cells": [
  {
   "cell_type": "code",
   "execution_count": 1,
   "metadata": {},
   "outputs": [],
   "source": [
    "import numpy as np\n",
    "import pandas as pd\n",
    "import matplotlib.pyplot as plt"
   ]
  },
  {
   "cell_type": "markdown",
   "metadata": {},
   "source": [
    "### ***Life_expectancy, obesity, physical activity Data*** \n",
    "This datasets contains county specific data for life expectancies, obesity and physical activity from [IHME](http://www.healthdata.org/) for multiple years\n",
    "We have three excel sheets corresponding to life expectancy, physical activity and obesity.\n",
    "For life expectancy, we have the actual value in years, while for physical activity and obesity we have a percentage measure which indicates prevalence.\n",
    "We first load the excel file from the data folder "
   ]
  },
  {
   "cell_type": "code",
   "execution_count": 2,
   "metadata": {},
   "outputs": [],
   "source": [
    "life_data = pd.ExcelFile(\"Data/harsh_data/IHME_county_data_LifeExpectancy_Obesity_PhysicalActivity_NATIONAL.xlsx\")"
   ]
  },
  {
   "cell_type": "code",
   "execution_count": 3,
   "metadata": {},
   "outputs": [
    {
     "data": {
      "text/plain": [
       "['Life Expectancy', 'Physical Activity', 'Obesity']"
      ]
     },
     "execution_count": 3,
     "metadata": {},
     "output_type": "execute_result"
    }
   ],
   "source": [
    "#Sheet names\n",
    "life_data.sheet_names"
   ]
  },
  {
   "cell_type": "code",
   "execution_count": 4,
   "metadata": {},
   "outputs": [],
   "source": [
    "#Loading all sheets into a dict of dataframes\n",
    "relevant_sheets = ['Physical Activity','Obesity']\n",
    "\n",
    "pd_dict_life = {}\n",
    "for sheet in relevant_sheets:\n",
    "    pd_dict_life[sheet] = pd.read_excel(life_data,sheet)"
   ]
  },
  {
   "cell_type": "markdown",
   "metadata": {},
   "source": [
    "Since we have data for life expectancy, we keep only the physical activity and obesity datasets"
   ]
  },
  {
   "cell_type": "code",
   "execution_count": 5,
   "metadata": {},
   "outputs": [
    {
     "data": {
      "text/html": [
       "<div>\n",
       "<style scoped>\n",
       "    .dataframe tbody tr th:only-of-type {\n",
       "        vertical-align: middle;\n",
       "    }\n",
       "\n",
       "    .dataframe tbody tr th {\n",
       "        vertical-align: top;\n",
       "    }\n",
       "\n",
       "    .dataframe thead th {\n",
       "        text-align: right;\n",
       "    }\n",
       "</style>\n",
       "<table border=\"1\" class=\"dataframe\">\n",
       "  <thead>\n",
       "    <tr style=\"text-align: right;\">\n",
       "      <th></th>\n",
       "      <th>State</th>\n",
       "      <th>County</th>\n",
       "      <th>Male sufficient physical activity prevalence, 2001 (%)</th>\n",
       "      <th>Female sufficient physical activity prevalence, 2001 (%)</th>\n",
       "      <th>Male sufficient physical activity  prevalence, 2009 (%)</th>\n",
       "      <th>Female sufficient physical activity  prevalence, 2009 (%)</th>\n",
       "      <th>Male sufficient physical activity  prevalence, 2011* (%)</th>\n",
       "      <th>Female sufficient physical activity  prevalence, 2011* (%)</th>\n",
       "      <th>Difference in male sufficient physical activity prevalence, 2001-2009 (percentage points)</th>\n",
       "      <th>Difference in female sufficient physical activity prevalence, 2001-2009 (percentage points)</th>\n",
       "      <th>Unnamed: 10</th>\n",
       "      <th>*Methodological changes in the 2011 BRFSS may affect comparability between the 2011 estimates and estimates from earlier years</th>\n",
       "    </tr>\n",
       "  </thead>\n",
       "  <tbody>\n",
       "    <tr>\n",
       "      <td>0</td>\n",
       "      <td>United States</td>\n",
       "      <td>NaN</td>\n",
       "      <td>56.8</td>\n",
       "      <td>46.7</td>\n",
       "      <td>57.8</td>\n",
       "      <td>51.3</td>\n",
       "      <td>56.3</td>\n",
       "      <td>52.6</td>\n",
       "      <td>1.0</td>\n",
       "      <td>4.7</td>\n",
       "      <td>NaN</td>\n",
       "      <td>NaN</td>\n",
       "    </tr>\n",
       "    <tr>\n",
       "      <td>1</td>\n",
       "      <td>Alabama</td>\n",
       "      <td>NaN</td>\n",
       "      <td>52.4</td>\n",
       "      <td>40.4</td>\n",
       "      <td>51.5</td>\n",
       "      <td>41.4</td>\n",
       "      <td>49.5</td>\n",
       "      <td>42.0</td>\n",
       "      <td>-0.9</td>\n",
       "      <td>1.0</td>\n",
       "      <td>NaN</td>\n",
       "      <td>NaN</td>\n",
       "    </tr>\n",
       "    <tr>\n",
       "      <td>2</td>\n",
       "      <td>Alabama</td>\n",
       "      <td>Autauga</td>\n",
       "      <td>55.0</td>\n",
       "      <td>43.6</td>\n",
       "      <td>55.1</td>\n",
       "      <td>46.8</td>\n",
       "      <td>52.9</td>\n",
       "      <td>47.5</td>\n",
       "      <td>0.1</td>\n",
       "      <td>3.2</td>\n",
       "      <td>NaN</td>\n",
       "      <td>NaN</td>\n",
       "    </tr>\n",
       "    <tr>\n",
       "      <td>3</td>\n",
       "      <td>Alabama</td>\n",
       "      <td>Baldwin</td>\n",
       "      <td>55.4</td>\n",
       "      <td>48.4</td>\n",
       "      <td>56.6</td>\n",
       "      <td>49.2</td>\n",
       "      <td>54.1</td>\n",
       "      <td>49.6</td>\n",
       "      <td>1.2</td>\n",
       "      <td>0.8</td>\n",
       "      <td>NaN</td>\n",
       "      <td>NaN</td>\n",
       "    </tr>\n",
       "    <tr>\n",
       "      <td>4</td>\n",
       "      <td>Alabama</td>\n",
       "      <td>Barbour</td>\n",
       "      <td>45.7</td>\n",
       "      <td>33.0</td>\n",
       "      <td>46.4</td>\n",
       "      <td>34.6</td>\n",
       "      <td>44.9</td>\n",
       "      <td>35.8</td>\n",
       "      <td>0.7</td>\n",
       "      <td>1.6</td>\n",
       "      <td>NaN</td>\n",
       "      <td>NaN</td>\n",
       "    </tr>\n",
       "  </tbody>\n",
       "</table>\n",
       "</div>"
      ],
      "text/plain": [
       "           State   County  \\\n",
       "0  United States      NaN   \n",
       "1        Alabama      NaN   \n",
       "2        Alabama  Autauga   \n",
       "3        Alabama  Baldwin   \n",
       "4        Alabama  Barbour   \n",
       "\n",
       "   Male sufficient physical activity prevalence, 2001 (%)  \\\n",
       "0                                               56.8        \n",
       "1                                               52.4        \n",
       "2                                               55.0        \n",
       "3                                               55.4        \n",
       "4                                               45.7        \n",
       "\n",
       "   Female sufficient physical activity prevalence, 2001 (%)  \\\n",
       "0                                               46.7          \n",
       "1                                               40.4          \n",
       "2                                               43.6          \n",
       "3                                               48.4          \n",
       "4                                               33.0          \n",
       "\n",
       "   Male sufficient physical activity  prevalence, 2009 (%)  \\\n",
       "0                                               57.8         \n",
       "1                                               51.5         \n",
       "2                                               55.1         \n",
       "3                                               56.6         \n",
       "4                                               46.4         \n",
       "\n",
       "   Female sufficient physical activity  prevalence, 2009 (%)  \\\n",
       "0                                               51.3           \n",
       "1                                               41.4           \n",
       "2                                               46.8           \n",
       "3                                               49.2           \n",
       "4                                               34.6           \n",
       "\n",
       "   Male sufficient physical activity  prevalence, 2011* (%)  \\\n",
       "0                                               56.3          \n",
       "1                                               49.5          \n",
       "2                                               52.9          \n",
       "3                                               54.1          \n",
       "4                                               44.9          \n",
       "\n",
       "   Female sufficient physical activity  prevalence, 2011* (%)  \\\n",
       "0                                               52.6            \n",
       "1                                               42.0            \n",
       "2                                               47.5            \n",
       "3                                               49.6            \n",
       "4                                               35.8            \n",
       "\n",
       "   Difference in male sufficient physical activity prevalence, 2001-2009 (percentage points)  \\\n",
       "0                                                1.0                                           \n",
       "1                                               -0.9                                           \n",
       "2                                                0.1                                           \n",
       "3                                                1.2                                           \n",
       "4                                                0.7                                           \n",
       "\n",
       "   Difference in female sufficient physical activity prevalence, 2001-2009 (percentage points)  \\\n",
       "0                                                4.7                                             \n",
       "1                                                1.0                                             \n",
       "2                                                3.2                                             \n",
       "3                                                0.8                                             \n",
       "4                                                1.6                                             \n",
       "\n",
       "   Unnamed: 10  \\\n",
       "0          NaN   \n",
       "1          NaN   \n",
       "2          NaN   \n",
       "3          NaN   \n",
       "4          NaN   \n",
       "\n",
       "   *Methodological changes in the 2011 BRFSS may affect comparability between the 2011 estimates and estimates from earlier years  \n",
       "0                                                NaN                                                                               \n",
       "1                                                NaN                                                                               \n",
       "2                                                NaN                                                                               \n",
       "3                                                NaN                                                                               \n",
       "4                                                NaN                                                                               "
      ]
     },
     "execution_count": 5,
     "metadata": {},
     "output_type": "execute_result"
    }
   ],
   "source": [
    "pd_dict_life['Physical Activity'].head()"
   ]
  },
  {
   "cell_type": "code",
   "execution_count": 6,
   "metadata": {},
   "outputs": [
    {
     "data": {
      "text/html": [
       "<div>\n",
       "<style scoped>\n",
       "    .dataframe tbody tr th:only-of-type {\n",
       "        vertical-align: middle;\n",
       "    }\n",
       "\n",
       "    .dataframe tbody tr th {\n",
       "        vertical-align: top;\n",
       "    }\n",
       "\n",
       "    .dataframe thead th {\n",
       "        text-align: right;\n",
       "    }\n",
       "</style>\n",
       "<table border=\"1\" class=\"dataframe\">\n",
       "  <thead>\n",
       "    <tr style=\"text-align: right;\">\n",
       "      <th></th>\n",
       "      <th>State</th>\n",
       "      <th>County</th>\n",
       "      <th>Male obesity prevalence, 2001 (%)</th>\n",
       "      <th>Female obesity prevalence, 2001 (%)</th>\n",
       "      <th>Male obesity prevalence, 2009 (%)</th>\n",
       "      <th>Female obesity  prevalence, 2009 (%)</th>\n",
       "      <th>Male obesity  prevalence, 2011* (%)</th>\n",
       "      <th>Female obesity prevalence, 2011* (%)</th>\n",
       "      <th>Difference in male obesity prevalence, 2001-2009 (percentage points)</th>\n",
       "      <th>Difference in female obesity prevalence, 2001-2009 (percentage points)</th>\n",
       "      <th>Unnamed: 10</th>\n",
       "      <th>*Methodological changes in the 2011 BRFSS may affect comparability between the 2011 estimates and estimates from earlier years</th>\n",
       "    </tr>\n",
       "  </thead>\n",
       "  <tbody>\n",
       "    <tr>\n",
       "      <td>0</td>\n",
       "      <td>United States</td>\n",
       "      <td>NaN</td>\n",
       "      <td>26.1</td>\n",
       "      <td>28.7</td>\n",
       "      <td>32.8</td>\n",
       "      <td>35.1</td>\n",
       "      <td>33.8</td>\n",
       "      <td>36.1</td>\n",
       "      <td>6.7</td>\n",
       "      <td>6.4</td>\n",
       "      <td>NaN</td>\n",
       "      <td>NaN</td>\n",
       "    </tr>\n",
       "    <tr>\n",
       "      <td>1</td>\n",
       "      <td>Alabama</td>\n",
       "      <td>NaN</td>\n",
       "      <td>29.7</td>\n",
       "      <td>34.1</td>\n",
       "      <td>36.1</td>\n",
       "      <td>41.2</td>\n",
       "      <td>37.3</td>\n",
       "      <td>42.2</td>\n",
       "      <td>6.4</td>\n",
       "      <td>7.1</td>\n",
       "      <td>NaN</td>\n",
       "      <td>NaN</td>\n",
       "    </tr>\n",
       "    <tr>\n",
       "      <td>2</td>\n",
       "      <td>Alabama</td>\n",
       "      <td>Autauga</td>\n",
       "      <td>30.7</td>\n",
       "      <td>32.3</td>\n",
       "      <td>35.9</td>\n",
       "      <td>37.4</td>\n",
       "      <td>37.1</td>\n",
       "      <td>38.8</td>\n",
       "      <td>5.3</td>\n",
       "      <td>5.2</td>\n",
       "      <td>NaN</td>\n",
       "      <td>NaN</td>\n",
       "    </tr>\n",
       "    <tr>\n",
       "      <td>3</td>\n",
       "      <td>Alabama</td>\n",
       "      <td>Baldwin</td>\n",
       "      <td>27.8</td>\n",
       "      <td>28.3</td>\n",
       "      <td>32.4</td>\n",
       "      <td>33.0</td>\n",
       "      <td>33.5</td>\n",
       "      <td>33.9</td>\n",
       "      <td>4.5</td>\n",
       "      <td>4.6</td>\n",
       "      <td>NaN</td>\n",
       "      <td>NaN</td>\n",
       "    </tr>\n",
       "    <tr>\n",
       "      <td>4</td>\n",
       "      <td>Alabama</td>\n",
       "      <td>Barbour</td>\n",
       "      <td>32.3</td>\n",
       "      <td>42.8</td>\n",
       "      <td>40.3</td>\n",
       "      <td>51.3</td>\n",
       "      <td>41.5</td>\n",
       "      <td>51.6</td>\n",
       "      <td>8.0</td>\n",
       "      <td>8.5</td>\n",
       "      <td>NaN</td>\n",
       "      <td>NaN</td>\n",
       "    </tr>\n",
       "  </tbody>\n",
       "</table>\n",
       "</div>"
      ],
      "text/plain": [
       "           State   County  Male obesity prevalence, 2001 (%)  \\\n",
       "0  United States      NaN                               26.1   \n",
       "1        Alabama      NaN                               29.7   \n",
       "2        Alabama  Autauga                               30.7   \n",
       "3        Alabama  Baldwin                               27.8   \n",
       "4        Alabama  Barbour                               32.3   \n",
       "\n",
       "   Female obesity prevalence, 2001 (%)  Male obesity prevalence, 2009 (%)  \\\n",
       "0                                 28.7                               32.8   \n",
       "1                                 34.1                               36.1   \n",
       "2                                 32.3                               35.9   \n",
       "3                                 28.3                               32.4   \n",
       "4                                 42.8                               40.3   \n",
       "\n",
       "   Female obesity  prevalence, 2009 (%)  Male obesity  prevalence, 2011* (%)  \\\n",
       "0                                  35.1                                 33.8   \n",
       "1                                  41.2                                 37.3   \n",
       "2                                  37.4                                 37.1   \n",
       "3                                  33.0                                 33.5   \n",
       "4                                  51.3                                 41.5   \n",
       "\n",
       "   Female obesity prevalence, 2011* (%)  \\\n",
       "0                                  36.1   \n",
       "1                                  42.2   \n",
       "2                                  38.8   \n",
       "3                                  33.9   \n",
       "4                                  51.6   \n",
       "\n",
       "   Difference in male obesity prevalence, 2001-2009 (percentage points)  \\\n",
       "0                                                6.7                      \n",
       "1                                                6.4                      \n",
       "2                                                5.3                      \n",
       "3                                                4.5                      \n",
       "4                                                8.0                      \n",
       "\n",
       "   Difference in female obesity prevalence, 2001-2009 (percentage points)  \\\n",
       "0                                                6.4                        \n",
       "1                                                7.1                        \n",
       "2                                                5.2                        \n",
       "3                                                4.6                        \n",
       "4                                                8.5                        \n",
       "\n",
       "   Unnamed: 10  \\\n",
       "0          NaN   \n",
       "1          NaN   \n",
       "2          NaN   \n",
       "3          NaN   \n",
       "4          NaN   \n",
       "\n",
       "   *Methodological changes in the 2011 BRFSS may affect comparability between the 2011 estimates and estimates from earlier years  \n",
       "0                                                NaN                                                                               \n",
       "1                                                NaN                                                                               \n",
       "2                                                NaN                                                                               \n",
       "3                                                NaN                                                                               \n",
       "4                                                NaN                                                                               "
      ]
     },
     "execution_count": 6,
     "metadata": {},
     "output_type": "execute_result"
    }
   ],
   "source": [
    "pd_dict_life['Obesity'].head()"
   ]
  },
  {
   "cell_type": "markdown",
   "metadata": {},
   "source": [
    "The average values for `State` are present in the rows where `County` is `NaN`. Further, we will need to remove the national average. Note that this corresponds to the row where `State` is United States. These changes have to be implemented for both physical activity and obesity so we apply it to the dict of these two dataframes"
   ]
  },
  {
   "cell_type": "code",
   "execution_count": 7,
   "metadata": {},
   "outputs": [],
   "source": [
    "for sheet,df in pd_dict_life.items():\n",
    "    pd_dict_life[sheet] = df[(df[\"County\"].isnull()) & (df[\"State\"] != \"United States\")].drop(columns=[\"County\"])"
   ]
  },
  {
   "cell_type": "markdown",
   "metadata": {},
   "source": [
    "We now separate the dataframes for a more detailed analysis"
   ]
  },
  {
   "cell_type": "code",
   "execution_count": 8,
   "metadata": {},
   "outputs": [],
   "source": [
    "df_obesity = pd_dict_life['Obesity']\n",
    "df_physical = pd_dict_life['Physical Activity']"
   ]
  },
  {
   "cell_type": "markdown",
   "metadata": {},
   "source": [
    "Note that we only wish to keep the mean value of the relevant feature(here physical activity or obesity) for a specific year. Since all our other datasets have\n",
    "values for years after 2010, we keep the latest values in these dataframes too."
   ]
  },
  {
   "cell_type": "code",
   "execution_count": 9,
   "metadata": {},
   "outputs": [
    {
     "name": "stdout",
     "output_type": "stream",
     "text": [
      "51 51\n"
     ]
    }
   ],
   "source": [
    "print(len(df_obesity),len(df_physical))"
   ]
  },
  {
   "cell_type": "markdown",
   "metadata": {},
   "source": [
    "Both our datasets have values for all the 51 states in the US."
   ]
  },
  {
   "cell_type": "code",
   "execution_count": 10,
   "metadata": {},
   "outputs": [
    {
     "data": {
      "text/plain": [
       "Index(['State', 'Male obesity prevalence, 2001 (%)',\n",
       "       'Female obesity prevalence, 2001 (%)',\n",
       "       'Male obesity prevalence, 2009 (%)',\n",
       "       'Female obesity  prevalence, 2009 (%)',\n",
       "       'Male obesity  prevalence, 2011* (%)',\n",
       "       'Female obesity prevalence, 2011* (%)',\n",
       "       'Difference in male obesity prevalence, 2001-2009 (percentage points)',\n",
       "       'Difference in female obesity prevalence, 2001-2009 (percentage points)',\n",
       "       'Unnamed: 10',\n",
       "       '*Methodological changes in the 2011 BRFSS may affect comparability between the 2011 estimates and estimates from earlier years'],\n",
       "      dtype='object')"
      ]
     },
     "execution_count": 10,
     "metadata": {},
     "output_type": "execute_result"
    }
   ],
   "source": [
    "df_obesity.columns"
   ]
  },
  {
   "cell_type": "code",
   "execution_count": 11,
   "metadata": {},
   "outputs": [
    {
     "data": {
      "text/plain": [
       "Index(['State', 'Male sufficient physical activity prevalence, 2001 (%)',\n",
       "       'Female sufficient physical activity prevalence, 2001 (%)',\n",
       "       'Male sufficient physical activity  prevalence, 2009 (%)',\n",
       "       'Female sufficient physical activity  prevalence, 2009 (%)',\n",
       "       'Male sufficient physical activity  prevalence, 2011* (%)',\n",
       "       'Female sufficient physical activity  prevalence, 2011* (%)',\n",
       "       'Difference in male sufficient physical activity prevalence, 2001-2009 (percentage points)',\n",
       "       'Difference in female sufficient physical activity prevalence, 2001-2009 (percentage points)',\n",
       "       'Unnamed: 10',\n",
       "       '*Methodological changes in the 2011 BRFSS may affect comparability between the 2011 estimates and estimates from earlier years'],\n",
       "      dtype='object')"
      ]
     },
     "execution_count": 11,
     "metadata": {},
     "output_type": "execute_result"
    }
   ],
   "source": [
    "df_physical.columns"
   ]
  },
  {
   "cell_type": "markdown",
   "metadata": {},
   "source": [
    "Note that the columns which we need to keep correspond to column indices 0,5 and 6 in each of these dataframes as these correspond to the state name and \n",
    "the corresponding feature for males and females for the year 2011."
   ]
  },
  {
   "cell_type": "code",
   "execution_count": 12,
   "metadata": {},
   "outputs": [
    {
     "data": {
      "text/plain": [
       "Index(['State', 'Female obesity  prevalence, 2009 (%)',\n",
       "       'Male obesity  prevalence, 2011* (%)'],\n",
       "      dtype='object')"
      ]
     },
     "execution_count": 12,
     "metadata": {},
     "output_type": "execute_result"
    }
   ],
   "source": [
    "df.columns[[0,5,6]]"
   ]
  },
  {
   "cell_type": "code",
   "execution_count": 13,
   "metadata": {},
   "outputs": [
    {
     "data": {
      "text/plain": [
       "Index(['State', 'Male sufficient physical activity  prevalence, 2011* (%)',\n",
       "       'Female sufficient physical activity  prevalence, 2011* (%)'],\n",
       "      dtype='object')"
      ]
     },
     "execution_count": 13,
     "metadata": {},
     "output_type": "execute_result"
    }
   ],
   "source": [
    "df_physical.columns[[0,5,6]]"
   ]
  },
  {
   "cell_type": "code",
   "execution_count": 14,
   "metadata": {},
   "outputs": [],
   "source": [
    "df_obesity = df_obesity[df_obesity.columns[[0,5,6]]]\n",
    "df_physical = df_physical[df_physical.columns[[0,5,6]]]\n"
   ]
  },
  {
   "cell_type": "markdown",
   "metadata": {},
   "source": [
    "We rename the columns for each dataframe to more usable column names"
   ]
  },
  {
   "cell_type": "code",
   "execution_count": 15,
   "metadata": {},
   "outputs": [
    {
     "data": {
      "text/html": [
       "<div>\n",
       "<style scoped>\n",
       "    .dataframe tbody tr th:only-of-type {\n",
       "        vertical-align: middle;\n",
       "    }\n",
       "\n",
       "    .dataframe tbody tr th {\n",
       "        vertical-align: top;\n",
       "    }\n",
       "\n",
       "    .dataframe thead th {\n",
       "        text-align: right;\n",
       "    }\n",
       "</style>\n",
       "<table border=\"1\" class=\"dataframe\">\n",
       "  <thead>\n",
       "    <tr style=\"text-align: right;\">\n",
       "      <th></th>\n",
       "      <th>state</th>\n",
       "      <th>male_physical_activity</th>\n",
       "      <th>female_physical_activity</th>\n",
       "    </tr>\n",
       "  </thead>\n",
       "  <tbody>\n",
       "    <tr>\n",
       "      <td>1</td>\n",
       "      <td>Alabama</td>\n",
       "      <td>49.5</td>\n",
       "      <td>42.0</td>\n",
       "    </tr>\n",
       "    <tr>\n",
       "      <td>69</td>\n",
       "      <td>Alaska</td>\n",
       "      <td>59.8</td>\n",
       "      <td>57.6</td>\n",
       "    </tr>\n",
       "    <tr>\n",
       "      <td>98</td>\n",
       "      <td>Arizona</td>\n",
       "      <td>59.5</td>\n",
       "      <td>56.9</td>\n",
       "    </tr>\n",
       "    <tr>\n",
       "      <td>114</td>\n",
       "      <td>Arkansas</td>\n",
       "      <td>51.3</td>\n",
       "      <td>45.2</td>\n",
       "    </tr>\n",
       "    <tr>\n",
       "      <td>190</td>\n",
       "      <td>California</td>\n",
       "      <td>61.3</td>\n",
       "      <td>59.2</td>\n",
       "    </tr>\n",
       "  </tbody>\n",
       "</table>\n",
       "</div>"
      ],
      "text/plain": [
       "          state  male_physical_activity  female_physical_activity\n",
       "1       Alabama                    49.5                      42.0\n",
       "69       Alaska                    59.8                      57.6\n",
       "98      Arizona                    59.5                      56.9\n",
       "114    Arkansas                    51.3                      45.2\n",
       "190  California                    61.3                      59.2"
      ]
     },
     "execution_count": 15,
     "metadata": {},
     "output_type": "execute_result"
    }
   ],
   "source": [
    "df_physical = df_physical.rename(columns = {\"State\" : \"state\",\\\n",
    "                             \"Male sufficient physical activity  prevalence, 2011* (%)\" : \"male_physical_activity\",\\\n",
    "                             \"Female sufficient physical activity  prevalence, 2011* (%)\" : \"female_physical_activity\"})\n",
    "df_physical.head()"
   ]
  },
  {
   "cell_type": "code",
   "execution_count": 16,
   "metadata": {},
   "outputs": [
    {
     "data": {
      "text/html": [
       "<div>\n",
       "<style scoped>\n",
       "    .dataframe tbody tr th:only-of-type {\n",
       "        vertical-align: middle;\n",
       "    }\n",
       "\n",
       "    .dataframe tbody tr th {\n",
       "        vertical-align: top;\n",
       "    }\n",
       "\n",
       "    .dataframe thead th {\n",
       "        text-align: right;\n",
       "    }\n",
       "</style>\n",
       "<table border=\"1\" class=\"dataframe\">\n",
       "  <thead>\n",
       "    <tr style=\"text-align: right;\">\n",
       "      <th></th>\n",
       "      <th>state</th>\n",
       "      <th>male_obesity</th>\n",
       "      <th>female_obesity</th>\n",
       "    </tr>\n",
       "  </thead>\n",
       "  <tbody>\n",
       "    <tr>\n",
       "      <td>1</td>\n",
       "      <td>Alabama</td>\n",
       "      <td>37.3</td>\n",
       "      <td>42.2</td>\n",
       "    </tr>\n",
       "    <tr>\n",
       "      <td>69</td>\n",
       "      <td>Alaska</td>\n",
       "      <td>33.8</td>\n",
       "      <td>37.6</td>\n",
       "    </tr>\n",
       "    <tr>\n",
       "      <td>98</td>\n",
       "      <td>Arizona</td>\n",
       "      <td>32.4</td>\n",
       "      <td>33.8</td>\n",
       "    </tr>\n",
       "    <tr>\n",
       "      <td>114</td>\n",
       "      <td>Arkansas</td>\n",
       "      <td>37.2</td>\n",
       "      <td>39.3</td>\n",
       "    </tr>\n",
       "    <tr>\n",
       "      <td>190</td>\n",
       "      <td>California</td>\n",
       "      <td>29.4</td>\n",
       "      <td>32.9</td>\n",
       "    </tr>\n",
       "  </tbody>\n",
       "</table>\n",
       "</div>"
      ],
      "text/plain": [
       "          state  male_obesity  female_obesity\n",
       "1       Alabama          37.3            42.2\n",
       "69       Alaska          33.8            37.6\n",
       "98      Arizona          32.4            33.8\n",
       "114    Arkansas          37.2            39.3\n",
       "190  California          29.4            32.9"
      ]
     },
     "execution_count": 16,
     "metadata": {},
     "output_type": "execute_result"
    }
   ],
   "source": [
    "df_obesity = df_obesity.rename(columns = {\"State\" : \"state\",\\\n",
    "                             \"Male obesity  prevalence, 2011* (%)\" : \"male_obesity\",\\\n",
    "                             \"Female obesity prevalence, 2011* (%)\" : \"female_obesity\"})\n",
    "df_obesity.head()"
   ]
  },
  {
   "cell_type": "markdown",
   "metadata": {},
   "source": [
    "We will now try to analyse the distributions of our dataframes "
   ]
  },
  {
   "cell_type": "code",
   "execution_count": 17,
   "metadata": {},
   "outputs": [
    {
     "data": {
      "text/plain": [
       "array([[<matplotlib.axes._subplots.AxesSubplot object at 0x7fd7c9d45e48>,\n",
       "        <matplotlib.axes._subplots.AxesSubplot object at 0x7fd7c9754860>]],\n",
       "      dtype=object)"
      ]
     },
     "execution_count": 17,
     "metadata": {},
     "output_type": "execute_result"
    },
    {
     "data": {
      "image/png": "[encoded data removed]",
      "text/plain": [
       "<Figure size 432x288 with 2 Axes>"
      ]
     },
     "metadata": {
      "needs_background": "light"
     },
     "output_type": "display_data"
    }
   ],
   "source": [
    "df_obesity.hist(bins = 20)"
   ]
  },
  {
   "cell_type": "code",
   "execution_count": 18,
   "metadata": {},
   "outputs": [
    {
     "data": {
      "text/html": [
       "<div>\n",
       "<style scoped>\n",
       "    .dataframe tbody tr th:only-of-type {\n",
       "        vertical-align: middle;\n",
       "    }\n",
       "\n",
       "    .dataframe tbody tr th {\n",
       "        vertical-align: top;\n",
       "    }\n",
       "\n",
       "    .dataframe thead th {\n",
       "        text-align: right;\n",
       "    }\n",
       "</style>\n",
       "<table border=\"1\" class=\"dataframe\">\n",
       "  <thead>\n",
       "    <tr style=\"text-align: right;\">\n",
       "      <th></th>\n",
       "      <th>male_obesity</th>\n",
       "      <th>female_obesity</th>\n",
       "    </tr>\n",
       "  </thead>\n",
       "  <tbody>\n",
       "    <tr>\n",
       "      <td>count</td>\n",
       "      <td>51.000000</td>\n",
       "      <td>51.000000</td>\n",
       "    </tr>\n",
       "    <tr>\n",
       "      <td>mean</td>\n",
       "      <td>34.023529</td>\n",
       "      <td>35.929412</td>\n",
       "    </tr>\n",
       "    <tr>\n",
       "      <td>std</td>\n",
       "      <td>3.173994</td>\n",
       "      <td>3.635893</td>\n",
       "    </tr>\n",
       "    <tr>\n",
       "      <td>min</td>\n",
       "      <td>22.400000</td>\n",
       "      <td>26.100000</td>\n",
       "    </tr>\n",
       "    <tr>\n",
       "      <td>25%</td>\n",
       "      <td>32.700000</td>\n",
       "      <td>33.450000</td>\n",
       "    </tr>\n",
       "    <tr>\n",
       "      <td>50%</td>\n",
       "      <td>33.900000</td>\n",
       "      <td>35.900000</td>\n",
       "    </tr>\n",
       "    <tr>\n",
       "      <td>75%</td>\n",
       "      <td>36.300000</td>\n",
       "      <td>38.750000</td>\n",
       "    </tr>\n",
       "    <tr>\n",
       "      <td>max</td>\n",
       "      <td>39.400000</td>\n",
       "      <td>44.500000</td>\n",
       "    </tr>\n",
       "  </tbody>\n",
       "</table>\n",
       "</div>"
      ],
      "text/plain": [
       "       male_obesity  female_obesity\n",
       "count     51.000000       51.000000\n",
       "mean      34.023529       35.929412\n",
       "std        3.173994        3.635893\n",
       "min       22.400000       26.100000\n",
       "25%       32.700000       33.450000\n",
       "50%       33.900000       35.900000\n",
       "75%       36.300000       38.750000\n",
       "max       39.400000       44.500000"
      ]
     },
     "execution_count": 18,
     "metadata": {},
     "output_type": "execute_result"
    }
   ],
   "source": [
    "df_obesity.describe()"
   ]
  },
  {
   "cell_type": "markdown",
   "metadata": {},
   "source": [
    "From the histograms, we can see that the distributions for female obesity is almost gaussian while it is skewed to the left for the males.\n",
    "The obesity prevalence is also comparatively higher for all females. The District of Columbia has the lowest male obesity while Hawaii has the lowest female \n",
    "obesity which is lower than its male obesity. Mississipi has half of its females obese and Louisiana tops in Male obesity. Note that the least obese states are actually much less obese than other states(around 3 standard deviations from 25 percentile). "
   ]
  },
  {
   "cell_type": "code",
   "execution_count": 19,
   "metadata": {},
   "outputs": [
    {
     "data": {
      "text/plain": [
       "state             Louisiana\n",
       "male_obesity           39.4\n",
       "female_obesity         41.7\n",
       "Name: 1131, dtype: object"
      ]
     },
     "execution_count": 19,
     "metadata": {},
     "output_type": "execute_result"
    }
   ],
   "source": [
    "#Max male obesity\n",
    "df_obesity.loc[df_obesity[\"male_obesity\"].idxmax()]"
   ]
  },
  {
   "cell_type": "code",
   "execution_count": 20,
   "metadata": {},
   "outputs": [
    {
     "data": {
      "text/plain": [
       "state             Mississippi\n",
       "male_obesity             39.1\n",
       "female_obesity           44.5\n",
       "Name: 1425, dtype: object"
      ]
     },
     "execution_count": 20,
     "metadata": {},
     "output_type": "execute_result"
    }
   ],
   "source": [
    "#Max female obesity\n",
    "df_obesity.loc[df_obesity[\"female_obesity\"].idxmax()]"
   ]
  },
  {
   "cell_type": "code",
   "execution_count": 21,
   "metadata": {},
   "outputs": [
    {
     "data": {
      "text/plain": [
       "state             District of Columbia\n",
       "male_obesity                      22.4\n",
       "female_obesity                    35.3\n",
       "Name: 327, dtype: object"
      ]
     },
     "execution_count": 21,
     "metadata": {},
     "output_type": "execute_result"
    }
   ],
   "source": [
    "#Min male obesity\n",
    "df_obesity.loc[df_obesity[\"male_obesity\"].idxmin()]"
   ]
  },
  {
   "cell_type": "code",
   "execution_count": 22,
   "metadata": {},
   "outputs": [
    {
     "data": {
      "text/plain": [
       "state             Hawaii\n",
       "male_obesity        28.4\n",
       "female_obesity      26.1\n",
       "Name: 557, dtype: object"
      ]
     },
     "execution_count": 22,
     "metadata": {},
     "output_type": "execute_result"
    }
   ],
   "source": [
    "#Min female obesity\n",
    "df_obesity.loc[df_obesity[\"female_obesity\"].idxmin()]"
   ]
  },
  {
   "cell_type": "code",
   "execution_count": 23,
   "metadata": {},
   "outputs": [
    {
     "data": {
      "text/plain": [
       "array([[<matplotlib.axes._subplots.AxesSubplot object at 0x7fd7c761c5f8>,\n",
       "        <matplotlib.axes._subplots.AxesSubplot object at 0x7fd7c75f38d0>]],\n",
       "      dtype=object)"
      ]
     },
     "execution_count": 23,
     "metadata": {},
     "output_type": "execute_result"
    },
    {
     "data": {
      "image/png": "[encoded data removed]",
      "text/plain": [
       "<Figure size 432x288 with 2 Axes>"
      ]
     },
     "metadata": {
      "needs_background": "light"
     },
     "output_type": "display_data"
    }
   ],
   "source": [
    "df_physical.hist(bins = 20)"
   ]
  },
  {
   "cell_type": "code",
   "execution_count": 24,
   "metadata": {},
   "outputs": [
    {
     "data": {
      "text/html": [
       "<div>\n",
       "<style scoped>\n",
       "    .dataframe tbody tr th:only-of-type {\n",
       "        vertical-align: middle;\n",
       "    }\n",
       "\n",
       "    .dataframe tbody tr th {\n",
       "        vertical-align: top;\n",
       "    }\n",
       "\n",
       "    .dataframe thead th {\n",
       "        text-align: right;\n",
       "    }\n",
       "</style>\n",
       "<table border=\"1\" class=\"dataframe\">\n",
       "  <thead>\n",
       "    <tr style=\"text-align: right;\">\n",
       "      <th></th>\n",
       "      <th>male_physical_activity</th>\n",
       "      <th>female_physical_activity</th>\n",
       "    </tr>\n",
       "  </thead>\n",
       "  <tbody>\n",
       "    <tr>\n",
       "      <td>count</td>\n",
       "      <td>51.000000</td>\n",
       "      <td>51.000000</td>\n",
       "    </tr>\n",
       "    <tr>\n",
       "      <td>mean</td>\n",
       "      <td>56.249020</td>\n",
       "      <td>52.794118</td>\n",
       "    </tr>\n",
       "    <tr>\n",
       "      <td>std</td>\n",
       "      <td>4.547191</td>\n",
       "      <td>5.802600</td>\n",
       "    </tr>\n",
       "    <tr>\n",
       "      <td>min</td>\n",
       "      <td>46.700000</td>\n",
       "      <td>39.700000</td>\n",
       "    </tr>\n",
       "    <tr>\n",
       "      <td>25%</td>\n",
       "      <td>53.700000</td>\n",
       "      <td>49.900000</td>\n",
       "    </tr>\n",
       "    <tr>\n",
       "      <td>50%</td>\n",
       "      <td>55.800000</td>\n",
       "      <td>52.800000</td>\n",
       "    </tr>\n",
       "    <tr>\n",
       "      <td>75%</td>\n",
       "      <td>59.800000</td>\n",
       "      <td>57.650000</td>\n",
       "    </tr>\n",
       "    <tr>\n",
       "      <td>max</td>\n",
       "      <td>66.000000</td>\n",
       "      <td>62.800000</td>\n",
       "    </tr>\n",
       "  </tbody>\n",
       "</table>\n",
       "</div>"
      ],
      "text/plain": [
       "       male_physical_activity  female_physical_activity\n",
       "count               51.000000                 51.000000\n",
       "mean                56.249020                 52.794118\n",
       "std                  4.547191                  5.802600\n",
       "min                 46.700000                 39.700000\n",
       "25%                 53.700000                 49.900000\n",
       "50%                 55.800000                 52.800000\n",
       "75%                 59.800000                 57.650000\n",
       "max                 66.000000                 62.800000"
      ]
     },
     "execution_count": 24,
     "metadata": {},
     "output_type": "execute_result"
    }
   ],
   "source": [
    "df_physical.describe()"
   ]
  },
  {
   "cell_type": "markdown",
   "metadata": {},
   "source": [
    "The distributions we now get are mean centered but not\n",
    "particularly gaussian. Female physical activity is comparatively lower than male physical activity(mean and median). "
   ]
  },
  {
   "cell_type": "code",
   "execution_count": 25,
   "metadata": {},
   "outputs": [
    {
     "data": {
      "text/plain": [
       "state                       Hawaii\n",
       "male_physical_activity          66\n",
       "female_physical_activity      60.9\n",
       "Name: 557, dtype: object"
      ]
     },
     "execution_count": 25,
     "metadata": {},
     "output_type": "execute_result"
    }
   ],
   "source": [
    "#Max male physical activity\n",
    "df_physical.loc[df_physical[\"male_physical_activity\"].idxmax()]"
   ]
  },
  {
   "cell_type": "code",
   "execution_count": 26,
   "metadata": {},
   "outputs": [
    {
     "data": {
      "text/plain": [
       "state                       Vermont\n",
       "male_physical_activity         63.7\n",
       "female_physical_activity       62.8\n",
       "Name: 2851, dtype: object"
      ]
     },
     "execution_count": 26,
     "metadata": {},
     "output_type": "execute_result"
    }
   ],
   "source": [
    "#Max female physical activity\n",
    "df_physical.loc[df_physical[\"female_physical_activity\"].idxmax()]"
   ]
  },
  {
   "cell_type": "code",
   "execution_count": 27,
   "metadata": {},
   "outputs": [
    {
     "data": {
      "text/plain": [
       "state                       Tennessee\n",
       "male_physical_activity           46.7\n",
       "female_physical_activity         39.9\n",
       "Name: 2470, dtype: object"
      ]
     },
     "execution_count": 27,
     "metadata": {},
     "output_type": "execute_result"
    }
   ],
   "source": [
    "#Min male physical activity\n",
    "df_physical.loc[df_physical[\"male_physical_activity\"].idxmin()]"
   ]
  },
  {
   "cell_type": "code",
   "execution_count": 28,
   "metadata": {},
   "outputs": [
    {
     "data": {
      "text/plain": [
       "state                       Mississippi\n",
       "male_physical_activity             47.2\n",
       "female_physical_activity           39.7\n",
       "Name: 1425, dtype: object"
      ]
     },
     "execution_count": 28,
     "metadata": {},
     "output_type": "execute_result"
    }
   ],
   "source": [
    "#Min female physical activity\n",
    "df_physical.loc[df_physical[\"female_physical_activity\"].idxmin()]"
   ]
  },
  {
   "cell_type": "markdown",
   "metadata": {},
   "source": [
    "Hawaii has the highest physical activity for males and really high physical activity for females too. Their low obesity and high physical activity indicate the correlation for these two features. Further, Mississippi's low physical activity levels and high obesity rates again indicate the correlation."
   ]
  },
  {
   "cell_type": "code",
   "execution_count": 29,
   "metadata": {},
   "outputs": [],
   "source": [
    "df_physical[\"mean_physical_activity\"] = 0.5*(df_physical[\"male_physical_activity\"] + df_physical[\"female_physical_activity\"]) \n",
    "df_obesity[\"mean_obesity\"] = 0.5*(df_obesity[\"male_obesity\"] + df_obesity[\"female_obesity\"])"
   ]
  },
  {
   "cell_type": "markdown",
   "metadata": {},
   "source": [
    "For our remaining tasks , we take the mean of male and female feature values. "
   ]
  },
  {
   "cell_type": "code",
   "execution_count": 30,
   "metadata": {},
   "outputs": [
    {
     "data": {
      "text/plain": [
       "count    51.000000\n",
       "mean     54.521569\n",
       "std       5.120725\n",
       "min      43.300000\n",
       "25%      51.975000\n",
       "50%      53.950000\n",
       "75%      58.650000\n",
       "max      63.700000\n",
       "Name: mean_physical_activity, dtype: float64"
      ]
     },
     "execution_count": 30,
     "metadata": {},
     "output_type": "execute_result"
    }
   ],
   "source": [
    "df_physical[\"mean_physical_activity\"].describe()"
   ]
  },
  {
   "cell_type": "code",
   "execution_count": 31,
   "metadata": {},
   "outputs": [
    {
     "data": {
      "text/plain": [
       "<matplotlib.axes._subplots.AxesSubplot at 0x7fd7c7482438>"
      ]
     },
     "execution_count": 31,
     "metadata": {},
     "output_type": "execute_result"
    },
    {
     "data": {
      "image/png": "[encoded data removed]",
      "text/plain": [
       "<Figure size 432x288 with 1 Axes>"
      ]
     },
     "metadata": {
      "needs_background": "light"
     },
     "output_type": "display_data"
    }
   ],
   "source": [
    "df_physical[\"mean_physical_activity\"].hist(bins=20)"
   ]
  },
  {
   "cell_type": "code",
   "execution_count": 32,
   "metadata": {},
   "outputs": [
    {
     "data": {
      "text/plain": [
       "count    51.000000\n",
       "mean     34.976471\n",
       "std       3.212263\n",
       "min      27.250000\n",
       "25%      32.975000\n",
       "50%      35.400000\n",
       "75%      37.525000\n",
       "max      41.800000\n",
       "Name: mean_obesity, dtype: float64"
      ]
     },
     "execution_count": 32,
     "metadata": {},
     "output_type": "execute_result"
    }
   ],
   "source": [
    "df_obesity[\"mean_obesity\"].describe()"
   ]
  },
  {
   "cell_type": "code",
   "execution_count": 33,
   "metadata": {},
   "outputs": [
    {
     "data": {
      "text/plain": [
       "<matplotlib.axes._subplots.AxesSubplot at 0x7fd7c7402710>"
      ]
     },
     "execution_count": 33,
     "metadata": {},
     "output_type": "execute_result"
    },
    {
     "data": {
      "image/png": "[encoded data removed]",
      "text/plain": [
       "<Figure size 432x288 with 1 Axes>"
      ]
     },
     "metadata": {
      "needs_background": "light"
     },
     "output_type": "display_data"
    }
   ],
   "source": [
    "df_obesity[\"mean_obesity\"].hist(bins=20)"
   ]
  },
  {
   "cell_type": "code",
   "execution_count": 34,
   "metadata": {},
   "outputs": [
    {
     "data": {
      "text/plain": [
       "state             Mississippi\n",
       "male_obesity             39.1\n",
       "female_obesity           44.5\n",
       "mean_obesity             41.8\n",
       "Name: 1425, dtype: object"
      ]
     },
     "execution_count": 34,
     "metadata": {},
     "output_type": "execute_result"
    }
   ],
   "source": [
    "#Max mean obesity\n",
    "df_obesity.loc[df_obesity[\"mean_obesity\"].idxmax()]"
   ]
  },
  {
   "cell_type": "code",
   "execution_count": 35,
   "metadata": {},
   "outputs": [
    {
     "data": {
      "text/plain": [
       "state             Colorado\n",
       "male_obesity          26.8\n",
       "female_obesity        27.7\n",
       "mean_obesity         27.25\n",
       "Name: 249, dtype: object"
      ]
     },
     "execution_count": 35,
     "metadata": {},
     "output_type": "execute_result"
    }
   ],
   "source": [
    "#Min mean obesity\n",
    "df_obesity.loc[df_obesity[\"mean_obesity\"].idxmin()]"
   ]
  },
  {
   "cell_type": "code",
   "execution_count": 36,
   "metadata": {},
   "outputs": [
    {
     "data": {
      "text/plain": [
       "state                       Colorado\n",
       "male_physical_activity          64.7\n",
       "female_physical_activity        62.7\n",
       "mean_physical_activity          63.7\n",
       "Name: 249, dtype: object"
      ]
     },
     "execution_count": 36,
     "metadata": {},
     "output_type": "execute_result"
    }
   ],
   "source": [
    "#Max mean physical activity\n",
    "df_physical.loc[df_physical[\"mean_physical_activity\"].idxmax()]"
   ]
  },
  {
   "cell_type": "code",
   "execution_count": 37,
   "metadata": {},
   "outputs": [
    {
     "data": {
      "text/plain": [
       "state                       Tennessee\n",
       "male_physical_activity           46.7\n",
       "female_physical_activity         39.9\n",
       "mean_physical_activity           43.3\n",
       "Name: 2470, dtype: object"
      ]
     },
     "execution_count": 37,
     "metadata": {},
     "output_type": "execute_result"
    }
   ],
   "source": [
    "#Min mean physical activity\n",
    "df_physical.loc[df_physical[\"mean_physical_activity\"].idxmin()]"
   ]
  },
  {
   "cell_type": "markdown",
   "metadata": {},
   "source": [
    "Mississipi and Tennessee have consistently turned up in our analysis as states with high obesity and low physical activity levels indicatng the bad health conditions of its residents. However, averaging of male and female feature values has created a new contestant for the fittest state, Colorado. Note that Colorado may not boast of the best values for either males or females, however it has relatively lower and equal values for these sub-populations indicating some sort of \"health\"-equality."
   ]
  },
  {
   "cell_type": "markdown",
   "metadata": {},
   "source": [
    "### ***Alcohol Dataset***\n",
    "This dataset is also from IHME and measures the alcohol consumption by counties for multiple years(2005-2012).\n",
    "Note that we will again keep only the final year as we are interested in making an index for years after 2010.\n",
    "The dataset has multiple sheets and is in xls format."
   ]
  },
  {
   "cell_type": "code",
   "execution_count": 38,
   "metadata": {},
   "outputs": [],
   "source": [
    "alcohol_data_xls = pd.ExcelFile(\"Data/harsh_data/IHME_county_data_Alcohol_NATIONAL.xlsx\")"
   ]
  },
  {
   "cell_type": "code",
   "execution_count": 39,
   "metadata": {},
   "outputs": [
    {
     "data": {
      "text/plain": [
       "['Overview', 'Any', 'Heavy', 'Binge', 'Prop. Heavy', 'Prop. Binge']"
      ]
     },
     "execution_count": 39,
     "metadata": {},
     "output_type": "execute_result"
    }
   ],
   "source": [
    "alcohol_data_xls.sheet_names"
   ]
  },
  {
   "cell_type": "markdown",
   "metadata": {},
   "source": [
    "We pick the definitions for other sheets from the `Overview`.\n",
    "1. Any :\"Any\" drinking is defined as at least one drink of any alcoholic bevarage in the past 30 days\n",
    "2.  Heavy : \"Heavy\" drinking is defined as the consumption, on average, of more than one drink per day for women or two drinks per day for men in the past 30 days\n",
    "3.  Binge : \"Binge\" drinking is defined as the consumption of more than four drinks for women or five drinks for men on a single occasion at least once in the past 30 days\n",
    "4. Proportion Heavy: Proportion of All Drinkers Who Are Heavy Drinkers \n",
    "5. Proportion Binge\tProportion of All Drinkers Who Are Binge Drinkers \n",
    "\n",
    "Note that Any, Heavy and Binge sheets have age-standardized drinking prevalence for multiple years.\n",
    "For our project, we will analyse any form of drinking prevalence so we keep the `Any` sheet only."
   ]
  },
  {
   "cell_type": "code",
   "execution_count": 40,
   "metadata": {},
   "outputs": [],
   "source": [
    "#Keeping \"Any\" sheet\n",
    "alcohol_df = pd.read_excel(alcohol_data_xls,'Any')"
   ]
  },
  {
   "cell_type": "code",
   "execution_count": 41,
   "metadata": {},
   "outputs": [
    {
     "data": {
      "text/html": [
       "<div>\n",
       "<style scoped>\n",
       "    .dataframe tbody tr th:only-of-type {\n",
       "        vertical-align: middle;\n",
       "    }\n",
       "\n",
       "    .dataframe tbody tr th {\n",
       "        vertical-align: top;\n",
       "    }\n",
       "\n",
       "    .dataframe thead th {\n",
       "        text-align: right;\n",
       "    }\n",
       "</style>\n",
       "<table border=\"1\" class=\"dataframe\">\n",
       "  <thead>\n",
       "    <tr style=\"text-align: right;\">\n",
       "      <th></th>\n",
       "      <th>State</th>\n",
       "      <th>Location</th>\n",
       "      <th>2002 Both Sexes</th>\n",
       "      <th>2002 Females</th>\n",
       "      <th>2002 Males</th>\n",
       "      <th>2003 Both Sexes</th>\n",
       "      <th>2003 Females</th>\n",
       "      <th>2003 Males</th>\n",
       "      <th>2004 Both Sexes</th>\n",
       "      <th>2004 Females</th>\n",
       "      <th>...</th>\n",
       "      <th>2011 Males</th>\n",
       "      <th>2012 Both Sexes</th>\n",
       "      <th>2012 Females</th>\n",
       "      <th>2012 Males</th>\n",
       "      <th>Percent Change 2002-2012, Both Sexes</th>\n",
       "      <th>Percent Change 2002-2012, Females</th>\n",
       "      <th>Percent Change 2002-2012, Males</th>\n",
       "      <th>Percent Change 2005-2012, Both Sexes</th>\n",
       "      <th>Percent Change 2005-2012, Females</th>\n",
       "      <th>Percent Change 2005-2012, Males</th>\n",
       "    </tr>\n",
       "  </thead>\n",
       "  <tbody>\n",
       "    <tr>\n",
       "      <td>0</td>\n",
       "      <td>National</td>\n",
       "      <td>United States</td>\n",
       "      <td>55.4</td>\n",
       "      <td>47.5</td>\n",
       "      <td>63.7</td>\n",
       "      <td>56.6</td>\n",
       "      <td>48.9</td>\n",
       "      <td>64.6</td>\n",
       "      <td>55.2</td>\n",
       "      <td>47.6</td>\n",
       "      <td>...</td>\n",
       "      <td>63.9</td>\n",
       "      <td>56.0</td>\n",
       "      <td>49.1</td>\n",
       "      <td>63.0</td>\n",
       "      <td>0.9</td>\n",
       "      <td>3.5</td>\n",
       "      <td>-1.0</td>\n",
       "      <td>0.0</td>\n",
       "      <td>0.9</td>\n",
       "      <td>-0.8</td>\n",
       "    </tr>\n",
       "    <tr>\n",
       "      <td>1</td>\n",
       "      <td>Alabama</td>\n",
       "      <td>Alabama</td>\n",
       "      <td>40.7</td>\n",
       "      <td>32.1</td>\n",
       "      <td>49.6</td>\n",
       "      <td>42.3</td>\n",
       "      <td>33.8</td>\n",
       "      <td>51.2</td>\n",
       "      <td>41.0</td>\n",
       "      <td>32.9</td>\n",
       "      <td>...</td>\n",
       "      <td>52.5</td>\n",
       "      <td>43.6</td>\n",
       "      <td>36.5</td>\n",
       "      <td>51.0</td>\n",
       "      <td>7.2</td>\n",
       "      <td>13.5</td>\n",
       "      <td>2.9</td>\n",
       "      <td>3.1</td>\n",
       "      <td>7.8</td>\n",
       "      <td>-0.1</td>\n",
       "    </tr>\n",
       "    <tr>\n",
       "      <td>2</td>\n",
       "      <td>Alabama</td>\n",
       "      <td>Autauga County</td>\n",
       "      <td>39.4</td>\n",
       "      <td>29.4</td>\n",
       "      <td>49.7</td>\n",
       "      <td>40.6</td>\n",
       "      <td>31.0</td>\n",
       "      <td>50.6</td>\n",
       "      <td>39.2</td>\n",
       "      <td>30.1</td>\n",
       "      <td>...</td>\n",
       "      <td>52.0</td>\n",
       "      <td>42.5</td>\n",
       "      <td>34.4</td>\n",
       "      <td>50.9</td>\n",
       "      <td>7.9</td>\n",
       "      <td>17.1</td>\n",
       "      <td>2.3</td>\n",
       "      <td>4.5</td>\n",
       "      <td>8.9</td>\n",
       "      <td>1.6</td>\n",
       "    </tr>\n",
       "    <tr>\n",
       "      <td>3</td>\n",
       "      <td>Alabama</td>\n",
       "      <td>Baldwin County</td>\n",
       "      <td>54.0</td>\n",
       "      <td>45.7</td>\n",
       "      <td>62.5</td>\n",
       "      <td>54.9</td>\n",
       "      <td>47.0</td>\n",
       "      <td>63.2</td>\n",
       "      <td>53.1</td>\n",
       "      <td>45.2</td>\n",
       "      <td>...</td>\n",
       "      <td>64.3</td>\n",
       "      <td>55.7</td>\n",
       "      <td>48.8</td>\n",
       "      <td>62.8</td>\n",
       "      <td>3.2</td>\n",
       "      <td>6.8</td>\n",
       "      <td>0.4</td>\n",
       "      <td>2.2</td>\n",
       "      <td>5.0</td>\n",
       "      <td>0.1</td>\n",
       "    </tr>\n",
       "    <tr>\n",
       "      <td>4</td>\n",
       "      <td>Alabama</td>\n",
       "      <td>Barbour County</td>\n",
       "      <td>36.0</td>\n",
       "      <td>27.3</td>\n",
       "      <td>45.0</td>\n",
       "      <td>37.9</td>\n",
       "      <td>29.2</td>\n",
       "      <td>46.9</td>\n",
       "      <td>35.8</td>\n",
       "      <td>27.4</td>\n",
       "      <td>...</td>\n",
       "      <td>48.2</td>\n",
       "      <td>37.6</td>\n",
       "      <td>29.2</td>\n",
       "      <td>46.3</td>\n",
       "      <td>4.6</td>\n",
       "      <td>7.2</td>\n",
       "      <td>3.0</td>\n",
       "      <td>0.7</td>\n",
       "      <td>1.9</td>\n",
       "      <td>-0.1</td>\n",
       "    </tr>\n",
       "  </tbody>\n",
       "</table>\n",
       "<p>5 rows × 41 columns</p>\n",
       "</div>"
      ],
      "text/plain": [
       "      State        Location  2002 Both Sexes  2002 Females  2002 Males  \\\n",
       "0  National   United States             55.4          47.5        63.7   \n",
       "1   Alabama         Alabama             40.7          32.1        49.6   \n",
       "2   Alabama  Autauga County             39.4          29.4        49.7   \n",
       "3   Alabama  Baldwin County             54.0          45.7        62.5   \n",
       "4   Alabama  Barbour County             36.0          27.3        45.0   \n",
       "\n",
       "   2003 Both Sexes  2003 Females  2003 Males  2004 Both Sexes  2004 Females  \\\n",
       "0             56.6          48.9        64.6             55.2          47.6   \n",
       "1             42.3          33.8        51.2             41.0          32.9   \n",
       "2             40.6          31.0        50.6             39.2          30.1   \n",
       "3             54.9          47.0        63.2             53.1          45.2   \n",
       "4             37.9          29.2        46.9             35.8          27.4   \n",
       "\n",
       "   ...  2011 Males  2012 Both Sexes  2012 Females  2012 Males  \\\n",
       "0  ...        63.9             56.0          49.1        63.0   \n",
       "1  ...        52.5             43.6          36.5        51.0   \n",
       "2  ...        52.0             42.5          34.4        50.9   \n",
       "3  ...        64.3             55.7          48.8        62.8   \n",
       "4  ...        48.2             37.6          29.2        46.3   \n",
       "\n",
       "   Percent Change 2002-2012, Both Sexes  Percent Change 2002-2012, Females  \\\n",
       "0                                   0.9                                3.5   \n",
       "1                                   7.2                               13.5   \n",
       "2                                   7.9                               17.1   \n",
       "3                                   3.2                                6.8   \n",
       "4                                   4.6                                7.2   \n",
       "\n",
       "   Percent Change 2002-2012, Males  Percent Change 2005-2012, Both Sexes  \\\n",
       "0                             -1.0                                   0.0   \n",
       "1                              2.9                                   3.1   \n",
       "2                              2.3                                   4.5   \n",
       "3                              0.4                                   2.2   \n",
       "4                              3.0                                   0.7   \n",
       "\n",
       "   Percent Change 2005-2012, Females  Percent Change 2005-2012, Males  \n",
       "0                                0.9                             -0.8  \n",
       "1                                7.8                             -0.1  \n",
       "2                                8.9                              1.6  \n",
       "3                                5.0                              0.1  \n",
       "4                                1.9                             -0.1  \n",
       "\n",
       "[5 rows x 41 columns]"
      ]
     },
     "execution_count": 41,
     "metadata": {},
     "output_type": "execute_result"
    }
   ],
   "source": [
    "alcohol_df.head()"
   ]
  },
  {
   "cell_type": "code",
   "execution_count": 42,
   "metadata": {},
   "outputs": [
    {
     "data": {
      "text/plain": [
       "Index(['State', 'Location', '2002 Both Sexes', '2002 Females', '2002 Males',\n",
       "       '2003 Both Sexes', '2003 Females', '2003 Males', '2004 Both Sexes',\n",
       "       '2004 Females', '2004 Males', '2005 Both Sexes', '2005 Females',\n",
       "       '2005 Males', '2006 Both Sexes', '2006 Females', '2006 Males',\n",
       "       '2007 Both Sexes', '2007 Females', '2007 Males', '2008 Both Sexes',\n",
       "       '2008 Females', '2008 Males', '2009 Both Sexes', '2009 Females',\n",
       "       '2009 Males', '2010 Both Sexes', '2010 Females', '2010 Males',\n",
       "       '2011 Both Sexes', '2011 Females', '2011 Males', '2012 Both Sexes',\n",
       "       '2012 Females', '2012 Males', 'Percent Change 2002-2012, Both Sexes',\n",
       "       'Percent Change 2002-2012, Females', 'Percent Change 2002-2012, Males',\n",
       "       'Percent Change 2005-2012, Both Sexes',\n",
       "       'Percent Change 2005-2012, Females', 'Percent Change 2005-2012, Males'],\n",
       "      dtype='object')"
      ]
     },
     "execution_count": 42,
     "metadata": {},
     "output_type": "execute_result"
    }
   ],
   "source": [
    "alcohol_df.columns"
   ]
  },
  {
   "cell_type": "markdown",
   "metadata": {},
   "source": [
    "The column of interest for us here is `2012 Both Sexes`. Since we have sex-averaged values, we don't analyse the data for males and females separately.\n",
    "Further, a look at our dataframe shows that to get average values for a given state, we need `State` and `Location` column values to be same,i.e., the state \n",
    "Our next steps include keeping only the state-averages and the column of interest"
   ]
  },
  {
   "cell_type": "code",
   "execution_count": 43,
   "metadata": {},
   "outputs": [],
   "source": [
    "#Keep only states\n",
    "alcohol_df = alcohol_df[(alcohol_df[\"Location\"] == alcohol_df[\"State\"]) ].drop(columns=[\"Location\"])"
   ]
  },
  {
   "cell_type": "code",
   "execution_count": 44,
   "metadata": {},
   "outputs": [
    {
     "data": {
      "text/plain": [
       "51"
      ]
     },
     "execution_count": 44,
     "metadata": {},
     "output_type": "execute_result"
    }
   ],
   "source": [
    "#Number of states is 51, so we have all the states\n",
    "len(alcohol_df)"
   ]
  },
  {
   "cell_type": "code",
   "execution_count": 45,
   "metadata": {},
   "outputs": [
    {
     "data": {
      "text/html": [
       "<div>\n",
       "<style scoped>\n",
       "    .dataframe tbody tr th:only-of-type {\n",
       "        vertical-align: middle;\n",
       "    }\n",
       "\n",
       "    .dataframe tbody tr th {\n",
       "        vertical-align: top;\n",
       "    }\n",
       "\n",
       "    .dataframe thead th {\n",
       "        text-align: right;\n",
       "    }\n",
       "</style>\n",
       "<table border=\"1\" class=\"dataframe\">\n",
       "  <thead>\n",
       "    <tr style=\"text-align: right;\">\n",
       "      <th></th>\n",
       "      <th>State</th>\n",
       "      <th>2002 Both Sexes</th>\n",
       "      <th>2002 Females</th>\n",
       "      <th>2002 Males</th>\n",
       "      <th>2003 Both Sexes</th>\n",
       "      <th>2003 Females</th>\n",
       "      <th>2003 Males</th>\n",
       "      <th>2004 Both Sexes</th>\n",
       "      <th>2004 Females</th>\n",
       "      <th>2004 Males</th>\n",
       "      <th>...</th>\n",
       "      <th>2011 Males</th>\n",
       "      <th>2012 Both Sexes</th>\n",
       "      <th>2012 Females</th>\n",
       "      <th>2012 Males</th>\n",
       "      <th>Percent Change 2002-2012, Both Sexes</th>\n",
       "      <th>Percent Change 2002-2012, Females</th>\n",
       "      <th>Percent Change 2002-2012, Males</th>\n",
       "      <th>Percent Change 2005-2012, Both Sexes</th>\n",
       "      <th>Percent Change 2005-2012, Females</th>\n",
       "      <th>Percent Change 2005-2012, Males</th>\n",
       "    </tr>\n",
       "  </thead>\n",
       "  <tbody>\n",
       "    <tr>\n",
       "      <td>1</td>\n",
       "      <td>Alabama</td>\n",
       "      <td>40.7</td>\n",
       "      <td>32.1</td>\n",
       "      <td>49.6</td>\n",
       "      <td>42.3</td>\n",
       "      <td>33.8</td>\n",
       "      <td>51.2</td>\n",
       "      <td>41.0</td>\n",
       "      <td>32.9</td>\n",
       "      <td>49.5</td>\n",
       "      <td>...</td>\n",
       "      <td>52.5</td>\n",
       "      <td>43.6</td>\n",
       "      <td>36.5</td>\n",
       "      <td>51.0</td>\n",
       "      <td>7.2</td>\n",
       "      <td>13.5</td>\n",
       "      <td>2.9</td>\n",
       "      <td>3.1</td>\n",
       "      <td>7.8</td>\n",
       "      <td>-0.1</td>\n",
       "    </tr>\n",
       "    <tr>\n",
       "      <td>69</td>\n",
       "      <td>Alaska</td>\n",
       "      <td>58.9</td>\n",
       "      <td>51.6</td>\n",
       "      <td>66.3</td>\n",
       "      <td>59.7</td>\n",
       "      <td>53.2</td>\n",
       "      <td>66.4</td>\n",
       "      <td>57.9</td>\n",
       "      <td>51.2</td>\n",
       "      <td>64.8</td>\n",
       "      <td>...</td>\n",
       "      <td>64.8</td>\n",
       "      <td>59.5</td>\n",
       "      <td>54.2</td>\n",
       "      <td>65.0</td>\n",
       "      <td>1.1</td>\n",
       "      <td>4.9</td>\n",
       "      <td>-2.0</td>\n",
       "      <td>1.9</td>\n",
       "      <td>4.2</td>\n",
       "      <td>0.0</td>\n",
       "    </tr>\n",
       "    <tr>\n",
       "      <td>94</td>\n",
       "      <td>Arizona</td>\n",
       "      <td>60.3</td>\n",
       "      <td>53.4</td>\n",
       "      <td>67.5</td>\n",
       "      <td>60.3</td>\n",
       "      <td>53.4</td>\n",
       "      <td>67.4</td>\n",
       "      <td>58.0</td>\n",
       "      <td>51.0</td>\n",
       "      <td>65.4</td>\n",
       "      <td>...</td>\n",
       "      <td>64.2</td>\n",
       "      <td>55.8</td>\n",
       "      <td>50.6</td>\n",
       "      <td>61.2</td>\n",
       "      <td>-7.4</td>\n",
       "      <td>-5.2</td>\n",
       "      <td>-9.3</td>\n",
       "      <td>-4.9</td>\n",
       "      <td>-2.7</td>\n",
       "      <td>-6.6</td>\n",
       "    </tr>\n",
       "    <tr>\n",
       "      <td>109</td>\n",
       "      <td>Arkansas</td>\n",
       "      <td>41.8</td>\n",
       "      <td>33.5</td>\n",
       "      <td>50.4</td>\n",
       "      <td>44.4</td>\n",
       "      <td>35.4</td>\n",
       "      <td>53.7</td>\n",
       "      <td>42.5</td>\n",
       "      <td>34.1</td>\n",
       "      <td>51.2</td>\n",
       "      <td>...</td>\n",
       "      <td>51.9</td>\n",
       "      <td>43.7</td>\n",
       "      <td>35.5</td>\n",
       "      <td>52.2</td>\n",
       "      <td>4.5</td>\n",
       "      <td>5.8</td>\n",
       "      <td>3.7</td>\n",
       "      <td>1.8</td>\n",
       "      <td>1.9</td>\n",
       "      <td>1.8</td>\n",
       "    </tr>\n",
       "    <tr>\n",
       "      <td>190</td>\n",
       "      <td>California</td>\n",
       "      <td>58.0</td>\n",
       "      <td>48.7</td>\n",
       "      <td>67.6</td>\n",
       "      <td>59.2</td>\n",
       "      <td>50.6</td>\n",
       "      <td>68.0</td>\n",
       "      <td>57.9</td>\n",
       "      <td>49.6</td>\n",
       "      <td>66.4</td>\n",
       "      <td>...</td>\n",
       "      <td>65.1</td>\n",
       "      <td>56.5</td>\n",
       "      <td>49.4</td>\n",
       "      <td>63.8</td>\n",
       "      <td>-2.6</td>\n",
       "      <td>1.4</td>\n",
       "      <td>-5.6</td>\n",
       "      <td>-3.7</td>\n",
       "      <td>-2.7</td>\n",
       "      <td>-4.4</td>\n",
       "    </tr>\n",
       "  </tbody>\n",
       "</table>\n",
       "<p>5 rows × 40 columns</p>\n",
       "</div>"
      ],
      "text/plain": [
       "          State  2002 Both Sexes  2002 Females  2002 Males  2003 Both Sexes  \\\n",
       "1       Alabama             40.7          32.1        49.6             42.3   \n",
       "69       Alaska             58.9          51.6        66.3             59.7   \n",
       "94      Arizona             60.3          53.4        67.5             60.3   \n",
       "109    Arkansas             41.8          33.5        50.4             44.4   \n",
       "190  California             58.0          48.7        67.6             59.2   \n",
       "\n",
       "     2003 Females  2003 Males  2004 Both Sexes  2004 Females  2004 Males  ...  \\\n",
       "1            33.8        51.2             41.0          32.9        49.5  ...   \n",
       "69           53.2        66.4             57.9          51.2        64.8  ...   \n",
       "94           53.4        67.4             58.0          51.0        65.4  ...   \n",
       "109          35.4        53.7             42.5          34.1        51.2  ...   \n",
       "190          50.6        68.0             57.9          49.6        66.4  ...   \n",
       "\n",
       "     2011 Males  2012 Both Sexes  2012 Females  2012 Males  \\\n",
       "1          52.5             43.6          36.5        51.0   \n",
       "69         64.8             59.5          54.2        65.0   \n",
       "94         64.2             55.8          50.6        61.2   \n",
       "109        51.9             43.7          35.5        52.2   \n",
       "190        65.1             56.5          49.4        63.8   \n",
       "\n",
       "     Percent Change 2002-2012, Both Sexes  Percent Change 2002-2012, Females  \\\n",
       "1                                     7.2                               13.5   \n",
       "69                                    1.1                                4.9   \n",
       "94                                   -7.4                               -5.2   \n",
       "109                                   4.5                                5.8   \n",
       "190                                  -2.6                                1.4   \n",
       "\n",
       "     Percent Change 2002-2012, Males  Percent Change 2005-2012, Both Sexes  \\\n",
       "1                                2.9                                   3.1   \n",
       "69                              -2.0                                   1.9   \n",
       "94                              -9.3                                  -4.9   \n",
       "109                              3.7                                   1.8   \n",
       "190                             -5.6                                  -3.7   \n",
       "\n",
       "     Percent Change 2005-2012, Females  Percent Change 2005-2012, Males  \n",
       "1                                  7.8                             -0.1  \n",
       "69                                 4.2                              0.0  \n",
       "94                                -2.7                             -6.6  \n",
       "109                                1.9                              1.8  \n",
       "190                               -2.7                             -4.4  \n",
       "\n",
       "[5 rows x 40 columns]"
      ]
     },
     "execution_count": 45,
     "metadata": {},
     "output_type": "execute_result"
    }
   ],
   "source": [
    "alcohol_df.head()"
   ]
  },
  {
   "cell_type": "code",
   "execution_count": 46,
   "metadata": {},
   "outputs": [
    {
     "data": {
      "text/html": [
       "<div>\n",
       "<style scoped>\n",
       "    .dataframe tbody tr th:only-of-type {\n",
       "        vertical-align: middle;\n",
       "    }\n",
       "\n",
       "    .dataframe tbody tr th {\n",
       "        vertical-align: top;\n",
       "    }\n",
       "\n",
       "    .dataframe thead th {\n",
       "        text-align: right;\n",
       "    }\n",
       "</style>\n",
       "<table border=\"1\" class=\"dataframe\">\n",
       "  <thead>\n",
       "    <tr style=\"text-align: right;\">\n",
       "      <th></th>\n",
       "      <th>State</th>\n",
       "      <th>alcohol_prevalence</th>\n",
       "    </tr>\n",
       "  </thead>\n",
       "  <tbody>\n",
       "    <tr>\n",
       "      <td>1</td>\n",
       "      <td>Alabama</td>\n",
       "      <td>43.6</td>\n",
       "    </tr>\n",
       "    <tr>\n",
       "      <td>69</td>\n",
       "      <td>Alaska</td>\n",
       "      <td>59.5</td>\n",
       "    </tr>\n",
       "    <tr>\n",
       "      <td>94</td>\n",
       "      <td>Arizona</td>\n",
       "      <td>55.8</td>\n",
       "    </tr>\n",
       "    <tr>\n",
       "      <td>109</td>\n",
       "      <td>Arkansas</td>\n",
       "      <td>43.7</td>\n",
       "    </tr>\n",
       "    <tr>\n",
       "      <td>190</td>\n",
       "      <td>California</td>\n",
       "      <td>56.5</td>\n",
       "    </tr>\n",
       "  </tbody>\n",
       "</table>\n",
       "</div>"
      ],
      "text/plain": [
       "          State  alcohol_prevalence\n",
       "1       Alabama                43.6\n",
       "69       Alaska                59.5\n",
       "94      Arizona                55.8\n",
       "109    Arkansas                43.7\n",
       "190  California                56.5"
      ]
     },
     "execution_count": 46,
     "metadata": {},
     "output_type": "execute_result"
    }
   ],
   "source": [
    "#keep only column of interest and rename it to something more usable\n",
    "alcohol_df = alcohol_df[[\"State\",\"2012 Both Sexes\"]].rename(columns = {\"2012 Both Sexes\" : \"alcohol_prevalence\"})\n",
    "alcohol_df.head()"
   ]
  },
  {
   "cell_type": "code",
   "execution_count": 47,
   "metadata": {},
   "outputs": [
    {
     "data": {
      "text/html": [
       "<div>\n",
       "<style scoped>\n",
       "    .dataframe tbody tr th:only-of-type {\n",
       "        vertical-align: middle;\n",
       "    }\n",
       "\n",
       "    .dataframe tbody tr th {\n",
       "        vertical-align: top;\n",
       "    }\n",
       "\n",
       "    .dataframe thead th {\n",
       "        text-align: right;\n",
       "    }\n",
       "</style>\n",
       "<table border=\"1\" class=\"dataframe\">\n",
       "  <thead>\n",
       "    <tr style=\"text-align: right;\">\n",
       "      <th></th>\n",
       "      <th>alcohol_prevalence</th>\n",
       "    </tr>\n",
       "  </thead>\n",
       "  <tbody>\n",
       "    <tr>\n",
       "      <td>count</td>\n",
       "      <td>51.000000</td>\n",
       "    </tr>\n",
       "    <tr>\n",
       "      <td>mean</td>\n",
       "      <td>55.966667</td>\n",
       "    </tr>\n",
       "    <tr>\n",
       "      <td>std</td>\n",
       "      <td>8.725701</td>\n",
       "    </tr>\n",
       "    <tr>\n",
       "      <td>min</td>\n",
       "      <td>28.200000</td>\n",
       "    </tr>\n",
       "    <tr>\n",
       "      <td>25%</td>\n",
       "      <td>50.850000</td>\n",
       "    </tr>\n",
       "    <tr>\n",
       "      <td>50%</td>\n",
       "      <td>58.100000</td>\n",
       "    </tr>\n",
       "    <tr>\n",
       "      <td>75%</td>\n",
       "      <td>62.300000</td>\n",
       "    </tr>\n",
       "    <tr>\n",
       "      <td>max</td>\n",
       "      <td>68.400000</td>\n",
       "    </tr>\n",
       "  </tbody>\n",
       "</table>\n",
       "</div>"
      ],
      "text/plain": [
       "       alcohol_prevalence\n",
       "count           51.000000\n",
       "mean            55.966667\n",
       "std              8.725701\n",
       "min             28.200000\n",
       "25%             50.850000\n",
       "50%             58.100000\n",
       "75%             62.300000\n",
       "max             68.400000"
      ]
     },
     "execution_count": 47,
     "metadata": {},
     "output_type": "execute_result"
    }
   ],
   "source": [
    "alcohol_df.describe()"
   ]
  },
  {
   "cell_type": "code",
   "execution_count": 48,
   "metadata": {},
   "outputs": [
    {
     "data": {
      "text/plain": [
       "array([[<matplotlib.axes._subplots.AxesSubplot object at 0x7fd7c734dfd0>]],\n",
       "      dtype=object)"
      ]
     },
     "execution_count": 48,
     "metadata": {},
     "output_type": "execute_result"
    },
    {
     "data": {
      "image/png": "[encoded data removed]",
      "text/plain": [
       "<Figure size 432x288 with 1 Axes>"
      ]
     },
     "metadata": {
      "needs_background": "light"
     },
     "output_type": "display_data"
    }
   ],
   "source": [
    "alcohol_df.hist(bins = 20)"
   ]
  },
  {
   "cell_type": "markdown",
   "metadata": {},
   "source": [
    "Alcohol prevalence has a left skewed distribution. The distribution is does not vary much in the ranges of 55-68. However, there are a few outliers with very low alcohol prevalence. The high value of standard deviation ( 8.7) is attributed to these outliers as one can see from the high difference between the minima and the 25 percentile as compared to difference of other sets of consecutive percentiles(here, by consecutive, we mean which differ by 25%). \n",
    "Finding the max and min of this distribution can shed more light on this."
   ]
  },
  {
   "cell_type": "code",
   "execution_count": 49,
   "metadata": {},
   "outputs": [
    {
     "data": {
      "text/plain": [
       "State                 Vermont\n",
       "alcohol_prevalence       68.4\n",
       "Name: 2852, dtype: object"
      ]
     },
     "execution_count": 49,
     "metadata": {},
     "output_type": "execute_result"
    }
   ],
   "source": [
    "# Max alcohol prevalence\n",
    "alcohol_df.loc[alcohol_df[\"alcohol_prevalence\"].idxmax()]"
   ]
  },
  {
   "cell_type": "code",
   "execution_count": 50,
   "metadata": {},
   "outputs": [
    {
     "data": {
      "text/plain": [
       "State                 Utah\n",
       "alcohol_prevalence    28.2\n",
       "Name: 2835, dtype: object"
      ]
     },
     "execution_count": 50,
     "metadata": {},
     "output_type": "execute_result"
    }
   ],
   "source": [
    "#Min alcohol prevalence\n",
    "alcohol_df.loc[alcohol_df[\"alcohol_prevalence\"].idxmin()]"
   ]
  },
  {
   "cell_type": "code",
   "execution_count": 51,
   "metadata": {},
   "outputs": [
    {
     "data": {
      "text/html": [
       "<div>\n",
       "<style scoped>\n",
       "    .dataframe tbody tr th:only-of-type {\n",
       "        vertical-align: middle;\n",
       "    }\n",
       "\n",
       "    .dataframe tbody tr th {\n",
       "        vertical-align: top;\n",
       "    }\n",
       "\n",
       "    .dataframe thead th {\n",
       "        text-align: right;\n",
       "    }\n",
       "</style>\n",
       "<table border=\"1\" class=\"dataframe\">\n",
       "  <thead>\n",
       "    <tr style=\"text-align: right;\">\n",
       "      <th></th>\n",
       "      <th>State</th>\n",
       "      <th>alcohol_prevalence</th>\n",
       "    </tr>\n",
       "  </thead>\n",
       "  <tbody>\n",
       "    <tr>\n",
       "      <td>2835</td>\n",
       "      <td>Utah</td>\n",
       "      <td>28.2</td>\n",
       "    </tr>\n",
       "    <tr>\n",
       "      <td>3077</td>\n",
       "      <td>West Virginia</td>\n",
       "      <td>35.3</td>\n",
       "    </tr>\n",
       "  </tbody>\n",
       "</table>\n",
       "</div>"
      ],
      "text/plain": [
       "              State  alcohol_prevalence\n",
       "2835           Utah                28.2\n",
       "3077  West Virginia                35.3"
      ]
     },
     "execution_count": 51,
     "metadata": {},
     "output_type": "execute_result"
    }
   ],
   "source": [
    "alcohol_df.loc[alcohol_df[\"alcohol_prevalence\"] < 40]"
   ]
  },
  {
   "cell_type": "code",
   "execution_count": 52,
   "metadata": {},
   "outputs": [
    {
     "data": {
      "text/html": [
       "<div>\n",
       "<style scoped>\n",
       "    .dataframe tbody tr th:only-of-type {\n",
       "        vertical-align: middle;\n",
       "    }\n",
       "\n",
       "    .dataframe tbody tr th {\n",
       "        vertical-align: top;\n",
       "    }\n",
       "\n",
       "    .dataframe thead th {\n",
       "        text-align: right;\n",
       "    }\n",
       "</style>\n",
       "<table border=\"1\" class=\"dataframe\">\n",
       "  <thead>\n",
       "    <tr style=\"text-align: right;\">\n",
       "      <th></th>\n",
       "      <th>State</th>\n",
       "      <th>alcohol_prevalence</th>\n",
       "    </tr>\n",
       "  </thead>\n",
       "  <tbody>\n",
       "    <tr>\n",
       "      <td>305</td>\n",
       "      <td>Connecticut</td>\n",
       "      <td>65.3</td>\n",
       "    </tr>\n",
       "    <tr>\n",
       "      <td>318</td>\n",
       "      <td>District Of Columbia</td>\n",
       "      <td>65.1</td>\n",
       "    </tr>\n",
       "    <tr>\n",
       "      <td>1236</td>\n",
       "      <td>Massachusetts</td>\n",
       "      <td>65.2</td>\n",
       "    </tr>\n",
       "    <tr>\n",
       "      <td>1375</td>\n",
       "      <td>Minnesota</td>\n",
       "      <td>66.6</td>\n",
       "    </tr>\n",
       "    <tr>\n",
       "      <td>1790</td>\n",
       "      <td>New Hampshire</td>\n",
       "      <td>67.5</td>\n",
       "    </tr>\n",
       "    <tr>\n",
       "      <td>2852</td>\n",
       "      <td>Vermont</td>\n",
       "      <td>68.4</td>\n",
       "    </tr>\n",
       "    <tr>\n",
       "      <td>3153</td>\n",
       "      <td>Wisconsin</td>\n",
       "      <td>66.8</td>\n",
       "    </tr>\n",
       "  </tbody>\n",
       "</table>\n",
       "</div>"
      ],
      "text/plain": [
       "                     State  alcohol_prevalence\n",
       "305            Connecticut                65.3\n",
       "318   District Of Columbia                65.1\n",
       "1236         Massachusetts                65.2\n",
       "1375             Minnesota                66.6\n",
       "1790         New Hampshire                67.5\n",
       "2852               Vermont                68.4\n",
       "3153             Wisconsin                66.8"
      ]
     },
     "execution_count": 52,
     "metadata": {},
     "output_type": "execute_result"
    }
   ],
   "source": [
    "alcohol_df.loc[alcohol_df[\"alcohol_prevalence\"] > 65]"
   ]
  },
  {
   "cell_type": "markdown",
   "metadata": {},
   "source": [
    "The state of Utah has an extremely low alcohol prevalence as compared to other states. West Virginia also has substantially lower values. As for the maxima, Vermont comes first but a closer analysis shows that around 6 other states have pretty similar alcohol consumptions."
   ]
  },
  {
   "cell_type": "markdown",
   "metadata": {},
   "source": [
    "### ***Diabetes Dataset***\n",
    "This dataset is also from IHME for diabetes prevalence in the US by county for years 1999-2012.\n",
    "We again have a xls file with multiple sheets."
   ]
  },
  {
   "cell_type": "code",
   "execution_count": 53,
   "metadata": {},
   "outputs": [],
   "source": [
    "#data loading\n",
    "diabetes_data_xls = pd.ExcelFile(\"Data/harsh_data/IHME_county_data_Diabetes_NATIONAL.xlsx\")"
   ]
  },
  {
   "cell_type": "code",
   "execution_count": 54,
   "metadata": {},
   "outputs": [
    {
     "data": {
      "text/plain": [
       "['Overview', 'Diagnosed', 'Undiagnosed', 'Total', 'Awareness', 'Control']"
      ]
     },
     "execution_count": 54,
     "metadata": {},
     "output_type": "execute_result"
    }
   ],
   "source": [
    "#Print sheet names\n",
    "diabetes_data_xls.sheet_names"
   ]
  },
  {
   "cell_type": "markdown",
   "metadata": {},
   "source": [
    "The description of sheet names from the `Overview` sheet --\n",
    "1. Diagnosed : The proportion of adults age 20+ who report a previous diabetes diagnosis (age-standardized)\n",
    "2. Undiagnosed :The proportion of adults age 20+ who do not report a previous diabetes diagnosis who have high FPG/A1C* (age-standardized)\n",
    "3. Total : The proportion of adults age 20+ who report a previous diabetes diagnosis and/or have high FPG/A1C* (age-standardized)\n",
    "4. Awareness : The proportion of adults age 20+ with a previous diabetes diagnosis and/or high FPG/A1C* who have received a diagnosis (age-standardized)\n",
    "5. Control : The proportion of adults age 20+ with a previous diabetes diagnosis and/or high FGP/A1C* who currently do not have high FPG/A1C* (age-standardized)\n",
    "\n",
    "*High FPG/A1C is fasting plasma glucose at least 126 mg/dL and/or A1C at least 6.5%\n",
    "\n",
    "For our project, we will don't distinguish between diagnosed and undiagnosed cases, so we will only consider the `Total` sheet."
   ]
  },
  {
   "cell_type": "code",
   "execution_count": 55,
   "metadata": {},
   "outputs": [],
   "source": [
    "#Read total sheet\n",
    "diabetes_df = pd.read_excel(diabetes_data_xls,'Total')"
   ]
  },
  {
   "cell_type": "code",
   "execution_count": 56,
   "metadata": {},
   "outputs": [
    {
     "data": {
      "text/html": [
       "<div>\n",
       "<style scoped>\n",
       "    .dataframe tbody tr th:only-of-type {\n",
       "        vertical-align: middle;\n",
       "    }\n",
       "\n",
       "    .dataframe tbody tr th {\n",
       "        vertical-align: top;\n",
       "    }\n",
       "\n",
       "    .dataframe thead th {\n",
       "        text-align: right;\n",
       "    }\n",
       "</style>\n",
       "<table border=\"1\" class=\"dataframe\">\n",
       "  <thead>\n",
       "    <tr style=\"text-align: right;\">\n",
       "      <th></th>\n",
       "      <th>Age-Standardized Total Diabetes Prevalence (%)</th>\n",
       "      <th>Unnamed: 1</th>\n",
       "      <th>Unnamed: 2</th>\n",
       "      <th>Unnamed: 3</th>\n",
       "      <th>Unnamed: 4</th>\n",
       "      <th>Unnamed: 5</th>\n",
       "      <th>Unnamed: 6</th>\n",
       "      <th>Unnamed: 7</th>\n",
       "      <th>Unnamed: 8</th>\n",
       "      <th>Unnamed: 9</th>\n",
       "      <th>...</th>\n",
       "      <th>Unnamed: 37</th>\n",
       "      <th>Unnamed: 38</th>\n",
       "      <th>Unnamed: 39</th>\n",
       "      <th>Unnamed: 40</th>\n",
       "      <th>Unnamed: 41</th>\n",
       "      <th>Unnamed: 42</th>\n",
       "      <th>Unnamed: 43</th>\n",
       "      <th>Unnamed: 44</th>\n",
       "      <th>Unnamed: 45</th>\n",
       "      <th>Unnamed: 46</th>\n",
       "    </tr>\n",
       "  </thead>\n",
       "  <tbody>\n",
       "    <tr>\n",
       "      <td>0</td>\n",
       "      <td>Location</td>\n",
       "      <td>FIPS</td>\n",
       "      <td>Prevalence, 1999, Both Sexes</td>\n",
       "      <td>Prevalence, 1999, Females</td>\n",
       "      <td>Prevalence, 1999, Males</td>\n",
       "      <td>Prevalence, 2000, Both Sexes</td>\n",
       "      <td>Prevalence, 2000, Females</td>\n",
       "      <td>Prevalence, 2000, Males</td>\n",
       "      <td>Prevalence, 2001, Both Sexes</td>\n",
       "      <td>Prevalence, 2001, Females</td>\n",
       "      <td>...</td>\n",
       "      <td>Prevalence, 2010, Males</td>\n",
       "      <td>Prevalence, 2011, Both Sexes</td>\n",
       "      <td>Prevalence, 2011, Females</td>\n",
       "      <td>Prevalence, 2011, Males</td>\n",
       "      <td>Prevalence, 2012, Both Sexes</td>\n",
       "      <td>Prevalence, 2012, Females</td>\n",
       "      <td>Prevalence, 2012, Males</td>\n",
       "      <td>Percent Change, 1999-2012, Males</td>\n",
       "      <td>Percent Change, 1999-2012, Females</td>\n",
       "      <td>Percent Change, 1999-2012, Both Sexes</td>\n",
       "    </tr>\n",
       "    <tr>\n",
       "      <td>1</td>\n",
       "      <td>National</td>\n",
       "      <td>NaN</td>\n",
       "      <td>10.2</td>\n",
       "      <td>9.08</td>\n",
       "      <td>11.39</td>\n",
       "      <td>10.66</td>\n",
       "      <td>9.53</td>\n",
       "      <td>11.87</td>\n",
       "      <td>11.12</td>\n",
       "      <td>9.95</td>\n",
       "      <td>...</td>\n",
       "      <td>15.22</td>\n",
       "      <td>14.02</td>\n",
       "      <td>12.73</td>\n",
       "      <td>15.39</td>\n",
       "      <td>14.28</td>\n",
       "      <td>13.02</td>\n",
       "      <td>15.62</td>\n",
       "      <td>37.1</td>\n",
       "      <td>43.5</td>\n",
       "      <td>40.04</td>\n",
       "    </tr>\n",
       "    <tr>\n",
       "      <td>2</td>\n",
       "      <td>Alabama</td>\n",
       "      <td>1</td>\n",
       "      <td>11.71</td>\n",
       "      <td>10.72</td>\n",
       "      <td>12.76</td>\n",
       "      <td>12.21</td>\n",
       "      <td>11.21</td>\n",
       "      <td>13.27</td>\n",
       "      <td>12.77</td>\n",
       "      <td>11.76</td>\n",
       "      <td>...</td>\n",
       "      <td>16.64</td>\n",
       "      <td>15.84</td>\n",
       "      <td>14.97</td>\n",
       "      <td>16.77</td>\n",
       "      <td>16.19</td>\n",
       "      <td>15.26</td>\n",
       "      <td>17.19</td>\n",
       "      <td>34.66</td>\n",
       "      <td>42.28</td>\n",
       "      <td>38.26</td>\n",
       "    </tr>\n",
       "    <tr>\n",
       "      <td>3</td>\n",
       "      <td>Autauga County</td>\n",
       "      <td>1001</td>\n",
       "      <td>11.58</td>\n",
       "      <td>10.54</td>\n",
       "      <td>12.69</td>\n",
       "      <td>12.01</td>\n",
       "      <td>10.94</td>\n",
       "      <td>13.14</td>\n",
       "      <td>12.46</td>\n",
       "      <td>11.31</td>\n",
       "      <td>...</td>\n",
       "      <td>16.19</td>\n",
       "      <td>15.25</td>\n",
       "      <td>13.92</td>\n",
       "      <td>16.67</td>\n",
       "      <td>15.45</td>\n",
       "      <td>14.03</td>\n",
       "      <td>16.97</td>\n",
       "      <td>33.7</td>\n",
       "      <td>33.1</td>\n",
       "      <td>33.42</td>\n",
       "    </tr>\n",
       "    <tr>\n",
       "      <td>4</td>\n",
       "      <td>Baldwin County</td>\n",
       "      <td>1003</td>\n",
       "      <td>9.71</td>\n",
       "      <td>7.9</td>\n",
       "      <td>11.64</td>\n",
       "      <td>10.11</td>\n",
       "      <td>8.26</td>\n",
       "      <td>12.08</td>\n",
       "      <td>10.57</td>\n",
       "      <td>8.69</td>\n",
       "      <td>...</td>\n",
       "      <td>14.87</td>\n",
       "      <td>13.17</td>\n",
       "      <td>11.44</td>\n",
       "      <td>15.02</td>\n",
       "      <td>13.44</td>\n",
       "      <td>11.8</td>\n",
       "      <td>15.19</td>\n",
       "      <td>30.52</td>\n",
       "      <td>49.25</td>\n",
       "      <td>38.38</td>\n",
       "    </tr>\n",
       "  </tbody>\n",
       "</table>\n",
       "<p>5 rows × 47 columns</p>\n",
       "</div>"
      ],
      "text/plain": [
       "  Age-Standardized Total Diabetes Prevalence (%) Unnamed: 1  \\\n",
       "0                                       Location       FIPS   \n",
       "1                                       National        NaN   \n",
       "2                                        Alabama          1   \n",
       "3                                 Autauga County       1001   \n",
       "4                                 Baldwin County       1003   \n",
       "\n",
       "                     Unnamed: 2                 Unnamed: 3  \\\n",
       "0  Prevalence, 1999, Both Sexes  Prevalence, 1999, Females   \n",
       "1                          10.2                       9.08   \n",
       "2                         11.71                      10.72   \n",
       "3                         11.58                      10.54   \n",
       "4                          9.71                        7.9   \n",
       "\n",
       "                Unnamed: 4                    Unnamed: 5  \\\n",
       "0  Prevalence, 1999, Males  Prevalence, 2000, Both Sexes   \n",
       "1                    11.39                         10.66   \n",
       "2                    12.76                         12.21   \n",
       "3                    12.69                         12.01   \n",
       "4                    11.64                         10.11   \n",
       "\n",
       "                  Unnamed: 6               Unnamed: 7  \\\n",
       "0  Prevalence, 2000, Females  Prevalence, 2000, Males   \n",
       "1                       9.53                    11.87   \n",
       "2                      11.21                    13.27   \n",
       "3                      10.94                    13.14   \n",
       "4                       8.26                    12.08   \n",
       "\n",
       "                     Unnamed: 8                 Unnamed: 9  ...  \\\n",
       "0  Prevalence, 2001, Both Sexes  Prevalence, 2001, Females  ...   \n",
       "1                         11.12                       9.95  ...   \n",
       "2                         12.77                      11.76  ...   \n",
       "3                         12.46                      11.31  ...   \n",
       "4                         10.57                       8.69  ...   \n",
       "\n",
       "               Unnamed: 37                   Unnamed: 38  \\\n",
       "0  Prevalence, 2010, Males  Prevalence, 2011, Both Sexes   \n",
       "1                    15.22                         14.02   \n",
       "2                    16.64                         15.84   \n",
       "3                    16.19                         15.25   \n",
       "4                    14.87                         13.17   \n",
       "\n",
       "                 Unnamed: 39              Unnamed: 40  \\\n",
       "0  Prevalence, 2011, Females  Prevalence, 2011, Males   \n",
       "1                      12.73                    15.39   \n",
       "2                      14.97                    16.77   \n",
       "3                      13.92                    16.67   \n",
       "4                      11.44                    15.02   \n",
       "\n",
       "                    Unnamed: 41                Unnamed: 42  \\\n",
       "0  Prevalence, 2012, Both Sexes  Prevalence, 2012, Females   \n",
       "1                         14.28                      13.02   \n",
       "2                         16.19                      15.26   \n",
       "3                         15.45                      14.03   \n",
       "4                         13.44                       11.8   \n",
       "\n",
       "               Unnamed: 43                       Unnamed: 44  \\\n",
       "0  Prevalence, 2012, Males  Percent Change, 1999-2012, Males   \n",
       "1                    15.62                              37.1   \n",
       "2                    17.19                             34.66   \n",
       "3                    16.97                              33.7   \n",
       "4                    15.19                             30.52   \n",
       "\n",
       "                          Unnamed: 45                            Unnamed: 46  \n",
       "0  Percent Change, 1999-2012, Females  Percent Change, 1999-2012, Both Sexes  \n",
       "1                                43.5                                  40.04  \n",
       "2                               42.28                                  38.26  \n",
       "3                                33.1                                  33.42  \n",
       "4                               49.25                                  38.38  \n",
       "\n",
       "[5 rows x 47 columns]"
      ]
     },
     "execution_count": 56,
     "metadata": {},
     "output_type": "execute_result"
    }
   ],
   "source": [
    "diabetes_df.head()"
   ]
  },
  {
   "cell_type": "markdown",
   "metadata": {},
   "source": [
    "There seems to a hierarchical index for column names in the excel file which `pandas.read_excel` cannot handle. But, the hierarchical column names are not necessarily required for later processing, as the top column name is `Age-Standardized Total Diabetes Prevalence (%)` which is basically the column name for all columns with diabetes prevalence, and we can set the first row as the column names. "
   ]
  },
  {
   "cell_type": "code",
   "execution_count": 57,
   "metadata": {},
   "outputs": [],
   "source": [
    "#Set first row as column names then drop that row \n",
    "diabetes_df.columns = diabetes_df.iloc[0]\n",
    "diabetes_df = diabetes_df.drop(diabetes_df.index[0])"
   ]
  },
  {
   "cell_type": "code",
   "execution_count": 58,
   "metadata": {},
   "outputs": [
    {
     "data": {
      "text/html": [
       "<div>\n",
       "<style scoped>\n",
       "    .dataframe tbody tr th:only-of-type {\n",
       "        vertical-align: middle;\n",
       "    }\n",
       "\n",
       "    .dataframe tbody tr th {\n",
       "        vertical-align: top;\n",
       "    }\n",
       "\n",
       "    .dataframe thead th {\n",
       "        text-align: right;\n",
       "    }\n",
       "</style>\n",
       "<table border=\"1\" class=\"dataframe\">\n",
       "  <thead>\n",
       "    <tr style=\"text-align: right;\">\n",
       "      <th></th>\n",
       "      <th>Location</th>\n",
       "      <th>FIPS</th>\n",
       "      <th>Prevalence, 1999, Both Sexes</th>\n",
       "      <th>Prevalence, 1999, Females</th>\n",
       "      <th>Prevalence, 1999, Males</th>\n",
       "      <th>Prevalence, 2000, Both Sexes</th>\n",
       "      <th>Prevalence, 2000, Females</th>\n",
       "      <th>Prevalence, 2000, Males</th>\n",
       "      <th>Prevalence, 2001, Both Sexes</th>\n",
       "      <th>Prevalence, 2001, Females</th>\n",
       "      <th>...</th>\n",
       "      <th>Prevalence, 2010, Males</th>\n",
       "      <th>Prevalence, 2011, Both Sexes</th>\n",
       "      <th>Prevalence, 2011, Females</th>\n",
       "      <th>Prevalence, 2011, Males</th>\n",
       "      <th>Prevalence, 2012, Both Sexes</th>\n",
       "      <th>Prevalence, 2012, Females</th>\n",
       "      <th>Prevalence, 2012, Males</th>\n",
       "      <th>Percent Change, 1999-2012, Males</th>\n",
       "      <th>Percent Change, 1999-2012, Females</th>\n",
       "      <th>Percent Change, 1999-2012, Both Sexes</th>\n",
       "    </tr>\n",
       "  </thead>\n",
       "  <tbody>\n",
       "    <tr>\n",
       "      <td>1</td>\n",
       "      <td>National</td>\n",
       "      <td>NaN</td>\n",
       "      <td>10.2</td>\n",
       "      <td>9.08</td>\n",
       "      <td>11.39</td>\n",
       "      <td>10.66</td>\n",
       "      <td>9.53</td>\n",
       "      <td>11.87</td>\n",
       "      <td>11.12</td>\n",
       "      <td>9.95</td>\n",
       "      <td>...</td>\n",
       "      <td>15.22</td>\n",
       "      <td>14.02</td>\n",
       "      <td>12.73</td>\n",
       "      <td>15.39</td>\n",
       "      <td>14.28</td>\n",
       "      <td>13.02</td>\n",
       "      <td>15.62</td>\n",
       "      <td>37.1</td>\n",
       "      <td>43.5</td>\n",
       "      <td>40.04</td>\n",
       "    </tr>\n",
       "    <tr>\n",
       "      <td>2</td>\n",
       "      <td>Alabama</td>\n",
       "      <td>1</td>\n",
       "      <td>11.71</td>\n",
       "      <td>10.72</td>\n",
       "      <td>12.76</td>\n",
       "      <td>12.21</td>\n",
       "      <td>11.21</td>\n",
       "      <td>13.27</td>\n",
       "      <td>12.77</td>\n",
       "      <td>11.76</td>\n",
       "      <td>...</td>\n",
       "      <td>16.64</td>\n",
       "      <td>15.84</td>\n",
       "      <td>14.97</td>\n",
       "      <td>16.77</td>\n",
       "      <td>16.19</td>\n",
       "      <td>15.26</td>\n",
       "      <td>17.19</td>\n",
       "      <td>34.66</td>\n",
       "      <td>42.28</td>\n",
       "      <td>38.26</td>\n",
       "    </tr>\n",
       "    <tr>\n",
       "      <td>3</td>\n",
       "      <td>Autauga County</td>\n",
       "      <td>1001</td>\n",
       "      <td>11.58</td>\n",
       "      <td>10.54</td>\n",
       "      <td>12.69</td>\n",
       "      <td>12.01</td>\n",
       "      <td>10.94</td>\n",
       "      <td>13.14</td>\n",
       "      <td>12.46</td>\n",
       "      <td>11.31</td>\n",
       "      <td>...</td>\n",
       "      <td>16.19</td>\n",
       "      <td>15.25</td>\n",
       "      <td>13.92</td>\n",
       "      <td>16.67</td>\n",
       "      <td>15.45</td>\n",
       "      <td>14.03</td>\n",
       "      <td>16.97</td>\n",
       "      <td>33.7</td>\n",
       "      <td>33.1</td>\n",
       "      <td>33.42</td>\n",
       "    </tr>\n",
       "    <tr>\n",
       "      <td>4</td>\n",
       "      <td>Baldwin County</td>\n",
       "      <td>1003</td>\n",
       "      <td>9.71</td>\n",
       "      <td>7.9</td>\n",
       "      <td>11.64</td>\n",
       "      <td>10.11</td>\n",
       "      <td>8.26</td>\n",
       "      <td>12.08</td>\n",
       "      <td>10.57</td>\n",
       "      <td>8.69</td>\n",
       "      <td>...</td>\n",
       "      <td>14.87</td>\n",
       "      <td>13.17</td>\n",
       "      <td>11.44</td>\n",
       "      <td>15.02</td>\n",
       "      <td>13.44</td>\n",
       "      <td>11.8</td>\n",
       "      <td>15.19</td>\n",
       "      <td>30.52</td>\n",
       "      <td>49.25</td>\n",
       "      <td>38.38</td>\n",
       "    </tr>\n",
       "    <tr>\n",
       "      <td>5</td>\n",
       "      <td>Barbour County</td>\n",
       "      <td>1005</td>\n",
       "      <td>13.84</td>\n",
       "      <td>13.03</td>\n",
       "      <td>14.69</td>\n",
       "      <td>14.57</td>\n",
       "      <td>13.76</td>\n",
       "      <td>15.44</td>\n",
       "      <td>15.25</td>\n",
       "      <td>14.46</td>\n",
       "      <td>...</td>\n",
       "      <td>19.28</td>\n",
       "      <td>19.08</td>\n",
       "      <td>18.38</td>\n",
       "      <td>19.83</td>\n",
       "      <td>19.36</td>\n",
       "      <td>18.67</td>\n",
       "      <td>20.1</td>\n",
       "      <td>36.79</td>\n",
       "      <td>43.25</td>\n",
       "      <td>39.93</td>\n",
       "    </tr>\n",
       "  </tbody>\n",
       "</table>\n",
       "<p>5 rows × 47 columns</p>\n",
       "</div>"
      ],
      "text/plain": [
       "0        Location  FIPS Prevalence, 1999, Both Sexes  \\\n",
       "1        National   NaN                         10.2   \n",
       "2         Alabama     1                        11.71   \n",
       "3  Autauga County  1001                        11.58   \n",
       "4  Baldwin County  1003                         9.71   \n",
       "5  Barbour County  1005                        13.84   \n",
       "\n",
       "0 Prevalence, 1999, Females Prevalence, 1999, Males  \\\n",
       "1                      9.08                   11.39   \n",
       "2                     10.72                   12.76   \n",
       "3                     10.54                   12.69   \n",
       "4                       7.9                   11.64   \n",
       "5                     13.03                   14.69   \n",
       "\n",
       "0 Prevalence, 2000, Both Sexes Prevalence, 2000, Females  \\\n",
       "1                        10.66                      9.53   \n",
       "2                        12.21                     11.21   \n",
       "3                        12.01                     10.94   \n",
       "4                        10.11                      8.26   \n",
       "5                        14.57                     13.76   \n",
       "\n",
       "0 Prevalence, 2000, Males Prevalence, 2001, Both Sexes  \\\n",
       "1                   11.87                        11.12   \n",
       "2                   13.27                        12.77   \n",
       "3                   13.14                        12.46   \n",
       "4                   12.08                        10.57   \n",
       "5                   15.44                        15.25   \n",
       "\n",
       "0 Prevalence, 2001, Females  ... Prevalence, 2010, Males  \\\n",
       "1                      9.95  ...                   15.22   \n",
       "2                     11.76  ...                   16.64   \n",
       "3                     11.31  ...                   16.19   \n",
       "4                      8.69  ...                   14.87   \n",
       "5                     14.46  ...                   19.28   \n",
       "\n",
       "0 Prevalence, 2011, Both Sexes Prevalence, 2011, Females  \\\n",
       "1                        14.02                     12.73   \n",
       "2                        15.84                     14.97   \n",
       "3                        15.25                     13.92   \n",
       "4                        13.17                     11.44   \n",
       "5                        19.08                     18.38   \n",
       "\n",
       "0 Prevalence, 2011, Males Prevalence, 2012, Both Sexes  \\\n",
       "1                   15.39                        14.28   \n",
       "2                   16.77                        16.19   \n",
       "3                   16.67                        15.45   \n",
       "4                   15.02                        13.44   \n",
       "5                   19.83                        19.36   \n",
       "\n",
       "0 Prevalence, 2012, Females Prevalence, 2012, Males  \\\n",
       "1                     13.02                   15.62   \n",
       "2                     15.26                   17.19   \n",
       "3                     14.03                   16.97   \n",
       "4                      11.8                   15.19   \n",
       "5                     18.67                    20.1   \n",
       "\n",
       "0 Percent Change, 1999-2012, Males Percent Change, 1999-2012, Females  \\\n",
       "1                             37.1                               43.5   \n",
       "2                            34.66                              42.28   \n",
       "3                             33.7                               33.1   \n",
       "4                            30.52                              49.25   \n",
       "5                            36.79                              43.25   \n",
       "\n",
       "0 Percent Change, 1999-2012, Both Sexes  \n",
       "1                                 40.04  \n",
       "2                                 38.26  \n",
       "3                                 33.42  \n",
       "4                                 38.38  \n",
       "5                                 39.93  \n",
       "\n",
       "[5 rows x 47 columns]"
      ]
     },
     "execution_count": 58,
     "metadata": {},
     "output_type": "execute_result"
    }
   ],
   "source": [
    "diabetes_df.head()"
   ]
  },
  {
   "cell_type": "markdown",
   "metadata": {},
   "source": [
    "The `Location` column contains the State names, county names and National value. Note that the `FIPS` column has a 2-digit number when the location is a state. We use this fact to filter out all the states. Also, `FIPS` is null when the value is national. The column of interest for us is again the latest year,i.e., 2012 and the prevalence for both sexes. Similar to the alcohol dataset, we do not analyse the female and male values separately as we already have the average value which we need for further processing."
   ]
  },
  {
   "cell_type": "code",
   "execution_count": 59,
   "metadata": {},
   "outputs": [],
   "source": [
    "#Keep only the States\n",
    "diabetes_df = diabetes_df[(diabetes_df[\"FIPS\"].notnull()) & (diabetes_df[\"FIPS\"]< 100)]"
   ]
  },
  {
   "cell_type": "code",
   "execution_count": 60,
   "metadata": {},
   "outputs": [
    {
     "data": {
      "text/html": [
       "<div>\n",
       "<style scoped>\n",
       "    .dataframe tbody tr th:only-of-type {\n",
       "        vertical-align: middle;\n",
       "    }\n",
       "\n",
       "    .dataframe tbody tr th {\n",
       "        vertical-align: top;\n",
       "    }\n",
       "\n",
       "    .dataframe thead th {\n",
       "        text-align: right;\n",
       "    }\n",
       "</style>\n",
       "<table border=\"1\" class=\"dataframe\">\n",
       "  <thead>\n",
       "    <tr style=\"text-align: right;\">\n",
       "      <th></th>\n",
       "      <th>Location</th>\n",
       "      <th>FIPS</th>\n",
       "      <th>Prevalence, 1999, Both Sexes</th>\n",
       "      <th>Prevalence, 1999, Females</th>\n",
       "      <th>Prevalence, 1999, Males</th>\n",
       "      <th>Prevalence, 2000, Both Sexes</th>\n",
       "      <th>Prevalence, 2000, Females</th>\n",
       "      <th>Prevalence, 2000, Males</th>\n",
       "      <th>Prevalence, 2001, Both Sexes</th>\n",
       "      <th>Prevalence, 2001, Females</th>\n",
       "      <th>...</th>\n",
       "      <th>Prevalence, 2010, Males</th>\n",
       "      <th>Prevalence, 2011, Both Sexes</th>\n",
       "      <th>Prevalence, 2011, Females</th>\n",
       "      <th>Prevalence, 2011, Males</th>\n",
       "      <th>Prevalence, 2012, Both Sexes</th>\n",
       "      <th>Prevalence, 2012, Females</th>\n",
       "      <th>Prevalence, 2012, Males</th>\n",
       "      <th>Percent Change, 1999-2012, Males</th>\n",
       "      <th>Percent Change, 1999-2012, Females</th>\n",
       "      <th>Percent Change, 1999-2012, Both Sexes</th>\n",
       "    </tr>\n",
       "  </thead>\n",
       "  <tbody>\n",
       "    <tr>\n",
       "      <td>2</td>\n",
       "      <td>Alabama</td>\n",
       "      <td>1</td>\n",
       "      <td>11.71</td>\n",
       "      <td>10.72</td>\n",
       "      <td>12.76</td>\n",
       "      <td>12.21</td>\n",
       "      <td>11.21</td>\n",
       "      <td>13.27</td>\n",
       "      <td>12.77</td>\n",
       "      <td>11.76</td>\n",
       "      <td>...</td>\n",
       "      <td>16.64</td>\n",
       "      <td>15.84</td>\n",
       "      <td>14.97</td>\n",
       "      <td>16.77</td>\n",
       "      <td>16.19</td>\n",
       "      <td>15.26</td>\n",
       "      <td>17.19</td>\n",
       "      <td>34.66</td>\n",
       "      <td>42.28</td>\n",
       "      <td>38.26</td>\n",
       "    </tr>\n",
       "    <tr>\n",
       "      <td>70</td>\n",
       "      <td>Alaska</td>\n",
       "      <td>2</td>\n",
       "      <td>9.04</td>\n",
       "      <td>8.81</td>\n",
       "      <td>9.29</td>\n",
       "      <td>9.42</td>\n",
       "      <td>9.22</td>\n",
       "      <td>9.63</td>\n",
       "      <td>9.73</td>\n",
       "      <td>9.51</td>\n",
       "      <td>...</td>\n",
       "      <td>11.78</td>\n",
       "      <td>11.81</td>\n",
       "      <td>11.84</td>\n",
       "      <td>11.78</td>\n",
       "      <td>11.89</td>\n",
       "      <td>12.04</td>\n",
       "      <td>11.74</td>\n",
       "      <td>26.38</td>\n",
       "      <td>36.58</td>\n",
       "      <td>31.51</td>\n",
       "    </tr>\n",
       "    <tr>\n",
       "      <td>100</td>\n",
       "      <td>Arizona</td>\n",
       "      <td>4</td>\n",
       "      <td>9.3</td>\n",
       "      <td>8.05</td>\n",
       "      <td>10.64</td>\n",
       "      <td>9.79</td>\n",
       "      <td>8.52</td>\n",
       "      <td>11.15</td>\n",
       "      <td>10.32</td>\n",
       "      <td>9</td>\n",
       "      <td>...</td>\n",
       "      <td>14.51</td>\n",
       "      <td>13.27</td>\n",
       "      <td>11.86</td>\n",
       "      <td>14.76</td>\n",
       "      <td>13.72</td>\n",
       "      <td>12.24</td>\n",
       "      <td>15.29</td>\n",
       "      <td>43.72</td>\n",
       "      <td>52.13</td>\n",
       "      <td>47.48</td>\n",
       "    </tr>\n",
       "    <tr>\n",
       "      <td>116</td>\n",
       "      <td>Arkansas</td>\n",
       "      <td>5</td>\n",
       "      <td>10.33</td>\n",
       "      <td>9.14</td>\n",
       "      <td>11.59</td>\n",
       "      <td>10.81</td>\n",
       "      <td>9.61</td>\n",
       "      <td>12.1</td>\n",
       "      <td>11.35</td>\n",
       "      <td>10.11</td>\n",
       "      <td>...</td>\n",
       "      <td>16.22</td>\n",
       "      <td>15.02</td>\n",
       "      <td>13.62</td>\n",
       "      <td>16.51</td>\n",
       "      <td>15.23</td>\n",
       "      <td>13.95</td>\n",
       "      <td>16.59</td>\n",
       "      <td>43.14</td>\n",
       "      <td>52.68</td>\n",
       "      <td>47.49</td>\n",
       "    </tr>\n",
       "    <tr>\n",
       "      <td>192</td>\n",
       "      <td>California</td>\n",
       "      <td>6</td>\n",
       "      <td>10.2</td>\n",
       "      <td>9.18</td>\n",
       "      <td>11.29</td>\n",
       "      <td>10.64</td>\n",
       "      <td>9.59</td>\n",
       "      <td>11.76</td>\n",
       "      <td>11.09</td>\n",
       "      <td>10.01</td>\n",
       "      <td>...</td>\n",
       "      <td>14.91</td>\n",
       "      <td>13.91</td>\n",
       "      <td>12.79</td>\n",
       "      <td>15.12</td>\n",
       "      <td>14.51</td>\n",
       "      <td>13.16</td>\n",
       "      <td>15.95</td>\n",
       "      <td>41.36</td>\n",
       "      <td>43.38</td>\n",
       "      <td>42.29</td>\n",
       "    </tr>\n",
       "  </tbody>\n",
       "</table>\n",
       "<p>5 rows × 47 columns</p>\n",
       "</div>"
      ],
      "text/plain": [
       "0      Location FIPS Prevalence, 1999, Both Sexes Prevalence, 1999, Females  \\\n",
       "2       Alabama    1                        11.71                     10.72   \n",
       "70       Alaska    2                         9.04                      8.81   \n",
       "100     Arizona    4                          9.3                      8.05   \n",
       "116    Arkansas    5                        10.33                      9.14   \n",
       "192  California    6                         10.2                      9.18   \n",
       "\n",
       "0   Prevalence, 1999, Males Prevalence, 2000, Both Sexes  \\\n",
       "2                     12.76                        12.21   \n",
       "70                     9.29                         9.42   \n",
       "100                   10.64                         9.79   \n",
       "116                   11.59                        10.81   \n",
       "192                   11.29                        10.64   \n",
       "\n",
       "0   Prevalence, 2000, Females Prevalence, 2000, Males  \\\n",
       "2                       11.21                   13.27   \n",
       "70                       9.22                    9.63   \n",
       "100                      8.52                   11.15   \n",
       "116                      9.61                    12.1   \n",
       "192                      9.59                   11.76   \n",
       "\n",
       "0   Prevalence, 2001, Both Sexes Prevalence, 2001, Females  ...  \\\n",
       "2                          12.77                     11.76  ...   \n",
       "70                          9.73                      9.51  ...   \n",
       "100                        10.32                         9  ...   \n",
       "116                        11.35                     10.11  ...   \n",
       "192                        11.09                     10.01  ...   \n",
       "\n",
       "0   Prevalence, 2010, Males Prevalence, 2011, Both Sexes  \\\n",
       "2                     16.64                        15.84   \n",
       "70                    11.78                        11.81   \n",
       "100                   14.51                        13.27   \n",
       "116                   16.22                        15.02   \n",
       "192                   14.91                        13.91   \n",
       "\n",
       "0   Prevalence, 2011, Females Prevalence, 2011, Males  \\\n",
       "2                       14.97                   16.77   \n",
       "70                      11.84                   11.78   \n",
       "100                     11.86                   14.76   \n",
       "116                     13.62                   16.51   \n",
       "192                     12.79                   15.12   \n",
       "\n",
       "0   Prevalence, 2012, Both Sexes Prevalence, 2012, Females  \\\n",
       "2                          16.19                     15.26   \n",
       "70                         11.89                     12.04   \n",
       "100                        13.72                     12.24   \n",
       "116                        15.23                     13.95   \n",
       "192                        14.51                     13.16   \n",
       "\n",
       "0   Prevalence, 2012, Males Percent Change, 1999-2012, Males  \\\n",
       "2                     17.19                            34.66   \n",
       "70                    11.74                            26.38   \n",
       "100                   15.29                            43.72   \n",
       "116                   16.59                            43.14   \n",
       "192                   15.95                            41.36   \n",
       "\n",
       "0   Percent Change, 1999-2012, Females Percent Change, 1999-2012, Both Sexes  \n",
       "2                                42.28                                 38.26  \n",
       "70                               36.58                                 31.51  \n",
       "100                              52.13                                 47.48  \n",
       "116                              52.68                                 47.49  \n",
       "192                              43.38                                 42.29  \n",
       "\n",
       "[5 rows x 47 columns]"
      ]
     },
     "execution_count": 60,
     "metadata": {},
     "output_type": "execute_result"
    }
   ],
   "source": [
    "diabetes_df.head()"
   ]
  },
  {
   "cell_type": "code",
   "execution_count": 61,
   "metadata": {},
   "outputs": [
    {
     "data": {
      "text/plain": [
       "51"
      ]
     },
     "execution_count": 61,
     "metadata": {},
     "output_type": "execute_result"
    }
   ],
   "source": [
    "#We have all the 51 states\n",
    "len(diabetes_df)"
   ]
  },
  {
   "cell_type": "code",
   "execution_count": 62,
   "metadata": {},
   "outputs": [],
   "source": [
    "#Keep only column of interest and rename it to something more usable.\n",
    "#Also rename location to State for easy merging later\n",
    "diabetes_df = diabetes_df[[\"Location\",\"Prevalence, 2012, Both Sexes\"]]\\\n",
    "    .rename(columns = {\"Location\":\"State\",\"Prevalence, 2012, Both Sexes\" : \"diabetes_prevalence\"})"
   ]
  },
  {
   "cell_type": "code",
   "execution_count": 63,
   "metadata": {},
   "outputs": [
    {
     "data": {
      "text/html": [
       "<div>\n",
       "<style scoped>\n",
       "    .dataframe tbody tr th:only-of-type {\n",
       "        vertical-align: middle;\n",
       "    }\n",
       "\n",
       "    .dataframe tbody tr th {\n",
       "        vertical-align: top;\n",
       "    }\n",
       "\n",
       "    .dataframe thead th {\n",
       "        text-align: right;\n",
       "    }\n",
       "</style>\n",
       "<table border=\"1\" class=\"dataframe\">\n",
       "  <thead>\n",
       "    <tr style=\"text-align: right;\">\n",
       "      <th></th>\n",
       "      <th>State</th>\n",
       "      <th>diabetes_prevalence</th>\n",
       "    </tr>\n",
       "  </thead>\n",
       "  <tbody>\n",
       "    <tr>\n",
       "      <td>2</td>\n",
       "      <td>Alabama</td>\n",
       "      <td>16.19</td>\n",
       "    </tr>\n",
       "    <tr>\n",
       "      <td>70</td>\n",
       "      <td>Alaska</td>\n",
       "      <td>11.89</td>\n",
       "    </tr>\n",
       "    <tr>\n",
       "      <td>100</td>\n",
       "      <td>Arizona</td>\n",
       "      <td>13.72</td>\n",
       "    </tr>\n",
       "    <tr>\n",
       "      <td>116</td>\n",
       "      <td>Arkansas</td>\n",
       "      <td>15.23</td>\n",
       "    </tr>\n",
       "    <tr>\n",
       "      <td>192</td>\n",
       "      <td>California</td>\n",
       "      <td>14.51</td>\n",
       "    </tr>\n",
       "  </tbody>\n",
       "</table>\n",
       "</div>"
      ],
      "text/plain": [
       "0         State diabetes_prevalence\n",
       "2       Alabama               16.19\n",
       "70       Alaska               11.89\n",
       "100     Arizona               13.72\n",
       "116    Arkansas               15.23\n",
       "192  California               14.51"
      ]
     },
     "execution_count": 63,
     "metadata": {},
     "output_type": "execute_result"
    }
   ],
   "source": [
    "diabetes_df.head()"
   ]
  },
  {
   "cell_type": "code",
   "execution_count": 64,
   "metadata": {},
   "outputs": [
    {
     "data": {
      "text/plain": [
       "0\n",
       "State                  object\n",
       "diabetes_prevalence    object\n",
       "dtype: object"
      ]
     },
     "execution_count": 64,
     "metadata": {},
     "output_type": "execute_result"
    }
   ],
   "source": [
    "diabetes_df.dtypes"
   ]
  },
  {
   "cell_type": "markdown",
   "metadata": {},
   "source": [
    "Our diabetes_prevalence column is of `object` datatype. This might cause problems later so we convert it to `float64`"
   ]
  },
  {
   "cell_type": "code",
   "execution_count": 65,
   "metadata": {},
   "outputs": [],
   "source": [
    "#Convert datatype\n",
    "diabetes_df = diabetes_df.astype({\"diabetes_prevalence\" : \"float64\"})"
   ]
  },
  {
   "cell_type": "code",
   "execution_count": 66,
   "metadata": {},
   "outputs": [
    {
     "data": {
      "text/html": [
       "<div>\n",
       "<style scoped>\n",
       "    .dataframe tbody tr th:only-of-type {\n",
       "        vertical-align: middle;\n",
       "    }\n",
       "\n",
       "    .dataframe tbody tr th {\n",
       "        vertical-align: top;\n",
       "    }\n",
       "\n",
       "    .dataframe thead th {\n",
       "        text-align: right;\n",
       "    }\n",
       "</style>\n",
       "<table border=\"1\" class=\"dataframe\">\n",
       "  <thead>\n",
       "    <tr style=\"text-align: right;\">\n",
       "      <th></th>\n",
       "      <th>diabetes_prevalence</th>\n",
       "    </tr>\n",
       "  </thead>\n",
       "  <tbody>\n",
       "    <tr>\n",
       "      <td>count</td>\n",
       "      <td>51.000000</td>\n",
       "    </tr>\n",
       "    <tr>\n",
       "      <td>mean</td>\n",
       "      <td>13.703529</td>\n",
       "    </tr>\n",
       "    <tr>\n",
       "      <td>std</td>\n",
       "      <td>1.578180</td>\n",
       "    </tr>\n",
       "    <tr>\n",
       "      <td>min</td>\n",
       "      <td>10.740000</td>\n",
       "    </tr>\n",
       "    <tr>\n",
       "      <td>25%</td>\n",
       "      <td>12.420000</td>\n",
       "    </tr>\n",
       "    <tr>\n",
       "      <td>50%</td>\n",
       "      <td>13.770000</td>\n",
       "    </tr>\n",
       "    <tr>\n",
       "      <td>75%</td>\n",
       "      <td>14.930000</td>\n",
       "    </tr>\n",
       "    <tr>\n",
       "      <td>max</td>\n",
       "      <td>17.550000</td>\n",
       "    </tr>\n",
       "  </tbody>\n",
       "</table>\n",
       "</div>"
      ],
      "text/plain": [
       "0      diabetes_prevalence\n",
       "count            51.000000\n",
       "mean             13.703529\n",
       "std               1.578180\n",
       "min              10.740000\n",
       "25%              12.420000\n",
       "50%              13.770000\n",
       "75%              14.930000\n",
       "max              17.550000"
      ]
     },
     "execution_count": 66,
     "metadata": {},
     "output_type": "execute_result"
    }
   ],
   "source": [
    "diabetes_df.describe()"
   ]
  },
  {
   "cell_type": "code",
   "execution_count": 67,
   "metadata": {},
   "outputs": [
    {
     "data": {
      "text/plain": [
       "array([[<matplotlib.axes._subplots.AxesSubplot object at 0x7fd7c73a2cf8>]],\n",
       "      dtype=object)"
      ]
     },
     "execution_count": 67,
     "metadata": {},
     "output_type": "execute_result"
    },
    {
     "data": {
      "image/png": "[encoded data removed]",
      "text/plain": [
       "<Figure size 432x288 with 1 Axes>"
      ]
     },
     "metadata": {
      "needs_background": "light"
     },
     "output_type": "display_data"
    }
   ],
   "source": [
    "diabetes_df.hist(bins=20)"
   ]
  },
  {
   "cell_type": "markdown",
   "metadata": {},
   "source": [
    "The distribution is right-skewed with a very small skew ( Median - mean = 0.07). There are certain large drops in the distribution near 12.8 and 15.5."
   ]
  },
  {
   "cell_type": "code",
   "execution_count": 68,
   "metadata": {},
   "outputs": [
    {
     "data": {
      "text/plain": [
       "0\n",
       "State                  Mississippi\n",
       "diabetes_prevalence          17.55\n",
       "Name: 1427, dtype: object"
      ]
     },
     "execution_count": 68,
     "metadata": {},
     "output_type": "execute_result"
    }
   ],
   "source": [
    "#Max diabetes prevalence\n",
    "diabetes_df.loc[diabetes_df[\"diabetes_prevalence\"].idxmax()]"
   ]
  },
  {
   "cell_type": "code",
   "execution_count": 69,
   "metadata": {},
   "outputs": [
    {
     "data": {
      "text/plain": [
       "0\n",
       "State                  Vermont\n",
       "diabetes_prevalence      10.74\n",
       "Name: 2853, dtype: object"
      ]
     },
     "execution_count": 69,
     "metadata": {},
     "output_type": "execute_result"
    }
   ],
   "source": [
    "diabetes_df.loc[diabetes_df[\"diabetes_prevalence\"].idxmin()]"
   ]
  },
  {
   "cell_type": "code",
   "execution_count": 70,
   "metadata": {},
   "outputs": [
    {
     "data": {
      "text/html": [
       "<div>\n",
       "<style scoped>\n",
       "    .dataframe tbody tr th:only-of-type {\n",
       "        vertical-align: middle;\n",
       "    }\n",
       "\n",
       "    .dataframe tbody tr th {\n",
       "        vertical-align: top;\n",
       "    }\n",
       "\n",
       "    .dataframe thead th {\n",
       "        text-align: right;\n",
       "    }\n",
       "</style>\n",
       "<table border=\"1\" class=\"dataframe\">\n",
       "  <thead>\n",
       "    <tr style=\"text-align: right;\">\n",
       "      <th></th>\n",
       "      <th>State</th>\n",
       "      <th>diabetes_prevalence</th>\n",
       "    </tr>\n",
       "  </thead>\n",
       "  <tbody>\n",
       "    <tr>\n",
       "      <td>2</td>\n",
       "      <td>Alabama</td>\n",
       "      <td>16.19</td>\n",
       "    </tr>\n",
       "    <tr>\n",
       "      <td>1133</td>\n",
       "      <td>Louisiana</td>\n",
       "      <td>16.48</td>\n",
       "    </tr>\n",
       "    <tr>\n",
       "      <td>1427</td>\n",
       "      <td>Mississippi</td>\n",
       "      <td>17.55</td>\n",
       "    </tr>\n",
       "    <tr>\n",
       "      <td>2568</td>\n",
       "      <td>Texas</td>\n",
       "      <td>16.34</td>\n",
       "    </tr>\n",
       "  </tbody>\n",
       "</table>\n",
       "</div>"
      ],
      "text/plain": [
       "0           State  diabetes_prevalence\n",
       "2         Alabama                16.19\n",
       "1133    Louisiana                16.48\n",
       "1427  Mississippi                17.55\n",
       "2568        Texas                16.34"
      ]
     },
     "execution_count": 70,
     "metadata": {},
     "output_type": "execute_result"
    }
   ],
   "source": [
    "diabetes_df.loc[diabetes_df[\"diabetes_prevalence\"] > 16]"
   ]
  },
  {
   "cell_type": "code",
   "execution_count": 71,
   "metadata": {},
   "outputs": [
    {
     "data": {
      "text/html": [
       "<div>\n",
       "<style scoped>\n",
       "    .dataframe tbody tr th:only-of-type {\n",
       "        vertical-align: middle;\n",
       "    }\n",
       "\n",
       "    .dataframe tbody tr th {\n",
       "        vertical-align: top;\n",
       "    }\n",
       "\n",
       "    .dataframe thead th {\n",
       "        text-align: right;\n",
       "    }\n",
       "</style>\n",
       "<table border=\"1\" class=\"dataframe\">\n",
       "  <thead>\n",
       "    <tr style=\"text-align: right;\">\n",
       "      <th></th>\n",
       "      <th>State</th>\n",
       "      <th>diabetes_prevalence</th>\n",
       "    </tr>\n",
       "  </thead>\n",
       "  <tbody>\n",
       "    <tr>\n",
       "      <td>251</td>\n",
       "      <td>Colorado</td>\n",
       "      <td>11.26</td>\n",
       "    </tr>\n",
       "    <tr>\n",
       "      <td>1339</td>\n",
       "      <td>Minnesota</td>\n",
       "      <td>11.27</td>\n",
       "    </tr>\n",
       "    <tr>\n",
       "      <td>1626</td>\n",
       "      <td>Montana</td>\n",
       "      <td>11.37</td>\n",
       "    </tr>\n",
       "    <tr>\n",
       "      <td>2853</td>\n",
       "      <td>Vermont</td>\n",
       "      <td>10.74</td>\n",
       "    </tr>\n",
       "  </tbody>\n",
       "</table>\n",
       "</div>"
      ],
      "text/plain": [
       "0         State  diabetes_prevalence\n",
       "251    Colorado                11.26\n",
       "1339  Minnesota                11.27\n",
       "1626    Montana                11.37\n",
       "2853    Vermont                10.74"
      ]
     },
     "execution_count": 71,
     "metadata": {},
     "output_type": "execute_result"
    }
   ],
   "source": [
    "diabetes_df.loc[diabetes_df[\"diabetes_prevalence\"] < 11.5]"
   ]
  },
  {
   "cell_type": "markdown",
   "metadata": {},
   "source": [
    "Note that Mississipi fares poorly even in terms of diabetes and it is almost 1 standard deviation higher than the state with 2nd highest diabetes prevalence.\n",
    "Vermont, the minimum diabetes state, is comparatively closer to the other low diabetes states."
   ]
  },
  {
   "cell_type": "markdown",
   "metadata": {},
   "source": [
    "Now that we have analysed our datasets separately, we will merge them into a single dataframe based on the name of the State. Before this merge, to keep all state names consistent, we convert them to lower case. We perform the merge in pairs. Merging 4 dataframes to 2 and then these 2 to a single dataframe"
   ]
  },
  {
   "cell_type": "code",
   "execution_count": 72,
   "metadata": {},
   "outputs": [],
   "source": [
    "#Lower state names and perform first merge on State\n",
    "diabetes_df[\"State\"] = diabetes_df[\"State\"].apply(lambda x : x.lower())\n",
    "alcohol_df[\"State\"] = alcohol_df[\"State\"].apply(lambda x : x.lower())\n",
    "merged_df1 = pd.merge(diabetes_df,alcohol_df,on=\"State\")"
   ]
  },
  {
   "cell_type": "code",
   "execution_count": 73,
   "metadata": {},
   "outputs": [
    {
     "data": {
      "text/html": [
       "<div>\n",
       "<style scoped>\n",
       "    .dataframe tbody tr th:only-of-type {\n",
       "        vertical-align: middle;\n",
       "    }\n",
       "\n",
       "    .dataframe tbody tr th {\n",
       "        vertical-align: top;\n",
       "    }\n",
       "\n",
       "    .dataframe thead th {\n",
       "        text-align: right;\n",
       "    }\n",
       "</style>\n",
       "<table border=\"1\" class=\"dataframe\">\n",
       "  <thead>\n",
       "    <tr style=\"text-align: right;\">\n",
       "      <th></th>\n",
       "      <th>State</th>\n",
       "      <th>diabetes_prevalence</th>\n",
       "      <th>alcohol_prevalence</th>\n",
       "    </tr>\n",
       "  </thead>\n",
       "  <tbody>\n",
       "    <tr>\n",
       "      <td>0</td>\n",
       "      <td>alabama</td>\n",
       "      <td>16.19</td>\n",
       "      <td>43.6</td>\n",
       "    </tr>\n",
       "    <tr>\n",
       "      <td>1</td>\n",
       "      <td>alaska</td>\n",
       "      <td>11.89</td>\n",
       "      <td>59.5</td>\n",
       "    </tr>\n",
       "    <tr>\n",
       "      <td>2</td>\n",
       "      <td>arizona</td>\n",
       "      <td>13.72</td>\n",
       "      <td>55.8</td>\n",
       "    </tr>\n",
       "    <tr>\n",
       "      <td>3</td>\n",
       "      <td>arkansas</td>\n",
       "      <td>15.23</td>\n",
       "      <td>43.7</td>\n",
       "    </tr>\n",
       "    <tr>\n",
       "      <td>4</td>\n",
       "      <td>california</td>\n",
       "      <td>14.51</td>\n",
       "      <td>56.5</td>\n",
       "    </tr>\n",
       "  </tbody>\n",
       "</table>\n",
       "</div>"
      ],
      "text/plain": [
       "        State  diabetes_prevalence  alcohol_prevalence\n",
       "0     alabama                16.19                43.6\n",
       "1      alaska                11.89                59.5\n",
       "2     arizona                13.72                55.8\n",
       "3    arkansas                15.23                43.7\n",
       "4  california                14.51                56.5"
      ]
     },
     "execution_count": 73,
     "metadata": {},
     "output_type": "execute_result"
    }
   ],
   "source": [
    "merged_df1.head()"
   ]
  },
  {
   "cell_type": "code",
   "execution_count": 74,
   "metadata": {},
   "outputs": [
    {
     "data": {
      "text/plain": [
       "51"
      ]
     },
     "execution_count": 74,
     "metadata": {},
     "output_type": "execute_result"
    }
   ],
   "source": [
    "#Merge retains all 51 states\n",
    "len(merged_df1)"
   ]
  },
  {
   "cell_type": "markdown",
   "metadata": {},
   "source": [
    "For `df_physical` and `df_obesity`, the merge is on `state` instead of `State` and only for the mean values. We rename the `state` column name to `State` for the last merge."
   ]
  },
  {
   "cell_type": "code",
   "execution_count": 75,
   "metadata": {},
   "outputs": [],
   "source": [
    "#Lower the state names and perform second merge on state\n",
    "df_physical[\"state\"] = df_physical[\"state\"].apply(lambda x : x.lower())\n",
    "df_obesity[\"state\"] = df_obesity[\"state\"].apply(lambda x : x.lower())\n",
    "merged_df2 = pd.merge(df_physical[[\"state\",\"mean_physical_activity\"]],df_obesity[[\"state\",\"mean_obesity\"]], on=\"state\")"
   ]
  },
  {
   "cell_type": "code",
   "execution_count": 76,
   "metadata": {},
   "outputs": [
    {
     "data": {
      "text/html": [
       "<div>\n",
       "<style scoped>\n",
       "    .dataframe tbody tr th:only-of-type {\n",
       "        vertical-align: middle;\n",
       "    }\n",
       "\n",
       "    .dataframe tbody tr th {\n",
       "        vertical-align: top;\n",
       "    }\n",
       "\n",
       "    .dataframe thead th {\n",
       "        text-align: right;\n",
       "    }\n",
       "</style>\n",
       "<table border=\"1\" class=\"dataframe\">\n",
       "  <thead>\n",
       "    <tr style=\"text-align: right;\">\n",
       "      <th></th>\n",
       "      <th>state</th>\n",
       "      <th>mean_physical_activity</th>\n",
       "      <th>mean_obesity</th>\n",
       "    </tr>\n",
       "  </thead>\n",
       "  <tbody>\n",
       "    <tr>\n",
       "      <td>0</td>\n",
       "      <td>alabama</td>\n",
       "      <td>45.75</td>\n",
       "      <td>39.75</td>\n",
       "    </tr>\n",
       "    <tr>\n",
       "      <td>1</td>\n",
       "      <td>alaska</td>\n",
       "      <td>58.70</td>\n",
       "      <td>35.70</td>\n",
       "    </tr>\n",
       "    <tr>\n",
       "      <td>2</td>\n",
       "      <td>arizona</td>\n",
       "      <td>58.20</td>\n",
       "      <td>33.10</td>\n",
       "    </tr>\n",
       "    <tr>\n",
       "      <td>3</td>\n",
       "      <td>arkansas</td>\n",
       "      <td>48.25</td>\n",
       "      <td>38.25</td>\n",
       "    </tr>\n",
       "    <tr>\n",
       "      <td>4</td>\n",
       "      <td>california</td>\n",
       "      <td>60.25</td>\n",
       "      <td>31.15</td>\n",
       "    </tr>\n",
       "  </tbody>\n",
       "</table>\n",
       "</div>"
      ],
      "text/plain": [
       "        state  mean_physical_activity  mean_obesity\n",
       "0     alabama                   45.75         39.75\n",
       "1      alaska                   58.70         35.70\n",
       "2     arizona                   58.20         33.10\n",
       "3    arkansas                   48.25         38.25\n",
       "4  california                   60.25         31.15"
      ]
     },
     "execution_count": 76,
     "metadata": {},
     "output_type": "execute_result"
    }
   ],
   "source": [
    "merged_df2.head()"
   ]
  },
  {
   "cell_type": "code",
   "execution_count": 77,
   "metadata": {},
   "outputs": [
    {
     "data": {
      "text/plain": [
       "51"
      ]
     },
     "execution_count": 77,
     "metadata": {},
     "output_type": "execute_result"
    }
   ],
   "source": [
    "#All 51 states are retained in the merge\n",
    "len(merged_df2)"
   ]
  },
  {
   "cell_type": "code",
   "execution_count": 78,
   "metadata": {},
   "outputs": [],
   "source": [
    "#Rename state to State\n",
    "merged_df2 = merged_df2.rename(columns = {\"state\":\"State\"})"
   ]
  },
  {
   "cell_type": "code",
   "execution_count": 79,
   "metadata": {},
   "outputs": [
    {
     "data": {
      "text/html": [
       "<div>\n",
       "<style scoped>\n",
       "    .dataframe tbody tr th:only-of-type {\n",
       "        vertical-align: middle;\n",
       "    }\n",
       "\n",
       "    .dataframe tbody tr th {\n",
       "        vertical-align: top;\n",
       "    }\n",
       "\n",
       "    .dataframe thead th {\n",
       "        text-align: right;\n",
       "    }\n",
       "</style>\n",
       "<table border=\"1\" class=\"dataframe\">\n",
       "  <thead>\n",
       "    <tr style=\"text-align: right;\">\n",
       "      <th></th>\n",
       "      <th>State</th>\n",
       "      <th>mean_physical_activity</th>\n",
       "      <th>mean_obesity</th>\n",
       "    </tr>\n",
       "  </thead>\n",
       "  <tbody>\n",
       "    <tr>\n",
       "      <td>0</td>\n",
       "      <td>alabama</td>\n",
       "      <td>45.75</td>\n",
       "      <td>39.75</td>\n",
       "    </tr>\n",
       "    <tr>\n",
       "      <td>1</td>\n",
       "      <td>alaska</td>\n",
       "      <td>58.70</td>\n",
       "      <td>35.70</td>\n",
       "    </tr>\n",
       "    <tr>\n",
       "      <td>2</td>\n",
       "      <td>arizona</td>\n",
       "      <td>58.20</td>\n",
       "      <td>33.10</td>\n",
       "    </tr>\n",
       "    <tr>\n",
       "      <td>3</td>\n",
       "      <td>arkansas</td>\n",
       "      <td>48.25</td>\n",
       "      <td>38.25</td>\n",
       "    </tr>\n",
       "    <tr>\n",
       "      <td>4</td>\n",
       "      <td>california</td>\n",
       "      <td>60.25</td>\n",
       "      <td>31.15</td>\n",
       "    </tr>\n",
       "  </tbody>\n",
       "</table>\n",
       "</div>"
      ],
      "text/plain": [
       "        State  mean_physical_activity  mean_obesity\n",
       "0     alabama                   45.75         39.75\n",
       "1      alaska                   58.70         35.70\n",
       "2     arizona                   58.20         33.10\n",
       "3    arkansas                   48.25         38.25\n",
       "4  california                   60.25         31.15"
      ]
     },
     "execution_count": 79,
     "metadata": {},
     "output_type": "execute_result"
    }
   ],
   "source": [
    "merged_df2.head()"
   ]
  },
  {
   "cell_type": "code",
   "execution_count": 80,
   "metadata": {},
   "outputs": [],
   "source": [
    "#Merge the two merged dataframes into single dataframe\n",
    "merged_df = pd.merge(merged_df1,merged_df2,on=\"State\")"
   ]
  },
  {
   "cell_type": "code",
   "execution_count": 81,
   "metadata": {},
   "outputs": [
    {
     "data": {
      "text/html": [
       "<div>\n",
       "<style scoped>\n",
       "    .dataframe tbody tr th:only-of-type {\n",
       "        vertical-align: middle;\n",
       "    }\n",
       "\n",
       "    .dataframe tbody tr th {\n",
       "        vertical-align: top;\n",
       "    }\n",
       "\n",
       "    .dataframe thead th {\n",
       "        text-align: right;\n",
       "    }\n",
       "</style>\n",
       "<table border=\"1\" class=\"dataframe\">\n",
       "  <thead>\n",
       "    <tr style=\"text-align: right;\">\n",
       "      <th></th>\n",
       "      <th>State</th>\n",
       "      <th>diabetes_prevalence</th>\n",
       "      <th>alcohol_prevalence</th>\n",
       "      <th>mean_physical_activity</th>\n",
       "      <th>mean_obesity</th>\n",
       "    </tr>\n",
       "  </thead>\n",
       "  <tbody>\n",
       "    <tr>\n",
       "      <td>0</td>\n",
       "      <td>alabama</td>\n",
       "      <td>16.19</td>\n",
       "      <td>43.6</td>\n",
       "      <td>45.75</td>\n",
       "      <td>39.75</td>\n",
       "    </tr>\n",
       "    <tr>\n",
       "      <td>1</td>\n",
       "      <td>alaska</td>\n",
       "      <td>11.89</td>\n",
       "      <td>59.5</td>\n",
       "      <td>58.70</td>\n",
       "      <td>35.70</td>\n",
       "    </tr>\n",
       "    <tr>\n",
       "      <td>2</td>\n",
       "      <td>arizona</td>\n",
       "      <td>13.72</td>\n",
       "      <td>55.8</td>\n",
       "      <td>58.20</td>\n",
       "      <td>33.10</td>\n",
       "    </tr>\n",
       "    <tr>\n",
       "      <td>3</td>\n",
       "      <td>arkansas</td>\n",
       "      <td>15.23</td>\n",
       "      <td>43.7</td>\n",
       "      <td>48.25</td>\n",
       "      <td>38.25</td>\n",
       "    </tr>\n",
       "    <tr>\n",
       "      <td>4</td>\n",
       "      <td>california</td>\n",
       "      <td>14.51</td>\n",
       "      <td>56.5</td>\n",
       "      <td>60.25</td>\n",
       "      <td>31.15</td>\n",
       "    </tr>\n",
       "  </tbody>\n",
       "</table>\n",
       "</div>"
      ],
      "text/plain": [
       "        State  diabetes_prevalence  alcohol_prevalence  \\\n",
       "0     alabama                16.19                43.6   \n",
       "1      alaska                11.89                59.5   \n",
       "2     arizona                13.72                55.8   \n",
       "3    arkansas                15.23                43.7   \n",
       "4  california                14.51                56.5   \n",
       "\n",
       "   mean_physical_activity  mean_obesity  \n",
       "0                   45.75         39.75  \n",
       "1                   58.70         35.70  \n",
       "2                   58.20         33.10  \n",
       "3                   48.25         38.25  \n",
       "4                   60.25         31.15  "
      ]
     },
     "execution_count": 81,
     "metadata": {},
     "output_type": "execute_result"
    }
   ],
   "source": [
    "merged_df.head()"
   ]
  },
  {
   "cell_type": "code",
   "execution_count": 82,
   "metadata": {},
   "outputs": [
    {
     "data": {
      "text/plain": [
       "51"
      ]
     },
     "execution_count": 82,
     "metadata": {},
     "output_type": "execute_result"
    }
   ],
   "source": [
    "#All states present in the merge\n",
    "len(merged_df)\n"
   ]
  },
  {
   "cell_type": "code",
   "execution_count": 83,
   "metadata": {},
   "outputs": [
    {
     "data": {
      "text/plain": [
       "False"
      ]
     },
     "execution_count": 83,
     "metadata": {},
     "output_type": "execute_result"
    }
   ],
   "source": [
    "#No null values in our merged dataframe\n",
    "merged_df.isnull().values.any()"
   ]
  },
  {
   "cell_type": "code",
   "execution_count": 84,
   "metadata": {},
   "outputs": [
    {
     "data": {
      "text/html": [
       "<div>\n",
       "<style scoped>\n",
       "    .dataframe tbody tr th:only-of-type {\n",
       "        vertical-align: middle;\n",
       "    }\n",
       "\n",
       "    .dataframe tbody tr th {\n",
       "        vertical-align: top;\n",
       "    }\n",
       "\n",
       "    .dataframe thead th {\n",
       "        text-align: right;\n",
       "    }\n",
       "</style>\n",
       "<table border=\"1\" class=\"dataframe\">\n",
       "  <thead>\n",
       "    <tr style=\"text-align: right;\">\n",
       "      <th></th>\n",
       "      <th>diabetes_prevalence</th>\n",
       "      <th>alcohol_prevalence</th>\n",
       "      <th>mean_physical_activity</th>\n",
       "      <th>mean_obesity</th>\n",
       "    </tr>\n",
       "  </thead>\n",
       "  <tbody>\n",
       "    <tr>\n",
       "      <td>diabetes_prevalence</td>\n",
       "      <td>1.000000</td>\n",
       "      <td>-0.604388</td>\n",
       "      <td>-0.749479</td>\n",
       "      <td>0.658064</td>\n",
       "    </tr>\n",
       "    <tr>\n",
       "      <td>alcohol_prevalence</td>\n",
       "      <td>-0.604388</td>\n",
       "      <td>1.000000</td>\n",
       "      <td>0.575229</td>\n",
       "      <td>-0.500110</td>\n",
       "    </tr>\n",
       "    <tr>\n",
       "      <td>mean_physical_activity</td>\n",
       "      <td>-0.749479</td>\n",
       "      <td>0.575229</td>\n",
       "      <td>1.000000</td>\n",
       "      <td>-0.837010</td>\n",
       "    </tr>\n",
       "    <tr>\n",
       "      <td>mean_obesity</td>\n",
       "      <td>0.658064</td>\n",
       "      <td>-0.500110</td>\n",
       "      <td>-0.837010</td>\n",
       "      <td>1.000000</td>\n",
       "    </tr>\n",
       "  </tbody>\n",
       "</table>\n",
       "</div>"
      ],
      "text/plain": [
       "                        diabetes_prevalence  alcohol_prevalence  \\\n",
       "diabetes_prevalence                1.000000           -0.604388   \n",
       "alcohol_prevalence                -0.604388            1.000000   \n",
       "mean_physical_activity            -0.749479            0.575229   \n",
       "mean_obesity                       0.658064           -0.500110   \n",
       "\n",
       "                        mean_physical_activity  mean_obesity  \n",
       "diabetes_prevalence                  -0.749479      0.658064  \n",
       "alcohol_prevalence                    0.575229     -0.500110  \n",
       "mean_physical_activity                1.000000     -0.837010  \n",
       "mean_obesity                         -0.837010      1.000000  "
      ]
     },
     "execution_count": 84,
     "metadata": {},
     "output_type": "execute_result"
    }
   ],
   "source": [
    "#Correlation between features\n",
    "merged_df.corr()"
   ]
  },
  {
   "cell_type": "markdown",
   "metadata": {},
   "source": [
    "As should be the case, diabetes risk increases with high alcohol prevalence, lower physical activity and higher obesity. The correlation numbers suggest this.\n",
    "Obesity and physical activity are highly negatively correlated as physical activity should lower obesity. Alcohol prevalence has a negative correlation with obesity and a positive correlation with physical activity with the correlation values not very high in magnitude. The high correlation between physical activity and obesity might be responsible for this effect. Although the correlation values for alcohol are not high enough for us to suggest some statistical significance."
   ]
  },
  {
   "cell_type": "markdown",
   "metadata": {},
   "source": [
    "We now build scatter plots for every pair of features to better understand these relationships."
   ]
  },
  {
   "cell_type": "code",
   "execution_count": 85,
   "metadata": {},
   "outputs": [
    {
     "data": {
      "image/png": "[encoded data removed]",
      "text/plain": [
       "<Figure size 432x288 with 1 Axes>"
      ]
     },
     "metadata": {
      "needs_background": "light"
     },
     "output_type": "display_data"
    },
    {
     "data": {
      "image/png": "[encoded data removed]",
      "text/plain": [
       "<Figure size 432x288 with 1 Axes>"
      ]
     },
     "metadata": {
      "needs_background": "light"
     },
     "output_type": "display_data"
    },
    {
     "data": {
      "image/png": "[encoded data removed]",
      "text/plain": [
       "<Figure size 432x288 with 1 Axes>"
      ]
     },
     "metadata": {
      "needs_background": "light"
     },
     "output_type": "display_data"
    },
    {
     "data": {
      "image/png": "[encoded data removed]",
      "text/plain": [
       "<Figure size 432x288 with 1 Axes>"
      ]
     },
     "metadata": {
      "needs_background": "light"
     },
     "output_type": "display_data"
    },
    {
     "data": {
      "image/png": "[encoded data removed]",
      "text/plain": [
       "<Figure size 432x288 with 1 Axes>"
      ]
     },
     "metadata": {
      "needs_background": "light"
     },
     "output_type": "display_data"
    },
    {
     "data": {
      "image/png": "[encoded data removed]",
      "text/plain": [
       "<Figure size 432x288 with 1 Axes>"
      ]
     },
     "metadata": {
      "needs_background": "light"
     },
     "output_type": "display_data"
    }
   ],
   "source": [
    "from itertools import combinations\n",
    "#get list of column names\n",
    "col_list = merged_df.columns.tolist()\n",
    "#remove the state column name\n",
    "col_list.remove(\"State\")\n",
    "#find all unique combinations of features \n",
    "for i,j in combinations(col_list,2):\n",
    "    merged_df.plot.scatter(x = i,y=j)"
   ]
  },
  {
   "cell_type": "markdown",
   "metadata": {},
   "source": [
    "As can be seen from the scatter plot, all pairs of features appear to have the same relationships as indicated by the correlation. The curious case of alcohol prevalence can also be explained. It appears to have a somewhat linear trend with physical activity and obesity but the overall correlation is poor because of outliers. The state of Utah which has the lowest alcohol prevalence lies in the middle of the distribution for the other parameters so it distorts the statistics. Even obesity and diabetes pair has a number of outliers which distort their correlation values."
   ]
  },
  {
   "cell_type": "code",
   "execution_count": 86,
   "metadata": {},
   "outputs": [],
   "source": [
    "#Save dataframe as pickle\n",
    "merged_df.to_pickle(\"Pickles/hv_data.pickle\")"
   ]
  }
 ],
 "metadata": {
  "kernelspec": {
   "display_name": "Python [conda env:ada] *",
   "language": "python",
   "name": "conda-env-ada-py"
  },
  "language_info": {
   "codemirror_mode": {
    "name": "ipython",
    "version": 3
   },
   "file_extension": ".py",
   "mimetype": "text/x-python",
   "name": "python",
   "nbconvert_exporter": "python",
   "pygments_lexer": "ipython3",
   "version": "3.7.3"
  }
 },
 "nbformat": 4,
 "nbformat_minor": 4
}
