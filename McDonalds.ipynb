{
 "cells": [
  {
   "cell_type": "markdown",
   "metadata": {},
   "source": [
    "# McDonalds and other metrics\n",
    "In this section we are going to scrape and analyze the data coming from the website https://eu.usatoday.com/story/money/business/2018/09/13/mcdonalds-states-most-stores/37748287/.\n",
    "\n",
    "It is an article of the journal USA Today (one of the three more read journals in the US, with The Wall Street Journal and The New York Times [1]).\n",
    "\n",
    "It shows some important statistics like the adult obesity rate, the percentage of people consuming vegetables less than daily, the median income and the number of McDonalds per capita. The article explains how difficult is it to find a correlation among the number of fast food per capita, and the unhealthy lifestyle (obesity rate), but still, for our purpose it may turn out to be an important factor along the other more important statistics, so at the moment we may want to keep this information and decide later to discard it.\n",
    "\n",
    "The choice to use the chain McDonalds to estimate the HDI is not new [2]: it was shown how countries where the price of a Big Mac tend to be higher usually are the ones with the higher standard of quality.\n",
    "\n",
    "We may therefore try to assume that the places with the least number of McDonalds tend to be the ones in which people live better. But it has to be said that this assumption is totally unfounded, and needs to be further verified."
   ]
  },
  {
   "cell_type": "code",
   "execution_count": 46,
   "metadata": {},
   "outputs": [],
   "source": [
    "from requests import get\n",
    "import pandas as pd\n",
    "import numpy as np\n",
    "from matplotlib.ticker import MaxNLocator\n",
    "import matplotlib.pyplot as plt\n",
    "import re\n",
    "from bs4 import BeautifulSoup"
   ]
  },
  {
   "cell_type": "code",
   "execution_count": 47,
   "metadata": {},
   "outputs": [
    {
     "data": {
      "text/html": [
       "<div>\n",
       "<style scoped>\n",
       "    .dataframe tbody tr th:only-of-type {\n",
       "        vertical-align: middle;\n",
       "    }\n",
       "\n",
       "    .dataframe tbody tr th {\n",
       "        vertical-align: top;\n",
       "    }\n",
       "\n",
       "    .dataframe thead th {\n",
       "        text-align: right;\n",
       "    }\n",
       "</style>\n",
       "<table border=\"1\" class=\"dataframe\">\n",
       "  <thead>\n",
       "    <tr style=\"text-align: right;\">\n",
       "      <th></th>\n",
       "      <th>State</th>\n",
       "    </tr>\n",
       "  </thead>\n",
       "  <tbody>\n",
       "    <tr>\n",
       "      <td>0</td>\n",
       "      <td>Alabama</td>\n",
       "    </tr>\n",
       "    <tr>\n",
       "      <td>1</td>\n",
       "      <td>Alaska</td>\n",
       "    </tr>\n",
       "    <tr>\n",
       "      <td>2</td>\n",
       "      <td>Arizona</td>\n",
       "    </tr>\n",
       "    <tr>\n",
       "      <td>3</td>\n",
       "      <td>Arkansas</td>\n",
       "    </tr>\n",
       "    <tr>\n",
       "      <td>4</td>\n",
       "      <td>California</td>\n",
       "    </tr>\n",
       "  </tbody>\n",
       "</table>\n",
       "</div>"
      ],
      "text/plain": [
       "        State\n",
       "0     Alabama\n",
       "1      Alaska\n",
       "2     Arizona\n",
       "3    Arkansas\n",
       "4  California"
      ]
     },
     "execution_count": 47,
     "metadata": {},
     "output_type": "execute_result"
    }
   ],
   "source": [
    "# We start by getting the list of states in the United States\n",
    "states_json = pd.read_json('Data/states.json')\n",
    "states = []\n",
    "\n",
    "for row in states_json['data']:\n",
    "    states.append(row['State'])\n",
    "    \n",
    "states_df = pd.DataFrame({\"State\": states})\n",
    "states_df.head()"
   ]
  },
  {
   "cell_type": "markdown",
   "metadata": {},
   "source": [
    "# Scraping of data\n",
    "We start our analysis by scraping the results from Usa Today's website.\n",
    "We notice that the page shows a certain regularity, with the name of each coutry listed in a `<h3>` tag, followed by the information about that country. The information is enclosed in `<strong>` brackets: \n",
    "- first information: number of McDonald's per 100k inhabitants.\n",
    "- second information: adult obesity percentage rate\n",
    "- third information: people consuming vegetables less than daily (percentage)"
   ]
  },
  {
   "cell_type": "code",
   "execution_count": 48,
   "metadata": {},
   "outputs": [],
   "source": [
    "usa_today_page = get('https://eu.usatoday.com/story/money/business/2018/09/13/mcdonalds-states-most-stores/37748287/')\n",
    "usa_today_page = BeautifulSoup(usa_today_page.text, 'html.parser')\n",
    "\n",
    "titles = usa_today_page.find_all('h3', class_='presto-h3')\n",
    "\n",
    "stats = []\n",
    "for title in titles:\n",
    "    \n",
    "    if type(title) != 'NoneType' and re.findall(\"\\d+\\. [A-Z]\", title.text):\n",
    "        state = title.text\n",
    "        # state is in format: number. name of state\n",
    "        state = \" \".join(state.split(\" \")[1:])\n",
    "        p = title.find_next_sibling('p')\n",
    "        # This while is used to skip random content found between \n",
    "        # the title <h3> ad the content <p>, like ad and so on.\n",
    "        while(not p.text):\n",
    "            p = p.find_next_sibling('p')\n",
    "        \n",
    "        points = p.text.split(\"•\")\n",
    "        \n",
    "        try:\n",
    "            mc_donalds_per_100k_inhabitants = re.findall(\"\\d+.\\d+\", points[1])[0]\n",
    "            adult_obesity_rate = re.findall(\"\\d+.\\d+\", points[2])[0]\n",
    "            vegetables = re.findall(\"\\d+.\\d+\", points[3])[0]\n",
    "            median_income = re.findall(\"\\$\\d+,\\d+\", points[4])[0]\n",
    "            stat = {\n",
    "                \"State\": state,\n",
    "                \"mc_donalds_per_100k\": mc_donalds_per_100k_inhabitants,\n",
    "                \"adult_obesity_rate\": adult_obesity_rate,\n",
    "                \"eating_vegetables_daily\": vegetables,\n",
    "                \"median_income\": median_income\n",
    "            }\n",
    "\n",
    "            stats.append(stat)\n",
    "        except:\n",
    "            # There are some emtpy/bad formatted lines in the page, just skip them\n",
    "            pass        "
   ]
  },
  {
   "cell_type": "code",
   "execution_count": 49,
   "metadata": {},
   "outputs": [
    {
     "name": "stdout",
     "output_type": "stream",
     "text": [
      "State                      object\n",
      "mc_donalds_per_100k        object\n",
      "adult_obesity_rate         object\n",
      "eating_vegetables_daily    object\n",
      "median_income              object\n",
      "dtype: object\n"
     ]
    },
    {
     "data": {
      "text/html": [
       "<div>\n",
       "<style scoped>\n",
       "    .dataframe tbody tr th:only-of-type {\n",
       "        vertical-align: middle;\n",
       "    }\n",
       "\n",
       "    .dataframe tbody tr th {\n",
       "        vertical-align: top;\n",
       "    }\n",
       "\n",
       "    .dataframe thead th {\n",
       "        text-align: right;\n",
       "    }\n",
       "</style>\n",
       "<table border=\"1\" class=\"dataframe\">\n",
       "  <thead>\n",
       "    <tr style=\"text-align: right;\">\n",
       "      <th></th>\n",
       "      <th>State</th>\n",
       "      <th>mc_donalds_per_100k</th>\n",
       "      <th>adult_obesity_rate</th>\n",
       "      <th>eating_vegetables_daily</th>\n",
       "      <th>median_income</th>\n",
       "    </tr>\n",
       "  </thead>\n",
       "  <tbody>\n",
       "    <tr>\n",
       "      <td>0</td>\n",
       "      <td>Rhode Island</td>\n",
       "      <td>2.9</td>\n",
       "      <td>27.2</td>\n",
       "      <td>23.5</td>\n",
       "      <td>$60,596</td>\n",
       "    </tr>\n",
       "    <tr>\n",
       "      <td>1</td>\n",
       "      <td>New Jersey</td>\n",
       "      <td>3.0</td>\n",
       "      <td>25.9</td>\n",
       "      <td>22.1</td>\n",
       "      <td>$76,126</td>\n",
       "    </tr>\n",
       "    <tr>\n",
       "      <td>2</td>\n",
       "      <td>New York</td>\n",
       "      <td>3.1</td>\n",
       "      <td>25.0</td>\n",
       "      <td>22.4</td>\n",
       "      <td>$62,909</td>\n",
       "    </tr>\n",
       "    <tr>\n",
       "      <td>3</td>\n",
       "      <td>California</td>\n",
       "      <td>3.3</td>\n",
       "      <td>22.7</td>\n",
       "      <td>18.6</td>\n",
       "      <td>$67,739</td>\n",
       "    </tr>\n",
       "    <tr>\n",
       "      <td>4</td>\n",
       "      <td>North Dakota</td>\n",
       "      <td>3.3</td>\n",
       "      <td>31.8</td>\n",
       "      <td>27.5</td>\n",
       "      <td>$60,656</td>\n",
       "    </tr>\n",
       "  </tbody>\n",
       "</table>\n",
       "</div>"
      ],
      "text/plain": [
       "          State mc_donalds_per_100k adult_obesity_rate  \\\n",
       "0  Rhode Island                 2.9               27.2   \n",
       "1    New Jersey                 3.0               25.9   \n",
       "2      New York                 3.1               25.0   \n",
       "3    California                 3.3               22.7   \n",
       "4  North Dakota                 3.3               31.8   \n",
       "\n",
       "  eating_vegetables_daily median_income  \n",
       "0                    23.5       $60,596  \n",
       "1                    22.1       $76,126  \n",
       "2                    22.4       $62,909  \n",
       "3                    18.6       $67,739  \n",
       "4                    27.5       $60,656  "
      ]
     },
     "execution_count": 49,
     "metadata": {},
     "output_type": "execute_result"
    }
   ],
   "source": [
    "mc_donalds_df = pd.DataFrame(stats)\n",
    "print(mc_donalds_df.dtypes)\n",
    "mc_donalds_df.head()"
   ]
  },
  {
   "cell_type": "markdown",
   "metadata": {},
   "source": [
    "## Data cleaning\n",
    "We can see that all columns are listed as strings. Therefore we proceed in cleaning it."
   ]
  },
  {
   "cell_type": "code",
   "execution_count": 50,
   "metadata": {},
   "outputs": [],
   "source": [
    "mc_donalds_df.mc_donalds_per_100k = mc_donalds_df['mc_donalds_per_100k'].apply(lambda x: float(x))\n",
    "mc_donalds_df.adult_obesity_rate = mc_donalds_df['adult_obesity_rate'].apply(lambda x: float(x))\n",
    "mc_donalds_df.eating_vegetables_daily = mc_donalds_df['eating_vegetables_daily'].apply(lambda x: float(x))\n",
    "mc_donalds_df.median_income = mc_donalds_df['median_income'].apply(lambda x: float(\"\".join(x.split(\"$\")[1].split(\",\"))))"
   ]
  },
  {
   "cell_type": "code",
   "execution_count": 51,
   "metadata": {},
   "outputs": [
    {
     "name": "stdout",
     "output_type": "stream",
     "text": [
      "State                       object\n",
      "mc_donalds_per_100k        float64\n",
      "adult_obesity_rate         float64\n",
      "eating_vegetables_daily    float64\n",
      "median_income              float64\n",
      "dtype: object\n"
     ]
    },
    {
     "data": {
      "text/html": [
       "<div>\n",
       "<style scoped>\n",
       "    .dataframe tbody tr th:only-of-type {\n",
       "        vertical-align: middle;\n",
       "    }\n",
       "\n",
       "    .dataframe tbody tr th {\n",
       "        vertical-align: top;\n",
       "    }\n",
       "\n",
       "    .dataframe thead th {\n",
       "        text-align: right;\n",
       "    }\n",
       "</style>\n",
       "<table border=\"1\" class=\"dataframe\">\n",
       "  <thead>\n",
       "    <tr style=\"text-align: right;\">\n",
       "      <th></th>\n",
       "      <th>State</th>\n",
       "      <th>mc_donalds_per_100k</th>\n",
       "      <th>adult_obesity_rate</th>\n",
       "      <th>eating_vegetables_daily</th>\n",
       "      <th>median_income</th>\n",
       "    </tr>\n",
       "  </thead>\n",
       "  <tbody>\n",
       "    <tr>\n",
       "      <td>0</td>\n",
       "      <td>Rhode Island</td>\n",
       "      <td>2.9</td>\n",
       "      <td>27.2</td>\n",
       "      <td>23.5</td>\n",
       "      <td>60596.0</td>\n",
       "    </tr>\n",
       "    <tr>\n",
       "      <td>1</td>\n",
       "      <td>New Jersey</td>\n",
       "      <td>3.0</td>\n",
       "      <td>25.9</td>\n",
       "      <td>22.1</td>\n",
       "      <td>76126.0</td>\n",
       "    </tr>\n",
       "    <tr>\n",
       "      <td>2</td>\n",
       "      <td>New York</td>\n",
       "      <td>3.1</td>\n",
       "      <td>25.0</td>\n",
       "      <td>22.4</td>\n",
       "      <td>62909.0</td>\n",
       "    </tr>\n",
       "    <tr>\n",
       "      <td>3</td>\n",
       "      <td>California</td>\n",
       "      <td>3.3</td>\n",
       "      <td>22.7</td>\n",
       "      <td>18.6</td>\n",
       "      <td>67739.0</td>\n",
       "    </tr>\n",
       "    <tr>\n",
       "      <td>4</td>\n",
       "      <td>North Dakota</td>\n",
       "      <td>3.3</td>\n",
       "      <td>31.8</td>\n",
       "      <td>27.5</td>\n",
       "      <td>60656.0</td>\n",
       "    </tr>\n",
       "  </tbody>\n",
       "</table>\n",
       "</div>"
      ],
      "text/plain": [
       "          State  mc_donalds_per_100k  adult_obesity_rate  \\\n",
       "0  Rhode Island                  2.9                27.2   \n",
       "1    New Jersey                  3.0                25.9   \n",
       "2      New York                  3.1                25.0   \n",
       "3    California                  3.3                22.7   \n",
       "4  North Dakota                  3.3                31.8   \n",
       "\n",
       "   eating_vegetables_daily  median_income  \n",
       "0                     23.5        60596.0  \n",
       "1                     22.1        76126.0  \n",
       "2                     22.4        62909.0  \n",
       "3                     18.6        67739.0  \n",
       "4                     27.5        60656.0  "
      ]
     },
     "execution_count": 51,
     "metadata": {},
     "output_type": "execute_result"
    }
   ],
   "source": [
    "print(mc_donalds_df.dtypes)\n",
    "mc_donalds_df.head()"
   ]
  },
  {
   "cell_type": "markdown",
   "metadata": {},
   "source": [
    "# Analysis of completeness:\n",
    "We merge the data into the dataframe of states, and check whether there are any null values (to check if any state is not represented in out statistics)."
   ]
  },
  {
   "cell_type": "code",
   "execution_count": 52,
   "metadata": {},
   "outputs": [
    {
     "data": {
      "text/html": [
       "<div>\n",
       "<style scoped>\n",
       "    .dataframe tbody tr th:only-of-type {\n",
       "        vertical-align: middle;\n",
       "    }\n",
       "\n",
       "    .dataframe tbody tr th {\n",
       "        vertical-align: top;\n",
       "    }\n",
       "\n",
       "    .dataframe thead th {\n",
       "        text-align: right;\n",
       "    }\n",
       "</style>\n",
       "<table border=\"1\" class=\"dataframe\">\n",
       "  <thead>\n",
       "    <tr style=\"text-align: right;\">\n",
       "      <th></th>\n",
       "      <th>State</th>\n",
       "      <th>mc_donalds_per_100k</th>\n",
       "      <th>adult_obesity_rate</th>\n",
       "      <th>eating_vegetables_daily</th>\n",
       "      <th>median_income</th>\n",
       "    </tr>\n",
       "  </thead>\n",
       "  <tbody>\n",
       "    <tr>\n",
       "      <td>0</td>\n",
       "      <td>Alabama</td>\n",
       "      <td>5.0</td>\n",
       "      <td>34.7</td>\n",
       "      <td>27.8</td>\n",
       "      <td>46257.0</td>\n",
       "    </tr>\n",
       "    <tr>\n",
       "      <td>1</td>\n",
       "      <td>Alaska</td>\n",
       "      <td>4.2</td>\n",
       "      <td>29.4</td>\n",
       "      <td>18.9</td>\n",
       "      <td>76440.0</td>\n",
       "    </tr>\n",
       "    <tr>\n",
       "      <td>2</td>\n",
       "      <td>Arizona</td>\n",
       "      <td>4.1</td>\n",
       "      <td>26.7</td>\n",
       "      <td>20.5</td>\n",
       "      <td>53558.0</td>\n",
       "    </tr>\n",
       "    <tr>\n",
       "      <td>3</td>\n",
       "      <td>Arkansas</td>\n",
       "      <td>5.8</td>\n",
       "      <td>34.6</td>\n",
       "      <td>28.1</td>\n",
       "      <td>44334.0</td>\n",
       "    </tr>\n",
       "    <tr>\n",
       "      <td>4</td>\n",
       "      <td>California</td>\n",
       "      <td>3.3</td>\n",
       "      <td>22.7</td>\n",
       "      <td>18.6</td>\n",
       "      <td>67739.0</td>\n",
       "    </tr>\n",
       "  </tbody>\n",
       "</table>\n",
       "</div>"
      ],
      "text/plain": [
       "        State  mc_donalds_per_100k  adult_obesity_rate  \\\n",
       "0     Alabama                  5.0                34.7   \n",
       "1      Alaska                  4.2                29.4   \n",
       "2     Arizona                  4.1                26.7   \n",
       "3    Arkansas                  5.8                34.6   \n",
       "4  California                  3.3                22.7   \n",
       "\n",
       "   eating_vegetables_daily  median_income  \n",
       "0                     27.8        46257.0  \n",
       "1                     18.9        76440.0  \n",
       "2                     20.5        53558.0  \n",
       "3                     28.1        44334.0  \n",
       "4                     18.6        67739.0  "
      ]
     },
     "execution_count": 52,
     "metadata": {},
     "output_type": "execute_result"
    }
   ],
   "source": [
    "mc_donalds_state_df = states_df.merge(mc_donalds_df, how='left', left_on='State', right_on=\"State\")\n",
    "mc_donalds_state_df.head()"
   ]
  },
  {
   "cell_type": "code",
   "execution_count": 53,
   "metadata": {},
   "outputs": [
    {
     "data": {
      "text/html": [
       "<div>\n",
       "<style scoped>\n",
       "    .dataframe tbody tr th:only-of-type {\n",
       "        vertical-align: middle;\n",
       "    }\n",
       "\n",
       "    .dataframe tbody tr th {\n",
       "        vertical-align: top;\n",
       "    }\n",
       "\n",
       "    .dataframe thead th {\n",
       "        text-align: right;\n",
       "    }\n",
       "</style>\n",
       "<table border=\"1\" class=\"dataframe\">\n",
       "  <thead>\n",
       "    <tr style=\"text-align: right;\">\n",
       "      <th></th>\n",
       "      <th>State</th>\n",
       "      <th>mc_donalds_per_100k</th>\n",
       "      <th>adult_obesity_rate</th>\n",
       "      <th>eating_vegetables_daily</th>\n",
       "      <th>median_income</th>\n",
       "    </tr>\n",
       "  </thead>\n",
       "  <tbody>\n",
       "    <tr>\n",
       "      <td>8</td>\n",
       "      <td>District of Columbia</td>\n",
       "      <td>NaN</td>\n",
       "      <td>NaN</td>\n",
       "      <td>NaN</td>\n",
       "      <td>NaN</td>\n",
       "    </tr>\n",
       "  </tbody>\n",
       "</table>\n",
       "</div>"
      ],
      "text/plain": [
       "                  State  mc_donalds_per_100k  adult_obesity_rate  \\\n",
       "8  District of Columbia                  NaN                 NaN   \n",
       "\n",
       "   eating_vegetables_daily  median_income  \n",
       "8                      NaN            NaN  "
      ]
     },
     "execution_count": 53,
     "metadata": {},
     "output_type": "execute_result"
    }
   ],
   "source": [
    "mc_donalds_state_df[mc_donalds_state_df.isna().any(axis=1)]"
   ]
  },
  {
   "cell_type": "markdown",
   "metadata": {},
   "source": [
    "We can clearly see that the District of Columbia is not listed in the website.\n",
    "Therefore, we need to find the information somewhere else:"
   ]
  },
  {
   "cell_type": "markdown",
   "metadata": {},
   "source": [
    "### Number of McDonalds:\n",
    "According to the website https://foursquare.com/locations/mcdonalds/washington-dc, there are 84 McDonalds shop in the city of Washington DC. Among them, only 31 are actually in the District of Columbia. \n",
    "\n",
    "The population of the District of Columbia is 702,445 [3]\n",
    "\n",
    "This allows us to see that the number of McDonalds every 100k inhabitants is: \n",
    "\n",
    "31 / (702445 / 100000) = 4.4"
   ]
  },
  {
   "cell_type": "markdown",
   "metadata": {},
   "source": [
    "### Median Income\n",
    "$82,372 according to [4]"
   ]
  },
  {
   "cell_type": "markdown",
   "metadata": {},
   "source": [
    "### Adult obesity rate\n",
    "24.7% according to [5]"
   ]
  },
  {
   "cell_type": "markdown",
   "metadata": {},
   "source": [
    "### People eating vegetables daily\n",
    "In order to find this missin figure, further effort must be spent. We didn't manage, in fact, to find this figure online, therefore we had to make an estimation for it: first, we found a report made by the Centre for Disease Prevention and Control [6] which lists the median intake frequency of vegetables in all US states. \n",
    "If we can show that this data is highly correlated with the figure we are looking for, we can estimate the missing value using the values of the new table."
   ]
  },
  {
   "cell_type": "code",
   "execution_count": 54,
   "metadata": {},
   "outputs": [
    {
     "name": "stdout",
     "output_type": "stream",
     "text": [
      "Jurisdiction     object\n",
      "Vegetable       float64\n",
      "dtype: object\n"
     ]
    },
    {
     "data": {
      "text/html": [
       "<div>\n",
       "<style scoped>\n",
       "    .dataframe tbody tr th:only-of-type {\n",
       "        vertical-align: middle;\n",
       "    }\n",
       "\n",
       "    .dataframe tbody tr th {\n",
       "        vertical-align: top;\n",
       "    }\n",
       "\n",
       "    .dataframe thead th {\n",
       "        text-align: right;\n",
       "    }\n",
       "</style>\n",
       "<table border=\"1\" class=\"dataframe\">\n",
       "  <thead>\n",
       "    <tr style=\"text-align: right;\">\n",
       "      <th></th>\n",
       "      <th>Jurisdiction</th>\n",
       "      <th>Vegetable</th>\n",
       "    </tr>\n",
       "  </thead>\n",
       "  <tbody>\n",
       "    <tr>\n",
       "      <td>1</td>\n",
       "      <td>Alabama</td>\n",
       "      <td>1.5</td>\n",
       "    </tr>\n",
       "    <tr>\n",
       "      <td>2</td>\n",
       "      <td>Alaska</td>\n",
       "      <td>1.8</td>\n",
       "    </tr>\n",
       "    <tr>\n",
       "      <td>3</td>\n",
       "      <td>Arizona</td>\n",
       "      <td>1.7</td>\n",
       "    </tr>\n",
       "    <tr>\n",
       "      <td>4</td>\n",
       "      <td>Arkansas</td>\n",
       "      <td>1.5</td>\n",
       "    </tr>\n",
       "    <tr>\n",
       "      <td>5</td>\n",
       "      <td>California</td>\n",
       "      <td>1.8</td>\n",
       "    </tr>\n",
       "  </tbody>\n",
       "</table>\n",
       "</div>"
      ],
      "text/plain": [
       "  Jurisdiction  Vegetable\n",
       "1      Alabama        1.5\n",
       "2       Alaska        1.8\n",
       "3      Arizona        1.7\n",
       "4     Arkansas        1.5\n",
       "5   California        1.8"
      ]
     },
     "execution_count": 54,
     "metadata": {},
     "output_type": "execute_result"
    }
   ],
   "source": [
    "cdc_page = get('https://www.cdc.gov/mmwr/volumes/66/wr/mm6645a1.htm?s_cid=mm6645a1_w&utm_source=STAT+Newsletters&utm_campaign=f26644060f-MR&utm_medium=email&utm_term=0_8cab1d7961-f26644060f-150444909')\n",
    "cdc_page = BeautifulSoup(cdc_page.text, 'html.parser')\n",
    "\n",
    "table = cdc_page.find_all('table')[0] \n",
    "table_scraped = pd.read_html(str(table))\n",
    "\n",
    "table_df = table_scraped[0][1:]   # Skip the first row which is garbage\n",
    "\n",
    "#table_df['Median daily intake frequency']['Vegetable']\n",
    "states = table_df['Jurisdiction']\n",
    "vegetables = table_df['Median daily intake frequency']['Vegetable']\n",
    "\n",
    "states_vegetables = states.merge(vegetables, left_index=True, right_index=True)\n",
    "\n",
    "print(states_vegetables.dtypes)\n",
    "states_vegetables.head()"
   ]
  },
  {
   "cell_type": "markdown",
   "metadata": {},
   "source": [
    "We can now merge the new table into the old table, and see the correlation ratio. "
   ]
  },
  {
   "cell_type": "code",
   "execution_count": 55,
   "metadata": {},
   "outputs": [
    {
     "data": {
      "text/html": [
       "<div>\n",
       "<style scoped>\n",
       "    .dataframe tbody tr th:only-of-type {\n",
       "        vertical-align: middle;\n",
       "    }\n",
       "\n",
       "    .dataframe tbody tr th {\n",
       "        vertical-align: top;\n",
       "    }\n",
       "\n",
       "    .dataframe thead th {\n",
       "        text-align: right;\n",
       "    }\n",
       "</style>\n",
       "<table border=\"1\" class=\"dataframe\">\n",
       "  <thead>\n",
       "    <tr style=\"text-align: right;\">\n",
       "      <th></th>\n",
       "      <th>State</th>\n",
       "      <th>mc_donalds_per_100k</th>\n",
       "      <th>adult_obesity_rate</th>\n",
       "      <th>eating_vegetables_daily</th>\n",
       "      <th>median_income</th>\n",
       "      <th>Vegetable</th>\n",
       "    </tr>\n",
       "  </thead>\n",
       "  <tbody>\n",
       "    <tr>\n",
       "      <td>0</td>\n",
       "      <td>Alabama</td>\n",
       "      <td>5.0</td>\n",
       "      <td>34.7</td>\n",
       "      <td>27.8</td>\n",
       "      <td>46257.0</td>\n",
       "      <td>1.5</td>\n",
       "    </tr>\n",
       "    <tr>\n",
       "      <td>1</td>\n",
       "      <td>Alaska</td>\n",
       "      <td>4.2</td>\n",
       "      <td>29.4</td>\n",
       "      <td>18.9</td>\n",
       "      <td>76440.0</td>\n",
       "      <td>1.8</td>\n",
       "    </tr>\n",
       "    <tr>\n",
       "      <td>2</td>\n",
       "      <td>Arizona</td>\n",
       "      <td>4.1</td>\n",
       "      <td>26.7</td>\n",
       "      <td>20.5</td>\n",
       "      <td>53558.0</td>\n",
       "      <td>1.7</td>\n",
       "    </tr>\n",
       "    <tr>\n",
       "      <td>3</td>\n",
       "      <td>Arkansas</td>\n",
       "      <td>5.8</td>\n",
       "      <td>34.6</td>\n",
       "      <td>28.1</td>\n",
       "      <td>44334.0</td>\n",
       "      <td>1.5</td>\n",
       "    </tr>\n",
       "    <tr>\n",
       "      <td>4</td>\n",
       "      <td>California</td>\n",
       "      <td>3.3</td>\n",
       "      <td>22.7</td>\n",
       "      <td>18.6</td>\n",
       "      <td>67739.0</td>\n",
       "      <td>1.8</td>\n",
       "    </tr>\n",
       "  </tbody>\n",
       "</table>\n",
       "</div>"
      ],
      "text/plain": [
       "        State  mc_donalds_per_100k  adult_obesity_rate  \\\n",
       "0     Alabama                  5.0                34.7   \n",
       "1      Alaska                  4.2                29.4   \n",
       "2     Arizona                  4.1                26.7   \n",
       "3    Arkansas                  5.8                34.6   \n",
       "4  California                  3.3                22.7   \n",
       "\n",
       "   eating_vegetables_daily  median_income  Vegetable  \n",
       "0                     27.8        46257.0        1.5  \n",
       "1                     18.9        76440.0        1.8  \n",
       "2                     20.5        53558.0        1.7  \n",
       "3                     28.1        44334.0        1.5  \n",
       "4                     18.6        67739.0        1.8  "
      ]
     },
     "execution_count": 55,
     "metadata": {},
     "output_type": "execute_result"
    }
   ],
   "source": [
    "mc_donalds_state_vegetable_df = mc_donalds_state_df.merge(states_vegetables, right_on='Jurisdiction', left_on='State').drop('Jurisdiction', axis=1)\n",
    "mc_donalds_state_vegetable_df.head()"
   ]
  },
  {
   "cell_type": "code",
   "execution_count": 56,
   "metadata": {},
   "outputs": [
    {
     "name": "stdout",
     "output_type": "stream",
     "text": [
      "The correlation among the two vegetable indicators is -0.9470000686362137\n"
     ]
    }
   ],
   "source": [
    "corr = mc_donalds_state_vegetable_df.eating_vegetables_daily.corr(mc_donalds_state_vegetable_df.Vegetable)\n",
    "print(\"The correlation among the two vegetable indicators is {}\".format(corr))"
   ]
  },
  {
   "cell_type": "markdown",
   "metadata": {},
   "source": [
    "We can clearly see that the correlation (negative) is very high. We plot the scatterplot for further safety:"
   ]
  },
  {
   "cell_type": "code",
   "execution_count": 57,
   "metadata": {},
   "outputs": [
    {
     "data": {
      "text/plain": [
       "Text(0.5, 0, 'Percentage of people not eating vegetables daily')"
      ]
     },
     "execution_count": 57,
     "metadata": {},
     "output_type": "execute_result"
    },
    {
     "data": {
      "image/png": "[encoded data removed]",
      "text/plain": [
       "<Figure size 432x288 with 1 Axes>"
      ]
     },
     "metadata": {
      "needs_background": "light"
     },
     "output_type": "display_data"
    }
   ],
   "source": [
    "plt.scatter(mc_donalds_state_vegetable_df.eating_vegetables_daily, mc_donalds_state_vegetable_df.Vegetable)\n",
    "plt.ylabel(\"Vegetable intake daily\")\n",
    "plt.xlabel(\"Percentage of people not eating vegetables daily\")"
   ]
  },
  {
   "cell_type": "code",
   "execution_count": 58,
   "metadata": {},
   "outputs": [
    {
     "name": "stdout",
     "output_type": "stream",
     "text": [
      "The value of Vegetable median intake frequency for District of Columbia is: 1.9\n",
      "the other similar countries are: \n"
     ]
    },
    {
     "data": {
      "text/html": [
       "<div>\n",
       "<style scoped>\n",
       "    .dataframe tbody tr th:only-of-type {\n",
       "        vertical-align: middle;\n",
       "    }\n",
       "\n",
       "    .dataframe tbody tr th {\n",
       "        vertical-align: top;\n",
       "    }\n",
       "\n",
       "    .dataframe thead th {\n",
       "        text-align: right;\n",
       "    }\n",
       "</style>\n",
       "<table border=\"1\" class=\"dataframe\">\n",
       "  <thead>\n",
       "    <tr style=\"text-align: right;\">\n",
       "      <th></th>\n",
       "      <th>State</th>\n",
       "      <th>Vegetable</th>\n",
       "    </tr>\n",
       "  </thead>\n",
       "  <tbody>\n",
       "    <tr>\n",
       "      <td>8</td>\n",
       "      <td>District of Columbia</td>\n",
       "      <td>1.9</td>\n",
       "    </tr>\n",
       "    <tr>\n",
       "      <td>37</td>\n",
       "      <td>Oregon</td>\n",
       "      <td>1.9</td>\n",
       "    </tr>\n",
       "  </tbody>\n",
       "</table>\n",
       "</div>"
      ],
      "text/plain": [
       "                   State  Vegetable\n",
       "8   District of Columbia        1.9\n",
       "37                Oregon        1.9"
      ]
     },
     "execution_count": 58,
     "metadata": {},
     "output_type": "execute_result"
    }
   ],
   "source": [
    "dc_vegetable = mc_donalds_state_vegetable_df.loc[mc_donalds_state_vegetable_df.State == 'District of Columbia', 'Vegetable']\n",
    "\n",
    "dc_vegetable = next(iter(dc_vegetable), \"No DC Found\")\n",
    "\n",
    "print(\"The value of Vegetable median intake frequency for District of Columbia is: {}\".format(dc_vegetable))\n",
    "\n",
    "print(\"the other similar countries are: \")\n",
    "mc_donalds_state_vegetable_df.loc[mc_donalds_state_vegetable_df.Vegetable == dc_vegetable, ['State', 'Vegetable']]"
   ]
  },
  {
   "cell_type": "markdown",
   "metadata": {},
   "source": [
    "Therefore, we can conclude that the missing value for the average of people not eating vegetable daily in the District of Columbia should be very small: it may be assumed to be similar to the one of Oregon (actually they top together the standing)."
   ]
  },
  {
   "cell_type": "code",
   "execution_count": 59,
   "metadata": {},
   "outputs": [],
   "source": [
    "eating_veg_daily_oregon = next(iter(mc_donalds_state_vegetable_df.loc[mc_donalds_state_vegetable_df.State == 'Oregon', 'eating_vegetables_daily']))\n",
    "new_df = pd.DataFrame([{\n",
    "    'State': 'District of Columbia',\n",
    "    'mc_donalds_per_100k': 4.4,\n",
    "    'adult_obesity_rate': 24.7,\n",
    "    'eating_vegetables_daily': eating_veg_daily_oregon,\n",
    "    'median_income': 82372,\n",
    "    'Vegetable': dc_vegetable\n",
    "}])\n",
    "\n",
    "df_no_dc = mc_donalds_state_vegetable_df[mc_donalds_state_vegetable_df.State != \"District of Columbia\"]\n",
    "df = pd.concat([df_no_dc, new_df], axis = 0)"
   ]
  },
  {
   "cell_type": "markdown",
   "metadata": {},
   "source": [
    "We can further verify that our substitution was successful:"
   ]
  },
  {
   "cell_type": "code",
   "execution_count": 60,
   "metadata": {},
   "outputs": [
    {
     "data": {
      "text/html": [
       "<div>\n",
       "<style scoped>\n",
       "    .dataframe tbody tr th:only-of-type {\n",
       "        vertical-align: middle;\n",
       "    }\n",
       "\n",
       "    .dataframe tbody tr th {\n",
       "        vertical-align: top;\n",
       "    }\n",
       "\n",
       "    .dataframe thead th {\n",
       "        text-align: right;\n",
       "    }\n",
       "</style>\n",
       "<table border=\"1\" class=\"dataframe\">\n",
       "  <thead>\n",
       "    <tr style=\"text-align: right;\">\n",
       "      <th></th>\n",
       "      <th>State</th>\n",
       "      <th>mc_donalds_per_100k</th>\n",
       "      <th>adult_obesity_rate</th>\n",
       "      <th>eating_vegetables_daily</th>\n",
       "      <th>median_income</th>\n",
       "      <th>Vegetable</th>\n",
       "    </tr>\n",
       "  </thead>\n",
       "  <tbody>\n",
       "  </tbody>\n",
       "</table>\n",
       "</div>"
      ],
      "text/plain": [
       "Empty DataFrame\n",
       "Columns: [State, mc_donalds_per_100k, adult_obesity_rate, eating_vegetables_daily, median_income, Vegetable]\n",
       "Index: []"
      ]
     },
     "execution_count": 60,
     "metadata": {},
     "output_type": "execute_result"
    }
   ],
   "source": [
    "df[df.isna().any(axis=1)]"
   ]
  },
  {
   "cell_type": "code",
   "execution_count": 61,
   "metadata": {},
   "outputs": [
    {
     "data": {
      "text/html": [
       "<div>\n",
       "<style scoped>\n",
       "    .dataframe tbody tr th:only-of-type {\n",
       "        vertical-align: middle;\n",
       "    }\n",
       "\n",
       "    .dataframe tbody tr th {\n",
       "        vertical-align: top;\n",
       "    }\n",
       "\n",
       "    .dataframe thead th {\n",
       "        text-align: right;\n",
       "    }\n",
       "</style>\n",
       "<table border=\"1\" class=\"dataframe\">\n",
       "  <thead>\n",
       "    <tr style=\"text-align: right;\">\n",
       "      <th></th>\n",
       "      <th>mc_donalds_per_100k</th>\n",
       "      <th>adult_obesity_rate</th>\n",
       "      <th>eating_vegetables_daily</th>\n",
       "      <th>median_income</th>\n",
       "      <th>Vegetable</th>\n",
       "    </tr>\n",
       "    <tr>\n",
       "      <th>State</th>\n",
       "      <th></th>\n",
       "      <th></th>\n",
       "      <th></th>\n",
       "      <th></th>\n",
       "      <th></th>\n",
       "    </tr>\n",
       "  </thead>\n",
       "  <tbody>\n",
       "    <tr>\n",
       "      <td>Alabama</td>\n",
       "      <td>5.0</td>\n",
       "      <td>34.7</td>\n",
       "      <td>27.8</td>\n",
       "      <td>46257.0</td>\n",
       "      <td>1.5</td>\n",
       "    </tr>\n",
       "    <tr>\n",
       "      <td>Alaska</td>\n",
       "      <td>4.2</td>\n",
       "      <td>29.4</td>\n",
       "      <td>18.9</td>\n",
       "      <td>76440.0</td>\n",
       "      <td>1.8</td>\n",
       "    </tr>\n",
       "    <tr>\n",
       "      <td>Arizona</td>\n",
       "      <td>4.1</td>\n",
       "      <td>26.7</td>\n",
       "      <td>20.5</td>\n",
       "      <td>53558.0</td>\n",
       "      <td>1.7</td>\n",
       "    </tr>\n",
       "    <tr>\n",
       "      <td>Arkansas</td>\n",
       "      <td>5.8</td>\n",
       "      <td>34.6</td>\n",
       "      <td>28.1</td>\n",
       "      <td>44334.0</td>\n",
       "      <td>1.5</td>\n",
       "    </tr>\n",
       "    <tr>\n",
       "      <td>California</td>\n",
       "      <td>3.3</td>\n",
       "      <td>22.7</td>\n",
       "      <td>18.6</td>\n",
       "      <td>67739.0</td>\n",
       "      <td>1.8</td>\n",
       "    </tr>\n",
       "  </tbody>\n",
       "</table>\n",
       "</div>"
      ],
      "text/plain": [
       "            mc_donalds_per_100k  adult_obesity_rate  eating_vegetables_daily  \\\n",
       "State                                                                          \n",
       "Alabama                     5.0                34.7                     27.8   \n",
       "Alaska                      4.2                29.4                     18.9   \n",
       "Arizona                     4.1                26.7                     20.5   \n",
       "Arkansas                    5.8                34.6                     28.1   \n",
       "California                  3.3                22.7                     18.6   \n",
       "\n",
       "            median_income  Vegetable  \n",
       "State                                 \n",
       "Alabama           46257.0        1.5  \n",
       "Alaska            76440.0        1.8  \n",
       "Arizona           53558.0        1.7  \n",
       "Arkansas          44334.0        1.5  \n",
       "California        67739.0        1.8  "
      ]
     },
     "execution_count": 61,
     "metadata": {},
     "output_type": "execute_result"
    }
   ],
   "source": [
    "df = df.sort_values(by=['State'], ascending=True)\n",
    "df = df.set_index('State')\n",
    "df.head()"
   ]
  },
  {
   "cell_type": "markdown",
   "metadata": {},
   "source": [
    "# Analysis\n",
    "We can perform now some statistics to see if there are any outliers"
   ]
  },
  {
   "cell_type": "code",
   "execution_count": 67,
   "metadata": {},
   "outputs": [
    {
     "data": {
      "text/plain": [
       "<BarContainer object of 51 artists>"
      ]
     },
     "execution_count": 67,
     "metadata": {},
     "output_type": "execute_result"
    },
    {
     "data": {
      "image/png": "[encoded data removed]",
      "text/plain": [
       "<Figure size 432x288 with 1 Axes>"
      ]
     },
     "metadata": {
      "needs_background": "light"
     },
     "output_type": "display_data"
    }
   ],
   "source": [
    "plt.xticks(rotation=90)\n",
    "plt.title(\"Number of McDonald's per 100,000 inhabitants\")\n",
    "plt.bar(df.index, df.mc_donalds_per_100k)"
   ]
  },
  {
   "cell_type": "code",
   "execution_count": 69,
   "metadata": {},
   "outputs": [
    {
     "data": {
      "text/plain": [
       "<BarContainer object of 51 artists>"
      ]
     },
     "execution_count": 69,
     "metadata": {},
     "output_type": "execute_result"
    },
    {
     "data": {
      "image/png": "[encoded data removed]",
      "text/plain": [
       "<Figure size 432x288 with 1 Axes>"
      ]
     },
     "metadata": {
      "needs_background": "light"
     },
     "output_type": "display_data"
    }
   ],
   "source": [
    "plt.xticks(rotation=90)\n",
    "plt.title(\"Adult obesity rate (%)\")\n",
    "plt.bar(df.index, df.adult_obesity_rate)"
   ]
  },
  {
   "cell_type": "code",
   "execution_count": 70,
   "metadata": {},
   "outputs": [
    {
     "data": {
      "text/plain": [
       "<BarContainer object of 51 artists>"
      ]
     },
     "execution_count": 70,
     "metadata": {},
     "output_type": "execute_result"
    },
    {
     "data": {
      "image/png": "[encoded data removed]",
      "text/plain": [
       "<Figure size 432x288 with 1 Axes>"
      ]
     },
     "metadata": {
      "needs_background": "light"
     },
     "output_type": "display_data"
    }
   ],
   "source": [
    "plt.xticks(rotation=90)\n",
    "plt.title(\"percentage of people not eating vegetable daily\")\n",
    "plt.bar(df.index, df.eating_vegetables_daily)"
   ]
  },
  {
   "cell_type": "code",
   "execution_count": 71,
   "metadata": {},
   "outputs": [
    {
     "data": {
      "text/plain": [
       "<BarContainer object of 51 artists>"
      ]
     },
     "execution_count": 71,
     "metadata": {},
     "output_type": "execute_result"
    },
    {
     "data": {
      "image/png": "[encoded data removed]",
      "text/plain": [
       "<Figure size 432x288 with 1 Axes>"
      ]
     },
     "metadata": {
      "needs_background": "light"
     },
     "output_type": "display_data"
    }
   ],
   "source": [
    "plt.xticks(rotation=90)\n",
    "plt.title(\"average income\")\n",
    "plt.bar(df.index, df.median_income)"
   ]
  },
  {
   "cell_type": "markdown",
   "metadata": {},
   "source": [
    "We can see that fortunately there are no outliers. Therefore we can try to understand if there are some values which may influence each other."
   ]
  },
  {
   "cell_type": "code",
   "execution_count": 72,
   "metadata": {},
   "outputs": [
    {
     "data": {
      "text/html": [
       "<div>\n",
       "<style scoped>\n",
       "    .dataframe tbody tr th:only-of-type {\n",
       "        vertical-align: middle;\n",
       "    }\n",
       "\n",
       "    .dataframe tbody tr th {\n",
       "        vertical-align: top;\n",
       "    }\n",
       "\n",
       "    .dataframe thead th {\n",
       "        text-align: right;\n",
       "    }\n",
       "</style>\n",
       "<table border=\"1\" class=\"dataframe\">\n",
       "  <thead>\n",
       "    <tr style=\"text-align: right;\">\n",
       "      <th></th>\n",
       "      <th>mc_donalds_per_100k</th>\n",
       "      <th>adult_obesity_rate</th>\n",
       "      <th>eating_vegetables_daily</th>\n",
       "      <th>median_income</th>\n",
       "      <th>Vegetable</th>\n",
       "    </tr>\n",
       "  </thead>\n",
       "  <tbody>\n",
       "    <tr>\n",
       "      <td>mc_donalds_per_100k</td>\n",
       "      <td>1.000000</td>\n",
       "      <td>0.548133</td>\n",
       "      <td>0.415053</td>\n",
       "      <td>-0.502974</td>\n",
       "      <td>-0.386006</td>\n",
       "    </tr>\n",
       "    <tr>\n",
       "      <td>adult_obesity_rate</td>\n",
       "      <td>0.548133</td>\n",
       "      <td>1.000000</td>\n",
       "      <td>0.766348</td>\n",
       "      <td>-0.633028</td>\n",
       "      <td>-0.746858</td>\n",
       "    </tr>\n",
       "    <tr>\n",
       "      <td>eating_vegetables_daily</td>\n",
       "      <td>0.415053</td>\n",
       "      <td>0.766348</td>\n",
       "      <td>1.000000</td>\n",
       "      <td>-0.582964</td>\n",
       "      <td>-0.947860</td>\n",
       "    </tr>\n",
       "    <tr>\n",
       "      <td>median_income</td>\n",
       "      <td>-0.502974</td>\n",
       "      <td>-0.633028</td>\n",
       "      <td>-0.582964</td>\n",
       "      <td>1.000000</td>\n",
       "      <td>0.546742</td>\n",
       "    </tr>\n",
       "    <tr>\n",
       "      <td>Vegetable</td>\n",
       "      <td>-0.386006</td>\n",
       "      <td>-0.746858</td>\n",
       "      <td>-0.947860</td>\n",
       "      <td>0.546742</td>\n",
       "      <td>1.000000</td>\n",
       "    </tr>\n",
       "  </tbody>\n",
       "</table>\n",
       "</div>"
      ],
      "text/plain": [
       "                         mc_donalds_per_100k  adult_obesity_rate  \\\n",
       "mc_donalds_per_100k                 1.000000            0.548133   \n",
       "adult_obesity_rate                  0.548133            1.000000   \n",
       "eating_vegetables_daily             0.415053            0.766348   \n",
       "median_income                      -0.502974           -0.633028   \n",
       "Vegetable                          -0.386006           -0.746858   \n",
       "\n",
       "                         eating_vegetables_daily  median_income  Vegetable  \n",
       "mc_donalds_per_100k                     0.415053      -0.502974  -0.386006  \n",
       "adult_obesity_rate                      0.766348      -0.633028  -0.746858  \n",
       "eating_vegetables_daily                 1.000000      -0.582964  -0.947860  \n",
       "median_income                          -0.582964       1.000000   0.546742  \n",
       "Vegetable                              -0.947860       0.546742   1.000000  "
      ]
     },
     "execution_count": 72,
     "metadata": {},
     "output_type": "execute_result"
    }
   ],
   "source": [
    "df.corr()"
   ]
  },
  {
   "cell_type": "markdown",
   "metadata": {},
   "source": [
    "Very interestingly (actually the article [1] has already pointed it out) there is no particular correlation among the McDonald's distribution of restaurants and the obesity rate. But this observation actually is outside the scope of this analysis.\n",
    "\n",
    "Another correlation we may be interested is the one among the median income, and the adult obesity rate: in fact, there is a slight negative correlation (-0.63) among the two figures."
   ]
  },
  {
   "cell_type": "code",
   "execution_count": 75,
   "metadata": {},
   "outputs": [
    {
     "data": {
      "text/plain": [
       "<matplotlib.collections.PathCollection at 0x7f80f0c36cd0>"
      ]
     },
     "execution_count": 75,
     "metadata": {},
     "output_type": "execute_result"
    },
    {
     "data": {
      "image/png": "[encoded data removed]",
      "text/plain": [
       "<Figure size 432x288 with 1 Axes>"
      ]
     },
     "metadata": {
      "needs_background": "light"
     },
     "output_type": "display_data"
    }
   ],
   "source": [
    "plt.title(\"median income over adult obesity rate\")\n",
    "plt.xlabel(\"adult obesity rate %\")\n",
    "plt.ylabel(\"median income $\")\n",
    "plt.scatter(df.adult_obesity_rate, df.median_income)"
   ]
  },
  {
   "cell_type": "markdown",
   "metadata": {},
   "source": [
    "We can see that for \"low\" levels of obesity (below 30%), there is no correlation at all, instead for very high levels of obesity (over 30%) the two figures are clearly linearly dependent (the higher the obesity rate, the lower the median income)."
   ]
  },
  {
   "cell_type": "markdown",
   "metadata": {},
   "source": [
    "\n",
    "- [1] https://en.wikipedia.org/wiki/USA_Today\n",
    "- [2] https://en.wikipedia.org/wiki/Big_Mac_Index\n",
    "- [3] https://en.wikipedia.org/wiki/Washington,_D.C only the population of the federal city\n",
    "- [4] https://datausa.io/profile/geo/washington-dc/\n",
    "- [5] https://stateofchildhoodobesity.org/states/dc/\n",
    "- [6] https://www.cdc.gov/mmwr/volumes/66/wr/mm6645a1.htm?s_cid=mm6645a1_w&utm_source=STAT+Newsletters&utm_campaign=f26644060f-MR&utm_medium=email&utm_term=0_8cab1d7961-f26644060f-150444909"
   ]
  }
 ],
 "metadata": {
  "kernelspec": {
   "display_name": "Python [conda env:ada] *",
   "language": "python",
   "name": "conda-env-ada-py"
  },
  "language_info": {
   "codemirror_mode": {
    "name": "ipython",
    "version": 3
   },
   "file_extension": ".py",
   "mimetype": "text/x-python",
   "name": "python",
   "nbconvert_exporter": "python",
   "pygments_lexer": "ipython3",
   "version": "3.7.4"
  }
 },
 "nbformat": 4,
 "nbformat_minor": 4
}
