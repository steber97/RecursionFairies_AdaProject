{
 "cells": [
  {
   "cell_type": "markdown",
   "metadata": {},
   "source": [
    "# Crime Dataset\n",
    "In this section we are going to analyze the Crime dataset. \n",
    "This large dataset contains 128 columns, which need to be filtered in order to extract important features for our analysis: in particular, we are interested in the columns:\n",
    "- state\n",
    "- the population (in order to weight the values according to the population)\n",
    "- NumUnderPov (the number of people under the poverty level)\n",
    "- PctPopUnderPov (percentage of people under the poverty level)\n",
    "- PctLess9thGrade (percentage with a level of instruction less than a 9th grade)\n",
    "- PctNotHSGrad (percentage of people without high school diploma)\n",
    "- PctBSorMore (percentage of people with bachelor or more)\n",
    "- PctUnemployed (percentage of people unemployed)\n",
    "- PctNotSpeakEnglWell (People not speaking english well) \n",
    "- MedNumBR (median number of bedrooms per house)\n",
    "- PctWOFullPlumb (percentage of houses without full plumbing facilities),\n",
    "- MedRent (medium rent)\n",
    "- MedRentPctHousInc (median rent as percentage of income)\n",
    "- NumInShelters (homeless people in shelters)\n",
    "- NumStreet (homeless people in the street)\n",
    "- LemasSwornFT (number of full time police officers)\n",
    "- LemasSwFTPerPop (police officers per 100k inhabitants)\n",
    "- LemasTotalReq (total requests for police)\n",
    "- LemasTotReqPerPop (requests per police per 100K inhabitants)\n",
    "- PolicPerPop (police officers per 100k inhabitants) difference with above?\n",
    "- NumKindsDrugsSeiz (Number of different kinds of drugs sized)\n",
    "- PctUsePubTrans (percentage of people using public means of transport for commuting)\n",
    "- ViolentCrimesPerPop (Number of total crimes per 100k population)"
   ]
  },
  {
   "cell_type": "code",
   "execution_count": 1,
   "metadata": {},
   "outputs": [],
   "source": [
    "from requests import get\n",
    "import pandas as pd\n",
    "import numpy as np\n",
    "from matplotlib.ticker import MaxNLocator\n",
    "import matplotlib.pyplot as plt\n",
    "import re\n",
    "from bs4 import BeautifulSoup"
   ]
  }
 ],
 "metadata": {
  "kernelspec": {
   "display_name": "Python [conda env:ada] *",
   "language": "python",
   "name": "conda-env-ada-py"
  },
  "language_info": {
   "codemirror_mode": {
    "name": "ipython",
    "version": 3
   },
   "file_extension": ".py",
   "mimetype": "text/x-python",
   "name": "python",
   "nbconvert_exporter": "python",
   "pygments_lexer": "ipython3",
   "version": "3.7.4"
  }
 },
 "nbformat": 4,
 "nbformat_minor": 4
}
