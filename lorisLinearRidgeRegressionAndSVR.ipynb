{
 "cells": [
  {
   "cell_type": "code",
   "execution_count": 47,
   "metadata": {},
   "outputs": [],
   "source": [
    "#Load required Libraries\n",
    "import numpy as np\n",
    "import pandas as pd\n",
    "from sklearn.linear_model import LinearRegression,RidgeCV\n",
    "from sklearn.model_selection import *\n",
    "from sklearn.preprocessing import *\n",
    "from sklearn.svm import SVR\n",
    "from sklearn.decomposition import *\n",
    "from sklearn.metrics import mean_squared_error,make_scorer\n",
    "import matplotlib.pyplot as plt\n"
   ]
  },
  {
   "cell_type": "code",
   "execution_count": 48,
   "metadata": {},
   "outputs": [
    {
     "data": {
      "text/html": [
       "<div>\n",
       "<style scoped>\n",
       "    .dataframe tbody tr th:only-of-type {\n",
       "        vertical-align: middle;\n",
       "    }\n",
       "\n",
       "    .dataframe tbody tr th {\n",
       "        vertical-align: top;\n",
       "    }\n",
       "\n",
       "    .dataframe thead th {\n",
       "        text-align: right;\n",
       "    }\n",
       "</style>\n",
       "<table border=\"1\" class=\"dataframe\">\n",
       "  <thead>\n",
       "    <tr style=\"text-align: right;\">\n",
       "      <th></th>\n",
       "      <th>State</th>\n",
       "      <th>HDI</th>\n",
       "      <th>awards_per_value</th>\n",
       "      <th>exp_award_value</th>\n",
       "      <th>High_School_Fee</th>\n",
       "      <th>Elementary_School_Fee</th>\n",
       "      <th>Colleges_universities_per_1000000</th>\n",
       "      <th>Junior_colleges_per_1000000</th>\n",
       "      <th>Prof_schools_per_1000000</th>\n",
       "      <th>Intensive_top_230_score</th>\n",
       "      <th>...</th>\n",
       "      <th>Property_crime</th>\n",
       "      <th>Burglary</th>\n",
       "      <th>Theft</th>\n",
       "      <th>Motor_Vehicle_theft</th>\n",
       "      <th>Per_capita_income</th>\n",
       "      <th>Price_2018_Studio</th>\n",
       "      <th>Price_2018_1br</th>\n",
       "      <th>Price_2018_2br</th>\n",
       "      <th>Price_2018_3br</th>\n",
       "      <th>Price_2018_4br</th>\n",
       "    </tr>\n",
       "  </thead>\n",
       "  <tbody>\n",
       "    <tr>\n",
       "      <td>1</td>\n",
       "      <td>alabama</td>\n",
       "      <td>0.882</td>\n",
       "      <td>19.514493</td>\n",
       "      <td>63013.173913</td>\n",
       "      <td>7718.0</td>\n",
       "      <td>6388.0</td>\n",
       "      <td>8.592698</td>\n",
       "      <td>7.365170</td>\n",
       "      <td>3.273409</td>\n",
       "      <td>74.879227</td>\n",
       "      <td>...</td>\n",
       "      <td>2947.8</td>\n",
       "      <td>700.5</td>\n",
       "      <td>2006.3</td>\n",
       "      <td>241.1</td>\n",
       "      <td>38215.0</td>\n",
       "      <td>605.416667</td>\n",
       "      <td>659.000000</td>\n",
       "      <td>800.666667</td>\n",
       "      <td>1069.666667</td>\n",
       "      <td>1244.333333</td>\n",
       "    </tr>\n",
       "    <tr>\n",
       "      <td>2</td>\n",
       "      <td>alaska</td>\n",
       "      <td>0.942</td>\n",
       "      <td>18.414286</td>\n",
       "      <td>141431.142857</td>\n",
       "      <td>6118.0</td>\n",
       "      <td>7544.0</td>\n",
       "      <td>8.136277</td>\n",
       "      <td>1.356046</td>\n",
       "      <td>2.712092</td>\n",
       "      <td>39.325340</td>\n",
       "      <td>...</td>\n",
       "      <td>3353.0</td>\n",
       "      <td>546.3</td>\n",
       "      <td>2394.7</td>\n",
       "      <td>412.1</td>\n",
       "      <td>54430.0</td>\n",
       "      <td>814.333333</td>\n",
       "      <td>930.500000</td>\n",
       "      <td>1190.333333</td>\n",
       "      <td>1682.166667</td>\n",
       "      <td>2019.500000</td>\n",
       "    </tr>\n",
       "    <tr>\n",
       "      <td>3</td>\n",
       "      <td>arizona</td>\n",
       "      <td>0.912</td>\n",
       "      <td>25.563492</td>\n",
       "      <td>47830.888889</td>\n",
       "      <td>17339.0</td>\n",
       "      <td>6283.0</td>\n",
       "      <td>6.414148</td>\n",
       "      <td>5.995834</td>\n",
       "      <td>5.856396</td>\n",
       "      <td>29.142543</td>\n",
       "      <td>...</td>\n",
       "      <td>2978.4</td>\n",
       "      <td>544.4</td>\n",
       "      <td>2168.1</td>\n",
       "      <td>265.8</td>\n",
       "      <td>39955.0</td>\n",
       "      <td>701.000000</td>\n",
       "      <td>828.000000</td>\n",
       "      <td>1046.000000</td>\n",
       "      <td>1512.333333</td>\n",
       "      <td>1754.416667</td>\n",
       "    </tr>\n",
       "    <tr>\n",
       "      <td>4</td>\n",
       "      <td>arkansas</td>\n",
       "      <td>0.882</td>\n",
       "      <td>21.970833</td>\n",
       "      <td>51132.479167</td>\n",
       "      <td>6680.0</td>\n",
       "      <td>4698.0</td>\n",
       "      <td>8.626911</td>\n",
       "      <td>8.626911</td>\n",
       "      <td>10.617737</td>\n",
       "      <td>31.853210</td>\n",
       "      <td>...</td>\n",
       "      <td>3268.6</td>\n",
       "      <td>795.5</td>\n",
       "      <td>2233.6</td>\n",
       "      <td>239.4</td>\n",
       "      <td>39171.0</td>\n",
       "      <td>524.666667</td>\n",
       "      <td>571.166667</td>\n",
       "      <td>721.416667</td>\n",
       "      <td>977.583333</td>\n",
       "      <td>1144.833333</td>\n",
       "    </tr>\n",
       "    <tr>\n",
       "      <td>5</td>\n",
       "      <td>california</td>\n",
       "      <td>0.934</td>\n",
       "      <td>22.771429</td>\n",
       "      <td>63022.202857</td>\n",
       "      <td>19317.0</td>\n",
       "      <td>11363.0</td>\n",
       "      <td>6.673906</td>\n",
       "      <td>4.828470</td>\n",
       "      <td>6.041907</td>\n",
       "      <td>77.457758</td>\n",
       "      <td>...</td>\n",
       "      <td>2553.0</td>\n",
       "      <td>479.8</td>\n",
       "      <td>1623.0</td>\n",
       "      <td>450.3</td>\n",
       "      <td>54800.0</td>\n",
       "      <td>1212.333333</td>\n",
       "      <td>1426.333333</td>\n",
       "      <td>1818.916667</td>\n",
       "      <td>2519.250000</td>\n",
       "      <td>2926.333333</td>\n",
       "    </tr>\n",
       "  </tbody>\n",
       "</table>\n",
       "<p>5 rows × 33 columns</p>\n",
       "</div>"
      ],
      "text/plain": [
       "        State    HDI  awards_per_value  exp_award_value  High_School_Fee  \\\n",
       "1     alabama  0.882         19.514493     63013.173913           7718.0   \n",
       "2      alaska  0.942         18.414286    141431.142857           6118.0   \n",
       "3     arizona  0.912         25.563492     47830.888889          17339.0   \n",
       "4    arkansas  0.882         21.970833     51132.479167           6680.0   \n",
       "5  california  0.934         22.771429     63022.202857          19317.0   \n",
       "\n",
       "   Elementary_School_Fee  Colleges_universities_per_1000000  \\\n",
       "1                 6388.0                           8.592698   \n",
       "2                 7544.0                           8.136277   \n",
       "3                 6283.0                           6.414148   \n",
       "4                 4698.0                           8.626911   \n",
       "5                11363.0                           6.673906   \n",
       "\n",
       "   Junior_colleges_per_1000000  Prof_schools_per_1000000  \\\n",
       "1                     7.365170                  3.273409   \n",
       "2                     1.356046                  2.712092   \n",
       "3                     5.995834                  5.856396   \n",
       "4                     8.626911                 10.617737   \n",
       "5                     4.828470                  6.041907   \n",
       "\n",
       "   Intensive_top_230_score  ...  Property_crime  Burglary   Theft  \\\n",
       "1                74.879227  ...          2947.8     700.5  2006.3   \n",
       "2                39.325340  ...          3353.0     546.3  2394.7   \n",
       "3                29.142543  ...          2978.4     544.4  2168.1   \n",
       "4                31.853210  ...          3268.6     795.5  2233.6   \n",
       "5                77.457758  ...          2553.0     479.8  1623.0   \n",
       "\n",
       "   Motor_Vehicle_theft  Per_capita_income  Price_2018_Studio  Price_2018_1br  \\\n",
       "1                241.1            38215.0         605.416667      659.000000   \n",
       "2                412.1            54430.0         814.333333      930.500000   \n",
       "3                265.8            39955.0         701.000000      828.000000   \n",
       "4                239.4            39171.0         524.666667      571.166667   \n",
       "5                450.3            54800.0        1212.333333     1426.333333   \n",
       "\n",
       "   Price_2018_2br  Price_2018_3br  Price_2018_4br  \n",
       "1      800.666667     1069.666667     1244.333333  \n",
       "2     1190.333333     1682.166667     2019.500000  \n",
       "3     1046.000000     1512.333333     1754.416667  \n",
       "4      721.416667      977.583333     1144.833333  \n",
       "5     1818.916667     2519.250000     2926.333333  \n",
       "\n",
       "[5 rows x 33 columns]"
      ]
     },
     "execution_count": 48,
     "metadata": {},
     "output_type": "execute_result"
    }
   ],
   "source": [
    "#Load the normalized data from previous steps with HDI\n",
    "df = pd.read_pickle('Pickles/normalDataFromAngeloWithHDI.pickle')\n",
    "df.head()"
   ]
  },
  {
   "cell_type": "markdown",
   "metadata": {},
   "source": [
    "We remove the State names and set the HDI values as the output `y` and the remaining features as the data `X`."
   ]
  },
  {
   "cell_type": "code",
   "execution_count": 49,
   "metadata": {},
   "outputs": [
    {
     "data": {
      "text/html": [
       "<div>\n",
       "<style scoped>\n",
       "    .dataframe tbody tr th:only-of-type {\n",
       "        vertical-align: middle;\n",
       "    }\n",
       "\n",
       "    .dataframe tbody tr th {\n",
       "        vertical-align: top;\n",
       "    }\n",
       "\n",
       "    .dataframe thead th {\n",
       "        text-align: right;\n",
       "    }\n",
       "</style>\n",
       "<table border=\"1\" class=\"dataframe\">\n",
       "  <thead>\n",
       "    <tr style=\"text-align: right;\">\n",
       "      <th></th>\n",
       "      <th>awards_per_value</th>\n",
       "      <th>exp_award_value</th>\n",
       "      <th>High_School_Fee</th>\n",
       "      <th>Elementary_School_Fee</th>\n",
       "      <th>Colleges_universities_per_1000000</th>\n",
       "      <th>Junior_colleges_per_1000000</th>\n",
       "      <th>Prof_schools_per_1000000</th>\n",
       "      <th>Intensive_top_230_score</th>\n",
       "      <th>Life_Expectancy</th>\n",
       "      <th>mc_donalds_per_100k</th>\n",
       "      <th>...</th>\n",
       "      <th>Property_crime</th>\n",
       "      <th>Burglary</th>\n",
       "      <th>Theft</th>\n",
       "      <th>Motor_Vehicle_theft</th>\n",
       "      <th>Per_capita_income</th>\n",
       "      <th>Price_2018_Studio</th>\n",
       "      <th>Price_2018_1br</th>\n",
       "      <th>Price_2018_2br</th>\n",
       "      <th>Price_2018_3br</th>\n",
       "      <th>Price_2018_4br</th>\n",
       "    </tr>\n",
       "  </thead>\n",
       "  <tbody>\n",
       "    <tr>\n",
       "      <td>1</td>\n",
       "      <td>19.514493</td>\n",
       "      <td>63013.173913</td>\n",
       "      <td>7718.0</td>\n",
       "      <td>6388.0</td>\n",
       "      <td>8.592698</td>\n",
       "      <td>7.365170</td>\n",
       "      <td>3.273409</td>\n",
       "      <td>74.879227</td>\n",
       "      <td>74.813987</td>\n",
       "      <td>5.0</td>\n",
       "      <td>...</td>\n",
       "      <td>2947.8</td>\n",
       "      <td>700.5</td>\n",
       "      <td>2006.3</td>\n",
       "      <td>241.1</td>\n",
       "      <td>38215.0</td>\n",
       "      <td>605.416667</td>\n",
       "      <td>659.000000</td>\n",
       "      <td>800.666667</td>\n",
       "      <td>1069.666667</td>\n",
       "      <td>1244.333333</td>\n",
       "    </tr>\n",
       "    <tr>\n",
       "      <td>2</td>\n",
       "      <td>18.414286</td>\n",
       "      <td>141431.142857</td>\n",
       "      <td>6118.0</td>\n",
       "      <td>7544.0</td>\n",
       "      <td>8.136277</td>\n",
       "      <td>1.356046</td>\n",
       "      <td>2.712092</td>\n",
       "      <td>39.325340</td>\n",
       "      <td>78.915541</td>\n",
       "      <td>4.2</td>\n",
       "      <td>...</td>\n",
       "      <td>3353.0</td>\n",
       "      <td>546.3</td>\n",
       "      <td>2394.7</td>\n",
       "      <td>412.1</td>\n",
       "      <td>54430.0</td>\n",
       "      <td>814.333333</td>\n",
       "      <td>930.500000</td>\n",
       "      <td>1190.333333</td>\n",
       "      <td>1682.166667</td>\n",
       "      <td>2019.500000</td>\n",
       "    </tr>\n",
       "    <tr>\n",
       "      <td>3</td>\n",
       "      <td>25.563492</td>\n",
       "      <td>47830.888889</td>\n",
       "      <td>17339.0</td>\n",
       "      <td>6283.0</td>\n",
       "      <td>6.414148</td>\n",
       "      <td>5.995834</td>\n",
       "      <td>5.856396</td>\n",
       "      <td>29.142543</td>\n",
       "      <td>78.364742</td>\n",
       "      <td>4.1</td>\n",
       "      <td>...</td>\n",
       "      <td>2978.4</td>\n",
       "      <td>544.4</td>\n",
       "      <td>2168.1</td>\n",
       "      <td>265.8</td>\n",
       "      <td>39955.0</td>\n",
       "      <td>701.000000</td>\n",
       "      <td>828.000000</td>\n",
       "      <td>1046.000000</td>\n",
       "      <td>1512.333333</td>\n",
       "      <td>1754.416667</td>\n",
       "    </tr>\n",
       "    <tr>\n",
       "      <td>4</td>\n",
       "      <td>21.970833</td>\n",
       "      <td>51132.479167</td>\n",
       "      <td>6680.0</td>\n",
       "      <td>4698.0</td>\n",
       "      <td>8.626911</td>\n",
       "      <td>8.626911</td>\n",
       "      <td>10.617737</td>\n",
       "      <td>31.853210</td>\n",
       "      <td>75.626900</td>\n",
       "      <td>5.8</td>\n",
       "      <td>...</td>\n",
       "      <td>3268.6</td>\n",
       "      <td>795.5</td>\n",
       "      <td>2233.6</td>\n",
       "      <td>239.4</td>\n",
       "      <td>39171.0</td>\n",
       "      <td>524.666667</td>\n",
       "      <td>571.166667</td>\n",
       "      <td>721.416667</td>\n",
       "      <td>977.583333</td>\n",
       "      <td>1144.833333</td>\n",
       "    </tr>\n",
       "    <tr>\n",
       "      <td>5</td>\n",
       "      <td>22.771429</td>\n",
       "      <td>63022.202857</td>\n",
       "      <td>19317.0</td>\n",
       "      <td>11363.0</td>\n",
       "      <td>6.673906</td>\n",
       "      <td>4.828470</td>\n",
       "      <td>6.041907</td>\n",
       "      <td>77.457758</td>\n",
       "      <td>80.231014</td>\n",
       "      <td>3.3</td>\n",
       "      <td>...</td>\n",
       "      <td>2553.0</td>\n",
       "      <td>479.8</td>\n",
       "      <td>1623.0</td>\n",
       "      <td>450.3</td>\n",
       "      <td>54800.0</td>\n",
       "      <td>1212.333333</td>\n",
       "      <td>1426.333333</td>\n",
       "      <td>1818.916667</td>\n",
       "      <td>2519.250000</td>\n",
       "      <td>2926.333333</td>\n",
       "    </tr>\n",
       "  </tbody>\n",
       "</table>\n",
       "<p>5 rows × 31 columns</p>\n",
       "</div>"
      ],
      "text/plain": [
       "   awards_per_value  exp_award_value  High_School_Fee  Elementary_School_Fee  \\\n",
       "1         19.514493     63013.173913           7718.0                 6388.0   \n",
       "2         18.414286    141431.142857           6118.0                 7544.0   \n",
       "3         25.563492     47830.888889          17339.0                 6283.0   \n",
       "4         21.970833     51132.479167           6680.0                 4698.0   \n",
       "5         22.771429     63022.202857          19317.0                11363.0   \n",
       "\n",
       "   Colleges_universities_per_1000000  Junior_colleges_per_1000000  \\\n",
       "1                           8.592698                     7.365170   \n",
       "2                           8.136277                     1.356046   \n",
       "3                           6.414148                     5.995834   \n",
       "4                           8.626911                     8.626911   \n",
       "5                           6.673906                     4.828470   \n",
       "\n",
       "   Prof_schools_per_1000000  Intensive_top_230_score  Life_Expectancy  \\\n",
       "1                  3.273409                74.879227        74.813987   \n",
       "2                  2.712092                39.325340        78.915541   \n",
       "3                  5.856396                29.142543        78.364742   \n",
       "4                 10.617737                31.853210        75.626900   \n",
       "5                  6.041907                77.457758        80.231014   \n",
       "\n",
       "   mc_donalds_per_100k  ...  Property_crime  Burglary   Theft  \\\n",
       "1                  5.0  ...          2947.8     700.5  2006.3   \n",
       "2                  4.2  ...          3353.0     546.3  2394.7   \n",
       "3                  4.1  ...          2978.4     544.4  2168.1   \n",
       "4                  5.8  ...          3268.6     795.5  2233.6   \n",
       "5                  3.3  ...          2553.0     479.8  1623.0   \n",
       "\n",
       "   Motor_Vehicle_theft  Per_capita_income  Price_2018_Studio  Price_2018_1br  \\\n",
       "1                241.1            38215.0         605.416667      659.000000   \n",
       "2                412.1            54430.0         814.333333      930.500000   \n",
       "3                265.8            39955.0         701.000000      828.000000   \n",
       "4                239.4            39171.0         524.666667      571.166667   \n",
       "5                450.3            54800.0        1212.333333     1426.333333   \n",
       "\n",
       "   Price_2018_2br  Price_2018_3br  Price_2018_4br  \n",
       "1      800.666667     1069.666667     1244.333333  \n",
       "2     1190.333333     1682.166667     2019.500000  \n",
       "3     1046.000000     1512.333333     1754.416667  \n",
       "4      721.416667      977.583333     1144.833333  \n",
       "5     1818.916667     2519.250000     2926.333333  \n",
       "\n",
       "[5 rows x 31 columns]"
      ]
     },
     "execution_count": 49,
     "metadata": {},
     "output_type": "execute_result"
    }
   ],
   "source": [
    "States = df.State.tolist()\n",
    "X = df.drop([\"State\", \"HDI\"], axis = 1)\n",
    "y = df.HDI\n",
    "X.head()"
   ]
  },
  {
   "cell_type": "code",
   "execution_count": 50,
   "metadata": {},
   "outputs": [
    {
     "data": {
      "text/html": [
       "<div>\n",
       "<style scoped>\n",
       "    .dataframe tbody tr th:only-of-type {\n",
       "        vertical-align: middle;\n",
       "    }\n",
       "\n",
       "    .dataframe tbody tr th {\n",
       "        vertical-align: top;\n",
       "    }\n",
       "\n",
       "    .dataframe thead th {\n",
       "        text-align: right;\n",
       "    }\n",
       "</style>\n",
       "<table border=\"1\" class=\"dataframe\">\n",
       "  <thead>\n",
       "    <tr style=\"text-align: right;\">\n",
       "      <th></th>\n",
       "      <th>HDI</th>\n",
       "      <th>awards_per_value</th>\n",
       "      <th>exp_award_value</th>\n",
       "      <th>High_School_Fee</th>\n",
       "      <th>Elementary_School_Fee</th>\n",
       "      <th>Colleges_universities_per_1000000</th>\n",
       "      <th>Junior_colleges_per_1000000</th>\n",
       "      <th>Prof_schools_per_1000000</th>\n",
       "      <th>Intensive_top_230_score</th>\n",
       "      <th>Life_Expectancy</th>\n",
       "      <th>...</th>\n",
       "      <th>Property_crime</th>\n",
       "      <th>Burglary</th>\n",
       "      <th>Theft</th>\n",
       "      <th>Motor_Vehicle_theft</th>\n",
       "      <th>Per_capita_income</th>\n",
       "      <th>Price_2018_Studio</th>\n",
       "      <th>Price_2018_1br</th>\n",
       "      <th>Price_2018_2br</th>\n",
       "      <th>Price_2018_3br</th>\n",
       "      <th>Price_2018_4br</th>\n",
       "    </tr>\n",
       "  </thead>\n",
       "  <tbody>\n",
       "    <tr>\n",
       "      <td>count</td>\n",
       "      <td>51.000000</td>\n",
       "      <td>51.000000</td>\n",
       "      <td>51.000000</td>\n",
       "      <td>51.000000</td>\n",
       "      <td>51.000000</td>\n",
       "      <td>51.000000</td>\n",
       "      <td>51.000000</td>\n",
       "      <td>51.000000</td>\n",
       "      <td>51.000000</td>\n",
       "      <td>51.000000</td>\n",
       "      <td>...</td>\n",
       "      <td>51.000000</td>\n",
       "      <td>51.000000</td>\n",
       "      <td>51.000000</td>\n",
       "      <td>51.000000</td>\n",
       "      <td>51.000000</td>\n",
       "      <td>51.000000</td>\n",
       "      <td>51.000000</td>\n",
       "      <td>51.000000</td>\n",
       "      <td>51.000000</td>\n",
       "      <td>51.000000</td>\n",
       "    </tr>\n",
       "    <tr>\n",
       "      <td>mean</td>\n",
       "      <td>0.922608</td>\n",
       "      <td>22.971176</td>\n",
       "      <td>66598.569680</td>\n",
       "      <td>13727.039216</td>\n",
       "      <td>7746.490196</td>\n",
       "      <td>10.211266</td>\n",
       "      <td>6.044258</td>\n",
       "      <td>7.116947</td>\n",
       "      <td>104.636218</td>\n",
       "      <td>78.262064</td>\n",
       "      <td>...</td>\n",
       "      <td>2504.064706</td>\n",
       "      <td>470.958824</td>\n",
       "      <td>1803.998039</td>\n",
       "      <td>229.107843</td>\n",
       "      <td>47125.901961</td>\n",
       "      <td>744.338235</td>\n",
       "      <td>848.303922</td>\n",
       "      <td>1054.060458</td>\n",
       "      <td>1421.009804</td>\n",
       "      <td>1657.477124</td>\n",
       "    </tr>\n",
       "    <tr>\n",
       "      <td>std</td>\n",
       "      <td>0.022469</td>\n",
       "      <td>2.215785</td>\n",
       "      <td>19730.887539</td>\n",
       "      <td>7600.441232</td>\n",
       "      <td>3377.477398</td>\n",
       "      <td>5.267308</td>\n",
       "      <td>2.900922</td>\n",
       "      <td>3.337389</td>\n",
       "      <td>152.019904</td>\n",
       "      <td>1.705511</td>\n",
       "      <td>...</td>\n",
       "      <td>674.554242</td>\n",
       "      <td>162.708761</td>\n",
       "      <td>494.491131</td>\n",
       "      <td>114.559621</td>\n",
       "      <td>7462.990763</td>\n",
       "      <td>220.293414</td>\n",
       "      <td>243.846978</td>\n",
       "      <td>293.103948</td>\n",
       "      <td>393.657178</td>\n",
       "      <td>475.658306</td>\n",
       "    </tr>\n",
       "    <tr>\n",
       "      <td>min</td>\n",
       "      <td>0.867000</td>\n",
       "      <td>18.414286</td>\n",
       "      <td>45130.875000</td>\n",
       "      <td>5375.000000</td>\n",
       "      <td>2550.000000</td>\n",
       "      <td>1.730891</td>\n",
       "      <td>0.000000</td>\n",
       "      <td>1.730891</td>\n",
       "      <td>11.204881</td>\n",
       "      <td>74.813987</td>\n",
       "      <td>...</td>\n",
       "      <td>1512.900000</td>\n",
       "      <td>201.700000</td>\n",
       "      <td>1135.200000</td>\n",
       "      <td>45.100000</td>\n",
       "      <td>34752.000000</td>\n",
       "      <td>486.333333</td>\n",
       "      <td>564.333333</td>\n",
       "      <td>721.416667</td>\n",
       "      <td>968.166667</td>\n",
       "      <td>1098.416667</td>\n",
       "    </tr>\n",
       "    <tr>\n",
       "      <td>25%</td>\n",
       "      <td>0.909500</td>\n",
       "      <td>21.887917</td>\n",
       "      <td>51720.242949</td>\n",
       "      <td>8107.500000</td>\n",
       "      <td>5089.500000</td>\n",
       "      <td>7.212903</td>\n",
       "      <td>4.298723</td>\n",
       "      <td>4.655544</td>\n",
       "      <td>44.183995</td>\n",
       "      <td>76.861272</td>\n",
       "      <td>...</td>\n",
       "      <td>1945.300000</td>\n",
       "      <td>342.250000</td>\n",
       "      <td>1436.200000</td>\n",
       "      <td>150.950000</td>\n",
       "      <td>42031.500000</td>\n",
       "      <td>564.541667</td>\n",
       "      <td>654.041667</td>\n",
       "      <td>821.791667</td>\n",
       "      <td>1100.250000</td>\n",
       "      <td>1261.708333</td>\n",
       "    </tr>\n",
       "    <tr>\n",
       "      <td>50%</td>\n",
       "      <td>0.927000</td>\n",
       "      <td>23.519917</td>\n",
       "      <td>60872.722222</td>\n",
       "      <td>11149.000000</td>\n",
       "      <td>7750.000000</td>\n",
       "      <td>8.626911</td>\n",
       "      <td>5.667424</td>\n",
       "      <td>6.589445</td>\n",
       "      <td>71.784180</td>\n",
       "      <td>78.546753</td>\n",
       "      <td>...</td>\n",
       "      <td>2586.600000</td>\n",
       "      <td>431.400000</td>\n",
       "      <td>1832.300000</td>\n",
       "      <td>220.800000</td>\n",
       "      <td>45733.000000</td>\n",
       "      <td>693.500000</td>\n",
       "      <td>783.833333</td>\n",
       "      <td>969.500000</td>\n",
       "      <td>1285.083333</td>\n",
       "      <td>1463.250000</td>\n",
       "    </tr>\n",
       "    <tr>\n",
       "      <td>75%</td>\n",
       "      <td>0.940000</td>\n",
       "      <td>24.451859</td>\n",
       "      <td>72419.318470</td>\n",
       "      <td>16128.000000</td>\n",
       "      <td>9421.000000</td>\n",
       "      <td>12.434793</td>\n",
       "      <td>7.359914</td>\n",
       "      <td>9.382978</td>\n",
       "      <td>97.314777</td>\n",
       "      <td>79.528299</td>\n",
       "      <td>...</td>\n",
       "      <td>2949.650000</td>\n",
       "      <td>561.100000</td>\n",
       "      <td>2060.850000</td>\n",
       "      <td>273.200000</td>\n",
       "      <td>50332.000000</td>\n",
       "      <td>864.083333</td>\n",
       "      <td>975.541667</td>\n",
       "      <td>1210.750000</td>\n",
       "      <td>1664.250000</td>\n",
       "      <td>1952.166667</td>\n",
       "    </tr>\n",
       "    <tr>\n",
       "      <td>max</td>\n",
       "      <td>0.959000</td>\n",
       "      <td>26.992614</td>\n",
       "      <td>141431.142857</td>\n",
       "      <td>33893.000000</td>\n",
       "      <td>20047.000000</td>\n",
       "      <td>31.933629</td>\n",
       "      <td>15.578023</td>\n",
       "      <td>17.166602</td>\n",
       "      <td>1077.649102</td>\n",
       "      <td>81.314894</td>\n",
       "      <td>...</td>\n",
       "      <td>4802.900000</td>\n",
       "      <td>830.400000</td>\n",
       "      <td>4019.800000</td>\n",
       "      <td>564.300000</td>\n",
       "      <td>70167.000000</td>\n",
       "      <td>1397.583333</td>\n",
       "      <td>1468.333333</td>\n",
       "      <td>1818.916667</td>\n",
       "      <td>2519.250000</td>\n",
       "      <td>2926.333333</td>\n",
       "    </tr>\n",
       "  </tbody>\n",
       "</table>\n",
       "<p>8 rows × 32 columns</p>\n",
       "</div>"
      ],
      "text/plain": [
       "             HDI  awards_per_value  exp_award_value  High_School_Fee  \\\n",
       "count  51.000000         51.000000        51.000000        51.000000   \n",
       "mean    0.922608         22.971176     66598.569680     13727.039216   \n",
       "std     0.022469          2.215785     19730.887539      7600.441232   \n",
       "min     0.867000         18.414286     45130.875000      5375.000000   \n",
       "25%     0.909500         21.887917     51720.242949      8107.500000   \n",
       "50%     0.927000         23.519917     60872.722222     11149.000000   \n",
       "75%     0.940000         24.451859     72419.318470     16128.000000   \n",
       "max     0.959000         26.992614    141431.142857     33893.000000   \n",
       "\n",
       "       Elementary_School_Fee  Colleges_universities_per_1000000  \\\n",
       "count              51.000000                          51.000000   \n",
       "mean             7746.490196                          10.211266   \n",
       "std              3377.477398                           5.267308   \n",
       "min              2550.000000                           1.730891   \n",
       "25%              5089.500000                           7.212903   \n",
       "50%              7750.000000                           8.626911   \n",
       "75%              9421.000000                          12.434793   \n",
       "max             20047.000000                          31.933629   \n",
       "\n",
       "       Junior_colleges_per_1000000  Prof_schools_per_1000000  \\\n",
       "count                    51.000000                 51.000000   \n",
       "mean                      6.044258                  7.116947   \n",
       "std                       2.900922                  3.337389   \n",
       "min                       0.000000                  1.730891   \n",
       "25%                       4.298723                  4.655544   \n",
       "50%                       5.667424                  6.589445   \n",
       "75%                       7.359914                  9.382978   \n",
       "max                      15.578023                 17.166602   \n",
       "\n",
       "       Intensive_top_230_score  Life_Expectancy  ...  Property_crime  \\\n",
       "count                51.000000        51.000000  ...       51.000000   \n",
       "mean                104.636218        78.262064  ...     2504.064706   \n",
       "std                 152.019904         1.705511  ...      674.554242   \n",
       "min                  11.204881        74.813987  ...     1512.900000   \n",
       "25%                  44.183995        76.861272  ...     1945.300000   \n",
       "50%                  71.784180        78.546753  ...     2586.600000   \n",
       "75%                  97.314777        79.528299  ...     2949.650000   \n",
       "max                1077.649102        81.314894  ...     4802.900000   \n",
       "\n",
       "         Burglary        Theft  Motor_Vehicle_theft  Per_capita_income  \\\n",
       "count   51.000000    51.000000            51.000000          51.000000   \n",
       "mean   470.958824  1803.998039           229.107843       47125.901961   \n",
       "std    162.708761   494.491131           114.559621        7462.990763   \n",
       "min    201.700000  1135.200000            45.100000       34752.000000   \n",
       "25%    342.250000  1436.200000           150.950000       42031.500000   \n",
       "50%    431.400000  1832.300000           220.800000       45733.000000   \n",
       "75%    561.100000  2060.850000           273.200000       50332.000000   \n",
       "max    830.400000  4019.800000           564.300000       70167.000000   \n",
       "\n",
       "       Price_2018_Studio  Price_2018_1br  Price_2018_2br  Price_2018_3br  \\\n",
       "count          51.000000       51.000000       51.000000       51.000000   \n",
       "mean          744.338235      848.303922     1054.060458     1421.009804   \n",
       "std           220.293414      243.846978      293.103948      393.657178   \n",
       "min           486.333333      564.333333      721.416667      968.166667   \n",
       "25%           564.541667      654.041667      821.791667     1100.250000   \n",
       "50%           693.500000      783.833333      969.500000     1285.083333   \n",
       "75%           864.083333      975.541667     1210.750000     1664.250000   \n",
       "max          1397.583333     1468.333333     1818.916667     2519.250000   \n",
       "\n",
       "       Price_2018_4br  \n",
       "count       51.000000  \n",
       "mean      1657.477124  \n",
       "std        475.658306  \n",
       "min       1098.416667  \n",
       "25%       1261.708333  \n",
       "50%       1463.250000  \n",
       "75%       1952.166667  \n",
       "max       2926.333333  \n",
       "\n",
       "[8 rows x 32 columns]"
      ]
     },
     "execution_count": 50,
     "metadata": {},
     "output_type": "execute_result"
    }
   ],
   "source": [
    "#Checking statistics for the features and the output.\n",
    "df.describe()"
   ]
  },
  {
   "cell_type": "markdown",
   "metadata": {},
   "source": [
    "Note that the features have different ranges which may distort our regression techniques. To overcome this, we need to perform some kind of normalization or scaling. We perform a MinMax Scaling (from sklearn) on our data input `X` to scale all features between `[0,1]`. Further, the true HDI values have a very small range and standard deviation, this means that even a model which predicts just a constant value equal to the mean will have a small overall Mean Square Error. To overcome this and make our model evaluation more realistic, we scale the outputs `y` to `[0,1]`. Further, we store the scalers as we will need to invert the predict values for our models back to true HDI range."
   ]
  },
  {
   "cell_type": "code",
   "execution_count": 51,
   "metadata": {},
   "outputs": [],
   "source": [
    "scaler_x = MinMaxScaler()\n",
    "scaler_y = MinMaxScaler()\n",
    "X_scaled = scaler_x.fit_transform(X.values)\n",
    "Y_scaled = scaler_y.fit_transform(y.values.reshape(-1,1))"
   ]
  },
  {
   "cell_type": "markdown",
   "metadata": {},
   "source": [
    "# Prediction Models"
   ]
  },
  {
   "cell_type": "markdown",
   "metadata": {},
   "source": [
    "We use Linear Regression, Ridge Regression and Support Vector regression from the `sklearn` package as our primary models. Note that for linear and ridge regression, we will also cover the case when the features have been additionally normalized. We define certain parameters which we keep constant throughout all our analysis -- We take 5-fold cross-validation and we use validation mean square error of the predicted HDI rescaled back to `[0,1]` with the true HDI values as our main metric to compare different models. Further, we also use polynomial augmentation on the input data to obtain predictions on models in `linRegModels`. We do not use polynomial augmentation with the SVM since we do a hyperparameter search for the kernel which has polynomial as a possible choice. \n",
    "\n",
    "We define certain helper functions for these models. These are described below -\n",
    "- **linRegModels** : \n",
    "The functions `linRegModels` implements `LinearRegression` and `RidgeCV` routines from the `sklearn` package. We further use `cross_val_predict` and `mean_squared_error` to obtain the validation MSE for each of the models. For ridge regression, `alpha` is a hyperparameter. So, we use the `RidgeCV` function to obtain the model with the best `alpha`, where the parameter grid for `alpha` goes from 0.01 to 1 with 0.01 difference. On the model with best `alpha`, we again use `cross_val_predict` to obtain 5-fold validation MSE. The function returns the MSE values for each of these models. Further, we use `LinearRegression` and `RidgeCV` with attribute `normalize=True` to obtain results after the data has been renormalized. After predicting the HDI in the current scale, we rescale it back to  `[0,1]` using the scaling parameters used for scaling the true HDI values. The MSE is calculated between these rescaled predictions and the true HDI values.\n",
    "\n",
    "- **SVRModel** : \n",
    "We use the `SVR` method as our regressor and the `GridSearchCV` method for hyper parameter tuning. The hyperparameters are the kernel type ( rbf, linear, sigmoid, polynomial) and the parameter C (this ranges from exp(-6) to exp(6) with a difference of 1 in a geometric fashion). We again use 5-fold CV to get the best estimator and then use `cross_val_predict` and subsequent scaling as described in previous function followed by calculating the MSE with the true HDI.\n",
    "\n",
    "- **polyfeat** : \n",
    "This function uses `PolynomialFeatures` method from `sklearn` to produce all the polynomial combinations for the features. Here, we limit the degree of the polynomial features to be 2, to prevent exploding the number of features, which implies that our new features would contain the original features and all possible  products of pairs of features for each datapoint."
   ]
  },
  {
   "cell_type": "code",
   "execution_count": 52,
   "metadata": {},
   "outputs": [],
   "source": [
    "def linRegModels(X,Y_scaled,scaler_y,Y):\n",
    "    #Define linear regression model\n",
    "    linReg = LinearRegression()\n",
    "    #5-fold cross val predict to obtain predicted scaled HDI values\n",
    "    Y_pred_scaled = cross_val_predict(linReg,X,Y_scaled,cv=5)\n",
    "    #rescale HDI values using previous scaler\n",
    "    Y_pred_linreg = scaler_y.inverse_transform(Y_pred_scaled)\n",
    "    #Obtain MSE of rescaled values with original HDI\n",
    "    MSELinReg = mean_squared_error(Y_pred_linreg,Y)\n",
    "\n",
    "    #Define Linear Regression Model but with normalization of input\n",
    "    linRegNorm = LinearRegression(normalize=True)\n",
    "    #5-fold cross val predict to obtain predicted scaled HDI values\n",
    "    Y_pred_scaled = cross_val_predict(linRegNorm,X,Y_scaled,cv=5)\n",
    "    #rescale HDI values using previous scaler\n",
    "    Y_pred_linreg_norm = scaler_y.inverse_transform(Y_pred_scaled)\n",
    "    #Obtain MSE of rescaled values with original HDI\n",
    "    MSELinRegNormalized = mean_squared_error(Y_pred_linreg_norm,Y)\n",
    "    \n",
    "    #Define hyperparameter values for alpha\n",
    "    alphas = np.arange(0.01,1,0.01)\n",
    "    #Define 5-fold RidgeCV for hyperparameter tuning\n",
    "    regr_cv = RidgeCV(alphas=alphas,fit_intercept=True,cv=5)\n",
    "    #Fit the hyperparameter tuning to the data to obtain best model\n",
    "    model = regr_cv.fit(X,Y_scaled)\n",
    "    #5-fold cross val predict to obtain predicted scaled HDI values using the best model\n",
    "    Y_pred_scaled = cross_val_predict(model,X, Y_scaled)\n",
    "    #rescale HDI values using previous scaler\n",
    "    Y_pred_ridge = scaler_y.inverse_transform(Y_pred_scaled)\n",
    "    #Obtain MSE of rescaled values with original HDI\n",
    "    MSERidReg = mean_squared_error(Y_pred_ridge,Y)\n",
    "    \n",
    "    #Define 5-fold RidgeCV for hyperparameter tuning with normalization of input\n",
    "    regr_cv_norm = RidgeCV(alphas=alphas,fit_intercept=True,cv=5,normalize=True)\n",
    "    #Fit the hyperparameter tuning to the data to obtain best model\n",
    "    model = regr_cv.fit(X,Y_scaled)\n",
    "    #5-fold cross val predict to obtain predicted scaled HDI values using the best model\n",
    "    Y_pred_scaled = cross_val_predict(model,X, Y_scaled)\n",
    "    #rescale HDI values using previous scaler\n",
    "    Y_pred_ridge_norm = scaler_y.inverse_transform(Y_pred_scaled)\n",
    "    #Obtain MSE of rescaled values with original HDI\n",
    "    MSERidRegNormalized = mean_squared_error(Y_pred_ridge_norm,Y)\n",
    "    \n",
    "    #Output of function is the MSE values and predictions from the 4 models\n",
    "    return Y_pred_linreg,Y_pred_linreg_norm,Y_pred_ridge,Y_pred_ridge_norm,MSELinReg,MSELinRegNormalized,MSERidReg,MSERidRegNormalized"
   ]
  },
  {
   "cell_type": "code",
   "execution_count": 53,
   "metadata": {},
   "outputs": [],
   "source": [
    "def SVRModel(X,Y_scaled,scaler_y,Y):\n",
    "    #Define parameter grid for hyperparameter search\n",
    "    parameters = {'kernel' :['rbf','linear','sigmoid','poly'],'C' : np.exp(np.arange(-6,6))}\n",
    "    #Define regressor\n",
    "    estimator = SVR(gamma = 'auto')\n",
    "    #Define the grid search function on the parameter grid\n",
    "    clf = GridSearchCV(estimator,parameters,cv = 5,iid=True)\n",
    "    #Do hyperparameter tuning on the data to get the best model\n",
    "    model= clf.fit(X, Y_scaled.reshape(-1,))\n",
    "    #5-fold cross val predict to obtain predicted scaled HDI values using the best model\n",
    "    Y_pred_scaled = cross_val_predict(model,X,Y_scaled.reshape(-1,)).reshape(-1,1)\n",
    "    #rescale HDI values using previous scaler\n",
    "    Y_pred = scaler_y.inverse_transform(Y_pred_scaled)\n",
    "    #Obtain MSE of rescaled values with original HDI\n",
    "    MSESVR = mean_squared_error(Y_pred,Y)\n",
    "    return Y_pred,MSESVR"
   ]
  },
  {
   "cell_type": "code",
   "execution_count": 54,
   "metadata": {},
   "outputs": [],
   "source": [
    "def polyfeat(X):\n",
    "    #Define the polynomial feature generator with degree of the polynomial\n",
    "    poly = PolynomialFeatures(2)\n",
    "    #Obtain polynomial features for the given data\n",
    "    X_poly = poly.fit_transform(X)\n",
    "    return X_poly"
   ]
  },
  {
   "cell_type": "code",
   "execution_count": 55,
   "metadata": {},
   "outputs": [
    {
     "name": "stderr",
     "output_type": "stream",
     "text": [
      "/home/stefano/anaconda3/envs/ada/lib/python3.7/site-packages/sklearn/model_selection/_search.py:814: DeprecationWarning: The default of the `iid` parameter will change from True to False in version 0.22 and will be removed in 0.24. This will change numeric results when test-set sizes are unequal.\n",
      "  DeprecationWarning)\n",
      "/home/stefano/anaconda3/envs/ada/lib/python3.7/site-packages/sklearn/model_selection/_split.py:1978: FutureWarning: The default value of cv will change from 3 to 5 in version 0.22. Specify it explicitly to silence this warning.\n",
      "  warnings.warn(CV_WARNING, FutureWarning)\n",
      "/home/stefano/anaconda3/envs/ada/lib/python3.7/site-packages/sklearn/model_selection/_search.py:814: DeprecationWarning: The default of the `iid` parameter will change from True to False in version 0.22 and will be removed in 0.24. This will change numeric results when test-set sizes are unequal.\n",
      "  DeprecationWarning)\n",
      "/home/stefano/anaconda3/envs/ada/lib/python3.7/site-packages/sklearn/model_selection/_search.py:814: DeprecationWarning: The default of the `iid` parameter will change from True to False in version 0.22 and will be removed in 0.24. This will change numeric results when test-set sizes are unequal.\n",
      "  DeprecationWarning)\n",
      "/home/stefano/anaconda3/envs/ada/lib/python3.7/site-packages/sklearn/model_selection/_search.py:814: DeprecationWarning: The default of the `iid` parameter will change from True to False in version 0.22 and will be removed in 0.24. This will change numeric results when test-set sizes are unequal.\n",
      "  DeprecationWarning)\n",
      "/home/stefano/anaconda3/envs/ada/lib/python3.7/site-packages/sklearn/model_selection/_search.py:814: DeprecationWarning: The default of the `iid` parameter will change from True to False in version 0.22 and will be removed in 0.24. This will change numeric results when test-set sizes are unequal.\n",
      "  DeprecationWarning)\n",
      "/home/stefano/anaconda3/envs/ada/lib/python3.7/site-packages/sklearn/model_selection/_split.py:1978: FutureWarning: The default value of cv will change from 3 to 5 in version 0.22. Specify it explicitly to silence this warning.\n",
      "  warnings.warn(CV_WARNING, FutureWarning)\n",
      "/home/stefano/anaconda3/envs/ada/lib/python3.7/site-packages/sklearn/model_selection/_search.py:814: DeprecationWarning: The default of the `iid` parameter will change from True to False in version 0.22 and will be removed in 0.24. This will change numeric results when test-set sizes are unequal.\n",
      "  DeprecationWarning)\n",
      "/home/stefano/anaconda3/envs/ada/lib/python3.7/site-packages/sklearn/model_selection/_search.py:814: DeprecationWarning: The default of the `iid` parameter will change from True to False in version 0.22 and will be removed in 0.24. This will change numeric results when test-set sizes are unequal.\n",
      "  DeprecationWarning)\n",
      "/home/stefano/anaconda3/envs/ada/lib/python3.7/site-packages/sklearn/model_selection/_search.py:814: DeprecationWarning: The default of the `iid` parameter will change from True to False in version 0.22 and will be removed in 0.24. This will change numeric results when test-set sizes are unequal.\n",
      "  DeprecationWarning)\n",
      "/home/stefano/anaconda3/envs/ada/lib/python3.7/site-packages/sklearn/model_selection/_split.py:1978: FutureWarning: The default value of cv will change from 3 to 5 in version 0.22. Specify it explicitly to silence this warning.\n",
      "  warnings.warn(CV_WARNING, FutureWarning)\n",
      "/home/stefano/anaconda3/envs/ada/lib/python3.7/site-packages/sklearn/model_selection/_search.py:814: DeprecationWarning: The default of the `iid` parameter will change from True to False in version 0.22 and will be removed in 0.24. This will change numeric results when test-set sizes are unequal.\n",
      "  DeprecationWarning)\n",
      "/home/stefano/anaconda3/envs/ada/lib/python3.7/site-packages/sklearn/model_selection/_split.py:1978: FutureWarning: The default value of cv will change from 3 to 5 in version 0.22. Specify it explicitly to silence this warning.\n",
      "  warnings.warn(CV_WARNING, FutureWarning)\n",
      "/home/stefano/anaconda3/envs/ada/lib/python3.7/site-packages/sklearn/model_selection/_search.py:814: DeprecationWarning: The default of the `iid` parameter will change from True to False in version 0.22 and will be removed in 0.24. This will change numeric results when test-set sizes are unequal.\n",
      "  DeprecationWarning)\n",
      "/home/stefano/anaconda3/envs/ada/lib/python3.7/site-packages/sklearn/model_selection/_search.py:814: DeprecationWarning: The default of the `iid` parameter will change from True to False in version 0.22 and will be removed in 0.24. This will change numeric results when test-set sizes are unequal.\n",
      "  DeprecationWarning)\n",
      "/home/stefano/anaconda3/envs/ada/lib/python3.7/site-packages/sklearn/model_selection/_search.py:814: DeprecationWarning: The default of the `iid` parameter will change from True to False in version 0.22 and will be removed in 0.24. This will change numeric results when test-set sizes are unequal.\n",
      "  DeprecationWarning)\n",
      "/home/stefano/anaconda3/envs/ada/lib/python3.7/site-packages/sklearn/model_selection/_search.py:814: DeprecationWarning: The default of the `iid` parameter will change from True to False in version 0.22 and will be removed in 0.24. This will change numeric results when test-set sizes are unequal.\n",
      "  DeprecationWarning)\n",
      "/home/stefano/anaconda3/envs/ada/lib/python3.7/site-packages/sklearn/model_selection/_split.py:1978: FutureWarning: The default value of cv will change from 3 to 5 in version 0.22. Specify it explicitly to silence this warning.\n",
      "  warnings.warn(CV_WARNING, FutureWarning)\n",
      "/home/stefano/anaconda3/envs/ada/lib/python3.7/site-packages/sklearn/model_selection/_search.py:814: DeprecationWarning: The default of the `iid` parameter will change from True to False in version 0.22 and will be removed in 0.24. This will change numeric results when test-set sizes are unequal.\n",
      "  DeprecationWarning)\n",
      "/home/stefano/anaconda3/envs/ada/lib/python3.7/site-packages/sklearn/model_selection/_search.py:814: DeprecationWarning: The default of the `iid` parameter will change from True to False in version 0.22 and will be removed in 0.24. This will change numeric results when test-set sizes are unequal.\n",
      "  DeprecationWarning)\n",
      "/home/stefano/anaconda3/envs/ada/lib/python3.7/site-packages/sklearn/model_selection/_search.py:814: DeprecationWarning: The default of the `iid` parameter will change from True to False in version 0.22 and will be removed in 0.24. This will change numeric results when test-set sizes are unequal.\n",
      "  DeprecationWarning)\n"
     ]
    }
   ],
   "source": [
    "#Obtain MSE and predictions for the given dataset on the linear regression models\n",
    "Y_pred_linreg,Y_pred_linreg_norm,Y_pred_ridge,Y_pred_ridge_norm,MSELinReg,MSELinRegNormalized,MSERidReg,MSERidRegNormalized = linRegModels(X_scaled,\\\n",
    "                                                                                                                                           Y_scaled,scaler_y,y)\n",
    "#Obtain MSE and predictions for the given dataset on the SVR model\n",
    "Y_pred_svr,MSESVR = SVRModel(X_scaled,Y_scaled,scaler_y,y)\n",
    "#Add polynomial augmentation to the features\n",
    "X_poly = polyfeat(X_scaled)\n",
    "#Obtain the MSE and predictions for polynomial augmented features on the linear regression models\n",
    "Y_pred_linreg_poly,Y_pred_linreg_norm_poly,Y_pred_ridge_poly,Y_pred_ridge_norm_poly,MSELinRegPoly,MSELinRegPolyNormalized,\\\n",
    "MSERidRegPoly,MSERidRegPolyNormalized = linRegModels(X_scaled,Y_scaled,scaler_y,y)"
   ]
  },
  {
   "cell_type": "markdown",
   "metadata": {},
   "source": [
    "One can note that the total number of features in our model is 31, while the dataset has only 51 states. Further, with polynomial augmentation the number of features becomes around 500. This makes the dataset susceptible to overfitting.\n",
    "To prevent this, we will use `PCA` for dimensionality reduction. We fit a PCA model on the whole dataset to transform and check the explained variance ratio to select the number of PCA components. The explained variance ratio as, the name suggests, is the ratio of the variance of the original dataset explained by the given set of PCA features. Typically, the best number of PCA features should be where the increase in the variance becomes low and the explained variance crosses a large threshold like 80/90%."
   ]
  },
  {
   "cell_type": "code",
   "execution_count": 56,
   "metadata": {},
   "outputs": [
    {
     "data": {
      "image/png": "[encoded data removed]",
      "text/plain": [
       "<Figure size 432x288 with 1 Axes>"
      ]
     },
     "metadata": {
      "needs_background": "light"
     },
     "output_type": "display_data"
    }
   ],
   "source": [
    "#Apply PCA\n",
    "pca = PCA().fit(X_scaled)\n",
    "#Plot the explained variance ratio v/s number of PCA features\n",
    "plt.figure()\n",
    "plt.plot(np.cumsum(pca.explained_variance_ratio_),'o--')\n",
    "plt.xlabel('Number of Components')\n",
    "plt.ylabel('Variance (%)') #for each component\n",
    "plt.title('Dataset Explained Variance')\n",
    "plt.show()"
   ]
  },
  {
   "cell_type": "markdown",
   "metadata": {},
   "source": [
    "We want to select a low number of features (ideally less than 10). We can see that the increase in explained variance ratio of the PCA features becomes low and the explained variance crosses the 90% mark around 8-9 PCA top features . We will select the top 8 PCA features for our dataset and find the predictions according to the `linRegModels` and `SVR`."
   ]
  },
  {
   "cell_type": "code",
   "execution_count": 57,
   "metadata": {},
   "outputs": [
    {
     "name": "stdout",
     "output_type": "stream",
     "text": [
      "Explained Variance Ratio 89.31578299705892\n"
     ]
    },
    {
     "name": "stderr",
     "output_type": "stream",
     "text": [
      "/home/stefano/anaconda3/envs/ada/lib/python3.7/site-packages/sklearn/model_selection/_search.py:814: DeprecationWarning: The default of the `iid` parameter will change from True to False in version 0.22 and will be removed in 0.24. This will change numeric results when test-set sizes are unequal.\n",
      "  DeprecationWarning)\n",
      "/home/stefano/anaconda3/envs/ada/lib/python3.7/site-packages/sklearn/model_selection/_split.py:1978: FutureWarning: The default value of cv will change from 3 to 5 in version 0.22. Specify it explicitly to silence this warning.\n",
      "  warnings.warn(CV_WARNING, FutureWarning)\n",
      "/home/stefano/anaconda3/envs/ada/lib/python3.7/site-packages/sklearn/model_selection/_search.py:814: DeprecationWarning: The default of the `iid` parameter will change from True to False in version 0.22 and will be removed in 0.24. This will change numeric results when test-set sizes are unequal.\n",
      "  DeprecationWarning)\n",
      "/home/stefano/anaconda3/envs/ada/lib/python3.7/site-packages/sklearn/model_selection/_search.py:814: DeprecationWarning: The default of the `iid` parameter will change from True to False in version 0.22 and will be removed in 0.24. This will change numeric results when test-set sizes are unequal.\n",
      "  DeprecationWarning)\n",
      "/home/stefano/anaconda3/envs/ada/lib/python3.7/site-packages/sklearn/model_selection/_search.py:814: DeprecationWarning: The default of the `iid` parameter will change from True to False in version 0.22 and will be removed in 0.24. This will change numeric results when test-set sizes are unequal.\n",
      "  DeprecationWarning)\n",
      "/home/stefano/anaconda3/envs/ada/lib/python3.7/site-packages/sklearn/model_selection/_search.py:814: DeprecationWarning: The default of the `iid` parameter will change from True to False in version 0.22 and will be removed in 0.24. This will change numeric results when test-set sizes are unequal.\n",
      "  DeprecationWarning)\n",
      "/home/stefano/anaconda3/envs/ada/lib/python3.7/site-packages/sklearn/model_selection/_split.py:1978: FutureWarning: The default value of cv will change from 3 to 5 in version 0.22. Specify it explicitly to silence this warning.\n",
      "  warnings.warn(CV_WARNING, FutureWarning)\n",
      "/home/stefano/anaconda3/envs/ada/lib/python3.7/site-packages/sklearn/model_selection/_search.py:814: DeprecationWarning: The default of the `iid` parameter will change from True to False in version 0.22 and will be removed in 0.24. This will change numeric results when test-set sizes are unequal.\n",
      "  DeprecationWarning)\n",
      "/home/stefano/anaconda3/envs/ada/lib/python3.7/site-packages/sklearn/model_selection/_search.py:814: DeprecationWarning: The default of the `iid` parameter will change from True to False in version 0.22 and will be removed in 0.24. This will change numeric results when test-set sizes are unequal.\n",
      "  DeprecationWarning)\n",
      "/home/stefano/anaconda3/envs/ada/lib/python3.7/site-packages/sklearn/model_selection/_search.py:814: DeprecationWarning: The default of the `iid` parameter will change from True to False in version 0.22 and will be removed in 0.24. This will change numeric results when test-set sizes are unequal.\n",
      "  DeprecationWarning)\n",
      "/home/stefano/anaconda3/envs/ada/lib/python3.7/site-packages/sklearn/model_selection/_split.py:1978: FutureWarning: The default value of cv will change from 3 to 5 in version 0.22. Specify it explicitly to silence this warning.\n",
      "  warnings.warn(CV_WARNING, FutureWarning)\n"
     ]
    }
   ],
   "source": [
    "pca = PCA(n_components=8)\n",
    "X_pca = pca.fit_transform(X_scaled)\n",
    "print(\"Explained Variance Ratio {}\".format(100.0*np.sum(pca.explained_variance_ratio_)))\n",
    "\n",
    "#Obtain MSE and predictions for the pca dataset on the linear regression models\n",
    "Y_pred_linreg_pca,Y_pred_linreg_norm_pca,Y_pred_ridge_pca,Y_pred_ridge_norm_pca,MSELinRegPCA,MSELinRegPCANormalized,MSERidRegPCA,MSERidRegPCANormalized = \\\n",
    "    linRegModels(X_pca,Y_scaled,scaler_y,y)\n",
    "#Obtain MSE and predictions for the pca dataset on the SVR model\n",
    "Y_pred_svr_pca,MSESVRPCA = SVRModel(X_pca,Y_scaled,scaler_y,y)\n"
   ]
  },
  {
   "cell_type": "markdown",
   "metadata": {},
   "source": [
    "Further, we apply the same PCA procedure to the polynomial features which we had earlier generated, i.e., we apply PCA to find the top variance components and use these PCA features to learn the best linear regression models."
   ]
  },
  {
   "cell_type": "code",
   "execution_count": 58,
   "metadata": {},
   "outputs": [
    {
     "data": {
      "image/png": "[encoded data removed]",
      "text/plain": [
       "<Figure size 432x288 with 1 Axes>"
      ]
     },
     "metadata": {
      "needs_background": "light"
     },
     "output_type": "display_data"
    }
   ],
   "source": [
    "#Apply PCA\n",
    "pca_poly = PCA().fit(X_poly)\n",
    "#Plot the explained variance ratio v/s number of PCA features\n",
    "plt.figure()\n",
    "plt.plot(np.cumsum(pca_poly.explained_variance_ratio_),'o--')\n",
    "plt.xlabel('Number of Components')\n",
    "plt.ylabel('Variance (%)') #for each component\n",
    "plt.title('Polynomial Dataset Explained Variance')\n",
    "plt.show()"
   ]
  },
  {
   "cell_type": "markdown",
   "metadata": {},
   "source": [
    "Again the increase in explained variance becomes really low and the explained variance crosses the 90% mark around 8 features. For consistency, we will again keep the top 8 PCA features of the polynomial dataset and apply the linear regression models on them."
   ]
  },
  {
   "cell_type": "code",
   "execution_count": 59,
   "metadata": {},
   "outputs": [
    {
     "name": "stdout",
     "output_type": "stream",
     "text": [
      "Explained Variance Ratio 87.46761756772624\n"
     ]
    },
    {
     "name": "stderr",
     "output_type": "stream",
     "text": [
      "/home/stefano/anaconda3/envs/ada/lib/python3.7/site-packages/sklearn/model_selection/_search.py:814: DeprecationWarning: The default of the `iid` parameter will change from True to False in version 0.22 and will be removed in 0.24. This will change numeric results when test-set sizes are unequal.\n",
      "  DeprecationWarning)\n",
      "/home/stefano/anaconda3/envs/ada/lib/python3.7/site-packages/sklearn/model_selection/_split.py:1978: FutureWarning: The default value of cv will change from 3 to 5 in version 0.22. Specify it explicitly to silence this warning.\n",
      "  warnings.warn(CV_WARNING, FutureWarning)\n",
      "/home/stefano/anaconda3/envs/ada/lib/python3.7/site-packages/sklearn/model_selection/_search.py:814: DeprecationWarning: The default of the `iid` parameter will change from True to False in version 0.22 and will be removed in 0.24. This will change numeric results when test-set sizes are unequal.\n",
      "  DeprecationWarning)\n",
      "/home/stefano/anaconda3/envs/ada/lib/python3.7/site-packages/sklearn/model_selection/_search.py:814: DeprecationWarning: The default of the `iid` parameter will change from True to False in version 0.22 and will be removed in 0.24. This will change numeric results when test-set sizes are unequal.\n",
      "  DeprecationWarning)\n",
      "/home/stefano/anaconda3/envs/ada/lib/python3.7/site-packages/sklearn/model_selection/_search.py:814: DeprecationWarning: The default of the `iid` parameter will change from True to False in version 0.22 and will be removed in 0.24. This will change numeric results when test-set sizes are unequal.\n",
      "  DeprecationWarning)\n",
      "/home/stefano/anaconda3/envs/ada/lib/python3.7/site-packages/sklearn/model_selection/_search.py:814: DeprecationWarning: The default of the `iid` parameter will change from True to False in version 0.22 and will be removed in 0.24. This will change numeric results when test-set sizes are unequal.\n",
      "  DeprecationWarning)\n",
      "/home/stefano/anaconda3/envs/ada/lib/python3.7/site-packages/sklearn/model_selection/_split.py:1978: FutureWarning: The default value of cv will change from 3 to 5 in version 0.22. Specify it explicitly to silence this warning.\n",
      "  warnings.warn(CV_WARNING, FutureWarning)\n",
      "/home/stefano/anaconda3/envs/ada/lib/python3.7/site-packages/sklearn/model_selection/_search.py:814: DeprecationWarning: The default of the `iid` parameter will change from True to False in version 0.22 and will be removed in 0.24. This will change numeric results when test-set sizes are unequal.\n",
      "  DeprecationWarning)\n",
      "/home/stefano/anaconda3/envs/ada/lib/python3.7/site-packages/sklearn/model_selection/_search.py:814: DeprecationWarning: The default of the `iid` parameter will change from True to False in version 0.22 and will be removed in 0.24. This will change numeric results when test-set sizes are unequal.\n",
      "  DeprecationWarning)\n",
      "/home/stefano/anaconda3/envs/ada/lib/python3.7/site-packages/sklearn/model_selection/_search.py:814: DeprecationWarning: The default of the `iid` parameter will change from True to False in version 0.22 and will be removed in 0.24. This will change numeric results when test-set sizes are unequal.\n",
      "  DeprecationWarning)\n"
     ]
    }
   ],
   "source": [
    "#Define PCA to select top 8 features\n",
    "pca_poly = PCA(n_components = 8)\n",
    "#Fit PCA model on given polynomial dataset\n",
    "X_poly_pca = pca_poly.fit_transform(X_poly)\n",
    "print(\"Explained Variance Ratio {}\".format(100.0*np.sum(pca_poly.explained_variance_ratio_)))\n",
    "\n",
    "#Obtain MSE and predictions for the polynomial pca dataset on the linear regression models\n",
    "Y_pred_linreg_pca_poly,Y_pred_linreg_norm_pca_poly,Y_pred_ridge_pca_poly,Y_pred_ridge_norm_pca_poly,MSELinRegPolyPCA,MSELinRegPolyPCANormalized,\\\n",
    "    MSERidRegPolyPCA,MSERidRegPolyPCANormalized = linRegModels(X_poly_pca,Y_scaled,scaler_y,y)\n"
   ]
  },
  {
   "cell_type": "markdown",
   "metadata": {},
   "source": [
    "The next approach which we apply is to separate the features into different categories, similar to the ones included in the actual HDI. The broad categories which we could find in our dataset were education, health,security and economy. In a later cell, we define the lists of features for these categories. This break up of features is the first step in creation of a personalized score."
   ]
  },
  {
   "cell_type": "code",
   "execution_count": 60,
   "metadata": {},
   "outputs": [
    {
     "data": {
      "text/plain": [
       "Index(['State', 'HDI', 'awards_per_value', 'exp_award_value',\n",
       "       'High_School_Fee', 'Elementary_School_Fee',\n",
       "       'Colleges_universities_per_1000000', 'Junior_colleges_per_1000000',\n",
       "       'Prof_schools_per_1000000', 'Intensive_top_230_score',\n",
       "       'Life_Expectancy', 'mc_donalds_per_100k', 'eating_vegetables_daily',\n",
       "       'diabetes_prevalence', 'alcohol_prevalence', 'mean_physical_activity',\n",
       "       'mean_obesity', 'Homeless_per_100000', 'Violent_Crime',\n",
       "       'Murder_and_Manslaughter', 'Rape', 'Robbery', 'Aggravated_Assoult',\n",
       "       'Property_crime', 'Burglary', 'Theft', 'Motor_Vehicle_theft',\n",
       "       'Per_capita_income', 'Price_2018_Studio', 'Price_2018_1br',\n",
       "       'Price_2018_2br', 'Price_2018_3br', 'Price_2018_4br'],\n",
       "      dtype='object')"
      ]
     },
     "execution_count": 60,
     "metadata": {},
     "output_type": "execute_result"
    }
   ],
   "source": [
    "#All columns\n",
    "df.columns"
   ]
  },
  {
   "cell_type": "code",
   "execution_count": 61,
   "metadata": {},
   "outputs": [],
   "source": [
    "#List of columns for each category\n",
    "education_list = ['Colleges_universities_per_1000000', 'Junior_colleges_per_1000000', \n",
    "                  'Prof_schools_per_1000000', 'awards_per_value', 'exp_award_value', 'Intensive_top_230_score',\n",
    "                  'High_School_Fee', 'Elementary_School_Fee']\n",
    "health_list = ['Life_Expectancy', 'mc_donalds_per_100k', 'mean_obesity',\n",
    "               'eating_vegetables_daily', 'eating_vegetables_daily', 'diabetes_prevalence', 'alcohol_prevalence',\n",
    "               'mean_physical_activity', 'mean_obesity']\n",
    "security_list = [ 'alcohol_prevalence', 'Homeless_per_100000', 'Violent_Crime',\n",
    "                 'Murder_and_Manslaughter', 'Rape', 'Robbery', 'Aggravated_Assoult', 'Property_crime',\n",
    "                 'Burglary', 'Theft', 'Motor_Vehicle_theft']\n",
    "economy_list = ['Per_capita_income', 'mc_donalds_per_100k', 'Price_2018_Studio',\n",
    "                'Price_2018_1br',  'Price_2018_2br', 'Price_2018_3br', 'Price_2018_4br', 'Homeless_per_100000',\n",
    "                'Elementary_School_Fee', 'High_School_Fee']"
   ]
  },
  {
   "cell_type": "code",
   "execution_count": 62,
   "metadata": {},
   "outputs": [],
   "source": [
    "#Creating a new dataframe for each category based on above lists\n",
    "df_education = df[education_list]\n",
    "df_health = df[health_list]\n",
    "df_security = df[security_list]\n",
    "df_economy = df[economy_list]"
   ]
  },
  {
   "cell_type": "markdown",
   "metadata": {},
   "source": [
    "Now, we would like to represent each of these categories by a few representative features. We will use PCA to select the top-2 features per category.We will also select the top-2 features for these categories after polynomial augmentation. The basic procedure is repeated for each category. We first scale the data features to `[0,1]` then apply polynomial transformation, then fit a PCA model to the original and the polynomial features. "
   ]
  },
  {
   "cell_type": "code",
   "execution_count": 63,
   "metadata": {},
   "outputs": [],
   "source": [
    "#Define PCA for selecting 2 components\n",
    "pca_comp = PCA(n_components=2)"
   ]
  },
  {
   "cell_type": "code",
   "execution_count": 64,
   "metadata": {},
   "outputs": [
    {
     "name": "stdout",
     "output_type": "stream",
     "text": [
      "Explained Variance Ratio for Education 62.50465007041495\n",
      "Explained Variance Ratio for Education Polynomial 60.71425578020898\n",
      "Explained Variance Ratio for Health 79.0778544219737\n",
      "Explained Variance Ratio for Health Polynomial 76.37189248700494\n",
      "Explained Variance Ratio for Security 73.15600156449256\n",
      "Explained Variance Ratio for Security Polynomial 78.03621071804366\n",
      "Explained Variance Ratio for Economy 85.3390763049527\n",
      "Explained Variance Ratio for Economy Polynomial 84.28812277823606\n"
     ]
    }
   ],
   "source": [
    "#Scale data fro each category\n",
    "cat_data_scaled = scaler_x.fit_transform(df_education)\n",
    "#Obtain polynomial features for scaled data\n",
    "cat_data_poly = polyfeat(cat_data_scaled)\n",
    "#Select top2 PCA features from dataset\n",
    "ed_feature = pca_comp.fit_transform(cat_data_scaled)\n",
    "print(\"Explained Variance Ratio for Education {}\".format(100.0*np.sum(pca_comp.explained_variance_ratio_)))\n",
    "ed_feature_poly = pca_comp.fit_transform(cat_data_poly)\n",
    "#Select top2 PCA features from the polynomial dataset\n",
    "print(\"Explained Variance Ratio for Education Polynomial {}\".format(100.0*np.sum(pca_comp.explained_variance_ratio_)))\n",
    "\n",
    "cat_data_scaled = scaler_x.fit_transform(df_health)\n",
    "cat_data_poly = polyfeat(cat_data_scaled)\n",
    "health_feature = pca_comp.fit_transform(cat_data_scaled)\n",
    "print(\"Explained Variance Ratio for Health {}\".format(100.0*np.sum(pca_comp.explained_variance_ratio_)))\n",
    "health_feature_poly = pca_comp.fit_transform(cat_data_poly)\n",
    "print(\"Explained Variance Ratio for Health Polynomial {}\".format(100.0*np.sum(pca_comp.explained_variance_ratio_)))\n",
    "\n",
    "cat_data_scaled = scaler_x.fit_transform(df_security)\n",
    "cat_data_poly = polyfeat(cat_data_scaled)\n",
    "security_feature = pca_comp.fit_transform(cat_data_scaled)\n",
    "print(\"Explained Variance Ratio for Security {}\".format(100.0*np.sum(pca_comp.explained_variance_ratio_)))\n",
    "security_feature_poly = pca_comp.fit_transform(cat_data_poly)\n",
    "print(\"Explained Variance Ratio for Security Polynomial {}\".format(100.0*np.sum(pca_comp.explained_variance_ratio_)))\n",
    "\n",
    "cat_data_scaled = scaler_x.fit_transform(df_economy)\n",
    "cat_data_poly = polyfeat(cat_data_scaled)\n",
    "economy_feature = pca_comp.fit_transform(cat_data_scaled)\n",
    "print(\"Explained Variance Ratio for Economy {}\".format(100.0*np.sum(pca_comp.explained_variance_ratio_)))\n",
    "economy_feature_poly = pca_comp.fit_transform(cat_data_poly)\n",
    "print(\"Explained Variance Ratio for Economy Polynomial {}\".format(100.0*np.sum(pca_comp.explained_variance_ratio_)))"
   ]
  },
  {
   "cell_type": "markdown",
   "metadata": {},
   "source": [
    "We now stack these PCA features for each category into a single dataframe and label the features according to the category to which they belong. We obtain 2 dataframes of 8 features each for the categorical PCA features, one for the original dataset and one for the polynomial dataset."
   ]
  },
  {
   "cell_type": "code",
   "execution_count": 65,
   "metadata": {},
   "outputs": [
    {
     "data": {
      "text/html": [
       "<div>\n",
       "<style scoped>\n",
       "    .dataframe tbody tr th:only-of-type {\n",
       "        vertical-align: middle;\n",
       "    }\n",
       "\n",
       "    .dataframe tbody tr th {\n",
       "        vertical-align: top;\n",
       "    }\n",
       "\n",
       "    .dataframe thead th {\n",
       "        text-align: right;\n",
       "    }\n",
       "</style>\n",
       "<table border=\"1\" class=\"dataframe\">\n",
       "  <thead>\n",
       "    <tr style=\"text-align: right;\">\n",
       "      <th></th>\n",
       "      <th>Education1</th>\n",
       "      <th>Education2</th>\n",
       "      <th>Health1</th>\n",
       "      <th>Health2</th>\n",
       "      <th>Security1</th>\n",
       "      <th>Security2</th>\n",
       "      <th>Economy1</th>\n",
       "      <th>Economy2</th>\n",
       "    </tr>\n",
       "  </thead>\n",
       "  <tbody>\n",
       "    <tr>\n",
       "      <td>0</td>\n",
       "      <td>-0.061339</td>\n",
       "      <td>0.513115</td>\n",
       "      <td>1.088307</td>\n",
       "      <td>-0.062581</td>\n",
       "      <td>0.433261</td>\n",
       "      <td>-0.367167</td>\n",
       "      <td>-0.598539</td>\n",
       "      <td>0.092714</td>\n",
       "    </tr>\n",
       "    <tr>\n",
       "      <td>1</td>\n",
       "      <td>0.432042</td>\n",
       "      <td>0.760459</td>\n",
       "      <td>-0.379155</td>\n",
       "      <td>-0.029016</td>\n",
       "      <td>0.873906</td>\n",
       "      <td>0.312546</td>\n",
       "      <td>0.262529</td>\n",
       "      <td>0.154965</td>\n",
       "    </tr>\n",
       "    <tr>\n",
       "      <td>2</td>\n",
       "      <td>-0.165953</td>\n",
       "      <td>-0.255376</td>\n",
       "      <td>-0.263936</td>\n",
       "      <td>-0.169542</td>\n",
       "      <td>0.257648</td>\n",
       "      <td>-0.068327</td>\n",
       "      <td>0.000072</td>\n",
       "      <td>-0.106452</td>\n",
       "    </tr>\n",
       "    <tr>\n",
       "      <td>3</td>\n",
       "      <td>-0.363724</td>\n",
       "      <td>0.123911</td>\n",
       "      <td>0.951237</td>\n",
       "      <td>0.061179</td>\n",
       "      <td>0.587043</td>\n",
       "      <td>-0.379560</td>\n",
       "      <td>-0.822991</td>\n",
       "      <td>0.262233</td>\n",
       "    </tr>\n",
       "    <tr>\n",
       "      <td>4</td>\n",
       "      <td>0.191362</td>\n",
       "      <td>-0.043042</td>\n",
       "      <td>-0.638627</td>\n",
       "      <td>-0.245933</td>\n",
       "      <td>0.198902</td>\n",
       "      <td>0.097230</td>\n",
       "      <td>1.513492</td>\n",
       "      <td>0.144868</td>\n",
       "    </tr>\n",
       "  </tbody>\n",
       "</table>\n",
       "</div>"
      ],
      "text/plain": [
       "   Education1  Education2   Health1   Health2  Security1  Security2  Economy1  \\\n",
       "0   -0.061339    0.513115  1.088307 -0.062581   0.433261  -0.367167 -0.598539   \n",
       "1    0.432042    0.760459 -0.379155 -0.029016   0.873906   0.312546  0.262529   \n",
       "2   -0.165953   -0.255376 -0.263936 -0.169542   0.257648  -0.068327  0.000072   \n",
       "3   -0.363724    0.123911  0.951237  0.061179   0.587043  -0.379560 -0.822991   \n",
       "4    0.191362   -0.043042 -0.638627 -0.245933   0.198902   0.097230  1.513492   \n",
       "\n",
       "   Economy2  \n",
       "0  0.092714  \n",
       "1  0.154965  \n",
       "2 -0.106452  \n",
       "3  0.262233  \n",
       "4  0.144868  "
      ]
     },
     "execution_count": 65,
     "metadata": {},
     "output_type": "execute_result"
    }
   ],
   "source": [
    "#Stack together all category PCA features from the original dataset.\n",
    "cat_data = pd.DataFrame(data = np.hstack((ed_feature,health_feature,security_feature,economy_feature)),\\\n",
    "                        columns = [\"Education1\",\"Education2\",\"Health1\",\"Health2\",\"Security1\",\"Security2\",\"Economy1\",\"Economy2\"])\n",
    "cat_data.head()"
   ]
  },
  {
   "cell_type": "code",
   "execution_count": 66,
   "metadata": {},
   "outputs": [
    {
     "data": {
      "text/html": [
       "<div>\n",
       "<style scoped>\n",
       "    .dataframe tbody tr th:only-of-type {\n",
       "        vertical-align: middle;\n",
       "    }\n",
       "\n",
       "    .dataframe tbody tr th {\n",
       "        vertical-align: top;\n",
       "    }\n",
       "\n",
       "    .dataframe thead th {\n",
       "        text-align: right;\n",
       "    }\n",
       "</style>\n",
       "<table border=\"1\" class=\"dataframe\">\n",
       "  <thead>\n",
       "    <tr style=\"text-align: right;\">\n",
       "      <th></th>\n",
       "      <th>Education1</th>\n",
       "      <th>Education2</th>\n",
       "      <th>Health1</th>\n",
       "      <th>Health2</th>\n",
       "      <th>Security1</th>\n",
       "      <th>Security2</th>\n",
       "      <th>Economy1</th>\n",
       "      <th>Economy2</th>\n",
       "    </tr>\n",
       "  </thead>\n",
       "  <tbody>\n",
       "    <tr>\n",
       "      <td>0</td>\n",
       "      <td>-0.234265</td>\n",
       "      <td>0.726138</td>\n",
       "      <td>2.207961</td>\n",
       "      <td>-0.245896</td>\n",
       "      <td>0.383725</td>\n",
       "      <td>-0.773390</td>\n",
       "      <td>-1.019010</td>\n",
       "      <td>0.126576</td>\n",
       "    </tr>\n",
       "    <tr>\n",
       "      <td>1</td>\n",
       "      <td>0.296385</td>\n",
       "      <td>1.107946</td>\n",
       "      <td>-0.784043</td>\n",
       "      <td>-0.019102</td>\n",
       "      <td>1.915438</td>\n",
       "      <td>-0.445092</td>\n",
       "      <td>0.223200</td>\n",
       "      <td>0.375014</td>\n",
       "    </tr>\n",
       "    <tr>\n",
       "      <td>2</td>\n",
       "      <td>-0.238208</td>\n",
       "      <td>-0.356223</td>\n",
       "      <td>-0.602901</td>\n",
       "      <td>-0.371477</td>\n",
       "      <td>0.242858</td>\n",
       "      <td>-0.255995</td>\n",
       "      <td>-0.311169</td>\n",
       "      <td>-0.124563</td>\n",
       "    </tr>\n",
       "    <tr>\n",
       "      <td>3</td>\n",
       "      <td>-0.511711</td>\n",
       "      <td>0.127025</td>\n",
       "      <td>2.038143</td>\n",
       "      <td>0.182909</td>\n",
       "      <td>0.687991</td>\n",
       "      <td>-1.092182</td>\n",
       "      <td>-1.219438</td>\n",
       "      <td>0.309602</td>\n",
       "    </tr>\n",
       "    <tr>\n",
       "      <td>4</td>\n",
       "      <td>0.203676</td>\n",
       "      <td>0.075505</td>\n",
       "      <td>-1.210237</td>\n",
       "      <td>-0.535429</td>\n",
       "      <td>0.234804</td>\n",
       "      <td>-0.046877</td>\n",
       "      <td>3.403326</td>\n",
       "      <td>0.688932</td>\n",
       "    </tr>\n",
       "  </tbody>\n",
       "</table>\n",
       "</div>"
      ],
      "text/plain": [
       "   Education1  Education2   Health1   Health2  Security1  Security2  Economy1  \\\n",
       "0   -0.234265    0.726138  2.207961 -0.245896   0.383725  -0.773390 -1.019010   \n",
       "1    0.296385    1.107946 -0.784043 -0.019102   1.915438  -0.445092  0.223200   \n",
       "2   -0.238208   -0.356223 -0.602901 -0.371477   0.242858  -0.255995 -0.311169   \n",
       "3   -0.511711    0.127025  2.038143  0.182909   0.687991  -1.092182 -1.219438   \n",
       "4    0.203676    0.075505 -1.210237 -0.535429   0.234804  -0.046877  3.403326   \n",
       "\n",
       "   Economy2  \n",
       "0  0.126576  \n",
       "1  0.375014  \n",
       "2 -0.124563  \n",
       "3  0.309602  \n",
       "4  0.688932  "
      ]
     },
     "execution_count": 66,
     "metadata": {},
     "output_type": "execute_result"
    }
   ],
   "source": [
    "#Stack together all category PCA features from the polynomial dataset\n",
    "cat_data_poly = pd.DataFrame(data = np.hstack((ed_feature_poly,health_feature_poly,security_feature_poly,economy_feature_poly)),\\\n",
    "                        columns = [\"Education1\",\"Education2\",\"Health1\",\"Health2\",\"Security1\",\"Security2\",\"Economy1\",\"Economy2\"])\n",
    "cat_data_poly.head()"
   ]
  },
  {
   "cell_type": "markdown",
   "metadata": {},
   "source": [
    "We will use the two datasets defined above as the features for all our ML models. Thus, we find predictions on the linear regression models on both categorical features and categorical features after polynomial augmentation. Further, we will use the `SVRModel` with the categorical features"
   ]
  },
  {
   "cell_type": "code",
   "execution_count": 67,
   "metadata": {},
   "outputs": [
    {
     "name": "stderr",
     "output_type": "stream",
     "text": [
      "/home/stefano/anaconda3/envs/ada/lib/python3.7/site-packages/sklearn/model_selection/_search.py:814: DeprecationWarning: The default of the `iid` parameter will change from True to False in version 0.22 and will be removed in 0.24. This will change numeric results when test-set sizes are unequal.\n",
      "  DeprecationWarning)\n",
      "/home/stefano/anaconda3/envs/ada/lib/python3.7/site-packages/sklearn/model_selection/_split.py:1978: FutureWarning: The default value of cv will change from 3 to 5 in version 0.22. Specify it explicitly to silence this warning.\n",
      "  warnings.warn(CV_WARNING, FutureWarning)\n",
      "/home/stefano/anaconda3/envs/ada/lib/python3.7/site-packages/sklearn/model_selection/_search.py:814: DeprecationWarning: The default of the `iid` parameter will change from True to False in version 0.22 and will be removed in 0.24. This will change numeric results when test-set sizes are unequal.\n",
      "  DeprecationWarning)\n",
      "/home/stefano/anaconda3/envs/ada/lib/python3.7/site-packages/sklearn/model_selection/_search.py:814: DeprecationWarning: The default of the `iid` parameter will change from True to False in version 0.22 and will be removed in 0.24. This will change numeric results when test-set sizes are unequal.\n",
      "  DeprecationWarning)\n",
      "/home/stefano/anaconda3/envs/ada/lib/python3.7/site-packages/sklearn/model_selection/_search.py:814: DeprecationWarning: The default of the `iid` parameter will change from True to False in version 0.22 and will be removed in 0.24. This will change numeric results when test-set sizes are unequal.\n",
      "  DeprecationWarning)\n",
      "/home/stefano/anaconda3/envs/ada/lib/python3.7/site-packages/sklearn/model_selection/_search.py:814: DeprecationWarning: The default of the `iid` parameter will change from True to False in version 0.22 and will be removed in 0.24. This will change numeric results when test-set sizes are unequal.\n",
      "  DeprecationWarning)\n",
      "/home/stefano/anaconda3/envs/ada/lib/python3.7/site-packages/sklearn/model_selection/_split.py:1978: FutureWarning: The default value of cv will change from 3 to 5 in version 0.22. Specify it explicitly to silence this warning.\n",
      "  warnings.warn(CV_WARNING, FutureWarning)\n",
      "/home/stefano/anaconda3/envs/ada/lib/python3.7/site-packages/sklearn/model_selection/_search.py:814: DeprecationWarning: The default of the `iid` parameter will change from True to False in version 0.22 and will be removed in 0.24. This will change numeric results when test-set sizes are unequal.\n",
      "  DeprecationWarning)\n",
      "/home/stefano/anaconda3/envs/ada/lib/python3.7/site-packages/sklearn/model_selection/_search.py:814: DeprecationWarning: The default of the `iid` parameter will change from True to False in version 0.22 and will be removed in 0.24. This will change numeric results when test-set sizes are unequal.\n",
      "  DeprecationWarning)\n",
      "/home/stefano/anaconda3/envs/ada/lib/python3.7/site-packages/sklearn/model_selection/_search.py:814: DeprecationWarning: The default of the `iid` parameter will change from True to False in version 0.22 and will be removed in 0.24. This will change numeric results when test-set sizes are unequal.\n",
      "  DeprecationWarning)\n",
      "/home/stefano/anaconda3/envs/ada/lib/python3.7/site-packages/sklearn/model_selection/_search.py:814: DeprecationWarning: The default of the `iid` parameter will change from True to False in version 0.22 and will be removed in 0.24. This will change numeric results when test-set sizes are unequal.\n",
      "  DeprecationWarning)\n",
      "/home/stefano/anaconda3/envs/ada/lib/python3.7/site-packages/sklearn/model_selection/_split.py:1978: FutureWarning: The default value of cv will change from 3 to 5 in version 0.22. Specify it explicitly to silence this warning.\n",
      "  warnings.warn(CV_WARNING, FutureWarning)\n",
      "/home/stefano/anaconda3/envs/ada/lib/python3.7/site-packages/sklearn/model_selection/_search.py:814: DeprecationWarning: The default of the `iid` parameter will change from True to False in version 0.22 and will be removed in 0.24. This will change numeric results when test-set sizes are unequal.\n",
      "  DeprecationWarning)\n",
      "/home/stefano/anaconda3/envs/ada/lib/python3.7/site-packages/sklearn/model_selection/_search.py:814: DeprecationWarning: The default of the `iid` parameter will change from True to False in version 0.22 and will be removed in 0.24. This will change numeric results when test-set sizes are unequal.\n",
      "  DeprecationWarning)\n",
      "/home/stefano/anaconda3/envs/ada/lib/python3.7/site-packages/sklearn/model_selection/_search.py:814: DeprecationWarning: The default of the `iid` parameter will change from True to False in version 0.22 and will be removed in 0.24. This will change numeric results when test-set sizes are unequal.\n",
      "  DeprecationWarning)\n",
      "/home/stefano/anaconda3/envs/ada/lib/python3.7/site-packages/sklearn/model_selection/_search.py:814: DeprecationWarning: The default of the `iid` parameter will change from True to False in version 0.22 and will be removed in 0.24. This will change numeric results when test-set sizes are unequal.\n",
      "  DeprecationWarning)\n",
      "/home/stefano/anaconda3/envs/ada/lib/python3.7/site-packages/sklearn/model_selection/_split.py:1978: FutureWarning: The default value of cv will change from 3 to 5 in version 0.22. Specify it explicitly to silence this warning.\n",
      "  warnings.warn(CV_WARNING, FutureWarning)\n",
      "/home/stefano/anaconda3/envs/ada/lib/python3.7/site-packages/sklearn/model_selection/_search.py:814: DeprecationWarning: The default of the `iid` parameter will change from True to False in version 0.22 and will be removed in 0.24. This will change numeric results when test-set sizes are unequal.\n",
      "  DeprecationWarning)\n",
      "/home/stefano/anaconda3/envs/ada/lib/python3.7/site-packages/sklearn/model_selection/_search.py:814: DeprecationWarning: The default of the `iid` parameter will change from True to False in version 0.22 and will be removed in 0.24. This will change numeric results when test-set sizes are unequal.\n",
      "  DeprecationWarning)\n",
      "/home/stefano/anaconda3/envs/ada/lib/python3.7/site-packages/sklearn/model_selection/_search.py:814: DeprecationWarning: The default of the `iid` parameter will change from True to False in version 0.22 and will be removed in 0.24. This will change numeric results when test-set sizes are unequal.\n",
      "  DeprecationWarning)\n",
      "/home/stefano/anaconda3/envs/ada/lib/python3.7/site-packages/sklearn/model_selection/_split.py:1978: FutureWarning: The default value of cv will change from 3 to 5 in version 0.22. Specify it explicitly to silence this warning.\n",
      "  warnings.warn(CV_WARNING, FutureWarning)\n"
     ]
    }
   ],
   "source": [
    "#Convert the per category PCA dataframes to numpy arrays\n",
    "X_cat = cat_data.values\n",
    "X_cat_poly = cat_data_poly.values\n",
    "\n",
    "#Obtain MSE and predictions on linear regression models with category PCA features\n",
    "Y_pred_linreg_all2pca,Y_pred_linreg_norm_all2pca,Y_pred_ridreg_all2pca,Y_pred_ridreg_norm_all2pca,MSELinRegAll2PCA,MSELinRegAll2PCANormalized,\\\n",
    "    MSERidRegAll2PCA,MSERidRegAll2PCANormalized = linRegModels(X_cat,Y_scaled,scaler_y,y)\n",
    "\n",
    "#Obtain MSE and predictions on linear regression models with category PCA features with polynomial augmentation\n",
    "Y_pred_linreg_all2pca_poly,Y_pred_linreg_norm_all2pca_poly,Y_pred_ridreg_all2pca_poly,Y_pred_ridreg_norm_all2pca_poly,MSELinRegAll2PCAPoly,\\\n",
    "    MSELinRegAll2PCAPolyNormalized,MSERidRegAll2PCAPoly,MSERidRegAll2PCAPolyNormalized = linRegModels(X_cat_poly,Y_scaled,scaler_y,y)\n",
    "\n",
    "#Obtain MSE and predictions on SVR with category PCA features\n",
    "Y_pred_SVR_all2pca,MSESVRAll2PCA = SVRModel(X_cat,Y_scaled,scaler_y,y)"
   ]
  },
  {
   "cell_type": "markdown",
   "metadata": {},
   "source": [
    "Note that the actual HDI score is obtained from the life expectancy, expected years of schooling and per capita income. We do not have the expected years of schooling explicitly defined in our dataset, however, we do have life expectancy and per capita income. We try to test the quality of our remaining features in predicting the HDI by removing the life expectancy and income from the set of input features. More specifically, we will remove these features from the category lists (income is in the economy list while life expectancy is in the health list). After removing these features from the categories, we perform a similar procedure as before ( original features (+ poly augmentation)-> pca -> ML models -> MSE and predictions). Also, since education and security lists aren't modified by this process, we perform the above procedure only for health and economy features"
   ]
  },
  {
   "cell_type": "code",
   "execution_count": 68,
   "metadata": {},
   "outputs": [
    {
     "data": {
      "text/html": [
       "<div>\n",
       "<style scoped>\n",
       "    .dataframe tbody tr th:only-of-type {\n",
       "        vertical-align: middle;\n",
       "    }\n",
       "\n",
       "    .dataframe tbody tr th {\n",
       "        vertical-align: top;\n",
       "    }\n",
       "\n",
       "    .dataframe thead th {\n",
       "        text-align: right;\n",
       "    }\n",
       "</style>\n",
       "<table border=\"1\" class=\"dataframe\">\n",
       "  <thead>\n",
       "    <tr style=\"text-align: right;\">\n",
       "      <th></th>\n",
       "      <th>State</th>\n",
       "      <th>HDI</th>\n",
       "      <th>awards_per_value</th>\n",
       "      <th>exp_award_value</th>\n",
       "      <th>High_School_Fee</th>\n",
       "      <th>Elementary_School_Fee</th>\n",
       "      <th>Colleges_universities_per_1000000</th>\n",
       "      <th>Junior_colleges_per_1000000</th>\n",
       "      <th>Prof_schools_per_1000000</th>\n",
       "      <th>Intensive_top_230_score</th>\n",
       "      <th>...</th>\n",
       "      <th>Property_crime</th>\n",
       "      <th>Burglary</th>\n",
       "      <th>Theft</th>\n",
       "      <th>Motor_Vehicle_theft</th>\n",
       "      <th>Per_capita_income</th>\n",
       "      <th>Price_2018_Studio</th>\n",
       "      <th>Price_2018_1br</th>\n",
       "      <th>Price_2018_2br</th>\n",
       "      <th>Price_2018_3br</th>\n",
       "      <th>Price_2018_4br</th>\n",
       "    </tr>\n",
       "  </thead>\n",
       "  <tbody>\n",
       "    <tr>\n",
       "      <td>1</td>\n",
       "      <td>alabama</td>\n",
       "      <td>0.882</td>\n",
       "      <td>19.514493</td>\n",
       "      <td>63013.173913</td>\n",
       "      <td>7718.0</td>\n",
       "      <td>6388.0</td>\n",
       "      <td>8.592698</td>\n",
       "      <td>7.365170</td>\n",
       "      <td>3.273409</td>\n",
       "      <td>74.879227</td>\n",
       "      <td>...</td>\n",
       "      <td>2947.8</td>\n",
       "      <td>700.5</td>\n",
       "      <td>2006.3</td>\n",
       "      <td>241.1</td>\n",
       "      <td>38215.0</td>\n",
       "      <td>605.416667</td>\n",
       "      <td>659.000000</td>\n",
       "      <td>800.666667</td>\n",
       "      <td>1069.666667</td>\n",
       "      <td>1244.333333</td>\n",
       "    </tr>\n",
       "    <tr>\n",
       "      <td>2</td>\n",
       "      <td>alaska</td>\n",
       "      <td>0.942</td>\n",
       "      <td>18.414286</td>\n",
       "      <td>141431.142857</td>\n",
       "      <td>6118.0</td>\n",
       "      <td>7544.0</td>\n",
       "      <td>8.136277</td>\n",
       "      <td>1.356046</td>\n",
       "      <td>2.712092</td>\n",
       "      <td>39.325340</td>\n",
       "      <td>...</td>\n",
       "      <td>3353.0</td>\n",
       "      <td>546.3</td>\n",
       "      <td>2394.7</td>\n",
       "      <td>412.1</td>\n",
       "      <td>54430.0</td>\n",
       "      <td>814.333333</td>\n",
       "      <td>930.500000</td>\n",
       "      <td>1190.333333</td>\n",
       "      <td>1682.166667</td>\n",
       "      <td>2019.500000</td>\n",
       "    </tr>\n",
       "    <tr>\n",
       "      <td>3</td>\n",
       "      <td>arizona</td>\n",
       "      <td>0.912</td>\n",
       "      <td>25.563492</td>\n",
       "      <td>47830.888889</td>\n",
       "      <td>17339.0</td>\n",
       "      <td>6283.0</td>\n",
       "      <td>6.414148</td>\n",
       "      <td>5.995834</td>\n",
       "      <td>5.856396</td>\n",
       "      <td>29.142543</td>\n",
       "      <td>...</td>\n",
       "      <td>2978.4</td>\n",
       "      <td>544.4</td>\n",
       "      <td>2168.1</td>\n",
       "      <td>265.8</td>\n",
       "      <td>39955.0</td>\n",
       "      <td>701.000000</td>\n",
       "      <td>828.000000</td>\n",
       "      <td>1046.000000</td>\n",
       "      <td>1512.333333</td>\n",
       "      <td>1754.416667</td>\n",
       "    </tr>\n",
       "    <tr>\n",
       "      <td>4</td>\n",
       "      <td>arkansas</td>\n",
       "      <td>0.882</td>\n",
       "      <td>21.970833</td>\n",
       "      <td>51132.479167</td>\n",
       "      <td>6680.0</td>\n",
       "      <td>4698.0</td>\n",
       "      <td>8.626911</td>\n",
       "      <td>8.626911</td>\n",
       "      <td>10.617737</td>\n",
       "      <td>31.853210</td>\n",
       "      <td>...</td>\n",
       "      <td>3268.6</td>\n",
       "      <td>795.5</td>\n",
       "      <td>2233.6</td>\n",
       "      <td>239.4</td>\n",
       "      <td>39171.0</td>\n",
       "      <td>524.666667</td>\n",
       "      <td>571.166667</td>\n",
       "      <td>721.416667</td>\n",
       "      <td>977.583333</td>\n",
       "      <td>1144.833333</td>\n",
       "    </tr>\n",
       "    <tr>\n",
       "      <td>5</td>\n",
       "      <td>california</td>\n",
       "      <td>0.934</td>\n",
       "      <td>22.771429</td>\n",
       "      <td>63022.202857</td>\n",
       "      <td>19317.0</td>\n",
       "      <td>11363.0</td>\n",
       "      <td>6.673906</td>\n",
       "      <td>4.828470</td>\n",
       "      <td>6.041907</td>\n",
       "      <td>77.457758</td>\n",
       "      <td>...</td>\n",
       "      <td>2553.0</td>\n",
       "      <td>479.8</td>\n",
       "      <td>1623.0</td>\n",
       "      <td>450.3</td>\n",
       "      <td>54800.0</td>\n",
       "      <td>1212.333333</td>\n",
       "      <td>1426.333333</td>\n",
       "      <td>1818.916667</td>\n",
       "      <td>2519.250000</td>\n",
       "      <td>2926.333333</td>\n",
       "    </tr>\n",
       "  </tbody>\n",
       "</table>\n",
       "<p>5 rows × 33 columns</p>\n",
       "</div>"
      ],
      "text/plain": [
       "        State    HDI  awards_per_value  exp_award_value  High_School_Fee  \\\n",
       "1     alabama  0.882         19.514493     63013.173913           7718.0   \n",
       "2      alaska  0.942         18.414286    141431.142857           6118.0   \n",
       "3     arizona  0.912         25.563492     47830.888889          17339.0   \n",
       "4    arkansas  0.882         21.970833     51132.479167           6680.0   \n",
       "5  california  0.934         22.771429     63022.202857          19317.0   \n",
       "\n",
       "   Elementary_School_Fee  Colleges_universities_per_1000000  \\\n",
       "1                 6388.0                           8.592698   \n",
       "2                 7544.0                           8.136277   \n",
       "3                 6283.0                           6.414148   \n",
       "4                 4698.0                           8.626911   \n",
       "5                11363.0                           6.673906   \n",
       "\n",
       "   Junior_colleges_per_1000000  Prof_schools_per_1000000  \\\n",
       "1                     7.365170                  3.273409   \n",
       "2                     1.356046                  2.712092   \n",
       "3                     5.995834                  5.856396   \n",
       "4                     8.626911                 10.617737   \n",
       "5                     4.828470                  6.041907   \n",
       "\n",
       "   Intensive_top_230_score  ...  Property_crime  Burglary   Theft  \\\n",
       "1                74.879227  ...          2947.8     700.5  2006.3   \n",
       "2                39.325340  ...          3353.0     546.3  2394.7   \n",
       "3                29.142543  ...          2978.4     544.4  2168.1   \n",
       "4                31.853210  ...          3268.6     795.5  2233.6   \n",
       "5                77.457758  ...          2553.0     479.8  1623.0   \n",
       "\n",
       "   Motor_Vehicle_theft  Per_capita_income  Price_2018_Studio  Price_2018_1br  \\\n",
       "1                241.1            38215.0         605.416667      659.000000   \n",
       "2                412.1            54430.0         814.333333      930.500000   \n",
       "3                265.8            39955.0         701.000000      828.000000   \n",
       "4                239.4            39171.0         524.666667      571.166667   \n",
       "5                450.3            54800.0        1212.333333     1426.333333   \n",
       "\n",
       "   Price_2018_2br  Price_2018_3br  Price_2018_4br  \n",
       "1      800.666667     1069.666667     1244.333333  \n",
       "2     1190.333333     1682.166667     2019.500000  \n",
       "3     1046.000000     1512.333333     1754.416667  \n",
       "4      721.416667      977.583333     1144.833333  \n",
       "5     1818.916667     2519.250000     2926.333333  \n",
       "\n",
       "[5 rows x 33 columns]"
      ]
     },
     "execution_count": 68,
     "metadata": {},
     "output_type": "execute_result"
    }
   ],
   "source": [
    "df.head()"
   ]
  },
  {
   "cell_type": "code",
   "execution_count": 69,
   "metadata": {},
   "outputs": [],
   "source": [
    "#Store the income and life expectancy values\n",
    "income = df[['Per_capita_income']].values\n",
    "life_exp = df[['Life_Expectancy']].values"
   ]
  },
  {
   "cell_type": "code",
   "execution_count": 70,
   "metadata": {},
   "outputs": [
    {
     "name": "stdout",
     "output_type": "stream",
     "text": [
      "Explained Variance Ratio for Health 79.2968469507313\n",
      "Explained Variance Ratio for Health Polynomial 78.64262506487249\n",
      "Explained Variance Ratio for Economy86.96693742286679\n",
      "Explained Variance Ratio for Economy Polynomial 84.5827307788389\n"
     ]
    }
   ],
   "source": [
    "#Drop the life expectancy from health and scale \n",
    "cat_data_scaled = scaler_x.fit_transform(df_health.drop(columns=['Life_Expectancy']))\n",
    "#Obtain polynomial features\n",
    "cat_data_poly = polyfeat(cat_data_scaled)\n",
    "#Find top2 PCA components\n",
    "health_feature = pca_comp.fit_transform(cat_data_scaled)\n",
    "print(\"Explained Variance Ratio for Health {}\".format(100.0*np.sum(pca_comp.explained_variance_ratio_)))\n",
    "#Find top2 PCA features for polynomial augmentation\n",
    "health_feature_poly = pca_comp.fit_transform(cat_data_poly)\n",
    "print(\"Explained Variance Ratio for Health Polynomial {}\".format(100.0*np.sum(pca_comp.explained_variance_ratio_)))\n",
    "\n",
    "#Drop per capita income from economy\n",
    "cat_data_scaled = scaler_x.fit_transform(df_economy.drop(columns=['Per_capita_income']))\n",
    "#Obtain polynomial features\n",
    "cat_data_poly = polyfeat(cat_data_scaled)\n",
    "#Find top2 PCA components\n",
    "economy_feature = pca_comp.fit_transform(cat_data_scaled)\n",
    "print(\"Explained Variance Ratio for Economy{}\".format(100.0*np.sum(pca_comp.explained_variance_ratio_)))\n",
    "#Find top2 PCA features for polynomial augmentation\n",
    "economy_feature_poly = pca_comp.fit_transform(cat_data_poly)\n",
    "print(\"Explained Variance Ratio for Economy Polynomial {}\".format(100.0*np.sum(pca_comp.explained_variance_ratio_)))"
   ]
  },
  {
   "cell_type": "markdown",
   "metadata": {},
   "source": [
    "Now, we stack these new PCA features to obtain categorical features and categorical features for polynomial augmentation."
   ]
  },
  {
   "cell_type": "code",
   "execution_count": 71,
   "metadata": {},
   "outputs": [
    {
     "data": {
      "text/html": [
       "<div>\n",
       "<style scoped>\n",
       "    .dataframe tbody tr th:only-of-type {\n",
       "        vertical-align: middle;\n",
       "    }\n",
       "\n",
       "    .dataframe tbody tr th {\n",
       "        vertical-align: top;\n",
       "    }\n",
       "\n",
       "    .dataframe thead th {\n",
       "        text-align: right;\n",
       "    }\n",
       "</style>\n",
       "<table border=\"1\" class=\"dataframe\">\n",
       "  <thead>\n",
       "    <tr style=\"text-align: right;\">\n",
       "      <th></th>\n",
       "      <th>Education1</th>\n",
       "      <th>Education2</th>\n",
       "      <th>Health1</th>\n",
       "      <th>Health2</th>\n",
       "      <th>Security1</th>\n",
       "      <th>Security2</th>\n",
       "      <th>Economy1</th>\n",
       "      <th>Economy2</th>\n",
       "    </tr>\n",
       "  </thead>\n",
       "  <tbody>\n",
       "    <tr>\n",
       "      <td>0</td>\n",
       "      <td>-0.061339</td>\n",
       "      <td>0.513115</td>\n",
       "      <td>0.958057</td>\n",
       "      <td>-0.069199</td>\n",
       "      <td>0.433261</td>\n",
       "      <td>-0.367167</td>\n",
       "      <td>-0.552107</td>\n",
       "      <td>0.079055</td>\n",
       "    </tr>\n",
       "    <tr>\n",
       "      <td>1</td>\n",
       "      <td>0.432042</td>\n",
       "      <td>0.760459</td>\n",
       "      <td>-0.369344</td>\n",
       "      <td>0.009942</td>\n",
       "      <td>0.873906</td>\n",
       "      <td>0.312546</td>\n",
       "      <td>0.218339</td>\n",
       "      <td>0.166402</td>\n",
       "    </tr>\n",
       "    <tr>\n",
       "      <td>2</td>\n",
       "      <td>-0.165953</td>\n",
       "      <td>-0.255376</td>\n",
       "      <td>-0.281465</td>\n",
       "      <td>-0.155203</td>\n",
       "      <td>0.257648</td>\n",
       "      <td>-0.068327</td>\n",
       "      <td>0.053149</td>\n",
       "      <td>-0.146409</td>\n",
       "    </tr>\n",
       "    <tr>\n",
       "      <td>3</td>\n",
       "      <td>-0.363724</td>\n",
       "      <td>0.123911</td>\n",
       "      <td>0.861096</td>\n",
       "      <td>0.143015</td>\n",
       "      <td>0.587043</td>\n",
       "      <td>-0.379560</td>\n",
       "      <td>-0.790969</td>\n",
       "      <td>0.274767</td>\n",
       "    </tr>\n",
       "    <tr>\n",
       "      <td>4</td>\n",
       "      <td>0.191362</td>\n",
       "      <td>-0.043042</td>\n",
       "      <td>-0.569011</td>\n",
       "      <td>-0.347160</td>\n",
       "      <td>0.198902</td>\n",
       "      <td>0.097230</td>\n",
       "      <td>1.509679</td>\n",
       "      <td>0.091519</td>\n",
       "    </tr>\n",
       "  </tbody>\n",
       "</table>\n",
       "</div>"
      ],
      "text/plain": [
       "   Education1  Education2   Health1   Health2  Security1  Security2  Economy1  \\\n",
       "0   -0.061339    0.513115  0.958057 -0.069199   0.433261  -0.367167 -0.552107   \n",
       "1    0.432042    0.760459 -0.369344  0.009942   0.873906   0.312546  0.218339   \n",
       "2   -0.165953   -0.255376 -0.281465 -0.155203   0.257648  -0.068327  0.053149   \n",
       "3   -0.363724    0.123911  0.861096  0.143015   0.587043  -0.379560 -0.790969   \n",
       "4    0.191362   -0.043042 -0.569011 -0.347160   0.198902   0.097230  1.509679   \n",
       "\n",
       "   Economy2  \n",
       "0  0.079055  \n",
       "1  0.166402  \n",
       "2 -0.146409  \n",
       "3  0.274767  \n",
       "4  0.091519  "
      ]
     },
     "execution_count": 71,
     "metadata": {},
     "output_type": "execute_result"
    }
   ],
   "source": [
    "#Stack all category PCA features into a single dataframe\n",
    "cat_data = pd.DataFrame(data = np.hstack((ed_feature,health_feature,security_feature,economy_feature)),\\\n",
    "                        columns = [\"Education1\",\"Education2\",\"Health1\",\"Health2\",\"Security1\",\"Security2\",\"Economy1\",\"Economy2\"])\n",
    "cat_data.head()"
   ]
  },
  {
   "cell_type": "code",
   "execution_count": 72,
   "metadata": {},
   "outputs": [
    {
     "data": {
      "text/html": [
       "<div>\n",
       "<style scoped>\n",
       "    .dataframe tbody tr th:only-of-type {\n",
       "        vertical-align: middle;\n",
       "    }\n",
       "\n",
       "    .dataframe tbody tr th {\n",
       "        vertical-align: top;\n",
       "    }\n",
       "\n",
       "    .dataframe thead th {\n",
       "        text-align: right;\n",
       "    }\n",
       "</style>\n",
       "<table border=\"1\" class=\"dataframe\">\n",
       "  <thead>\n",
       "    <tr style=\"text-align: right;\">\n",
       "      <th></th>\n",
       "      <th>Education1</th>\n",
       "      <th>Education2</th>\n",
       "      <th>Health1</th>\n",
       "      <th>Health2</th>\n",
       "      <th>Security1</th>\n",
       "      <th>Security2</th>\n",
       "      <th>Economy1</th>\n",
       "      <th>Economy2</th>\n",
       "    </tr>\n",
       "  </thead>\n",
       "  <tbody>\n",
       "    <tr>\n",
       "      <td>0</td>\n",
       "      <td>-0.234265</td>\n",
       "      <td>0.726138</td>\n",
       "      <td>2.031441</td>\n",
       "      <td>-0.253199</td>\n",
       "      <td>0.383725</td>\n",
       "      <td>-0.773390</td>\n",
       "      <td>-0.917066</td>\n",
       "      <td>0.141252</td>\n",
       "    </tr>\n",
       "    <tr>\n",
       "      <td>1</td>\n",
       "      <td>0.296385</td>\n",
       "      <td>1.107946</td>\n",
       "      <td>-0.764564</td>\n",
       "      <td>0.053603</td>\n",
       "      <td>1.915438</td>\n",
       "      <td>-0.445092</td>\n",
       "      <td>0.132148</td>\n",
       "      <td>0.345512</td>\n",
       "    </tr>\n",
       "    <tr>\n",
       "      <td>2</td>\n",
       "      <td>-0.238208</td>\n",
       "      <td>-0.356223</td>\n",
       "      <td>-0.658363</td>\n",
       "      <td>-0.276478</td>\n",
       "      <td>0.242858</td>\n",
       "      <td>-0.255995</td>\n",
       "      <td>-0.189328</td>\n",
       "      <td>-0.224558</td>\n",
       "    </tr>\n",
       "    <tr>\n",
       "      <td>3</td>\n",
       "      <td>-0.511711</td>\n",
       "      <td>0.127025</td>\n",
       "      <td>1.915518</td>\n",
       "      <td>0.230547</td>\n",
       "      <td>0.687991</td>\n",
       "      <td>-1.092182</td>\n",
       "      <td>-1.135741</td>\n",
       "      <td>0.409409</td>\n",
       "    </tr>\n",
       "    <tr>\n",
       "      <td>4</td>\n",
       "      <td>0.203676</td>\n",
       "      <td>0.075505</td>\n",
       "      <td>-1.101718</td>\n",
       "      <td>-0.548636</td>\n",
       "      <td>0.234804</td>\n",
       "      <td>-0.046877</td>\n",
       "      <td>3.330682</td>\n",
       "      <td>0.386827</td>\n",
       "    </tr>\n",
       "  </tbody>\n",
       "</table>\n",
       "</div>"
      ],
      "text/plain": [
       "   Education1  Education2   Health1   Health2  Security1  Security2  Economy1  \\\n",
       "0   -0.234265    0.726138  2.031441 -0.253199   0.383725  -0.773390 -0.917066   \n",
       "1    0.296385    1.107946 -0.764564  0.053603   1.915438  -0.445092  0.132148   \n",
       "2   -0.238208   -0.356223 -0.658363 -0.276478   0.242858  -0.255995 -0.189328   \n",
       "3   -0.511711    0.127025  1.915518  0.230547   0.687991  -1.092182 -1.135741   \n",
       "4    0.203676    0.075505 -1.101718 -0.548636   0.234804  -0.046877  3.330682   \n",
       "\n",
       "   Economy2  \n",
       "0  0.141252  \n",
       "1  0.345512  \n",
       "2 -0.224558  \n",
       "3  0.409409  \n",
       "4  0.386827  "
      ]
     },
     "execution_count": 72,
     "metadata": {},
     "output_type": "execute_result"
    }
   ],
   "source": [
    "#stack all category PCA features from polynomial augmentation into single dataframe\n",
    "cat_data_poly = pd.DataFrame(data = np.hstack((ed_feature_poly,health_feature_poly,security_feature_poly,economy_feature_poly)),\\\n",
    "                        columns = [\"Education1\",\"Education2\",\"Health1\",\"Health2\",\"Security1\",\"Security2\",\"Economy1\",\"Economy2\"])\n",
    "cat_data_poly.head()"
   ]
  },
  {
   "cell_type": "markdown",
   "metadata": {},
   "source": [
    "Apply ML models on these new dataframes"
   ]
  },
  {
   "cell_type": "code",
   "execution_count": 73,
   "metadata": {},
   "outputs": [
    {
     "name": "stderr",
     "output_type": "stream",
     "text": [
      "/home/stefano/anaconda3/envs/ada/lib/python3.7/site-packages/sklearn/model_selection/_search.py:814: DeprecationWarning: The default of the `iid` parameter will change from True to False in version 0.22 and will be removed in 0.24. This will change numeric results when test-set sizes are unequal.\n",
      "  DeprecationWarning)\n",
      "/home/stefano/anaconda3/envs/ada/lib/python3.7/site-packages/sklearn/model_selection/_split.py:1978: FutureWarning: The default value of cv will change from 3 to 5 in version 0.22. Specify it explicitly to silence this warning.\n",
      "  warnings.warn(CV_WARNING, FutureWarning)\n",
      "/home/stefano/anaconda3/envs/ada/lib/python3.7/site-packages/sklearn/model_selection/_search.py:814: DeprecationWarning: The default of the `iid` parameter will change from True to False in version 0.22 and will be removed in 0.24. This will change numeric results when test-set sizes are unequal.\n",
      "  DeprecationWarning)\n",
      "/home/stefano/anaconda3/envs/ada/lib/python3.7/site-packages/sklearn/model_selection/_search.py:814: DeprecationWarning: The default of the `iid` parameter will change from True to False in version 0.22 and will be removed in 0.24. This will change numeric results when test-set sizes are unequal.\n",
      "  DeprecationWarning)\n",
      "/home/stefano/anaconda3/envs/ada/lib/python3.7/site-packages/sklearn/model_selection/_search.py:814: DeprecationWarning: The default of the `iid` parameter will change from True to False in version 0.22 and will be removed in 0.24. This will change numeric results when test-set sizes are unequal.\n",
      "  DeprecationWarning)\n",
      "/home/stefano/anaconda3/envs/ada/lib/python3.7/site-packages/sklearn/model_selection/_search.py:814: DeprecationWarning: The default of the `iid` parameter will change from True to False in version 0.22 and will be removed in 0.24. This will change numeric results when test-set sizes are unequal.\n",
      "  DeprecationWarning)\n",
      "/home/stefano/anaconda3/envs/ada/lib/python3.7/site-packages/sklearn/model_selection/_split.py:1978: FutureWarning: The default value of cv will change from 3 to 5 in version 0.22. Specify it explicitly to silence this warning.\n",
      "  warnings.warn(CV_WARNING, FutureWarning)\n",
      "/home/stefano/anaconda3/envs/ada/lib/python3.7/site-packages/sklearn/model_selection/_search.py:814: DeprecationWarning: The default of the `iid` parameter will change from True to False in version 0.22 and will be removed in 0.24. This will change numeric results when test-set sizes are unequal.\n",
      "  DeprecationWarning)\n",
      "/home/stefano/anaconda3/envs/ada/lib/python3.7/site-packages/sklearn/model_selection/_search.py:814: DeprecationWarning: The default of the `iid` parameter will change from True to False in version 0.22 and will be removed in 0.24. This will change numeric results when test-set sizes are unequal.\n",
      "  DeprecationWarning)\n",
      "/home/stefano/anaconda3/envs/ada/lib/python3.7/site-packages/sklearn/model_selection/_search.py:814: DeprecationWarning: The default of the `iid` parameter will change from True to False in version 0.22 and will be removed in 0.24. This will change numeric results when test-set sizes are unequal.\n",
      "  DeprecationWarning)\n",
      "/home/stefano/anaconda3/envs/ada/lib/python3.7/site-packages/sklearn/model_selection/_search.py:814: DeprecationWarning: The default of the `iid` parameter will change from True to False in version 0.22 and will be removed in 0.24. This will change numeric results when test-set sizes are unequal.\n",
      "  DeprecationWarning)\n",
      "/home/stefano/anaconda3/envs/ada/lib/python3.7/site-packages/sklearn/model_selection/_split.py:1978: FutureWarning: The default value of cv will change from 3 to 5 in version 0.22. Specify it explicitly to silence this warning.\n",
      "  warnings.warn(CV_WARNING, FutureWarning)\n",
      "/home/stefano/anaconda3/envs/ada/lib/python3.7/site-packages/sklearn/model_selection/_search.py:814: DeprecationWarning: The default of the `iid` parameter will change from True to False in version 0.22 and will be removed in 0.24. This will change numeric results when test-set sizes are unequal.\n",
      "  DeprecationWarning)\n",
      "/home/stefano/anaconda3/envs/ada/lib/python3.7/site-packages/sklearn/model_selection/_search.py:814: DeprecationWarning: The default of the `iid` parameter will change from True to False in version 0.22 and will be removed in 0.24. This will change numeric results when test-set sizes are unequal.\n",
      "  DeprecationWarning)\n",
      "/home/stefano/anaconda3/envs/ada/lib/python3.7/site-packages/sklearn/model_selection/_search.py:814: DeprecationWarning: The default of the `iid` parameter will change from True to False in version 0.22 and will be removed in 0.24. This will change numeric results when test-set sizes are unequal.\n",
      "  DeprecationWarning)\n",
      "/home/stefano/anaconda3/envs/ada/lib/python3.7/site-packages/sklearn/model_selection/_search.py:814: DeprecationWarning: The default of the `iid` parameter will change from True to False in version 0.22 and will be removed in 0.24. This will change numeric results when test-set sizes are unequal.\n",
      "  DeprecationWarning)\n",
      "/home/stefano/anaconda3/envs/ada/lib/python3.7/site-packages/sklearn/model_selection/_split.py:1978: FutureWarning: The default value of cv will change from 3 to 5 in version 0.22. Specify it explicitly to silence this warning.\n",
      "  warnings.warn(CV_WARNING, FutureWarning)\n",
      "/home/stefano/anaconda3/envs/ada/lib/python3.7/site-packages/sklearn/model_selection/_search.py:814: DeprecationWarning: The default of the `iid` parameter will change from True to False in version 0.22 and will be removed in 0.24. This will change numeric results when test-set sizes are unequal.\n",
      "  DeprecationWarning)\n",
      "/home/stefano/anaconda3/envs/ada/lib/python3.7/site-packages/sklearn/model_selection/_search.py:814: DeprecationWarning: The default of the `iid` parameter will change from True to False in version 0.22 and will be removed in 0.24. This will change numeric results when test-set sizes are unequal.\n",
      "  DeprecationWarning)\n",
      "/home/stefano/anaconda3/envs/ada/lib/python3.7/site-packages/sklearn/model_selection/_search.py:814: DeprecationWarning: The default of the `iid` parameter will change from True to False in version 0.22 and will be removed in 0.24. This will change numeric results when test-set sizes are unequal.\n",
      "  DeprecationWarning)\n",
      "/home/stefano/anaconda3/envs/ada/lib/python3.7/site-packages/sklearn/model_selection/_split.py:1978: FutureWarning: The default value of cv will change from 3 to 5 in version 0.22. Specify it explicitly to silence this warning.\n",
      "  warnings.warn(CV_WARNING, FutureWarning)\n"
     ]
    }
   ],
   "source": [
    "#Convert the per category PCA dataframes to numpy arrays\n",
    "X_cat = cat_data.values\n",
    "X_cat_poly = cat_data_poly.values\n",
    "\n",
    "#Obtain MSE and predictions on linear regression models with category PCA features\n",
    "Y_pred_linreg_rob2pca,Y_pred_linreg_norm_rob2pca,Y_pred_ridreg_rob2pca,Y_pred_ridreg_norm_rob2pca,MSELinRegRob2PCA,MSELinRegRob2PCANormalized,\\\n",
    "    MSERidRegRob2PCA,MSERidRegRob2PCANormalized = linRegModels(X_cat,Y_scaled,scaler_y,y)\n",
    "\n",
    "#Obtain MSE and predictions on linear regression models with category PCA features with polynomial augmentation\n",
    "Y_pred_linreg_rob2pca_poly,Y_pred_linreg_norm_rob2pca_poly,Y_pred_ridreg_rob2pca_poly,Y_pred_ridreg_norm_rob2pca_poly,MSELinRegRob2PCAPoly,\\\n",
    "    MSELinRegRob2PCAPolyNormalized,MSERidRegRob2PCAPoly,MSERidRegRob2PCAPolyNormalized = linRegModels(X_cat_poly,Y_scaled,scaler_y,y)\n",
    "\n",
    "#Obtain MSE and predictions on SVR with category PCA features\n",
    "Y_pred_SVR_rob2pca,MSESVRRob2PCA = SVRModel(X_cat,Y_scaled,scaler_y,y)"
   ]
  },
  {
   "cell_type": "markdown",
   "metadata": {},
   "source": [
    "### Personalization : Weighting linear Regression\n",
    "We define the following mathematical formulation for weighting features. Our first weighting function defined in `change_weights`. We apply this weigt functions to only the linear regression estimators on the 8 categorical features without income and life expectancy.\n",
    "It takes an estimator fitted on the data, then changes the coeffcients according to our user supplied weights. The weights supplied to the function is a 4-size array containing real number weights for each of the 2 categories. We repeat each weight twice to get 8 weights. Then, each coefficient of the learned model is multiplied by the term `exp(weight - mean_weight)`, where `mean_weight` is the mean of all weights. Then, using these new weights, we predict the new personalized  HDI scores, which are scaled back using the original scaling for true HDI values. There are a few key points to consider here,\n",
    "\n",
    "- Weighting Procedure downweighs (multiplies by a number less than 1) those features which have weights lower than the mean and upweighs (multiplies by a number greater than 1) for features with weights higher than the mean. When all weights are equal, each weight is 1, thus the actual predictor is used.\n",
    "\n",
    "- The output HDI values are not always between 0.8-1 as was the case for the actual HDI values. This is especially observed when the weights differ by much. Thus when comparing these new \"weighted HDI\" values, we measure their relative values instead of their absolute values. Thus, the range of user-defined weights is set between 1-4 with a difference of 1. This can also easily be integrated with sliders.\n"
   ]
  },
  {
   "cell_type": "code",
   "execution_count": 74,
   "metadata": {},
   "outputs": [
    {
     "data": {
      "text/plain": [
       "LinearRegression(copy_X=True, fit_intercept=True, n_jobs=None, normalize=False)"
      ]
     },
     "execution_count": 74,
     "metadata": {},
     "output_type": "execute_result"
    }
   ],
   "source": [
    "# Fit a linear regression model\n",
    "linReg = LinearRegression()\n",
    "linReg.fit(X_cat,Y_scaled)"
   ]
  },
  {
   "cell_type": "code",
   "execution_count": 75,
   "metadata": {},
   "outputs": [],
   "source": [
    "#Changing weights:\n",
    "def change_weights(X,estimator,weights,scaling):\n",
    "    #Obtain coefficients of estimator\n",
    "    coef = estimator.coef_\n",
    "    #Repeat weights\n",
    "    weights_repeated = np.repeat(weights,2)\n",
    "    #Obtain mean\n",
    "    weights_mean = weights_repeated.mean()\n",
    "    #Obtain new weights\n",
    "    weights_new = np.exp(weights_repeated)/np.exp(weights_mean)\n",
    "    #Change coefficients according to new weights\n",
    "    coef_weighted = coef * weights_new.T\n",
    "    estimator.coef_ = coef_weighted\n",
    "    #Find predictions according to new weighted estimator \n",
    "    Y_pred_scaled= estimator.predict(X)\n",
    "    #Scale the weighted predictions back to HDI range\n",
    "    Y_pred = scaling.inverse_transform(Y_pred_scaled)\n",
    "    #Reset the coefficients of estimator to original\n",
    "    estimator.coef_ = coef\n",
    "    return Y_pred"
   ]
  },
  {
   "cell_type": "code",
   "execution_count": 76,
   "metadata": {},
   "outputs": [],
   "source": [
    "#Define some weights\n",
    "#Weight order : Education, Health, Security, Economy\n",
    "weights = np.array([1,4,3,2])\n",
    "Y_pred_weights = change_weights(X_cat,linReg,weights,scaler_y)\n"
   ]
  },
  {
   "cell_type": "markdown",
   "metadata": {},
   "source": [
    "Note that our results are not as expected because of the inherent correlation between features. Thus, even when we weigh one category, like health, we should ideally weigh all correlated features accordingly. We thus define a new weighting procedure, taking the correlations into account. Note that we can have a large correlation (around 0.6-0.7) for 2 features of different categories. The new weighting procedure multiplies the repeated weights defined by the user with the correlation matrix with absolute correlation values. Thus, even if a feature has a low weight defined by user, if its correlation is high to a high user-weighted feature, it will have a high weight. Taking absolute values allows for high negative correlated features to share weights."
   ]
  },
  {
   "cell_type": "code",
   "execution_count": 77,
   "metadata": {},
   "outputs": [
    {
     "data": {
      "text/html": [
       "<div>\n",
       "<style scoped>\n",
       "    .dataframe tbody tr th:only-of-type {\n",
       "        vertical-align: middle;\n",
       "    }\n",
       "\n",
       "    .dataframe tbody tr th {\n",
       "        vertical-align: top;\n",
       "    }\n",
       "\n",
       "    .dataframe thead th {\n",
       "        text-align: right;\n",
       "    }\n",
       "</style>\n",
       "<table border=\"1\" class=\"dataframe\">\n",
       "  <thead>\n",
       "    <tr style=\"text-align: right;\">\n",
       "      <th></th>\n",
       "      <th>Education1</th>\n",
       "      <th>Education2</th>\n",
       "      <th>Health1</th>\n",
       "      <th>Health2</th>\n",
       "      <th>Security1</th>\n",
       "      <th>Security2</th>\n",
       "      <th>Economy1</th>\n",
       "      <th>Economy2</th>\n",
       "    </tr>\n",
       "  </thead>\n",
       "  <tbody>\n",
       "    <tr>\n",
       "      <td>Education1</td>\n",
       "      <td>1.000000e+00</td>\n",
       "      <td>3.199435e-17</td>\n",
       "      <td>-5.797141e-01</td>\n",
       "      <td>-1.696284e-01</td>\n",
       "      <td>1.873790e-02</td>\n",
       "      <td>6.355851e-01</td>\n",
       "      <td>7.684316e-01</td>\n",
       "      <td>-1.627932e-01</td>\n",
       "    </tr>\n",
       "    <tr>\n",
       "      <td>Education2</td>\n",
       "      <td>3.199435e-17</td>\n",
       "      <td>1.000000e+00</td>\n",
       "      <td>1.693227e-01</td>\n",
       "      <td>7.804090e-02</td>\n",
       "      <td>4.041890e-01</td>\n",
       "      <td>-4.805490e-02</td>\n",
       "      <td>-1.540703e-01</td>\n",
       "      <td>3.234738e-01</td>\n",
       "    </tr>\n",
       "    <tr>\n",
       "      <td>Health1</td>\n",
       "      <td>-5.797141e-01</td>\n",
       "      <td>1.693227e-01</td>\n",
       "      <td>1.000000e+00</td>\n",
       "      <td>-1.007563e-16</td>\n",
       "      <td>2.210202e-01</td>\n",
       "      <td>-7.129365e-01</td>\n",
       "      <td>-6.772312e-01</td>\n",
       "      <td>2.511425e-01</td>\n",
       "    </tr>\n",
       "    <tr>\n",
       "      <td>Health2</td>\n",
       "      <td>-1.696284e-01</td>\n",
       "      <td>7.804090e-02</td>\n",
       "      <td>-1.007563e-16</td>\n",
       "      <td>1.000000e+00</td>\n",
       "      <td>-2.220812e-01</td>\n",
       "      <td>3.663269e-01</td>\n",
       "      <td>-3.660539e-01</td>\n",
       "      <td>1.025798e-01</td>\n",
       "    </tr>\n",
       "    <tr>\n",
       "      <td>Security1</td>\n",
       "      <td>1.873790e-02</td>\n",
       "      <td>4.041890e-01</td>\n",
       "      <td>2.210202e-01</td>\n",
       "      <td>-2.220812e-01</td>\n",
       "      <td>1.000000e+00</td>\n",
       "      <td>-4.348565e-16</td>\n",
       "      <td>-1.085847e-03</td>\n",
       "      <td>5.423222e-01</td>\n",
       "    </tr>\n",
       "    <tr>\n",
       "      <td>Security2</td>\n",
       "      <td>6.355851e-01</td>\n",
       "      <td>-4.805490e-02</td>\n",
       "      <td>-7.129365e-01</td>\n",
       "      <td>3.663269e-01</td>\n",
       "      <td>-4.348565e-16</td>\n",
       "      <td>1.000000e+00</td>\n",
       "      <td>5.494648e-01</td>\n",
       "      <td>3.090583e-03</td>\n",
       "    </tr>\n",
       "    <tr>\n",
       "      <td>Economy1</td>\n",
       "      <td>7.684316e-01</td>\n",
       "      <td>-1.540703e-01</td>\n",
       "      <td>-6.772312e-01</td>\n",
       "      <td>-3.660539e-01</td>\n",
       "      <td>-1.085847e-03</td>\n",
       "      <td>5.494648e-01</td>\n",
       "      <td>1.000000e+00</td>\n",
       "      <td>-1.465970e-17</td>\n",
       "    </tr>\n",
       "    <tr>\n",
       "      <td>Economy2</td>\n",
       "      <td>-1.627932e-01</td>\n",
       "      <td>3.234738e-01</td>\n",
       "      <td>2.511425e-01</td>\n",
       "      <td>1.025798e-01</td>\n",
       "      <td>5.423222e-01</td>\n",
       "      <td>3.090583e-03</td>\n",
       "      <td>-1.465970e-17</td>\n",
       "      <td>1.000000e+00</td>\n",
       "    </tr>\n",
       "  </tbody>\n",
       "</table>\n",
       "</div>"
      ],
      "text/plain": [
       "              Education1    Education2       Health1       Health2  \\\n",
       "Education1  1.000000e+00  3.199435e-17 -5.797141e-01 -1.696284e-01   \n",
       "Education2  3.199435e-17  1.000000e+00  1.693227e-01  7.804090e-02   \n",
       "Health1    -5.797141e-01  1.693227e-01  1.000000e+00 -1.007563e-16   \n",
       "Health2    -1.696284e-01  7.804090e-02 -1.007563e-16  1.000000e+00   \n",
       "Security1   1.873790e-02  4.041890e-01  2.210202e-01 -2.220812e-01   \n",
       "Security2   6.355851e-01 -4.805490e-02 -7.129365e-01  3.663269e-01   \n",
       "Economy1    7.684316e-01 -1.540703e-01 -6.772312e-01 -3.660539e-01   \n",
       "Economy2   -1.627932e-01  3.234738e-01  2.511425e-01  1.025798e-01   \n",
       "\n",
       "               Security1     Security2      Economy1      Economy2  \n",
       "Education1  1.873790e-02  6.355851e-01  7.684316e-01 -1.627932e-01  \n",
       "Education2  4.041890e-01 -4.805490e-02 -1.540703e-01  3.234738e-01  \n",
       "Health1     2.210202e-01 -7.129365e-01 -6.772312e-01  2.511425e-01  \n",
       "Health2    -2.220812e-01  3.663269e-01 -3.660539e-01  1.025798e-01  \n",
       "Security1   1.000000e+00 -4.348565e-16 -1.085847e-03  5.423222e-01  \n",
       "Security2  -4.348565e-16  1.000000e+00  5.494648e-01  3.090583e-03  \n",
       "Economy1   -1.085847e-03  5.494648e-01  1.000000e+00 -1.465970e-17  \n",
       "Economy2    5.423222e-01  3.090583e-03 -1.465970e-17  1.000000e+00  "
      ]
     },
     "execution_count": 77,
     "metadata": {},
     "output_type": "execute_result"
    }
   ],
   "source": [
    "cat_data.corr()"
   ]
  },
  {
   "cell_type": "code",
   "execution_count": 78,
   "metadata": {},
   "outputs": [],
   "source": [
    "#Store correlation\n",
    "corr = np.abs(cat_data.corr().values)"
   ]
  },
  {
   "cell_type": "code",
   "execution_count": 79,
   "metadata": {},
   "outputs": [],
   "source": [
    "#Changing weights according to correlation:\n",
    "def change_weights_corr(X,estimator,weights,scaling,corr):\n",
    "    #Obtain coefficients of estimator\n",
    "    coef = estimator.coef_\n",
    "    #Repeat weights\n",
    "    weights_repeated = np.repeat(weights,2)\n",
    "    #Multiply by correlation matrix\n",
    "    weights_new = corr @ weights_repeated\n",
    "    #Obtain mean\n",
    "    weights_mean = weights_new.mean()\n",
    "    #Obtain new weights\n",
    "    weights_new = np.exp(weights_new)/np.exp(weights_mean).reshape(-1,1)\n",
    "    #Change coefficients according to new weights\n",
    "    coef_weighted = coef * weights_new.T\n",
    "    estimator.coef_ = coef_weighted\n",
    "    #Find predictions according to new weighted estimator \n",
    "    Y_pred_scaled= estimator.predict(X)\n",
    "    #Scale the weighted predictions back to HDI range\n",
    "    Y_pred = scaling.inverse_transform(Y_pred_scaled)\n",
    "    #Reset the coefficients of estimator to original\n",
    "    estimator.coef_ = coef\n",
    "    return Y_pred"
   ]
  },
  {
   "cell_type": "code",
   "execution_count": 80,
   "metadata": {},
   "outputs": [],
   "source": [
    "#Obtain new weighted predictions\n",
    "Y_pred_weights_corr = change_weights_corr(X_cat,linReg,weights,scaler_y,corr)"
   ]
  },
  {
   "cell_type": "markdown",
   "metadata": {},
   "source": [
    "# Visualization:"
   ]
  },
  {
   "cell_type": "markdown",
   "metadata": {},
   "source": [
    "First, we will compare the different models:"
   ]
  },
  {
   "cell_type": "code",
   "execution_count": 81,
   "metadata": {},
   "outputs": [],
   "source": [
    "withoutNormalization = {'MSELinReg': MSELinReg, 'MSELinRegPoly': MSELinRegPoly, 'MSERidReg': MSERidReg,\\\n",
    "                        'MSERidRegPoly': MSERidRegPoly, 'MSELinRegPCA': MSELinRegPCA, 'MSELinRegPolyPCA': MSELinRegPolyPCA,\\\n",
    "                        'MSERidRegPCA': MSERidRegPCA, 'MSERidRegPolyPCA': MSERidRegPolyPCA}\n",
    "\n",
    "withNormalization = {'MSELinRegNormalized': MSELinRegNormalized, 'MSELinRegPolyNormalized': MSELinRegPolyNormalized,\\\n",
    "                        'MSERidRegNormalized': MSERidRegNormalized, 'MSERidRegPolyNormalized': MSERidRegPolyNormalized,\\\n",
    "                        'MSELinRegPCANormalized': MSELinRegPCANormalized, 'MSELinRegPolyPCANormalized': MSELinRegPolyPCANormalized,\\\n",
    "                        'MSERidRegPCANormalized': MSERidRegPCANormalized, 'MSERidRegPolyPCANormalized': MSERidRegPolyPCANormalized}"
   ]
  },
  {
   "cell_type": "code",
   "execution_count": 82,
   "metadata": {},
   "outputs": [
    {
     "data": {
      "image/png": "[encoded data removed]",
      "text/plain": [
       "<Figure size 1440x720 with 1 Axes>"
      ]
     },
     "metadata": {
      "needs_background": "light"
     },
     "output_type": "display_data"
    }
   ],
   "source": [
    "#here we compare linear regression and ridge regression (with/without normalization and with/without PCA)\n",
    "plt.figure(figsize=(20,10))\n",
    "plt.title(\"What is the best model between linear regression and ridge regression ?\")\n",
    "plt.ylabel(\"MSE\")\n",
    "barWidth = 0.25\n",
    "r1 = np.arange(len(withoutNormalization))\n",
    "r2 = [x + barWidth for x in r1]\n",
    "plt.bar(r1, withoutNormalization.values(), width=0.15) \n",
    "plt.bar(r2, withNormalization.values(), width=0.15) \n",
    "plt.xticks([r + barWidth/2 for r in range(len(withoutNormalization))], withoutNormalization, \n",
    "           rotation=45)\n",
    "plt.gca().legend(('without normalization', 'with normalization'))\n",
    "plt.show()"
   ]
  },
  {
   "cell_type": "markdown",
   "metadata": {},
   "source": [
    "First of all, we directly see that ridge regression with polynomial expansion gives the lowest mean square error. The second lowest MSE is ~3.64 times higher!  \n",
    "It is important to notice that even with PCA applied, ridge regression with polynomial expansion still gives one of the best results (among the one with PCA applied) with an MSE of 0.00010719844617705647 while the best model is of 0.00010135941361386338 so it's MSE is only ~1.06 times higher thant the best one.  \n",
    "\n",
    "So, since ridge regression with polynomial expansion gives the best results and is also robust when we remove some information (with PCA), we would prefere this model rather than linear regression or other variant of ridge regression in our prediction task!\n",
    "\n",
    "From the bar plot, we can see that in most of the cases, the 'normalize' parameter is insignificant. The only exception is when we use linear regression with polynomial expansion. We can deduce that polynomial expansion and normalization shouldn't be combined in a linear regression model.    \n",
    "Another strange observation is the fact that linear regression **with PCA** gives better results than **without PCA**. Our guess about this is that the dataset is noisy and then not suitable for a model designed for linearly separable data. The PCA removes part of the noise by combining some original features, making the dataset more separable and thus linear regression, then gives better performances.\n"
   ]
  },
  {
   "cell_type": "code",
   "execution_count": 83,
   "metadata": {},
   "outputs": [
    {
     "name": "stdout",
     "output_type": "stream",
     "text": [
      "Ridge regression with polynomial expansion has an MSE of 8.695444203772742e-05 while SVR has an MSE of 0.00011091139767442275, making his loss 1.275511579112899 times bigger. We will thus prefer ridge regression with polynomial expansion.\n"
     ]
    }
   ],
   "source": [
    "#here we compare ridge regression with SVR\n",
    "print(\"Ridge regression with polynomial expansion has an MSE of \"+str(MSERidRegPoly) +\" while SVR has an MSE of \"+str(MSESVR)+\\\n",
    "      \", making his loss \"+str(MSESVR/MSERidRegPoly)+\" times bigger. We will thus prefer ridge regression with polynomial expansion.\")\n"
   ]
  },
  {
   "cell_type": "markdown",
   "metadata": {},
   "source": [
    "Now that we have choose our model, we will look at its prediction."
   ]
  },
  {
   "cell_type": "code",
   "execution_count": 84,
   "metadata": {},
   "outputs": [
    {
     "data": {
      "image/png": "[encoded data removed]",
      "text/plain": [
       "<Figure size 1440x720 with 1 Axes>"
      ]
     },
     "metadata": {
      "needs_background": "light"
     },
     "output_type": "display_data"
    }
   ],
   "source": [
    "#here we compare true HDI with predicted HDI\n",
    "plt.figure(figsize=(20,10))\n",
    "plt.title(\"Comparaison prediction and true HDI for linear regression without normalization using all features\")\n",
    "plt.ylabel(\"HDI\")\n",
    "barWidth = 0.25\n",
    "r1 = np.arange(len(Y_pred_linreg))\n",
    "r2 = [x + barWidth for x in r1]\n",
    "plt.bar(r1, y, width=0.15) \n",
    "plt.bar(r2, Y_pred_linreg.reshape(len(Y_pred_linreg)), width=0.15) \n",
    "plt.xticks([r + barWidth/2 for r in range(len(Y_pred_linreg))], df.State, \n",
    "           rotation='vertical')\n",
    "plt.gca().legend(('true HDI', 'predicted HDI'))\n",
    "plt.show()"
   ]
  },
  {
   "cell_type": "markdown",
   "metadata": {},
   "source": [
    "We can see that the prediction is good. But are there some outliers (i.e. some states with really bad prediction) ?"
   ]
  },
  {
   "cell_type": "code",
   "execution_count": 85,
   "metadata": {},
   "outputs": [
    {
     "data": {
      "image/png": "[encoded data removed]",
      "text/plain": [
       "<Figure size 432x288 with 1 Axes>"
      ]
     },
     "metadata": {
      "needs_background": "light"
     },
     "output_type": "display_data"
    },
    {
     "name": "stdout",
     "output_type": "stream",
     "text": [
      "The mean of the difference is of : -0.000450381815506417\n",
      "The standard devition is of : 0.024868096967045124\n"
     ]
    }
   ],
   "source": [
    "from scipy.interpolate import UnivariateSpline\n",
    "\n",
    "differenceTable = y - Y_pred_linreg.reshape(len(Y_pred_linreg))\n",
    "\n",
    "plt.title(\"Difference true HDI and predicted HDI.\")\n",
    "plt.xlabel(\"true HDI - predicted HDI\")\n",
    "plt.ylabel(\"nbr of states\")\n",
    "plt.hist(differenceTable, bins=5)\n",
    "p, x = np.histogram(differenceTable, bins=5)\n",
    "x = x[:-1] + (x[1] - x[0])/2   # convert bin edges to centers\n",
    "f = UnivariateSpline(x, p, s=5)\n",
    "plt.plot(x, f(x))\n",
    "plt.show()\n",
    "print(\"The mean of the difference is of : \"+str(differenceTable.mean()))\n",
    "print(\"The standard devition is of : \"+str(np.std(differenceTable)))"
   ]
  },
  {
   "cell_type": "markdown",
   "metadata": {},
   "source": [
    "We can see that there are no outliers and that the difference repartition is centered around '0' which is good since otherwise it would mean that there is a bias in our prediction."
   ]
  },
  {
   "cell_type": "markdown",
   "metadata": {},
   "source": [
    "# Visualize results when we apply 2 PCA on each classes"
   ]
  },
  {
   "cell_type": "code",
   "execution_count": 86,
   "metadata": {},
   "outputs": [
    {
     "data": {
      "text/plain": [
       "[('Rid. reg.', 0.00014104652579302392),\n",
       " ('Normalized rig. reg.', 0.00014104652579302392),\n",
       " ('SVR', 0.00014140148776549204),\n",
       " ('Rid. reg. with poly. expans.', 0.00015437103856785517),\n",
       " ('Normalized rid. reg. with poly. expans.', 0.00015437103856785517),\n",
       " ('Normalized lin. reg. with poly. expans.', 0.00015482917409911738),\n",
       " ('Lin. reg. with poly. expans.', 0.00015482917409911752),\n",
       " ('Lin. reg.', 0.00016049025591942308),\n",
       " ('Normalized lin. reg.', 0.0001604902559194231)]"
      ]
     },
     "execution_count": 86,
     "metadata": {},
     "output_type": "execute_result"
    }
   ],
   "source": [
    "MSEDict = {'Lin. reg.': MSELinRegAll2PCA, 'Normalized lin. reg.': MSELinRegAll2PCANormalized,\\\n",
    "           'Lin. reg. with poly. expans.': MSELinRegAll2PCAPoly, 'Normalized lin. reg. with poly. expans.': MSELinRegAll2PCAPolyNormalized,\\\n",
    "          'Rid. reg.': MSERidRegAll2PCA, 'Normalized rig. reg.': MSERidRegAll2PCANormalized, 'Rid. reg. with poly. expans.': MSERidRegAll2PCAPoly,\\\n",
    "          'Normalized rid. reg. with poly. expans.': MSERidRegAll2PCAPolyNormalized, 'SVR': MSESVRAll2PCA}\n",
    "MSEDict = sorted(MSEDict.items(), key=lambda x: x[1])\n",
    "MSEDict"
   ]
  },
  {
   "cell_type": "code",
   "execution_count": 106,
   "metadata": {},
   "outputs": [
    {
     "data": {
      "application/vnd.plotly.v1+json": {
       "config": {
        "plotlyServerURL": "https://plot.ly"
       },
       "data": [
        {
         "name": "Mean Squared Error",
         "type": "bar",
         "x": [
          "Rid. reg.",
          "Normalized rig. reg.",
          "SVR",
          "Rid. reg. with poly. expans.",
          "Normalized rid. reg. with poly. expans.",
          "Normalized lin. reg. with poly. expans.",
          "Lin. reg. with poly. expans.",
          "Lin. reg.",
          "Normalized lin. reg."
         ],
         "y": [
          0.00014104652579302392,
          0.00014104652579302392,
          0.00014140148776549204,
          0.00015437103856785517,
          0.00015437103856785517,
          0.00015482917409911738,
          0.00015482917409911752,
          0.00016049025591942308,
          0.0001604902559194231
         ]
        }
       ],
       "layout": {
        "autosize": true,
        "barmode": "group",
        "template": {
         "data": {
          "bar": [
           {
            "error_x": {
             "color": "#2a3f5f"
            },
            "error_y": {
             "color": "#2a3f5f"
            },
            "marker": {
             "line": {
              "color": "#E5ECF6",
              "width": 0.5
             }
            },
            "type": "bar"
           }
          ],
          "barpolar": [
           {
            "marker": {
             "line": {
              "color": "#E5ECF6",
              "width": 0.5
             }
            },
            "type": "barpolar"
           }
          ],
          "carpet": [
           {
            "aaxis": {
             "endlinecolor": "#2a3f5f",
             "gridcolor": "white",
             "linecolor": "white",
             "minorgridcolor": "white",
             "startlinecolor": "#2a3f5f"
            },
            "baxis": {
             "endlinecolor": "#2a3f5f",
             "gridcolor": "white",
             "linecolor": "white",
             "minorgridcolor": "white",
             "startlinecolor": "#2a3f5f"
            },
            "type": "carpet"
           }
          ],
          "choropleth": [
           {
            "colorbar": {
             "outlinewidth": 0,
             "ticks": ""
            },
            "type": "choropleth"
           }
          ],
          "contour": [
           {
            "colorbar": {
             "outlinewidth": 0,
             "ticks": ""
            },
            "colorscale": [
             [
              0,
              "#0d0887"
             ],
             [
              0.1111111111111111,
              "#46039f"
             ],
             [
              0.2222222222222222,
              "#7201a8"
             ],
             [
              0.3333333333333333,
              "#9c179e"
             ],
             [
              0.4444444444444444,
              "#bd3786"
             ],
             [
              0.5555555555555556,
              "#d8576b"
             ],
             [
              0.6666666666666666,
              "#ed7953"
             ],
             [
              0.7777777777777778,
              "#fb9f3a"
             ],
             [
              0.8888888888888888,
              "#fdca26"
             ],
             [
              1,
              "#f0f921"
             ]
            ],
            "type": "contour"
           }
          ],
          "contourcarpet": [
           {
            "colorbar": {
             "outlinewidth": 0,
             "ticks": ""
            },
            "type": "contourcarpet"
           }
          ],
          "heatmap": [
           {
            "colorbar": {
             "outlinewidth": 0,
             "ticks": ""
            },
            "colorscale": [
             [
              0,
              "#0d0887"
             ],
             [
              0.1111111111111111,
              "#46039f"
             ],
             [
              0.2222222222222222,
              "#7201a8"
             ],
             [
              0.3333333333333333,
              "#9c179e"
             ],
             [
              0.4444444444444444,
              "#bd3786"
             ],
             [
              0.5555555555555556,
              "#d8576b"
             ],
             [
              0.6666666666666666,
              "#ed7953"
             ],
             [
              0.7777777777777778,
              "#fb9f3a"
             ],
             [
              0.8888888888888888,
              "#fdca26"
             ],
             [
              1,
              "#f0f921"
             ]
            ],
            "type": "heatmap"
           }
          ],
          "heatmapgl": [
           {
            "colorbar": {
             "outlinewidth": 0,
             "ticks": ""
            },
            "colorscale": [
             [
              0,
              "#0d0887"
             ],
             [
              0.1111111111111111,
              "#46039f"
             ],
             [
              0.2222222222222222,
              "#7201a8"
             ],
             [
              0.3333333333333333,
              "#9c179e"
             ],
             [
              0.4444444444444444,
              "#bd3786"
             ],
             [
              0.5555555555555556,
              "#d8576b"
             ],
             [
              0.6666666666666666,
              "#ed7953"
             ],
             [
              0.7777777777777778,
              "#fb9f3a"
             ],
             [
              0.8888888888888888,
              "#fdca26"
             ],
             [
              1,
              "#f0f921"
             ]
            ],
            "type": "heatmapgl"
           }
          ],
          "histogram": [
           {
            "marker": {
             "colorbar": {
              "outlinewidth": 0,
              "ticks": ""
             }
            },
            "type": "histogram"
           }
          ],
          "histogram2d": [
           {
            "colorbar": {
             "outlinewidth": 0,
             "ticks": ""
            },
            "colorscale": [
             [
              0,
              "#0d0887"
             ],
             [
              0.1111111111111111,
              "#46039f"
             ],
             [
              0.2222222222222222,
              "#7201a8"
             ],
             [
              0.3333333333333333,
              "#9c179e"
             ],
             [
              0.4444444444444444,
              "#bd3786"
             ],
             [
              0.5555555555555556,
              "#d8576b"
             ],
             [
              0.6666666666666666,
              "#ed7953"
             ],
             [
              0.7777777777777778,
              "#fb9f3a"
             ],
             [
              0.8888888888888888,
              "#fdca26"
             ],
             [
              1,
              "#f0f921"
             ]
            ],
            "type": "histogram2d"
           }
          ],
          "histogram2dcontour": [
           {
            "colorbar": {
             "outlinewidth": 0,
             "ticks": ""
            },
            "colorscale": [
             [
              0,
              "#0d0887"
             ],
             [
              0.1111111111111111,
              "#46039f"
             ],
             [
              0.2222222222222222,
              "#7201a8"
             ],
             [
              0.3333333333333333,
              "#9c179e"
             ],
             [
              0.4444444444444444,
              "#bd3786"
             ],
             [
              0.5555555555555556,
              "#d8576b"
             ],
             [
              0.6666666666666666,
              "#ed7953"
             ],
             [
              0.7777777777777778,
              "#fb9f3a"
             ],
             [
              0.8888888888888888,
              "#fdca26"
             ],
             [
              1,
              "#f0f921"
             ]
            ],
            "type": "histogram2dcontour"
           }
          ],
          "mesh3d": [
           {
            "colorbar": {
             "outlinewidth": 0,
             "ticks": ""
            },
            "type": "mesh3d"
           }
          ],
          "parcoords": [
           {
            "line": {
             "colorbar": {
              "outlinewidth": 0,
              "ticks": ""
             }
            },
            "type": "parcoords"
           }
          ],
          "pie": [
           {
            "automargin": true,
            "type": "pie"
           }
          ],
          "scatter": [
           {
            "marker": {
             "colorbar": {
              "outlinewidth": 0,
              "ticks": ""
             }
            },
            "type": "scatter"
           }
          ],
          "scatter3d": [
           {
            "line": {
             "colorbar": {
              "outlinewidth": 0,
              "ticks": ""
             }
            },
            "marker": {
             "colorbar": {
              "outlinewidth": 0,
              "ticks": ""
             }
            },
            "type": "scatter3d"
           }
          ],
          "scattercarpet": [
           {
            "marker": {
             "colorbar": {
              "outlinewidth": 0,
              "ticks": ""
             }
            },
            "type": "scattercarpet"
           }
          ],
          "scattergeo": [
           {
            "marker": {
             "colorbar": {
              "outlinewidth": 0,
              "ticks": ""
             }
            },
            "type": "scattergeo"
           }
          ],
          "scattergl": [
           {
            "marker": {
             "colorbar": {
              "outlinewidth": 0,
              "ticks": ""
             }
            },
            "type": "scattergl"
           }
          ],
          "scattermapbox": [
           {
            "marker": {
             "colorbar": {
              "outlinewidth": 0,
              "ticks": ""
             }
            },
            "type": "scattermapbox"
           }
          ],
          "scatterpolar": [
           {
            "marker": {
             "colorbar": {
              "outlinewidth": 0,
              "ticks": ""
             }
            },
            "type": "scatterpolar"
           }
          ],
          "scatterpolargl": [
           {
            "marker": {
             "colorbar": {
              "outlinewidth": 0,
              "ticks": ""
             }
            },
            "type": "scatterpolargl"
           }
          ],
          "scatterternary": [
           {
            "marker": {
             "colorbar": {
              "outlinewidth": 0,
              "ticks": ""
             }
            },
            "type": "scatterternary"
           }
          ],
          "surface": [
           {
            "colorbar": {
             "outlinewidth": 0,
             "ticks": ""
            },
            "colorscale": [
             [
              0,
              "#0d0887"
             ],
             [
              0.1111111111111111,
              "#46039f"
             ],
             [
              0.2222222222222222,
              "#7201a8"
             ],
             [
              0.3333333333333333,
              "#9c179e"
             ],
             [
              0.4444444444444444,
              "#bd3786"
             ],
             [
              0.5555555555555556,
              "#d8576b"
             ],
             [
              0.6666666666666666,
              "#ed7953"
             ],
             [
              0.7777777777777778,
              "#fb9f3a"
             ],
             [
              0.8888888888888888,
              "#fdca26"
             ],
             [
              1,
              "#f0f921"
             ]
            ],
            "type": "surface"
           }
          ],
          "table": [
           {
            "cells": {
             "fill": {
              "color": "#EBF0F8"
             },
             "line": {
              "color": "white"
             }
            },
            "header": {
             "fill": {
              "color": "#C8D4E3"
             },
             "line": {
              "color": "white"
             }
            },
            "type": "table"
           }
          ]
         },
         "layout": {
          "annotationdefaults": {
           "arrowcolor": "#2a3f5f",
           "arrowhead": 0,
           "arrowwidth": 1
          },
          "coloraxis": {
           "colorbar": {
            "outlinewidth": 0,
            "ticks": ""
           }
          },
          "colorscale": {
           "diverging": [
            [
             0,
             "#8e0152"
            ],
            [
             0.1,
             "#c51b7d"
            ],
            [
             0.2,
             "#de77ae"
            ],
            [
             0.3,
             "#f1b6da"
            ],
            [
             0.4,
             "#fde0ef"
            ],
            [
             0.5,
             "#f7f7f7"
            ],
            [
             0.6,
             "#e6f5d0"
            ],
            [
             0.7,
             "#b8e186"
            ],
            [
             0.8,
             "#7fbc41"
            ],
            [
             0.9,
             "#4d9221"
            ],
            [
             1,
             "#276419"
            ]
           ],
           "sequential": [
            [
             0,
             "#0d0887"
            ],
            [
             0.1111111111111111,
             "#46039f"
            ],
            [
             0.2222222222222222,
             "#7201a8"
            ],
            [
             0.3333333333333333,
             "#9c179e"
            ],
            [
             0.4444444444444444,
             "#bd3786"
            ],
            [
             0.5555555555555556,
             "#d8576b"
            ],
            [
             0.6666666666666666,
             "#ed7953"
            ],
            [
             0.7777777777777778,
             "#fb9f3a"
            ],
            [
             0.8888888888888888,
             "#fdca26"
            ],
            [
             1,
             "#f0f921"
            ]
           ],
           "sequentialminus": [
            [
             0,
             "#0d0887"
            ],
            [
             0.1111111111111111,
             "#46039f"
            ],
            [
             0.2222222222222222,
             "#7201a8"
            ],
            [
             0.3333333333333333,
             "#9c179e"
            ],
            [
             0.4444444444444444,
             "#bd3786"
            ],
            [
             0.5555555555555556,
             "#d8576b"
            ],
            [
             0.6666666666666666,
             "#ed7953"
            ],
            [
             0.7777777777777778,
             "#fb9f3a"
            ],
            [
             0.8888888888888888,
             "#fdca26"
            ],
            [
             1,
             "#f0f921"
            ]
           ]
          },
          "colorway": [
           "#636efa",
           "#EF553B",
           "#00cc96",
           "#ab63fa",
           "#FFA15A",
           "#19d3f3",
           "#FF6692",
           "#B6E880",
           "#FF97FF",
           "#FECB52"
          ],
          "font": {
           "color": "#2a3f5f"
          },
          "geo": {
           "bgcolor": "white",
           "lakecolor": "white",
           "landcolor": "#E5ECF6",
           "showlakes": true,
           "showland": true,
           "subunitcolor": "white"
          },
          "hoverlabel": {
           "align": "left"
          },
          "hovermode": "closest",
          "mapbox": {
           "style": "light"
          },
          "paper_bgcolor": "white",
          "plot_bgcolor": "#E5ECF6",
          "polar": {
           "angularaxis": {
            "gridcolor": "white",
            "linecolor": "white",
            "ticks": ""
           },
           "bgcolor": "#E5ECF6",
           "radialaxis": {
            "gridcolor": "white",
            "linecolor": "white",
            "ticks": ""
           }
          },
          "scene": {
           "xaxis": {
            "backgroundcolor": "#E5ECF6",
            "gridcolor": "white",
            "gridwidth": 2,
            "linecolor": "white",
            "showbackground": true,
            "ticks": "",
            "zerolinecolor": "white"
           },
           "yaxis": {
            "backgroundcolor": "#E5ECF6",
            "gridcolor": "white",
            "gridwidth": 2,
            "linecolor": "white",
            "showbackground": true,
            "ticks": "",
            "zerolinecolor": "white"
           },
           "zaxis": {
            "backgroundcolor": "#E5ECF6",
            "gridcolor": "white",
            "gridwidth": 2,
            "linecolor": "white",
            "showbackground": true,
            "ticks": "",
            "zerolinecolor": "white"
           }
          },
          "shapedefaults": {
           "line": {
            "color": "#2a3f5f"
           }
          },
          "ternary": {
           "aaxis": {
            "gridcolor": "white",
            "linecolor": "white",
            "ticks": ""
           },
           "baxis": {
            "gridcolor": "white",
            "linecolor": "white",
            "ticks": ""
           },
           "bgcolor": "#E5ECF6",
           "caxis": {
            "gridcolor": "white",
            "linecolor": "white",
            "ticks": ""
           }
          },
          "title": {
           "x": 0.05
          },
          "xaxis": {
           "automargin": true,
           "gridcolor": "white",
           "linecolor": "white",
           "ticks": "",
           "title": {
            "standoff": 15
           },
           "zerolinecolor": "white",
           "zerolinewidth": 2
          },
          "yaxis": {
           "automargin": true,
           "gridcolor": "white",
           "linecolor": "white",
           "ticks": "",
           "title": {
            "standoff": 15
           },
           "zerolinecolor": "white",
           "zerolinewidth": 2
          }
         }
        },
        "title": {
         "text": "What is the best model when we have only 8 features ?"
        },
        "xaxis": {
         "autorange": true,
         "range": [
          -0.5,
          8.5
         ],
         "type": "category"
        },
        "yaxis": {
         "autorange": true,
         "range": [
          0,
          0.00016893711149412957
         ],
         "type": "linear"
        }
       }
      },
      "image/png": "[encoded data removed]",
      "text/html": [
       "<div>\n",
       "        \n",
       "        \n",
       "            <div id=\"7fc81f2d-bb0e-46bb-b8f5-d3b9b39cc0d1\" class=\"plotly-graph-div\" style=\"height:525px; width:100%;\"></div>\n",
       "            <script type=\"text/javascript\">\n",
       "                require([\"plotly\"], function(Plotly) {\n",
       "                    window.PLOTLYENV=window.PLOTLYENV || {};\n",
       "                    \n",
       "                if (document.getElementById(\"7fc81f2d-bb0e-46bb-b8f5-d3b9b39cc0d1\")) {\n",
       "                    Plotly.newPlot(\n",
       "                        '7fc81f2d-bb0e-46bb-b8f5-d3b9b39cc0d1',\n",
       "                        [{\"name\": \"Mean Squared Error\", \"type\": \"bar\", \"x\": [\"Rid. reg.\", \"Normalized rig. reg.\", \"SVR\", \"Rid. reg. with poly. expans.\", \"Normalized rid. reg. with poly. expans.\", \"Normalized lin. reg. with poly. expans.\", \"Lin. reg. with poly. expans.\", \"Lin. reg.\", \"Normalized lin. reg.\"], \"y\": [0.00014104652579302392, 0.00014104652579302392, 0.00014140148776549204, 0.00015437103856785517, 0.00015437103856785517, 0.00015482917409911738, 0.00015482917409911752, 0.00016049025591942308, 0.0001604902559194231]}],\n",
       "                        {\"barmode\": \"group\", \"template\": {\"data\": {\"bar\": [{\"error_x\": {\"color\": \"#2a3f5f\"}, \"error_y\": {\"color\": \"#2a3f5f\"}, \"marker\": {\"line\": {\"color\": \"#E5ECF6\", \"width\": 0.5}}, \"type\": \"bar\"}], \"barpolar\": [{\"marker\": {\"line\": {\"color\": \"#E5ECF6\", \"width\": 0.5}}, \"type\": \"barpolar\"}], \"carpet\": [{\"aaxis\": {\"endlinecolor\": \"#2a3f5f\", \"gridcolor\": \"white\", \"linecolor\": \"white\", \"minorgridcolor\": \"white\", \"startlinecolor\": \"#2a3f5f\"}, \"baxis\": {\"endlinecolor\": \"#2a3f5f\", \"gridcolor\": \"white\", \"linecolor\": \"white\", \"minorgridcolor\": \"white\", \"startlinecolor\": \"#2a3f5f\"}, \"type\": \"carpet\"}], \"choropleth\": [{\"colorbar\": {\"outlinewidth\": 0, \"ticks\": \"\"}, \"type\": \"choropleth\"}], \"contour\": [{\"colorbar\": {\"outlinewidth\": 0, \"ticks\": \"\"}, \"colorscale\": [[0.0, \"#0d0887\"], [0.1111111111111111, \"#46039f\"], [0.2222222222222222, \"#7201a8\"], [0.3333333333333333, \"#9c179e\"], [0.4444444444444444, \"#bd3786\"], [0.5555555555555556, \"#d8576b\"], [0.6666666666666666, \"#ed7953\"], [0.7777777777777778, \"#fb9f3a\"], [0.8888888888888888, \"#fdca26\"], [1.0, \"#f0f921\"]], \"type\": \"contour\"}], \"contourcarpet\": [{\"colorbar\": {\"outlinewidth\": 0, \"ticks\": \"\"}, \"type\": \"contourcarpet\"}], \"heatmap\": [{\"colorbar\": {\"outlinewidth\": 0, \"ticks\": \"\"}, \"colorscale\": [[0.0, \"#0d0887\"], [0.1111111111111111, \"#46039f\"], [0.2222222222222222, \"#7201a8\"], [0.3333333333333333, \"#9c179e\"], [0.4444444444444444, \"#bd3786\"], [0.5555555555555556, \"#d8576b\"], [0.6666666666666666, \"#ed7953\"], [0.7777777777777778, \"#fb9f3a\"], [0.8888888888888888, \"#fdca26\"], [1.0, \"#f0f921\"]], \"type\": \"heatmap\"}], \"heatmapgl\": [{\"colorbar\": {\"outlinewidth\": 0, \"ticks\": \"\"}, \"colorscale\": [[0.0, \"#0d0887\"], [0.1111111111111111, \"#46039f\"], [0.2222222222222222, \"#7201a8\"], [0.3333333333333333, \"#9c179e\"], [0.4444444444444444, \"#bd3786\"], [0.5555555555555556, \"#d8576b\"], [0.6666666666666666, \"#ed7953\"], [0.7777777777777778, \"#fb9f3a\"], [0.8888888888888888, \"#fdca26\"], [1.0, \"#f0f921\"]], \"type\": \"heatmapgl\"}], \"histogram\": [{\"marker\": {\"colorbar\": {\"outlinewidth\": 0, \"ticks\": \"\"}}, \"type\": \"histogram\"}], \"histogram2d\": [{\"colorbar\": {\"outlinewidth\": 0, \"ticks\": \"\"}, \"colorscale\": [[0.0, \"#0d0887\"], [0.1111111111111111, \"#46039f\"], [0.2222222222222222, \"#7201a8\"], [0.3333333333333333, \"#9c179e\"], [0.4444444444444444, \"#bd3786\"], [0.5555555555555556, \"#d8576b\"], [0.6666666666666666, \"#ed7953\"], [0.7777777777777778, \"#fb9f3a\"], [0.8888888888888888, \"#fdca26\"], [1.0, \"#f0f921\"]], \"type\": \"histogram2d\"}], \"histogram2dcontour\": [{\"colorbar\": {\"outlinewidth\": 0, \"ticks\": \"\"}, \"colorscale\": [[0.0, \"#0d0887\"], [0.1111111111111111, \"#46039f\"], [0.2222222222222222, \"#7201a8\"], [0.3333333333333333, \"#9c179e\"], [0.4444444444444444, \"#bd3786\"], [0.5555555555555556, \"#d8576b\"], [0.6666666666666666, \"#ed7953\"], [0.7777777777777778, \"#fb9f3a\"], [0.8888888888888888, \"#fdca26\"], [1.0, \"#f0f921\"]], \"type\": \"histogram2dcontour\"}], \"mesh3d\": [{\"colorbar\": {\"outlinewidth\": 0, \"ticks\": \"\"}, \"type\": \"mesh3d\"}], \"parcoords\": [{\"line\": {\"colorbar\": {\"outlinewidth\": 0, \"ticks\": \"\"}}, \"type\": \"parcoords\"}], \"pie\": [{\"automargin\": true, \"type\": \"pie\"}], \"scatter\": [{\"marker\": {\"colorbar\": {\"outlinewidth\": 0, \"ticks\": \"\"}}, \"type\": \"scatter\"}], \"scatter3d\": [{\"line\": {\"colorbar\": {\"outlinewidth\": 0, \"ticks\": \"\"}}, \"marker\": {\"colorbar\": {\"outlinewidth\": 0, \"ticks\": \"\"}}, \"type\": \"scatter3d\"}], \"scattercarpet\": [{\"marker\": {\"colorbar\": {\"outlinewidth\": 0, \"ticks\": \"\"}}, \"type\": \"scattercarpet\"}], \"scattergeo\": [{\"marker\": {\"colorbar\": {\"outlinewidth\": 0, \"ticks\": \"\"}}, \"type\": \"scattergeo\"}], \"scattergl\": [{\"marker\": {\"colorbar\": {\"outlinewidth\": 0, \"ticks\": \"\"}}, \"type\": \"scattergl\"}], \"scattermapbox\": [{\"marker\": {\"colorbar\": {\"outlinewidth\": 0, \"ticks\": \"\"}}, \"type\": \"scattermapbox\"}], \"scatterpolar\": [{\"marker\": {\"colorbar\": {\"outlinewidth\": 0, \"ticks\": \"\"}}, \"type\": \"scatterpolar\"}], \"scatterpolargl\": [{\"marker\": {\"colorbar\": {\"outlinewidth\": 0, \"ticks\": \"\"}}, \"type\": \"scatterpolargl\"}], \"scatterternary\": [{\"marker\": {\"colorbar\": {\"outlinewidth\": 0, \"ticks\": \"\"}}, \"type\": \"scatterternary\"}], \"surface\": [{\"colorbar\": {\"outlinewidth\": 0, \"ticks\": \"\"}, \"colorscale\": [[0.0, \"#0d0887\"], [0.1111111111111111, \"#46039f\"], [0.2222222222222222, \"#7201a8\"], [0.3333333333333333, \"#9c179e\"], [0.4444444444444444, \"#bd3786\"], [0.5555555555555556, \"#d8576b\"], [0.6666666666666666, \"#ed7953\"], [0.7777777777777778, \"#fb9f3a\"], [0.8888888888888888, \"#fdca26\"], [1.0, \"#f0f921\"]], \"type\": \"surface\"}], \"table\": [{\"cells\": {\"fill\": {\"color\": \"#EBF0F8\"}, \"line\": {\"color\": \"white\"}}, \"header\": {\"fill\": {\"color\": \"#C8D4E3\"}, \"line\": {\"color\": \"white\"}}, \"type\": \"table\"}]}, \"layout\": {\"annotationdefaults\": {\"arrowcolor\": \"#2a3f5f\", \"arrowhead\": 0, \"arrowwidth\": 1}, \"coloraxis\": {\"colorbar\": {\"outlinewidth\": 0, \"ticks\": \"\"}}, \"colorscale\": {\"diverging\": [[0, \"#8e0152\"], [0.1, \"#c51b7d\"], [0.2, \"#de77ae\"], [0.3, \"#f1b6da\"], [0.4, \"#fde0ef\"], [0.5, \"#f7f7f7\"], [0.6, \"#e6f5d0\"], [0.7, \"#b8e186\"], [0.8, \"#7fbc41\"], [0.9, \"#4d9221\"], [1, \"#276419\"]], \"sequential\": [[0.0, \"#0d0887\"], [0.1111111111111111, \"#46039f\"], [0.2222222222222222, \"#7201a8\"], [0.3333333333333333, \"#9c179e\"], [0.4444444444444444, \"#bd3786\"], [0.5555555555555556, \"#d8576b\"], [0.6666666666666666, \"#ed7953\"], [0.7777777777777778, \"#fb9f3a\"], [0.8888888888888888, \"#fdca26\"], [1.0, \"#f0f921\"]], \"sequentialminus\": [[0.0, \"#0d0887\"], [0.1111111111111111, \"#46039f\"], [0.2222222222222222, \"#7201a8\"], [0.3333333333333333, \"#9c179e\"], [0.4444444444444444, \"#bd3786\"], [0.5555555555555556, \"#d8576b\"], [0.6666666666666666, \"#ed7953\"], [0.7777777777777778, \"#fb9f3a\"], [0.8888888888888888, \"#fdca26\"], [1.0, \"#f0f921\"]]}, \"colorway\": [\"#636efa\", \"#EF553B\", \"#00cc96\", \"#ab63fa\", \"#FFA15A\", \"#19d3f3\", \"#FF6692\", \"#B6E880\", \"#FF97FF\", \"#FECB52\"], \"font\": {\"color\": \"#2a3f5f\"}, \"geo\": {\"bgcolor\": \"white\", \"lakecolor\": \"white\", \"landcolor\": \"#E5ECF6\", \"showlakes\": true, \"showland\": true, \"subunitcolor\": \"white\"}, \"hoverlabel\": {\"align\": \"left\"}, \"hovermode\": \"closest\", \"mapbox\": {\"style\": \"light\"}, \"paper_bgcolor\": \"white\", \"plot_bgcolor\": \"#E5ECF6\", \"polar\": {\"angularaxis\": {\"gridcolor\": \"white\", \"linecolor\": \"white\", \"ticks\": \"\"}, \"bgcolor\": \"#E5ECF6\", \"radialaxis\": {\"gridcolor\": \"white\", \"linecolor\": \"white\", \"ticks\": \"\"}}, \"scene\": {\"xaxis\": {\"backgroundcolor\": \"#E5ECF6\", \"gridcolor\": \"white\", \"gridwidth\": 2, \"linecolor\": \"white\", \"showbackground\": true, \"ticks\": \"\", \"zerolinecolor\": \"white\"}, \"yaxis\": {\"backgroundcolor\": \"#E5ECF6\", \"gridcolor\": \"white\", \"gridwidth\": 2, \"linecolor\": \"white\", \"showbackground\": true, \"ticks\": \"\", \"zerolinecolor\": \"white\"}, \"zaxis\": {\"backgroundcolor\": \"#E5ECF6\", \"gridcolor\": \"white\", \"gridwidth\": 2, \"linecolor\": \"white\", \"showbackground\": true, \"ticks\": \"\", \"zerolinecolor\": \"white\"}}, \"shapedefaults\": {\"line\": {\"color\": \"#2a3f5f\"}}, \"ternary\": {\"aaxis\": {\"gridcolor\": \"white\", \"linecolor\": \"white\", \"ticks\": \"\"}, \"baxis\": {\"gridcolor\": \"white\", \"linecolor\": \"white\", \"ticks\": \"\"}, \"bgcolor\": \"#E5ECF6\", \"caxis\": {\"gridcolor\": \"white\", \"linecolor\": \"white\", \"ticks\": \"\"}}, \"title\": {\"x\": 0.05}, \"xaxis\": {\"automargin\": true, \"gridcolor\": \"white\", \"linecolor\": \"white\", \"ticks\": \"\", \"title\": {\"standoff\": 15}, \"zerolinecolor\": \"white\", \"zerolinewidth\": 2}, \"yaxis\": {\"automargin\": true, \"gridcolor\": \"white\", \"linecolor\": \"white\", \"ticks\": \"\", \"title\": {\"standoff\": 15}, \"zerolinecolor\": \"white\", \"zerolinewidth\": 2}}}, \"title\": {\"text\": \"What is the best model when we have only 8 features ?\"}},\n",
       "                        {\"responsive\": true}\n",
       "                    ).then(function(){\n",
       "                            \n",
       "var gd = document.getElementById('7fc81f2d-bb0e-46bb-b8f5-d3b9b39cc0d1');\n",
       "var x = new MutationObserver(function (mutations, observer) {{\n",
       "        var display = window.getComputedStyle(gd).display;\n",
       "        if (!display || display === 'none') {{\n",
       "            console.log([gd, 'removed!']);\n",
       "            Plotly.purge(gd);\n",
       "            observer.disconnect();\n",
       "        }}\n",
       "}});\n",
       "\n",
       "// Listen for the removal of the full notebook cells\n",
       "var notebookContainer = gd.closest('#notebook-container');\n",
       "if (notebookContainer) {{\n",
       "    x.observe(notebookContainer, {childList: true});\n",
       "}}\n",
       "\n",
       "// Listen for the clearing of the current output cell\n",
       "var outputEl = gd.closest('.output');\n",
       "if (outputEl) {{\n",
       "    x.observe(outputEl, {childList: true});\n",
       "}}\n",
       "\n",
       "                        })\n",
       "                };\n",
       "                });\n",
       "            </script>\n",
       "        </div>"
      ]
     },
     "metadata": {},
     "output_type": "display_data"
    }
   ],
   "source": [
    "import plotly.graph_objects as go\n",
    "import plotly\n",
    "fig = go.Figure(data=[\n",
    "    go.Bar(name='Mean Squared Error',\n",
    "           x=[_ for _, MSE in MSEDict], \n",
    "           y=[MSE for _, MSE in MSEDict],    \n",
    ")])\n",
    "# Change the bar mode\n",
    "fig.update_layout(barmode='group', title=\"What is the best model when we have only 8 features ?\")\n",
    "fig.show()\n",
    "\n",
    "plotly.io.write_html(fig, \"plots/barplot_MSE_PCA_features.html\")"
   ]
  },
  {
   "cell_type": "code",
   "execution_count": 87,
   "metadata": {},
   "outputs": [
    {
     "data": {
      "image/png": "[encoded data removed]",
      "text/plain": [
       "<Figure size 1440x720 with 1 Axes>"
      ]
     },
     "metadata": {
      "needs_background": "light"
     },
     "output_type": "display_data"
    }
   ],
   "source": [
    "#here we compare the different model results when we only keep 8 features (i.e. 2 PCA for each classes)\n",
    "plt.figure(figsize=(20,10))\n",
    "plt.title(\"What is the best model when we have only 8 features ?\")\n",
    "plt.ylabel(\"MSE\")\n",
    "barWidth = 0.25\n",
    "r1 = np.arange(len(MSEDict))\n",
    "plt.bar(r1, [MSE for _, MSE in MSEDict], width=0.15) \n",
    "plt.xticks([r for r in range(len(MSEDict))], [name for name, _ in MSEDict], \n",
    "           rotation='vertical')\n",
    "plt.show()"
   ]
  },
  {
   "cell_type": "markdown",
   "metadata": {},
   "source": [
    "We can see that ridge regression with polynomial expansion still has the lowest MSE.  \n",
    "We can also notice from the bar plot that SVR and ridge regression have almost the same MSE while linear regression always gives bigger MSE.  \n",
    "\n",
    "The fact that linear regression have bad results gives a sign about the fact that the samples are not linearly separable."
   ]
  },
  {
   "cell_type": "markdown",
   "metadata": {},
   "source": [
    "We will once again have a closer look at the best model (i.e. ridge regression with polynomial expansion):"
   ]
  },
  {
   "cell_type": "code",
   "execution_count": 108,
   "metadata": {},
   "outputs": [
    {
     "data": {
      "application/vnd.plotly.v1+json": {
       "config": {
        "plotlyServerURL": "https://plot.ly"
       },
       "data": [
        {
         "name": "Real HDI value",
         "type": "bar",
         "x": [
          "alabama",
          "alaska",
          "arizona",
          "arkansas",
          "california",
          "colorado",
          "connecticut",
          "delaware",
          "district of columbia",
          "florida",
          "georgia",
          "hawaii",
          "idaho",
          "illinois",
          "indiana",
          "iowa",
          "kansas",
          "kentucky",
          "louisiana",
          "maine",
          "maryland",
          "massachusetts",
          "michigan",
          "minnesota",
          "mississippi",
          "missouri",
          "montana",
          "nebraska",
          "nevada",
          "new hampshire",
          "new jersey",
          "new mexico",
          "new york",
          "north carolina",
          "north dakota",
          "ohio",
          "oklahoma",
          "oregon",
          "pennsylvania",
          "rhode island",
          "south carolina",
          "south dakota",
          "tennessee",
          "texas",
          "utah",
          "vermont",
          "virginia",
          "washington",
          "west virginia",
          "wisconsin",
          "wyoming"
         ],
         "y": [
          0.882,
          0.9420000000000001,
          0.912,
          0.882,
          0.934,
          0.946,
          0.9570000000000001,
          0.935,
          0.9490000000000001,
          0.9129999999999999,
          0.9059999999999999,
          0.9440000000000001,
          0.912,
          0.9329999999999999,
          0.91,
          0.932,
          0.927,
          0.885,
          0.89,
          0.919,
          0.9390000000000001,
          0.9590000000000001,
          0.9159999999999999,
          0.9520000000000001,
          0.867,
          0.91,
          0.922,
          0.938,
          0.9059999999999999,
          0.9470000000000001,
          0.9470000000000001,
          0.905,
          0.946,
          0.909,
          0.946,
          0.917,
          0.898,
          0.934,
          0.9259999999999999,
          0.924,
          0.894,
          0.932,
          0.8959999999999999,
          0.914,
          0.934,
          0.941,
          0.9329999999999999,
          0.9440000000000001,
          0.877,
          0.9329999999999999,
          0.937
         ]
        },
        {
         "name": "Predicted HDI value with Ridge Regression",
         "type": "bar",
         "x": [
          "alabama",
          "alaska",
          "arizona",
          "arkansas",
          "california",
          "colorado",
          "connecticut",
          "delaware",
          "district of columbia",
          "florida",
          "georgia",
          "hawaii",
          "idaho",
          "illinois",
          "indiana",
          "iowa",
          "kansas",
          "kentucky",
          "louisiana",
          "maine",
          "maryland",
          "massachusetts",
          "michigan",
          "minnesota",
          "mississippi",
          "missouri",
          "montana",
          "nebraska",
          "nevada",
          "new hampshire",
          "new jersey",
          "new mexico",
          "new york",
          "north carolina",
          "north dakota",
          "ohio",
          "oklahoma",
          "oregon",
          "pennsylvania",
          "rhode island",
          "south carolina",
          "south dakota",
          "tennessee",
          "texas",
          "utah",
          "vermont",
          "virginia",
          "washington",
          "west virginia",
          "wisconsin",
          "wyoming"
         ],
         "y": [
          0.8859883952527844,
          0.9369447563611166,
          0.922554459209434,
          0.8877717383585638,
          0.9501094371782293,
          0.9489974115422916,
          0.9431617173190849,
          0.9196796159990882,
          0.9404187325159334,
          0.9249531743115963,
          0.9049122679375272,
          0.9501062135257026,
          0.9259576893289654,
          0.9235206781260151,
          0.9037663723694773,
          0.922630166087444,
          0.9161718305319161,
          0.9001760689892091,
          0.8905963578910797,
          0.9252379041615404,
          0.9360599811188635,
          0.9427511254463525,
          0.9083170747878437,
          0.9514924823020804,
          0.8791434512573062,
          0.9089662767515201,
          0.9337832455940056,
          0.9405646648008431,
          0.9112405490460912,
          0.9454426207395529,
          0.9472799477294979,
          0.9010925849674455,
          0.9323017085661911,
          0.9032943560344527,
          0.9315674111182792,
          0.8958322958070373,
          0.8854028147601986,
          0.9221760497433874,
          0.9262029918906921,
          0.932357386729263,
          0.8979216709367223,
          0.9421211027069688,
          0.8957631585561086,
          0.9090055229500621,
          0.9244094756154317,
          0.9509925930804345,
          0.9298852133778069,
          0.9422865027642098,
          0.8780832844373557,
          0.9425742357919068,
          0.9490180082003844
         ]
        }
       ],
       "layout": {
        "autosize": true,
        "barmode": "group",
        "template": {
         "data": {
          "bar": [
           {
            "error_x": {
             "color": "#2a3f5f"
            },
            "error_y": {
             "color": "#2a3f5f"
            },
            "marker": {
             "line": {
              "color": "#E5ECF6",
              "width": 0.5
             }
            },
            "type": "bar"
           }
          ],
          "barpolar": [
           {
            "marker": {
             "line": {
              "color": "#E5ECF6",
              "width": 0.5
             }
            },
            "type": "barpolar"
           }
          ],
          "carpet": [
           {
            "aaxis": {
             "endlinecolor": "#2a3f5f",
             "gridcolor": "white",
             "linecolor": "white",
             "minorgridcolor": "white",
             "startlinecolor": "#2a3f5f"
            },
            "baxis": {
             "endlinecolor": "#2a3f5f",
             "gridcolor": "white",
             "linecolor": "white",
             "minorgridcolor": "white",
             "startlinecolor": "#2a3f5f"
            },
            "type": "carpet"
           }
          ],
          "choropleth": [
           {
            "colorbar": {
             "outlinewidth": 0,
             "ticks": ""
            },
            "type": "choropleth"
           }
          ],
          "contour": [
           {
            "colorbar": {
             "outlinewidth": 0,
             "ticks": ""
            },
            "colorscale": [
             [
              0,
              "#0d0887"
             ],
             [
              0.1111111111111111,
              "#46039f"
             ],
             [
              0.2222222222222222,
              "#7201a8"
             ],
             [
              0.3333333333333333,
              "#9c179e"
             ],
             [
              0.4444444444444444,
              "#bd3786"
             ],
             [
              0.5555555555555556,
              "#d8576b"
             ],
             [
              0.6666666666666666,
              "#ed7953"
             ],
             [
              0.7777777777777778,
              "#fb9f3a"
             ],
             [
              0.8888888888888888,
              "#fdca26"
             ],
             [
              1,
              "#f0f921"
             ]
            ],
            "type": "contour"
           }
          ],
          "contourcarpet": [
           {
            "colorbar": {
             "outlinewidth": 0,
             "ticks": ""
            },
            "type": "contourcarpet"
           }
          ],
          "heatmap": [
           {
            "colorbar": {
             "outlinewidth": 0,
             "ticks": ""
            },
            "colorscale": [
             [
              0,
              "#0d0887"
             ],
             [
              0.1111111111111111,
              "#46039f"
             ],
             [
              0.2222222222222222,
              "#7201a8"
             ],
             [
              0.3333333333333333,
              "#9c179e"
             ],
             [
              0.4444444444444444,
              "#bd3786"
             ],
             [
              0.5555555555555556,
              "#d8576b"
             ],
             [
              0.6666666666666666,
              "#ed7953"
             ],
             [
              0.7777777777777778,
              "#fb9f3a"
             ],
             [
              0.8888888888888888,
              "#fdca26"
             ],
             [
              1,
              "#f0f921"
             ]
            ],
            "type": "heatmap"
           }
          ],
          "heatmapgl": [
           {
            "colorbar": {
             "outlinewidth": 0,
             "ticks": ""
            },
            "colorscale": [
             [
              0,
              "#0d0887"
             ],
             [
              0.1111111111111111,
              "#46039f"
             ],
             [
              0.2222222222222222,
              "#7201a8"
             ],
             [
              0.3333333333333333,
              "#9c179e"
             ],
             [
              0.4444444444444444,
              "#bd3786"
             ],
             [
              0.5555555555555556,
              "#d8576b"
             ],
             [
              0.6666666666666666,
              "#ed7953"
             ],
             [
              0.7777777777777778,
              "#fb9f3a"
             ],
             [
              0.8888888888888888,
              "#fdca26"
             ],
             [
              1,
              "#f0f921"
             ]
            ],
            "type": "heatmapgl"
           }
          ],
          "histogram": [
           {
            "marker": {
             "colorbar": {
              "outlinewidth": 0,
              "ticks": ""
             }
            },
            "type": "histogram"
           }
          ],
          "histogram2d": [
           {
            "colorbar": {
             "outlinewidth": 0,
             "ticks": ""
            },
            "colorscale": [
             [
              0,
              "#0d0887"
             ],
             [
              0.1111111111111111,
              "#46039f"
             ],
             [
              0.2222222222222222,
              "#7201a8"
             ],
             [
              0.3333333333333333,
              "#9c179e"
             ],
             [
              0.4444444444444444,
              "#bd3786"
             ],
             [
              0.5555555555555556,
              "#d8576b"
             ],
             [
              0.6666666666666666,
              "#ed7953"
             ],
             [
              0.7777777777777778,
              "#fb9f3a"
             ],
             [
              0.8888888888888888,
              "#fdca26"
             ],
             [
              1,
              "#f0f921"
             ]
            ],
            "type": "histogram2d"
           }
          ],
          "histogram2dcontour": [
           {
            "colorbar": {
             "outlinewidth": 0,
             "ticks": ""
            },
            "colorscale": [
             [
              0,
              "#0d0887"
             ],
             [
              0.1111111111111111,
              "#46039f"
             ],
             [
              0.2222222222222222,
              "#7201a8"
             ],
             [
              0.3333333333333333,
              "#9c179e"
             ],
             [
              0.4444444444444444,
              "#bd3786"
             ],
             [
              0.5555555555555556,
              "#d8576b"
             ],
             [
              0.6666666666666666,
              "#ed7953"
             ],
             [
              0.7777777777777778,
              "#fb9f3a"
             ],
             [
              0.8888888888888888,
              "#fdca26"
             ],
             [
              1,
              "#f0f921"
             ]
            ],
            "type": "histogram2dcontour"
           }
          ],
          "mesh3d": [
           {
            "colorbar": {
             "outlinewidth": 0,
             "ticks": ""
            },
            "type": "mesh3d"
           }
          ],
          "parcoords": [
           {
            "line": {
             "colorbar": {
              "outlinewidth": 0,
              "ticks": ""
             }
            },
            "type": "parcoords"
           }
          ],
          "pie": [
           {
            "automargin": true,
            "type": "pie"
           }
          ],
          "scatter": [
           {
            "marker": {
             "colorbar": {
              "outlinewidth": 0,
              "ticks": ""
             }
            },
            "type": "scatter"
           }
          ],
          "scatter3d": [
           {
            "line": {
             "colorbar": {
              "outlinewidth": 0,
              "ticks": ""
             }
            },
            "marker": {
             "colorbar": {
              "outlinewidth": 0,
              "ticks": ""
             }
            },
            "type": "scatter3d"
           }
          ],
          "scattercarpet": [
           {
            "marker": {
             "colorbar": {
              "outlinewidth": 0,
              "ticks": ""
             }
            },
            "type": "scattercarpet"
           }
          ],
          "scattergeo": [
           {
            "marker": {
             "colorbar": {
              "outlinewidth": 0,
              "ticks": ""
             }
            },
            "type": "scattergeo"
           }
          ],
          "scattergl": [
           {
            "marker": {
             "colorbar": {
              "outlinewidth": 0,
              "ticks": ""
             }
            },
            "type": "scattergl"
           }
          ],
          "scattermapbox": [
           {
            "marker": {
             "colorbar": {
              "outlinewidth": 0,
              "ticks": ""
             }
            },
            "type": "scattermapbox"
           }
          ],
          "scatterpolar": [
           {
            "marker": {
             "colorbar": {
              "outlinewidth": 0,
              "ticks": ""
             }
            },
            "type": "scatterpolar"
           }
          ],
          "scatterpolargl": [
           {
            "marker": {
             "colorbar": {
              "outlinewidth": 0,
              "ticks": ""
             }
            },
            "type": "scatterpolargl"
           }
          ],
          "scatterternary": [
           {
            "marker": {
             "colorbar": {
              "outlinewidth": 0,
              "ticks": ""
             }
            },
            "type": "scatterternary"
           }
          ],
          "surface": [
           {
            "colorbar": {
             "outlinewidth": 0,
             "ticks": ""
            },
            "colorscale": [
             [
              0,
              "#0d0887"
             ],
             [
              0.1111111111111111,
              "#46039f"
             ],
             [
              0.2222222222222222,
              "#7201a8"
             ],
             [
              0.3333333333333333,
              "#9c179e"
             ],
             [
              0.4444444444444444,
              "#bd3786"
             ],
             [
              0.5555555555555556,
              "#d8576b"
             ],
             [
              0.6666666666666666,
              "#ed7953"
             ],
             [
              0.7777777777777778,
              "#fb9f3a"
             ],
             [
              0.8888888888888888,
              "#fdca26"
             ],
             [
              1,
              "#f0f921"
             ]
            ],
            "type": "surface"
           }
          ],
          "table": [
           {
            "cells": {
             "fill": {
              "color": "#EBF0F8"
             },
             "line": {
              "color": "white"
             }
            },
            "header": {
             "fill": {
              "color": "#C8D4E3"
             },
             "line": {
              "color": "white"
             }
            },
            "type": "table"
           }
          ]
         },
         "layout": {
          "annotationdefaults": {
           "arrowcolor": "#2a3f5f",
           "arrowhead": 0,
           "arrowwidth": 1
          },
          "coloraxis": {
           "colorbar": {
            "outlinewidth": 0,
            "ticks": ""
           }
          },
          "colorscale": {
           "diverging": [
            [
             0,
             "#8e0152"
            ],
            [
             0.1,
             "#c51b7d"
            ],
            [
             0.2,
             "#de77ae"
            ],
            [
             0.3,
             "#f1b6da"
            ],
            [
             0.4,
             "#fde0ef"
            ],
            [
             0.5,
             "#f7f7f7"
            ],
            [
             0.6,
             "#e6f5d0"
            ],
            [
             0.7,
             "#b8e186"
            ],
            [
             0.8,
             "#7fbc41"
            ],
            [
             0.9,
             "#4d9221"
            ],
            [
             1,
             "#276419"
            ]
           ],
           "sequential": [
            [
             0,
             "#0d0887"
            ],
            [
             0.1111111111111111,
             "#46039f"
            ],
            [
             0.2222222222222222,
             "#7201a8"
            ],
            [
             0.3333333333333333,
             "#9c179e"
            ],
            [
             0.4444444444444444,
             "#bd3786"
            ],
            [
             0.5555555555555556,
             "#d8576b"
            ],
            [
             0.6666666666666666,
             "#ed7953"
            ],
            [
             0.7777777777777778,
             "#fb9f3a"
            ],
            [
             0.8888888888888888,
             "#fdca26"
            ],
            [
             1,
             "#f0f921"
            ]
           ],
           "sequentialminus": [
            [
             0,
             "#0d0887"
            ],
            [
             0.1111111111111111,
             "#46039f"
            ],
            [
             0.2222222222222222,
             "#7201a8"
            ],
            [
             0.3333333333333333,
             "#9c179e"
            ],
            [
             0.4444444444444444,
             "#bd3786"
            ],
            [
             0.5555555555555556,
             "#d8576b"
            ],
            [
             0.6666666666666666,
             "#ed7953"
            ],
            [
             0.7777777777777778,
             "#fb9f3a"
            ],
            [
             0.8888888888888888,
             "#fdca26"
            ],
            [
             1,
             "#f0f921"
            ]
           ]
          },
          "colorway": [
           "#636efa",
           "#EF553B",
           "#00cc96",
           "#ab63fa",
           "#FFA15A",
           "#19d3f3",
           "#FF6692",
           "#B6E880",
           "#FF97FF",
           "#FECB52"
          ],
          "font": {
           "color": "#2a3f5f"
          },
          "geo": {
           "bgcolor": "white",
           "lakecolor": "white",
           "landcolor": "#E5ECF6",
           "showlakes": true,
           "showland": true,
           "subunitcolor": "white"
          },
          "hoverlabel": {
           "align": "left"
          },
          "hovermode": "closest",
          "mapbox": {
           "style": "light"
          },
          "paper_bgcolor": "white",
          "plot_bgcolor": "#E5ECF6",
          "polar": {
           "angularaxis": {
            "gridcolor": "white",
            "linecolor": "white",
            "ticks": ""
           },
           "bgcolor": "#E5ECF6",
           "radialaxis": {
            "gridcolor": "white",
            "linecolor": "white",
            "ticks": ""
           }
          },
          "scene": {
           "xaxis": {
            "backgroundcolor": "#E5ECF6",
            "gridcolor": "white",
            "gridwidth": 2,
            "linecolor": "white",
            "showbackground": true,
            "ticks": "",
            "zerolinecolor": "white"
           },
           "yaxis": {
            "backgroundcolor": "#E5ECF6",
            "gridcolor": "white",
            "gridwidth": 2,
            "linecolor": "white",
            "showbackground": true,
            "ticks": "",
            "zerolinecolor": "white"
           },
           "zaxis": {
            "backgroundcolor": "#E5ECF6",
            "gridcolor": "white",
            "gridwidth": 2,
            "linecolor": "white",
            "showbackground": true,
            "ticks": "",
            "zerolinecolor": "white"
           }
          },
          "shapedefaults": {
           "line": {
            "color": "#2a3f5f"
           }
          },
          "ternary": {
           "aaxis": {
            "gridcolor": "white",
            "linecolor": "white",
            "ticks": ""
           },
           "baxis": {
            "gridcolor": "white",
            "linecolor": "white",
            "ticks": ""
           },
           "bgcolor": "#E5ECF6",
           "caxis": {
            "gridcolor": "white",
            "linecolor": "white",
            "ticks": ""
           }
          },
          "title": {
           "x": 0.05
          },
          "xaxis": {
           "automargin": true,
           "gridcolor": "white",
           "linecolor": "white",
           "ticks": "",
           "title": {
            "standoff": 15
           },
           "zerolinecolor": "white",
           "zerolinewidth": 2
          },
          "yaxis": {
           "automargin": true,
           "gridcolor": "white",
           "linecolor": "white",
           "ticks": "",
           "title": {
            "standoff": 15
           },
           "zerolinecolor": "white",
           "zerolinewidth": 2
          }
         }
        },
        "title": {
         "text": "Comparaison prediction and true HDI for ridge regression on all features"
        },
        "xaxis": {
         "autorange": true,
         "range": [
          -0.5,
          50.5
         ],
         "type": "category"
        },
        "yaxis": {
         "autorange": true,
         "range": [
          0,
          1.0094736842105263
         ],
         "type": "linear"
        }
       }
      },
      "image/png": "[encoded data removed]",
      "text/html": [
       "<div>\n",
       "        \n",
       "        \n",
       "            <div id=\"59d822e4-bc3a-4379-95b7-ec029fe6b3d1\" class=\"plotly-graph-div\" style=\"height:525px; width:100%;\"></div>\n",
       "            <script type=\"text/javascript\">\n",
       "                require([\"plotly\"], function(Plotly) {\n",
       "                    window.PLOTLYENV=window.PLOTLYENV || {};\n",
       "                    \n",
       "                if (document.getElementById(\"59d822e4-bc3a-4379-95b7-ec029fe6b3d1\")) {\n",
       "                    Plotly.newPlot(\n",
       "                        '59d822e4-bc3a-4379-95b7-ec029fe6b3d1',\n",
       "                        [{\"name\": \"Real HDI value\", \"type\": \"bar\", \"x\": [\"alabama\", \"alaska\", \"arizona\", \"arkansas\", \"california\", \"colorado\", \"connecticut\", \"delaware\", \"district of columbia\", \"florida\", \"georgia\", \"hawaii\", \"idaho\", \"illinois\", \"indiana\", \"iowa\", \"kansas\", \"kentucky\", \"louisiana\", \"maine\", \"maryland\", \"massachusetts\", \"michigan\", \"minnesota\", \"mississippi\", \"missouri\", \"montana\", \"nebraska\", \"nevada\", \"new hampshire\", \"new jersey\", \"new mexico\", \"new york\", \"north carolina\", \"north dakota\", \"ohio\", \"oklahoma\", \"oregon\", \"pennsylvania\", \"rhode island\", \"south carolina\", \"south dakota\", \"tennessee\", \"texas\", \"utah\", \"vermont\", \"virginia\", \"washington\", \"west virginia\", \"wisconsin\", \"wyoming\"], \"y\": [0.882, 0.9420000000000001, 0.912, 0.882, 0.934, 0.946, 0.9570000000000001, 0.935, 0.9490000000000001, 0.9129999999999999, 0.9059999999999999, 0.9440000000000001, 0.912, 0.9329999999999999, 0.91, 0.932, 0.927, 0.885, 0.89, 0.919, 0.9390000000000001, 0.9590000000000001, 0.9159999999999999, 0.9520000000000001, 0.867, 0.91, 0.922, 0.938, 0.9059999999999999, 0.9470000000000001, 0.9470000000000001, 0.905, 0.946, 0.909, 0.946, 0.917, 0.898, 0.934, 0.9259999999999999, 0.924, 0.894, 0.932, 0.8959999999999999, 0.914, 0.934, 0.941, 0.9329999999999999, 0.9440000000000001, 0.877, 0.9329999999999999, 0.937]}, {\"name\": \"Predicted HDI value with Ridge Regression\", \"type\": \"bar\", \"x\": [\"alabama\", \"alaska\", \"arizona\", \"arkansas\", \"california\", \"colorado\", \"connecticut\", \"delaware\", \"district of columbia\", \"florida\", \"georgia\", \"hawaii\", \"idaho\", \"illinois\", \"indiana\", \"iowa\", \"kansas\", \"kentucky\", \"louisiana\", \"maine\", \"maryland\", \"massachusetts\", \"michigan\", \"minnesota\", \"mississippi\", \"missouri\", \"montana\", \"nebraska\", \"nevada\", \"new hampshire\", \"new jersey\", \"new mexico\", \"new york\", \"north carolina\", \"north dakota\", \"ohio\", \"oklahoma\", \"oregon\", \"pennsylvania\", \"rhode island\", \"south carolina\", \"south dakota\", \"tennessee\", \"texas\", \"utah\", \"vermont\", \"virginia\", \"washington\", \"west virginia\", \"wisconsin\", \"wyoming\"], \"y\": [0.8859883952527844, 0.9369447563611166, 0.922554459209434, 0.8877717383585638, 0.9501094371782293, 0.9489974115422916, 0.9431617173190849, 0.9196796159990882, 0.9404187325159334, 0.9249531743115963, 0.9049122679375272, 0.9501062135257026, 0.9259576893289654, 0.9235206781260151, 0.9037663723694773, 0.922630166087444, 0.9161718305319161, 0.9001760689892091, 0.8905963578910797, 0.9252379041615404, 0.9360599811188635, 0.9427511254463525, 0.9083170747878437, 0.9514924823020804, 0.8791434512573062, 0.9089662767515201, 0.9337832455940056, 0.9405646648008431, 0.9112405490460912, 0.9454426207395529, 0.9472799477294979, 0.9010925849674455, 0.9323017085661911, 0.9032943560344527, 0.9315674111182792, 0.8958322958070373, 0.8854028147601986, 0.9221760497433874, 0.9262029918906921, 0.932357386729263, 0.8979216709367223, 0.9421211027069688, 0.8957631585561086, 0.9090055229500621, 0.9244094756154317, 0.9509925930804345, 0.9298852133778069, 0.9422865027642098, 0.8780832844373557, 0.9425742357919068, 0.9490180082003844]}],\n",
       "                        {\"barmode\": \"group\", \"template\": {\"data\": {\"bar\": [{\"error_x\": {\"color\": \"#2a3f5f\"}, \"error_y\": {\"color\": \"#2a3f5f\"}, \"marker\": {\"line\": {\"color\": \"#E5ECF6\", \"width\": 0.5}}, \"type\": \"bar\"}], \"barpolar\": [{\"marker\": {\"line\": {\"color\": \"#E5ECF6\", \"width\": 0.5}}, \"type\": \"barpolar\"}], \"carpet\": [{\"aaxis\": {\"endlinecolor\": \"#2a3f5f\", \"gridcolor\": \"white\", \"linecolor\": \"white\", \"minorgridcolor\": \"white\", \"startlinecolor\": \"#2a3f5f\"}, \"baxis\": {\"endlinecolor\": \"#2a3f5f\", \"gridcolor\": \"white\", \"linecolor\": \"white\", \"minorgridcolor\": \"white\", \"startlinecolor\": \"#2a3f5f\"}, \"type\": \"carpet\"}], \"choropleth\": [{\"colorbar\": {\"outlinewidth\": 0, \"ticks\": \"\"}, \"type\": \"choropleth\"}], \"contour\": [{\"colorbar\": {\"outlinewidth\": 0, \"ticks\": \"\"}, \"colorscale\": [[0.0, \"#0d0887\"], [0.1111111111111111, \"#46039f\"], [0.2222222222222222, \"#7201a8\"], [0.3333333333333333, \"#9c179e\"], [0.4444444444444444, \"#bd3786\"], [0.5555555555555556, \"#d8576b\"], [0.6666666666666666, \"#ed7953\"], [0.7777777777777778, \"#fb9f3a\"], [0.8888888888888888, \"#fdca26\"], [1.0, \"#f0f921\"]], \"type\": \"contour\"}], \"contourcarpet\": [{\"colorbar\": {\"outlinewidth\": 0, \"ticks\": \"\"}, \"type\": \"contourcarpet\"}], \"heatmap\": [{\"colorbar\": {\"outlinewidth\": 0, \"ticks\": \"\"}, \"colorscale\": [[0.0, \"#0d0887\"], [0.1111111111111111, \"#46039f\"], [0.2222222222222222, \"#7201a8\"], [0.3333333333333333, \"#9c179e\"], [0.4444444444444444, \"#bd3786\"], [0.5555555555555556, \"#d8576b\"], [0.6666666666666666, \"#ed7953\"], [0.7777777777777778, \"#fb9f3a\"], [0.8888888888888888, \"#fdca26\"], [1.0, \"#f0f921\"]], \"type\": \"heatmap\"}], \"heatmapgl\": [{\"colorbar\": {\"outlinewidth\": 0, \"ticks\": \"\"}, \"colorscale\": [[0.0, \"#0d0887\"], [0.1111111111111111, \"#46039f\"], [0.2222222222222222, \"#7201a8\"], [0.3333333333333333, \"#9c179e\"], [0.4444444444444444, \"#bd3786\"], [0.5555555555555556, \"#d8576b\"], [0.6666666666666666, \"#ed7953\"], [0.7777777777777778, \"#fb9f3a\"], [0.8888888888888888, \"#fdca26\"], [1.0, \"#f0f921\"]], \"type\": \"heatmapgl\"}], \"histogram\": [{\"marker\": {\"colorbar\": {\"outlinewidth\": 0, \"ticks\": \"\"}}, \"type\": \"histogram\"}], \"histogram2d\": [{\"colorbar\": {\"outlinewidth\": 0, \"ticks\": \"\"}, \"colorscale\": [[0.0, \"#0d0887\"], [0.1111111111111111, \"#46039f\"], [0.2222222222222222, \"#7201a8\"], [0.3333333333333333, \"#9c179e\"], [0.4444444444444444, \"#bd3786\"], [0.5555555555555556, \"#d8576b\"], [0.6666666666666666, \"#ed7953\"], [0.7777777777777778, \"#fb9f3a\"], [0.8888888888888888, \"#fdca26\"], [1.0, \"#f0f921\"]], \"type\": \"histogram2d\"}], \"histogram2dcontour\": [{\"colorbar\": {\"outlinewidth\": 0, \"ticks\": \"\"}, \"colorscale\": [[0.0, \"#0d0887\"], [0.1111111111111111, \"#46039f\"], [0.2222222222222222, \"#7201a8\"], [0.3333333333333333, \"#9c179e\"], [0.4444444444444444, \"#bd3786\"], [0.5555555555555556, \"#d8576b\"], [0.6666666666666666, \"#ed7953\"], [0.7777777777777778, \"#fb9f3a\"], [0.8888888888888888, \"#fdca26\"], [1.0, \"#f0f921\"]], \"type\": \"histogram2dcontour\"}], \"mesh3d\": [{\"colorbar\": {\"outlinewidth\": 0, \"ticks\": \"\"}, \"type\": \"mesh3d\"}], \"parcoords\": [{\"line\": {\"colorbar\": {\"outlinewidth\": 0, \"ticks\": \"\"}}, \"type\": \"parcoords\"}], \"pie\": [{\"automargin\": true, \"type\": \"pie\"}], \"scatter\": [{\"marker\": {\"colorbar\": {\"outlinewidth\": 0, \"ticks\": \"\"}}, \"type\": \"scatter\"}], \"scatter3d\": [{\"line\": {\"colorbar\": {\"outlinewidth\": 0, \"ticks\": \"\"}}, \"marker\": {\"colorbar\": {\"outlinewidth\": 0, \"ticks\": \"\"}}, \"type\": \"scatter3d\"}], \"scattercarpet\": [{\"marker\": {\"colorbar\": {\"outlinewidth\": 0, \"ticks\": \"\"}}, \"type\": \"scattercarpet\"}], \"scattergeo\": [{\"marker\": {\"colorbar\": {\"outlinewidth\": 0, \"ticks\": \"\"}}, \"type\": \"scattergeo\"}], \"scattergl\": [{\"marker\": {\"colorbar\": {\"outlinewidth\": 0, \"ticks\": \"\"}}, \"type\": \"scattergl\"}], \"scattermapbox\": [{\"marker\": {\"colorbar\": {\"outlinewidth\": 0, \"ticks\": \"\"}}, \"type\": \"scattermapbox\"}], \"scatterpolar\": [{\"marker\": {\"colorbar\": {\"outlinewidth\": 0, \"ticks\": \"\"}}, \"type\": \"scatterpolar\"}], \"scatterpolargl\": [{\"marker\": {\"colorbar\": {\"outlinewidth\": 0, \"ticks\": \"\"}}, \"type\": \"scatterpolargl\"}], \"scatterternary\": [{\"marker\": {\"colorbar\": {\"outlinewidth\": 0, \"ticks\": \"\"}}, \"type\": \"scatterternary\"}], \"surface\": [{\"colorbar\": {\"outlinewidth\": 0, \"ticks\": \"\"}, \"colorscale\": [[0.0, \"#0d0887\"], [0.1111111111111111, \"#46039f\"], [0.2222222222222222, \"#7201a8\"], [0.3333333333333333, \"#9c179e\"], [0.4444444444444444, \"#bd3786\"], [0.5555555555555556, \"#d8576b\"], [0.6666666666666666, \"#ed7953\"], [0.7777777777777778, \"#fb9f3a\"], [0.8888888888888888, \"#fdca26\"], [1.0, \"#f0f921\"]], \"type\": \"surface\"}], \"table\": [{\"cells\": {\"fill\": {\"color\": \"#EBF0F8\"}, \"line\": {\"color\": \"white\"}}, \"header\": {\"fill\": {\"color\": \"#C8D4E3\"}, \"line\": {\"color\": \"white\"}}, \"type\": \"table\"}]}, \"layout\": {\"annotationdefaults\": {\"arrowcolor\": \"#2a3f5f\", \"arrowhead\": 0, \"arrowwidth\": 1}, \"coloraxis\": {\"colorbar\": {\"outlinewidth\": 0, \"ticks\": \"\"}}, \"colorscale\": {\"diverging\": [[0, \"#8e0152\"], [0.1, \"#c51b7d\"], [0.2, \"#de77ae\"], [0.3, \"#f1b6da\"], [0.4, \"#fde0ef\"], [0.5, \"#f7f7f7\"], [0.6, \"#e6f5d0\"], [0.7, \"#b8e186\"], [0.8, \"#7fbc41\"], [0.9, \"#4d9221\"], [1, \"#276419\"]], \"sequential\": [[0.0, \"#0d0887\"], [0.1111111111111111, \"#46039f\"], [0.2222222222222222, \"#7201a8\"], [0.3333333333333333, \"#9c179e\"], [0.4444444444444444, \"#bd3786\"], [0.5555555555555556, \"#d8576b\"], [0.6666666666666666, \"#ed7953\"], [0.7777777777777778, \"#fb9f3a\"], [0.8888888888888888, \"#fdca26\"], [1.0, \"#f0f921\"]], \"sequentialminus\": [[0.0, \"#0d0887\"], [0.1111111111111111, \"#46039f\"], [0.2222222222222222, \"#7201a8\"], [0.3333333333333333, \"#9c179e\"], [0.4444444444444444, \"#bd3786\"], [0.5555555555555556, \"#d8576b\"], [0.6666666666666666, \"#ed7953\"], [0.7777777777777778, \"#fb9f3a\"], [0.8888888888888888, \"#fdca26\"], [1.0, \"#f0f921\"]]}, \"colorway\": [\"#636efa\", \"#EF553B\", \"#00cc96\", \"#ab63fa\", \"#FFA15A\", \"#19d3f3\", \"#FF6692\", \"#B6E880\", \"#FF97FF\", \"#FECB52\"], \"font\": {\"color\": \"#2a3f5f\"}, \"geo\": {\"bgcolor\": \"white\", \"lakecolor\": \"white\", \"landcolor\": \"#E5ECF6\", \"showlakes\": true, \"showland\": true, \"subunitcolor\": \"white\"}, \"hoverlabel\": {\"align\": \"left\"}, \"hovermode\": \"closest\", \"mapbox\": {\"style\": \"light\"}, \"paper_bgcolor\": \"white\", \"plot_bgcolor\": \"#E5ECF6\", \"polar\": {\"angularaxis\": {\"gridcolor\": \"white\", \"linecolor\": \"white\", \"ticks\": \"\"}, \"bgcolor\": \"#E5ECF6\", \"radialaxis\": {\"gridcolor\": \"white\", \"linecolor\": \"white\", \"ticks\": \"\"}}, \"scene\": {\"xaxis\": {\"backgroundcolor\": \"#E5ECF6\", \"gridcolor\": \"white\", \"gridwidth\": 2, \"linecolor\": \"white\", \"showbackground\": true, \"ticks\": \"\", \"zerolinecolor\": \"white\"}, \"yaxis\": {\"backgroundcolor\": \"#E5ECF6\", \"gridcolor\": \"white\", \"gridwidth\": 2, \"linecolor\": \"white\", \"showbackground\": true, \"ticks\": \"\", \"zerolinecolor\": \"white\"}, \"zaxis\": {\"backgroundcolor\": \"#E5ECF6\", \"gridcolor\": \"white\", \"gridwidth\": 2, \"linecolor\": \"white\", \"showbackground\": true, \"ticks\": \"\", \"zerolinecolor\": \"white\"}}, \"shapedefaults\": {\"line\": {\"color\": \"#2a3f5f\"}}, \"ternary\": {\"aaxis\": {\"gridcolor\": \"white\", \"linecolor\": \"white\", \"ticks\": \"\"}, \"baxis\": {\"gridcolor\": \"white\", \"linecolor\": \"white\", \"ticks\": \"\"}, \"bgcolor\": \"#E5ECF6\", \"caxis\": {\"gridcolor\": \"white\", \"linecolor\": \"white\", \"ticks\": \"\"}}, \"title\": {\"x\": 0.05}, \"xaxis\": {\"automargin\": true, \"gridcolor\": \"white\", \"linecolor\": \"white\", \"ticks\": \"\", \"title\": {\"standoff\": 15}, \"zerolinecolor\": \"white\", \"zerolinewidth\": 2}, \"yaxis\": {\"automargin\": true, \"gridcolor\": \"white\", \"linecolor\": \"white\", \"ticks\": \"\", \"title\": {\"standoff\": 15}, \"zerolinecolor\": \"white\", \"zerolinewidth\": 2}}}, \"title\": {\"text\": \"Comparaison prediction and true HDI for ridge regression on all features\"}},\n",
       "                        {\"responsive\": true}\n",
       "                    ).then(function(){\n",
       "                            \n",
       "var gd = document.getElementById('59d822e4-bc3a-4379-95b7-ec029fe6b3d1');\n",
       "var x = new MutationObserver(function (mutations, observer) {{\n",
       "        var display = window.getComputedStyle(gd).display;\n",
       "        if (!display || display === 'none') {{\n",
       "            console.log([gd, 'removed!']);\n",
       "            Plotly.purge(gd);\n",
       "            observer.disconnect();\n",
       "        }}\n",
       "}});\n",
       "\n",
       "// Listen for the removal of the full notebook cells\n",
       "var notebookContainer = gd.closest('#notebook-container');\n",
       "if (notebookContainer) {{\n",
       "    x.observe(notebookContainer, {childList: true});\n",
       "}}\n",
       "\n",
       "// Listen for the clearing of the current output cell\n",
       "var outputEl = gd.closest('.output');\n",
       "if (outputEl) {{\n",
       "    x.observe(outputEl, {childList: true});\n",
       "}}\n",
       "\n",
       "                        })\n",
       "                };\n",
       "                });\n",
       "            </script>\n",
       "        </div>"
      ]
     },
     "metadata": {},
     "output_type": "display_data"
    }
   ],
   "source": [
    "fig = go.Figure(\n",
    "    #name='Comparaison prediction and true HDI for ridge regression on all features',\n",
    "    data=[\n",
    "        go.Bar(name=\"Real HDI value\",\n",
    "               x=df.State, \n",
    "               y=y),\n",
    "        go.Bar(\n",
    "            name='Predicted HDI value with Ridge Regression',\n",
    "            x=df.State,\n",
    "            y=Y_pred_ridge.reshape(len(Y_pred_ridge)))\n",
    "        ])\n",
    "# Change the bar mode\n",
    "fig.update_layout(barmode='group', title=\"Comparaison prediction and true HDI for ridge regression on all features\")\n",
    "fig.show()\n",
    "\n",
    "plotly.io.write_html(fig, \"plots/barplot_MSE_HDI_comparison.html\")"
   ]
  },
  {
   "cell_type": "code",
   "execution_count": 88,
   "metadata": {},
   "outputs": [
    {
     "data": {
      "image/png": "[encoded data removed]",
      "text/plain": [
       "<Figure size 1440x720 with 1 Axes>"
      ]
     },
     "metadata": {
      "needs_background": "light"
     },
     "output_type": "display_data"
    }
   ],
   "source": [
    "\n",
    "#here we compare true HDI with predicted HDI\n",
    "plt.figure(figsize=(20,10))\n",
    "plt.title(\"Comparaison prediction and true HDI for ridge regression on all features\")\n",
    "plt.ylabel(\"HDI\")\n",
    "barWidth = 0.25\n",
    "r1 = np.arange(len(Y_pred_ridge))\n",
    "r2 = [x + barWidth for x in r1]\n",
    "plt.bar(r1, y, width=0.15) \n",
    "plt.bar(r2, Y_pred_ridge.reshape(len(Y_pred_ridge)), width=0.15) \n",
    "plt.xticks([r + barWidth/2 for r in range(len(Y_pred_ridge))], df.State, \n",
    "           rotation='vertical')\n",
    "plt.gca().legend(('true HDI', 'predicted HDI'))\n",
    "plt.show()"
   ]
  },
  {
   "cell_type": "markdown",
   "metadata": {},
   "source": [
    "We can see that the prediction is not as accurate as with the full 31 features but given that here there are only 8 features, the prediction is still close to the real HDI.  \n",
    "\n",
    "Are there some outliers (i.e. some states with really bad prediction) ?"
   ]
  },
  {
   "cell_type": "code",
   "execution_count": 89,
   "metadata": {},
   "outputs": [
    {
     "data": {
      "image/png": "[encoded data removed]",
      "text/plain": [
       "<Figure size 432x288 with 1 Axes>"
      ]
     },
     "metadata": {
      "needs_background": "light"
     },
     "output_type": "display_data"
    },
    {
     "name": "stdout",
     "output_type": "stream",
     "text": [
      "The mean of the difference is of : 0.0006277495175432467\n",
      "The standard devition is of : 0.009303782702801676\n"
     ]
    }
   ],
   "source": [
    "differenceTable = y - Y_pred_ridge.reshape(len(Y_pred_ridge))\n",
    "\n",
    "plt.title(\"Difference true HDI and predicted HDI.\")\n",
    "plt.xlabel(\"true HDI - predicted HDI\")\n",
    "plt.ylabel(\"nbr of states\")\n",
    "plt.hist(differenceTable, bins=11)\n",
    "p, x = np.histogram(differenceTable, bins=11)\n",
    "x = x[:-1] + (x[1] - x[0])/2   # convert bin edges to centers\n",
    "f = UnivariateSpline(x, p, s=11)\n",
    "plt.plot(x, f(x))\n",
    "plt.show()\n",
    "print(\"The mean of the difference is of : \"+str(differenceTable.mean()))\n",
    "print(\"The standard devition is of : \"+str(np.std(differenceTable)))"
   ]
  },
  {
   "cell_type": "markdown",
   "metadata": {},
   "source": [
    "We can see that the mean of the difference is stil near '0' which is good.  \n",
    "We can notice that the standard deviation increased when we applied PCA. It went from ~0.002734 to ~0.010325 (i.e. increased ~3.8 times. Since PCA remove some info from the input, this lost of precision was expected and explains the higher loss of ridge regression with polynomial expansion when we apply PCA."
   ]
  },
  {
   "cell_type": "code",
   "execution_count": null,
   "metadata": {},
   "outputs": [],
   "source": []
  }
 ],
 "metadata": {
  "kernelspec": {
   "display_name": "Python 3",
   "language": "python",
   "name": "python3"
  },
  "language_info": {
   "codemirror_mode": {
    "name": "ipython",
    "version": 3
   },
   "file_extension": ".py",
   "mimetype": "text/x-python",
   "name": "python",
   "nbconvert_exporter": "python",
   "pygments_lexer": "ipython3",
   "version": "3.7.4"
  }
 },
 "nbformat": 4,
 "nbformat_minor": 4
}
