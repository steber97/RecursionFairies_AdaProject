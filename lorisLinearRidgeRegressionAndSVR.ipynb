{
 "cells": [
  {
   "cell_type": "code",
   "execution_count": 1,
   "metadata": {},
   "outputs": [],
   "source": [
    "#Load required Libraries\n",
    "import numpy as np\n",
    "import pandas as pd\n",
    "from sklearn.linear_model import LinearRegression,RidgeCV\n",
    "from sklearn.model_selection import *\n",
    "from sklearn.preprocessing import *\n",
    "from sklearn.svm import SVR\n",
    "from sklearn.decomposition import *\n",
    "from sklearn.metrics import mean_squared_error,make_scorer\n",
    "import matplotlib.pyplot as plt\n"
   ]
  },
  {
   "cell_type": "code",
   "execution_count": 2,
   "metadata": {},
   "outputs": [
    {
     "data": {
      "text/html": [
       "<div>\n",
       "<style scoped>\n",
       "    .dataframe tbody tr th:only-of-type {\n",
       "        vertical-align: middle;\n",
       "    }\n",
       "\n",
       "    .dataframe tbody tr th {\n",
       "        vertical-align: top;\n",
       "    }\n",
       "\n",
       "    .dataframe thead th {\n",
       "        text-align: right;\n",
       "    }\n",
       "</style>\n",
       "<table border=\"1\" class=\"dataframe\">\n",
       "  <thead>\n",
       "    <tr style=\"text-align: right;\">\n",
       "      <th></th>\n",
       "      <th>State</th>\n",
       "      <th>HDI</th>\n",
       "      <th>awards_per_value</th>\n",
       "      <th>exp_award_value</th>\n",
       "      <th>High_School_Fee</th>\n",
       "      <th>Elementary_School_Fee</th>\n",
       "      <th>Colleges_universities_per_1000000</th>\n",
       "      <th>Junior_colleges_per_1000000</th>\n",
       "      <th>Prof_schools_per_1000000</th>\n",
       "      <th>Intensive_top_230_score</th>\n",
       "      <th>...</th>\n",
       "      <th>Property_crime</th>\n",
       "      <th>Burglary</th>\n",
       "      <th>Theft</th>\n",
       "      <th>Motor_Vehicle_theft</th>\n",
       "      <th>Per_capita_income</th>\n",
       "      <th>Price_2018_Studio</th>\n",
       "      <th>Price_2018_1br</th>\n",
       "      <th>Price_2018_2br</th>\n",
       "      <th>Price_2018_3br</th>\n",
       "      <th>Price_2018_4br</th>\n",
       "    </tr>\n",
       "  </thead>\n",
       "  <tbody>\n",
       "    <tr>\n",
       "      <td>1</td>\n",
       "      <td>alabama</td>\n",
       "      <td>0.882</td>\n",
       "      <td>19.514493</td>\n",
       "      <td>63013.173913</td>\n",
       "      <td>7718.0</td>\n",
       "      <td>6388.0</td>\n",
       "      <td>8.636111</td>\n",
       "      <td>7.402381</td>\n",
       "      <td>3.289947</td>\n",
       "      <td>75.257541</td>\n",
       "      <td>...</td>\n",
       "      <td>2947.8</td>\n",
       "      <td>700.5</td>\n",
       "      <td>2006.3</td>\n",
       "      <td>241.1</td>\n",
       "      <td>38215.0</td>\n",
       "      <td>605.416667</td>\n",
       "      <td>659.000000</td>\n",
       "      <td>800.666667</td>\n",
       "      <td>1069.666667</td>\n",
       "      <td>1244.333333</td>\n",
       "    </tr>\n",
       "    <tr>\n",
       "      <td>2</td>\n",
       "      <td>alaska</td>\n",
       "      <td>0.942</td>\n",
       "      <td>18.414286</td>\n",
       "      <td>141431.142857</td>\n",
       "      <td>6118.0</td>\n",
       "      <td>7544.0</td>\n",
       "      <td>8.087409</td>\n",
       "      <td>1.347901</td>\n",
       "      <td>2.695803</td>\n",
       "      <td>39.089142</td>\n",
       "      <td>...</td>\n",
       "      <td>3353.0</td>\n",
       "      <td>546.3</td>\n",
       "      <td>2394.7</td>\n",
       "      <td>412.1</td>\n",
       "      <td>54430.0</td>\n",
       "      <td>814.333333</td>\n",
       "      <td>930.500000</td>\n",
       "      <td>1190.333333</td>\n",
       "      <td>1682.166667</td>\n",
       "      <td>2019.500000</td>\n",
       "    </tr>\n",
       "    <tr>\n",
       "      <td>3</td>\n",
       "      <td>arizona</td>\n",
       "      <td>0.912</td>\n",
       "      <td>25.563492</td>\n",
       "      <td>47830.888889</td>\n",
       "      <td>17339.0</td>\n",
       "      <td>6283.0</td>\n",
       "      <td>6.636781</td>\n",
       "      <td>6.203947</td>\n",
       "      <td>6.059670</td>\n",
       "      <td>30.154070</td>\n",
       "      <td>...</td>\n",
       "      <td>2978.4</td>\n",
       "      <td>544.4</td>\n",
       "      <td>2168.1</td>\n",
       "      <td>265.8</td>\n",
       "      <td>39955.0</td>\n",
       "      <td>701.000000</td>\n",
       "      <td>828.000000</td>\n",
       "      <td>1046.000000</td>\n",
       "      <td>1512.333333</td>\n",
       "      <td>1754.416667</td>\n",
       "    </tr>\n",
       "    <tr>\n",
       "      <td>4</td>\n",
       "      <td>arkansas</td>\n",
       "      <td>0.882</td>\n",
       "      <td>21.970833</td>\n",
       "      <td>51132.479167</td>\n",
       "      <td>6680.0</td>\n",
       "      <td>4698.0</td>\n",
       "      <td>8.700750</td>\n",
       "      <td>8.700750</td>\n",
       "      <td>10.708616</td>\n",
       "      <td>32.125848</td>\n",
       "      <td>...</td>\n",
       "      <td>3268.6</td>\n",
       "      <td>795.5</td>\n",
       "      <td>2233.6</td>\n",
       "      <td>239.4</td>\n",
       "      <td>39171.0</td>\n",
       "      <td>524.666667</td>\n",
       "      <td>571.166667</td>\n",
       "      <td>721.416667</td>\n",
       "      <td>977.583333</td>\n",
       "      <td>1144.833333</td>\n",
       "    </tr>\n",
       "    <tr>\n",
       "      <td>5</td>\n",
       "      <td>california</td>\n",
       "      <td>0.934</td>\n",
       "      <td>22.771429</td>\n",
       "      <td>63022.202857</td>\n",
       "      <td>19317.0</td>\n",
       "      <td>11363.0</td>\n",
       "      <td>6.726112</td>\n",
       "      <td>4.866240</td>\n",
       "      <td>6.089169</td>\n",
       "      <td>78.063660</td>\n",
       "      <td>...</td>\n",
       "      <td>2553.0</td>\n",
       "      <td>479.8</td>\n",
       "      <td>1623.0</td>\n",
       "      <td>450.3</td>\n",
       "      <td>54800.0</td>\n",
       "      <td>1212.333333</td>\n",
       "      <td>1426.333333</td>\n",
       "      <td>1818.916667</td>\n",
       "      <td>2519.250000</td>\n",
       "      <td>2926.333333</td>\n",
       "    </tr>\n",
       "  </tbody>\n",
       "</table>\n",
       "<p>5 rows × 33 columns</p>\n",
       "</div>"
      ],
      "text/plain": [
       "        State    HDI  awards_per_value  exp_award_value  High_School_Fee  \\\n",
       "1     alabama  0.882         19.514493     63013.173913           7718.0   \n",
       "2      alaska  0.942         18.414286    141431.142857           6118.0   \n",
       "3     arizona  0.912         25.563492     47830.888889          17339.0   \n",
       "4    arkansas  0.882         21.970833     51132.479167           6680.0   \n",
       "5  california  0.934         22.771429     63022.202857          19317.0   \n",
       "\n",
       "   Elementary_School_Fee  Colleges_universities_per_1000000  \\\n",
       "1                 6388.0                           8.636111   \n",
       "2                 7544.0                           8.087409   \n",
       "3                 6283.0                           6.636781   \n",
       "4                 4698.0                           8.700750   \n",
       "5                11363.0                           6.726112   \n",
       "\n",
       "   Junior_colleges_per_1000000  Prof_schools_per_1000000  \\\n",
       "1                     7.402381                  3.289947   \n",
       "2                     1.347901                  2.695803   \n",
       "3                     6.203947                  6.059670   \n",
       "4                     8.700750                 10.708616   \n",
       "5                     4.866240                  6.089169   \n",
       "\n",
       "   Intensive_top_230_score  ...  Property_crime  Burglary   Theft  \\\n",
       "1                75.257541  ...          2947.8     700.5  2006.3   \n",
       "2                39.089142  ...          3353.0     546.3  2394.7   \n",
       "3                30.154070  ...          2978.4     544.4  2168.1   \n",
       "4                32.125848  ...          3268.6     795.5  2233.6   \n",
       "5                78.063660  ...          2553.0     479.8  1623.0   \n",
       "\n",
       "   Motor_Vehicle_theft  Per_capita_income  Price_2018_Studio  Price_2018_1br  \\\n",
       "1                241.1            38215.0         605.416667      659.000000   \n",
       "2                412.1            54430.0         814.333333      930.500000   \n",
       "3                265.8            39955.0         701.000000      828.000000   \n",
       "4                239.4            39171.0         524.666667      571.166667   \n",
       "5                450.3            54800.0        1212.333333     1426.333333   \n",
       "\n",
       "   Price_2018_2br  Price_2018_3br  Price_2018_4br  \n",
       "1      800.666667     1069.666667     1244.333333  \n",
       "2     1190.333333     1682.166667     2019.500000  \n",
       "3     1046.000000     1512.333333     1754.416667  \n",
       "4      721.416667      977.583333     1144.833333  \n",
       "5     1818.916667     2519.250000     2926.333333  \n",
       "\n",
       "[5 rows x 33 columns]"
      ]
     },
     "execution_count": 2,
     "metadata": {},
     "output_type": "execute_result"
    }
   ],
   "source": [
    "#Load the normalized data from previous steps with HDI\n",
    "df = pd.read_pickle('Pickles/normalDataFromAngeloWithHDI.pickle')\n",
    "df.head()"
   ]
  },
  {
   "cell_type": "markdown",
   "metadata": {},
   "source": [
    "We remove the State names and set the HDI values as the output `y` and the remaining features as the data `X`."
   ]
  },
  {
   "cell_type": "code",
   "execution_count": 3,
   "metadata": {},
   "outputs": [
    {
     "data": {
      "text/html": [
       "<div>\n",
       "<style scoped>\n",
       "    .dataframe tbody tr th:only-of-type {\n",
       "        vertical-align: middle;\n",
       "    }\n",
       "\n",
       "    .dataframe tbody tr th {\n",
       "        vertical-align: top;\n",
       "    }\n",
       "\n",
       "    .dataframe thead th {\n",
       "        text-align: right;\n",
       "    }\n",
       "</style>\n",
       "<table border=\"1\" class=\"dataframe\">\n",
       "  <thead>\n",
       "    <tr style=\"text-align: right;\">\n",
       "      <th></th>\n",
       "      <th>awards_per_value</th>\n",
       "      <th>exp_award_value</th>\n",
       "      <th>High_School_Fee</th>\n",
       "      <th>Elementary_School_Fee</th>\n",
       "      <th>Colleges_universities_per_1000000</th>\n",
       "      <th>Junior_colleges_per_1000000</th>\n",
       "      <th>Prof_schools_per_1000000</th>\n",
       "      <th>Intensive_top_230_score</th>\n",
       "      <th>Life_Expectancy</th>\n",
       "      <th>mc_donalds_per_100k</th>\n",
       "      <th>...</th>\n",
       "      <th>Property_crime</th>\n",
       "      <th>Burglary</th>\n",
       "      <th>Theft</th>\n",
       "      <th>Motor_Vehicle_theft</th>\n",
       "      <th>Per_capita_income</th>\n",
       "      <th>Price_2018_Studio</th>\n",
       "      <th>Price_2018_1br</th>\n",
       "      <th>Price_2018_2br</th>\n",
       "      <th>Price_2018_3br</th>\n",
       "      <th>Price_2018_4br</th>\n",
       "    </tr>\n",
       "  </thead>\n",
       "  <tbody>\n",
       "    <tr>\n",
       "      <td>1</td>\n",
       "      <td>19.514493</td>\n",
       "      <td>63013.173913</td>\n",
       "      <td>7718.0</td>\n",
       "      <td>6388.0</td>\n",
       "      <td>8.636111</td>\n",
       "      <td>7.402381</td>\n",
       "      <td>3.289947</td>\n",
       "      <td>75.257541</td>\n",
       "      <td>74.813987</td>\n",
       "      <td>5.0</td>\n",
       "      <td>...</td>\n",
       "      <td>2947.8</td>\n",
       "      <td>700.5</td>\n",
       "      <td>2006.3</td>\n",
       "      <td>241.1</td>\n",
       "      <td>38215.0</td>\n",
       "      <td>605.416667</td>\n",
       "      <td>659.000000</td>\n",
       "      <td>800.666667</td>\n",
       "      <td>1069.666667</td>\n",
       "      <td>1244.333333</td>\n",
       "    </tr>\n",
       "    <tr>\n",
       "      <td>2</td>\n",
       "      <td>18.414286</td>\n",
       "      <td>141431.142857</td>\n",
       "      <td>6118.0</td>\n",
       "      <td>7544.0</td>\n",
       "      <td>8.087409</td>\n",
       "      <td>1.347901</td>\n",
       "      <td>2.695803</td>\n",
       "      <td>39.089142</td>\n",
       "      <td>78.915541</td>\n",
       "      <td>4.2</td>\n",
       "      <td>...</td>\n",
       "      <td>3353.0</td>\n",
       "      <td>546.3</td>\n",
       "      <td>2394.7</td>\n",
       "      <td>412.1</td>\n",
       "      <td>54430.0</td>\n",
       "      <td>814.333333</td>\n",
       "      <td>930.500000</td>\n",
       "      <td>1190.333333</td>\n",
       "      <td>1682.166667</td>\n",
       "      <td>2019.500000</td>\n",
       "    </tr>\n",
       "    <tr>\n",
       "      <td>3</td>\n",
       "      <td>25.563492</td>\n",
       "      <td>47830.888889</td>\n",
       "      <td>17339.0</td>\n",
       "      <td>6283.0</td>\n",
       "      <td>6.636781</td>\n",
       "      <td>6.203947</td>\n",
       "      <td>6.059670</td>\n",
       "      <td>30.154070</td>\n",
       "      <td>78.364742</td>\n",
       "      <td>4.1</td>\n",
       "      <td>...</td>\n",
       "      <td>2978.4</td>\n",
       "      <td>544.4</td>\n",
       "      <td>2168.1</td>\n",
       "      <td>265.8</td>\n",
       "      <td>39955.0</td>\n",
       "      <td>701.000000</td>\n",
       "      <td>828.000000</td>\n",
       "      <td>1046.000000</td>\n",
       "      <td>1512.333333</td>\n",
       "      <td>1754.416667</td>\n",
       "    </tr>\n",
       "    <tr>\n",
       "      <td>4</td>\n",
       "      <td>21.970833</td>\n",
       "      <td>51132.479167</td>\n",
       "      <td>6680.0</td>\n",
       "      <td>4698.0</td>\n",
       "      <td>8.700750</td>\n",
       "      <td>8.700750</td>\n",
       "      <td>10.708616</td>\n",
       "      <td>32.125848</td>\n",
       "      <td>75.626900</td>\n",
       "      <td>5.8</td>\n",
       "      <td>...</td>\n",
       "      <td>3268.6</td>\n",
       "      <td>795.5</td>\n",
       "      <td>2233.6</td>\n",
       "      <td>239.4</td>\n",
       "      <td>39171.0</td>\n",
       "      <td>524.666667</td>\n",
       "      <td>571.166667</td>\n",
       "      <td>721.416667</td>\n",
       "      <td>977.583333</td>\n",
       "      <td>1144.833333</td>\n",
       "    </tr>\n",
       "    <tr>\n",
       "      <td>5</td>\n",
       "      <td>22.771429</td>\n",
       "      <td>63022.202857</td>\n",
       "      <td>19317.0</td>\n",
       "      <td>11363.0</td>\n",
       "      <td>6.726112</td>\n",
       "      <td>4.866240</td>\n",
       "      <td>6.089169</td>\n",
       "      <td>78.063660</td>\n",
       "      <td>80.231014</td>\n",
       "      <td>3.3</td>\n",
       "      <td>...</td>\n",
       "      <td>2553.0</td>\n",
       "      <td>479.8</td>\n",
       "      <td>1623.0</td>\n",
       "      <td>450.3</td>\n",
       "      <td>54800.0</td>\n",
       "      <td>1212.333333</td>\n",
       "      <td>1426.333333</td>\n",
       "      <td>1818.916667</td>\n",
       "      <td>2519.250000</td>\n",
       "      <td>2926.333333</td>\n",
       "    </tr>\n",
       "  </tbody>\n",
       "</table>\n",
       "<p>5 rows × 31 columns</p>\n",
       "</div>"
      ],
      "text/plain": [
       "   awards_per_value  exp_award_value  High_School_Fee  Elementary_School_Fee  \\\n",
       "1         19.514493     63013.173913           7718.0                 6388.0   \n",
       "2         18.414286    141431.142857           6118.0                 7544.0   \n",
       "3         25.563492     47830.888889          17339.0                 6283.0   \n",
       "4         21.970833     51132.479167           6680.0                 4698.0   \n",
       "5         22.771429     63022.202857          19317.0                11363.0   \n",
       "\n",
       "   Colleges_universities_per_1000000  Junior_colleges_per_1000000  \\\n",
       "1                           8.636111                     7.402381   \n",
       "2                           8.087409                     1.347901   \n",
       "3                           6.636781                     6.203947   \n",
       "4                           8.700750                     8.700750   \n",
       "5                           6.726112                     4.866240   \n",
       "\n",
       "   Prof_schools_per_1000000  Intensive_top_230_score  Life_Expectancy  \\\n",
       "1                  3.289947                75.257541        74.813987   \n",
       "2                  2.695803                39.089142        78.915541   \n",
       "3                  6.059670                30.154070        78.364742   \n",
       "4                 10.708616                32.125848        75.626900   \n",
       "5                  6.089169                78.063660        80.231014   \n",
       "\n",
       "   mc_donalds_per_100k  ...  Property_crime  Burglary   Theft  \\\n",
       "1                  5.0  ...          2947.8     700.5  2006.3   \n",
       "2                  4.2  ...          3353.0     546.3  2394.7   \n",
       "3                  4.1  ...          2978.4     544.4  2168.1   \n",
       "4                  5.8  ...          3268.6     795.5  2233.6   \n",
       "5                  3.3  ...          2553.0     479.8  1623.0   \n",
       "\n",
       "   Motor_Vehicle_theft  Per_capita_income  Price_2018_Studio  Price_2018_1br  \\\n",
       "1                241.1            38215.0         605.416667      659.000000   \n",
       "2                412.1            54430.0         814.333333      930.500000   \n",
       "3                265.8            39955.0         701.000000      828.000000   \n",
       "4                239.4            39171.0         524.666667      571.166667   \n",
       "5                450.3            54800.0        1212.333333     1426.333333   \n",
       "\n",
       "   Price_2018_2br  Price_2018_3br  Price_2018_4br  \n",
       "1      800.666667     1069.666667     1244.333333  \n",
       "2     1190.333333     1682.166667     2019.500000  \n",
       "3     1046.000000     1512.333333     1754.416667  \n",
       "4      721.416667      977.583333     1144.833333  \n",
       "5     1818.916667     2519.250000     2926.333333  \n",
       "\n",
       "[5 rows x 31 columns]"
      ]
     },
     "execution_count": 3,
     "metadata": {},
     "output_type": "execute_result"
    }
   ],
   "source": [
    "\n",
    "States = df.State.tolist()\n",
    "X = df.drop([\"State\", \"HDI\"], axis = 1)\n",
    "y = df.HDI\n",
    "X.head()"
   ]
  },
  {
   "cell_type": "code",
   "execution_count": 4,
   "metadata": {},
   "outputs": [
    {
     "data": {
      "text/html": [
       "<div>\n",
       "<style scoped>\n",
       "    .dataframe tbody tr th:only-of-type {\n",
       "        vertical-align: middle;\n",
       "    }\n",
       "\n",
       "    .dataframe tbody tr th {\n",
       "        vertical-align: top;\n",
       "    }\n",
       "\n",
       "    .dataframe thead th {\n",
       "        text-align: right;\n",
       "    }\n",
       "</style>\n",
       "<table border=\"1\" class=\"dataframe\">\n",
       "  <thead>\n",
       "    <tr style=\"text-align: right;\">\n",
       "      <th></th>\n",
       "      <th>HDI</th>\n",
       "      <th>awards_per_value</th>\n",
       "      <th>exp_award_value</th>\n",
       "      <th>High_School_Fee</th>\n",
       "      <th>Elementary_School_Fee</th>\n",
       "      <th>Colleges_universities_per_1000000</th>\n",
       "      <th>Junior_colleges_per_1000000</th>\n",
       "      <th>Prof_schools_per_1000000</th>\n",
       "      <th>Intensive_top_230_score</th>\n",
       "      <th>Life_Expectancy</th>\n",
       "      <th>...</th>\n",
       "      <th>Property_crime</th>\n",
       "      <th>Burglary</th>\n",
       "      <th>Theft</th>\n",
       "      <th>Motor_Vehicle_theft</th>\n",
       "      <th>Per_capita_income</th>\n",
       "      <th>Price_2018_Studio</th>\n",
       "      <th>Price_2018_1br</th>\n",
       "      <th>Price_2018_2br</th>\n",
       "      <th>Price_2018_3br</th>\n",
       "      <th>Price_2018_4br</th>\n",
       "    </tr>\n",
       "  </thead>\n",
       "  <tbody>\n",
       "    <tr>\n",
       "      <td>count</td>\n",
       "      <td>51.000000</td>\n",
       "      <td>51.000000</td>\n",
       "      <td>51.000000</td>\n",
       "      <td>51.000000</td>\n",
       "      <td>51.000000</td>\n",
       "      <td>51.000000</td>\n",
       "      <td>51.000000</td>\n",
       "      <td>51.000000</td>\n",
       "      <td>51.000000</td>\n",
       "      <td>51.000000</td>\n",
       "      <td>...</td>\n",
       "      <td>51.000000</td>\n",
       "      <td>51.000000</td>\n",
       "      <td>51.000000</td>\n",
       "      <td>51.000000</td>\n",
       "      <td>51.000000</td>\n",
       "      <td>51.000000</td>\n",
       "      <td>51.000000</td>\n",
       "      <td>51.000000</td>\n",
       "      <td>51.000000</td>\n",
       "      <td>51.000000</td>\n",
       "    </tr>\n",
       "    <tr>\n",
       "      <td>mean</td>\n",
       "      <td>0.922608</td>\n",
       "      <td>22.971176</td>\n",
       "      <td>66598.569680</td>\n",
       "      <td>13727.039216</td>\n",
       "      <td>7746.490196</td>\n",
       "      <td>10.322356</td>\n",
       "      <td>6.099607</td>\n",
       "      <td>7.190986</td>\n",
       "      <td>106.032031</td>\n",
       "      <td>78.262064</td>\n",
       "      <td>...</td>\n",
       "      <td>2504.064706</td>\n",
       "      <td>470.958824</td>\n",
       "      <td>1803.998039</td>\n",
       "      <td>229.107843</td>\n",
       "      <td>47125.901961</td>\n",
       "      <td>744.338235</td>\n",
       "      <td>848.303922</td>\n",
       "      <td>1054.060458</td>\n",
       "      <td>1421.009804</td>\n",
       "      <td>1657.477124</td>\n",
       "    </tr>\n",
       "    <tr>\n",
       "      <td>std</td>\n",
       "      <td>0.022469</td>\n",
       "      <td>2.215785</td>\n",
       "      <td>19730.887539</td>\n",
       "      <td>7600.441232</td>\n",
       "      <td>3377.477398</td>\n",
       "      <td>5.329495</td>\n",
       "      <td>2.884458</td>\n",
       "      <td>3.339187</td>\n",
       "      <td>156.409183</td>\n",
       "      <td>1.705511</td>\n",
       "      <td>...</td>\n",
       "      <td>674.554242</td>\n",
       "      <td>162.708761</td>\n",
       "      <td>494.491131</td>\n",
       "      <td>114.559621</td>\n",
       "      <td>7462.990763</td>\n",
       "      <td>220.293414</td>\n",
       "      <td>243.846978</td>\n",
       "      <td>293.103948</td>\n",
       "      <td>393.657178</td>\n",
       "      <td>475.658306</td>\n",
       "    </tr>\n",
       "    <tr>\n",
       "      <td>min</td>\n",
       "      <td>0.867000</td>\n",
       "      <td>18.414286</td>\n",
       "      <td>45130.875000</td>\n",
       "      <td>5375.000000</td>\n",
       "      <td>2550.000000</td>\n",
       "      <td>1.707939</td>\n",
       "      <td>0.000000</td>\n",
       "      <td>1.707939</td>\n",
       "      <td>11.564398</td>\n",
       "      <td>74.813987</td>\n",
       "      <td>...</td>\n",
       "      <td>1512.900000</td>\n",
       "      <td>201.700000</td>\n",
       "      <td>1135.200000</td>\n",
       "      <td>45.100000</td>\n",
       "      <td>34752.000000</td>\n",
       "      <td>486.333333</td>\n",
       "      <td>564.333333</td>\n",
       "      <td>721.416667</td>\n",
       "      <td>968.166667</td>\n",
       "      <td>1098.416667</td>\n",
       "    </tr>\n",
       "    <tr>\n",
       "      <td>25%</td>\n",
       "      <td>0.909500</td>\n",
       "      <td>21.887917</td>\n",
       "      <td>51720.242949</td>\n",
       "      <td>8107.500000</td>\n",
       "      <td>5089.500000</td>\n",
       "      <td>7.268301</td>\n",
       "      <td>4.382072</td>\n",
       "      <td>4.740343</td>\n",
       "      <td>45.121019</td>\n",
       "      <td>76.861272</td>\n",
       "      <td>...</td>\n",
       "      <td>1945.300000</td>\n",
       "      <td>342.250000</td>\n",
       "      <td>1436.200000</td>\n",
       "      <td>150.950000</td>\n",
       "      <td>42031.500000</td>\n",
       "      <td>564.541667</td>\n",
       "      <td>654.041667</td>\n",
       "      <td>821.791667</td>\n",
       "      <td>1100.250000</td>\n",
       "      <td>1261.708333</td>\n",
       "    </tr>\n",
       "    <tr>\n",
       "      <td>50%</td>\n",
       "      <td>0.927000</td>\n",
       "      <td>23.519917</td>\n",
       "      <td>60872.722222</td>\n",
       "      <td>11149.000000</td>\n",
       "      <td>7750.000000</td>\n",
       "      <td>8.748948</td>\n",
       "      <td>5.777315</td>\n",
       "      <td>6.714499</td>\n",
       "      <td>71.888278</td>\n",
       "      <td>78.546753</td>\n",
       "      <td>...</td>\n",
       "      <td>2586.600000</td>\n",
       "      <td>431.400000</td>\n",
       "      <td>1832.300000</td>\n",
       "      <td>220.800000</td>\n",
       "      <td>45733.000000</td>\n",
       "      <td>693.500000</td>\n",
       "      <td>783.833333</td>\n",
       "      <td>969.500000</td>\n",
       "      <td>1285.083333</td>\n",
       "      <td>1463.250000</td>\n",
       "    </tr>\n",
       "    <tr>\n",
       "      <td>75%</td>\n",
       "      <td>0.940000</td>\n",
       "      <td>24.451859</td>\n",
       "      <td>72419.318470</td>\n",
       "      <td>16128.000000</td>\n",
       "      <td>9421.000000</td>\n",
       "      <td>12.547509</td>\n",
       "      <td>7.396813</td>\n",
       "      <td>9.417573</td>\n",
       "      <td>99.102824</td>\n",
       "      <td>79.528299</td>\n",
       "      <td>...</td>\n",
       "      <td>2949.650000</td>\n",
       "      <td>561.100000</td>\n",
       "      <td>2060.850000</td>\n",
       "      <td>273.200000</td>\n",
       "      <td>50332.000000</td>\n",
       "      <td>864.083333</td>\n",
       "      <td>975.541667</td>\n",
       "      <td>1210.750000</td>\n",
       "      <td>1664.250000</td>\n",
       "      <td>1952.166667</td>\n",
       "    </tr>\n",
       "    <tr>\n",
       "      <td>max</td>\n",
       "      <td>0.959000</td>\n",
       "      <td>26.992614</td>\n",
       "      <td>141431.142857</td>\n",
       "      <td>33893.000000</td>\n",
       "      <td>20047.000000</td>\n",
       "      <td>32.020801</td>\n",
       "      <td>15.371451</td>\n",
       "      <td>16.929696</td>\n",
       "      <td>1111.323165</td>\n",
       "      <td>81.314894</td>\n",
       "      <td>...</td>\n",
       "      <td>4802.900000</td>\n",
       "      <td>830.400000</td>\n",
       "      <td>4019.800000</td>\n",
       "      <td>564.300000</td>\n",
       "      <td>70167.000000</td>\n",
       "      <td>1397.583333</td>\n",
       "      <td>1468.333333</td>\n",
       "      <td>1818.916667</td>\n",
       "      <td>2519.250000</td>\n",
       "      <td>2926.333333</td>\n",
       "    </tr>\n",
       "  </tbody>\n",
       "</table>\n",
       "<p>8 rows × 32 columns</p>\n",
       "</div>"
      ],
      "text/plain": [
       "             HDI  awards_per_value  exp_award_value  High_School_Fee  \\\n",
       "count  51.000000         51.000000        51.000000        51.000000   \n",
       "mean    0.922608         22.971176     66598.569680     13727.039216   \n",
       "std     0.022469          2.215785     19730.887539      7600.441232   \n",
       "min     0.867000         18.414286     45130.875000      5375.000000   \n",
       "25%     0.909500         21.887917     51720.242949      8107.500000   \n",
       "50%     0.927000         23.519917     60872.722222     11149.000000   \n",
       "75%     0.940000         24.451859     72419.318470     16128.000000   \n",
       "max     0.959000         26.992614    141431.142857     33893.000000   \n",
       "\n",
       "       Elementary_School_Fee  Colleges_universities_per_1000000  \\\n",
       "count              51.000000                          51.000000   \n",
       "mean             7746.490196                          10.322356   \n",
       "std              3377.477398                           5.329495   \n",
       "min              2550.000000                           1.707939   \n",
       "25%              5089.500000                           7.268301   \n",
       "50%              7750.000000                           8.748948   \n",
       "75%              9421.000000                          12.547509   \n",
       "max             20047.000000                          32.020801   \n",
       "\n",
       "       Junior_colleges_per_1000000  Prof_schools_per_1000000  \\\n",
       "count                    51.000000                 51.000000   \n",
       "mean                      6.099607                  7.190986   \n",
       "std                       2.884458                  3.339187   \n",
       "min                       0.000000                  1.707939   \n",
       "25%                       4.382072                  4.740343   \n",
       "50%                       5.777315                  6.714499   \n",
       "75%                       7.396813                  9.417573   \n",
       "max                      15.371451                 16.929696   \n",
       "\n",
       "       Intensive_top_230_score  Life_Expectancy  ...  Property_crime  \\\n",
       "count                51.000000        51.000000  ...       51.000000   \n",
       "mean                106.032031        78.262064  ...     2504.064706   \n",
       "std                 156.409183         1.705511  ...      674.554242   \n",
       "min                  11.564398        74.813987  ...     1512.900000   \n",
       "25%                  45.121019        76.861272  ...     1945.300000   \n",
       "50%                  71.888278        78.546753  ...     2586.600000   \n",
       "75%                  99.102824        79.528299  ...     2949.650000   \n",
       "max                1111.323165        81.314894  ...     4802.900000   \n",
       "\n",
       "         Burglary        Theft  Motor_Vehicle_theft  Per_capita_income  \\\n",
       "count   51.000000    51.000000            51.000000          51.000000   \n",
       "mean   470.958824  1803.998039           229.107843       47125.901961   \n",
       "std    162.708761   494.491131           114.559621        7462.990763   \n",
       "min    201.700000  1135.200000            45.100000       34752.000000   \n",
       "25%    342.250000  1436.200000           150.950000       42031.500000   \n",
       "50%    431.400000  1832.300000           220.800000       45733.000000   \n",
       "75%    561.100000  2060.850000           273.200000       50332.000000   \n",
       "max    830.400000  4019.800000           564.300000       70167.000000   \n",
       "\n",
       "       Price_2018_Studio  Price_2018_1br  Price_2018_2br  Price_2018_3br  \\\n",
       "count          51.000000       51.000000       51.000000       51.000000   \n",
       "mean          744.338235      848.303922     1054.060458     1421.009804   \n",
       "std           220.293414      243.846978      293.103948      393.657178   \n",
       "min           486.333333      564.333333      721.416667      968.166667   \n",
       "25%           564.541667      654.041667      821.791667     1100.250000   \n",
       "50%           693.500000      783.833333      969.500000     1285.083333   \n",
       "75%           864.083333      975.541667     1210.750000     1664.250000   \n",
       "max          1397.583333     1468.333333     1818.916667     2519.250000   \n",
       "\n",
       "       Price_2018_4br  \n",
       "count       51.000000  \n",
       "mean      1657.477124  \n",
       "std        475.658306  \n",
       "min       1098.416667  \n",
       "25%       1261.708333  \n",
       "50%       1463.250000  \n",
       "75%       1952.166667  \n",
       "max       2926.333333  \n",
       "\n",
       "[8 rows x 32 columns]"
      ]
     },
     "execution_count": 4,
     "metadata": {},
     "output_type": "execute_result"
    }
   ],
   "source": [
    "#Checking statistics for the features and the output.\n",
    "df.describe()"
   ]
  },
  {
   "cell_type": "markdown",
   "metadata": {},
   "source": [
    "Note that the features have different ranges which may distort our regression techniques. To overcome this, we need to perform some kind of normalization or scaling. We perform a MinMax Scaling (from sklearn) on our data input `X` to scale all features between `[0,1]`. Further, the true HDI values have a very small range and standard deviation, this means that even a model which predicts just a constant value equal to the mean will have a small overall Mean Square Error. To overcome this and make our model evaluation more realistic, we scale the outputs `y` to `[0,1]`. Further, we store the scalers as we will need to invert the predict values for our models back to true HDI range."
   ]
  },
  {
   "cell_type": "code",
   "execution_count": 5,
   "metadata": {},
   "outputs": [],
   "source": [
    "scaler_x = MinMaxScaler()\n",
    "scaler_y = MinMaxScaler()\n",
    "X_scaled = scaler_x.fit_transform(X.values)\n",
    "Y_scaled = scaler_y.fit_transform(y.values.reshape(-1,1))"
   ]
  },
  {
   "cell_type": "markdown",
   "metadata": {},
   "source": [
    "# Linear Regression"
   ]
  },
  {
   "cell_type": "code",
   "execution_count": 6,
   "metadata": {},
   "outputs": [
    {
     "name": "stdout",
     "output_type": "stream",
     "text": [
      "R2 value =  0.9725698807776534 \n"
     ]
    }
   ],
   "source": [
    "linReg = LinearRegression()\n",
    "Y_pred_scaled = cross_val_predict(linReg,X_scaled,Y_scaled,cv=5)\n",
    "Y_pred = scaler_y.inverse_transform(Y_pred_scaled)\n",
    "print(\"R2 value =  {} \".format(1 - mean_squared_error(Y_pred,y)/np.std(y)))\n",
    "\n",
    "MSELinReg = mean_squared_error(Y_pred,y)"
   ]
  },
  {
   "cell_type": "code",
   "execution_count": 7,
   "metadata": {},
   "outputs": [
    {
     "name": "stdout",
     "output_type": "stream",
     "text": [
      "R2 value =  0.9725698807776622\n"
     ]
    }
   ],
   "source": [
    "linRegNorm = LinearRegression(normalize=True)\n",
    "Y_pred_scaled = cross_val_predict(linRegNorm,X_scaled,Y_scaled,cv=5)\n",
    "Y_pred = scaler_y.inverse_transform(Y_pred_scaled)\n",
    "print(\"R2 value =  {}\".format(1 - mean_squared_error(Y_pred,y)/np.std(y)))\n",
    "\n",
    "MSELinRegNormalized = mean_squared_error(Y_pred,y)"
   ]
  },
  {
   "cell_type": "markdown",
   "metadata": {},
   "source": [
    "#### With normalized inputs"
   ]
  },
  {
   "cell_type": "markdown",
   "metadata": {},
   "source": [
    "### adding polynomial augmentation"
   ]
  },
  {
   "cell_type": "code",
   "execution_count": 8,
   "metadata": {},
   "outputs": [
    {
     "name": "stdout",
     "output_type": "stream",
     "text": [
      "R2 value =  0.9950776695473653\n"
     ]
    }
   ],
   "source": [
    "poly = PolynomialFeatures(2)\n",
    "X_poly = poly.fit_transform(X_scaled)\n",
    "Y_pred_scaled = cross_val_predict(linReg,X_poly,Y_scaled,cv=5)\n",
    "Y_pred = scaler_y.inverse_transform(Y_pred_scaled)\n",
    "print(\"R2 value =  {}\".format(1 - mean_squared_error(Y_pred,y)/np.std(y)))\n",
    "\n",
    "MSELinRegPoly = mean_squared_error(Y_pred,y)"
   ]
  },
  {
   "cell_type": "code",
   "execution_count": 9,
   "metadata": {},
   "outputs": [
    {
     "name": "stdout",
     "output_type": "stream",
     "text": [
      "R2 value =  0.9755794006812706\n"
     ]
    }
   ],
   "source": [
    "Y_pred_scaled = cross_val_predict(linRegNorm,X_poly,Y_scaled,cv=5)\n",
    "Y_pred = scaler_y.inverse_transform(Y_pred_scaled)\n",
    "print(\"R2 value =  {}\".format(1 - mean_squared_error(Y_pred,y)/np.std(y)))\n",
    "\n",
    "MSELinRegPolyNormalized = mean_squared_error(Y_pred,y)"
   ]
  },
  {
   "cell_type": "markdown",
   "metadata": {},
   "source": [
    "#### With normalized inputs"
   ]
  },
  {
   "cell_type": "markdown",
   "metadata": {},
   "source": [
    "So we have a tendency to overfit"
   ]
  },
  {
   "cell_type": "markdown",
   "metadata": {},
   "source": [
    "# Ridge Regression"
   ]
  },
  {
   "cell_type": "code",
   "execution_count": 10,
   "metadata": {},
   "outputs": [
    {
     "name": "stdout",
     "output_type": "stream",
     "text": [
      "R2 value =  0.9987759717793506\n"
     ]
    }
   ],
   "source": [
    "alphas = np.arange(0.01,1,0.01)\n",
    "regr_cv = RidgeCV(alphas=alphas,fit_intercept=True,cv=5)\n",
    "model_cv = regr_cv.fit(X_scaled, Y_scaled)\n",
    "Y_pred_scaled = model_cv.predict(X_scaled)\n",
    "Y_pred = scaler_y.inverse_transform(Y_pred_scaled)\n",
    "print(\"R2 value =  {}\".format(1 - mean_squared_error(Y_pred,y)/np.std(y)))\n",
    "\n",
    "MSERidReg = mean_squared_error(Y_pred,y)"
   ]
  },
  {
   "cell_type": "markdown",
   "metadata": {},
   "source": [
    "#### With normalized inputs"
   ]
  },
  {
   "cell_type": "code",
   "execution_count": 11,
   "metadata": {},
   "outputs": [
    {
     "name": "stdout",
     "output_type": "stream",
     "text": [
      "R2 value =  0.998475364181839\n"
     ]
    }
   ],
   "source": [
    "regr_cv_norm = RidgeCV(alphas=alphas,fit_intercept=True,cv=5,normalize=True)\n",
    "model_cv_norm = regr_cv_norm.fit(X_scaled, Y_scaled)\n",
    "Y_pred_scaled = model_cv_norm.predict(X_scaled)\n",
    "Y_pred = scaler_y.inverse_transform(Y_pred_scaled)\n",
    "print(\"R2 value =  {}\".format(1 - mean_squared_error(Y_pred,y)/np.std(y)))\n",
    "\n",
    "MSERidRegNormalized = mean_squared_error(Y_pred,y)"
   ]
  },
  {
   "cell_type": "markdown",
   "metadata": {},
   "source": [
    "### adding polynomial augmentation"
   ]
  },
  {
   "cell_type": "code",
   "execution_count": 12,
   "metadata": {},
   "outputs": [
    {
     "name": "stdout",
     "output_type": "stream",
     "text": [
      "R2 value =  0.9996640192673864\n"
     ]
    }
   ],
   "source": [
    "model_cv = regr_cv.fit(X_poly, Y_scaled)\n",
    "Y_pred_scaled = model_cv.predict(X_poly)\n",
    "Y_pred = scaler_y.inverse_transform(Y_pred_scaled)\n",
    "print(\"R2 value =  {}\".format(1 - mean_squared_error(Y_pred,y)/np.std(y)))\n",
    "\n",
    "MSERidRegPoly = mean_squared_error(Y_pred,y)"
   ]
  },
  {
   "cell_type": "code",
   "execution_count": 13,
   "metadata": {},
   "outputs": [
    {
     "name": "stdout",
     "output_type": "stream",
     "text": [
      "R2 value =  0.9996596364913635\n"
     ]
    }
   ],
   "source": [
    "model_cv_norm = regr_cv_norm.fit(X_poly, Y_scaled)\n",
    "Y_pred_scaled = model_cv_norm.predict(X_poly)\n",
    "Y_pred = scaler_y.inverse_transform(Y_pred_scaled)\n",
    "print(\"R2 value =  {}\".format(1 - mean_squared_error(Y_pred,y)/np.std(y)))\n",
    "\n",
    "MSERidRegPolyNormalized = mean_squared_error(Y_pred,y)"
   ]
  },
  {
   "cell_type": "markdown",
   "metadata": {},
   "source": [
    "# SVR"
   ]
  },
  {
   "cell_type": "code",
   "execution_count": 14,
   "metadata": {},
   "outputs": [
    {
     "name": "stdout",
     "output_type": "stream",
     "text": [
      "R2 value =  0.9979270892865502\n"
     ]
    },
    {
     "name": "stderr",
     "output_type": "stream",
     "text": [
      "C:\\Users\\loris\\Anaconda3\\lib\\site-packages\\sklearn\\model_selection\\_search.py:825: FutureWarning: The parameter 'iid' is deprecated in 0.22 and will be removed in 0.24.\n",
      "  \"removed in 0.24.\", FutureWarning\n"
     ]
    }
   ],
   "source": [
    "parameters = {'kernel' :['rbf','linear','sigmoid','poly'],'C' : np.exp(np.arange(-6,6))}\n",
    "estimator = SVR(gamma = 'auto')\n",
    "clf = GridSearchCV(estimator,parameters,cv = 5,iid=True)\n",
    "clf.fit(X_scaled, Y_scaled.reshape(-1,))\n",
    "Y_pred_scaled = clf.predict(X_scaled).reshape(-1,1)\n",
    "Y_pred = scaler_y.inverse_transform(Y_pred_scaled)\n",
    "print(\"R2 value =  {}\".format(1 - mean_squared_error(Y_pred,y)/np.std(y)))\n",
    "\n",
    "MSESVR = mean_squared_error(Y_pred,y)"
   ]
  },
  {
   "cell_type": "code",
   "execution_count": 15,
   "metadata": {},
   "outputs": [
    {
     "name": "stdout",
     "output_type": "stream",
     "text": [
      "Explained Variance Ratio 81.14995449697238\n",
      "R2 value =  0.9938021507559861 \n"
     ]
    }
   ],
   "source": [
    "pca = PCA(n_components = 5)\n",
    "X_pca = pca.fit_transform(X_scaled)\n",
    "print(\"Explained Variance Ratio {}\".format(100.0*np.sum(pca.explained_variance_ratio_)))\n",
    "Y_pred_scaled = cross_val_predict(linReg,X_pca,Y_scaled,cv=5)\n",
    "Y_pred = scaler_y.inverse_transform(Y_pred_scaled)\n",
    "print(\"R2 value =  {} \".format(1 - mean_squared_error(Y_pred,y)/np.std(y)))\n",
    "\n",
    "MSELinReg5PCA = mean_squared_error(Y_pred,y)"
   ]
  },
  {
   "cell_type": "code",
   "execution_count": 16,
   "metadata": {},
   "outputs": [
    {
     "name": "stdout",
     "output_type": "stream",
     "text": [
      "R2 value =  0.993802150755986\n"
     ]
    }
   ],
   "source": [
    "Y_pred_scaled = cross_val_predict(linRegNorm,X_pca,Y_scaled,cv=5)\n",
    "Y_pred = scaler_y.inverse_transform(Y_pred_scaled)\n",
    "print(\"R2 value =  {}\".format(1 - mean_squared_error(Y_pred,y)/np.std(y)))\n",
    "\n",
    "MSELinReg5PCANormalized = mean_squared_error(Y_pred,y)"
   ]
  },
  {
   "cell_type": "code",
   "execution_count": 17,
   "metadata": {},
   "outputs": [
    {
     "name": "stdout",
     "output_type": "stream",
     "text": [
      "Explained Variance Ratio 80.19704791896278\n",
      "R2 value =  0.992255657455196\n"
     ]
    }
   ],
   "source": [
    "pca_poly = PCA(n_components = 5)\n",
    "X_pca_poly = pca_poly.fit_transform(X_poly)\n",
    "print(\"Explained Variance Ratio {}\".format(100.0*np.sum(pca_poly.explained_variance_ratio_)))\n",
    "Y_pred_scaled = cross_val_predict(linReg,X_pca_poly,Y_scaled,cv=5)\n",
    "Y_pred = scaler_y.inverse_transform(Y_pred_scaled)\n",
    "print(\"R2 value =  {}\".format(1 - mean_squared_error(Y_pred,y)/np.std(y)))\n",
    "\n",
    "MSELinRegPoly5PCA = mean_squared_error(Y_pred,y)"
   ]
  },
  {
   "cell_type": "code",
   "execution_count": 18,
   "metadata": {},
   "outputs": [
    {
     "name": "stdout",
     "output_type": "stream",
     "text": [
      "R2 value =  0.992255657455196\n"
     ]
    }
   ],
   "source": [
    "Y_pred_scaled = cross_val_predict(linRegNorm,X_pca_poly,Y_scaled,cv=5)\n",
    "Y_pred = scaler_y.inverse_transform(Y_pred_scaled)\n",
    "print(\"R2 value =  {}\".format(1 - mean_squared_error(Y_pred,y)/np.std(y)))\n",
    "\n",
    "MSELinRegPoly5PCANormalized = mean_squared_error(Y_pred,y)"
   ]
  },
  {
   "cell_type": "code",
   "execution_count": 19,
   "metadata": {},
   "outputs": [
    {
     "name": "stdout",
     "output_type": "stream",
     "text": [
      "R2 value =  0.9954439765911506\n"
     ]
    }
   ],
   "source": [
    "model_cv = regr_cv.fit(X_pca, Y_scaled)\n",
    "Y_pred_scaled = model_cv.predict(X_pca)\n",
    "Y_pred = scaler_y.inverse_transform(Y_pred_scaled)\n",
    "print(\"R2 value =  {}\".format(1 - mean_squared_error(Y_pred,y)/np.std(y)))\n",
    "\n",
    "MSERidReg5PCA = mean_squared_error(Y_pred,y)"
   ]
  },
  {
   "cell_type": "code",
   "execution_count": 20,
   "metadata": {},
   "outputs": [
    {
     "name": "stdout",
     "output_type": "stream",
     "text": [
      "R2 value =  0.9954074348052442\n"
     ]
    }
   ],
   "source": [
    "model_cv_norm = regr_cv_norm.fit(X_pca, Y_scaled)\n",
    "Y_pred_scaled = model_cv_norm.predict(X_pca)\n",
    "Y_pred = scaler_y.inverse_transform(Y_pred_scaled)\n",
    "print(\"R2 value =  {}\".format(1 - mean_squared_error(Y_pred,y)/np.std(y)))\n",
    "\n",
    "MSERidReg5PCANormalized = mean_squared_error(Y_pred,y)"
   ]
  },
  {
   "cell_type": "code",
   "execution_count": 21,
   "metadata": {},
   "outputs": [
    {
     "name": "stdout",
     "output_type": "stream",
     "text": [
      "R2 value =  0.9951815168309915\n"
     ]
    }
   ],
   "source": [
    "model_cv = regr_cv.fit(X_pca_poly, Y_scaled)\n",
    "Y_pred_scaled = model_cv.predict(X_pca_poly)\n",
    "Y_pred = scaler_y.inverse_transform(Y_pred_scaled)\n",
    "print(\"R2 value =  {}\".format(1 - mean_squared_error(Y_pred,y)/np.std(y)))\n",
    "\n",
    "MSERidRegPoly5PCA = mean_squared_error(Y_pred,y)"
   ]
  },
  {
   "cell_type": "code",
   "execution_count": 22,
   "metadata": {},
   "outputs": [
    {
     "name": "stdout",
     "output_type": "stream",
     "text": [
      "R2 value =  0.9948865433717219\n"
     ]
    }
   ],
   "source": [
    "model_cv_norm = regr_cv_norm.fit(X_pca_poly, Y_scaled)\n",
    "Y_pred_scaled = model_cv_norm.predict(X_pca_poly)\n",
    "Y_pred = scaler_y.inverse_transform(Y_pred_scaled)\n",
    "print(\"R2 value =  {}\".format(1 - mean_squared_error(Y_pred,y)/np.std(y)))\n",
    "\n",
    "MSERidRegPoly5PCANormalized = mean_squared_error(Y_pred,y)"
   ]
  },
  {
   "cell_type": "code",
   "execution_count": 23,
   "metadata": {},
   "outputs": [
    {
     "name": "stdout",
     "output_type": "stream",
     "text": [
      "R2 value =  0.9951755747821499\n"
     ]
    },
    {
     "name": "stderr",
     "output_type": "stream",
     "text": [
      "C:\\Users\\loris\\Anaconda3\\lib\\site-packages\\sklearn\\model_selection\\_search.py:825: FutureWarning: The parameter 'iid' is deprecated in 0.22 and will be removed in 0.24.\n",
      "  \"removed in 0.24.\", FutureWarning\n"
     ]
    }
   ],
   "source": [
    "parameters = {'kernel' :['rbf','linear','sigmoid','poly'],'C' : np.exp(np.arange(-6,6))}\n",
    "estimator = SVR(gamma = 'auto')\n",
    "clf = GridSearchCV(estimator,parameters,cv = 5,iid=True)\n",
    "clf.fit(X_pca, Y_scaled.reshape(-1,))\n",
    "Y_pred_scaled = clf.predict(X_pca).reshape(-1,1)\n",
    "Y_pred = scaler_y.inverse_transform(Y_pred_scaled)\n",
    "print(\"R2 value =  {}\".format(1 - mean_squared_error(Y_pred,y)/np.std(y)))\n",
    "\n",
    "MSESVR5PCA = mean_squared_error(Y_pred,y)"
   ]
  },
  {
   "cell_type": "code",
   "execution_count": 24,
   "metadata": {},
   "outputs": [],
   "source": [
    "education_list = ['Colleges_universities_per_1000000', 'Junior_colleges_per_1000000', \n",
    "                  'Prof_schools_per_1000000', 'awards_per_value', 'exp_award_value', 'Intensive_top_230_score',\n",
    "                  'High_School_Fee', 'Elementary_School_Fee']\n",
    "health_list = ['Life_Expectancy', 'mc_donalds_per_100k', 'mean_obesity',\n",
    "               'eating_vegetables_daily', 'eating_vegetables_daily', 'diabetes_prevalence', 'alcohol_prevalence',\n",
    "               'mean_physical_activity', 'mean_obesity']\n",
    "security_list = [ 'alcohol_prevalence', 'Homeless_per_100000', 'Violent_Crime',\n",
    "                 'Murder_and_Manslaughter', 'Rape', 'Robbery', 'Aggravated_Assoult', 'Property_crime',\n",
    "                 'Burglary', 'Theft', 'Motor_Vehicle_theft']\n",
    "economy_list = ['Per_capita_income', 'mc_donalds_per_100k', 'Price_2018_Studio',\n",
    "                'Price_2018_1br',  'Price_2018_2br', 'Price_2018_3br', 'Price_2018_4br', 'Homeless_per_100000',\n",
    "                'Elementary_School_Fee', 'High_School_Fee']"
   ]
  },
  {
   "cell_type": "code",
   "execution_count": 25,
   "metadata": {},
   "outputs": [
    {
     "data": {
      "text/plain": [
       "Index(['State', 'HDI', 'awards_per_value', 'exp_award_value',\n",
       "       'High_School_Fee', 'Elementary_School_Fee',\n",
       "       'Colleges_universities_per_1000000', 'Junior_colleges_per_1000000',\n",
       "       'Prof_schools_per_1000000', 'Intensive_top_230_score',\n",
       "       'Life_Expectancy', 'mc_donalds_per_100k', 'eating_vegetables_daily',\n",
       "       'diabetes_prevalence', 'alcohol_prevalence', 'mean_physical_activity',\n",
       "       'mean_obesity', 'Homeless_per_100000', 'Violent_Crime',\n",
       "       'Murder_and_Manslaughter', 'Rape', 'Robbery', 'Aggravated_Assoult',\n",
       "       'Property_crime', 'Burglary', 'Theft', 'Motor_Vehicle_theft',\n",
       "       'Per_capita_income', 'Price_2018_Studio', 'Price_2018_1br',\n",
       "       'Price_2018_2br', 'Price_2018_3br', 'Price_2018_4br'],\n",
       "      dtype='object')"
      ]
     },
     "execution_count": 25,
     "metadata": {},
     "output_type": "execute_result"
    }
   ],
   "source": [
    "df.columns"
   ]
  },
  {
   "cell_type": "code",
   "execution_count": 26,
   "metadata": {},
   "outputs": [],
   "source": [
    "df_education = df[education_list]\n",
    "df_health = df[health_list]\n",
    "df_security = df[security_list]\n",
    "df_economy = df[economy_list]"
   ]
  },
  {
   "cell_type": "code",
   "execution_count": 27,
   "metadata": {},
   "outputs": [],
   "source": [
    "pca_comp = PCA(n_components=2)"
   ]
  },
  {
   "cell_type": "code",
   "execution_count": 28,
   "metadata": {},
   "outputs": [
    {
     "name": "stdout",
     "output_type": "stream",
     "text": [
      "Explained Variance Ratio for Education 62.436296435984076\n",
      "Explained Variance Ratio for Education Polynomial 60.63424340019754\n",
      "Explained Variance Ratio for Health 79.07785442197368\n",
      "Explained Variance Ratio for Health Polynomial 76.37189248700496\n",
      "Explained Variance Ratio for Security 73.20173188347201\n",
      "Explained Variance Ratio for Security Polynomial 78.06684363670395\n",
      "Explained Variance Ratio for Economy 85.34571192207696\n",
      "Explained Variance Ratio for Economy Polynomial 84.25926215053322\n"
     ]
    }
   ],
   "source": [
    "cat_data_scaled = scaler_x.fit_transform(df_education)\n",
    "cat_data_poly = poly.fit_transform(cat_data_scaled)\n",
    "ed_feature = pca_comp.fit_transform(cat_data_scaled)\n",
    "print(\"Explained Variance Ratio for Education {}\".format(100.0*np.sum(pca_comp.explained_variance_ratio_)))\n",
    "ed_feature_poly = pca_comp.fit_transform(cat_data_poly)\n",
    "print(\"Explained Variance Ratio for Education Polynomial {}\".format(100.0*np.sum(pca_comp.explained_variance_ratio_)))\n",
    "\n",
    "cat_data_scaled = scaler_x.fit_transform(df_health)\n",
    "cat_data_poly = poly.fit_transform(cat_data_scaled)\n",
    "health_feature = pca_comp.fit_transform(cat_data_scaled)\n",
    "print(\"Explained Variance Ratio for Health {}\".format(100.0*np.sum(pca_comp.explained_variance_ratio_)))\n",
    "health_feature_poly = pca_comp.fit_transform(cat_data_poly)\n",
    "print(\"Explained Variance Ratio for Health Polynomial {}\".format(100.0*np.sum(pca_comp.explained_variance_ratio_)))\n",
    "\n",
    "cat_data_scaled = scaler_x.fit_transform(df_security)\n",
    "cat_data_poly = poly.fit_transform(cat_data_scaled)\n",
    "security_feature = pca_comp.fit_transform(cat_data_scaled)\n",
    "print(\"Explained Variance Ratio for Security {}\".format(100.0*np.sum(pca_comp.explained_variance_ratio_)))\n",
    "security_feature_poly = pca_comp.fit_transform(cat_data_poly)\n",
    "print(\"Explained Variance Ratio for Security Polynomial {}\".format(100.0*np.sum(pca_comp.explained_variance_ratio_)))\n",
    "\n",
    "cat_data_scaled = scaler_x.fit_transform(df_economy)\n",
    "cat_data_poly = poly.fit_transform(cat_data_scaled)\n",
    "economy_feature = pca_comp.fit_transform(cat_data_scaled)\n",
    "print(\"Explained Variance Ratio for Economy {}\".format(100.0*np.sum(pca_comp.explained_variance_ratio_)))\n",
    "economy_feature_poly = pca_comp.fit_transform(cat_data_poly)\n",
    "print(\"Explained Variance Ratio for Economy Polynomial {}\".format(100.0*np.sum(pca_comp.explained_variance_ratio_)))"
   ]
  },
  {
   "cell_type": "code",
   "execution_count": 29,
   "metadata": {},
   "outputs": [
    {
     "data": {
      "text/html": [
       "<div>\n",
       "<style scoped>\n",
       "    .dataframe tbody tr th:only-of-type {\n",
       "        vertical-align: middle;\n",
       "    }\n",
       "\n",
       "    .dataframe tbody tr th {\n",
       "        vertical-align: top;\n",
       "    }\n",
       "\n",
       "    .dataframe thead th {\n",
       "        text-align: right;\n",
       "    }\n",
       "</style>\n",
       "<table border=\"1\" class=\"dataframe\">\n",
       "  <thead>\n",
       "    <tr style=\"text-align: right;\">\n",
       "      <th></th>\n",
       "      <th>Education1</th>\n",
       "      <th>Education2</th>\n",
       "      <th>Health1</th>\n",
       "      <th>Health2</th>\n",
       "      <th>Security1</th>\n",
       "      <th>Security2</th>\n",
       "      <th>Economy1</th>\n",
       "      <th>Economy2</th>\n",
       "    </tr>\n",
       "  </thead>\n",
       "  <tbody>\n",
       "    <tr>\n",
       "      <td>0</td>\n",
       "      <td>-0.058614</td>\n",
       "      <td>0.518308</td>\n",
       "      <td>1.088307</td>\n",
       "      <td>-0.062581</td>\n",
       "      <td>0.433284</td>\n",
       "      <td>-0.366793</td>\n",
       "      <td>-0.598361</td>\n",
       "      <td>0.092652</td>\n",
       "    </tr>\n",
       "    <tr>\n",
       "      <td>1</td>\n",
       "      <td>0.439150</td>\n",
       "      <td>0.761389</td>\n",
       "      <td>-0.379155</td>\n",
       "      <td>-0.029016</td>\n",
       "      <td>0.872818</td>\n",
       "      <td>0.309678</td>\n",
       "      <td>0.261010</td>\n",
       "      <td>0.153895</td>\n",
       "    </tr>\n",
       "    <tr>\n",
       "      <td>2</td>\n",
       "      <td>-0.168710</td>\n",
       "      <td>-0.253282</td>\n",
       "      <td>-0.263936</td>\n",
       "      <td>-0.169542</td>\n",
       "      <td>0.258061</td>\n",
       "      <td>-0.066875</td>\n",
       "      <td>0.000732</td>\n",
       "      <td>-0.105762</td>\n",
       "    </tr>\n",
       "    <tr>\n",
       "      <td>3</td>\n",
       "      <td>-0.366289</td>\n",
       "      <td>0.119031</td>\n",
       "      <td>0.951237</td>\n",
       "      <td>0.061179</td>\n",
       "      <td>0.587030</td>\n",
       "      <td>-0.379195</td>\n",
       "      <td>-0.823032</td>\n",
       "      <td>0.261737</td>\n",
       "    </tr>\n",
       "    <tr>\n",
       "      <td>4</td>\n",
       "      <td>0.191689</td>\n",
       "      <td>-0.042024</td>\n",
       "      <td>-0.638627</td>\n",
       "      <td>-0.245933</td>\n",
       "      <td>0.198335</td>\n",
       "      <td>0.094236</td>\n",
       "      <td>1.512800</td>\n",
       "      <td>0.145417</td>\n",
       "    </tr>\n",
       "  </tbody>\n",
       "</table>\n",
       "</div>"
      ],
      "text/plain": [
       "   Education1  Education2   Health1   Health2  Security1  Security2  Economy1  \\\n",
       "0   -0.058614    0.518308  1.088307 -0.062581   0.433284  -0.366793 -0.598361   \n",
       "1    0.439150    0.761389 -0.379155 -0.029016   0.872818   0.309678  0.261010   \n",
       "2   -0.168710   -0.253282 -0.263936 -0.169542   0.258061  -0.066875  0.000732   \n",
       "3   -0.366289    0.119031  0.951237  0.061179   0.587030  -0.379195 -0.823032   \n",
       "4    0.191689   -0.042024 -0.638627 -0.245933   0.198335   0.094236  1.512800   \n",
       "\n",
       "   Economy2  \n",
       "0  0.092652  \n",
       "1  0.153895  \n",
       "2 -0.105762  \n",
       "3  0.261737  \n",
       "4  0.145417  "
      ]
     },
     "execution_count": 29,
     "metadata": {},
     "output_type": "execute_result"
    }
   ],
   "source": [
    "cat_data = pd.DataFrame(data = np.hstack((ed_feature,health_feature,security_feature,economy_feature)),\\\n",
    "                        columns = [\"Education1\",\"Education2\",\"Health1\",\"Health2\",\"Security1\",\"Security2\",\"Economy1\",\"Economy2\"])\n",
    "cat_data.head()"
   ]
  },
  {
   "cell_type": "code",
   "execution_count": 30,
   "metadata": {},
   "outputs": [
    {
     "data": {
      "text/html": [
       "<div>\n",
       "<style scoped>\n",
       "    .dataframe tbody tr th:only-of-type {\n",
       "        vertical-align: middle;\n",
       "    }\n",
       "\n",
       "    .dataframe tbody tr th {\n",
       "        vertical-align: top;\n",
       "    }\n",
       "\n",
       "    .dataframe thead th {\n",
       "        text-align: right;\n",
       "    }\n",
       "</style>\n",
       "<table border=\"1\" class=\"dataframe\">\n",
       "  <thead>\n",
       "    <tr style=\"text-align: right;\">\n",
       "      <th></th>\n",
       "      <th>Education1</th>\n",
       "      <th>Education2</th>\n",
       "      <th>Health1</th>\n",
       "      <th>Health2</th>\n",
       "      <th>Security1</th>\n",
       "      <th>Security2</th>\n",
       "      <th>Economy1</th>\n",
       "      <th>Economy2</th>\n",
       "    </tr>\n",
       "  </thead>\n",
       "  <tbody>\n",
       "    <tr>\n",
       "      <td>0</td>\n",
       "      <td>-0.229575</td>\n",
       "      <td>0.738826</td>\n",
       "      <td>2.207961</td>\n",
       "      <td>-0.245896</td>\n",
       "      <td>0.384528</td>\n",
       "      <td>-0.772236</td>\n",
       "      <td>-1.018544</td>\n",
       "      <td>0.125706</td>\n",
       "    </tr>\n",
       "    <tr>\n",
       "      <td>1</td>\n",
       "      <td>0.303915</td>\n",
       "      <td>1.114270</td>\n",
       "      <td>-0.784043</td>\n",
       "      <td>-0.019102</td>\n",
       "      <td>1.909214</td>\n",
       "      <td>-0.452232</td>\n",
       "      <td>0.219950</td>\n",
       "      <td>0.373881</td>\n",
       "    </tr>\n",
       "    <tr>\n",
       "      <td>2</td>\n",
       "      <td>-0.241620</td>\n",
       "      <td>-0.358124</td>\n",
       "      <td>-0.602901</td>\n",
       "      <td>-0.371477</td>\n",
       "      <td>0.244499</td>\n",
       "      <td>-0.254109</td>\n",
       "      <td>-0.309678</td>\n",
       "      <td>-0.123173</td>\n",
       "    </tr>\n",
       "    <tr>\n",
       "      <td>3</td>\n",
       "      <td>-0.516248</td>\n",
       "      <td>0.118484</td>\n",
       "      <td>2.038143</td>\n",
       "      <td>0.182909</td>\n",
       "      <td>0.688669</td>\n",
       "      <td>-1.091436</td>\n",
       "      <td>-1.219261</td>\n",
       "      <td>0.307282</td>\n",
       "    </tr>\n",
       "    <tr>\n",
       "      <td>4</td>\n",
       "      <td>0.204182</td>\n",
       "      <td>0.078507</td>\n",
       "      <td>-1.210237</td>\n",
       "      <td>-0.535429</td>\n",
       "      <td>0.231954</td>\n",
       "      <td>-0.050517</td>\n",
       "      <td>3.400586</td>\n",
       "      <td>0.693676</td>\n",
       "    </tr>\n",
       "  </tbody>\n",
       "</table>\n",
       "</div>"
      ],
      "text/plain": [
       "   Education1  Education2   Health1   Health2  Security1  Security2  Economy1  \\\n",
       "0   -0.229575    0.738826  2.207961 -0.245896   0.384528  -0.772236 -1.018544   \n",
       "1    0.303915    1.114270 -0.784043 -0.019102   1.909214  -0.452232  0.219950   \n",
       "2   -0.241620   -0.358124 -0.602901 -0.371477   0.244499  -0.254109 -0.309678   \n",
       "3   -0.516248    0.118484  2.038143  0.182909   0.688669  -1.091436 -1.219261   \n",
       "4    0.204182    0.078507 -1.210237 -0.535429   0.231954  -0.050517  3.400586   \n",
       "\n",
       "   Economy2  \n",
       "0  0.125706  \n",
       "1  0.373881  \n",
       "2 -0.123173  \n",
       "3  0.307282  \n",
       "4  0.693676  "
      ]
     },
     "execution_count": 30,
     "metadata": {},
     "output_type": "execute_result"
    }
   ],
   "source": [
    "cat_data_poly = pd.DataFrame(data = np.hstack((ed_feature_poly,health_feature_poly,security_feature_poly,economy_feature_poly)),\\\n",
    "                        columns = [\"Education1\",\"Education2\",\"Health1\",\"Health2\",\"Security1\",\"Security2\",\"Economy1\",\"Economy2\"])\n",
    "cat_data_poly.head()"
   ]
  },
  {
   "cell_type": "code",
   "execution_count": 31,
   "metadata": {},
   "outputs": [
    {
     "name": "stdout",
     "output_type": "stream",
     "text": [
      "R2 value =  0.9927978989523064 \n"
     ]
    }
   ],
   "source": [
    "X_cat = cat_data.values\n",
    "Y_pred_scaled = cross_val_predict(linReg,X_cat,Y_scaled,cv=5)\n",
    "Y_pred = scaler_y.inverse_transform(Y_pred_scaled)\n",
    "print(\"R2 value =  {} \".format(1 - mean_squared_error(Y_pred,y)/np.std(y)))\n",
    "\n",
    "MSELinRegAll2PCA = mean_squared_error(Y_pred,y)"
   ]
  },
  {
   "cell_type": "code",
   "execution_count": 32,
   "metadata": {},
   "outputs": [
    {
     "name": "stdout",
     "output_type": "stream",
     "text": [
      "R2 value =  0.9927978989523064\n"
     ]
    }
   ],
   "source": [
    "Y_pred_scaled = cross_val_predict(linRegNorm,X_cat,Y_scaled,cv=5)\n",
    "Y_pred = scaler_y.inverse_transform(Y_pred_scaled)\n",
    "print(\"R2 value =  {}\".format(1 - mean_squared_error(Y_pred,y)/np.std(y)))\n",
    "\n",
    "MSELinRegAll2PCANormalized = mean_squared_error(Y_pred,y)"
   ]
  },
  {
   "cell_type": "code",
   "execution_count": 33,
   "metadata": {},
   "outputs": [
    {
     "name": "stdout",
     "output_type": "stream",
     "text": [
      "R2 value =  0.9930305992643044\n"
     ]
    }
   ],
   "source": [
    "X_cat_poly = cat_data_poly.values\n",
    "Y_pred_scaled = cross_val_predict(linReg,X_cat_poly,Y_scaled,cv=5)\n",
    "Y_pred = scaler_y.inverse_transform(Y_pred_scaled)\n",
    "print(\"R2 value =  {}\".format(1 - mean_squared_error(Y_pred,y)/np.std(y)))\n",
    "\n",
    "MSELinRegAll2PCAPoly = mean_squared_error(Y_pred,y)"
   ]
  },
  {
   "cell_type": "code",
   "execution_count": 34,
   "metadata": {},
   "outputs": [
    {
     "name": "stdout",
     "output_type": "stream",
     "text": [
      "R2 value =  0.9930305992643044\n"
     ]
    }
   ],
   "source": [
    "Y_pred_scaled = cross_val_predict(linRegNorm,X_cat_poly,Y_scaled,cv=5)\n",
    "Y_pred = scaler_y.inverse_transform(Y_pred_scaled)\n",
    "print(\"R2 value =  {}\".format(1 - mean_squared_error(Y_pred,y)/np.std(y)))\n",
    "\n",
    "MSELinRegAll2PCAPolyNormalized = mean_squared_error(Y_pred,y)"
   ]
  },
  {
   "cell_type": "code",
   "execution_count": 35,
   "metadata": {},
   "outputs": [
    {
     "name": "stdout",
     "output_type": "stream",
     "text": [
      "R2 value =  0.995740695380593\n"
     ]
    }
   ],
   "source": [
    "model_cv = regr_cv.fit(X_cat, Y_scaled)\n",
    "Y_pred_scaled = model_cv.predict(X_cat)\n",
    "Y_pred = scaler_y.inverse_transform(Y_pred_scaled)\n",
    "print(\"R2 value =  {}\".format(1 - mean_squared_error(Y_pred,y)/np.std(y)))\n",
    "\n",
    "MSERidRegAll2PCA = mean_squared_error(Y_pred,y)"
   ]
  },
  {
   "cell_type": "code",
   "execution_count": 36,
   "metadata": {},
   "outputs": [
    {
     "name": "stdout",
     "output_type": "stream",
     "text": [
      "R2 value =  0.9953299026190899\n"
     ]
    }
   ],
   "source": [
    "model_cv_norm = regr_cv_norm.fit(X_cat, Y_scaled)\n",
    "Y_pred_scaled = model_cv_norm.predict(X_cat)\n",
    "Y_pred = scaler_y.inverse_transform(Y_pred_scaled)\n",
    "print(\"R2 value =  {}\".format(1 - mean_squared_error(Y_pred,y)/np.std(y)))\n",
    "\n",
    "MSERidRegAll2PCANormalized = mean_squared_error(Y_pred,y)"
   ]
  },
  {
   "cell_type": "code",
   "execution_count": 37,
   "metadata": {},
   "outputs": [
    {
     "name": "stdout",
     "output_type": "stream",
     "text": [
      "R2 value =  0.996216117727382\n"
     ]
    }
   ],
   "source": [
    "model_cv = regr_cv.fit(X_cat_poly, Y_scaled)\n",
    "Y_pred_scaled = model_cv.predict(X_cat_poly)\n",
    "Y_pred = scaler_y.inverse_transform(Y_pred_scaled)\n",
    "print(\"R2 value =  {}\".format(1 - mean_squared_error(Y_pred,y)/np.std(y)))\n",
    "\n",
    "MSERidRegAll2PCAPoly = mean_squared_error(Y_pred,y)"
   ]
  },
  {
   "cell_type": "code",
   "execution_count": 38,
   "metadata": {},
   "outputs": [
    {
     "name": "stdout",
     "output_type": "stream",
     "text": [
      "R2 value =  0.9958547741268508\n"
     ]
    }
   ],
   "source": [
    "model_cv_norm = regr_cv_norm.fit(X_cat_poly, Y_scaled)\n",
    "Y_pred_scaled = model_cv_norm.predict(X_cat_poly)\n",
    "Y_pred = scaler_y.inverse_transform(Y_pred_scaled)\n",
    "print(\"R2 value =  {}\".format(1 - mean_squared_error(Y_pred,y)/np.std(y)))\n",
    "\n",
    "MSERidRegAll2PCAPolyNormalized = mean_squared_error(Y_pred,y)"
   ]
  },
  {
   "cell_type": "code",
   "execution_count": 39,
   "metadata": {},
   "outputs": [
    {
     "name": "stdout",
     "output_type": "stream",
     "text": [
      "R2 value =  0.9953447085053553\n"
     ]
    },
    {
     "name": "stderr",
     "output_type": "stream",
     "text": [
      "C:\\Users\\loris\\Anaconda3\\lib\\site-packages\\sklearn\\model_selection\\_search.py:825: FutureWarning: The parameter 'iid' is deprecated in 0.22 and will be removed in 0.24.\n",
      "  \"removed in 0.24.\", FutureWarning\n"
     ]
    }
   ],
   "source": [
    "parameters = {'kernel' :['rbf','linear','sigmoid','poly'],'C' : np.exp(np.arange(-6,6))}\n",
    "estimator = SVR(gamma = 'auto')\n",
    "clf = GridSearchCV(estimator,parameters,cv = 5,iid=True)\n",
    "clf.fit(X_cat, Y_scaled.reshape(-1,))\n",
    "Y_pred_scaled = clf.predict(X_cat).reshape(-1,1)\n",
    "Y_pred = scaler_y.inverse_transform(Y_pred_scaled)\n",
    "print(\"R2 value =  {}\".format(1 - mean_squared_error(Y_pred,y)/np.std(y)))\n",
    "\n",
    "MSESVRAll2PCA = mean_squared_error(Y_pred,y)"
   ]
  },
  {
   "cell_type": "code",
   "execution_count": 40,
   "metadata": {},
   "outputs": [
    {
     "data": {
      "text/html": [
       "<div>\n",
       "<style scoped>\n",
       "    .dataframe tbody tr th:only-of-type {\n",
       "        vertical-align: middle;\n",
       "    }\n",
       "\n",
       "    .dataframe tbody tr th {\n",
       "        vertical-align: top;\n",
       "    }\n",
       "\n",
       "    .dataframe thead th {\n",
       "        text-align: right;\n",
       "    }\n",
       "</style>\n",
       "<table border=\"1\" class=\"dataframe\">\n",
       "  <thead>\n",
       "    <tr style=\"text-align: right;\">\n",
       "      <th></th>\n",
       "      <th>State</th>\n",
       "      <th>HDI</th>\n",
       "      <th>awards_per_value</th>\n",
       "      <th>exp_award_value</th>\n",
       "      <th>High_School_Fee</th>\n",
       "      <th>Elementary_School_Fee</th>\n",
       "      <th>Colleges_universities_per_1000000</th>\n",
       "      <th>Junior_colleges_per_1000000</th>\n",
       "      <th>Prof_schools_per_1000000</th>\n",
       "      <th>Intensive_top_230_score</th>\n",
       "      <th>...</th>\n",
       "      <th>Property_crime</th>\n",
       "      <th>Burglary</th>\n",
       "      <th>Theft</th>\n",
       "      <th>Motor_Vehicle_theft</th>\n",
       "      <th>Per_capita_income</th>\n",
       "      <th>Price_2018_Studio</th>\n",
       "      <th>Price_2018_1br</th>\n",
       "      <th>Price_2018_2br</th>\n",
       "      <th>Price_2018_3br</th>\n",
       "      <th>Price_2018_4br</th>\n",
       "    </tr>\n",
       "  </thead>\n",
       "  <tbody>\n",
       "    <tr>\n",
       "      <td>1</td>\n",
       "      <td>alabama</td>\n",
       "      <td>0.882</td>\n",
       "      <td>19.514493</td>\n",
       "      <td>63013.173913</td>\n",
       "      <td>7718.0</td>\n",
       "      <td>6388.0</td>\n",
       "      <td>8.636111</td>\n",
       "      <td>7.402381</td>\n",
       "      <td>3.289947</td>\n",
       "      <td>75.257541</td>\n",
       "      <td>...</td>\n",
       "      <td>2947.8</td>\n",
       "      <td>700.5</td>\n",
       "      <td>2006.3</td>\n",
       "      <td>241.1</td>\n",
       "      <td>38215.0</td>\n",
       "      <td>605.416667</td>\n",
       "      <td>659.000000</td>\n",
       "      <td>800.666667</td>\n",
       "      <td>1069.666667</td>\n",
       "      <td>1244.333333</td>\n",
       "    </tr>\n",
       "    <tr>\n",
       "      <td>2</td>\n",
       "      <td>alaska</td>\n",
       "      <td>0.942</td>\n",
       "      <td>18.414286</td>\n",
       "      <td>141431.142857</td>\n",
       "      <td>6118.0</td>\n",
       "      <td>7544.0</td>\n",
       "      <td>8.087409</td>\n",
       "      <td>1.347901</td>\n",
       "      <td>2.695803</td>\n",
       "      <td>39.089142</td>\n",
       "      <td>...</td>\n",
       "      <td>3353.0</td>\n",
       "      <td>546.3</td>\n",
       "      <td>2394.7</td>\n",
       "      <td>412.1</td>\n",
       "      <td>54430.0</td>\n",
       "      <td>814.333333</td>\n",
       "      <td>930.500000</td>\n",
       "      <td>1190.333333</td>\n",
       "      <td>1682.166667</td>\n",
       "      <td>2019.500000</td>\n",
       "    </tr>\n",
       "    <tr>\n",
       "      <td>3</td>\n",
       "      <td>arizona</td>\n",
       "      <td>0.912</td>\n",
       "      <td>25.563492</td>\n",
       "      <td>47830.888889</td>\n",
       "      <td>17339.0</td>\n",
       "      <td>6283.0</td>\n",
       "      <td>6.636781</td>\n",
       "      <td>6.203947</td>\n",
       "      <td>6.059670</td>\n",
       "      <td>30.154070</td>\n",
       "      <td>...</td>\n",
       "      <td>2978.4</td>\n",
       "      <td>544.4</td>\n",
       "      <td>2168.1</td>\n",
       "      <td>265.8</td>\n",
       "      <td>39955.0</td>\n",
       "      <td>701.000000</td>\n",
       "      <td>828.000000</td>\n",
       "      <td>1046.000000</td>\n",
       "      <td>1512.333333</td>\n",
       "      <td>1754.416667</td>\n",
       "    </tr>\n",
       "    <tr>\n",
       "      <td>4</td>\n",
       "      <td>arkansas</td>\n",
       "      <td>0.882</td>\n",
       "      <td>21.970833</td>\n",
       "      <td>51132.479167</td>\n",
       "      <td>6680.0</td>\n",
       "      <td>4698.0</td>\n",
       "      <td>8.700750</td>\n",
       "      <td>8.700750</td>\n",
       "      <td>10.708616</td>\n",
       "      <td>32.125848</td>\n",
       "      <td>...</td>\n",
       "      <td>3268.6</td>\n",
       "      <td>795.5</td>\n",
       "      <td>2233.6</td>\n",
       "      <td>239.4</td>\n",
       "      <td>39171.0</td>\n",
       "      <td>524.666667</td>\n",
       "      <td>571.166667</td>\n",
       "      <td>721.416667</td>\n",
       "      <td>977.583333</td>\n",
       "      <td>1144.833333</td>\n",
       "    </tr>\n",
       "    <tr>\n",
       "      <td>5</td>\n",
       "      <td>california</td>\n",
       "      <td>0.934</td>\n",
       "      <td>22.771429</td>\n",
       "      <td>63022.202857</td>\n",
       "      <td>19317.0</td>\n",
       "      <td>11363.0</td>\n",
       "      <td>6.726112</td>\n",
       "      <td>4.866240</td>\n",
       "      <td>6.089169</td>\n",
       "      <td>78.063660</td>\n",
       "      <td>...</td>\n",
       "      <td>2553.0</td>\n",
       "      <td>479.8</td>\n",
       "      <td>1623.0</td>\n",
       "      <td>450.3</td>\n",
       "      <td>54800.0</td>\n",
       "      <td>1212.333333</td>\n",
       "      <td>1426.333333</td>\n",
       "      <td>1818.916667</td>\n",
       "      <td>2519.250000</td>\n",
       "      <td>2926.333333</td>\n",
       "    </tr>\n",
       "  </tbody>\n",
       "</table>\n",
       "<p>5 rows × 33 columns</p>\n",
       "</div>"
      ],
      "text/plain": [
       "        State    HDI  awards_per_value  exp_award_value  High_School_Fee  \\\n",
       "1     alabama  0.882         19.514493     63013.173913           7718.0   \n",
       "2      alaska  0.942         18.414286    141431.142857           6118.0   \n",
       "3     arizona  0.912         25.563492     47830.888889          17339.0   \n",
       "4    arkansas  0.882         21.970833     51132.479167           6680.0   \n",
       "5  california  0.934         22.771429     63022.202857          19317.0   \n",
       "\n",
       "   Elementary_School_Fee  Colleges_universities_per_1000000  \\\n",
       "1                 6388.0                           8.636111   \n",
       "2                 7544.0                           8.087409   \n",
       "3                 6283.0                           6.636781   \n",
       "4                 4698.0                           8.700750   \n",
       "5                11363.0                           6.726112   \n",
       "\n",
       "   Junior_colleges_per_1000000  Prof_schools_per_1000000  \\\n",
       "1                     7.402381                  3.289947   \n",
       "2                     1.347901                  2.695803   \n",
       "3                     6.203947                  6.059670   \n",
       "4                     8.700750                 10.708616   \n",
       "5                     4.866240                  6.089169   \n",
       "\n",
       "   Intensive_top_230_score  ...  Property_crime  Burglary   Theft  \\\n",
       "1                75.257541  ...          2947.8     700.5  2006.3   \n",
       "2                39.089142  ...          3353.0     546.3  2394.7   \n",
       "3                30.154070  ...          2978.4     544.4  2168.1   \n",
       "4                32.125848  ...          3268.6     795.5  2233.6   \n",
       "5                78.063660  ...          2553.0     479.8  1623.0   \n",
       "\n",
       "   Motor_Vehicle_theft  Per_capita_income  Price_2018_Studio  Price_2018_1br  \\\n",
       "1                241.1            38215.0         605.416667      659.000000   \n",
       "2                412.1            54430.0         814.333333      930.500000   \n",
       "3                265.8            39955.0         701.000000      828.000000   \n",
       "4                239.4            39171.0         524.666667      571.166667   \n",
       "5                450.3            54800.0        1212.333333     1426.333333   \n",
       "\n",
       "   Price_2018_2br  Price_2018_3br  Price_2018_4br  \n",
       "1      800.666667     1069.666667     1244.333333  \n",
       "2     1190.333333     1682.166667     2019.500000  \n",
       "3     1046.000000     1512.333333     1754.416667  \n",
       "4      721.416667      977.583333     1144.833333  \n",
       "5     1818.916667     2519.250000     2926.333333  \n",
       "\n",
       "[5 rows x 33 columns]"
      ]
     },
     "execution_count": 40,
     "metadata": {},
     "output_type": "execute_result"
    }
   ],
   "source": [
    "df.head()"
   ]
  },
  {
   "cell_type": "code",
   "execution_count": 41,
   "metadata": {},
   "outputs": [],
   "source": [
    "income = df[['Per_capita_income']].values\n",
    "life_exp = df[['Life_Expectancy']].values"
   ]
  },
  {
   "cell_type": "code",
   "execution_count": 42,
   "metadata": {},
   "outputs": [
    {
     "name": "stdout",
     "output_type": "stream",
     "text": [
      "Explained Variance Ratio for Health 79.2968469507313\n",
      "Explained Variance Ratio for Health Polynomial 78.6426250648725\n",
      "Explained Variance Ratio for Economy86.975858050814\n",
      "Explained Variance Ratio for Economy Polynomial 84.55002176227758\n"
     ]
    }
   ],
   "source": [
    "cat_data_scaled = scaler_x.fit_transform(df_health.drop(columns=['Life_Expectancy']))\n",
    "cat_data_poly = poly.fit_transform(cat_data_scaled)\n",
    "health_feature = pca_comp.fit_transform(cat_data_scaled)\n",
    "print(\"Explained Variance Ratio for Health {}\".format(100.0*np.sum(pca_comp.explained_variance_ratio_)))\n",
    "health_feature_poly = pca_comp.fit_transform(cat_data_poly)\n",
    "print(\"Explained Variance Ratio for Health Polynomial {}\".format(100.0*np.sum(pca_comp.explained_variance_ratio_)))\n",
    "\n",
    "cat_data_scaled = scaler_x.fit_transform(df_economy.drop(columns=['Per_capita_income']))\n",
    "cat_data_poly = poly.fit_transform(cat_data_scaled)\n",
    "economy_feature = pca_comp.fit_transform(cat_data_scaled)\n",
    "print(\"Explained Variance Ratio for Economy{}\".format(100.0*np.sum(pca_comp.explained_variance_ratio_)))\n",
    "economy_feature_poly = pca_comp.fit_transform(cat_data_poly)\n",
    "print(\"Explained Variance Ratio for Economy Polynomial {}\".format(100.0*np.sum(pca_comp.explained_variance_ratio_)))"
   ]
  },
  {
   "cell_type": "code",
   "execution_count": 43,
   "metadata": {},
   "outputs": [
    {
     "data": {
      "text/html": [
       "<div>\n",
       "<style scoped>\n",
       "    .dataframe tbody tr th:only-of-type {\n",
       "        vertical-align: middle;\n",
       "    }\n",
       "\n",
       "    .dataframe tbody tr th {\n",
       "        vertical-align: top;\n",
       "    }\n",
       "\n",
       "    .dataframe thead th {\n",
       "        text-align: right;\n",
       "    }\n",
       "</style>\n",
       "<table border=\"1\" class=\"dataframe\">\n",
       "  <thead>\n",
       "    <tr style=\"text-align: right;\">\n",
       "      <th></th>\n",
       "      <th>Education1</th>\n",
       "      <th>Education2</th>\n",
       "      <th>Health1</th>\n",
       "      <th>Health2</th>\n",
       "      <th>Security1</th>\n",
       "      <th>Security2</th>\n",
       "      <th>Economy1</th>\n",
       "      <th>Economy2</th>\n",
       "    </tr>\n",
       "  </thead>\n",
       "  <tbody>\n",
       "    <tr>\n",
       "      <td>0</td>\n",
       "      <td>-0.058614</td>\n",
       "      <td>0.518308</td>\n",
       "      <td>0.958057</td>\n",
       "      <td>-0.069199</td>\n",
       "      <td>0.433284</td>\n",
       "      <td>-0.366793</td>\n",
       "      <td>-0.551912</td>\n",
       "      <td>0.078982</td>\n",
       "    </tr>\n",
       "    <tr>\n",
       "      <td>1</td>\n",
       "      <td>0.439150</td>\n",
       "      <td>0.761389</td>\n",
       "      <td>-0.369344</td>\n",
       "      <td>0.009942</td>\n",
       "      <td>0.872818</td>\n",
       "      <td>0.309678</td>\n",
       "      <td>0.216761</td>\n",
       "      <td>0.165305</td>\n",
       "    </tr>\n",
       "    <tr>\n",
       "      <td>2</td>\n",
       "      <td>-0.168710</td>\n",
       "      <td>-0.253282</td>\n",
       "      <td>-0.281465</td>\n",
       "      <td>-0.155203</td>\n",
       "      <td>0.258061</td>\n",
       "      <td>-0.066875</td>\n",
       "      <td>0.053852</td>\n",
       "      <td>-0.145769</td>\n",
       "    </tr>\n",
       "    <tr>\n",
       "      <td>3</td>\n",
       "      <td>-0.366289</td>\n",
       "      <td>0.119031</td>\n",
       "      <td>0.861096</td>\n",
       "      <td>0.143015</td>\n",
       "      <td>0.587030</td>\n",
       "      <td>-0.379195</td>\n",
       "      <td>-0.791009</td>\n",
       "      <td>0.274313</td>\n",
       "    </tr>\n",
       "    <tr>\n",
       "      <td>4</td>\n",
       "      <td>0.191689</td>\n",
       "      <td>-0.042024</td>\n",
       "      <td>-0.569011</td>\n",
       "      <td>-0.347160</td>\n",
       "      <td>0.198335</td>\n",
       "      <td>0.094236</td>\n",
       "      <td>1.508984</td>\n",
       "      <td>0.092013</td>\n",
       "    </tr>\n",
       "  </tbody>\n",
       "</table>\n",
       "</div>"
      ],
      "text/plain": [
       "   Education1  Education2   Health1   Health2  Security1  Security2  Economy1  \\\n",
       "0   -0.058614    0.518308  0.958057 -0.069199   0.433284  -0.366793 -0.551912   \n",
       "1    0.439150    0.761389 -0.369344  0.009942   0.872818   0.309678  0.216761   \n",
       "2   -0.168710   -0.253282 -0.281465 -0.155203   0.258061  -0.066875  0.053852   \n",
       "3   -0.366289    0.119031  0.861096  0.143015   0.587030  -0.379195 -0.791009   \n",
       "4    0.191689   -0.042024 -0.569011 -0.347160   0.198335   0.094236  1.508984   \n",
       "\n",
       "   Economy2  \n",
       "0  0.078982  \n",
       "1  0.165305  \n",
       "2 -0.145769  \n",
       "3  0.274313  \n",
       "4  0.092013  "
      ]
     },
     "execution_count": 43,
     "metadata": {},
     "output_type": "execute_result"
    }
   ],
   "source": [
    "cat_data = pd.DataFrame(data = np.hstack((ed_feature,health_feature,security_feature,economy_feature)),\\\n",
    "                        columns = [\"Education1\",\"Education2\",\"Health1\",\"Health2\",\"Security1\",\"Security2\",\"Economy1\",\"Economy2\"])\n",
    "cat_data.head()"
   ]
  },
  {
   "cell_type": "code",
   "execution_count": 44,
   "metadata": {},
   "outputs": [
    {
     "data": {
      "text/html": [
       "<div>\n",
       "<style scoped>\n",
       "    .dataframe tbody tr th:only-of-type {\n",
       "        vertical-align: middle;\n",
       "    }\n",
       "\n",
       "    .dataframe tbody tr th {\n",
       "        vertical-align: top;\n",
       "    }\n",
       "\n",
       "    .dataframe thead th {\n",
       "        text-align: right;\n",
       "    }\n",
       "</style>\n",
       "<table border=\"1\" class=\"dataframe\">\n",
       "  <thead>\n",
       "    <tr style=\"text-align: right;\">\n",
       "      <th></th>\n",
       "      <th>Education1</th>\n",
       "      <th>Education2</th>\n",
       "      <th>Health1</th>\n",
       "      <th>Health2</th>\n",
       "      <th>Security1</th>\n",
       "      <th>Security2</th>\n",
       "      <th>Economy1</th>\n",
       "      <th>Economy2</th>\n",
       "    </tr>\n",
       "  </thead>\n",
       "  <tbody>\n",
       "    <tr>\n",
       "      <td>0</td>\n",
       "      <td>-0.229575</td>\n",
       "      <td>0.738826</td>\n",
       "      <td>2.031441</td>\n",
       "      <td>-0.253199</td>\n",
       "      <td>0.384528</td>\n",
       "      <td>-0.772236</td>\n",
       "      <td>-0.916601</td>\n",
       "      <td>0.140786</td>\n",
       "    </tr>\n",
       "    <tr>\n",
       "      <td>1</td>\n",
       "      <td>0.303915</td>\n",
       "      <td>1.114270</td>\n",
       "      <td>-0.764564</td>\n",
       "      <td>0.053603</td>\n",
       "      <td>1.909214</td>\n",
       "      <td>-0.452232</td>\n",
       "      <td>0.128979</td>\n",
       "      <td>0.343529</td>\n",
       "    </tr>\n",
       "    <tr>\n",
       "      <td>2</td>\n",
       "      <td>-0.241620</td>\n",
       "      <td>-0.358124</td>\n",
       "      <td>-0.658363</td>\n",
       "      <td>-0.276478</td>\n",
       "      <td>0.244499</td>\n",
       "      <td>-0.254109</td>\n",
       "      <td>-0.187715</td>\n",
       "      <td>-0.223471</td>\n",
       "    </tr>\n",
       "    <tr>\n",
       "      <td>3</td>\n",
       "      <td>-0.516248</td>\n",
       "      <td>0.118484</td>\n",
       "      <td>1.915518</td>\n",
       "      <td>0.230547</td>\n",
       "      <td>0.688669</td>\n",
       "      <td>-1.091436</td>\n",
       "      <td>-1.135626</td>\n",
       "      <td>0.408166</td>\n",
       "    </tr>\n",
       "    <tr>\n",
       "      <td>4</td>\n",
       "      <td>0.204182</td>\n",
       "      <td>0.078507</td>\n",
       "      <td>-1.101718</td>\n",
       "      <td>-0.548636</td>\n",
       "      <td>0.231954</td>\n",
       "      <td>-0.050517</td>\n",
       "      <td>3.328123</td>\n",
       "      <td>0.389112</td>\n",
       "    </tr>\n",
       "  </tbody>\n",
       "</table>\n",
       "</div>"
      ],
      "text/plain": [
       "   Education1  Education2   Health1   Health2  Security1  Security2  Economy1  \\\n",
       "0   -0.229575    0.738826  2.031441 -0.253199   0.384528  -0.772236 -0.916601   \n",
       "1    0.303915    1.114270 -0.764564  0.053603   1.909214  -0.452232  0.128979   \n",
       "2   -0.241620   -0.358124 -0.658363 -0.276478   0.244499  -0.254109 -0.187715   \n",
       "3   -0.516248    0.118484  1.915518  0.230547   0.688669  -1.091436 -1.135626   \n",
       "4    0.204182    0.078507 -1.101718 -0.548636   0.231954  -0.050517  3.328123   \n",
       "\n",
       "   Economy2  \n",
       "0  0.140786  \n",
       "1  0.343529  \n",
       "2 -0.223471  \n",
       "3  0.408166  \n",
       "4  0.389112  "
      ]
     },
     "execution_count": 44,
     "metadata": {},
     "output_type": "execute_result"
    }
   ],
   "source": [
    "cat_data_poly = pd.DataFrame(data = np.hstack((ed_feature_poly,health_feature_poly,security_feature_poly,economy_feature_poly)),\\\n",
    "                        columns = [\"Education1\",\"Education2\",\"Health1\",\"Health2\",\"Security1\",\"Security2\",\"Economy1\",\"Economy2\"])\n",
    "cat_data_poly.head()"
   ]
  },
  {
   "cell_type": "code",
   "execution_count": 45,
   "metadata": {},
   "outputs": [
    {
     "name": "stdout",
     "output_type": "stream",
     "text": [
      "R2 value =  0.9914909833441763 \n"
     ]
    }
   ],
   "source": [
    "X_cat = cat_data.values\n",
    "Y_pred_scaled = cross_val_predict(linReg,X_cat,Y_scaled,cv=5)\n",
    "Y_pred = scaler_y.inverse_transform(Y_pred_scaled)\n",
    "print(\"R2 value =  {} \".format(1 - mean_squared_error(Y_pred,y)/np.std(y)))"
   ]
  },
  {
   "cell_type": "code",
   "execution_count": 46,
   "metadata": {},
   "outputs": [
    {
     "name": "stdout",
     "output_type": "stream",
     "text": [
      "R2 value =  0.9914909833441764\n"
     ]
    }
   ],
   "source": [
    "Y_pred_scaled = cross_val_predict(linRegNorm,X_cat,Y_scaled,cv=5)\n",
    "Y_pred = scaler_y.inverse_transform(Y_pred_scaled)\n",
    "print(\"R2 value =  {}\".format(1 - mean_squared_error(Y_pred,y)/np.std(y)))"
   ]
  },
  {
   "cell_type": "code",
   "execution_count": 47,
   "metadata": {},
   "outputs": [
    {
     "name": "stdout",
     "output_type": "stream",
     "text": [
      "R2 value =  0.9909374765052336\n"
     ]
    }
   ],
   "source": [
    "X_cat_poly = cat_data_poly.values\n",
    "Y_pred_scaled = cross_val_predict(linReg,X_cat_poly,Y_scaled,cv=5)\n",
    "Y_pred = scaler_y.inverse_transform(Y_pred_scaled)\n",
    "print(\"R2 value =  {}\".format(1 - mean_squared_error(Y_pred,y)/np.std(y)))"
   ]
  },
  {
   "cell_type": "code",
   "execution_count": 48,
   "metadata": {},
   "outputs": [
    {
     "name": "stdout",
     "output_type": "stream",
     "text": [
      "R2 value =  0.9909374765052336\n"
     ]
    }
   ],
   "source": [
    "Y_pred_scaled = cross_val_predict(linRegNorm,X_cat_poly,Y_scaled,cv=5)\n",
    "Y_pred = scaler_y.inverse_transform(Y_pred_scaled)\n",
    "print(\"R2 value =  {}\".format(1 - mean_squared_error(Y_pred,y)/np.std(y)))"
   ]
  },
  {
   "cell_type": "code",
   "execution_count": 49,
   "metadata": {},
   "outputs": [
    {
     "name": "stdout",
     "output_type": "stream",
     "text": [
      "R2 value =  0.9947394292178281\n"
     ]
    }
   ],
   "source": [
    "model_cv = regr_cv.fit(X_cat, Y_scaled)\n",
    "Y_pred_scaled = model_cv.predict(X_cat)\n",
    "Y_pred = scaler_y.inverse_transform(Y_pred_scaled)\n",
    "print(\"R2 value =  {}\".format(1 - mean_squared_error(Y_pred,y)/np.std(y)))"
   ]
  },
  {
   "cell_type": "code",
   "execution_count": 50,
   "metadata": {},
   "outputs": [
    {
     "name": "stdout",
     "output_type": "stream",
     "text": [
      "R2 value =  0.9943175033435996\n"
     ]
    }
   ],
   "source": [
    "model_cv_norm = regr_cv_norm.fit(X_cat, Y_scaled)\n",
    "Y_pred_scaled = model_cv_norm.predict(X_cat)\n",
    "Y_pred = scaler_y.inverse_transform(Y_pred_scaled)\n",
    "print(\"R2 value =  {}\".format(1 - mean_squared_error(Y_pred,y)/np.std(y)))"
   ]
  },
  {
   "cell_type": "code",
   "execution_count": 51,
   "metadata": {},
   "outputs": [
    {
     "name": "stdout",
     "output_type": "stream",
     "text": [
      "R2 value =  0.9952081284094967\n"
     ]
    }
   ],
   "source": [
    "model_cv = regr_cv.fit(X_cat_poly, Y_scaled)\n",
    "Y_pred_scaled = model_cv.predict(X_cat_poly)\n",
    "Y_pred = scaler_y.inverse_transform(Y_pred_scaled)\n",
    "print(\"R2 value =  {}\".format(1 - mean_squared_error(Y_pred,y)/np.std(y)))"
   ]
  },
  {
   "cell_type": "code",
   "execution_count": 52,
   "metadata": {},
   "outputs": [
    {
     "name": "stdout",
     "output_type": "stream",
     "text": [
      "R2 value =  0.9947704851550793\n"
     ]
    }
   ],
   "source": [
    "model_cv_norm = regr_cv_norm.fit(X_cat_poly, Y_scaled)\n",
    "Y_pred_scaled = model_cv_norm.predict(X_cat_poly)\n",
    "Y_pred = scaler_y.inverse_transform(Y_pred_scaled)\n",
    "print(\"R2 value =  {}\".format(1 - mean_squared_error(Y_pred,y)/np.std(y)))"
   ]
  },
  {
   "cell_type": "code",
   "execution_count": 53,
   "metadata": {},
   "outputs": [
    {
     "name": "stdout",
     "output_type": "stream",
     "text": [
      "R2 value =  0.9914904357719951\n"
     ]
    },
    {
     "name": "stderr",
     "output_type": "stream",
     "text": [
      "C:\\Users\\loris\\Anaconda3\\lib\\site-packages\\sklearn\\model_selection\\_search.py:825: FutureWarning: The parameter 'iid' is deprecated in 0.22 and will be removed in 0.24.\n",
      "  \"removed in 0.24.\", FutureWarning\n"
     ]
    }
   ],
   "source": [
    "parameters = {'kernel' :['rbf','linear','sigmoid','poly'],'C' : np.exp(np.arange(-6,6))}\n",
    "estimator = SVR(gamma = 'auto')\n",
    "clf = GridSearchCV(estimator,parameters,cv = 5,iid=True)\n",
    "clf.fit(X_cat, Y_scaled.reshape(-1,))\n",
    "Y_pred_scaled = clf.predict(X_cat).reshape(-1,1)\n",
    "Y_pred = scaler_y.inverse_transform(Y_pred_scaled)\n",
    "print(\"R2 value =  {}\".format(1 - mean_squared_error(Y_pred,y)/np.std(y)))"
   ]
  },
  {
   "cell_type": "markdown",
   "metadata": {},
   "source": [
    "### Weighting linear Regression"
   ]
  },
  {
   "cell_type": "code",
   "execution_count": 54,
   "metadata": {},
   "outputs": [
    {
     "data": {
      "text/plain": [
       "LinearRegression(copy_X=True, fit_intercept=True, n_jobs=None, normalize=False)"
      ]
     },
     "execution_count": 54,
     "metadata": {},
     "output_type": "execute_result"
    }
   ],
   "source": [
    "linReg.fit(X_cat,Y_scaled)"
   ]
  },
  {
   "cell_type": "code",
   "execution_count": 55,
   "metadata": {},
   "outputs": [],
   "source": [
    "#Changing weights:\n",
    "def change_weights(X,estimator,weights,scaling):\n",
    "    coef = estimator.coef_\n",
    "    weights_repeated = np.repeat(weights,2)\n",
    "    weights_mean = weights_repeated.mean()\n",
    "    weights_new = np.exp(weights_repeated)/np.exp(weights_mean)\n",
    "    coef_weighted = coef * weights_new.T\n",
    "    estimator.coef_ = coef_weighted\n",
    "    Y_pred_scaled= estimator.predict(X)\n",
    "    Y_pred = scaling.inverse_transform(Y_pred_scaled)\n",
    "    estimator.coef_ = coef\n",
    "    return Y_pred"
   ]
  },
  {
   "cell_type": "code",
   "execution_count": 56,
   "metadata": {},
   "outputs": [
    {
     "name": "stdout",
     "output_type": "stream",
     "text": [
      "R2 value =  0.9582383057296644\n"
     ]
    }
   ],
   "source": [
    "Y_pred_weights = change_weights(X_cat,linReg,np.array([1,4,3,2]),scaler_y)\n",
    "print(\"R2 value =  {}\".format(1 - mean_squared_error(Y_pred_weights,y)/np.std(y)))"
   ]
  },
  {
   "cell_type": "code",
   "execution_count": null,
   "metadata": {},
   "outputs": [],
   "source": []
  },
  {
   "cell_type": "code",
   "execution_count": null,
   "metadata": {},
   "outputs": [],
   "source": []
  },
  {
   "cell_type": "code",
   "execution_count": null,
   "metadata": {},
   "outputs": [],
   "source": []
  },
  {
   "cell_type": "code",
   "execution_count": null,
   "metadata": {},
   "outputs": [],
   "source": []
  },
  {
   "cell_type": "markdown",
   "metadata": {},
   "source": [
    "# Visualization:"
   ]
  },
  {
   "cell_type": "markdown",
   "metadata": {},
   "source": [
    "First, we will compare the different models:"
   ]
  },
  {
   "cell_type": "code",
   "execution_count": 57,
   "metadata": {},
   "outputs": [],
   "source": [
    "withoutNormalization = {'MSELinReg': MSELinReg, 'MSELinRegPoly': MSELinRegPoly, 'MSERidReg': MSERidReg,\\\n",
    "                        'MSERidRegPoly': MSERidRegPoly, 'MSELinReg5PCA': MSELinReg5PCA, 'MSELinRegPoly5PCA': MSELinRegPoly5PCA,\\\n",
    "                        'MSERidReg5PCA': MSERidReg5PCA, 'MSERidRegPoly5PCA': MSERidRegPoly5PCA}\n",
    "\n",
    "withNormalization = {'MSELinRegNormalized': MSELinRegNormalized, 'MSELinRegPolyNormalized': MSELinRegPolyNormalized,\\\n",
    "                        'MSERidRegNormalized': MSERidRegNormalized, 'MSERidRegPolyNormalized': MSERidRegPolyNormalized,\\\n",
    "                        'MSELinReg5PCANormalized': MSELinReg5PCANormalized, 'MSELinRegPoly5PCANormalized': MSELinRegPoly5PCANormalized,\\\n",
    "                        'MSERidReg5PCANormalized': MSERidReg5PCANormalized, 'MSERidRegPoly5PCANormalized': MSERidRegPoly5PCANormalized}"
   ]
  },
  {
   "cell_type": "code",
   "execution_count": 58,
   "metadata": {},
   "outputs": [
    {
     "data": {
      "image/png": "[encoded data removed]",
      "text/plain": [
       "<Figure size 1440x720 with 1 Axes>"
      ]
     },
     "metadata": {
      "needs_background": "light"
     },
     "output_type": "display_data"
    }
   ],
   "source": [
    "#here we compare linear regression and ridge regression (with/without normalization and with/without PCA)\n",
    "plt.figure(figsize=(20,10))\n",
    "plt.title(\"What is the best model between linear regression and ridge regression ?\")\n",
    "plt.ylabel(\"MSE\")\n",
    "barWidth = 0.25\n",
    "r1 = np.arange(len(withoutNormalization))\n",
    "r2 = [x + barWidth for x in r1]\n",
    "plt.bar(r1, withoutNormalization.values(), width=0.15) \n",
    "plt.bar(r2, withNormalization.values(), width=0.15) \n",
    "plt.xticks([r + barWidth/2 for r in range(len(withoutNormalization))], withoutNormalization, \n",
    "           rotation=45)\n",
    "plt.gca().legend(('without normalization', 'with normalization'))\n",
    "plt.show()"
   ]
  },
  {
   "cell_type": "markdown",
   "metadata": {},
   "source": [
    "First of all, we directly see that ridge regression with polynomial expansion gives the lowest mean square error. The second lowest MSE is ~3.64 times higher!  \n",
    "It is important to notice that even with PCA applied, ridge regression with polynomial expansion still gives one of the best results (among the one with PCA applied) with an MSE of 0.00010719844617705647 while the best model is of 0.00010135941361386338 so it's MSE is only ~1.06 times higher thant the best one.  \n",
    "\n",
    "So, since ridge regression with polynomial expansion gives the best results and is also robust when we remove some information (with PCA), we would prefere this model rather than linear regression or other variant of ridge regression in our prediction task!\n",
    "\n",
    "From the bar plot, we can see that in most of the cases, the 'normalize' parameter is insignificant. The only exception is when we use linear regression with polynomial expansion. We can deduce that polynomial expansion and normalization shouldn't be combined in a linear regression model.    \n",
    "Another strange observation is the fact that linear regression **with PCA** gives better results than **without PCA**. Our guess about this is that the dataset is noisy and then not suitable for a model designed for linearly separable data. The PCA removes part of the noise by combining some original features, making the dataset more separable and thus linear regression, then gives better performances.\n"
   ]
  },
  {
   "cell_type": "code",
   "execution_count": 59,
   "metadata": {},
   "outputs": [
    {
     "name": "stdout",
     "output_type": "stream",
     "text": [
      "Ridge regression with polynomial expansion has an MSE of 7.47467846129282e-06 while SVR has an MSE of 4.611675479565552e-05, making his loss 6.169730916783699 times bigger. We will thus prefer ridge regression with polynomial expansion.\n"
     ]
    }
   ],
   "source": [
    "#here we compare ridge regression with SVR\n",
    "print(\"Ridge regression with polynomial expansion has an MSE of \"+str(MSERidRegPoly) +\" while SVR has an MSE of \"+str(MSESVR)+\\\n",
    "      \", making his loss \"+str(MSESVR/MSERidRegPoly)+\" times bigger. We will thus prefer ridge regression with polynomial expansion.\")\n"
   ]
  },
  {
   "cell_type": "markdown",
   "metadata": {},
   "source": [
    "Now that we have choose our model, we will look at its prediction."
   ]
  },
  {
   "cell_type": "code",
   "execution_count": 60,
   "metadata": {},
   "outputs": [
    {
     "data": {
      "image/png": "[encoded data removed]",
      "text/plain": [
       "<Figure size 1440x720 with 1 Axes>"
      ]
     },
     "metadata": {
      "needs_background": "light"
     },
     "output_type": "display_data"
    }
   ],
   "source": [
    "model_cv = regr_cv.fit(X_poly, Y_scaled)\n",
    "Y_pred_scaled = model_cv.predict(X_poly)\n",
    "Y_pred = scaler_y.inverse_transform(Y_pred_scaled)\n",
    "\n",
    "#here we compare true HDI with predicted HDI\n",
    "plt.figure(figsize=(20,10))\n",
    "plt.title(\"Comparaison prediction and true HDI.\")\n",
    "plt.ylabel(\"HDI\")\n",
    "barWidth = 0.25\n",
    "r1 = np.arange(len(Y_pred))\n",
    "r2 = [x + barWidth for x in r1]\n",
    "plt.bar(r1, y, width=0.15) \n",
    "plt.bar(r2, Y_pred.reshape(len(Y_pred)), width=0.15) \n",
    "plt.xticks([r + barWidth/2 for r in range(len(Y_pred))], df.State, \n",
    "           rotation='vertical')\n",
    "plt.gca().legend(('true HDI', 'predicted HDI'))\n",
    "plt.show()"
   ]
  },
  {
   "cell_type": "markdown",
   "metadata": {},
   "source": [
    "We can see that the prediction is good. But are there some outliers (i.e. some states with really bad prediction) ?"
   ]
  },
  {
   "cell_type": "code",
   "execution_count": 61,
   "metadata": {},
   "outputs": [
    {
     "data": {
      "image/png": "[encoded data removed]",
      "text/plain": [
       "<Figure size 432x288 with 1 Axes>"
      ]
     },
     "metadata": {
      "needs_background": "light"
     },
     "output_type": "display_data"
    },
    {
     "name": "stdout",
     "output_type": "stream",
     "text": [
      "The mean of the difference is of : -8.707631565687502e-18\n",
      "The standard devition is of : 0.002733985819512021\n"
     ]
    }
   ],
   "source": [
    "from scipy.interpolate import UnivariateSpline\n",
    "\n",
    "differenceTable = y - Y_pred.reshape(len(Y_pred))\n",
    "\n",
    "plt.title(\"Difference true HDI and predicted HDI.\")\n",
    "plt.xlabel(\"true HDI - predicted HDI\")\n",
    "plt.ylabel(\"nbr of states\")\n",
    "plt.hist(differenceTable, bins=5)\n",
    "p, x = np.histogram(differenceTable, bins=5)\n",
    "x = x[:-1] + (x[1] - x[0])/2   # convert bin edges to centers\n",
    "f = UnivariateSpline(x, p, s=5)\n",
    "plt.plot(x, f(x))\n",
    "plt.show()\n",
    "print(\"The mean of the difference is of : \"+str(differenceTable.mean()))\n",
    "print(\"The standard devition is of : \"+str(np.std(differenceTable)))"
   ]
  },
  {
   "cell_type": "markdown",
   "metadata": {},
   "source": [
    "We can see that there are no outliers and that the difference repartition is centered around '0' which is good since otherwise it would mean that there is a bias in our prediction."
   ]
  },
  {
   "cell_type": "markdown",
   "metadata": {},
   "source": [
    "# Visualize results when we apply 2 PCA on each classes"
   ]
  },
  {
   "cell_type": "code",
   "execution_count": 62,
   "metadata": {},
   "outputs": [
    {
     "data": {
      "text/plain": [
       "[('Rid. reg. with poly. expans.', 8.418132523013526e-05),\n",
       " ('Normalized rid. reg. with poly. expans.', 9.222026010299446e-05),\n",
       " ('Rid. reg.', 9.475820905295824e-05),\n",
       " ('SVR', 0.00010356786472656819),\n",
       " ('Normalized rig. reg.', 0.00010389725635062772),\n",
       " ('Lin. reg. with poly. expans.', 0.00015505064579739397),\n",
       " ('Normalized lin. reg. with poly. expans.', 0.00015505064579739408),\n",
       " ('Normalized lin. reg.', 0.00016022760935865683),\n",
       " ('Lin. reg.', 0.00016022760935865686)]"
      ]
     },
     "execution_count": 62,
     "metadata": {},
     "output_type": "execute_result"
    }
   ],
   "source": [
    "MSEDict = {'Lin. reg.': MSELinRegAll2PCA, 'Normalized lin. reg.': MSELinRegAll2PCANormalized,\\\n",
    "           'Lin. reg. with poly. expans.': MSELinRegAll2PCAPoly, 'Normalized lin. reg. with poly. expans.': MSELinRegAll2PCAPolyNormalized,\\\n",
    "          'Rid. reg.': MSERidRegAll2PCA, 'Normalized rig. reg.': MSERidRegAll2PCANormalized, 'Rid. reg. with poly. expans.': MSERidRegAll2PCAPoly,\\\n",
    "          'Normalized rid. reg. with poly. expans.': MSERidRegAll2PCAPolyNormalized, 'SVR': MSESVRAll2PCA}\n",
    "MSEDict = sorted(MSEDict.items(), key=lambda x: x[1])\n",
    "MSEDict"
   ]
  },
  {
   "cell_type": "code",
   "execution_count": 63,
   "metadata": {},
   "outputs": [
    {
     "data": {
      "image/png": "[encoded data removed]",
      "text/plain": [
       "<Figure size 1440x720 with 1 Axes>"
      ]
     },
     "metadata": {
      "needs_background": "light"
     },
     "output_type": "display_data"
    }
   ],
   "source": [
    "#here we compare the different model results when we only keep 8 features (i.e. 2 PCA for each classes)\n",
    "plt.figure(figsize=(20,10))\n",
    "plt.title(\"What is the best model when we have only 8 features ?\")\n",
    "plt.ylabel(\"MSE\")\n",
    "barWidth = 0.25\n",
    "r1 = np.arange(len(MSEDict))\n",
    "plt.bar(r1, [MSE for _, MSE in MSEDict], width=0.15) \n",
    "plt.xticks([r for r in range(len(MSEDict))], [name for name, _ in MSEDict], \n",
    "           rotation='vertical')\n",
    "plt.show()"
   ]
  },
  {
   "cell_type": "markdown",
   "metadata": {},
   "source": [
    "We can see that ridge regression with polynomial expansion still has the lowest MSE.  \n",
    "We can also notice from the bar plot that SVR and ridge regression have almost the same MSE while linear regression always gives bigger MSE.  \n",
    "\n",
    "The fact that linear regression have bad results gives a sign about the fact that the samples are not linearly separable."
   ]
  },
  {
   "cell_type": "markdown",
   "metadata": {},
   "source": [
    "We will once again have a closer look at the best model (i.e. ridge regression with polynomial expansion):"
   ]
  },
  {
   "cell_type": "code",
   "execution_count": 64,
   "metadata": {},
   "outputs": [
    {
     "name": "stdout",
     "output_type": "stream",
     "text": [
      "R2 value =  0.9952081284094967\n"
     ]
    },
    {
     "data": {
      "image/png": "[encoded data removed]",
      "text/plain": [
       "<Figure size 1440x720 with 1 Axes>"
      ]
     },
     "metadata": {
      "needs_background": "light"
     },
     "output_type": "display_data"
    }
   ],
   "source": [
    "model_cv = regr_cv.fit(X_cat_poly, Y_scaled)\n",
    "Y_pred_scaled = model_cv.predict(X_cat_poly)\n",
    "Y_pred = scaler_y.inverse_transform(Y_pred_scaled)\n",
    "print(\"R2 value =  {}\".format(1 - mean_squared_error(Y_pred,y)/np.std(y)))\n",
    "\n",
    "#here we compare true HDI with predicted HDI\n",
    "plt.figure(figsize=(20,10))\n",
    "plt.title(\"Comparaison prediction and true HDI.\")\n",
    "plt.ylabel(\"HDI\")\n",
    "barWidth = 0.25\n",
    "r1 = np.arange(len(Y_pred))\n",
    "r2 = [x + barWidth for x in r1]\n",
    "plt.bar(r1, y, width=0.15) \n",
    "plt.bar(r2, Y_pred.reshape(len(Y_pred)), width=0.15) \n",
    "plt.xticks([r + barWidth/2 for r in range(len(Y_pred))], df.State, \n",
    "           rotation='vertical')\n",
    "plt.gca().legend(('true HDI', 'predicted HDI'))\n",
    "plt.show()"
   ]
  },
  {
   "cell_type": "markdown",
   "metadata": {},
   "source": [
    "We can see that the prediction is not as accurate as with the full 31 features but given that here there are only 8 features, the prediction is still close to the real HDI.  \n",
    "\n",
    "Are there some outliers (i.e. some states with really bad prediction) ?"
   ]
  },
  {
   "cell_type": "code",
   "execution_count": 65,
   "metadata": {},
   "outputs": [
    {
     "data": {
      "image/png": "[encoded data removed]",
      "text/plain": [
       "<Figure size 432x288 with 1 Axes>"
      ]
     },
     "metadata": {
      "needs_background": "light"
     },
     "output_type": "display_data"
    },
    {
     "name": "stdout",
     "output_type": "stream",
     "text": [
      "The mean of the difference is of : -4.353815782843751e-18\n",
      "The standard devition is of : 0.010325037961663185\n"
     ]
    }
   ],
   "source": [
    "differenceTable = y - Y_pred.reshape(len(Y_pred))\n",
    "\n",
    "plt.title(\"Difference true HDI and predicted HDI.\")\n",
    "plt.xlabel(\"true HDI - predicted HDI\")\n",
    "plt.ylabel(\"nbr of states\")\n",
    "plt.hist(differenceTable, bins=11)\n",
    "p, x = np.histogram(differenceTable, bins=11)\n",
    "x = x[:-1] + (x[1] - x[0])/2   # convert bin edges to centers\n",
    "f = UnivariateSpline(x, p, s=11)\n",
    "plt.plot(x, f(x))\n",
    "plt.show()\n",
    "print(\"The mean of the difference is of : \"+str(differenceTable.mean()))\n",
    "print(\"The standard devition is of : \"+str(np.std(differenceTable)))"
   ]
  },
  {
   "cell_type": "markdown",
   "metadata": {},
   "source": [
    "We can see that the mean of the difference is stil near '0' which is good.  \n",
    "We can notice that the standard deviation increased when we applied PCA. It went from ~0.002734 to ~0.010325 (i.e. increased ~3.8 times. Since PCA remove some info from the input, this lost of precision was expected and explains the higher loss of ridge regression with polynomial expansion when we apply PCA."
   ]
  },
  {
   "cell_type": "code",
   "execution_count": null,
   "metadata": {},
   "outputs": [],
   "source": []
  },
  {
   "cell_type": "code",
   "execution_count": null,
   "metadata": {},
   "outputs": [],
   "source": []
  }
 ],
 "metadata": {
  "kernelspec": {
   "display_name": "Python 3",
   "language": "python",
   "name": "python3"
  },
  "language_info": {
   "codemirror_mode": {
    "name": "ipython",
    "version": 3
   },
   "file_extension": ".py",
   "mimetype": "text/x-python",
   "name": "python",
   "nbconvert_exporter": "python",
   "pygments_lexer": "ipython3",
   "version": "3.6.5"
  }
 },
 "nbformat": 4,
 "nbformat_minor": 4
}
