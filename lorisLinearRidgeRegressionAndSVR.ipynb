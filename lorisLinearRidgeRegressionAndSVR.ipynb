{
 "cells": [
  {
   "cell_type": "code",
   "execution_count": 49,
   "metadata": {},
   "outputs": [],
   "source": [
    "import numpy as np\n",
    "import pandas as pd\n",
    "from sklearn.linear_model import LinearRegression,RidgeCV\n",
    "from sklearn.model_selection import *\n",
    "from sklearn.preprocessing import *\n",
    "from sklearn.svm import SVR\n",
    "from sklearn.decomposition import *\n",
    "from sklearn.metrics import mean_squared_error,make_scorer\n",
    "import matplotlib.pyplot as plt"
   ]
  },
  {
   "cell_type": "code",
   "execution_count": 10,
   "metadata": {},
   "outputs": [
    {
     "data": {
      "text/html": [
       "<div>\n",
       "<style scoped>\n",
       "    .dataframe tbody tr th:only-of-type {\n",
       "        vertical-align: middle;\n",
       "    }\n",
       "\n",
       "    .dataframe tbody tr th {\n",
       "        vertical-align: top;\n",
       "    }\n",
       "\n",
       "    .dataframe thead th {\n",
       "        text-align: right;\n",
       "    }\n",
       "</style>\n",
       "<table border=\"1\" class=\"dataframe\">\n",
       "  <thead>\n",
       "    <tr style=\"text-align: right;\">\n",
       "      <th></th>\n",
       "      <th>State</th>\n",
       "      <th>HDI</th>\n",
       "      <th>awards_per_value</th>\n",
       "      <th>exp_award_value</th>\n",
       "      <th>High_School_Fee</th>\n",
       "      <th>Elementary_School_Fee</th>\n",
       "      <th>Colleges_universities_per_1000000</th>\n",
       "      <th>Junior_colleges_per_1000000</th>\n",
       "      <th>Prof_schools_per_1000000</th>\n",
       "      <th>Intensive_top_230_score</th>\n",
       "      <th>...</th>\n",
       "      <th>Property_crime</th>\n",
       "      <th>Burglary</th>\n",
       "      <th>Theft</th>\n",
       "      <th>Motor_Vehicle_theft</th>\n",
       "      <th>Per_capita_income</th>\n",
       "      <th>Price_2018_Studio</th>\n",
       "      <th>Price_2018_1br</th>\n",
       "      <th>Price_2018_2br</th>\n",
       "      <th>Price_2018_3br</th>\n",
       "      <th>Price_2018_4br</th>\n",
       "    </tr>\n",
       "  </thead>\n",
       "  <tbody>\n",
       "    <tr>\n",
       "      <td>1</td>\n",
       "      <td>alabama</td>\n",
       "      <td>0.882</td>\n",
       "      <td>19.514493</td>\n",
       "      <td>63013.173913</td>\n",
       "      <td>7718.0</td>\n",
       "      <td>6388.0</td>\n",
       "      <td>8.636111</td>\n",
       "      <td>7.402381</td>\n",
       "      <td>3.289947</td>\n",
       "      <td>75.257541</td>\n",
       "      <td>...</td>\n",
       "      <td>2947.8</td>\n",
       "      <td>700.5</td>\n",
       "      <td>2006.3</td>\n",
       "      <td>241.1</td>\n",
       "      <td>38215.0</td>\n",
       "      <td>605.416667</td>\n",
       "      <td>659.000000</td>\n",
       "      <td>800.666667</td>\n",
       "      <td>1069.666667</td>\n",
       "      <td>1244.333333</td>\n",
       "    </tr>\n",
       "    <tr>\n",
       "      <td>2</td>\n",
       "      <td>alaska</td>\n",
       "      <td>0.942</td>\n",
       "      <td>18.414286</td>\n",
       "      <td>141431.142857</td>\n",
       "      <td>6118.0</td>\n",
       "      <td>7544.0</td>\n",
       "      <td>8.087409</td>\n",
       "      <td>1.347901</td>\n",
       "      <td>2.695803</td>\n",
       "      <td>39.089142</td>\n",
       "      <td>...</td>\n",
       "      <td>3353.0</td>\n",
       "      <td>546.3</td>\n",
       "      <td>2394.7</td>\n",
       "      <td>412.1</td>\n",
       "      <td>54430.0</td>\n",
       "      <td>814.333333</td>\n",
       "      <td>930.500000</td>\n",
       "      <td>1190.333333</td>\n",
       "      <td>1682.166667</td>\n",
       "      <td>2019.500000</td>\n",
       "    </tr>\n",
       "    <tr>\n",
       "      <td>3</td>\n",
       "      <td>arizona</td>\n",
       "      <td>0.912</td>\n",
       "      <td>25.563492</td>\n",
       "      <td>47830.888889</td>\n",
       "      <td>17339.0</td>\n",
       "      <td>6283.0</td>\n",
       "      <td>6.636781</td>\n",
       "      <td>6.203947</td>\n",
       "      <td>6.059670</td>\n",
       "      <td>30.154070</td>\n",
       "      <td>...</td>\n",
       "      <td>2978.4</td>\n",
       "      <td>544.4</td>\n",
       "      <td>2168.1</td>\n",
       "      <td>265.8</td>\n",
       "      <td>39955.0</td>\n",
       "      <td>701.000000</td>\n",
       "      <td>828.000000</td>\n",
       "      <td>1046.000000</td>\n",
       "      <td>1512.333333</td>\n",
       "      <td>1754.416667</td>\n",
       "    </tr>\n",
       "    <tr>\n",
       "      <td>4</td>\n",
       "      <td>arkansas</td>\n",
       "      <td>0.882</td>\n",
       "      <td>21.970833</td>\n",
       "      <td>51132.479167</td>\n",
       "      <td>6680.0</td>\n",
       "      <td>4698.0</td>\n",
       "      <td>8.700750</td>\n",
       "      <td>8.700750</td>\n",
       "      <td>10.708616</td>\n",
       "      <td>32.125848</td>\n",
       "      <td>...</td>\n",
       "      <td>3268.6</td>\n",
       "      <td>795.5</td>\n",
       "      <td>2233.6</td>\n",
       "      <td>239.4</td>\n",
       "      <td>39171.0</td>\n",
       "      <td>524.666667</td>\n",
       "      <td>571.166667</td>\n",
       "      <td>721.416667</td>\n",
       "      <td>977.583333</td>\n",
       "      <td>1144.833333</td>\n",
       "    </tr>\n",
       "    <tr>\n",
       "      <td>5</td>\n",
       "      <td>california</td>\n",
       "      <td>0.934</td>\n",
       "      <td>22.771429</td>\n",
       "      <td>63022.202857</td>\n",
       "      <td>19317.0</td>\n",
       "      <td>11363.0</td>\n",
       "      <td>6.726112</td>\n",
       "      <td>4.866240</td>\n",
       "      <td>6.089169</td>\n",
       "      <td>78.063660</td>\n",
       "      <td>...</td>\n",
       "      <td>2553.0</td>\n",
       "      <td>479.8</td>\n",
       "      <td>1623.0</td>\n",
       "      <td>450.3</td>\n",
       "      <td>54800.0</td>\n",
       "      <td>1212.333333</td>\n",
       "      <td>1426.333333</td>\n",
       "      <td>1818.916667</td>\n",
       "      <td>2519.250000</td>\n",
       "      <td>2926.333333</td>\n",
       "    </tr>\n",
       "  </tbody>\n",
       "</table>\n",
       "<p>5 rows × 33 columns</p>\n",
       "</div>"
      ],
      "text/plain": [
       "        State    HDI  awards_per_value  exp_award_value  High_School_Fee  \\\n",
       "1     alabama  0.882         19.514493     63013.173913           7718.0   \n",
       "2      alaska  0.942         18.414286    141431.142857           6118.0   \n",
       "3     arizona  0.912         25.563492     47830.888889          17339.0   \n",
       "4    arkansas  0.882         21.970833     51132.479167           6680.0   \n",
       "5  california  0.934         22.771429     63022.202857          19317.0   \n",
       "\n",
       "   Elementary_School_Fee  Colleges_universities_per_1000000  \\\n",
       "1                 6388.0                           8.636111   \n",
       "2                 7544.0                           8.087409   \n",
       "3                 6283.0                           6.636781   \n",
       "4                 4698.0                           8.700750   \n",
       "5                11363.0                           6.726112   \n",
       "\n",
       "   Junior_colleges_per_1000000  Prof_schools_per_1000000  \\\n",
       "1                     7.402381                  3.289947   \n",
       "2                     1.347901                  2.695803   \n",
       "3                     6.203947                  6.059670   \n",
       "4                     8.700750                 10.708616   \n",
       "5                     4.866240                  6.089169   \n",
       "\n",
       "   Intensive_top_230_score  ...  Property_crime  Burglary   Theft  \\\n",
       "1                75.257541  ...          2947.8     700.5  2006.3   \n",
       "2                39.089142  ...          3353.0     546.3  2394.7   \n",
       "3                30.154070  ...          2978.4     544.4  2168.1   \n",
       "4                32.125848  ...          3268.6     795.5  2233.6   \n",
       "5                78.063660  ...          2553.0     479.8  1623.0   \n",
       "\n",
       "   Motor_Vehicle_theft  Per_capita_income  Price_2018_Studio  Price_2018_1br  \\\n",
       "1                241.1            38215.0         605.416667      659.000000   \n",
       "2                412.1            54430.0         814.333333      930.500000   \n",
       "3                265.8            39955.0         701.000000      828.000000   \n",
       "4                239.4            39171.0         524.666667      571.166667   \n",
       "5                450.3            54800.0        1212.333333     1426.333333   \n",
       "\n",
       "   Price_2018_2br  Price_2018_3br  Price_2018_4br  \n",
       "1      800.666667     1069.666667     1244.333333  \n",
       "2     1190.333333     1682.166667     2019.500000  \n",
       "3     1046.000000     1512.333333     1754.416667  \n",
       "4      721.416667      977.583333     1144.833333  \n",
       "5     1818.916667     2519.250000     2926.333333  \n",
       "\n",
       "[5 rows x 33 columns]"
      ]
     },
     "execution_count": 10,
     "metadata": {},
     "output_type": "execute_result"
    }
   ],
   "source": [
    "df = pd.read_pickle('../normalDataFromAngeloWithHDI.pickle')\n",
    "df.head()"
   ]
  },
  {
   "cell_type": "code",
   "execution_count": 52,
   "metadata": {},
   "outputs": [
    {
     "data": {
      "text/html": [
       "<div>\n",
       "<style scoped>\n",
       "    .dataframe tbody tr th:only-of-type {\n",
       "        vertical-align: middle;\n",
       "    }\n",
       "\n",
       "    .dataframe tbody tr th {\n",
       "        vertical-align: top;\n",
       "    }\n",
       "\n",
       "    .dataframe thead th {\n",
       "        text-align: right;\n",
       "    }\n",
       "</style>\n",
       "<table border=\"1\" class=\"dataframe\">\n",
       "  <thead>\n",
       "    <tr style=\"text-align: right;\">\n",
       "      <th></th>\n",
       "      <th>awards_per_value</th>\n",
       "      <th>exp_award_value</th>\n",
       "      <th>High_School_Fee</th>\n",
       "      <th>Elementary_School_Fee</th>\n",
       "      <th>Colleges_universities_per_1000000</th>\n",
       "      <th>Junior_colleges_per_1000000</th>\n",
       "      <th>Prof_schools_per_1000000</th>\n",
       "      <th>Intensive_top_230_score</th>\n",
       "      <th>Life_Expectancy</th>\n",
       "      <th>mc_donalds_per_100k</th>\n",
       "      <th>...</th>\n",
       "      <th>Property_crime</th>\n",
       "      <th>Burglary</th>\n",
       "      <th>Theft</th>\n",
       "      <th>Motor_Vehicle_theft</th>\n",
       "      <th>Per_capita_income</th>\n",
       "      <th>Price_2018_Studio</th>\n",
       "      <th>Price_2018_1br</th>\n",
       "      <th>Price_2018_2br</th>\n",
       "      <th>Price_2018_3br</th>\n",
       "      <th>Price_2018_4br</th>\n",
       "    </tr>\n",
       "  </thead>\n",
       "  <tbody>\n",
       "    <tr>\n",
       "      <td>1</td>\n",
       "      <td>19.514493</td>\n",
       "      <td>63013.173913</td>\n",
       "      <td>7718.0</td>\n",
       "      <td>6388.0</td>\n",
       "      <td>8.636111</td>\n",
       "      <td>7.402381</td>\n",
       "      <td>3.289947</td>\n",
       "      <td>75.257541</td>\n",
       "      <td>74.813987</td>\n",
       "      <td>5.0</td>\n",
       "      <td>...</td>\n",
       "      <td>2947.8</td>\n",
       "      <td>700.5</td>\n",
       "      <td>2006.3</td>\n",
       "      <td>241.1</td>\n",
       "      <td>38215.0</td>\n",
       "      <td>605.416667</td>\n",
       "      <td>659.000000</td>\n",
       "      <td>800.666667</td>\n",
       "      <td>1069.666667</td>\n",
       "      <td>1244.333333</td>\n",
       "    </tr>\n",
       "    <tr>\n",
       "      <td>2</td>\n",
       "      <td>18.414286</td>\n",
       "      <td>141431.142857</td>\n",
       "      <td>6118.0</td>\n",
       "      <td>7544.0</td>\n",
       "      <td>8.087409</td>\n",
       "      <td>1.347901</td>\n",
       "      <td>2.695803</td>\n",
       "      <td>39.089142</td>\n",
       "      <td>78.915541</td>\n",
       "      <td>4.2</td>\n",
       "      <td>...</td>\n",
       "      <td>3353.0</td>\n",
       "      <td>546.3</td>\n",
       "      <td>2394.7</td>\n",
       "      <td>412.1</td>\n",
       "      <td>54430.0</td>\n",
       "      <td>814.333333</td>\n",
       "      <td>930.500000</td>\n",
       "      <td>1190.333333</td>\n",
       "      <td>1682.166667</td>\n",
       "      <td>2019.500000</td>\n",
       "    </tr>\n",
       "    <tr>\n",
       "      <td>3</td>\n",
       "      <td>25.563492</td>\n",
       "      <td>47830.888889</td>\n",
       "      <td>17339.0</td>\n",
       "      <td>6283.0</td>\n",
       "      <td>6.636781</td>\n",
       "      <td>6.203947</td>\n",
       "      <td>6.059670</td>\n",
       "      <td>30.154070</td>\n",
       "      <td>78.364742</td>\n",
       "      <td>4.1</td>\n",
       "      <td>...</td>\n",
       "      <td>2978.4</td>\n",
       "      <td>544.4</td>\n",
       "      <td>2168.1</td>\n",
       "      <td>265.8</td>\n",
       "      <td>39955.0</td>\n",
       "      <td>701.000000</td>\n",
       "      <td>828.000000</td>\n",
       "      <td>1046.000000</td>\n",
       "      <td>1512.333333</td>\n",
       "      <td>1754.416667</td>\n",
       "    </tr>\n",
       "    <tr>\n",
       "      <td>4</td>\n",
       "      <td>21.970833</td>\n",
       "      <td>51132.479167</td>\n",
       "      <td>6680.0</td>\n",
       "      <td>4698.0</td>\n",
       "      <td>8.700750</td>\n",
       "      <td>8.700750</td>\n",
       "      <td>10.708616</td>\n",
       "      <td>32.125848</td>\n",
       "      <td>75.626900</td>\n",
       "      <td>5.8</td>\n",
       "      <td>...</td>\n",
       "      <td>3268.6</td>\n",
       "      <td>795.5</td>\n",
       "      <td>2233.6</td>\n",
       "      <td>239.4</td>\n",
       "      <td>39171.0</td>\n",
       "      <td>524.666667</td>\n",
       "      <td>571.166667</td>\n",
       "      <td>721.416667</td>\n",
       "      <td>977.583333</td>\n",
       "      <td>1144.833333</td>\n",
       "    </tr>\n",
       "    <tr>\n",
       "      <td>5</td>\n",
       "      <td>22.771429</td>\n",
       "      <td>63022.202857</td>\n",
       "      <td>19317.0</td>\n",
       "      <td>11363.0</td>\n",
       "      <td>6.726112</td>\n",
       "      <td>4.866240</td>\n",
       "      <td>6.089169</td>\n",
       "      <td>78.063660</td>\n",
       "      <td>80.231014</td>\n",
       "      <td>3.3</td>\n",
       "      <td>...</td>\n",
       "      <td>2553.0</td>\n",
       "      <td>479.8</td>\n",
       "      <td>1623.0</td>\n",
       "      <td>450.3</td>\n",
       "      <td>54800.0</td>\n",
       "      <td>1212.333333</td>\n",
       "      <td>1426.333333</td>\n",
       "      <td>1818.916667</td>\n",
       "      <td>2519.250000</td>\n",
       "      <td>2926.333333</td>\n",
       "    </tr>\n",
       "  </tbody>\n",
       "</table>\n",
       "<p>5 rows × 31 columns</p>\n",
       "</div>"
      ],
      "text/plain": [
       "   awards_per_value  exp_award_value  High_School_Fee  Elementary_School_Fee  \\\n",
       "1         19.514493     63013.173913           7718.0                 6388.0   \n",
       "2         18.414286    141431.142857           6118.0                 7544.0   \n",
       "3         25.563492     47830.888889          17339.0                 6283.0   \n",
       "4         21.970833     51132.479167           6680.0                 4698.0   \n",
       "5         22.771429     63022.202857          19317.0                11363.0   \n",
       "\n",
       "   Colleges_universities_per_1000000  Junior_colleges_per_1000000  \\\n",
       "1                           8.636111                     7.402381   \n",
       "2                           8.087409                     1.347901   \n",
       "3                           6.636781                     6.203947   \n",
       "4                           8.700750                     8.700750   \n",
       "5                           6.726112                     4.866240   \n",
       "\n",
       "   Prof_schools_per_1000000  Intensive_top_230_score  Life_Expectancy  \\\n",
       "1                  3.289947                75.257541        74.813987   \n",
       "2                  2.695803                39.089142        78.915541   \n",
       "3                  6.059670                30.154070        78.364742   \n",
       "4                 10.708616                32.125848        75.626900   \n",
       "5                  6.089169                78.063660        80.231014   \n",
       "\n",
       "   mc_donalds_per_100k  ...  Property_crime  Burglary   Theft  \\\n",
       "1                  5.0  ...          2947.8     700.5  2006.3   \n",
       "2                  4.2  ...          3353.0     546.3  2394.7   \n",
       "3                  4.1  ...          2978.4     544.4  2168.1   \n",
       "4                  5.8  ...          3268.6     795.5  2233.6   \n",
       "5                  3.3  ...          2553.0     479.8  1623.0   \n",
       "\n",
       "   Motor_Vehicle_theft  Per_capita_income  Price_2018_Studio  Price_2018_1br  \\\n",
       "1                241.1            38215.0         605.416667      659.000000   \n",
       "2                412.1            54430.0         814.333333      930.500000   \n",
       "3                265.8            39955.0         701.000000      828.000000   \n",
       "4                239.4            39171.0         524.666667      571.166667   \n",
       "5                450.3            54800.0        1212.333333     1426.333333   \n",
       "\n",
       "   Price_2018_2br  Price_2018_3br  Price_2018_4br  \n",
       "1      800.666667     1069.666667     1244.333333  \n",
       "2     1190.333333     1682.166667     2019.500000  \n",
       "3     1046.000000     1512.333333     1754.416667  \n",
       "4      721.416667      977.583333     1144.833333  \n",
       "5     1818.916667     2519.250000     2926.333333  \n",
       "\n",
       "[5 rows x 31 columns]"
      ]
     },
     "execution_count": 52,
     "metadata": {},
     "output_type": "execute_result"
    }
   ],
   "source": [
    "States = df.State.tolist()\n",
    "X = df.drop([\"State\", \"HDI\"], axis = 1)\n",
    "y = df.HDI\n",
    "X.head()"
   ]
  },
  {
   "cell_type": "code",
   "execution_count": 86,
   "metadata": {},
   "outputs": [],
   "source": [
    "scaler_x = MinMaxScaler()\n",
    "scaler_y = MinMaxScaler()\n",
    "X_scaled = scaler_x.fit_transform(X.values)\n",
    "Y_scaled = scaler_y.fit_transform(y.values.reshape(-1,1))"
   ]
  },
  {
   "cell_type": "markdown",
   "metadata": {},
   "source": [
    "# Linear Regression"
   ]
  },
  {
   "cell_type": "code",
   "execution_count": 106,
   "metadata": {},
   "outputs": [
    {
     "name": "stdout",
     "output_type": "stream",
     "text": [
      "R2 value =  0.9725698807776677 \n"
     ]
    }
   ],
   "source": [
    "linReg = LinearRegression()\n",
    "Y_pred_scaled = cross_val_predict(linReg,X_scaled,Y_scaled,cv=5)\n",
    "Y_pred = scaler_y.inverse_transform(Y_pred_scaled)\n",
    "print(\"R2 value =  {} \".format(1 - mean_squared_error(Y_pred,y)/np.std(y)))"
   ]
  },
  {
   "cell_type": "code",
   "execution_count": 108,
   "metadata": {},
   "outputs": [
    {
     "name": "stdout",
     "output_type": "stream",
     "text": [
      "R2 value =  0.9725698807776563 % \n"
     ]
    }
   ],
   "source": [
    "linRegNorm = LinearRegression(normalize=True)\n",
    "Y_pred_scaled = cross_val_predict(linRegNorm,X_scaled,Y_scaled,cv=5)\n",
    "Y_pred = scaler_y.inverse_transform(Y_pred_scaled)\n",
    "print(\"R2 value =  {}\".format(1 - mean_squared_error(Y_pred,y)/np.std(y)))"
   ]
  },
  {
   "cell_type": "markdown",
   "metadata": {},
   "source": [
    "#### With normalized inputs"
   ]
  },
  {
   "cell_type": "markdown",
   "metadata": {},
   "source": [
    "### adding polynomial augmentation"
   ]
  },
  {
   "cell_type": "code",
   "execution_count": 109,
   "metadata": {},
   "outputs": [
    {
     "name": "stdout",
     "output_type": "stream",
     "text": [
      "R2 value =  0.9950324662601138\n"
     ]
    }
   ],
   "source": [
    "poly = PolynomialFeatures(2)\n",
    "X_poly = poly.fit_transform(X_scaled)\n",
    "linReg = LinearRegression()\n",
    "scores = cross_val_score(linReg,X_poly,Y_scaled,cv=5,scoring = mse_scorer)\n",
    "Y_pred_scaled = cross_val_predict(linReg,X_poly,Y_scaled,cv=5)\n",
    "Y_pred = scaler_y.inverse_transform(Y_pred_scaled)\n",
    "print(\"R2 value =  {}\".format(1 - mean_squared_error(Y_pred,y)/np.std(y)))"
   ]
  },
  {
   "cell_type": "code",
   "execution_count": 110,
   "metadata": {},
   "outputs": [
    {
     "name": "stdout",
     "output_type": "stream",
     "text": [
      "R2 value =  0.9755962484039037\n"
     ]
    }
   ],
   "source": [
    "linRegNorm = LinearRegression(normalize=True)\n",
    "scores = cross_val_score(linRegNorm,X_poly,Y_scaled,cv=5,scoring = mse_scorer)\n",
    "Y_pred_scaled = cross_val_predict(linRegNorm,X_poly,Y_scaled,cv=5)\n",
    "Y_pred = scaler_y.inverse_transform(Y_pred_scaled)\n",
    "print(\"R2 value =  {}\".format(1 - mean_squared_error(Y_pred,y)/np.std(y)))"
   ]
  },
  {
   "cell_type": "markdown",
   "metadata": {},
   "source": [
    "#### With normalized inputs"
   ]
  },
  {
   "cell_type": "markdown",
   "metadata": {},
   "source": [
    "So we have a tendency to overfit"
   ]
  },
  {
   "cell_type": "markdown",
   "metadata": {},
   "source": [
    "# Ridge Regression"
   ]
  },
  {
   "cell_type": "code",
   "execution_count": 112,
   "metadata": {},
   "outputs": [
    {
     "name": "stdout",
     "output_type": "stream",
     "text": [
      "R2 value =  0.9987759717793506\n"
     ]
    },
    {
     "name": "stderr",
     "output_type": "stream",
     "text": [
      "/home/harshv834/anaconda3/envs/ada/lib/python3.7/site-packages/sklearn/model_selection/_search.py:814: DeprecationWarning: The default of the `iid` parameter will change from True to False in version 0.22 and will be removed in 0.24. This will change numeric results when test-set sizes are unequal.\n",
      "  DeprecationWarning)\n"
     ]
    }
   ],
   "source": [
    "alphas = np.arange(0.01,10,0.01)\n",
    "regr_cv = RidgeCV(alphas=alphas,fit_intercept=True,cv=5)\n",
    "model_cv = regr_cv.fit(X_scaled, Y_scaled)\n",
    "Y_pred_scaled = model_cv.predict(X_scaled)\n",
    "Y_pred = scaler_y.inverse_transform(Y_pred_scaled)\n",
    "print(\"R2 value =  {}\".format(1 - mean_squared_error(Y_pred,y)/np.std(y)))"
   ]
  },
  {
   "cell_type": "markdown",
   "metadata": {},
   "source": [
    "#### With normalized inputs"
   ]
  },
  {
   "cell_type": "code",
   "execution_count": 116,
   "metadata": {},
   "outputs": [
    {
     "name": "stdout",
     "output_type": "stream",
     "text": [
      "R2 value =  0.9984426203713015\n"
     ]
    },
    {
     "name": "stderr",
     "output_type": "stream",
     "text": [
      "/home/harshv834/anaconda3/envs/ada/lib/python3.7/site-packages/sklearn/model_selection/_search.py:814: DeprecationWarning: The default of the `iid` parameter will change from True to False in version 0.22 and will be removed in 0.24. This will change numeric results when test-set sizes are unequal.\n",
      "  DeprecationWarning)\n"
     ]
    }
   ],
   "source": [
    "regr_cv = RidgeCV(alphas=alphas,fit_intercept=True,cv=5,normalize=True)\n",
    "model_cv = regr_cv.fit(X_scaled, Y_scaled)\n",
    "Y_pred_scaled = model_cv.predict(X_scaled)\n",
    "Y_pred = scaler_y.inverse_transform(Y_pred_scaled)\n",
    "print(\"R2 value =  {}\".format(1 - mean_squared_error(Y_pred,y)/np.std(y)))"
   ]
  },
  {
   "cell_type": "markdown",
   "metadata": {},
   "source": [
    "### adding polynomial augmentation"
   ]
  },
  {
   "cell_type": "code",
   "execution_count": 117,
   "metadata": {},
   "outputs": [
    {
     "name": "stdout",
     "output_type": "stream",
     "text": [
      "R2 value =  0.9996640192673864\n"
     ]
    },
    {
     "name": "stderr",
     "output_type": "stream",
     "text": [
      "/home/harshv834/anaconda3/envs/ada/lib/python3.7/site-packages/sklearn/model_selection/_search.py:814: DeprecationWarning: The default of the `iid` parameter will change from True to False in version 0.22 and will be removed in 0.24. This will change numeric results when test-set sizes are unequal.\n",
      "  DeprecationWarning)\n"
     ]
    }
   ],
   "source": [
    "regr_cv = RidgeCV(alphas=alphas,fit_intercept=True,cv=5)\n",
    "model_cv = regr_cv.fit(X_poly, Y_scaled)\n",
    "Y_pred_scaled = model_cv.predict(X_poly)\n",
    "Y_pred = scaler_y.inverse_transform(Y_pred_scaled)\n",
    "print(\"R2 value =  {}\".format(1 - mean_squared_error(Y_pred,y)/np.std(y)))"
   ]
  },
  {
   "cell_type": "code",
   "execution_count": 129,
   "metadata": {},
   "outputs": [
    {
     "name": "stdout",
     "output_type": "stream",
     "text": [
      "R2 value =  0.9974854497806115\n"
     ]
    },
    {
     "name": "stderr",
     "output_type": "stream",
     "text": [
      "/home/harshv834/anaconda3/envs/ada/lib/python3.7/site-packages/sklearn/model_selection/_search.py:814: DeprecationWarning: The default of the `iid` parameter will change from True to False in version 0.22 and will be removed in 0.24. This will change numeric results when test-set sizes are unequal.\n",
      "  DeprecationWarning)\n"
     ]
    }
   ],
   "source": [
    "regr_cv = RidgeCV(alphas=alphas,fit_intercept=True,cv=5,normalize=True)\n",
    "model_cv = regr_cv.fit(X_poly, Y_scaled)\n",
    "Y_pred_scaled = model_cv.predict(X_poly)\n",
    "Y_pred = scaler_y.inverse_transform(Y_pred_scaled)\n",
    "print(\"R2 value =  {}\".format(1 - mean_squared_error(Y_pred,y)/np.std(y)))"
   ]
  },
  {
   "cell_type": "markdown",
   "metadata": {},
   "source": [
    "# SVR"
   ]
  },
  {
   "cell_type": "code",
   "execution_count": 130,
   "metadata": {},
   "outputs": [
    {
     "name": "stdout",
     "output_type": "stream",
     "text": [
      "R2 value =  0.9979270892865502\n"
     ]
    }
   ],
   "source": [
    "parameters = {'kernel' :['rbf','linear','sigmoid','poly'],'C' : np.exp(np.arange(-6,6))}\n",
    "estimator = SVR(gamma = 'auto')\n",
    "clf = GridSearchCV(estimator,parameters,cv = 5,iid=True)\n",
    "clf.fit(X_scaled, Y_scaled.reshape(-1,))\n",
    "Y_pred_scaled = clf.predict(X_scaled).reshape(-1,1)\n",
    "Y_pred = scaler_y.inverse_transform(Y_pred_scaled)\n",
    "print(\"R2 value =  {}\".format(1 - mean_squared_error(Y_pred,y)/np.std(y)))"
   ]
  }
 ],
 "metadata": {
  "kernelspec": {
   "display_name": "Python 3",
   "language": "python",
   "name": "python3"
  },
  "language_info": {
   "codemirror_mode": {
    "name": "ipython",
    "version": 3
   },
   "file_extension": ".py",
   "mimetype": "text/x-python",
   "name": "python",
   "nbconvert_exporter": "python",
   "pygments_lexer": "ipython3",
   "version": "3.7.3"
  }
 },
 "nbformat": 4,
 "nbformat_minor": 4
}
