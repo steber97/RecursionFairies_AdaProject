{
 "cells": [
  {
   "cell_type": "code",
   "execution_count": 1,
   "metadata": {},
   "outputs": [],
   "source": [
    "import numpy as np\n",
    "import pandas as pd\n",
    "from sklearn.linear_model import LinearRegression,RidgeCV\n",
    "from sklearn.model_selection import *\n",
    "from sklearn.preprocessing import *\n",
    "from sklearn.svm import SVR\n",
    "from sklearn.decomposition import *\n",
    "from sklearn.metrics import mean_squared_error,make_scorer\n",
    "import matplotlib.pyplot as plt"
   ]
  },
  {
   "cell_type": "code",
   "execution_count": 2,
   "metadata": {},
   "outputs": [
    {
     "data": {
      "text/html": [
       "<div>\n",
       "<style scoped>\n",
       "    .dataframe tbody tr th:only-of-type {\n",
       "        vertical-align: middle;\n",
       "    }\n",
       "\n",
       "    .dataframe tbody tr th {\n",
       "        vertical-align: top;\n",
       "    }\n",
       "\n",
       "    .dataframe thead th {\n",
       "        text-align: right;\n",
       "    }\n",
       "</style>\n",
       "<table border=\"1\" class=\"dataframe\">\n",
       "  <thead>\n",
       "    <tr style=\"text-align: right;\">\n",
       "      <th></th>\n",
       "      <th>State</th>\n",
       "      <th>HDI</th>\n",
       "      <th>awards_per_value</th>\n",
       "      <th>exp_award_value</th>\n",
       "      <th>High_School_Fee</th>\n",
       "      <th>Elementary_School_Fee</th>\n",
       "      <th>Colleges_universities_per_1000000</th>\n",
       "      <th>Junior_colleges_per_1000000</th>\n",
       "      <th>Prof_schools_per_1000000</th>\n",
       "      <th>Intensive_top_230_score</th>\n",
       "      <th>...</th>\n",
       "      <th>Property_crime</th>\n",
       "      <th>Burglary</th>\n",
       "      <th>Theft</th>\n",
       "      <th>Motor_Vehicle_theft</th>\n",
       "      <th>Per_capita_income</th>\n",
       "      <th>Price_2018_Studio</th>\n",
       "      <th>Price_2018_1br</th>\n",
       "      <th>Price_2018_2br</th>\n",
       "      <th>Price_2018_3br</th>\n",
       "      <th>Price_2018_4br</th>\n",
       "    </tr>\n",
       "  </thead>\n",
       "  <tbody>\n",
       "    <tr>\n",
       "      <td>1</td>\n",
       "      <td>alabama</td>\n",
       "      <td>0.882</td>\n",
       "      <td>19.514493</td>\n",
       "      <td>63013.173913</td>\n",
       "      <td>7718.0</td>\n",
       "      <td>6388.0</td>\n",
       "      <td>8.636111</td>\n",
       "      <td>7.402381</td>\n",
       "      <td>3.289947</td>\n",
       "      <td>75.257541</td>\n",
       "      <td>...</td>\n",
       "      <td>2947.8</td>\n",
       "      <td>700.5</td>\n",
       "      <td>2006.3</td>\n",
       "      <td>241.1</td>\n",
       "      <td>38215.0</td>\n",
       "      <td>605.416667</td>\n",
       "      <td>659.000000</td>\n",
       "      <td>800.666667</td>\n",
       "      <td>1069.666667</td>\n",
       "      <td>1244.333333</td>\n",
       "    </tr>\n",
       "    <tr>\n",
       "      <td>2</td>\n",
       "      <td>alaska</td>\n",
       "      <td>0.942</td>\n",
       "      <td>18.414286</td>\n",
       "      <td>141431.142857</td>\n",
       "      <td>6118.0</td>\n",
       "      <td>7544.0</td>\n",
       "      <td>8.087409</td>\n",
       "      <td>1.347901</td>\n",
       "      <td>2.695803</td>\n",
       "      <td>39.089142</td>\n",
       "      <td>...</td>\n",
       "      <td>3353.0</td>\n",
       "      <td>546.3</td>\n",
       "      <td>2394.7</td>\n",
       "      <td>412.1</td>\n",
       "      <td>54430.0</td>\n",
       "      <td>814.333333</td>\n",
       "      <td>930.500000</td>\n",
       "      <td>1190.333333</td>\n",
       "      <td>1682.166667</td>\n",
       "      <td>2019.500000</td>\n",
       "    </tr>\n",
       "    <tr>\n",
       "      <td>3</td>\n",
       "      <td>arizona</td>\n",
       "      <td>0.912</td>\n",
       "      <td>25.563492</td>\n",
       "      <td>47830.888889</td>\n",
       "      <td>17339.0</td>\n",
       "      <td>6283.0</td>\n",
       "      <td>6.636781</td>\n",
       "      <td>6.203947</td>\n",
       "      <td>6.059670</td>\n",
       "      <td>30.154070</td>\n",
       "      <td>...</td>\n",
       "      <td>2978.4</td>\n",
       "      <td>544.4</td>\n",
       "      <td>2168.1</td>\n",
       "      <td>265.8</td>\n",
       "      <td>39955.0</td>\n",
       "      <td>701.000000</td>\n",
       "      <td>828.000000</td>\n",
       "      <td>1046.000000</td>\n",
       "      <td>1512.333333</td>\n",
       "      <td>1754.416667</td>\n",
       "    </tr>\n",
       "    <tr>\n",
       "      <td>4</td>\n",
       "      <td>arkansas</td>\n",
       "      <td>0.882</td>\n",
       "      <td>21.970833</td>\n",
       "      <td>51132.479167</td>\n",
       "      <td>6680.0</td>\n",
       "      <td>4698.0</td>\n",
       "      <td>8.700750</td>\n",
       "      <td>8.700750</td>\n",
       "      <td>10.708616</td>\n",
       "      <td>32.125848</td>\n",
       "      <td>...</td>\n",
       "      <td>3268.6</td>\n",
       "      <td>795.5</td>\n",
       "      <td>2233.6</td>\n",
       "      <td>239.4</td>\n",
       "      <td>39171.0</td>\n",
       "      <td>524.666667</td>\n",
       "      <td>571.166667</td>\n",
       "      <td>721.416667</td>\n",
       "      <td>977.583333</td>\n",
       "      <td>1144.833333</td>\n",
       "    </tr>\n",
       "    <tr>\n",
       "      <td>5</td>\n",
       "      <td>california</td>\n",
       "      <td>0.934</td>\n",
       "      <td>22.771429</td>\n",
       "      <td>63022.202857</td>\n",
       "      <td>19317.0</td>\n",
       "      <td>11363.0</td>\n",
       "      <td>6.726112</td>\n",
       "      <td>4.866240</td>\n",
       "      <td>6.089169</td>\n",
       "      <td>78.063660</td>\n",
       "      <td>...</td>\n",
       "      <td>2553.0</td>\n",
       "      <td>479.8</td>\n",
       "      <td>1623.0</td>\n",
       "      <td>450.3</td>\n",
       "      <td>54800.0</td>\n",
       "      <td>1212.333333</td>\n",
       "      <td>1426.333333</td>\n",
       "      <td>1818.916667</td>\n",
       "      <td>2519.250000</td>\n",
       "      <td>2926.333333</td>\n",
       "    </tr>\n",
       "  </tbody>\n",
       "</table>\n",
       "<p>5 rows × 33 columns</p>\n",
       "</div>"
      ],
      "text/plain": [
       "        State    HDI  awards_per_value  exp_award_value  High_School_Fee  \\\n",
       "1     alabama  0.882         19.514493     63013.173913           7718.0   \n",
       "2      alaska  0.942         18.414286    141431.142857           6118.0   \n",
       "3     arizona  0.912         25.563492     47830.888889          17339.0   \n",
       "4    arkansas  0.882         21.970833     51132.479167           6680.0   \n",
       "5  california  0.934         22.771429     63022.202857          19317.0   \n",
       "\n",
       "   Elementary_School_Fee  Colleges_universities_per_1000000  \\\n",
       "1                 6388.0                           8.636111   \n",
       "2                 7544.0                           8.087409   \n",
       "3                 6283.0                           6.636781   \n",
       "4                 4698.0                           8.700750   \n",
       "5                11363.0                           6.726112   \n",
       "\n",
       "   Junior_colleges_per_1000000  Prof_schools_per_1000000  \\\n",
       "1                     7.402381                  3.289947   \n",
       "2                     1.347901                  2.695803   \n",
       "3                     6.203947                  6.059670   \n",
       "4                     8.700750                 10.708616   \n",
       "5                     4.866240                  6.089169   \n",
       "\n",
       "   Intensive_top_230_score  ...  Property_crime  Burglary   Theft  \\\n",
       "1                75.257541  ...          2947.8     700.5  2006.3   \n",
       "2                39.089142  ...          3353.0     546.3  2394.7   \n",
       "3                30.154070  ...          2978.4     544.4  2168.1   \n",
       "4                32.125848  ...          3268.6     795.5  2233.6   \n",
       "5                78.063660  ...          2553.0     479.8  1623.0   \n",
       "\n",
       "   Motor_Vehicle_theft  Per_capita_income  Price_2018_Studio  Price_2018_1br  \\\n",
       "1                241.1            38215.0         605.416667      659.000000   \n",
       "2                412.1            54430.0         814.333333      930.500000   \n",
       "3                265.8            39955.0         701.000000      828.000000   \n",
       "4                239.4            39171.0         524.666667      571.166667   \n",
       "5                450.3            54800.0        1212.333333     1426.333333   \n",
       "\n",
       "   Price_2018_2br  Price_2018_3br  Price_2018_4br  \n",
       "1      800.666667     1069.666667     1244.333333  \n",
       "2     1190.333333     1682.166667     2019.500000  \n",
       "3     1046.000000     1512.333333     1754.416667  \n",
       "4      721.416667      977.583333     1144.833333  \n",
       "5     1818.916667     2519.250000     2926.333333  \n",
       "\n",
       "[5 rows x 33 columns]"
      ]
     },
     "execution_count": 2,
     "metadata": {},
     "output_type": "execute_result"
    }
   ],
   "source": [
    "df = pd.read_pickle('../normalDataFromAngeloWithHDI.pickle')\n",
    "df.head()"
   ]
  },
  {
   "cell_type": "code",
   "execution_count": 3,
   "metadata": {},
   "outputs": [
    {
     "data": {
      "text/html": [
       "<div>\n",
       "<style scoped>\n",
       "    .dataframe tbody tr th:only-of-type {\n",
       "        vertical-align: middle;\n",
       "    }\n",
       "\n",
       "    .dataframe tbody tr th {\n",
       "        vertical-align: top;\n",
       "    }\n",
       "\n",
       "    .dataframe thead th {\n",
       "        text-align: right;\n",
       "    }\n",
       "</style>\n",
       "<table border=\"1\" class=\"dataframe\">\n",
       "  <thead>\n",
       "    <tr style=\"text-align: right;\">\n",
       "      <th></th>\n",
       "      <th>awards_per_value</th>\n",
       "      <th>exp_award_value</th>\n",
       "      <th>High_School_Fee</th>\n",
       "      <th>Elementary_School_Fee</th>\n",
       "      <th>Colleges_universities_per_1000000</th>\n",
       "      <th>Junior_colleges_per_1000000</th>\n",
       "      <th>Prof_schools_per_1000000</th>\n",
       "      <th>Intensive_top_230_score</th>\n",
       "      <th>Life_Expectancy</th>\n",
       "      <th>mc_donalds_per_100k</th>\n",
       "      <th>...</th>\n",
       "      <th>Property_crime</th>\n",
       "      <th>Burglary</th>\n",
       "      <th>Theft</th>\n",
       "      <th>Motor_Vehicle_theft</th>\n",
       "      <th>Per_capita_income</th>\n",
       "      <th>Price_2018_Studio</th>\n",
       "      <th>Price_2018_1br</th>\n",
       "      <th>Price_2018_2br</th>\n",
       "      <th>Price_2018_3br</th>\n",
       "      <th>Price_2018_4br</th>\n",
       "    </tr>\n",
       "  </thead>\n",
       "  <tbody>\n",
       "    <tr>\n",
       "      <td>1</td>\n",
       "      <td>19.514493</td>\n",
       "      <td>63013.173913</td>\n",
       "      <td>7718.0</td>\n",
       "      <td>6388.0</td>\n",
       "      <td>8.636111</td>\n",
       "      <td>7.402381</td>\n",
       "      <td>3.289947</td>\n",
       "      <td>75.257541</td>\n",
       "      <td>74.813987</td>\n",
       "      <td>5.0</td>\n",
       "      <td>...</td>\n",
       "      <td>2947.8</td>\n",
       "      <td>700.5</td>\n",
       "      <td>2006.3</td>\n",
       "      <td>241.1</td>\n",
       "      <td>38215.0</td>\n",
       "      <td>605.416667</td>\n",
       "      <td>659.000000</td>\n",
       "      <td>800.666667</td>\n",
       "      <td>1069.666667</td>\n",
       "      <td>1244.333333</td>\n",
       "    </tr>\n",
       "    <tr>\n",
       "      <td>2</td>\n",
       "      <td>18.414286</td>\n",
       "      <td>141431.142857</td>\n",
       "      <td>6118.0</td>\n",
       "      <td>7544.0</td>\n",
       "      <td>8.087409</td>\n",
       "      <td>1.347901</td>\n",
       "      <td>2.695803</td>\n",
       "      <td>39.089142</td>\n",
       "      <td>78.915541</td>\n",
       "      <td>4.2</td>\n",
       "      <td>...</td>\n",
       "      <td>3353.0</td>\n",
       "      <td>546.3</td>\n",
       "      <td>2394.7</td>\n",
       "      <td>412.1</td>\n",
       "      <td>54430.0</td>\n",
       "      <td>814.333333</td>\n",
       "      <td>930.500000</td>\n",
       "      <td>1190.333333</td>\n",
       "      <td>1682.166667</td>\n",
       "      <td>2019.500000</td>\n",
       "    </tr>\n",
       "    <tr>\n",
       "      <td>3</td>\n",
       "      <td>25.563492</td>\n",
       "      <td>47830.888889</td>\n",
       "      <td>17339.0</td>\n",
       "      <td>6283.0</td>\n",
       "      <td>6.636781</td>\n",
       "      <td>6.203947</td>\n",
       "      <td>6.059670</td>\n",
       "      <td>30.154070</td>\n",
       "      <td>78.364742</td>\n",
       "      <td>4.1</td>\n",
       "      <td>...</td>\n",
       "      <td>2978.4</td>\n",
       "      <td>544.4</td>\n",
       "      <td>2168.1</td>\n",
       "      <td>265.8</td>\n",
       "      <td>39955.0</td>\n",
       "      <td>701.000000</td>\n",
       "      <td>828.000000</td>\n",
       "      <td>1046.000000</td>\n",
       "      <td>1512.333333</td>\n",
       "      <td>1754.416667</td>\n",
       "    </tr>\n",
       "    <tr>\n",
       "      <td>4</td>\n",
       "      <td>21.970833</td>\n",
       "      <td>51132.479167</td>\n",
       "      <td>6680.0</td>\n",
       "      <td>4698.0</td>\n",
       "      <td>8.700750</td>\n",
       "      <td>8.700750</td>\n",
       "      <td>10.708616</td>\n",
       "      <td>32.125848</td>\n",
       "      <td>75.626900</td>\n",
       "      <td>5.8</td>\n",
       "      <td>...</td>\n",
       "      <td>3268.6</td>\n",
       "      <td>795.5</td>\n",
       "      <td>2233.6</td>\n",
       "      <td>239.4</td>\n",
       "      <td>39171.0</td>\n",
       "      <td>524.666667</td>\n",
       "      <td>571.166667</td>\n",
       "      <td>721.416667</td>\n",
       "      <td>977.583333</td>\n",
       "      <td>1144.833333</td>\n",
       "    </tr>\n",
       "    <tr>\n",
       "      <td>5</td>\n",
       "      <td>22.771429</td>\n",
       "      <td>63022.202857</td>\n",
       "      <td>19317.0</td>\n",
       "      <td>11363.0</td>\n",
       "      <td>6.726112</td>\n",
       "      <td>4.866240</td>\n",
       "      <td>6.089169</td>\n",
       "      <td>78.063660</td>\n",
       "      <td>80.231014</td>\n",
       "      <td>3.3</td>\n",
       "      <td>...</td>\n",
       "      <td>2553.0</td>\n",
       "      <td>479.8</td>\n",
       "      <td>1623.0</td>\n",
       "      <td>450.3</td>\n",
       "      <td>54800.0</td>\n",
       "      <td>1212.333333</td>\n",
       "      <td>1426.333333</td>\n",
       "      <td>1818.916667</td>\n",
       "      <td>2519.250000</td>\n",
       "      <td>2926.333333</td>\n",
       "    </tr>\n",
       "  </tbody>\n",
       "</table>\n",
       "<p>5 rows × 31 columns</p>\n",
       "</div>"
      ],
      "text/plain": [
       "   awards_per_value  exp_award_value  High_School_Fee  Elementary_School_Fee  \\\n",
       "1         19.514493     63013.173913           7718.0                 6388.0   \n",
       "2         18.414286    141431.142857           6118.0                 7544.0   \n",
       "3         25.563492     47830.888889          17339.0                 6283.0   \n",
       "4         21.970833     51132.479167           6680.0                 4698.0   \n",
       "5         22.771429     63022.202857          19317.0                11363.0   \n",
       "\n",
       "   Colleges_universities_per_1000000  Junior_colleges_per_1000000  \\\n",
       "1                           8.636111                     7.402381   \n",
       "2                           8.087409                     1.347901   \n",
       "3                           6.636781                     6.203947   \n",
       "4                           8.700750                     8.700750   \n",
       "5                           6.726112                     4.866240   \n",
       "\n",
       "   Prof_schools_per_1000000  Intensive_top_230_score  Life_Expectancy  \\\n",
       "1                  3.289947                75.257541        74.813987   \n",
       "2                  2.695803                39.089142        78.915541   \n",
       "3                  6.059670                30.154070        78.364742   \n",
       "4                 10.708616                32.125848        75.626900   \n",
       "5                  6.089169                78.063660        80.231014   \n",
       "\n",
       "   mc_donalds_per_100k  ...  Property_crime  Burglary   Theft  \\\n",
       "1                  5.0  ...          2947.8     700.5  2006.3   \n",
       "2                  4.2  ...          3353.0     546.3  2394.7   \n",
       "3                  4.1  ...          2978.4     544.4  2168.1   \n",
       "4                  5.8  ...          3268.6     795.5  2233.6   \n",
       "5                  3.3  ...          2553.0     479.8  1623.0   \n",
       "\n",
       "   Motor_Vehicle_theft  Per_capita_income  Price_2018_Studio  Price_2018_1br  \\\n",
       "1                241.1            38215.0         605.416667      659.000000   \n",
       "2                412.1            54430.0         814.333333      930.500000   \n",
       "3                265.8            39955.0         701.000000      828.000000   \n",
       "4                239.4            39171.0         524.666667      571.166667   \n",
       "5                450.3            54800.0        1212.333333     1426.333333   \n",
       "\n",
       "   Price_2018_2br  Price_2018_3br  Price_2018_4br  \n",
       "1      800.666667     1069.666667     1244.333333  \n",
       "2     1190.333333     1682.166667     2019.500000  \n",
       "3     1046.000000     1512.333333     1754.416667  \n",
       "4      721.416667      977.583333     1144.833333  \n",
       "5     1818.916667     2519.250000     2926.333333  \n",
       "\n",
       "[5 rows x 31 columns]"
      ]
     },
     "execution_count": 3,
     "metadata": {},
     "output_type": "execute_result"
    }
   ],
   "source": [
    "States = df.State.tolist()\n",
    "X = df.drop([\"State\", \"HDI\"], axis = 1)\n",
    "y = df.HDI\n",
    "X.head()"
   ]
  },
  {
   "cell_type": "code",
   "execution_count": 4,
   "metadata": {},
   "outputs": [],
   "source": [
    "scaler_x = MinMaxScaler()\n",
    "scaler_y = MinMaxScaler()\n",
    "X_scaled = scaler_x.fit_transform(X.values)\n",
    "Y_scaled = scaler_y.fit_transform(y.values.reshape(-1,1))"
   ]
  },
  {
   "cell_type": "markdown",
   "metadata": {},
   "source": [
    "# Linear Regression"
   ]
  },
  {
   "cell_type": "code",
   "execution_count": 5,
   "metadata": {},
   "outputs": [
    {
     "name": "stdout",
     "output_type": "stream",
     "text": [
      "R2 value =  0.9725698807776677 \n"
     ]
    }
   ],
   "source": [
    "linReg = LinearRegression()\n",
    "Y_pred_scaled = cross_val_predict(linReg,X_scaled,Y_scaled,cv=5)\n",
    "Y_pred = scaler_y.inverse_transform(Y_pred_scaled)\n",
    "print(\"R2 value =  {} \".format(1 - mean_squared_error(Y_pred,y)/np.std(y)))"
   ]
  },
  {
   "cell_type": "code",
   "execution_count": 6,
   "metadata": {},
   "outputs": [
    {
     "name": "stdout",
     "output_type": "stream",
     "text": [
      "R2 value =  0.9725698807776563\n"
     ]
    }
   ],
   "source": [
    "linRegNorm = LinearRegression(normalize=True)\n",
    "Y_pred_scaled = cross_val_predict(linRegNorm,X_scaled,Y_scaled,cv=5)\n",
    "Y_pred = scaler_y.inverse_transform(Y_pred_scaled)\n",
    "print(\"R2 value =  {}\".format(1 - mean_squared_error(Y_pred,y)/np.std(y)))"
   ]
  },
  {
   "cell_type": "markdown",
   "metadata": {},
   "source": [
    "#### With normalized inputs"
   ]
  },
  {
   "cell_type": "markdown",
   "metadata": {},
   "source": [
    "### adding polynomial augmentation"
   ]
  },
  {
   "cell_type": "code",
   "execution_count": 7,
   "metadata": {},
   "outputs": [
    {
     "name": "stdout",
     "output_type": "stream",
     "text": [
      "R2 value =  0.9950324662601138\n"
     ]
    }
   ],
   "source": [
    "poly = PolynomialFeatures(2)\n",
    "X_poly = poly.fit_transform(X_scaled)\n",
    "Y_pred_scaled = cross_val_predict(linReg,X_poly,Y_scaled,cv=5)\n",
    "Y_pred = scaler_y.inverse_transform(Y_pred_scaled)\n",
    "print(\"R2 value =  {}\".format(1 - mean_squared_error(Y_pred,y)/np.std(y)))"
   ]
  },
  {
   "cell_type": "code",
   "execution_count": 8,
   "metadata": {},
   "outputs": [
    {
     "name": "stdout",
     "output_type": "stream",
     "text": [
      "R2 value =  0.9755962484039037\n"
     ]
    }
   ],
   "source": [
    "Y_pred_scaled = cross_val_predict(linRegNorm,X_poly,Y_scaled,cv=5)\n",
    "Y_pred = scaler_y.inverse_transform(Y_pred_scaled)\n",
    "print(\"R2 value =  {}\".format(1 - mean_squared_error(Y_pred,y)/np.std(y)))"
   ]
  },
  {
   "cell_type": "markdown",
   "metadata": {},
   "source": [
    "#### With normalized inputs"
   ]
  },
  {
   "cell_type": "markdown",
   "metadata": {},
   "source": [
    "So we have a tendency to overfit"
   ]
  },
  {
   "cell_type": "markdown",
   "metadata": {},
   "source": [
    "# Ridge Regression"
   ]
  },
  {
   "cell_type": "code",
   "execution_count": 9,
   "metadata": {},
   "outputs": [
    {
     "name": "stdout",
     "output_type": "stream",
     "text": [
      "R2 value =  0.9987759717793506\n"
     ]
    },
    {
     "name": "stderr",
     "output_type": "stream",
     "text": [
      "/home/harshv834/anaconda3/envs/ada/lib/python3.7/site-packages/sklearn/model_selection/_search.py:814: DeprecationWarning: The default of the `iid` parameter will change from True to False in version 0.22 and will be removed in 0.24. This will change numeric results when test-set sizes are unequal.\n",
      "  DeprecationWarning)\n"
     ]
    }
   ],
   "source": [
    "alphas = np.arange(0.01,10,0.01)\n",
    "regr_cv = RidgeCV(alphas=alphas,fit_intercept=True,cv=5)\n",
    "model_cv = regr_cv.fit(X_scaled, Y_scaled)\n",
    "Y_pred_scaled = model_cv.predict(X_scaled)\n",
    "Y_pred = scaler_y.inverse_transform(Y_pred_scaled)\n",
    "print(\"R2 value =  {}\".format(1 - mean_squared_error(Y_pred,y)/np.std(y)))"
   ]
  },
  {
   "cell_type": "markdown",
   "metadata": {},
   "source": [
    "#### With normalized inputs"
   ]
  },
  {
   "cell_type": "code",
   "execution_count": 10,
   "metadata": {},
   "outputs": [
    {
     "name": "stdout",
     "output_type": "stream",
     "text": [
      "R2 value =  0.9984426203713015\n"
     ]
    },
    {
     "name": "stderr",
     "output_type": "stream",
     "text": [
      "/home/harshv834/anaconda3/envs/ada/lib/python3.7/site-packages/sklearn/model_selection/_search.py:814: DeprecationWarning: The default of the `iid` parameter will change from True to False in version 0.22 and will be removed in 0.24. This will change numeric results when test-set sizes are unequal.\n",
      "  DeprecationWarning)\n"
     ]
    }
   ],
   "source": [
    "regr_cv_norm = RidgeCV(alphas=alphas,fit_intercept=True,cv=5,normalize=True)\n",
    "model_cv_norm = regr_cv_norm.fit(X_scaled, Y_scaled)\n",
    "Y_pred_scaled = model_cv_norm.predict(X_scaled)\n",
    "Y_pred = scaler_y.inverse_transform(Y_pred_scaled)\n",
    "print(\"R2 value =  {}\".format(1 - mean_squared_error(Y_pred,y)/np.std(y)))"
   ]
  },
  {
   "cell_type": "markdown",
   "metadata": {},
   "source": [
    "### adding polynomial augmentation"
   ]
  },
  {
   "cell_type": "code",
   "execution_count": 11,
   "metadata": {},
   "outputs": [
    {
     "name": "stdout",
     "output_type": "stream",
     "text": [
      "R2 value =  0.9996640192673864\n"
     ]
    },
    {
     "name": "stderr",
     "output_type": "stream",
     "text": [
      "/home/harshv834/anaconda3/envs/ada/lib/python3.7/site-packages/sklearn/model_selection/_search.py:814: DeprecationWarning: The default of the `iid` parameter will change from True to False in version 0.22 and will be removed in 0.24. This will change numeric results when test-set sizes are unequal.\n",
      "  DeprecationWarning)\n"
     ]
    }
   ],
   "source": [
    "model_cv = regr_cv.fit(X_poly, Y_scaled)\n",
    "Y_pred_scaled = model_cv.predict(X_poly)\n",
    "Y_pred = scaler_y.inverse_transform(Y_pred_scaled)\n",
    "print(\"R2 value =  {}\".format(1 - mean_squared_error(Y_pred,y)/np.std(y)))"
   ]
  },
  {
   "cell_type": "code",
   "execution_count": 12,
   "metadata": {},
   "outputs": [
    {
     "name": "stdout",
     "output_type": "stream",
     "text": [
      "R2 value =  0.9974854497806115\n"
     ]
    },
    {
     "name": "stderr",
     "output_type": "stream",
     "text": [
      "/home/harshv834/anaconda3/envs/ada/lib/python3.7/site-packages/sklearn/model_selection/_search.py:814: DeprecationWarning: The default of the `iid` parameter will change from True to False in version 0.22 and will be removed in 0.24. This will change numeric results when test-set sizes are unequal.\n",
      "  DeprecationWarning)\n"
     ]
    }
   ],
   "source": [
    "model_cv_norm = regr_cv_norm.fit(X_poly, Y_scaled)\n",
    "Y_pred_scaled = model_cv_norm.predict(X_poly)\n",
    "Y_pred = scaler_y.inverse_transform(Y_pred_scaled)\n",
    "print(\"R2 value =  {}\".format(1 - mean_squared_error(Y_pred,y)/np.std(y)))"
   ]
  },
  {
   "cell_type": "markdown",
   "metadata": {},
   "source": [
    "# SVR"
   ]
  },
  {
   "cell_type": "code",
   "execution_count": 13,
   "metadata": {},
   "outputs": [
    {
     "name": "stdout",
     "output_type": "stream",
     "text": [
      "R2 value =  0.9979270892865502\n"
     ]
    }
   ],
   "source": [
    "parameters = {'kernel' :['rbf','linear','sigmoid','poly'],'C' : np.exp(np.arange(-6,6))}\n",
    "estimator = SVR(gamma = 'auto')\n",
    "clf = GridSearchCV(estimator,parameters,cv = 5,iid=True)\n",
    "clf.fit(X_scaled, Y_scaled.reshape(-1,))\n",
    "Y_pred_scaled = clf.predict(X_scaled).reshape(-1,1)\n",
    "Y_pred = scaler_y.inverse_transform(Y_pred_scaled)\n",
    "print(\"R2 value =  {}\".format(1 - mean_squared_error(Y_pred,y)/np.std(y)))"
   ]
  },
  {
   "cell_type": "code",
   "execution_count": 14,
   "metadata": {},
   "outputs": [
    {
     "name": "stdout",
     "output_type": "stream",
     "text": [
      "Explained Variance Ratio 81.14995449697237\n",
      "R2 value =  0.993802150755986 \n"
     ]
    }
   ],
   "source": [
    "pca = PCA(n_components = 5)\n",
    "X_pca = pca.fit_transform(X_scaled)\n",
    "print(\"Explained Variance Ratio {}\".format(100.0*np.sum(pca.explained_variance_ratio_)))\n",
    "Y_pred_scaled = cross_val_predict(linReg,X_pca,Y_scaled,cv=5)\n",
    "Y_pred = scaler_y.inverse_transform(Y_pred_scaled)\n",
    "print(\"R2 value =  {} \".format(1 - mean_squared_error(Y_pred,y)/np.std(y)))"
   ]
  },
  {
   "cell_type": "code",
   "execution_count": 15,
   "metadata": {},
   "outputs": [
    {
     "name": "stdout",
     "output_type": "stream",
     "text": [
      "R2 value =  0.993802150755986\n"
     ]
    }
   ],
   "source": [
    "Y_pred_scaled = cross_val_predict(linRegNorm,X_pca,Y_scaled,cv=5)\n",
    "Y_pred = scaler_y.inverse_transform(Y_pred_scaled)\n",
    "print(\"R2 value =  {}\".format(1 - mean_squared_error(Y_pred,y)/np.std(y)))"
   ]
  },
  {
   "cell_type": "code",
   "execution_count": 16,
   "metadata": {},
   "outputs": [
    {
     "name": "stdout",
     "output_type": "stream",
     "text": [
      "Explained Variance Ratio 80.1970479189618\n",
      "R2 value =  0.9922556571087223\n"
     ]
    }
   ],
   "source": [
    "pca_poly = PCA(n_components = 5)\n",
    "X_pca_poly = pca_poly.fit_transform(X_poly)\n",
    "print(\"Explained Variance Ratio {}\".format(100.0*np.sum(pca_poly.explained_variance_ratio_)))\n",
    "Y_pred_scaled = cross_val_predict(linReg,X_pca_poly,Y_scaled,cv=5)\n",
    "Y_pred = scaler_y.inverse_transform(Y_pred_scaled)\n",
    "print(\"R2 value =  {}\".format(1 - mean_squared_error(Y_pred,y)/np.std(y)))"
   ]
  },
  {
   "cell_type": "code",
   "execution_count": 17,
   "metadata": {},
   "outputs": [
    {
     "name": "stdout",
     "output_type": "stream",
     "text": [
      "R2 value =  0.9922556571087223\n"
     ]
    }
   ],
   "source": [
    "Y_pred_scaled = cross_val_predict(linRegNorm,X_pca_poly,Y_scaled,cv=5)\n",
    "Y_pred = scaler_y.inverse_transform(Y_pred_scaled)\n",
    "print(\"R2 value =  {}\".format(1 - mean_squared_error(Y_pred,y)/np.std(y)))"
   ]
  },
  {
   "cell_type": "code",
   "execution_count": 18,
   "metadata": {},
   "outputs": [
    {
     "name": "stdout",
     "output_type": "stream",
     "text": [
      "R2 value =  0.9953025266869762\n"
     ]
    },
    {
     "name": "stderr",
     "output_type": "stream",
     "text": [
      "/home/harshv834/anaconda3/envs/ada/lib/python3.7/site-packages/sklearn/model_selection/_search.py:814: DeprecationWarning: The default of the `iid` parameter will change from True to False in version 0.22 and will be removed in 0.24. This will change numeric results when test-set sizes are unequal.\n",
      "  DeprecationWarning)\n"
     ]
    }
   ],
   "source": [
    "model_cv = regr_cv.fit(X_pca, Y_scaled)\n",
    "Y_pred_scaled = model_cv.predict(X_pca)\n",
    "Y_pred = scaler_y.inverse_transform(Y_pred_scaled)\n",
    "print(\"R2 value =  {}\".format(1 - mean_squared_error(Y_pred,y)/np.std(y)))"
   ]
  },
  {
   "cell_type": "code",
   "execution_count": 19,
   "metadata": {},
   "outputs": [
    {
     "name": "stdout",
     "output_type": "stream",
     "text": [
      "R2 value =  0.9954265105610477\n"
     ]
    },
    {
     "name": "stderr",
     "output_type": "stream",
     "text": [
      "/home/harshv834/anaconda3/envs/ada/lib/python3.7/site-packages/sklearn/model_selection/_search.py:814: DeprecationWarning: The default of the `iid` parameter will change from True to False in version 0.22 and will be removed in 0.24. This will change numeric results when test-set sizes are unequal.\n",
      "  DeprecationWarning)\n"
     ]
    }
   ],
   "source": [
    "model_cv_norm = regr_cv_norm.fit(X_pca, Y_scaled)\n",
    "Y_pred_scaled = model_cv_norm.predict(X_pca)\n",
    "Y_pred = scaler_y.inverse_transform(Y_pred_scaled)\n",
    "print(\"R2 value =  {}\".format(1 - mean_squared_error(Y_pred,y)/np.std(y)))"
   ]
  },
  {
   "cell_type": "code",
   "execution_count": 20,
   "metadata": {},
   "outputs": [
    {
     "name": "stdout",
     "output_type": "stream",
     "text": [
      "R2 value =  0.9950620374150885\n"
     ]
    },
    {
     "name": "stderr",
     "output_type": "stream",
     "text": [
      "/home/harshv834/anaconda3/envs/ada/lib/python3.7/site-packages/sklearn/model_selection/_search.py:814: DeprecationWarning: The default of the `iid` parameter will change from True to False in version 0.22 and will be removed in 0.24. This will change numeric results when test-set sizes are unequal.\n",
      "  DeprecationWarning)\n"
     ]
    }
   ],
   "source": [
    "model_cv = regr_cv.fit(X_pca_poly, Y_scaled)\n",
    "Y_pred_scaled = model_cv.predict(X_pca_poly)\n",
    "Y_pred = scaler_y.inverse_transform(Y_pred_scaled)\n",
    "print(\"R2 value =  {}\".format(1 - mean_squared_error(Y_pred,y)/np.std(y)))"
   ]
  },
  {
   "cell_type": "code",
   "execution_count": 21,
   "metadata": {},
   "outputs": [
    {
     "name": "stdout",
     "output_type": "stream",
     "text": [
      "R2 value =  0.9948865433747988\n"
     ]
    },
    {
     "name": "stderr",
     "output_type": "stream",
     "text": [
      "/home/harshv834/anaconda3/envs/ada/lib/python3.7/site-packages/sklearn/model_selection/_search.py:814: DeprecationWarning: The default of the `iid` parameter will change from True to False in version 0.22 and will be removed in 0.24. This will change numeric results when test-set sizes are unequal.\n",
      "  DeprecationWarning)\n"
     ]
    }
   ],
   "source": [
    "model_cv_norm = regr_cv_norm.fit(X_pca_poly, Y_scaled)\n",
    "Y_pred_scaled = model_cv_norm.predict(X_pca_poly)\n",
    "Y_pred = scaler_y.inverse_transform(Y_pred_scaled)\n",
    "print(\"R2 value =  {}\".format(1 - mean_squared_error(Y_pred,y)/np.std(y)))"
   ]
  },
  {
   "cell_type": "code",
   "execution_count": 22,
   "metadata": {},
   "outputs": [
    {
     "name": "stdout",
     "output_type": "stream",
     "text": [
      "R2 value =  0.9951755747821499\n"
     ]
    }
   ],
   "source": [
    "parameters = {'kernel' :['rbf','linear','sigmoid','poly'],'C' : np.exp(np.arange(-6,6))}\n",
    "estimator = SVR(gamma = 'auto')\n",
    "clf = GridSearchCV(estimator,parameters,cv = 5,iid=True)\n",
    "clf.fit(X_pca, Y_scaled.reshape(-1,))\n",
    "Y_pred_scaled = clf.predict(X_pca).reshape(-1,1)\n",
    "Y_pred = scaler_y.inverse_transform(Y_pred_scaled)\n",
    "print(\"R2 value =  {}\".format(1 - mean_squared_error(Y_pred,y)/np.std(y)))"
   ]
  },
  {
   "cell_type": "code",
   "execution_count": 23,
   "metadata": {},
   "outputs": [],
   "source": [
    "education_list = ['Colleges_universities_per_1000000', 'Junior_colleges_per_1000000', \n",
    "                  'Prof_schools_per_1000000', 'awards_per_value', 'exp_award_value', 'Intensive_top_230_score',\n",
    "                  'High_School_Fee', 'Elementary_School_Fee']\n",
    "health_list = ['Life_Expectancy', 'mc_donalds_per_100k', 'mean_obesity',\n",
    "               'eating_vegetables_daily', 'eating_vegetables_daily', 'diabetes_prevalence', 'alcohol_prevalence',\n",
    "               'mean_physical_activity', 'mean_obesity']\n",
    "security_list = [ 'alcohol_prevalence', 'Homeless_per_100000', 'Violent_Crime',\n",
    "                 'Murder_and_Manslaughter', 'Rape', 'Robbery', 'Aggravated_Assoult', 'Property_crime',\n",
    "                 'Burglary', 'Theft', 'Motor_Vehicle_theft']\n",
    "economy_list = ['Per_capita_income', 'mc_donalds_per_100k', 'Price_2018_Studio',\n",
    "                'Price_2018_1br',  'Price_2018_2br', 'Price_2018_3br', 'Price_2018_4br', 'Homeless_per_100000',\n",
    "                'Elementary_School_Fee', 'High_School_Fee']"
   ]
  },
  {
   "cell_type": "code",
   "execution_count": 24,
   "metadata": {},
   "outputs": [
    {
     "data": {
      "text/plain": [
       "Index(['State', 'HDI', 'awards_per_value', 'exp_award_value',\n",
       "       'High_School_Fee', 'Elementary_School_Fee',\n",
       "       'Colleges_universities_per_1000000', 'Junior_colleges_per_1000000',\n",
       "       'Prof_schools_per_1000000', 'Intensive_top_230_score',\n",
       "       'Life_Expectancy', 'mc_donalds_per_100k', 'eating_vegetables_daily',\n",
       "       'diabetes_prevalence', 'alcohol_prevalence', 'mean_physical_activity',\n",
       "       'mean_obesity', 'Homeless_per_100000', 'Violent_Crime',\n",
       "       'Murder_and_Manslaughter', 'Rape', 'Robbery', 'Aggravated_Assoult',\n",
       "       'Property_crime', 'Burglary', 'Theft', 'Motor_Vehicle_theft',\n",
       "       'Per_capita_income', 'Price_2018_Studio', 'Price_2018_1br',\n",
       "       'Price_2018_2br', 'Price_2018_3br', 'Price_2018_4br'],\n",
       "      dtype='object')"
      ]
     },
     "execution_count": 24,
     "metadata": {},
     "output_type": "execute_result"
    }
   ],
   "source": [
    "df.columns"
   ]
  },
  {
   "cell_type": "code",
   "execution_count": 25,
   "metadata": {},
   "outputs": [],
   "source": [
    "df_education = df[education_list]\n",
    "df_health = df[health_list]\n",
    "df_security = df[security_list]\n",
    "df_economy = df[economy_list]"
   ]
  },
  {
   "cell_type": "code",
   "execution_count": 26,
   "metadata": {},
   "outputs": [],
   "source": [
    "pca_comp = PCA(n_components=2)"
   ]
  },
  {
   "cell_type": "code",
   "execution_count": 27,
   "metadata": {},
   "outputs": [
    {
     "name": "stdout",
     "output_type": "stream",
     "text": [
      "Explained Variance Ratio for Education 62.43629643598405\n",
      "Explained Variance Ratio for Education Polynomial 60.63424340019754\n",
      "Explained Variance Ratio for Health 79.0778544219737\n",
      "Explained Variance Ratio for Health Polynomial 76.37189248700494\n",
      "Explained Variance Ratio for Security73.20173188347201\n",
      "Explained Variance Ratio for Security Polynomial 78.06684363670395\n",
      "Explained Variance Ratio for Economy85.34571192207694\n",
      "Explained Variance Ratio for Economy Polynomial 84.25926215053319\n"
     ]
    }
   ],
   "source": [
    "cat_data_scaled = scaler_x.fit_transform(df_education)\n",
    "cat_data_poly = poly.fit_transform(cat_data_scaled)\n",
    "ed_feature = pca_comp.fit_transform(cat_data_scaled)\n",
    "print(\"Explained Variance Ratio for Education {}\".format(100.0*np.sum(pca_comp.explained_variance_ratio_)))\n",
    "ed_feature_poly = pca_comp.fit_transform(cat_data_poly)\n",
    "print(\"Explained Variance Ratio for Education Polynomial {}\".format(100.0*np.sum(pca_comp.explained_variance_ratio_)))\n",
    "\n",
    "cat_data_scaled = scaler_x.fit_transform(df_health)\n",
    "cat_data_poly = poly.fit_transform(cat_data_scaled)\n",
    "health_feature = pca_comp.fit_transform(cat_data_scaled)\n",
    "print(\"Explained Variance Ratio for Health {}\".format(100.0*np.sum(pca_comp.explained_variance_ratio_)))\n",
    "health_feature_poly = pca_comp.fit_transform(cat_data_poly)\n",
    "print(\"Explained Variance Ratio for Health Polynomial {}\".format(100.0*np.sum(pca_comp.explained_variance_ratio_)))\n",
    "\n",
    "cat_data_scaled = scaler_x.fit_transform(df_security)\n",
    "cat_data_poly = poly.fit_transform(cat_data_scaled)\n",
    "security_feature = pca_comp.fit_transform(cat_data_scaled)\n",
    "print(\"Explained Variance Ratio for Security{}\".format(100.0*np.sum(pca_comp.explained_variance_ratio_)))\n",
    "security_feature_poly = pca_comp.fit_transform(cat_data_poly)\n",
    "print(\"Explained Variance Ratio for Security Polynomial {}\".format(100.0*np.sum(pca_comp.explained_variance_ratio_)))\n",
    "\n",
    "cat_data_scaled = scaler_x.fit_transform(df_economy)\n",
    "cat_data_poly = poly.fit_transform(cat_data_scaled)\n",
    "economy_feature = pca_comp.fit_transform(cat_data_scaled)\n",
    "print(\"Explained Variance Ratio for Economy{}\".format(100.0*np.sum(pca_comp.explained_variance_ratio_)))\n",
    "economy_feature_poly = pca_comp.fit_transform(cat_data_poly)\n",
    "print(\"Explained Variance Ratio for Economy Polynomial {}\".format(100.0*np.sum(pca_comp.explained_variance_ratio_)))"
   ]
  },
  {
   "cell_type": "code",
   "execution_count": 28,
   "metadata": {},
   "outputs": [
    {
     "data": {
      "text/html": [
       "<div>\n",
       "<style scoped>\n",
       "    .dataframe tbody tr th:only-of-type {\n",
       "        vertical-align: middle;\n",
       "    }\n",
       "\n",
       "    .dataframe tbody tr th {\n",
       "        vertical-align: top;\n",
       "    }\n",
       "\n",
       "    .dataframe thead th {\n",
       "        text-align: right;\n",
       "    }\n",
       "</style>\n",
       "<table border=\"1\" class=\"dataframe\">\n",
       "  <thead>\n",
       "    <tr style=\"text-align: right;\">\n",
       "      <th></th>\n",
       "      <th>Education1</th>\n",
       "      <th>Education2</th>\n",
       "      <th>Health1</th>\n",
       "      <th>Health2</th>\n",
       "      <th>Security1</th>\n",
       "      <th>Security2</th>\n",
       "      <th>Economy1</th>\n",
       "      <th>Economy2</th>\n",
       "    </tr>\n",
       "  </thead>\n",
       "  <tbody>\n",
       "    <tr>\n",
       "      <td>0</td>\n",
       "      <td>-0.058614</td>\n",
       "      <td>0.518308</td>\n",
       "      <td>1.088307</td>\n",
       "      <td>-0.062581</td>\n",
       "      <td>0.433284</td>\n",
       "      <td>-0.366793</td>\n",
       "      <td>-0.598361</td>\n",
       "      <td>0.092652</td>\n",
       "    </tr>\n",
       "    <tr>\n",
       "      <td>1</td>\n",
       "      <td>0.439150</td>\n",
       "      <td>0.761389</td>\n",
       "      <td>-0.379155</td>\n",
       "      <td>-0.029016</td>\n",
       "      <td>0.872818</td>\n",
       "      <td>0.309678</td>\n",
       "      <td>0.261010</td>\n",
       "      <td>0.153895</td>\n",
       "    </tr>\n",
       "    <tr>\n",
       "      <td>2</td>\n",
       "      <td>-0.168710</td>\n",
       "      <td>-0.253282</td>\n",
       "      <td>-0.263936</td>\n",
       "      <td>-0.169542</td>\n",
       "      <td>0.258061</td>\n",
       "      <td>-0.066875</td>\n",
       "      <td>0.000732</td>\n",
       "      <td>-0.105762</td>\n",
       "    </tr>\n",
       "    <tr>\n",
       "      <td>3</td>\n",
       "      <td>-0.366289</td>\n",
       "      <td>0.119031</td>\n",
       "      <td>0.951237</td>\n",
       "      <td>0.061179</td>\n",
       "      <td>0.587030</td>\n",
       "      <td>-0.379195</td>\n",
       "      <td>-0.823032</td>\n",
       "      <td>0.261737</td>\n",
       "    </tr>\n",
       "    <tr>\n",
       "      <td>4</td>\n",
       "      <td>0.191689</td>\n",
       "      <td>-0.042024</td>\n",
       "      <td>-0.638627</td>\n",
       "      <td>-0.245933</td>\n",
       "      <td>0.198335</td>\n",
       "      <td>0.094236</td>\n",
       "      <td>1.512800</td>\n",
       "      <td>0.145417</td>\n",
       "    </tr>\n",
       "  </tbody>\n",
       "</table>\n",
       "</div>"
      ],
      "text/plain": [
       "   Education1  Education2   Health1   Health2  Security1  Security2  Economy1  \\\n",
       "0   -0.058614    0.518308  1.088307 -0.062581   0.433284  -0.366793 -0.598361   \n",
       "1    0.439150    0.761389 -0.379155 -0.029016   0.872818   0.309678  0.261010   \n",
       "2   -0.168710   -0.253282 -0.263936 -0.169542   0.258061  -0.066875  0.000732   \n",
       "3   -0.366289    0.119031  0.951237  0.061179   0.587030  -0.379195 -0.823032   \n",
       "4    0.191689   -0.042024 -0.638627 -0.245933   0.198335   0.094236  1.512800   \n",
       "\n",
       "   Economy2  \n",
       "0  0.092652  \n",
       "1  0.153895  \n",
       "2 -0.105762  \n",
       "3  0.261737  \n",
       "4  0.145417  "
      ]
     },
     "execution_count": 28,
     "metadata": {},
     "output_type": "execute_result"
    }
   ],
   "source": [
    "cat_data = pd.DataFrame(data = np.hstack((ed_feature,health_feature,security_feature,economy_feature)),\\\n",
    "                        columns = [\"Education1\",\"Education2\",\"Health1\",\"Health2\",\"Security1\",\"Security2\",\"Economy1\",\"Economy2\"])\n",
    "cat_data.head()"
   ]
  },
  {
   "cell_type": "code",
   "execution_count": 29,
   "metadata": {},
   "outputs": [
    {
     "data": {
      "text/html": [
       "<div>\n",
       "<style scoped>\n",
       "    .dataframe tbody tr th:only-of-type {\n",
       "        vertical-align: middle;\n",
       "    }\n",
       "\n",
       "    .dataframe tbody tr th {\n",
       "        vertical-align: top;\n",
       "    }\n",
       "\n",
       "    .dataframe thead th {\n",
       "        text-align: right;\n",
       "    }\n",
       "</style>\n",
       "<table border=\"1\" class=\"dataframe\">\n",
       "  <thead>\n",
       "    <tr style=\"text-align: right;\">\n",
       "      <th></th>\n",
       "      <th>Education1</th>\n",
       "      <th>Education2</th>\n",
       "      <th>Health1</th>\n",
       "      <th>Health2</th>\n",
       "      <th>Security1</th>\n",
       "      <th>Security2</th>\n",
       "      <th>Economy1</th>\n",
       "      <th>Economy2</th>\n",
       "    </tr>\n",
       "  </thead>\n",
       "  <tbody>\n",
       "    <tr>\n",
       "      <td>0</td>\n",
       "      <td>-0.229575</td>\n",
       "      <td>0.738826</td>\n",
       "      <td>2.207961</td>\n",
       "      <td>-0.245896</td>\n",
       "      <td>0.384528</td>\n",
       "      <td>-0.772236</td>\n",
       "      <td>-1.018544</td>\n",
       "      <td>0.125706</td>\n",
       "    </tr>\n",
       "    <tr>\n",
       "      <td>1</td>\n",
       "      <td>0.303915</td>\n",
       "      <td>1.114270</td>\n",
       "      <td>-0.784043</td>\n",
       "      <td>-0.019102</td>\n",
       "      <td>1.909214</td>\n",
       "      <td>-0.452232</td>\n",
       "      <td>0.219950</td>\n",
       "      <td>0.373881</td>\n",
       "    </tr>\n",
       "    <tr>\n",
       "      <td>2</td>\n",
       "      <td>-0.241620</td>\n",
       "      <td>-0.358124</td>\n",
       "      <td>-0.602901</td>\n",
       "      <td>-0.371477</td>\n",
       "      <td>0.244499</td>\n",
       "      <td>-0.254109</td>\n",
       "      <td>-0.309678</td>\n",
       "      <td>-0.123173</td>\n",
       "    </tr>\n",
       "    <tr>\n",
       "      <td>3</td>\n",
       "      <td>-0.516248</td>\n",
       "      <td>0.118484</td>\n",
       "      <td>2.038143</td>\n",
       "      <td>0.182909</td>\n",
       "      <td>0.688669</td>\n",
       "      <td>-1.091436</td>\n",
       "      <td>-1.219261</td>\n",
       "      <td>0.307282</td>\n",
       "    </tr>\n",
       "    <tr>\n",
       "      <td>4</td>\n",
       "      <td>0.204182</td>\n",
       "      <td>0.078507</td>\n",
       "      <td>-1.210237</td>\n",
       "      <td>-0.535429</td>\n",
       "      <td>0.231954</td>\n",
       "      <td>-0.050517</td>\n",
       "      <td>3.400586</td>\n",
       "      <td>0.693676</td>\n",
       "    </tr>\n",
       "  </tbody>\n",
       "</table>\n",
       "</div>"
      ],
      "text/plain": [
       "   Education1  Education2   Health1   Health2  Security1  Security2  Economy1  \\\n",
       "0   -0.229575    0.738826  2.207961 -0.245896   0.384528  -0.772236 -1.018544   \n",
       "1    0.303915    1.114270 -0.784043 -0.019102   1.909214  -0.452232  0.219950   \n",
       "2   -0.241620   -0.358124 -0.602901 -0.371477   0.244499  -0.254109 -0.309678   \n",
       "3   -0.516248    0.118484  2.038143  0.182909   0.688669  -1.091436 -1.219261   \n",
       "4    0.204182    0.078507 -1.210237 -0.535429   0.231954  -0.050517  3.400586   \n",
       "\n",
       "   Economy2  \n",
       "0  0.125706  \n",
       "1  0.373881  \n",
       "2 -0.123173  \n",
       "3  0.307282  \n",
       "4  0.693676  "
      ]
     },
     "execution_count": 29,
     "metadata": {},
     "output_type": "execute_result"
    }
   ],
   "source": [
    "cat_data_poly = pd.DataFrame(data = np.hstack((ed_feature_poly,health_feature_poly,security_feature_poly,economy_feature_poly)),\\\n",
    "                        columns = [\"Education1\",\"Education2\",\"Health1\",\"Health2\",\"Security1\",\"Security2\",\"Economy1\",\"Economy2\"])\n",
    "cat_data_poly.head()"
   ]
  },
  {
   "cell_type": "code",
   "execution_count": 30,
   "metadata": {},
   "outputs": [
    {
     "name": "stdout",
     "output_type": "stream",
     "text": [
      "R2 value =  0.9927978989523064 \n"
     ]
    }
   ],
   "source": [
    "X_cat = cat_data.values\n",
    "Y_pred_scaled = cross_val_predict(linReg,X_cat,Y_scaled,cv=5)\n",
    "Y_pred = scaler_y.inverse_transform(Y_pred_scaled)\n",
    "print(\"R2 value =  {} \".format(1 - mean_squared_error(Y_pred,y)/np.std(y)))"
   ]
  },
  {
   "cell_type": "code",
   "execution_count": 31,
   "metadata": {},
   "outputs": [
    {
     "name": "stdout",
     "output_type": "stream",
     "text": [
      "R2 value =  0.9927978989523064\n"
     ]
    }
   ],
   "source": [
    "Y_pred_scaled = cross_val_predict(linRegNorm,X_cat,Y_scaled,cv=5)\n",
    "Y_pred = scaler_y.inverse_transform(Y_pred_scaled)\n",
    "print(\"R2 value =  {}\".format(1 - mean_squared_error(Y_pred,y)/np.std(y)))"
   ]
  },
  {
   "cell_type": "code",
   "execution_count": 32,
   "metadata": {},
   "outputs": [
    {
     "name": "stdout",
     "output_type": "stream",
     "text": [
      "R2 value =  0.9930305992643044\n"
     ]
    }
   ],
   "source": [
    "X_cat_poly = cat_data_poly.values\n",
    "Y_pred_scaled = cross_val_predict(linReg,X_cat_poly,Y_scaled,cv=5)\n",
    "Y_pred = scaler_y.inverse_transform(Y_pred_scaled)\n",
    "print(\"R2 value =  {}\".format(1 - mean_squared_error(Y_pred,y)/np.std(y)))"
   ]
  },
  {
   "cell_type": "code",
   "execution_count": 33,
   "metadata": {},
   "outputs": [
    {
     "name": "stdout",
     "output_type": "stream",
     "text": [
      "R2 value =  0.9930305992643044\n"
     ]
    }
   ],
   "source": [
    "Y_pred_scaled = cross_val_predict(linRegNorm,X_cat_poly,Y_scaled,cv=5)\n",
    "Y_pred = scaler_y.inverse_transform(Y_pred_scaled)\n",
    "print(\"R2 value =  {}\".format(1 - mean_squared_error(Y_pred,y)/np.std(y)))"
   ]
  },
  {
   "cell_type": "code",
   "execution_count": 34,
   "metadata": {},
   "outputs": [
    {
     "name": "stdout",
     "output_type": "stream",
     "text": [
      "R2 value =  0.9955201591498284\n"
     ]
    },
    {
     "name": "stderr",
     "output_type": "stream",
     "text": [
      "/home/harshv834/anaconda3/envs/ada/lib/python3.7/site-packages/sklearn/model_selection/_search.py:814: DeprecationWarning: The default of the `iid` parameter will change from True to False in version 0.22 and will be removed in 0.24. This will change numeric results when test-set sizes are unequal.\n",
      "  DeprecationWarning)\n"
     ]
    }
   ],
   "source": [
    "model_cv = regr_cv.fit(X_cat, Y_scaled)\n",
    "Y_pred_scaled = model_cv.predict(X_cat)\n",
    "Y_pred = scaler_y.inverse_transform(Y_pred_scaled)\n",
    "print(\"R2 value =  {}\".format(1 - mean_squared_error(Y_pred,y)/np.std(y)))"
   ]
  },
  {
   "cell_type": "code",
   "execution_count": 35,
   "metadata": {},
   "outputs": [
    {
     "name": "stdout",
     "output_type": "stream",
     "text": [
      "R2 value =  0.9953299026190899\n"
     ]
    },
    {
     "name": "stderr",
     "output_type": "stream",
     "text": [
      "/home/harshv834/anaconda3/envs/ada/lib/python3.7/site-packages/sklearn/model_selection/_search.py:814: DeprecationWarning: The default of the `iid` parameter will change from True to False in version 0.22 and will be removed in 0.24. This will change numeric results when test-set sizes are unequal.\n",
      "  DeprecationWarning)\n"
     ]
    }
   ],
   "source": [
    "model_cv_norm = regr_cv_norm.fit(X_cat, Y_scaled)\n",
    "Y_pred_scaled = model_cv_norm.predict(X_cat)\n",
    "Y_pred = scaler_y.inverse_transform(Y_pred_scaled)\n",
    "print(\"R2 value =  {}\".format(1 - mean_squared_error(Y_pred,y)/np.std(y)))"
   ]
  },
  {
   "cell_type": "code",
   "execution_count": 36,
   "metadata": {},
   "outputs": [
    {
     "name": "stdout",
     "output_type": "stream",
     "text": [
      "R2 value =  0.995515984107685\n"
     ]
    },
    {
     "name": "stderr",
     "output_type": "stream",
     "text": [
      "/home/harshv834/anaconda3/envs/ada/lib/python3.7/site-packages/sklearn/model_selection/_search.py:814: DeprecationWarning: The default of the `iid` parameter will change from True to False in version 0.22 and will be removed in 0.24. This will change numeric results when test-set sizes are unequal.\n",
      "  DeprecationWarning)\n"
     ]
    }
   ],
   "source": [
    "model_cv = regr_cv.fit(X_cat_poly, Y_scaled)\n",
    "Y_pred_scaled = model_cv.predict(X_cat_poly)\n",
    "Y_pred = scaler_y.inverse_transform(Y_pred_scaled)\n",
    "print(\"R2 value =  {}\".format(1 - mean_squared_error(Y_pred,y)/np.std(y)))"
   ]
  },
  {
   "cell_type": "code",
   "execution_count": 37,
   "metadata": {},
   "outputs": [
    {
     "name": "stdout",
     "output_type": "stream",
     "text": [
      "R2 value =  0.9958035703700715\n"
     ]
    },
    {
     "name": "stderr",
     "output_type": "stream",
     "text": [
      "/home/harshv834/anaconda3/envs/ada/lib/python3.7/site-packages/sklearn/model_selection/_search.py:814: DeprecationWarning: The default of the `iid` parameter will change from True to False in version 0.22 and will be removed in 0.24. This will change numeric results when test-set sizes are unequal.\n",
      "  DeprecationWarning)\n"
     ]
    }
   ],
   "source": [
    "model_cv_norm = regr_cv_norm.fit(X_cat_poly, Y_scaled)\n",
    "Y_pred_scaled = model_cv_norm.predict(X_cat_poly)\n",
    "Y_pred = scaler_y.inverse_transform(Y_pred_scaled)\n",
    "print(\"R2 value =  {}\".format(1 - mean_squared_error(Y_pred,y)/np.std(y)))"
   ]
  },
  {
   "cell_type": "code",
   "execution_count": 38,
   "metadata": {},
   "outputs": [
    {
     "name": "stdout",
     "output_type": "stream",
     "text": [
      "R2 value =  0.9953447085053553\n"
     ]
    }
   ],
   "source": [
    "parameters = {'kernel' :['rbf','linear','sigmoid','poly'],'C' : np.exp(np.arange(-6,6))}\n",
    "estimator = SVR(gamma = 'auto')\n",
    "clf = GridSearchCV(estimator,parameters,cv = 5,iid=True)\n",
    "clf.fit(X_cat, Y_scaled.reshape(-1,))\n",
    "Y_pred_scaled = clf.predict(X_cat).reshape(-1,1)\n",
    "Y_pred = scaler_y.inverse_transform(Y_pred_scaled)\n",
    "print(\"R2 value =  {}\".format(1 - mean_squared_error(Y_pred,y)/np.std(y)))"
   ]
  },
  {
   "cell_type": "code",
   "execution_count": 39,
   "metadata": {},
   "outputs": [
    {
     "data": {
      "text/html": [
       "<div>\n",
       "<style scoped>\n",
       "    .dataframe tbody tr th:only-of-type {\n",
       "        vertical-align: middle;\n",
       "    }\n",
       "\n",
       "    .dataframe tbody tr th {\n",
       "        vertical-align: top;\n",
       "    }\n",
       "\n",
       "    .dataframe thead th {\n",
       "        text-align: right;\n",
       "    }\n",
       "</style>\n",
       "<table border=\"1\" class=\"dataframe\">\n",
       "  <thead>\n",
       "    <tr style=\"text-align: right;\">\n",
       "      <th></th>\n",
       "      <th>State</th>\n",
       "      <th>HDI</th>\n",
       "      <th>awards_per_value</th>\n",
       "      <th>exp_award_value</th>\n",
       "      <th>High_School_Fee</th>\n",
       "      <th>Elementary_School_Fee</th>\n",
       "      <th>Colleges_universities_per_1000000</th>\n",
       "      <th>Junior_colleges_per_1000000</th>\n",
       "      <th>Prof_schools_per_1000000</th>\n",
       "      <th>Intensive_top_230_score</th>\n",
       "      <th>...</th>\n",
       "      <th>Property_crime</th>\n",
       "      <th>Burglary</th>\n",
       "      <th>Theft</th>\n",
       "      <th>Motor_Vehicle_theft</th>\n",
       "      <th>Per_capita_income</th>\n",
       "      <th>Price_2018_Studio</th>\n",
       "      <th>Price_2018_1br</th>\n",
       "      <th>Price_2018_2br</th>\n",
       "      <th>Price_2018_3br</th>\n",
       "      <th>Price_2018_4br</th>\n",
       "    </tr>\n",
       "  </thead>\n",
       "  <tbody>\n",
       "    <tr>\n",
       "      <td>1</td>\n",
       "      <td>alabama</td>\n",
       "      <td>0.882</td>\n",
       "      <td>19.514493</td>\n",
       "      <td>63013.173913</td>\n",
       "      <td>7718.0</td>\n",
       "      <td>6388.0</td>\n",
       "      <td>8.636111</td>\n",
       "      <td>7.402381</td>\n",
       "      <td>3.289947</td>\n",
       "      <td>75.257541</td>\n",
       "      <td>...</td>\n",
       "      <td>2947.8</td>\n",
       "      <td>700.5</td>\n",
       "      <td>2006.3</td>\n",
       "      <td>241.1</td>\n",
       "      <td>38215.0</td>\n",
       "      <td>605.416667</td>\n",
       "      <td>659.000000</td>\n",
       "      <td>800.666667</td>\n",
       "      <td>1069.666667</td>\n",
       "      <td>1244.333333</td>\n",
       "    </tr>\n",
       "    <tr>\n",
       "      <td>2</td>\n",
       "      <td>alaska</td>\n",
       "      <td>0.942</td>\n",
       "      <td>18.414286</td>\n",
       "      <td>141431.142857</td>\n",
       "      <td>6118.0</td>\n",
       "      <td>7544.0</td>\n",
       "      <td>8.087409</td>\n",
       "      <td>1.347901</td>\n",
       "      <td>2.695803</td>\n",
       "      <td>39.089142</td>\n",
       "      <td>...</td>\n",
       "      <td>3353.0</td>\n",
       "      <td>546.3</td>\n",
       "      <td>2394.7</td>\n",
       "      <td>412.1</td>\n",
       "      <td>54430.0</td>\n",
       "      <td>814.333333</td>\n",
       "      <td>930.500000</td>\n",
       "      <td>1190.333333</td>\n",
       "      <td>1682.166667</td>\n",
       "      <td>2019.500000</td>\n",
       "    </tr>\n",
       "    <tr>\n",
       "      <td>3</td>\n",
       "      <td>arizona</td>\n",
       "      <td>0.912</td>\n",
       "      <td>25.563492</td>\n",
       "      <td>47830.888889</td>\n",
       "      <td>17339.0</td>\n",
       "      <td>6283.0</td>\n",
       "      <td>6.636781</td>\n",
       "      <td>6.203947</td>\n",
       "      <td>6.059670</td>\n",
       "      <td>30.154070</td>\n",
       "      <td>...</td>\n",
       "      <td>2978.4</td>\n",
       "      <td>544.4</td>\n",
       "      <td>2168.1</td>\n",
       "      <td>265.8</td>\n",
       "      <td>39955.0</td>\n",
       "      <td>701.000000</td>\n",
       "      <td>828.000000</td>\n",
       "      <td>1046.000000</td>\n",
       "      <td>1512.333333</td>\n",
       "      <td>1754.416667</td>\n",
       "    </tr>\n",
       "    <tr>\n",
       "      <td>4</td>\n",
       "      <td>arkansas</td>\n",
       "      <td>0.882</td>\n",
       "      <td>21.970833</td>\n",
       "      <td>51132.479167</td>\n",
       "      <td>6680.0</td>\n",
       "      <td>4698.0</td>\n",
       "      <td>8.700750</td>\n",
       "      <td>8.700750</td>\n",
       "      <td>10.708616</td>\n",
       "      <td>32.125848</td>\n",
       "      <td>...</td>\n",
       "      <td>3268.6</td>\n",
       "      <td>795.5</td>\n",
       "      <td>2233.6</td>\n",
       "      <td>239.4</td>\n",
       "      <td>39171.0</td>\n",
       "      <td>524.666667</td>\n",
       "      <td>571.166667</td>\n",
       "      <td>721.416667</td>\n",
       "      <td>977.583333</td>\n",
       "      <td>1144.833333</td>\n",
       "    </tr>\n",
       "    <tr>\n",
       "      <td>5</td>\n",
       "      <td>california</td>\n",
       "      <td>0.934</td>\n",
       "      <td>22.771429</td>\n",
       "      <td>63022.202857</td>\n",
       "      <td>19317.0</td>\n",
       "      <td>11363.0</td>\n",
       "      <td>6.726112</td>\n",
       "      <td>4.866240</td>\n",
       "      <td>6.089169</td>\n",
       "      <td>78.063660</td>\n",
       "      <td>...</td>\n",
       "      <td>2553.0</td>\n",
       "      <td>479.8</td>\n",
       "      <td>1623.0</td>\n",
       "      <td>450.3</td>\n",
       "      <td>54800.0</td>\n",
       "      <td>1212.333333</td>\n",
       "      <td>1426.333333</td>\n",
       "      <td>1818.916667</td>\n",
       "      <td>2519.250000</td>\n",
       "      <td>2926.333333</td>\n",
       "    </tr>\n",
       "  </tbody>\n",
       "</table>\n",
       "<p>5 rows × 33 columns</p>\n",
       "</div>"
      ],
      "text/plain": [
       "        State    HDI  awards_per_value  exp_award_value  High_School_Fee  \\\n",
       "1     alabama  0.882         19.514493     63013.173913           7718.0   \n",
       "2      alaska  0.942         18.414286    141431.142857           6118.0   \n",
       "3     arizona  0.912         25.563492     47830.888889          17339.0   \n",
       "4    arkansas  0.882         21.970833     51132.479167           6680.0   \n",
       "5  california  0.934         22.771429     63022.202857          19317.0   \n",
       "\n",
       "   Elementary_School_Fee  Colleges_universities_per_1000000  \\\n",
       "1                 6388.0                           8.636111   \n",
       "2                 7544.0                           8.087409   \n",
       "3                 6283.0                           6.636781   \n",
       "4                 4698.0                           8.700750   \n",
       "5                11363.0                           6.726112   \n",
       "\n",
       "   Junior_colleges_per_1000000  Prof_schools_per_1000000  \\\n",
       "1                     7.402381                  3.289947   \n",
       "2                     1.347901                  2.695803   \n",
       "3                     6.203947                  6.059670   \n",
       "4                     8.700750                 10.708616   \n",
       "5                     4.866240                  6.089169   \n",
       "\n",
       "   Intensive_top_230_score  ...  Property_crime  Burglary   Theft  \\\n",
       "1                75.257541  ...          2947.8     700.5  2006.3   \n",
       "2                39.089142  ...          3353.0     546.3  2394.7   \n",
       "3                30.154070  ...          2978.4     544.4  2168.1   \n",
       "4                32.125848  ...          3268.6     795.5  2233.6   \n",
       "5                78.063660  ...          2553.0     479.8  1623.0   \n",
       "\n",
       "   Motor_Vehicle_theft  Per_capita_income  Price_2018_Studio  Price_2018_1br  \\\n",
       "1                241.1            38215.0         605.416667      659.000000   \n",
       "2                412.1            54430.0         814.333333      930.500000   \n",
       "3                265.8            39955.0         701.000000      828.000000   \n",
       "4                239.4            39171.0         524.666667      571.166667   \n",
       "5                450.3            54800.0        1212.333333     1426.333333   \n",
       "\n",
       "   Price_2018_2br  Price_2018_3br  Price_2018_4br  \n",
       "1      800.666667     1069.666667     1244.333333  \n",
       "2     1190.333333     1682.166667     2019.500000  \n",
       "3     1046.000000     1512.333333     1754.416667  \n",
       "4      721.416667      977.583333     1144.833333  \n",
       "5     1818.916667     2519.250000     2926.333333  \n",
       "\n",
       "[5 rows x 33 columns]"
      ]
     },
     "execution_count": 39,
     "metadata": {},
     "output_type": "execute_result"
    }
   ],
   "source": [
    "df.head()"
   ]
  },
  {
   "cell_type": "code",
   "execution_count": 51,
   "metadata": {},
   "outputs": [],
   "source": [
    "income = df[['Per_capita_income']].values\n",
    "life_exp = df[['Life_Expectancy']].values"
   ]
  },
  {
   "cell_type": "code",
   "execution_count": 52,
   "metadata": {},
   "outputs": [
    {
     "name": "stdout",
     "output_type": "stream",
     "text": [
      "Explained Variance Ratio for Health 79.2968469507313\n",
      "Explained Variance Ratio for Health Polynomial 78.64262506487249\n",
      "Explained Variance Ratio for Economy86.97585805081401\n",
      "Explained Variance Ratio for Economy Polynomial 84.55002176227758\n"
     ]
    }
   ],
   "source": [
    "cat_data_scaled = scaler_x.fit_transform(df_health.drop(columns=['Life_Expectancy']))\n",
    "cat_data_poly = poly.fit_transform(cat_data_scaled)\n",
    "health_feature = pca_comp.fit_transform(cat_data_scaled)\n",
    "print(\"Explained Variance Ratio for Health {}\".format(100.0*np.sum(pca_comp.explained_variance_ratio_)))\n",
    "health_feature_poly = pca_comp.fit_transform(cat_data_poly)\n",
    "print(\"Explained Variance Ratio for Health Polynomial {}\".format(100.0*np.sum(pca_comp.explained_variance_ratio_)))\n",
    "\n",
    "cat_data_scaled = scaler_x.fit_transform(df_economy.drop(columns=['Per_capita_income']))\n",
    "cat_data_poly = poly.fit_transform(cat_data_scaled)\n",
    "economy_feature = pca_comp.fit_transform(cat_data_scaled)\n",
    "print(\"Explained Variance Ratio for Economy{}\".format(100.0*np.sum(pca_comp.explained_variance_ratio_)))\n",
    "economy_feature_poly = pca_comp.fit_transform(cat_data_poly)\n",
    "print(\"Explained Variance Ratio for Economy Polynomial {}\".format(100.0*np.sum(pca_comp.explained_variance_ratio_)))"
   ]
  },
  {
   "cell_type": "code",
   "execution_count": 53,
   "metadata": {},
   "outputs": [
    {
     "data": {
      "text/html": [
       "<div>\n",
       "<style scoped>\n",
       "    .dataframe tbody tr th:only-of-type {\n",
       "        vertical-align: middle;\n",
       "    }\n",
       "\n",
       "    .dataframe tbody tr th {\n",
       "        vertical-align: top;\n",
       "    }\n",
       "\n",
       "    .dataframe thead th {\n",
       "        text-align: right;\n",
       "    }\n",
       "</style>\n",
       "<table border=\"1\" class=\"dataframe\">\n",
       "  <thead>\n",
       "    <tr style=\"text-align: right;\">\n",
       "      <th></th>\n",
       "      <th>Education1</th>\n",
       "      <th>Education2</th>\n",
       "      <th>Health1</th>\n",
       "      <th>Health2</th>\n",
       "      <th>Security1</th>\n",
       "      <th>Security2</th>\n",
       "      <th>Economy1</th>\n",
       "      <th>Economy2</th>\n",
       "    </tr>\n",
       "  </thead>\n",
       "  <tbody>\n",
       "    <tr>\n",
       "      <td>0</td>\n",
       "      <td>-0.058614</td>\n",
       "      <td>0.518308</td>\n",
       "      <td>0.958057</td>\n",
       "      <td>-0.069199</td>\n",
       "      <td>0.433284</td>\n",
       "      <td>-0.366793</td>\n",
       "      <td>-0.551912</td>\n",
       "      <td>0.078982</td>\n",
       "    </tr>\n",
       "    <tr>\n",
       "      <td>1</td>\n",
       "      <td>0.439150</td>\n",
       "      <td>0.761389</td>\n",
       "      <td>-0.369344</td>\n",
       "      <td>0.009942</td>\n",
       "      <td>0.872818</td>\n",
       "      <td>0.309678</td>\n",
       "      <td>0.216761</td>\n",
       "      <td>0.165305</td>\n",
       "    </tr>\n",
       "    <tr>\n",
       "      <td>2</td>\n",
       "      <td>-0.168710</td>\n",
       "      <td>-0.253282</td>\n",
       "      <td>-0.281465</td>\n",
       "      <td>-0.155203</td>\n",
       "      <td>0.258061</td>\n",
       "      <td>-0.066875</td>\n",
       "      <td>0.053852</td>\n",
       "      <td>-0.145769</td>\n",
       "    </tr>\n",
       "    <tr>\n",
       "      <td>3</td>\n",
       "      <td>-0.366289</td>\n",
       "      <td>0.119031</td>\n",
       "      <td>0.861096</td>\n",
       "      <td>0.143015</td>\n",
       "      <td>0.587030</td>\n",
       "      <td>-0.379195</td>\n",
       "      <td>-0.791009</td>\n",
       "      <td>0.274313</td>\n",
       "    </tr>\n",
       "    <tr>\n",
       "      <td>4</td>\n",
       "      <td>0.191689</td>\n",
       "      <td>-0.042024</td>\n",
       "      <td>-0.569011</td>\n",
       "      <td>-0.347160</td>\n",
       "      <td>0.198335</td>\n",
       "      <td>0.094236</td>\n",
       "      <td>1.508984</td>\n",
       "      <td>0.092013</td>\n",
       "    </tr>\n",
       "  </tbody>\n",
       "</table>\n",
       "</div>"
      ],
      "text/plain": [
       "   Education1  Education2   Health1   Health2  Security1  Security2  Economy1  \\\n",
       "0   -0.058614    0.518308  0.958057 -0.069199   0.433284  -0.366793 -0.551912   \n",
       "1    0.439150    0.761389 -0.369344  0.009942   0.872818   0.309678  0.216761   \n",
       "2   -0.168710   -0.253282 -0.281465 -0.155203   0.258061  -0.066875  0.053852   \n",
       "3   -0.366289    0.119031  0.861096  0.143015   0.587030  -0.379195 -0.791009   \n",
       "4    0.191689   -0.042024 -0.569011 -0.347160   0.198335   0.094236  1.508984   \n",
       "\n",
       "   Economy2  \n",
       "0  0.078982  \n",
       "1  0.165305  \n",
       "2 -0.145769  \n",
       "3  0.274313  \n",
       "4  0.092013  "
      ]
     },
     "execution_count": 53,
     "metadata": {},
     "output_type": "execute_result"
    }
   ],
   "source": [
    "cat_data = pd.DataFrame(data = np.hstack((ed_feature,health_feature,security_feature,economy_feature)),\\\n",
    "                        columns = [\"Education1\",\"Education2\",\"Health1\",\"Health2\",\"Security1\",\"Security2\",\"Economy1\",\"Economy2\"])\n",
    "cat_data.head()"
   ]
  },
  {
   "cell_type": "code",
   "execution_count": 55,
   "metadata": {},
   "outputs": [
    {
     "data": {
      "text/html": [
       "<div>\n",
       "<style scoped>\n",
       "    .dataframe tbody tr th:only-of-type {\n",
       "        vertical-align: middle;\n",
       "    }\n",
       "\n",
       "    .dataframe tbody tr th {\n",
       "        vertical-align: top;\n",
       "    }\n",
       "\n",
       "    .dataframe thead th {\n",
       "        text-align: right;\n",
       "    }\n",
       "</style>\n",
       "<table border=\"1\" class=\"dataframe\">\n",
       "  <thead>\n",
       "    <tr style=\"text-align: right;\">\n",
       "      <th></th>\n",
       "      <th>Education1</th>\n",
       "      <th>Education2</th>\n",
       "      <th>Health1</th>\n",
       "      <th>Health2</th>\n",
       "      <th>Security1</th>\n",
       "      <th>Security2</th>\n",
       "      <th>Economy1</th>\n",
       "      <th>Economy2</th>\n",
       "    </tr>\n",
       "  </thead>\n",
       "  <tbody>\n",
       "    <tr>\n",
       "      <td>0</td>\n",
       "      <td>-0.229575</td>\n",
       "      <td>0.738826</td>\n",
       "      <td>2.031441</td>\n",
       "      <td>-0.253199</td>\n",
       "      <td>0.384528</td>\n",
       "      <td>-0.772236</td>\n",
       "      <td>-0.916601</td>\n",
       "      <td>0.140786</td>\n",
       "    </tr>\n",
       "    <tr>\n",
       "      <td>1</td>\n",
       "      <td>0.303915</td>\n",
       "      <td>1.114270</td>\n",
       "      <td>-0.764564</td>\n",
       "      <td>0.053603</td>\n",
       "      <td>1.909214</td>\n",
       "      <td>-0.452232</td>\n",
       "      <td>0.128979</td>\n",
       "      <td>0.343529</td>\n",
       "    </tr>\n",
       "    <tr>\n",
       "      <td>2</td>\n",
       "      <td>-0.241620</td>\n",
       "      <td>-0.358124</td>\n",
       "      <td>-0.658363</td>\n",
       "      <td>-0.276478</td>\n",
       "      <td>0.244499</td>\n",
       "      <td>-0.254109</td>\n",
       "      <td>-0.187715</td>\n",
       "      <td>-0.223471</td>\n",
       "    </tr>\n",
       "    <tr>\n",
       "      <td>3</td>\n",
       "      <td>-0.516248</td>\n",
       "      <td>0.118484</td>\n",
       "      <td>1.915518</td>\n",
       "      <td>0.230547</td>\n",
       "      <td>0.688669</td>\n",
       "      <td>-1.091436</td>\n",
       "      <td>-1.135626</td>\n",
       "      <td>0.408166</td>\n",
       "    </tr>\n",
       "    <tr>\n",
       "      <td>4</td>\n",
       "      <td>0.204182</td>\n",
       "      <td>0.078507</td>\n",
       "      <td>-1.101718</td>\n",
       "      <td>-0.548636</td>\n",
       "      <td>0.231954</td>\n",
       "      <td>-0.050517</td>\n",
       "      <td>3.328123</td>\n",
       "      <td>0.389112</td>\n",
       "    </tr>\n",
       "  </tbody>\n",
       "</table>\n",
       "</div>"
      ],
      "text/plain": [
       "   Education1  Education2   Health1   Health2  Security1  Security2  Economy1  \\\n",
       "0   -0.229575    0.738826  2.031441 -0.253199   0.384528  -0.772236 -0.916601   \n",
       "1    0.303915    1.114270 -0.764564  0.053603   1.909214  -0.452232  0.128979   \n",
       "2   -0.241620   -0.358124 -0.658363 -0.276478   0.244499  -0.254109 -0.187715   \n",
       "3   -0.516248    0.118484  1.915518  0.230547   0.688669  -1.091436 -1.135626   \n",
       "4    0.204182    0.078507 -1.101718 -0.548636   0.231954  -0.050517  3.328123   \n",
       "\n",
       "   Economy2  \n",
       "0  0.140786  \n",
       "1  0.343529  \n",
       "2 -0.223471  \n",
       "3  0.408166  \n",
       "4  0.389112  "
      ]
     },
     "execution_count": 55,
     "metadata": {},
     "output_type": "execute_result"
    }
   ],
   "source": [
    "cat_data_poly = pd.DataFrame(data = np.hstack((ed_feature_poly,health_feature_poly,security_feature_poly,economy_feature_poly)),\\\n",
    "                        columns = [\"Education1\",\"Education2\",\"Health1\",\"Health2\",\"Security1\",\"Security2\",\"Economy1\",\"Economy2\"])\n",
    "cat_data_poly.head()"
   ]
  },
  {
   "cell_type": "code",
   "execution_count": 56,
   "metadata": {},
   "outputs": [
    {
     "name": "stdout",
     "output_type": "stream",
     "text": [
      "R2 value =  0.9914909833441764 \n"
     ]
    }
   ],
   "source": [
    "X_cat = cat_data.values\n",
    "Y_pred_scaled = cross_val_predict(linReg,X_cat,Y_scaled,cv=5)\n",
    "Y_pred = scaler_y.inverse_transform(Y_pred_scaled)\n",
    "print(\"R2 value =  {} \".format(1 - mean_squared_error(Y_pred,y)/np.std(y)))"
   ]
  },
  {
   "cell_type": "code",
   "execution_count": 57,
   "metadata": {},
   "outputs": [
    {
     "name": "stdout",
     "output_type": "stream",
     "text": [
      "R2 value =  0.9914909833441764\n"
     ]
    }
   ],
   "source": [
    "Y_pred_scaled = cross_val_predict(linRegNorm,X_cat,Y_scaled,cv=5)\n",
    "Y_pred = scaler_y.inverse_transform(Y_pred_scaled)\n",
    "print(\"R2 value =  {}\".format(1 - mean_squared_error(Y_pred,y)/np.std(y)))"
   ]
  },
  {
   "cell_type": "code",
   "execution_count": 58,
   "metadata": {},
   "outputs": [
    {
     "name": "stdout",
     "output_type": "stream",
     "text": [
      "R2 value =  0.9909374765052336\n"
     ]
    }
   ],
   "source": [
    "X_cat_poly = cat_data_poly.values\n",
    "Y_pred_scaled = cross_val_predict(linReg,X_cat_poly,Y_scaled,cv=5)\n",
    "Y_pred = scaler_y.inverse_transform(Y_pred_scaled)\n",
    "print(\"R2 value =  {}\".format(1 - mean_squared_error(Y_pred,y)/np.std(y)))"
   ]
  },
  {
   "cell_type": "code",
   "execution_count": 59,
   "metadata": {},
   "outputs": [
    {
     "name": "stdout",
     "output_type": "stream",
     "text": [
      "R2 value =  0.9909374765052336\n"
     ]
    }
   ],
   "source": [
    "Y_pred_scaled = cross_val_predict(linRegNorm,X_cat_poly,Y_scaled,cv=5)\n",
    "Y_pred = scaler_y.inverse_transform(Y_pred_scaled)\n",
    "print(\"R2 value =  {}\".format(1 - mean_squared_error(Y_pred,y)/np.std(y)))"
   ]
  },
  {
   "cell_type": "code",
   "execution_count": 60,
   "metadata": {},
   "outputs": [
    {
     "name": "stdout",
     "output_type": "stream",
     "text": [
      "R2 value =  0.9944177292213305\n"
     ]
    },
    {
     "name": "stderr",
     "output_type": "stream",
     "text": [
      "/home/harshv834/anaconda3/envs/ada/lib/python3.7/site-packages/sklearn/model_selection/_search.py:814: DeprecationWarning: The default of the `iid` parameter will change from True to False in version 0.22 and will be removed in 0.24. This will change numeric results when test-set sizes are unequal.\n",
      "  DeprecationWarning)\n"
     ]
    }
   ],
   "source": [
    "model_cv = regr_cv.fit(X_cat, Y_scaled)\n",
    "Y_pred_scaled = model_cv.predict(X_cat)\n",
    "Y_pred = scaler_y.inverse_transform(Y_pred_scaled)\n",
    "print(\"R2 value =  {}\".format(1 - mean_squared_error(Y_pred,y)/np.std(y)))"
   ]
  },
  {
   "cell_type": "code",
   "execution_count": 61,
   "metadata": {},
   "outputs": [
    {
     "name": "stdout",
     "output_type": "stream",
     "text": [
      "R2 value =  0.9942961879341193\n"
     ]
    },
    {
     "name": "stderr",
     "output_type": "stream",
     "text": [
      "/home/harshv834/anaconda3/envs/ada/lib/python3.7/site-packages/sklearn/model_selection/_search.py:814: DeprecationWarning: The default of the `iid` parameter will change from True to False in version 0.22 and will be removed in 0.24. This will change numeric results when test-set sizes are unequal.\n",
      "  DeprecationWarning)\n"
     ]
    }
   ],
   "source": [
    "model_cv_norm = regr_cv_norm.fit(X_cat, Y_scaled)\n",
    "Y_pred_scaled = model_cv_norm.predict(X_cat)\n",
    "Y_pred = scaler_y.inverse_transform(Y_pred_scaled)\n",
    "print(\"R2 value =  {}\".format(1 - mean_squared_error(Y_pred,y)/np.std(y)))"
   ]
  },
  {
   "cell_type": "code",
   "execution_count": 62,
   "metadata": {},
   "outputs": [
    {
     "name": "stdout",
     "output_type": "stream",
     "text": [
      "R2 value =  0.9946332388955507\n"
     ]
    },
    {
     "name": "stderr",
     "output_type": "stream",
     "text": [
      "/home/harshv834/anaconda3/envs/ada/lib/python3.7/site-packages/sklearn/model_selection/_search.py:814: DeprecationWarning: The default of the `iid` parameter will change from True to False in version 0.22 and will be removed in 0.24. This will change numeric results when test-set sizes are unequal.\n",
      "  DeprecationWarning)\n"
     ]
    }
   ],
   "source": [
    "model_cv = regr_cv.fit(X_cat_poly, Y_scaled)\n",
    "Y_pred_scaled = model_cv.predict(X_cat_poly)\n",
    "Y_pred = scaler_y.inverse_transform(Y_pred_scaled)\n",
    "print(\"R2 value =  {}\".format(1 - mean_squared_error(Y_pred,y)/np.std(y)))"
   ]
  },
  {
   "cell_type": "code",
   "execution_count": 63,
   "metadata": {},
   "outputs": [
    {
     "name": "stdout",
     "output_type": "stream",
     "text": [
      "R2 value =  0.9947391346097367\n"
     ]
    },
    {
     "name": "stderr",
     "output_type": "stream",
     "text": [
      "/home/harshv834/anaconda3/envs/ada/lib/python3.7/site-packages/sklearn/model_selection/_search.py:814: DeprecationWarning: The default of the `iid` parameter will change from True to False in version 0.22 and will be removed in 0.24. This will change numeric results when test-set sizes are unequal.\n",
      "  DeprecationWarning)\n"
     ]
    }
   ],
   "source": [
    "model_cv_norm = regr_cv_norm.fit(X_cat_poly, Y_scaled)\n",
    "Y_pred_scaled = model_cv_norm.predict(X_cat_poly)\n",
    "Y_pred = scaler_y.inverse_transform(Y_pred_scaled)\n",
    "print(\"R2 value =  {}\".format(1 - mean_squared_error(Y_pred,y)/np.std(y)))"
   ]
  },
  {
   "cell_type": "code",
   "execution_count": 64,
   "metadata": {},
   "outputs": [
    {
     "name": "stdout",
     "output_type": "stream",
     "text": [
      "R2 value =  0.9914904357719951\n"
     ]
    }
   ],
   "source": [
    "parameters = {'kernel' :['rbf','linear','sigmoid','poly'],'C' : np.exp(np.arange(-6,6))}\n",
    "estimator = SVR(gamma = 'auto')\n",
    "clf = GridSearchCV(estimator,parameters,cv = 5,iid=True)\n",
    "clf.fit(X_cat, Y_scaled.reshape(-1,))\n",
    "Y_pred_scaled = clf.predict(X_cat).reshape(-1,1)\n",
    "Y_pred = scaler_y.inverse_transform(Y_pred_scaled)\n",
    "print(\"R2 value =  {}\".format(1 - mean_squared_error(Y_pred,y)/np.std(y)))"
   ]
  },
  {
   "cell_type": "code",
   "execution_count": null,
   "metadata": {},
   "outputs": [],
   "source": []
  }
 ],
 "metadata": {
  "kernelspec": {
   "display_name": "Python 3",
   "language": "python",
   "name": "python3"
  },
  "language_info": {
   "codemirror_mode": {
    "name": "ipython",
    "version": 3
   },
   "file_extension": ".py",
   "mimetype": "text/x-python",
   "name": "python",
   "nbconvert_exporter": "python",
   "pygments_lexer": "ipython3",
   "version": "3.7.3"
  }
 },
 "nbformat": 4,
 "nbformat_minor": 4
}
